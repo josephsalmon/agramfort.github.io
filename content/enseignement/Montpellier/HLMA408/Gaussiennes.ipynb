{
 "cells": [
  {
   "cell_type": "markdown",
   "metadata": {},
   "source": [
    "# Lois gaussiennes et visualisation interactive\n",
    "\n",
    "***\n",
    "> __Auteur__: Joseph Salmon <joseph.salmon@umontpellier.fr>"
   ]
  },
  {
   "cell_type": "code",
   "execution_count": null,
   "metadata": {
    "collapsed": true
   },
   "outputs": [],
   "source": [
    "%matplotlib inline\n",
    "import numpy as np\n",
    "import matplotlib.pyplot as plt\n",
    "import statsmodels.api as sm\n",
    "from scipy.stats import norm\n",
    "from ipywidgets import interact  # widget manipulation\n",
    "import seaborn as sns"
   ]
  },
  {
   "cell_type": "code",
   "execution_count": null,
   "metadata": {
    "collapsed": true
   },
   "outputs": [],
   "source": [
    "sns.set_context(\"paper\", font_scale=1)\n",
    "sns.set_style(\"ticks\")\n",
    "sns.set_palette(\"colorblind\")"
   ]
  },
  {
   "cell_type": "markdown",
   "metadata": {},
   "source": [
    "\n",
    "## Visualisation des densités gaussiennes: impact des paramètres de centrage ($\\mu$) et de dispersion ($\\sigma$)"
   ]
  },
  {
   "cell_type": "code",
   "execution_count": null,
   "metadata": {
    "collapsed": true
   },
   "outputs": [],
   "source": [
    "x = np.linspace(-5, 5, num=400)"
   ]
  },
  {
   "cell_type": "code",
   "execution_count": null,
   "metadata": {
    "collapsed": false
   },
   "outputs": [],
   "source": [
    "\n",
    "def gaussian_mean_and_std(mean=0, std=1):\n",
    "    \"\"\"Visualize the Gaussian quantile\"\"\"\n",
    "    fig, ax1 = plt.subplots(1, 1, figsize=(6, 4))\n",
    "    ax1.plot(x, norm.pdf(x, mean, std), '-', lw=2, label=r\"$\\varphi_{\\mu, \\sigma}$\")\n",
    "    ax1.set_ylim(0, 1)\n",
    "    ax1.set_title(r\"Densité d'une loi gaussienne en fonction des paramètres:\" + \"\\n\" +\n",
    "                  r\" Centrage $\\mu = {0:.2f}$,  Dispersion: $\\sigma = {1:.2f}$\".format(mean, std), fontsize=10)\n",
    "    plt.legend()\n",
    "    plt.show()"
   ]
  },
  {
   "cell_type": "code",
   "execution_count": null,
   "metadata": {
    "collapsed": false
   },
   "outputs": [],
   "source": [
    "interact(gaussian_mean_and_std, mean=(-3., 3., 0.01),std =(0.1, 4, 0.05))"
   ]
  },
  {
   "cell_type": "markdown",
   "metadata": {},
   "source": [
    "## Visualisation des quantiles gaussiens"
   ]
  },
  {
   "cell_type": "code",
   "execution_count": null,
   "metadata": {
    "collapsed": false
   },
   "outputs": [],
   "source": [
    "def gaussian_quantile(alpha=0.9):\n",
    "    \"\"\"Visualize Gaussian quantiles\"\"\"\n",
    "\n",
    "    quantile = norm.ppf(alpha, 0, 1)\n",
    "    fig, ax1 = plt.subplots(1, 1, figsize=(6, 4))\n",
    "    ax1.plot(x, norm.pdf(x, 0, 1), '-', lw=2, label=r\"$\\varphi$\")\n",
    "    ax1.set_ylim(0, 0.5)\n",
    "    ax1.fill_between(x, 0, norm.pdf(x, 0, 1), where=x <= quantile)\n",
    "    plt.axvline(x=quantile, c='k', ls=\"--\", lw=1)\n",
    "    ax1.set_title(r\"Visualisation des quantiles:\" + \"\\n\" +\n",
    "                  r\"Niveau $ \\alpha = {0:.2f},$  Aire = $\\Phi^{{-1}}(\\alpha)={1:.2f}$\".format(alpha, quantile), fontsize=10)\n",
    "    plt.legend()\n",
    "    plt.show()"
   ]
  },
  {
   "cell_type": "code",
   "execution_count": null,
   "metadata": {
    "collapsed": false
   },
   "outputs": [],
   "source": [
    "interact(gaussian_quantile, alpha=(0.001, .999, 0.001))  # change the first and second value to check more quantiles "
   ]
  },
  {
   "cell_type": "code",
   "execution_count": null,
   "metadata": {
    "collapsed": true
   },
   "outputs": [],
   "source": []
  }
 ],
 "metadata": {
  "kernelspec": {
   "display_name": "Python 3",
   "language": "python",
   "name": "python3"
  },
  "language_info": {
   "codemirror_mode": {
    "name": "ipython",
    "version": 3
   },
   "file_extension": ".py",
   "mimetype": "text/x-python",
   "name": "python",
   "nbconvert_exporter": "python",
   "pygments_lexer": "ipython3",
   "version": "3.6.8"
  },
  "widgets": {
   "state": {
    "1fc30fddab6f481381957d6fe4236222": {
     "views": [
      {
       "cell_index": 6
      }
     ]
    },
    "9727ca19beb94ccab9f01532c3639926": {
     "views": [
      {
       "cell_index": 9
      }
     ]
    }
   },
   "version": "1.2.0"
  }
 },
 "nbformat": 4,
 "nbformat_minor": 2
}
