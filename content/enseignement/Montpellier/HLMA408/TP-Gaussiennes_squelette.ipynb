{
 "cells": [
  {
   "cell_type": "markdown",
   "metadata": {},
   "source": [
    "# TP3 - HMLA408: Joseph Salmon"
   ]
  },
  {
   "cell_type": "markdown",
   "metadata": {},
   "source": [
    "## Question: importer la fonction chisquare"
   ]
  },
  {
   "cell_type": "code",
   "execution_count": null,
   "metadata": {
    "collapsed": false
   },
   "outputs": [],
   "source": [
    "import numpy as np\n",
    "import pandas as pd\n",
    "import matplotlib.pylab as plt\n",
    "import seaborn as sns"
   ]
  },
  {
   "cell_type": "code",
   "execution_count": null,
   "metadata": {
    "collapsed": true
   },
   "outputs": [],
   "source": [
    "from scipy.stats import chisquare, norm, shapiro, poisson, chi2, chi2_contingency, ttest_1samp, t, f, ttest_ind,ttest_rel, levene, bartlett\n",
    "from download import download"
   ]
  },
  {
   "cell_type": "code",
   "execution_count": null,
   "metadata": {
    "collapsed": false
   },
   "outputs": [],
   "source": [
    "url = \"http://josephsalmon.eu/enseignement/datasets/michelson.txt\"\n",
    "path_target = \"datasets/michelson.txt\"\n",
    "download(url, path_target, replace=False)"
   ]
  },
  {
   "cell_type": "code",
   "execution_count": null,
   "metadata": {
    "collapsed": false
   },
   "outputs": [],
   "source": [
    "df_michelson = pd.read_csv(???, sep='\\s+') # XXX todo\n",
    "df_michelson.head(n=10)  # df stands for Data Frame"
   ]
  },
  {
   "cell_type": "code",
   "execution_count": null,
   "metadata": {
    "collapsed": false
   },
   "outputs": [],
   "source": [
    "plt.figure()\n",
    "\n",
    "ax = sns.kdeplot # XXX todo\n",
    "plt.xlabel('Speed of light')\n",
    "plt.ylabel('Proportion')\n",
    "ax.legend().set_visible(False)\n",
    "plt.title(\"Mesure de la vitesse de la lumière par Michelson\")"
   ]
  },
  {
   "cell_type": "code",
   "execution_count": null,
   "metadata": {
    "collapsed": false
   },
   "outputs": [],
   "source": [
    "sigma = 105\n",
    "mu = # XXX todo\n",
    "n_samples = # XXX todo"
   ]
  },
  {
   "cell_type": "code",
   "execution_count": null,
   "metadata": {
    "collapsed": true
   },
   "outputs": [],
   "source": [
    "mu0 = 990"
   ]
  },
  {
   "cell_type": "code",
   "execution_count": null,
   "metadata": {
    "collapsed": false
   },
   "outputs": [],
   "source": [
    "# XXX todo pvalues"
   ]
  },
  {
   "cell_type": "code",
   "execution_count": null,
   "metadata": {
    "collapsed": false
   },
   "outputs": [],
   "source": [
    "# XXX todo\n",
    "ttest_1samp?"
   ]
  },
  {
   "cell_type": "code",
   "execution_count": null,
   "metadata": {
    "collapsed": false
   },
   "outputs": [],
   "source": [
    "df_michelson['true-speed'] = df_michelson['speed'] + 299000\n",
    "# XXX todo : deuxième test"
   ]
  },
  {
   "cell_type": "markdown",
   "metadata": {},
   "source": [
    "# IC dans le cas variance \"connue\""
   ]
  },
  {
   "cell_type": "code",
   "execution_count": null,
   "metadata": {
    "collapsed": false
   },
   "outputs": [],
   "source": [
    "alpha = 0.05\n",
    "IC = np.array([mu - norm.ppf(1-alpha/2) * (sigma / np.sqrt(n_samples)),\n",
    "               mu + norm.ppf(1-alpha/2) * (sigma / np.sqrt(n_samples))])"
   ]
  },
  {
   "cell_type": "code",
   "execution_count": null,
   "metadata": {
    "collapsed": false
   },
   "outputs": [],
   "source": [
    "IC"
   ]
  },
  {
   "cell_type": "code",
   "execution_count": null,
   "metadata": {
    "collapsed": false
   },
   "outputs": [],
   "source": [
    "alpha = 0.1\n",
    "# XXX todo"
   ]
  },
  {
   "cell_type": "code",
   "execution_count": null,
   "metadata": {
    "collapsed": false
   },
   "outputs": [],
   "source": [
    "IC"
   ]
  },
  {
   "cell_type": "markdown",
   "metadata": {},
   "source": [
    "# IC dans le cas variance \"inconnue\""
   ]
  },
  {
   "cell_type": "code",
   "execution_count": null,
   "metadata": {
    "collapsed": false
   },
   "outputs": [],
   "source": [
    "alpha = 0.05\n"
   ]
  },
  {
   "cell_type": "code",
   "execution_count": null,
   "metadata": {
    "collapsed": false
   },
   "outputs": [],
   "source": [
    "alpha = 0.10"
   ]
  },
  {
   "cell_type": "markdown",
   "metadata": {},
   "source": [
    "# Brochets et concentration de polluants"
   ]
  },
  {
   "cell_type": "code",
   "execution_count": null,
   "metadata": {
    "collapsed": false
   },
   "outputs": [],
   "source": [
    "from download import download\n",
    "url = \"http://josephsalmon.eu/enseignement/datasets/brochet2.dat\"\n",
    "path_target = \"datasets/brochet2.dat\"\n",
    "download(url, path_target, replace=False)"
   ]
  },
  {
   "cell_type": "code",
   "execution_count": null,
   "metadata": {
    "collapsed": false
   },
   "outputs": [],
   "source": [
    "df_brochets = pd.read_csv  # XXX todo"
   ]
  },
  {
   "cell_type": "code",
   "execution_count": null,
   "metadata": {
    "collapsed": false
   },
   "outputs": [],
   "source": [
    "df_brochets['age'] = df_brochets['age'].replace(\"deux_ans\", 2)\n",
    "df_brochets['age'] = df_brochets['age'].replace(\"trois_ans\", 3)"
   ]
  },
  {
   "cell_type": "code",
   "execution_count": null,
   "metadata": {
    "collapsed": false
   },
   "outputs": [],
   "source": [
    "df_brochets.head()"
   ]
  },
  {
   "cell_type": "code",
   "execution_count": null,
   "metadata": {
    "collapsed": false
   },
   "outputs": [],
   "source": [
    "plt.figure()\n",
    "sns.violinplot #XXX todo\n",
    "plt.title(\"Concentrations \")"
   ]
  },
  {
   "cell_type": "code",
   "execution_count": null,
   "metadata": {
    "collapsed": false
   },
   "outputs": [],
   "source": [
    "plt.figure()\n",
    "sns.violinplot(# XXX todo,\n",
    "               data=df_brochets, orient='v')\n",
    "plt.legend(loc='upper left')"
   ]
  },
  {
   "cell_type": "code",
   "execution_count": null,
   "metadata": {
    "collapsed": false
   },
   "outputs": [],
   "source": [
    "X2 = df_brochets.query('age==2')['conc']\n",
    "X3 = df_brochets.query('age==3')['conc']"
   ]
  },
  {
   "cell_type": "code",
   "execution_count": null,
   "metadata": {
    "collapsed": false
   },
   "outputs": [],
   "source": [
    "ttest_ind?"
   ]
  },
  {
   "cell_type": "code",
   "execution_count": null,
   "metadata": {
    "collapsed": false
   },
   "outputs": [],
   "source": []
  },
  {
   "cell_type": "code",
   "execution_count": null,
   "metadata": {
    "collapsed": false
   },
   "outputs": [],
   "source": [
    "fdistribution = f(len(X2) - 1, len(X3) - 1)  # build an F-distribution object\n",
    "fstatistics = np.var(X2, ddof=1) / np.var(X3, ddof=1)\n",
    "p_value = 2 * min(fdistribution.cdf(fstatistics),\n",
    "                  1 - fdistribution.cdf(fstatistics))\n",
    "p_value"
   ]
  },
  {
   "cell_type": "code",
   "execution_count": null,
   "metadata": {
    "collapsed": false
   },
   "outputs": [],
   "source": [
    "ttest_ind # XXX todo"
   ]
  },
  {
   "cell_type": "markdown",
   "metadata": {},
   "source": [
    "# Pollution en Occitanie\n",
    "Mesures de pollution prise entre le 2017-10-18 et le 2018-10-07 sur différentes villes d'Occitanie.\n",
    "Plus d'information disponible sur le site:\n",
    "http://data-atmo-occitanie.opendata.arcgis.com/datasets/047b4d01a64943cb8a648aaf9b58307b_0\n",
    "d'où ces données sont extraites."
   ]
  },
  {
   "cell_type": "code",
   "execution_count": null,
   "metadata": {
    "collapsed": false
   },
   "outputs": [],
   "source": [
    "url = \"http://josephsalmon.eu/enseignement/datasets/Mesure_journaliere_Region_Occitanie_Polluants_Principaux.csv\"\n",
    "path_target = \"datasets/Mesure_journaliere_Region_Occitanie_Polluants_Principaux.csv\"\n",
    "download(url, path_target, replace=False)\n",
    "df_pol_occ = pd.read_csv(path_target).sort_values('nom_com', axis=0, ascending=True)\n",
    "df_pol_occ.head(5)"
   ]
  },
  {
   "cell_type": "code",
   "execution_count": null,
   "metadata": {
    "collapsed": false
   },
   "outputs": [],
   "source": []
  },
  {
   "cell_type": "code",
   "execution_count": null,
   "metadata": {
    "collapsed": false
   },
   "outputs": [],
   "source": [
    "df_pol_occ['polluant'].unique()  # polluants"
   ]
  },
  {
   "cell_type": "code",
   "execution_count": null,
   "metadata": {
    "collapsed": false
   },
   "outputs": [],
   "source": [
    "df_pol_occ['nom_com'].unique()  # villes"
   ]
  },
  {
   "cell_type": "code",
   "execution_count": null,
   "metadata": {
    "collapsed": false
   },
   "outputs": [],
   "source": [
    "polluants = ['O3', 'NO2', 'PM10', 'PM2.5']\n",
    "\n",
    "fig, axes = plt.subplots(2, 2, figsize=(10, 10))\n",
    "df_pol_occ = df_pol_occ.rename(columns={'nom_com': 'Ville'})\n",
    "for i, polluant in enumerate(polluants):\n",
    "    querry = \"(Ville=='TOULOUSE' or Ville=='MONTPELLIER') and \" + \\\n",
    "        \"polluant=='{}'\".format(polluant)\n",
    "    df_polluant = df_pol_occ.query(querry)[['Ville', 'valeur_originale']]\n",
    "    plt.title(polluant)\n",
    "    ax = axes.reshape(-1)[i]\n",
    "    sns.violinplot(x= #XXX todo,\n",
    "                   y= #XXX todo,\n",
    "                   data=df_polluant, orient='v', cut=0, ax=ax)\n",
    "    ax.set_title(polluant)\n",
    "    ax.set_ylabel('Concentration (μg/m³)')\n",
    "plt.tight_layout()\n",
    "plt.subplots_adjust(top=0.9)\n",
    "fig.suptitle(\"Pollution en Occitanie (2017-10-18 / 2018-10-07)\", fontsize=16)\n",
    "fig.savefig(\"../srcimages/pollution_occitanie.svg\")"
   ]
  },
  {
   "cell_type": "code",
   "execution_count": null,
   "metadata": {
    "collapsed": false
   },
   "outputs": [],
   "source": [
    "for polluant in polluants:\n",
    "    querry = \"(Ville=='TOULOUSE' or Ville=='MONTPELLIER') and \" + \\\n",
    "        \"polluant=='{}'\".format(polluant)\n",
    "    df_polluant = df_pol_occ.query(querry)[['Ville', 'valeur_originale']]\n",
    " \n",
    "    X_Mtpl = df_polluant.query(\"Ville=='MONTPELLIER'\")['valeur_originale']\n",
    "    X_Tlse = df_polluant.query(\"Ville=='TOULOUSE'\")['valeur_originale']\n",
    "\n",
    "    stat, p_val = ttest_ind # XXX Todo \n",
    "    \n",
    "    print(\"Polluant: {0} \\n stat={1}; pvalue={2}\".format(polluant,stat, p_val))"
   ]
  },
  {
   "cell_type": "markdown",
   "metadata": {},
   "source": [
    "# Comparaison d'échantillon appariés"
   ]
  },
  {
   "cell_type": "markdown",
   "metadata": {},
   "source": [
    "## Cas des filtres à eau"
   ]
  },
  {
   "cell_type": "code",
   "execution_count": null,
   "metadata": {
    "collapsed": true
   },
   "outputs": [],
   "source": [
    "ttest_rel?"
   ]
  },
  {
   "cell_type": "code",
   "execution_count": null,
   "metadata": {
    "collapsed": false
   },
   "outputs": [],
   "source": [
    "url = \"http://josephsalmon.eu/enseignement/datasets/filtre.dat\"\n",
    "path_target = \"datasets/filtre.dat\"\n",
    "#XXX todo download\n",
    "df_filtre = pd.read_csv # XXX todo"
   ]
  },
  {
   "cell_type": "code",
   "execution_count": null,
   "metadata": {
    "collapsed": false
   },
   "outputs": [],
   "source": []
  },
  {
   "cell_type": "code",
   "execution_count": null,
   "metadata": {
    "collapsed": false
   },
   "outputs": [],
   "source": [
    "plt.figure()\n",
    "ax = sns.kdeplot(#XXX to do,\n",
    "                 shade=True)\n",
    "plt.xlabel('Différences des prélévements')\n",
    "plt.ylabel('Proportion')\n",
    "ax.legend().set_visible(False)\n",
    "plt.title('Différences entre prélévements entre \"verre\" et \"papier\" (mg)')"
   ]
  },
  {
   "cell_type": "code",
   "execution_count": null,
   "metadata": {
    "collapsed": false
   },
   "outputs": [],
   "source": []
  },
  {
   "cell_type": "code",
   "execution_count": null,
   "metadata": {
    "collapsed": false
   },
   "outputs": [],
   "source": [
    "ttest_rel"
   ]
  },
  {
   "cell_type": "markdown",
   "metadata": {},
   "source": [
    "## Cas de la mesure des arbres: avant / après abattage"
   ]
  },
  {
   "cell_type": "code",
   "execution_count": null,
   "metadata": {
    "collapsed": false
   },
   "outputs": [],
   "source": [
    "url = \"http://josephsalmon.eu/enseignement/datasets/tailles_arbres.csv\"\n",
    "path_target = \"datasets/tailles_arbres.csv\"\n",
    "#XXX todo\n",
    "df_arbres = pd.read_csv #XXX todo"
   ]
  }
 ],
 "metadata": {
  "kernelspec": {
   "display_name": "Python 3",
   "language": "python",
   "name": "python3"
  },
  "language_info": {
   "codemirror_mode": {
    "name": "ipython",
    "version": 3
   },
   "file_extension": ".py",
   "mimetype": "text/x-python",
   "name": "python",
   "nbconvert_exporter": "python",
   "pygments_lexer": "ipython3",
   "version": "3.6.8"
  }
 },
 "nbformat": 4,
 "nbformat_minor": 2
}
