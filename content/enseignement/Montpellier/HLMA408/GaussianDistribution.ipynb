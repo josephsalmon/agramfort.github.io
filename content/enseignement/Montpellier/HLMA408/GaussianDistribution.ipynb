{
 "cells": [
  {
   "cell_type": "markdown",
   "metadata": {},
   "source": [
    "# HLMA 408: Lois gaussiennes et visualisation interactive\n",
    "\n",
    "***\n",
    "> __Auteur__: Joseph Salmon <joseph.salmon@umontpellier.fr>"
   ]
  },
  {
   "cell_type": "code",
   "execution_count": 1,
   "metadata": {},
   "outputs": [],
   "source": [
    "%matplotlib inline\n",
    "import numpy as np\n",
    "import matplotlib.pyplot as plt\n",
    "import statsmodels.api as sm\n",
    "from scipy.stats import norm, multivariate_normal\n",
    "from ipywidgets import interact  # widget manipulation\n",
    "import seaborn as sns\n",
    "import pandas as pd\n",
    "from mpl_toolkits.mplot3d import Axes3D  # pour activer la 3D"
   ]
  },
  {
   "cell_type": "code",
   "execution_count": 2,
   "metadata": {},
   "outputs": [],
   "source": [
    "sns.set_context(\"paper\", font_scale=1)\n",
    "sns.set_style(\"ticks\")\n",
    "sns.set_palette(\"colorblind\")"
   ]
  },
  {
   "cell_type": "markdown",
   "metadata": {},
   "source": [
    "**Attention** : décommenter la partie LaTeX ci-dessous, si vous n'avez pas LaTeX sur votre système"
   ]
  },
  {
   "cell_type": "code",
   "execution_count": 3,
   "metadata": {},
   "outputs": [],
   "source": [
    "Eleve = False  # à changer en True pour un étudiant\n",
    "\n",
    "title_font = {'size': '16'}\n",
    "axis_font = {'size': '14'}\n",
    "\n",
    "if not Eleve:\n",
    "    from matplotlib import rc\n",
    "    rc('text', usetex=True)\n",
    "    font = {'family': 'sans-serif'}\n",
    "    rc('font', **font)\n",
    "    saving = True\n",
    "    from download import download\n",
    "else:\n",
    "    saving = False"
   ]
  },
  {
   "cell_type": "code",
   "execution_count": 4,
   "metadata": {},
   "outputs": [],
   "source": [
    "dirname = \"../prebuiltimages/\"\n",
    "imageformat = \".pdf\""
   ]
  },
  {
   "cell_type": "code",
   "execution_count": 5,
   "metadata": {},
   "outputs": [
    {
     "name": "stdout",
     "output_type": "stream",
     "text": [
      "Replace is False and data exists, so doing nothing. Use replace==True to re-download the data.\n"
     ]
    }
   ],
   "source": [
    "# %pip install download\n",
    "\n",
    "# si download n'est pas installé décommenter la ligne du dessus, ou télécharger le fichier à la main\n",
    "from download import download\n",
    "path_target = \"./utils.py\"\n",
    "url_shared_files = \"http://josephsalmon.eu/enseignement/Montpellier/HLMA408/sharedcode/utils.py\"\n",
    "download(url_shared_files, path_target, replace=False)\n",
    "from utils import my_saving_display"
   ]
  },
  {
   "cell_type": "markdown",
   "metadata": {},
   "source": [
    "\n",
    "## Visualisation des densités gaussiennes: impact des paramètres de centrage ($\\mu$) et de dispersion ($\\sigma$)"
   ]
  },
  {
   "cell_type": "code",
   "execution_count": 6,
   "metadata": {},
   "outputs": [],
   "source": [
    "x = np.linspace(-5, 5, num=400)"
   ]
  },
  {
   "cell_type": "code",
   "execution_count": 14,
   "metadata": {},
   "outputs": [],
   "source": [
    "def gaussian_mean_and_std(mean=0, std=1):\n",
    "    \"\"\"Visualize the Gaussian quantile\"\"\"\n",
    "    fig, ax1 = plt.subplots(1, 1, figsize=(6, 4))\n",
    "    ax1.plot(x, norm.pdf(x, mean, std), '-', lw=2,\n",
    "             label=r\"$\\varphi_{\\mu, \\sigma}$\")\n",
    "    ax1.set_ylim(0, 1)\n",
    "    ax1.set_title(r\"Densité d'une loi gaussienne en fonction des paramètres:\" + \"\\n\" +\n",
    "                  r\" Centrage $\\mu = {0:.2f}$,  Dispersion: $\\sigma = {1:.2f}$\".format(mean, std), **title_font)\n",
    "    plt.legend()\n",
    "    plt.show()"
   ]
  },
  {
   "cell_type": "code",
   "execution_count": 15,
   "metadata": {},
   "outputs": [
    {
     "data": {
      "application/vnd.jupyter.widget-view+json": {
       "model_id": "6bff06e6f9ab489b94b7d0fb620f6e4a",
       "version_major": 2,
       "version_minor": 0
      },
      "text/plain": [
       "interactive(children=(FloatSlider(value=0.0, description='mean', max=3.0, min=-3.0, step=0.01), Output()), _do…"
      ]
     },
     "metadata": {},
     "output_type": "display_data"
    },
    {
     "data": {
      "text/plain": [
       "<function __main__.gaussian_mean_and_std(mean=0)>"
      ]
     },
     "execution_count": 15,
     "metadata": {},
     "output_type": "execute_result"
    }
   ],
   "source": [
    "interact(gaussian_mean_and_std, mean=(-3., 3., 0.01), std=(0.1, 4, 0.05))"
   ]
  },
  {
   "cell_type": "markdown",
   "metadata": {},
   "source": [
    "# Visualisation de la fonction de répartition gaussienne"
   ]
  },
  {
   "cell_type": "code",
   "execution_count": null,
   "metadata": {},
   "outputs": [],
   "source": [
    "val = 1\n",
    "fig, ax1 = plt.subplots(1, 1, figsize=(6, 4))\n",
    "ax1.plot(x, norm.pdf(x, 0, 1), '-', lw=2, label=r\"$\\varphi$\")\n",
    "ax1.set_ylim(0, 0.5)\n",
    "ax1.fill_between(x, 0, norm.pdf(x, 0, 1), where=x <= val, alpha=0.25)\n",
    "plt.axvline(x=val, c='k', ls=\"--\", lw=2)\n",
    "ax1.text(0.45, 0.25, r'$\\Phi(z)$', transform=ax1.transAxes, fontsize=19)\n",
    "ax1.text(0.60, -0.12, r'$z$', transform=ax1.transAxes, fontsize=19)\n",
    "\n",
    "plt.legend(prop={'size': 16})\n",
    "plt.show()\n",
    "my_saving_display(fig, dirname, \"Gaussian_CDF\",\n",
    "                  imageformat, saving=saving)"
   ]
  },
  {
   "cell_type": "markdown",
   "metadata": {},
   "source": [
    "## Visualisation des quantiles gaussiens"
   ]
  },
  {
   "cell_type": "code",
   "execution_count": null,
   "metadata": {},
   "outputs": [],
   "source": [
    "def gaussian_quantile(alpha=0.9, saving=False):\n",
    "    \"\"\"Visualisation des quantiles gaussiens.\"\"\"\n",
    "\n",
    "    val = norm.ppf(alpha, 0, 1)\n",
    "    fig, ax1 = plt.subplots(1, 1, figsize=(6, 4))\n",
    "    ax1.plot(x, norm.pdf(x, 0, 1), '-', lw=2, label=r\"$\\varphi$\")\n",
    "    ax1.set_ylim(0, 0.5)\n",
    "    ax1.fill_between(x, 0, norm.pdf(x, 0, 1), where=x <= val, alpha=0.25)\n",
    "    plt.axvline(x=val, c='k', ls=\"--\", lw=2)\n",
    "    ax1.set_title(r\"Visualisation des quantiles:\" + \"\\n\" +\n",
    "                  r\"Aire $ \\alpha = {0:.2f},$  seuil = $\\Phi^{{-1}}(\\alpha)={1:.2f}$\".format(alpha, val), **title_font)\n",
    "    plt.legend(prop={'size': 16})\n",
    "    plt.show()\n",
    "    my_saving_display(fig, dirname, \"VisGaussianCDF_bis\",\n",
    "                      imageformat, saving=saving)"
   ]
  },
  {
   "cell_type": "code",
   "execution_count": null,
   "metadata": {},
   "outputs": [],
   "source": [
    "gaussian_quantile(alpha=norm.cdf(0.82, 0, 1), saving=True)"
   ]
  },
  {
   "cell_type": "code",
   "execution_count": null,
   "metadata": {},
   "outputs": [],
   "source": [
    "interact(gaussian_quantile, alpha=(0.01, .99, 0.01))"
   ]
  },
  {
   "cell_type": "markdown",
   "metadata": {},
   "source": [
    "## Figures pour les slides du cours"
   ]
  },
  {
   "cell_type": "code",
   "execution_count": null,
   "metadata": {},
   "outputs": [],
   "source": [
    "x = np.linspace(-5, 5, 300)\n",
    "\n",
    "fig, ax1 = plt.subplots(1, 1)\n",
    "ax1.plot(x, norm.pdf(x, 0, 1), '-', lw=2, label=r\"$\\varphi$\")\n",
    "ax1.set_ylim(0, 0.5)\n",
    "ax1.fill_between(x, 0, norm.pdf(x, 0, 1), where=x <= 0, alpha=0.25)\n",
    "plt.axvline(x=0, c='k', ls=\"--\", lw=2)\n",
    "plt.title(\"$\\Phi(0)=1/2$\", **title_font)\n",
    "plt.legend(prop={'size': 16})\n",
    "\n",
    "my_saving_display(fig, dirname, \"Gaussian_phi0\", imageformat, saving=saving)"
   ]
  },
  {
   "cell_type": "code",
   "execution_count": null,
   "metadata": {},
   "outputs": [],
   "source": [
    "x = np.linspace(-5, 5, 300)\n",
    "\n",
    "lim = 1\n",
    "fig, ax1 = plt.subplots(1, 1)\n",
    "ax1.plot(x, norm.pdf(x, 0, 1), '-', lw=2, label=r\"$\\varphi$\")\n",
    "ax1.set_ylim(0, 0.5)\n",
    "ax1.fill_between(x, 0, norm.pdf(x, 0, 1), where=x <= -\n",
    "                 lim, color=sns.color_palette()[0], alpha=0.25)\n",
    "ax1.fill_between(x, 0, norm.pdf(x, 0, 1), where=x >=\n",
    "                 lim, color=sns.color_palette()[0], alpha=0.25)\n",
    "plt.title(\"$\\Phi(-x)=1-\\Phi(x)$\", **title_font)\n",
    "plt.legend(prop={'size': 16})\n",
    "\n",
    "my_saving_display(fig, dirname, \"Gaussian_phi_moins_x\",\n",
    "                  imageformat, saving=saving)"
   ]
  },
  {
   "cell_type": "code",
   "execution_count": null,
   "metadata": {},
   "outputs": [],
   "source": [
    "norm.cdf(1, 0, 1)-norm.cdf(-1, 0, 1)"
   ]
  },
  {
   "cell_type": "code",
   "execution_count": null,
   "metadata": {},
   "outputs": [],
   "source": [
    "2 * norm.cdf(1, 0, 1)-1"
   ]
  },
  {
   "cell_type": "code",
   "execution_count": null,
   "metadata": {},
   "outputs": [],
   "source": [
    "2 * norm.cdf(2, 0, 1)-1"
   ]
  },
  {
   "cell_type": "markdown",
   "metadata": {
    "collapsed": true
   },
   "source": [
    "### Histogramme et densité gaussienne : théorème de la limite centrale et données réelles"
   ]
  },
  {
   "cell_type": "code",
   "execution_count": null,
   "metadata": {},
   "outputs": [],
   "source": []
  },
  {
   "cell_type": "code",
   "execution_count": null,
   "metadata": {},
   "outputs": [],
   "source": [
    "url = \"http://josephsalmon.eu/enseignement/datasets/babies23.data\"\n",
    "# url = \"http://www.stat.berkeley.edu/users/statlabs/data/babies23.data\"  # backup url, without header.\n",
    "path_target = \"./babies23.data\"\n",
    "download(url, path_target, replace=False)"
   ]
  },
  {
   "cell_type": "code",
   "execution_count": null,
   "metadata": {},
   "outputs": [],
   "source": [
    "# le fichier peut être télécharger ici:\n",
    "# http://josephsalmon.eu/enseignement/datasets/babies23.data\n",
    "# et mis dans le repertoire de votre notebook\n",
    "pd.set_option('precision', 3)  # set to display number at precision 0 in pandas\n",
    "df_babies = pd.read_csv(\"babies23.data\", skiprows=38,\n",
    "                        sep='\\s+')  # \\s+ : for hanlding spaces\n",
    "df_babies.head(n=10)  # df stands for Data Frame"
   ]
  },
  {
   "cell_type": "code",
   "execution_count": null,
   "metadata": {},
   "outputs": [],
   "source": [
    "is_preprocessing_done = 0  # init at 0,if greater don't redo it"
   ]
  },
  {
   "cell_type": "code",
   "execution_count": null,
   "metadata": {},
   "outputs": [],
   "source": [
    "if is_preprocessing_done < 1:\n",
    "    print(\"You have to do the pre-processing only once, to avoid unit issues\")\n",
    "\n",
    "    # Gérer les valeurs manquantes (voir entête de babies23.data pour les détails)\n",
    "\n",
    "    # Unknown gestation duration\n",
    "    df_babies['gestation'].replace(999, np.nan, inplace=True)\n",
    "    # Unknown smoking status of the mother\n",
    "    df_babies['smoke'].replace(9, np.nan, inplace=True)\n",
    "    # Mother's height\n",
    "    df_babies['ht'].replace(99, np.nan, inplace=True)\n",
    "    # Father's height\n",
    "    df_babies['dht'].replace(99, np.nan, inplace=True)\n",
    "    # Father's weight\n",
    "    df_babies['dwt'].replace(999, np.nan, inplace=True)\n",
    "    # Mother's weight\n",
    "    df_babies['wt.1'].replace(999, np.nan, inplace=True)\n",
    "    # Baby's weight\n",
    "    df_babies['wt'].replace(999, np.nan, inplace=True)\n",
    "    # Tabaco consumption\n",
    "    df_babies['number'].replace(9, np.nan, inplace=True)\n",
    "    df_babies['number'].replace(98, np.nan, inplace=True)\n",
    "    df_babies['number'].replace(99, np.nan, inplace=True)\n",
    "\n",
    "    # Remove all missing values\n",
    "    df_babies.dropna(inplace=True)\n",
    "\n",
    "    # US researchers use stupid non international units...\n",
    "    df_babies['wt'] = df_babies['wt'] * 0.0283495  # onces -> kg\n",
    "    df_babies['wt.1'] = df_babies['wt.1'] * 0.453592  # pounds -> kg\n",
    "    df_babies['dwt'] = df_babies['dwt'] * 0.453592  # pounds -> kg\n",
    "    df_babies['ht'] = df_babies['ht'] * 2.54  # inches -> cm\n",
    "    df_babies['dht'] = df_babies['dht'] * 2.54  # inches -> cm\n",
    "\n",
    "    # Tabaco consumption: change irrelevant numbers by relevant numbers\n",
    "\n",
    "    df_babies['number'].replace(1, 2.5, inplace=True)\n",
    "    df_babies['number'].replace(3, 12, inplace=True)\n",
    "    df_babies['number'].replace(4, 17, inplace=True)\n",
    "    df_babies['number'].replace(5, 24.5, inplace=True)\n",
    "    df_babies['number'].replace(6, 34.5, inplace=True)\n",
    "    df_babies['number'].replace(7, 50, inplace=True)\n",
    "    df_babies['number'].replace(8, 70, inplace=True)\n",
    "    df_babies['number'].replace(2, 7, inplace=True)\n",
    "\n",
    "    print(\"This is done only because {} < 1\".format(is_preprocessing_done))\n",
    "    is_preprocessing_done += 1"
   ]
  },
  {
   "cell_type": "code",
   "execution_count": null,
   "metadata": {},
   "outputs": [],
   "source": [
    "mean = np.mean(df_babies['ht'])\n",
    "sd = np.std(df_babies['ht'])\n",
    "print(\"Moyenne={0} (cm) et écart-type={1} (cm)\".format(mean, sd))"
   ]
  },
  {
   "cell_type": "code",
   "execution_count": null,
   "metadata": {},
   "outputs": [],
   "source": [
    "mean"
   ]
  },
  {
   "cell_type": "code",
   "execution_count": null,
   "metadata": {},
   "outputs": [],
   "source": [
    "fig_hist_height, axs = plt.subplots(1, 1, figsize=(6, 4))\n",
    "\n",
    "plt.hist((df_babies['ht'] - np.mean(df_babies['ht']))/sd,\n",
    "         density=True, bins=19, alpha=0.25)  # standardisation\n",
    "x = np.linspace(-4, 4, 100)\n",
    "plt.xlabel('Taille de la mère standardisée', **axis_font)\n",
    "plt.ylabel('Densité', **axis_font)\n",
    "plt.title(\"Histogramme de la taille des mères\", **title_font)\n",
    "axs.set_xlim(-4, 4)\n",
    "\n",
    "plt.plot(x, norm.pdf(x, 0, 1), 'k-', lw=3)\n",
    "my_saving_display(fig_hist_height, dirname,\n",
    "                  \"hist_n_gauss_height_mother\", imageformat, saving=saving)"
   ]
  },
  {
   "cell_type": "markdown",
   "metadata": {},
   "source": [
    "## <font color='red'> EXERCICE : Histogramme vs. KDE. </font>\n",
    "Compare l'impact des deux representations. En particulier, discuter les problèmes des histogrammes avec la discrétisation."
   ]
  },
  {
   "cell_type": "code",
   "execution_count": null,
   "metadata": {},
   "outputs": [],
   "source": [
    "def kde_explore(bw=5):\n",
    "\n",
    "    fig, ax = plt.subplots(1, 1, figsize=(10, 5))\n",
    "\n",
    "    # KDE = Kernel Density Estimate\n",
    "    ax = sns.kdeplot(df_babies['ht'], bw=bw, shade=True)\n",
    "    plt.xlabel('Taille de la mère (en cm)', **axis_font)\n",
    "    plt.ylabel('Proportion', **axis_font)\n",
    "    plt.title(\"Densité de la taille des mères\", **title_font)\n",
    "    ax.get_legend().remove()\n",
    "    ax.set_xlim(130, 200)\n",
    "    ax.set_ylim(0, 0.11)"
   ]
  },
  {
   "cell_type": "code",
   "execution_count": null,
   "metadata": {},
   "outputs": [],
   "source": []
  },
  {
   "cell_type": "code",
   "execution_count": null,
   "metadata": {},
   "outputs": [],
   "source": [
    "# Change the first and second value to check more quantiles\n",
    "interact(kde_explore, bw=(0.001, 10, 0.1))"
   ]
  },
  {
   "cell_type": "code",
   "execution_count": null,
   "metadata": {},
   "outputs": [],
   "source": [
    "def hist_explore(n_bins=24):\n",
    "\n",
    "    fig, ax = plt.subplots(1, 1, figsize=(10, 5))\n",
    "    ax.hist(df_babies['ht'], density=True,\n",
    "            bins=n_bins, alpha=0.25)  # standardization\n",
    "    plt.xlabel('Taille de la mère (en cm)', **axis_font)\n",
    "    plt.ylabel('Proportion', **axis_font)\n",
    "    plt.title(\"Densité de la taille des mères\", **title_font)\n",
    "    ax.set_xlim(130, 200)\n",
    "    ax.set_ylim(0, 0.11)"
   ]
  },
  {
   "cell_type": "code",
   "execution_count": null,
   "metadata": {},
   "outputs": [],
   "source": [
    "interact(hist_explore, n_bins=(1, 30, 1))  # change the first and second value to check more quantiles "
   ]
  },
  {
   "cell_type": "markdown",
   "metadata": {
    "slideshow": {
     "slide_type": "slide"
    }
   },
   "source": [
    "Inspection des valeurs de la série:"
   ]
  },
  {
   "cell_type": "code",
   "execution_count": null,
   "metadata": {},
   "outputs": [],
   "source": [
    "np.sort(df_babies['ht'].unique())"
   ]
  },
  {
   "cell_type": "code",
   "execution_count": null,
   "metadata": {},
   "outputs": [],
   "source": [
    "np.diff(np.sort(df_babies['ht'].unique()))  "
   ]
  },
  {
   "cell_type": "markdown",
   "metadata": {},
   "source": [
    "C'est l'effet de la discretisation: les américains ont noté les tailles de 2.54 cm en 2.54cm (unité?)"
   ]
  },
  {
   "cell_type": "markdown",
   "metadata": {},
   "source": [
    "## Gaussiennes 2D"
   ]
  },
  {
   "cell_type": "code",
   "execution_count": null,
   "metadata": {},
   "outputs": [],
   "source": [
    "def covmat_to_scalar(sigma):\n",
    "    \"\"\"Convert covariance matrix to scalars.\"\"\"\n",
    "    sigmax = np.sqrt(sigma[0, 0])\n",
    "    sigmay = np.sqrt(sigma[1, 1])\n",
    "    sigmaxy = sigma[1, 0]\n",
    "    return sigmax, sigmay, sigmaxy\n",
    "\n",
    "\n",
    "def angle_scalar_to_covmat(theta, sig1, sig2):\n",
    "    \"\"\"Inverse function of the previous one.\"\"\"\n",
    "    rotation = np.zeros((2, 2))\n",
    "    rotation[0, 0] = np.cos(theta)\n",
    "    rotation[1, 0] = np.sin(theta)\n",
    "    rotation[0, 1] = -np.sin(theta)\n",
    "    rotation[1, 1] = np.cos(theta)\n",
    "    sigma = rotation.dot(np.diag([sig1 ** 2, sig2 ** 2])).dot(rotation.T)\n",
    "    return sigma"
   ]
  },
  {
   "cell_type": "code",
   "execution_count": null,
   "metadata": {},
   "outputs": [],
   "source": [
    "step = 200\n",
    "mean_1 = [0, 0]\n",
    "sig1 = np.sqrt(3)\n",
    "xrange = 10\n",
    "xx = np.linspace(-xrange, xrange, step)\n",
    "yy = xx\n",
    "Xg, Yg = np.meshgrid(xx, yy)"
   ]
  },
  {
   "cell_type": "markdown",
   "metadata": {},
   "source": [
    "### Cas isotrope"
   ]
  },
  {
   "cell_type": "code",
   "execution_count": null,
   "metadata": {},
   "outputs": [],
   "source": [
    "sig = angle_scalar_to_covmat(0, sig1, sig1)\n",
    "rv = multivariate_normal([mean_1[0], mean_1[1]], sig)\n",
    "\n",
    "pos = np.empty(Xg.shape + (2,))\n",
    "pos[:, :, 0] = Xg; pos[:, :, 1] = Yg\n",
    "Z2_bis = rv.pdf(pos) \n",
    "\n",
    "fig1 = plt.figure(dpi=90)\n",
    "ax = fig1.add_subplot(111, projection='3d')\n",
    "ax.plot_surface(Xg, Yg, Z2_bis, cmap='Oranges', rstride=3, cstride=3,\n",
    "                alpha=0.95, lw=0.5, edgecolors='k')\n",
    "\n",
    "ax.set_xticks(np.arange(-xrange, xrange+1,5))\n",
    "ax.set_yticks(np.arange(-xrange, xrange+1,5))\n",
    "\n",
    "ax.set_zlim(0, 0.06)\n",
    "plt.show()\n",
    "my_saving_display(fig1, dirname, \"iso_gaussian\",imageformat, saving=saving)\n"
   ]
  },
  {
   "cell_type": "markdown",
   "metadata": {},
   "source": [
    "### Cas anisotrope"
   ]
  },
  {
   "cell_type": "code",
   "execution_count": null,
   "metadata": {},
   "outputs": [],
   "source": [
    "sig1 = 1.\n",
    "sig2 = 3.\n",
    "thetas = [0., np.pi / 5., 2. * np.pi / 5., 3. * np.pi / 5., 4. * np.pi / 5.]\n",
    "\n",
    "for i, theta in enumerate(thetas):\n",
    "    sig = angle_scalar_to_covmat(theta, sig1, sig2)\n",
    "    rv = multivariate_normal([mean_1[0], mean_1[1]], sig)\n",
    "\n",
    "    pos = np.empty(Xg.shape + (2,))\n",
    "    pos[:, :, 0] = Xg\n",
    "    pos[:, :, 1] = Yg\n",
    "    Z2_ter = rv.pdf(pos)\n",
    "\n",
    "    fig1 = plt.figure(dpi=90)\n",
    "    ax = fig1.add_subplot(111, projection='3d')\n",
    "    ax.plot_surface(Xg, Yg, Z2_ter, cmap='Oranges', rstride=3, cstride=3,\n",
    "                    alpha=0.95, lw=0.5, edgecolors='k')\n",
    "    ax.set_xticks(np.arange(-xrange, xrange+1, 5))\n",
    "    ax.set_yticks(np.arange(-xrange, xrange+1, 5))\n",
    "    ax.set_zlim(0, 0.06)\n",
    "    plt.show()\n",
    "\n",
    "    my_saving_display(fig1, dirname, \"aniso_gaussian\" +\n",
    "                      str(i), imageformat, saving=saving)"
   ]
  },
  {
   "cell_type": "code",
   "execution_count": null,
   "metadata": {},
   "outputs": [],
   "source": [
    "def plot_Gaussian2d(theta=0, sig1=3, sig2=1):\n",
    "\n",
    "    radian = theta / 180.0 * np.pi  # convertion en radian\n",
    "\n",
    "    sig = angle_scalar_to_covmat(radian, sig1, sig2)\n",
    "    rv = multivariate_normal([mean_1[0], mean_1[1]], sig)\n",
    "\n",
    "    pos = np.empty(Xg.shape + (2,))\n",
    "    pos[:, :, 0] = Xg\n",
    "    pos[:, :, 1] = Yg\n",
    "    Z2_ter = rv.pdf(pos)\n",
    "    fig1 = plt.figure(dpi=90)\n",
    "    ax = fig1.add_subplot(111, projection='3d')\n",
    "    ax.plot_surface(Xg, Yg, Z2_ter, cmap='Oranges', rstride=3, cstride=3,\n",
    "                    alpha=0.95, lw=0.5, edgecolors='k')\n",
    "    ax.set_zlim(0, 0.06)\n",
    "    ax.set_xticks(np.arange(-xrange, xrange+1, 5))\n",
    "    ax.set_yticks(np.arange(-xrange, xrange+1, 5))\n",
    "\n",
    "    plt.show()"
   ]
  },
  {
   "cell_type": "code",
   "execution_count": null,
   "metadata": {},
   "outputs": [],
   "source": [
    "interact(plot_Gaussian2d, theta=(0, 360, 10),\n",
    "         sig1=(1, 5, 0.5), sig2=(1, 5, 0.5))"
   ]
  },
  {
   "cell_type": "code",
   "execution_count": null,
   "metadata": {},
   "outputs": [],
   "source": [
    "def plot_Gaussian2d_bis(theta=60, sig1=4, sig2=2):\n",
    "\n",
    "    radian = theta / 180.0 * np.pi  # convertion en radian\n",
    "\n",
    "    sig = angle_scalar_to_covmat(radian, sig1, sig2)\n",
    "    rv = multivariate_normal([mean_1[0], mean_1[1]], sig)\n",
    "\n",
    "    pos = np.empty(Xg.shape + (2,))\n",
    "    pos[:, :, 0] = Xg\n",
    "    pos[:, :, 1] = Yg\n",
    "    Z2_ter = rv.pdf(pos)\n",
    "\n",
    "    fig1 = plt.figure(figsize=(17, 7))\n",
    "    ax1 = fig1.add_subplot(121, projection='3d')\n",
    "    ax1.plot_surface(Xg, Yg, Z2_ter, cmap='Oranges', rstride=3, cstride=3,\n",
    "                     alpha=0.95, lw=0.5, edgecolors='k')\n",
    "    ax1.set_zlim(0, 0.06)\n",
    "    ax1.set_xticks(np.arange(-xrange, xrange+1, 5))\n",
    "    ax1.set_yticks(np.arange(-xrange, xrange+1, 5))\n",
    "    ax1.set_xlabel(r'$x$', **axis_font)\n",
    "    ax1.set_ylabel(r'$y$', **axis_font)\n",
    "\n",
    "    ax2 = fig1.add_subplot(122)\n",
    "    ax2.set_xticks(np.arange(-xrange, xrange+1, 5))\n",
    "    ax2.set_yticks(np.arange(-xrange, xrange+1, 5))\n",
    "    ax2.contourf(xx, yy, Z2_ter, levels=10, cmap='Oranges')\n",
    "    ax2.contour(xx, yy, Z2_ter, levels=10, linewidths=0.5, colors=['k'])\n",
    "    ax2.set_xlabel(r'$x$', **axis_font)\n",
    "    ax2.set_ylabel(r'$y$', **axis_font)\n",
    "    ax2.set_title('Lignes de niveau de la densité', **title_font)\n",
    "    ax2.set_aspect('equal')\n",
    "    plt.show()"
   ]
  },
  {
   "cell_type": "markdown",
   "metadata": {},
   "source": [
    "# Visualisation des densités gaussiennes en dimension 2:\n",
    "On mesure ici l'impacte de la covariance (ici paramétré par un angle et des dispersions selon deux axes) sur ces densités."
   ]
  },
  {
   "cell_type": "code",
   "execution_count": null,
   "metadata": {},
   "outputs": [],
   "source": [
    "interact(plot_Gaussian2d_bis, theta=(0, 360, 10),\n",
    "         sig1=(0.5, 5, 0.5), sig2=(0.5, 5, 0.5))"
   ]
  },
  {
   "cell_type": "markdown",
   "metadata": {},
   "source": [
    "**Remarque**: la figure de droite se lit comme une carte IGN, les lignes de niveau (zone de couleur constante) indique les zone d'altitude égale dans la figure de gauche. "
   ]
  },
  {
   "cell_type": "markdown",
   "metadata": {},
   "source": [
    "## Tirages gaussiens: cas 1D"
   ]
  },
  {
   "cell_type": "code",
   "execution_count": null,
   "metadata": {},
   "outputs": [],
   "source": [
    "n_samples = 1000\n",
    "y = np.ones(n_samples,) + 0.08 * np.random.randn(n_samples,)\n",
    "scales = [1, 3]"
   ]
  },
  {
   "cell_type": "code",
   "execution_count": null,
   "metadata": {},
   "outputs": [],
   "source": [
    "fig, axs = plt.subplots(len(scales), 1)\n",
    "\n",
    "for i, ax in enumerate(axs):\n",
    "    X = np.random.normal(loc=0, scale=scales[i], size=n_samples)  # std =3\n",
    "    ax.scatter(X, y, s=3, marker='o', lw='1', alpha=0.5)\n",
    "    ax.set_aspect('equal')\n",
    "    ax.set_ylim(0.2, 1.8)\n",
    "    ax.set_xlim(-10, 10)\n",
    "    ax.set_yticks([])\n",
    "    ax.set_xlabel('Espérance = 0, Écart-type={}'.format(scales[i]))\n",
    "\n",
    "plt.subplots_adjust(hspace = -0.4)\n",
    "my_saving_display(fig, dirname, \"gaussian_sample1D\",\n",
    "                  imageformat, saving=saving)"
   ]
  },
  {
   "cell_type": "code",
   "execution_count": null,
   "metadata": {},
   "outputs": [],
   "source": [
    "scales"
   ]
  },
  {
   "cell_type": "markdown",
   "metadata": {},
   "source": [
    "## Tirages gaussiens: cas 2D"
   ]
  },
  {
   "cell_type": "code",
   "execution_count": null,
   "metadata": {},
   "outputs": [],
   "source": [
    "mu = [0, 0]\n",
    "Sigma0 = np.array([[3, 2], [2, 2.5]])\n",
    "Sigmas = [Sigma0 * 2, Sigma0, Sigma0 * 0.5]\n",
    "Sigmas_names = ['Variance élevée', 'Variance moyenne', 'Variance petite']"
   ]
  },
  {
   "cell_type": "code",
   "execution_count": null,
   "metadata": {},
   "outputs": [],
   "source": [
    "fig, axs = plt.subplots(1, len(Sigmas))\n",
    "fig.set_size_inches(10, 3)\n",
    "fig.suptitle('Tirages gaussiens', fontsize=20)\n",
    "for i, ax in enumerate(axs):\n",
    "    X = np.random.multivariate_normal(mu, Sigmas[i], n_samples)\n",
    "    ax.scatter(X[:, 0], X[:, 1], s=4, alpha=0.5)\n",
    "\n",
    "    ax.set_aspect('equal')\n",
    "    ax.set_title(Sigmas_names[i])\n",
    "\n",
    "    ax.set_ylim(-10, 10)\n",
    "    ax.set_xlim(-10, 10)\n",
    "    ax.set_xticks(np.arange(-xrange, xrange+1, 5))\n",
    "    ax.set_yticks(np.arange(-xrange, xrange+1, 5))\n",
    "\n",
    "    ax.set_xlabel(r'$x$', **axis_font)\n",
    "    if i == 0:\n",
    "        ax.set_ylabel(r'$y$', **axis_font)\n",
    "\n",
    "    if i > 0:\n",
    "        ax.set_yticks([])\n",
    "plt.subplots_adjust(top=0.75, wspace = -0.3)\n",
    "my_saving_display(fig, dirname, \"gaussian_sample2D\",\n",
    "                  imageformat, saving=saving)"
   ]
  },
  {
   "cell_type": "code",
   "execution_count": null,
   "metadata": {},
   "outputs": [],
   "source": [
    "def plot_Gaussian2d_with_sample(theta=60, sig1=4, sig2=2, n_samples=1000):\n",
    "\n",
    "    radian = theta / 180.0 * np.pi  # convertion en radian\n",
    "\n",
    "    sig = angle_scalar_to_covmat(radian, sig1, sig2)\n",
    "    rv = multivariate_normal([mean_1[0], mean_1[1]], sig)\n",
    "\n",
    "    pos = np.empty(Xg.shape + (2,))\n",
    "    pos[:, :, 0] = Xg\n",
    "    pos[:, :, 1] = Yg\n",
    "    Z2_ter = rv.pdf(pos)\n",
    "\n",
    "    fig1 = plt.figure(figsize=(12, 12))\n",
    "\n",
    "    # Densités gaussiennes (bidimensionnelles)\n",
    "    \n",
    "    ax1 = fig1.add_subplot(221, projection='3d')\n",
    "    ax1.plot_surface(Xg, Yg, Z2_ter, cmap='Oranges', rstride=3, cstride=3,\n",
    "                     alpha=0.95, lw=0.5, edgecolors='k')\n",
    "    ax1.set_zlim(0, 0.06)\n",
    "    ax1.set_xticks(np.arange(-xrange, xrange+1, 5))\n",
    "    ax1.set_yticks(np.arange(-xrange, xrange+1, 5))\n",
    "    ax1.set_xlabel(r'$x$', **axis_font)\n",
    "    ax1.set_ylabel(r'$y$', **axis_font)\n",
    "\n",
    "    # Lignes de niveau de gaussiennes\n",
    "\n",
    "    ax2 = fig1.add_subplot(224)\n",
    "    ax2.set_xticks(np.arange(-xrange, xrange+1, 5))\n",
    "    ax2.set_yticks(np.arange(-xrange, xrange+1, 5))\n",
    "    ax2.contourf(xx, yy, Z2_ter, levels=10, cmap='Oranges')\n",
    "    ax2.contour(xx, yy, Z2_ter, levels=10, linewidths=0.5, colors=['k'])\n",
    "    ax2.set_xlabel(r'$x$', **axis_font)\n",
    "    ax2.set_ylabel(r'$y$', **axis_font)\n",
    "    ax2.set_title('Lignes de niveau de la densité', **title_font)\n",
    "    ax2.set_aspect('equal')\n",
    "\n",
    "    # Tirages gaussiens\n",
    "\n",
    "    ax3 = fig1.add_subplot(223)\n",
    "    X = np.random.multivariate_normal([0, 0], sig, n_samples)\n",
    "    ax3.scatter(X[:, 0], X[:, 1], s=4, alpha=0.5)\n",
    "    ax3.set_aspect('equal')\n",
    "    ax3.set_xlim(-xrange, xrange)\n",
    "    ax3.set_ylim(-xrange, xrange)\n",
    "    ax3.set_xlabel(r'$x$', **axis_font)\n",
    "    ax3.set_ylabel(r'$y$', **axis_font)\n",
    "    ax3.set_title('Tirages gaussiens', **title_font)\n"
   ]
  },
  {
   "cell_type": "code",
   "execution_count": null,
   "metadata": {},
   "outputs": [],
   "source": [
    "interact(plot_Gaussian2d_with_sample, theta=(0, 360, 10),\n",
    "         sig1=(0.5, 5, 0.5), sig2=(0.5, 5, 0.5), n_sample=(1, 2000, 10))"
   ]
  },
  {
   "cell_type": "markdown",
   "metadata": {},
   "source": [
    "## QQ-plots"
   ]
  },
  {
   "cell_type": "code",
   "execution_count": null,
   "metadata": {},
   "outputs": [],
   "source": [
    "import statsmodels.api as sm\n",
    "fig = sm.qqplot(df_babies['wt'], norm, c='k', fillstyle='none')\n",
    "plt.ylabel(\"Poids à la naissance (kg)\", **axis_font)\n",
    "plt.xlabel(\"Quantiles de la loi normale\", **axis_font)\n",
    "my_saving_display(fig, dirname, \"qqplot\", imageformat, saving=saving)"
   ]
  },
  {
   "cell_type": "code",
   "execution_count": null,
   "metadata": {},
   "outputs": [],
   "source": [
    "left = -1.8  # x coordinate for text insert\n",
    "n_samples = 1000\n",
    "\n",
    "fig = plt.figure()\n",
    "fig.set_size_inches(10, 8)\n",
    "\n",
    "ax = fig.add_subplot(2, 2, 1)\n",
    "sm.graphics.qqplot(np.random.randn(n_samples), fillstyle='none', c='k', ax=ax)\n",
    "top = ax.get_ylim()[1] * 0.75\n",
    "ax.set_ylabel(\"Tirages gaussiens\", **axis_font)\n",
    "ax.set_xlabel(\"Quantiles théoriques\", **axis_font)\n",
    "\n",
    "\n",
    "coin = (2 * np.random.rand(n_samples) - 1) > 0.\n",
    "ax = fig.add_subplot(2, 2, 2)\n",
    "sm.graphics.qqplot(coin * np.random.randn(n_samples),\n",
    "                   fillstyle='none', c='k', ax=ax)\n",
    "top = ax.get_ylim()[1] * 0.75\n",
    "ax.set_ylabel(\"Tirages bi-modaux\", **axis_font)\n",
    "ax.set_xlabel(\"Quantiles théoriques\", **axis_font)\n",
    "\n",
    "ax = fig.add_subplot(2, 2, 3)\n",
    "sm.graphics.qqplot(np.random.standard_cauchy(\n",
    "    n_samples), fillstyle='none', c='k', ax=ax)\n",
    "ax.set_xlim(-2, 2)\n",
    "top = ax.get_ylim()[1] * 0.75\n",
    "ax.set_ylabel(\"Tirages de Cauchy\", **axis_font)\n",
    "ax.set_xlabel(\"Quantiles théoriques\", **axis_font)\n",
    "\n",
    "\n",
    "ax = fig.add_subplot(2, 2, 4)\n",
    "sm.graphics.qqplot(np.random.gumbel(0, 1, n_samples),\n",
    "                   c='k', fillstyle='none', ax=ax)\n",
    "ax.set_xlim(-2, 2)\n",
    "top = ax.get_ylim()[1] * 0.75\n",
    "ax.set_ylabel(\"Tirages de Gumbel\", **axis_font)\n",
    "ax.set_xlabel(\"Quantiles théoriques\", **axis_font)\n",
    "\n",
    "\n",
    "plt.tight_layout()\n",
    "my_saving_display(fig, dirname, \"qqplots\", imageformat, saving=saving)"
   ]
  }
 ],
 "metadata": {
  "hide_input": false,
  "kernelspec": {
   "display_name": "Python 3",
   "language": "python",
   "name": "python3"
  },
  "language_info": {
   "codemirror_mode": {
    "name": "ipython",
    "version": 3
   },
   "file_extension": ".py",
   "mimetype": "text/x-python",
   "name": "python",
   "nbconvert_exporter": "python",
   "pygments_lexer": "ipython3",
   "version": "3.7.3"
  },
  "toc": {
   "base_numbering": 1,
   "nav_menu": {},
   "number_sections": false,
   "sideBar": true,
   "skip_h1_title": false,
   "title_cell": "Table of Contents",
   "title_sidebar": "Contents",
   "toc_cell": false,
   "toc_position": {},
   "toc_section_display": true,
   "toc_window_display": true
  }
 },
 "nbformat": 4,
 "nbformat_minor": 2
}
