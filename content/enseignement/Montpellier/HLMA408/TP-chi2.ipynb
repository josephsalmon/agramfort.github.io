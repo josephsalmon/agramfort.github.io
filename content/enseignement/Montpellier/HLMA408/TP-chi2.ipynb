{
 "cells": [
  {
   "cell_type": "markdown",
   "metadata": {},
   "source": [
    "# TP2 - HMLA408: Joseph Salmon"
   ]
  },
  {
   "cell_type": "code",
   "execution_count": null,
   "metadata": {},
   "outputs": [],
   "source": []
  },
  {
   "cell_type": "markdown",
   "metadata": {},
   "source": [
    "## Question: importer la fonction chisquare"
   ]
  },
  {
   "cell_type": "code",
   "execution_count": 1,
   "metadata": {},
   "outputs": [],
   "source": [
    "from scipy.stats import chisquare, norm, shapiro, poisson, chi2, chi2_contingency\n",
    "import numpy as np\n",
    "\n",
    "chisquare?"
   ]
  },
  {
   "cell_type": "markdown",
   "metadata": {},
   "source": [
    "## Question: cobayes"
   ]
  },
  {
   "cell_type": "code",
   "execution_count": 2,
   "metadata": {},
   "outputs": [],
   "source": [
    "cobaye = np.array([33, 13, 15, 3])"
   ]
  },
  {
   "cell_type": "code",
   "execution_count": 3,
   "metadata": {},
   "outputs": [],
   "source": [
    "mendel = np.array([9/16, 3/16, 3/16, 1/16])"
   ]
  },
  {
   "cell_type": "code",
   "execution_count": 4,
   "metadata": {},
   "outputs": [
    {
     "name": "stdout",
     "output_type": "stream",
     "text": [
      "1.3333333333333333 0.7212333746277604\n"
     ]
    }
   ],
   "source": [
    "chisq, pval  = chisquare(cobaye, f_exp=mendel * np.sum(cobaye))\n",
    "print(chisq, pval)"
   ]
  },
  {
   "cell_type": "markdown",
   "metadata": {},
   "source": [
    "## Conclusion du test:\n",
    "la pvalue est de 0.72 ce qui est très grand, on ne rejette pas au niveau 0.05% par exemple"
   ]
  },
  {
   "cell_type": "code",
   "execution_count": 5,
   "metadata": {},
   "outputs": [
    {
     "name": "stdout",
     "output_type": "stream",
     "text": [
      "0.7212333746277604 0.7212333746277604\n"
     ]
    }
   ],
   "source": [
    "from scipy.stats import chi2\n",
    "print(1-chi2.cdf(chisq, 3), pval)\n",
    "# (np.testing.assert_almost_equal(1-chi2.cdf(a, 3), b) # exemple testing that two quantities are numerically equal"
   ]
  },
  {
   "cell_type": "markdown",
   "metadata": {},
   "source": [
    "1-chi2.cdf(chisq, 3) est la probabilité qu'une variable aléatoire qui suit une loi de chi2 à 3 degré de liberté ait une valeur supérieure à chisq=1.333333. Cette probabilité est égale à la p-value.\n"
   ]
  },
  {
   "cell_type": "markdown",
   "metadata": {},
   "source": [
    "## Question: importer pandas"
   ]
  },
  {
   "cell_type": "code",
   "execution_count": 6,
   "metadata": {},
   "outputs": [],
   "source": [
    "import pandas as pd"
   ]
  },
  {
   "cell_type": "code",
   "execution_count": 7,
   "metadata": {},
   "outputs": [
    {
     "name": "stdout",
     "output_type": "stream",
     "text": [
      "[-1.31811496  0.07793067  0.30279908 -0.23579763  0.03618076  1.51261777\n",
      " -1.93531333  0.51220733  0.27475523  0.46368898  0.39030049  1.22131413\n",
      " -1.19451943 -2.01329058 -0.11337173  0.03793557  1.19058797 -0.2660515\n",
      "  0.65924948 -1.5960921  -0.16341216 -1.03217257 -0.72481432 -0.29028289\n",
      "  0.17347548  1.44054729 -0.24000309  1.10054452  0.62995592  0.15114704\n",
      " -0.92233237  0.27610918 -0.28982219  1.65027539 -1.24236028 -0.02382412\n",
      "  0.38431724 -0.73529955  0.7910851  -1.90004272 -0.08843393 -0.7517388\n",
      " -0.58259617 -0.0229063   0.31920862  0.15552755  0.88868584  0.77739361\n",
      " -0.5592531   0.67912283]\n"
     ]
    }
   ],
   "source": [
    "echantillon_gaussien = np.random.randn(50)\n",
    "bins = np.array([-np.inf, -2, -1, 0, 1, 2, np.inf]) #ATTENTION sans np.array() l'ordre est différent\n",
    "print(echantillon_gaussien)"
   ]
  },
  {
   "cell_type": "code",
   "execution_count": 8,
   "metadata": {},
   "outputs": [
    {
     "data": {
      "text/plain": [
       "Interval(-1.0, 0.0, closed='right')"
      ]
     },
     "execution_count": 8,
     "metadata": {},
     "output_type": "execute_result"
    }
   ],
   "source": [
    "echantillon_regroupe = pd.cut(echantillon_gaussien,bins=bins)  # jamais d'accent dans les noms de variables\n",
    "echantillon_regroupe[22]"
   ]
  },
  {
   "cell_type": "code",
   "execution_count": 9,
   "metadata": {},
   "outputs": [
    {
     "data": {
      "text/plain": [
       "(-inf, -2.0]     1\n",
       "(-2.0, -1.0]     7\n",
       "(-1.0, 0.0]     16\n",
       "(0.0, 1.0]      20\n",
       "(1.0, 2.0]       6\n",
       "(2.0, inf]       0\n",
       "dtype: int64"
      ]
     },
     "execution_count": 9,
     "metadata": {},
     "output_type": "execute_result"
    }
   ],
   "source": [
    "echantillon_regroupe.value_counts()"
   ]
  },
  {
   "cell_type": "code",
   "execution_count": 10,
   "metadata": {},
   "outputs": [
    {
     "data": {
      "text/plain": [
       "(0.0, 1.0]      20\n",
       "(-1.0, 0.0]     16\n",
       "(-2.0, -1.0]     7\n",
       "(1.0, 2.0]       6\n",
       "(-inf, -2.0]     1\n",
       "(2.0, inf]       0\n",
       "dtype: int64"
      ]
     },
     "execution_count": 10,
     "metadata": {},
     "output_type": "execute_result"
    }
   ],
   "source": [
    "pd.value_counts(echantillon_regroupe) # weird behaviour : ordering chaning w.r.t. to .value_counts()"
   ]
  },
  {
   "cell_type": "code",
   "execution_count": 11,
   "metadata": {},
   "outputs": [],
   "source": [
    "effectifs_classes = echantillon_regroupe.value_counts()"
   ]
  },
  {
   "cell_type": "markdown",
   "metadata": {},
   "source": [
    "## Question: fonction de répartition\n"
   ]
  },
  {
   "cell_type": "code",
   "execution_count": 12,
   "metadata": {},
   "outputs": [
    {
     "data": {
      "text/plain": [
       "0.5"
      ]
     },
     "execution_count": 12,
     "metadata": {},
     "output_type": "execute_result"
    }
   ],
   "source": [
    "norm.cdf(0) #cdf : cumulative distribution function = fonction de répartition, ici de la loi normale centrée réduite"
   ]
  },
  {
   "cell_type": "code",
   "execution_count": 13,
   "metadata": {},
   "outputs": [
    {
     "data": {
      "text/plain": [
       "0.9750021048517795"
      ]
     },
     "execution_count": 13,
     "metadata": {},
     "output_type": "execute_result"
    }
   ],
   "source": [
    "norm.cdf(1.96)"
   ]
  },
  {
   "cell_type": "code",
   "execution_count": 14,
   "metadata": {},
   "outputs": [
    {
     "name": "stdout",
     "output_type": "stream",
     "text": [
      "[0.02275013 0.13590512 0.34134475 0.34134475 0.13590512 0.02275013]\n"
     ]
    }
   ],
   "source": [
    "p1 = norm.cdf(bins[1])\n",
    "#calcul de la probabilité que X soit inférieur à -2 (X normale centrée réduite)\n",
    "p2 = norm.cdf(bins[2]) - norm.cdf(bins[1])\n",
    "#calcul de la probabilité que X soit compris entre -2 (bins[1]) et -1 (bins[2])\n",
    "p3 = norm.cdf(bins[3]) - norm.cdf(bins[2])\n",
    "p4 = norm.cdf(bins[4]) - norm.cdf(bins[3])\n",
    "p5 = norm.cdf(bins[5]) - norm.cdf(bins[4])\n",
    "p6 = 1 - norm.cdf(bins[5])\n",
    "probas = np.array([p1, p2, p3, p4, p5, p6])\n",
    "print(probas)\n",
    "#on calcule les probabilités théoriques"
   ]
  },
  {
   "cell_type": "markdown",
   "metadata": {},
   "source": [
    "La commande suivante fait exactement la même chose que la précédente (mais serait plus facile à mettre en oeuvre avec beaucoup de boîtes)"
   ]
  },
  {
   "cell_type": "code",
   "execution_count": 15,
   "metadata": {},
   "outputs": [
    {
     "data": {
      "text/plain": [
       "array([0.02275013, 0.13590512, 0.34134475, 0.34134475, 0.13590512,\n",
       "       0.02275013])"
      ]
     },
     "execution_count": 15,
     "metadata": {},
     "output_type": "execute_result"
    }
   ],
   "source": [
    "np.diff(norm.cdf((bins)))"
   ]
  },
  {
   "cell_type": "markdown",
   "metadata": {},
   "source": [
    "## Question: test du $\\chi^2$"
   ]
  },
  {
   "cell_type": "code",
   "execution_count": 16,
   "metadata": {},
   "outputs": [
    {
     "data": {
      "text/plain": [
       "array([ 1.1375066,  6.7952561, 17.0672373, 17.0672373,  6.7952561,\n",
       "        1.1375066])"
      ]
     },
     "execution_count": 16,
     "metadata": {},
     "output_type": "execute_result"
    }
   ],
   "source": [
    "np.diff(norm.cdf(bins)) * echantillon_regroupe.shape[0]"
   ]
  },
  {
   "cell_type": "code",
   "execution_count": 17,
   "metadata": {},
   "outputs": [
    {
     "data": {
      "text/plain": [
       "Power_divergenceResult(statistic=1.8240571305720577, pvalue=0.8729148516869414)"
      ]
     },
     "execution_count": 17,
     "metadata": {},
     "output_type": "execute_result"
    }
   ],
   "source": [
    "chisquare(effectifs_classes, np.diff(norm.cdf(bins)) * echantillon_regroupe.shape[0])\n"
   ]
  },
  {
   "cell_type": "markdown",
   "metadata": {},
   "source": [
    "\n",
    "* `effectifs_classes` = effectifs observés dans l'échantillon.\n",
    "* `np.diff(norm.cdf(bins)) * echantillon_regroupe.shape[0]` = effectifs attendus\n"
   ]
  },
  {
   "cell_type": "markdown",
   "metadata": {},
   "source": [
    "## Conclusion:\n",
    "On ne rejette pas l'hypothèse aux seuil 1, 5 10 %...pvalue=0.14"
   ]
  },
  {
   "cell_type": "markdown",
   "metadata": {},
   "source": [
    "# Question: reprise du test avec d'autres intervalles (plus larges effectifs)"
   ]
  },
  {
   "cell_type": "code",
   "execution_count": 18,
   "metadata": {},
   "outputs": [
    {
     "data": {
      "text/plain": [
       "Power_divergenceResult(statistic=8.625419898212089, pvalue=0.07117540925837786)"
      ]
     },
     "execution_count": 18,
     "metadata": {},
     "output_type": "execute_result"
    }
   ],
   "source": [
    "echantillon_gaussien = np.random.randn(100)\n",
    "bins = np.array([-np.inf, -1.5, -0.5, 0.5, 1.5, np.inf])\n",
    "# jamais d'accent dans les noms de variables\n",
    "echantillon_regroupe = pd.cut(echantillon_gaussien, bins=bins)\n",
    "effectifs_classes = echantillon_regroupe.value_counts()\n",
    "chisquare(effectifs_classes, np.diff(norm.cdf(bins))\n",
    "          * echantillon_regroupe.shape[0])"
   ]
  },
  {
   "cell_type": "markdown",
   "metadata": {},
   "source": [
    "# Question: Shapiro-Wilk\n",
    "La loi de la statistique de test sous H0: \"la distribution de l'échantillon est gaussienne\"\n",
    "est calculable par Python et on obtient directement la statistique associée et la p-value."
   ]
  },
  {
   "cell_type": "code",
   "execution_count": 19,
   "metadata": {},
   "outputs": [
    {
     "data": {
      "text/plain": [
       "(0.9866547584533691, 0.41482946276664734)"
      ]
     },
     "execution_count": 19,
     "metadata": {},
     "output_type": "execute_result"
    }
   ],
   "source": [
    "shapiro(echantillon_gaussien)\n",
    "# ici par exemple p-value 0.68, donc on ne rejette pas H0 (ce qui est attendu vu que nos données sont bien Gaussiennes) "
   ]
  },
  {
   "cell_type": "code",
   "execution_count": 20,
   "metadata": {},
   "outputs": [
    {
     "data": {
      "text/plain": [
       "(0.7444982528686523, 6.7151722550617965e-12)"
      ]
     },
     "execution_count": 20,
     "metadata": {},
     "output_type": "execute_result"
    }
   ],
   "source": [
    "echantillon_exponential = np.random.exponential(1,100)\n",
    "shapiro(echantillon_exponential)\n",
    "# Ici rejet clair!"
   ]
  },
  {
   "cell_type": "markdown",
   "metadata": {},
   "source": [
    "## Question: Download"
   ]
  },
  {
   "cell_type": "code",
   "execution_count": 21,
   "metadata": {},
   "outputs": [
    {
     "name": "stdout",
     "output_type": "stream",
     "text": [
      "Replace is False and data exists, so doing nothing. Use replace==True to re-download the data.\n"
     ]
    },
    {
     "data": {
      "text/plain": [
       "'./hcmv.data'"
      ]
     },
     "execution_count": 21,
     "metadata": {},
     "output_type": "execute_result"
    }
   ],
   "source": [
    "from download import download\n",
    "url = \"http://josephsalmon.eu/enseignement/datasets/hcmv.data\"\n",
    "# url = \"http://www.stat.berkeley.edu/users/statlabs/data/hcmv.data\" # backup url, without header.\n",
    "path_target = \"./hcmv.data\"\n",
    "download(url, path_target, replace=False)"
   ]
  },
  {
   "cell_type": "code",
   "execution_count": 22,
   "metadata": {},
   "outputs": [
    {
     "data": {
      "text/html": [
       "<div>\n",
       "<style scoped>\n",
       "    .dataframe tbody tr th:only-of-type {\n",
       "        vertical-align: middle;\n",
       "    }\n",
       "\n",
       "    .dataframe tbody tr th {\n",
       "        vertical-align: top;\n",
       "    }\n",
       "\n",
       "    .dataframe thead th {\n",
       "        text-align: right;\n",
       "    }\n",
       "</style>\n",
       "<table border=\"1\" class=\"dataframe\">\n",
       "  <thead>\n",
       "    <tr style=\"text-align: right;\">\n",
       "      <th></th>\n",
       "      <th>location</th>\n",
       "    </tr>\n",
       "  </thead>\n",
       "  <tbody>\n",
       "    <tr>\n",
       "      <th>0</th>\n",
       "      <td>177</td>\n",
       "    </tr>\n",
       "    <tr>\n",
       "      <th>1</th>\n",
       "      <td>1321</td>\n",
       "    </tr>\n",
       "    <tr>\n",
       "      <th>2</th>\n",
       "      <td>1433</td>\n",
       "    </tr>\n",
       "    <tr>\n",
       "      <th>3</th>\n",
       "      <td>1477</td>\n",
       "    </tr>\n",
       "    <tr>\n",
       "      <th>4</th>\n",
       "      <td>3248</td>\n",
       "    </tr>\n",
       "    <tr>\n",
       "      <th>5</th>\n",
       "      <td>3255</td>\n",
       "    </tr>\n",
       "    <tr>\n",
       "      <th>6</th>\n",
       "      <td>3286</td>\n",
       "    </tr>\n",
       "    <tr>\n",
       "      <th>7</th>\n",
       "      <td>7263</td>\n",
       "    </tr>\n",
       "    <tr>\n",
       "      <th>8</th>\n",
       "      <td>9023</td>\n",
       "    </tr>\n",
       "    <tr>\n",
       "      <th>9</th>\n",
       "      <td>9084</td>\n",
       "    </tr>\n",
       "  </tbody>\n",
       "</table>\n",
       "</div>"
      ],
      "text/plain": [
       "   location\n",
       "0       177\n",
       "1      1321\n",
       "2      1433\n",
       "3      1477\n",
       "4      3248\n",
       "5      3255\n",
       "6      3286\n",
       "7      7263\n",
       "8      9023\n",
       "9      9084"
      ]
     },
     "execution_count": 22,
     "metadata": {},
     "output_type": "execute_result"
    }
   ],
   "source": [
    "df_hmcv = pd.read_csv(\"hcmv.data\", sep='\\s+') # \\s+ : for hanlding spaces\n",
    "df_hmcv.head(n=10)  # df stands for Data Frame"
   ]
  },
  {
   "cell_type": "markdown",
   "metadata": {},
   "source": [
    "## Question lambda_hat"
   ]
  },
  {
   "cell_type": "code",
   "execution_count": 23,
   "metadata": {},
   "outputs": [
    {
     "name": "stdout",
     "output_type": "stream",
     "text": [
      "5.162325488110083\n"
     ]
    },
    {
     "data": {
      "text/plain": [
       "296"
      ]
     },
     "execution_count": 23,
     "metadata": {},
     "output_type": "execute_result"
    }
   ],
   "source": [
    "n_basis = 229354\n",
    "n_palindromes = df_hmcv.count()['location']\n",
    "lambda_hat = n_palindromes / n_basis * 4000\n",
    "print(lambda_hat)\n",
    "n_palindromes"
   ]
  },
  {
   "cell_type": "code",
   "execution_count": 24,
   "metadata": {},
   "outputs": [],
   "source": [
    "new_bins = np.concatenate([[-np.inf],np.arange(1, n_basis, step=4000),[np.inf]])"
   ]
  },
  {
   "cell_type": "code",
   "execution_count": null,
   "metadata": {},
   "outputs": [],
   "source": []
  },
  {
   "cell_type": "code",
   "execution_count": 25,
   "metadata": {},
   "outputs": [],
   "source": [
    "counts_bin = np.array([-np.inf, 2, 3, 4, 5, 6, 7, 8, np.inf])\n",
    "# jamais d'accent dans les noms de variables\n",
    "hmcv_regroupe = pd.cut(df_hmcv['location'], bins=new_bins)\n",
    "counts_palindrome = hmcv_regroupe.value_counts(sort=False)\n",
    "count_regroupe = pd.cut(counts_palindrome, counts_bin,\n",
    "                        right=True).value_counts(sort=False)"
   ]
  },
  {
   "cell_type": "code",
   "execution_count": 26,
   "metadata": {},
   "outputs": [
    {
     "data": {
      "text/plain": [
       "(-inf, 2.0]     9\n",
       "(2.0, 3.0]      8\n",
       "(3.0, 4.0]     10\n",
       "(4.0, 5.0]      9\n",
       "(5.0, 6.0]      8\n",
       "(6.0, 7.0]      5\n",
       "(7.0, 8.0]      4\n",
       "(8.0, inf]      6\n",
       "Name: location, dtype: int64"
      ]
     },
     "execution_count": 26,
     "metadata": {},
     "output_type": "execute_result"
    }
   ],
   "source": [
    "count_regroupe"
   ]
  },
  {
   "cell_type": "code",
   "execution_count": 27,
   "metadata": {},
   "outputs": [],
   "source": [
    "bins_poisson = [-np.inf, 2, 3, 4, 5, 6, 7, 8, np.inf]\n",
    "count_regroupe = pd.cut(counts_palindrome, bins_poisson, right=True, labels=[\n",
    "                             '0-2', '3', '4', '5', '6', '7', '8','9-']).value_counts(sort=False)"
   ]
  },
  {
   "cell_type": "code",
   "execution_count": 28,
   "metadata": {},
   "outputs": [
    {
     "data": {
      "text/plain": [
       "0-2     9\n",
       "3       8\n",
       "4      10\n",
       "5       9\n",
       "6       8\n",
       "7       5\n",
       "8       4\n",
       "9-      6\n",
       "Name: location, dtype: int64"
      ]
     },
     "execution_count": 28,
     "metadata": {},
     "output_type": "execute_result"
    }
   ],
   "source": [
    "count_regroupe"
   ]
  },
  {
   "cell_type": "code",
   "execution_count": 29,
   "metadata": {},
   "outputs": [
    {
     "data": {
      "text/plain": [
       "array([0.11162934, 0.13134557, 0.16951215, 0.17501537, 0.15058105,\n",
       "       0.11104977, 0.07165938, 0.07920736])"
      ]
     },
     "execution_count": 29,
     "metadata": {},
     "output_type": "execute_result"
    }
   ],
   "source": [
    "np.diff(poisson.cdf(bins_poisson, lambda_hat))"
   ]
  },
  {
   "cell_type": "code",
   "execution_count": 30,
   "metadata": {},
   "outputs": [
    {
     "data": {
      "text/plain": [
       "array([0.        , 0.11162934, 0.24297491, 0.41248705, 0.58750243,\n",
       "       0.73808348, 0.84913325, 0.92079264, 1.        ])"
      ]
     },
     "execution_count": 30,
     "metadata": {},
     "output_type": "execute_result"
    }
   ],
   "source": [
    "poisson.cdf(bins_poisson, lambda_hat)"
   ]
  },
  {
   "cell_type": "code",
   "execution_count": 31,
   "metadata": {},
   "outputs": [
    {
     "data": {
      "text/plain": [
       "array([0.11162934, 0.13134557, 0.16951215, 0.17501537, 0.15058105,\n",
       "       0.11104977, 0.07165938, 0.07920736])"
      ]
     },
     "execution_count": 31,
     "metadata": {},
     "output_type": "execute_result"
    }
   ],
   "source": [
    "np.diff(poisson.cdf(bins_poisson, lambda_hat))"
   ]
  },
  {
   "cell_type": "code",
   "execution_count": 32,
   "metadata": {},
   "outputs": [
    {
     "name": "stdout",
     "output_type": "stream",
     "text": [
      "1.907642554439036 0.9279935984980819\n"
     ]
    }
   ],
   "source": [
    "count_theoric = np.diff(poisson.cdf(bins_poisson, lambda_hat)) * count_regroupe.sum()\n",
    "chi2_stat, chi2_pvalue = chisquare(count_regroupe, count_theoric, ddof=1)\n",
    "# Attention au nombre de degrés de libertés, ddof=1 ici car on ne connait pas le parametre lambda\n",
    "print(chi2_stat, chi2_pvalue)"
   ]
  },
  {
   "cell_type": "markdown",
   "metadata": {},
   "source": [
    "# Question: $\\chi^2$ à la main"
   ]
  },
  {
   "cell_type": "code",
   "execution_count": 33,
   "metadata": {},
   "outputs": [
    {
     "name": "stdout",
     "output_type": "stream",
     "text": [
      "0.9279935984980819\n"
     ]
    }
   ],
   "source": [
    "pvalue_manual = 1-chi2.cdf(1.907642554439036,df=6)\n",
    "print(pvalue_manual)"
   ]
  },
  {
   "cell_type": "code",
   "execution_count": 34,
   "metadata": {},
   "outputs": [],
   "source": [
    "np.testing.assert_almost_equal(pvalue_manual, chi2_pvalue) "
   ]
  },
  {
   "cell_type": "markdown",
   "metadata": {},
   "source": [
    "# Chargement de la base de données "
   ]
  },
  {
   "cell_type": "code",
   "execution_count": 35,
   "metadata": {},
   "outputs": [
    {
     "name": "stdout",
     "output_type": "stream",
     "text": [
      "Replace is False and data exists, so doing nothing. Use replace==True to re-download the data.\n"
     ]
    },
    {
     "data": {
      "text/plain": [
       "'./babies23.data'"
      ]
     },
     "execution_count": 35,
     "metadata": {},
     "output_type": "execute_result"
    }
   ],
   "source": [
    "url = \"http://josephsalmon.eu/enseignement/datasets/babies23.data\"\n",
    "path_target = \"./babies23.data\"\n",
    "download(url, path_target, replace=False)"
   ]
  },
  {
   "cell_type": "markdown",
   "metadata": {},
   "source": [
    "# Preoprocessing: only run once or big trouble (think about it!)"
   ]
  },
  {
   "cell_type": "code",
   "execution_count": 36,
   "metadata": {},
   "outputs": [],
   "source": [
    "is_preprocessing_done = 0  # init at 0,if greater don't redo it\n",
    "pd.options.display.max_rows = 8  # set not to display to many lines in pandas\n",
    "pd.set_option('precision', 0)  # set to display number at precision 0 in pandas"
   ]
  },
  {
   "cell_type": "markdown",
   "metadata": {},
   "source": [
    "# Lecture de la base de données et constructions d'un dataframe"
   ]
  },
  {
   "cell_type": "code",
   "execution_count": 37,
   "metadata": {},
   "outputs": [
    {
     "data": {
      "text/html": [
       "<div>\n",
       "<style scoped>\n",
       "    .dataframe tbody tr th:only-of-type {\n",
       "        vertical-align: middle;\n",
       "    }\n",
       "\n",
       "    .dataframe tbody tr th {\n",
       "        vertical-align: top;\n",
       "    }\n",
       "\n",
       "    .dataframe thead th {\n",
       "        text-align: right;\n",
       "    }\n",
       "</style>\n",
       "<table border=\"1\" class=\"dataframe\">\n",
       "  <thead>\n",
       "    <tr style=\"text-align: right;\">\n",
       "      <th></th>\n",
       "      <th>id</th>\n",
       "      <th>pluralty</th>\n",
       "      <th>outcome</th>\n",
       "      <th>date</th>\n",
       "      <th>gestation</th>\n",
       "      <th>sex</th>\n",
       "      <th>wt</th>\n",
       "      <th>parity</th>\n",
       "      <th>race</th>\n",
       "      <th>age</th>\n",
       "      <th>...</th>\n",
       "      <th>drace</th>\n",
       "      <th>dage</th>\n",
       "      <th>ded</th>\n",
       "      <th>dht</th>\n",
       "      <th>dwt</th>\n",
       "      <th>marital</th>\n",
       "      <th>inc</th>\n",
       "      <th>smoke</th>\n",
       "      <th>time</th>\n",
       "      <th>number</th>\n",
       "    </tr>\n",
       "  </thead>\n",
       "  <tbody>\n",
       "    <tr>\n",
       "      <th>0</th>\n",
       "      <td>15</td>\n",
       "      <td>5</td>\n",
       "      <td>1</td>\n",
       "      <td>1411</td>\n",
       "      <td>284</td>\n",
       "      <td>1</td>\n",
       "      <td>120</td>\n",
       "      <td>1</td>\n",
       "      <td>8</td>\n",
       "      <td>27</td>\n",
       "      <td>...</td>\n",
       "      <td>8</td>\n",
       "      <td>31</td>\n",
       "      <td>5</td>\n",
       "      <td>65</td>\n",
       "      <td>110</td>\n",
       "      <td>1</td>\n",
       "      <td>1</td>\n",
       "      <td>0</td>\n",
       "      <td>0</td>\n",
       "      <td>0</td>\n",
       "    </tr>\n",
       "    <tr>\n",
       "      <th>1</th>\n",
       "      <td>20</td>\n",
       "      <td>5</td>\n",
       "      <td>1</td>\n",
       "      <td>1499</td>\n",
       "      <td>282</td>\n",
       "      <td>1</td>\n",
       "      <td>113</td>\n",
       "      <td>2</td>\n",
       "      <td>0</td>\n",
       "      <td>33</td>\n",
       "      <td>...</td>\n",
       "      <td>0</td>\n",
       "      <td>38</td>\n",
       "      <td>5</td>\n",
       "      <td>70</td>\n",
       "      <td>148</td>\n",
       "      <td>1</td>\n",
       "      <td>4</td>\n",
       "      <td>0</td>\n",
       "      <td>0</td>\n",
       "      <td>0</td>\n",
       "    </tr>\n",
       "    <tr>\n",
       "      <th>2</th>\n",
       "      <td>58</td>\n",
       "      <td>5</td>\n",
       "      <td>1</td>\n",
       "      <td>1576</td>\n",
       "      <td>279</td>\n",
       "      <td>1</td>\n",
       "      <td>128</td>\n",
       "      <td>1</td>\n",
       "      <td>0</td>\n",
       "      <td>28</td>\n",
       "      <td>...</td>\n",
       "      <td>5</td>\n",
       "      <td>32</td>\n",
       "      <td>1</td>\n",
       "      <td>99</td>\n",
       "      <td>999</td>\n",
       "      <td>1</td>\n",
       "      <td>2</td>\n",
       "      <td>1</td>\n",
       "      <td>1</td>\n",
       "      <td>1</td>\n",
       "    </tr>\n",
       "    <tr>\n",
       "      <th>3</th>\n",
       "      <td>61</td>\n",
       "      <td>5</td>\n",
       "      <td>1</td>\n",
       "      <td>1504</td>\n",
       "      <td>999</td>\n",
       "      <td>1</td>\n",
       "      <td>123</td>\n",
       "      <td>2</td>\n",
       "      <td>0</td>\n",
       "      <td>36</td>\n",
       "      <td>...</td>\n",
       "      <td>3</td>\n",
       "      <td>43</td>\n",
       "      <td>4</td>\n",
       "      <td>68</td>\n",
       "      <td>197</td>\n",
       "      <td>1</td>\n",
       "      <td>8</td>\n",
       "      <td>3</td>\n",
       "      <td>5</td>\n",
       "      <td>5</td>\n",
       "    </tr>\n",
       "    <tr>\n",
       "      <th>...</th>\n",
       "      <td>...</td>\n",
       "      <td>...</td>\n",
       "      <td>...</td>\n",
       "      <td>...</td>\n",
       "      <td>...</td>\n",
       "      <td>...</td>\n",
       "      <td>...</td>\n",
       "      <td>...</td>\n",
       "      <td>...</td>\n",
       "      <td>...</td>\n",
       "      <td>...</td>\n",
       "      <td>...</td>\n",
       "      <td>...</td>\n",
       "      <td>...</td>\n",
       "      <td>...</td>\n",
       "      <td>...</td>\n",
       "      <td>...</td>\n",
       "      <td>...</td>\n",
       "      <td>...</td>\n",
       "      <td>...</td>\n",
       "      <td>...</td>\n",
       "    </tr>\n",
       "    <tr>\n",
       "      <th>6</th>\n",
       "      <td>102</td>\n",
       "      <td>5</td>\n",
       "      <td>1</td>\n",
       "      <td>1449</td>\n",
       "      <td>244</td>\n",
       "      <td>1</td>\n",
       "      <td>138</td>\n",
       "      <td>4</td>\n",
       "      <td>7</td>\n",
       "      <td>33</td>\n",
       "      <td>...</td>\n",
       "      <td>7</td>\n",
       "      <td>37</td>\n",
       "      <td>4</td>\n",
       "      <td>99</td>\n",
       "      <td>999</td>\n",
       "      <td>1</td>\n",
       "      <td>98</td>\n",
       "      <td>0</td>\n",
       "      <td>0</td>\n",
       "      <td>0</td>\n",
       "    </tr>\n",
       "    <tr>\n",
       "      <th>7</th>\n",
       "      <td>129</td>\n",
       "      <td>5</td>\n",
       "      <td>1</td>\n",
       "      <td>1562</td>\n",
       "      <td>245</td>\n",
       "      <td>1</td>\n",
       "      <td>132</td>\n",
       "      <td>2</td>\n",
       "      <td>7</td>\n",
       "      <td>23</td>\n",
       "      <td>...</td>\n",
       "      <td>7</td>\n",
       "      <td>23</td>\n",
       "      <td>4</td>\n",
       "      <td>71</td>\n",
       "      <td>192</td>\n",
       "      <td>1</td>\n",
       "      <td>2</td>\n",
       "      <td>0</td>\n",
       "      <td>0</td>\n",
       "      <td>0</td>\n",
       "    </tr>\n",
       "    <tr>\n",
       "      <th>8</th>\n",
       "      <td>142</td>\n",
       "      <td>5</td>\n",
       "      <td>1</td>\n",
       "      <td>1408</td>\n",
       "      <td>289</td>\n",
       "      <td>1</td>\n",
       "      <td>120</td>\n",
       "      <td>3</td>\n",
       "      <td>0</td>\n",
       "      <td>25</td>\n",
       "      <td>...</td>\n",
       "      <td>3</td>\n",
       "      <td>26</td>\n",
       "      <td>1</td>\n",
       "      <td>70</td>\n",
       "      <td>180</td>\n",
       "      <td>0</td>\n",
       "      <td>2</td>\n",
       "      <td>0</td>\n",
       "      <td>0</td>\n",
       "      <td>0</td>\n",
       "    </tr>\n",
       "    <tr>\n",
       "      <th>9</th>\n",
       "      <td>148</td>\n",
       "      <td>5</td>\n",
       "      <td>1</td>\n",
       "      <td>1568</td>\n",
       "      <td>299</td>\n",
       "      <td>1</td>\n",
       "      <td>143</td>\n",
       "      <td>3</td>\n",
       "      <td>0</td>\n",
       "      <td>30</td>\n",
       "      <td>...</td>\n",
       "      <td>0</td>\n",
       "      <td>34</td>\n",
       "      <td>5</td>\n",
       "      <td>99</td>\n",
       "      <td>999</td>\n",
       "      <td>1</td>\n",
       "      <td>2</td>\n",
       "      <td>1</td>\n",
       "      <td>1</td>\n",
       "      <td>4</td>\n",
       "    </tr>\n",
       "  </tbody>\n",
       "</table>\n",
       "<p>10 rows × 23 columns</p>\n",
       "</div>"
      ],
      "text/plain": [
       "     id  pluralty  outcome  date  gestation  sex   wt  parity  race  age  ...  \\\n",
       "0    15         5        1  1411        284    1  120       1     8   27  ...   \n",
       "1    20         5        1  1499        282    1  113       2     0   33  ...   \n",
       "2    58         5        1  1576        279    1  128       1     0   28  ...   \n",
       "3    61         5        1  1504        999    1  123       2     0   36  ...   \n",
       "..  ...       ...      ...   ...        ...  ...  ...     ...   ...  ...  ...   \n",
       "6   102         5        1  1449        244    1  138       4     7   33  ...   \n",
       "7   129         5        1  1562        245    1  132       2     7   23  ...   \n",
       "8   142         5        1  1408        289    1  120       3     0   25  ...   \n",
       "9   148         5        1  1568        299    1  143       3     0   30  ...   \n",
       "\n",
       "    drace  dage  ded  dht  dwt  marital  inc  smoke  time  number  \n",
       "0       8    31    5   65  110        1    1      0     0       0  \n",
       "1       0    38    5   70  148        1    4      0     0       0  \n",
       "2       5    32    1   99  999        1    2      1     1       1  \n",
       "3       3    43    4   68  197        1    8      3     5       5  \n",
       "..    ...   ...  ...  ...  ...      ...  ...    ...   ...     ...  \n",
       "6       7    37    4   99  999        1   98      0     0       0  \n",
       "7       7    23    4   71  192        1    2      0     0       0  \n",
       "8       3    26    1   70  180        0    2      0     0       0  \n",
       "9       0    34    5   99  999        1    2      1     1       4  \n",
       "\n",
       "[10 rows x 23 columns]"
      ]
     },
     "execution_count": 37,
     "metadata": {},
     "output_type": "execute_result"
    }
   ],
   "source": [
    "df_babies = pd.read_csv(\"babies23.data\", skiprows=38, sep='\\s+') # \\s+ : for hanlding spaces\n",
    "df_babies.head(n=10)  # df stands for Data Frame"
   ]
  },
  {
   "cell_type": "code",
   "execution_count": 38,
   "metadata": {},
   "outputs": [
    {
     "data": {
      "text/html": [
       "<div>\n",
       "<style scoped>\n",
       "    .dataframe tbody tr th:only-of-type {\n",
       "        vertical-align: middle;\n",
       "    }\n",
       "\n",
       "    .dataframe tbody tr th {\n",
       "        vertical-align: top;\n",
       "    }\n",
       "\n",
       "    .dataframe thead th {\n",
       "        text-align: right;\n",
       "    }\n",
       "</style>\n",
       "<table border=\"1\" class=\"dataframe\">\n",
       "  <thead>\n",
       "    <tr style=\"text-align: right;\">\n",
       "      <th>smoke</th>\n",
       "      <th>0</th>\n",
       "      <th>1</th>\n",
       "      <th>2</th>\n",
       "      <th>3</th>\n",
       "      <th>9</th>\n",
       "    </tr>\n",
       "    <tr>\n",
       "      <th>ed</th>\n",
       "      <th></th>\n",
       "      <th></th>\n",
       "      <th></th>\n",
       "      <th></th>\n",
       "      <th></th>\n",
       "    </tr>\n",
       "  </thead>\n",
       "  <tbody>\n",
       "    <tr>\n",
       "      <th>0</th>\n",
       "      <td>12</td>\n",
       "      <td>4</td>\n",
       "      <td>1</td>\n",
       "      <td>2</td>\n",
       "      <td>0</td>\n",
       "    </tr>\n",
       "    <tr>\n",
       "      <th>1</th>\n",
       "      <td>57</td>\n",
       "      <td>102</td>\n",
       "      <td>12</td>\n",
       "      <td>10</td>\n",
       "      <td>2</td>\n",
       "    </tr>\n",
       "    <tr>\n",
       "      <th>2</th>\n",
       "      <td>202</td>\n",
       "      <td>176</td>\n",
       "      <td>40</td>\n",
       "      <td>22</td>\n",
       "      <td>4</td>\n",
       "    </tr>\n",
       "    <tr>\n",
       "      <th>3</th>\n",
       "      <td>21</td>\n",
       "      <td>33</td>\n",
       "      <td>3</td>\n",
       "      <td>6</td>\n",
       "      <td>2</td>\n",
       "    </tr>\n",
       "    <tr>\n",
       "      <th>4</th>\n",
       "      <td>138</td>\n",
       "      <td>102</td>\n",
       "      <td>21</td>\n",
       "      <td>35</td>\n",
       "      <td>2</td>\n",
       "    </tr>\n",
       "    <tr>\n",
       "      <th>5</th>\n",
       "      <td>109</td>\n",
       "      <td>65</td>\n",
       "      <td>18</td>\n",
       "      <td>27</td>\n",
       "      <td>0</td>\n",
       "    </tr>\n",
       "    <tr>\n",
       "      <th>7</th>\n",
       "      <td>5</td>\n",
       "      <td>1</td>\n",
       "      <td>0</td>\n",
       "      <td>1</td>\n",
       "      <td>0</td>\n",
       "    </tr>\n",
       "    <tr>\n",
       "      <th>9</th>\n",
       "      <td>0</td>\n",
       "      <td>1</td>\n",
       "      <td>0</td>\n",
       "      <td>0</td>\n",
       "      <td>0</td>\n",
       "    </tr>\n",
       "  </tbody>\n",
       "</table>\n",
       "</div>"
      ],
      "text/plain": [
       "smoke    0    1   2   3  9\n",
       "ed                        \n",
       "0       12    4   1   2  0\n",
       "1       57  102  12  10  2\n",
       "2      202  176  40  22  4\n",
       "3       21   33   3   6  2\n",
       "4      138  102  21  35  2\n",
       "5      109   65  18  27  0\n",
       "7        5    1   0   1  0\n",
       "9        0    1   0   0  0"
      ]
     },
     "execution_count": 38,
     "metadata": {},
     "output_type": "execute_result"
    }
   ],
   "source": [
    "cont_table = pd.crosstab(df_babies['ed'], df_babies['smoke'])\n",
    "cont_table"
   ]
  },
  {
   "cell_type": "code",
   "execution_count": 39,
   "metadata": {},
   "outputs": [],
   "source": [
    "chi2, p_value, dof, ex = chi2_contingency(cont_table)"
   ]
  },
  {
   "cell_type": "code",
   "execution_count": 40,
   "metadata": {},
   "outputs": [
    {
     "data": {
      "text/plain": [
       "6.000912536921962e-05"
      ]
     },
     "execution_count": 40,
     "metadata": {},
     "output_type": "execute_result"
    }
   ],
   "source": [
    "p_value\n",
    "# on rejette donc l'hypothèse H_0 d'indépendance entre le niveau d'éducation et le fait de fumer sur ces données.\n",
    "# on accepte donc l'hyphèse quelle sont liées..."
   ]
  },
  {
   "cell_type": "code",
   "execution_count": 41,
   "metadata": {},
   "outputs": [
    {
     "data": {
      "text/plain": [
       "66.30862239116085"
      ]
     },
     "execution_count": 41,
     "metadata": {},
     "output_type": "execute_result"
    }
   ],
   "source": [
    "chi2"
   ]
  },
  {
   "cell_type": "code",
   "execution_count": 42,
   "metadata": {},
   "outputs": [
    {
     "data": {
      "text/plain": [
       "28"
      ]
     },
     "execution_count": 42,
     "metadata": {},
     "output_type": "execute_result"
    }
   ],
   "source": [
    "dof"
   ]
  },
  {
   "cell_type": "markdown",
   "metadata": {},
   "source": [
    "# Question: comparer à la main avec un degré de liberté bien choisi"
   ]
  },
  {
   "cell_type": "code",
   "execution_count": 43,
   "metadata": {},
   "outputs": [
    {
     "data": {
      "text/plain": [
       "array([[8.36245955e+00, 7.44012945e+00, 1.46035599e+00, 1.58333333e+00,\n",
       "        1.53721683e-01],\n",
       "       [8.05436893e+01, 7.16601942e+01, 1.40655340e+01, 1.52500000e+01,\n",
       "        1.48058252e+00],\n",
       "       [1.95417476e+02, 1.73864078e+02, 3.41262136e+01, 3.70000000e+01,\n",
       "        3.59223301e+00],\n",
       "       [2.86084142e+01, 2.54530744e+01, 4.99595469e+00, 5.41666667e+00,\n",
       "        5.25889968e-01],\n",
       "       [1.31158576e+02, 1.16692557e+02, 2.29045307e+01, 2.48333333e+01,\n",
       "        2.41100324e+00],\n",
       "       [9.63883495e+01, 8.57572816e+01, 1.68325243e+01, 1.82500000e+01,\n",
       "        1.77184466e+00],\n",
       "       [3.08090615e+00, 2.74110032e+00, 5.38025890e-01, 5.83333333e-01,\n",
       "        5.66343042e-02],\n",
       "       [4.40129450e-01, 3.91585761e-01, 7.68608414e-02, 8.33333333e-02,\n",
       "        8.09061489e-03]])"
      ]
     },
     "execution_count": 43,
     "metadata": {},
     "output_type": "execute_result"
    }
   ],
   "source": [
    "ex "
   ]
  },
  {
   "cell_type": "code",
   "execution_count": 44,
   "metadata": {},
   "outputs": [
    {
     "data": {
      "text/plain": [
       "Power_divergenceResult(statistic=66.30862239116085, pvalue=6.000912536921962e-05)"
      ]
     },
     "execution_count": 44,
     "metadata": {},
     "output_type": "execute_result"
    }
   ],
   "source": [
    "chisquare(cont_table.values.ravel(), f_exp=ex.ravel(), ddof=cont_table.size - 1 - dof)"
   ]
  },
  {
   "cell_type": "code",
   "execution_count": null,
   "metadata": {},
   "outputs": [],
   "source": []
  },
  {
   "cell_type": "markdown",
   "metadata": {},
   "source": [
    "Remarque: il se trouve que la loi du $\\chi^2$ pour ce type de test est une distribution du $\\chi^2_{(c-1)(l-1)}$\n",
    "avec $c$ le nombre de colonnes, et $l$ le nombre de ligne du tableau."
   ]
  },
  {
   "cell_type": "markdown",
   "metadata": {},
   "source": [
    "## Courbes ROC"
   ]
  },
  {
   "cell_type": "code",
   "execution_count": 45,
   "metadata": {},
   "outputs": [],
   "source": [
    "\"\"\"\n",
    "Graphics for Roc curve\n",
    "author: portier, salmon\n",
    "\"\"\"\n",
    "\n",
    "import numpy as np\n",
    "import matplotlib.pyplot as plt\n",
    "import os\n",
    "from matplotlib import rc\n",
    "import seaborn as sns\n",
    "from scipy.stats import norm\n",
    "import matplotlib.patches as mpatches\n",
    "\n",
    "###############################################################################\n",
    "# os.chdir('/Users/francois/Desktop/Cours/mdi720/cours/5-IC_Tests/')\n",
    "cwd = os.getcwd()\n",
    "\n",
    "dirname = \"../prebuiltimages/\"\n",
    "if not os.path.exists(dirname):\n",
    "    os.mkdir(dirname)\n",
    "imageformat = '.pdf'\n",
    "\n",
    "\n",
    "def my_saving_display(fig, dirname, filename, imageformat):\n",
    "    \"\"\"\"saving faster\"\"\"\n",
    "    dirname + filename + imageformat\n",
    "    image_name = dirname + filename + imageformat\n",
    "    fig.savefig(image_name)\n",
    "\n",
    "\n",
    "###############################################################################\n",
    "# new color\n",
    "\n",
    "rc('font', **{'family': 'sans-serif', 'sans-serif': ['Computer Modern Roman']})\n",
    "params = {'axes.labelsize': 12,\n",
    "          'font.size': 10,\n",
    "          'legend.fontsize': 8,\n",
    "          'xtick.labelsize': 0,\n",
    "          'ytick.labelsize': 0,\n",
    "          'text.usetex': True,\n",
    "          'figure.figsize': (8, 6)}\n",
    "plt.rcParams.update(params)\n",
    "\n",
    "sns.set_context(\"poster\")\n",
    "sns.set_style(\"white\")\n",
    "sns.set_palette(\"colorblind\")\n",
    "sns.despine(ax=None, top=True, right=True, left=True, bottom=True)\n",
    "color_blind_list = sns.color_palette(\"colorblind\", 8)\n",
    "my_orange = color_blind_list[2]\n",
    "my_green = color_blind_list[1]\n",
    "my_blue = color_blind_list[0]\n",
    "\n",
    "\n",
    "###############################################################################\n",
    "# Gaussian pdf\n",
    "\n",
    "xs = np.linspace(-1, 9, num=150)\n",
    "bbox_props = dict(boxstyle=\"round\", fc=\"w\", ec=\"0.5\", alpha=0.9)"
   ]
  },
  {
   "cell_type": "code",
   "execution_count": 46,
   "metadata": {},
   "outputs": [],
   "source": [
    "def plot_roc_n_graph(q=1.75, mu_normal=1.5, sigma2_normal=1, mu_abnormal=3.2, sigma2_abnormal=1.2):\n",
    "    y1 = norm.pdf(xs, loc=mu_normal, scale=np.sqrt(sigma2_normal))\n",
    "    y2 = norm.pdf(xs, loc=mu_abnormal, scale=np.sqrt(sigma2_abnormal))\n",
    "\n",
    "    fig, ax = plt.subplots(1, 2, figsize=(13, 6))\n",
    "    FN = 1 - norm.cdf(q, loc=mu_normal, scale=np.sqrt(sigma2_normal))\n",
    "    FP = 1 - norm.cdf(q, loc=mu_abnormal, scale=np.sqrt(sigma2_abnormal))\n",
    "\n",
    "    FN_full = 1 - norm.cdf(xs, loc=mu_normal, scale=np.sqrt(sigma2_normal))\n",
    "    FP_full = 1 - norm.cdf(xs, loc=mu_abnormal, scale=np.sqrt(sigma2_abnormal))\n",
    "\n",
    "    ax[0].plot(FN_full, FP_full, 'k', linewidth=7)\n",
    "    ax[0].plot(FN, FP, 'o', c='red', markersize=20)\n",
    "    ax[0].set_xlabel('FP', fontsize=30)\n",
    "    ax[0].set_ylabel('1-FN', fontsize=30)\n",
    "    ax[0].tick_params(axis='both', which='major', labelsize=30)\n",
    "    ax[0].set_xlim([-0.1, 1.3])\n",
    "    ax[0].set_ylim([-0.1, 1.3])\n",
    "\n",
    "    mod_norm = 1. / np.sqrt(2 * 3.14 * sigma2_normal)\n",
    "    mod_abnorm = 1. / np.sqrt(2 * 3.14 * sigma2_abnormal)\n",
    "\n",
    "    ax[1].text(mu_normal - 1.9, mod_norm - .21, '$H_0$', ha=\"center\",\n",
    "               va=\"bottom\", size=20, bbox=bbox_props)\n",
    "    ax[1].text(mu_abnormal + 1.49, mod_abnorm - 0.1, '$H_1$', ha=\"center\",\n",
    "               va=\"bottom\", size=20, bbox=bbox_props)\n",
    "    ax[1].text(q + .2, np.max([y1, y2]) + 0.05, '$q= ' + str(q) + '$',\n",
    "               fontsize=30, fontweight='bold')\n",
    "\n",
    "    ax[1].plot(xs, y1, color='k', linewidth=1)\n",
    "    ax[1].plot(xs, y2, color='k', linewidth=1)\n",
    "\n",
    "    ax[1].fill_between(xs, y2, where=xs <= q, facecolor=color_blind_list[1])\n",
    "    ax[1].fill_between(xs, y1, where=xs >= q, facecolor=color_blind_list[0])\n",
    "\n",
    "    ax[1].set_xlim([xs.min(), xs.max()])\n",
    "    ax[1].set_ylim([-0.05, np.max([y1, y2]) + .1])\n",
    "    ax[1].axvline(x=q, color='k', linewidth=5)\n",
    "    sns.set_style(\"ticks\")\n",
    "    sns.despine()\n",
    "    classes = ['FN', 'FP']\n",
    "    class_colours = [color_blind_list[1], color_blind_list[0]]\n",
    "    recs = []\n",
    "    for i in range(0, len(class_colours)):\n",
    "        recs.append(mpatches.Rectangle((0, 0), 1, 1, fc=class_colours[i]))\n",
    "    leg = plt.legend(recs, classes, loc=1, fontsize=14)\n",
    "\n",
    "    filename = 'fig_'\n",
    "    plt.tight_layout()\n",
    "    plt.show()\n",
    "#     my_saving_display(fig, dirname, filename, imageformat)"
   ]
  },
  {
   "cell_type": "code",
   "execution_count": 47,
   "metadata": {},
   "outputs": [
    {
     "data": {
      "application/vnd.jupyter.widget-view+json": {
       "model_id": "c4b2bcdb9431405684c5acd992aee0f5",
       "version_major": 2,
       "version_minor": 0
      },
      "text/plain": [
       "interactive(children=(FloatSlider(value=1.75, description='q', max=8.0, step=0.05), FloatSlider(value=1.5, des…"
      ]
     },
     "metadata": {},
     "output_type": "display_data"
    },
    {
     "data": {
      "text/plain": [
       "<function __main__.plot_roc_n_graph(q=1.75, mu_normal=1.5, sigma2_normal=1, mu_abnormal=3.2, sigma2_abnormal=1.2)>"
      ]
     },
     "execution_count": 47,
     "metadata": {},
     "output_type": "execute_result"
    }
   ],
   "source": [
    "from ipywidgets import interact\n",
    "\n",
    "interact(plot_roc_n_graph,\n",
    "         mu_normal= (1,3,0.5),\n",
    "         sigma2_normal = (0.2, 2, 0.2),\n",
    "         mu_abnormal= (1, 5, 0.5),\n",
    "         sigma2_abnormal = (0.2, 2, 0.2),\n",
    "         q=(0, 8, 0.05))"
   ]
  },
  {
   "cell_type": "code",
   "execution_count": null,
   "metadata": {},
   "outputs": [],
   "source": []
  }
 ],
 "metadata": {
  "kernelspec": {
   "display_name": "Python 3",
   "language": "python",
   "name": "python3"
  },
  "language_info": {
   "codemirror_mode": {
    "name": "ipython",
    "version": 3
   },
   "file_extension": ".py",
   "mimetype": "text/x-python",
   "name": "python",
   "nbconvert_exporter": "python",
   "pygments_lexer": "ipython3",
   "version": "3.8.5"
  },
  "toc": {
   "base_numbering": 1,
   "nav_menu": {},
   "number_sections": false,
   "sideBar": true,
   "skip_h1_title": false,
   "title_cell": "Table of Contents",
   "title_sidebar": "Contents",
   "toc_cell": false,
   "toc_position": {},
   "toc_section_display": true,
   "toc_window_display": true
  }
 },
 "nbformat": 4,
 "nbformat_minor": 2
}
