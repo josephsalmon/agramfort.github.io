{
 "cells": [
  {
   "cell_type": "markdown",
   "metadata": {},
   "source": [
    "# TP2 - HMLA408: Joseph Salmon"
   ]
  },
  {
   "cell_type": "markdown",
   "metadata": {},
   "source": [
    "## Question: importer la fonction chisquare"
   ]
  },
  {
   "cell_type": "code",
   "execution_count": 39,
   "metadata": {
    "collapsed": false
   },
   "outputs": [],
   "source": [
    "from scipy.stats import chisquare, norm, shapiro, poisson, chi2, chi2_contingency\n",
    "chisquare?"
   ]
  },
  {
   "cell_type": "markdown",
   "metadata": {},
   "source": [
    "## Question: cobayes"
   ]
  },
  {
   "cell_type": "code",
   "execution_count": 2,
   "metadata": {
    "collapsed": false
   },
   "outputs": [],
   "source": [
    "import numpy as np\n",
    "cobaye = np.array([33, 13, 15, 3])\n",
    "mendel = np.array([9/16, 3/16, 3/16, 1/16])"
   ]
  },
  {
   "cell_type": "code",
   "execution_count": 3,
   "metadata": {
    "collapsed": false
   },
   "outputs": [
    {
     "name": "stdout",
     "output_type": "stream",
     "text": [
      "1.3333333333333333 0.7212333746277604\n"
     ]
    }
   ],
   "source": [
    "a, b = chisquare(cobaye, f_exp=mendel * np.sum(cobaye))\n",
    "print(a, b)"
   ]
  },
  {
   "cell_type": "code",
   "execution_count": 4,
   "metadata": {
    "collapsed": false
   },
   "outputs": [],
   "source": [
    "from scipy.stats import chi2\n",
    "np.testing.assert_almost_equal(1-chi2.cdf(a, 3), b) # exemple testing that two quantities are numerically equal"
   ]
  },
  {
   "cell_type": "markdown",
   "metadata": {},
   "source": [
    "## Question: importer pandas"
   ]
  },
  {
   "cell_type": "code",
   "execution_count": 5,
   "metadata": {
    "collapsed": false
   },
   "outputs": [],
   "source": [
    "import pandas as pd"
   ]
  },
  {
   "cell_type": "code",
   "execution_count": 6,
   "metadata": {
    "collapsed": false
   },
   "outputs": [
    {
     "name": "stdout",
     "output_type": "stream",
     "text": [
      "[-8.45353363e-02 -1.20453068e+00  4.67508562e-01 -8.56165014e-01\n",
      "  1.75023856e-01 -4.71218710e-01  1.66297979e+00 -2.84143870e-01\n",
      "  3.02714884e+00  1.10995719e-01  4.02821056e-01 -1.52331744e+00\n",
      " -1.32487561e+00 -6.63346037e-01  6.28787703e-01 -8.05227229e-02\n",
      " -1.20109924e+00  7.85654741e-01  4.16634404e-01  1.11943312e+00\n",
      " -1.23979086e+00  2.50002571e-02 -4.16023466e-01  2.28697882e-03\n",
      "  4.44423879e-01  5.79095777e-01 -3.81399280e-01 -2.60473797e-01\n",
      " -2.10280990e-01  4.06500734e-01  1.27071130e+00 -7.21214054e-01\n",
      " -9.85972533e-01  1.97904153e+00  3.61205496e-01 -6.10407210e-01\n",
      "  5.85580433e-01 -4.98272396e-02  1.03327921e+00  1.19576268e+00\n",
      " -6.02099318e-01  1.15253577e+00 -1.78012401e+00  3.16170906e-01\n",
      "  4.03232190e-01 -8.11766472e-01  1.81017410e+00 -3.59488084e-01\n",
      "  4.05680695e-01  5.12445916e-01]\n"
     ]
    }
   ],
   "source": [
    "echantillon_gaussien = np.random.randn(50)\n",
    "bins = np.array([-np.inf, -2, -1, 0, 1, 2, np.inf])\n",
    "print(echantillon_gaussien)"
   ]
  },
  {
   "cell_type": "code",
   "execution_count": 7,
   "metadata": {
    "collapsed": false
   },
   "outputs": [
    {
     "data": {
      "text/plain": [
       "Interval(-1.0, 0.0, closed='right')"
      ]
     },
     "execution_count": 7,
     "metadata": {},
     "output_type": "execute_result"
    }
   ],
   "source": [
    "echantillon_regroupe = pd.cut(echantillon_gaussien,bins=bins)  # jamais d'accent dans les noms de variables\n",
    "echantillon_regroupe[22]"
   ]
  },
  {
   "cell_type": "code",
   "execution_count": 8,
   "metadata": {
    "collapsed": false
   },
   "outputs": [
    {
     "data": {
      "text/plain": [
       "(-inf, -2.0]     0\n",
       "(-2.0, -1.0]     6\n",
       "(-1.0, 0.0]     17\n",
       "(0.0, 1.0]      18\n",
       "(1.0, 2.0]       8\n",
       "(2.0, inf]       1\n",
       "dtype: int64"
      ]
     },
     "execution_count": 8,
     "metadata": {},
     "output_type": "execute_result"
    }
   ],
   "source": [
    "echantillon_regroupe.value_counts()"
   ]
  },
  {
   "cell_type": "code",
   "execution_count": 9,
   "metadata": {
    "collapsed": false
   },
   "outputs": [
    {
     "data": {
      "text/plain": [
       "(0.0, 1.0]      18\n",
       "(-1.0, 0.0]     17\n",
       "(1.0, 2.0]       8\n",
       "(-2.0, -1.0]     6\n",
       "(2.0, inf]       1\n",
       "(-inf, -2.0]     0\n",
       "dtype: int64"
      ]
     },
     "execution_count": 9,
     "metadata": {},
     "output_type": "execute_result"
    }
   ],
   "source": [
    "pd.value_counts(echantillon_regroupe)"
   ]
  },
  {
   "cell_type": "code",
   "execution_count": 10,
   "metadata": {
    "collapsed": true
   },
   "outputs": [],
   "source": [
    "effectifs_classes = echantillon_regroupe.value_counts()"
   ]
  },
  {
   "cell_type": "markdown",
   "metadata": {},
   "source": [
    "## Question: fonction de répartition\n"
   ]
  },
  {
   "cell_type": "code",
   "execution_count": 11,
   "metadata": {
    "collapsed": false
   },
   "outputs": [
    {
     "data": {
      "text/plain": [
       "0.5"
      ]
     },
     "execution_count": 11,
     "metadata": {},
     "output_type": "execute_result"
    }
   ],
   "source": [
    "norm.cdf(0)"
   ]
  },
  {
   "cell_type": "code",
   "execution_count": 12,
   "metadata": {
    "collapsed": false
   },
   "outputs": [
    {
     "data": {
      "text/plain": [
       "0.9750021048517795"
      ]
     },
     "execution_count": 12,
     "metadata": {},
     "output_type": "execute_result"
    }
   ],
   "source": [
    "norm.cdf(1.96)"
   ]
  },
  {
   "cell_type": "code",
   "execution_count": 13,
   "metadata": {
    "collapsed": false
   },
   "outputs": [
    {
     "name": "stdout",
     "output_type": "stream",
     "text": [
      "[0.02275013 0.13590512 0.34134475 0.34134475 0.13590512 0.02275013]\n"
     ]
    },
    {
     "data": {
      "text/plain": [
       "array([0.02275013, 0.13590512, 0.34134475, 0.34134475, 0.13590512,\n",
       "       0.02275013])"
      ]
     },
     "execution_count": 13,
     "metadata": {},
     "output_type": "execute_result"
    }
   ],
   "source": [
    "p1 = norm.cdf(bins[1])\n",
    "p2 = norm.cdf(bins[2]) - norm.cdf(bins[1])\n",
    "p3 = norm.cdf(bins[3]) - norm.cdf(bins[2])\n",
    "p4 = norm.cdf(bins[4]) - norm.cdf(bins[3])\n",
    "p5 = norm.cdf(bins[5]) - norm.cdf(bins[4])\n",
    "p6 = 1 - norm.cdf(bins[5])\n",
    "probas = np.array([p1, p2, p3, p4, p5, p6])\n",
    "print(probas)\n",
    "np.diff(norm.cdf(bins))"
   ]
  },
  {
   "cell_type": "markdown",
   "metadata": {},
   "source": [
    "## Question: test du $\\chi^2$"
   ]
  },
  {
   "cell_type": "code",
   "execution_count": 14,
   "metadata": {
    "collapsed": false
   },
   "outputs": [
    {
     "data": {
      "text/plain": [
       "array([ 1.1375066,  6.7952561, 17.0672373, 17.0672373,  6.7952561,\n",
       "        1.1375066])"
      ]
     },
     "execution_count": 14,
     "metadata": {},
     "output_type": "execute_result"
    }
   ],
   "source": [
    "np.diff(norm.cdf(bins)) * echantillon_regroupe.shape[0]"
   ]
  },
  {
   "cell_type": "code",
   "execution_count": 15,
   "metadata": {
    "collapsed": false
   },
   "outputs": [
    {
     "data": {
      "text/plain": [
       "Power_divergenceResult(statistic=1.5120324426079348, pvalue=0.9116771108453586)"
      ]
     },
     "execution_count": 15,
     "metadata": {},
     "output_type": "execute_result"
    }
   ],
   "source": [
    "chisquare(effectifs_classes, np.diff(norm.cdf(bins)) * echantillon_regroupe.shape[0])\n",
    "# on ne rejette pas l'hypothèse aux seuil 1, 5 10 %...pvalue=0.14"
   ]
  },
  {
   "cell_type": "markdown",
   "metadata": {},
   "source": [
    "# Question: reprise du test avec d'autres intervalles (plus larges effectifs)"
   ]
  },
  {
   "cell_type": "code",
   "execution_count": 16,
   "metadata": {
    "collapsed": false
   },
   "outputs": [
    {
     "data": {
      "text/plain": [
       "Power_divergenceResult(statistic=6.9032883209059275, pvalue=0.1410881145003066)"
      ]
     },
     "execution_count": 16,
     "metadata": {},
     "output_type": "execute_result"
    }
   ],
   "source": [
    "echantillon_gaussien = np.random.randn(100)\n",
    "bins = np.array([-np.inf, -1.5, -0.5, 0.5, 1.5, np.inf])\n",
    "echantillon_regroupe = pd.cut(echantillon_gaussien,bins=bins)  # jamais d'accent dans les noms de variables\n",
    "effectifs_classes = echantillon_regroupe.value_counts()\n",
    "chisquare(effectifs_classes, np.diff(norm.cdf(bins)) * echantillon_regroupe.shape[0])"
   ]
  },
  {
   "cell_type": "markdown",
   "metadata": {},
   "source": [
    "# Question: Shapiro-Wilk\n",
    "La loi de la statistique de test sous H0: \"la distribution de l'échantillon est gaussienne\"\n",
    "est calculable par Python et on obtient directement la statistique associée et la p-value."
   ]
  },
  {
   "cell_type": "code",
   "execution_count": 17,
   "metadata": {
    "collapsed": false
   },
   "outputs": [
    {
     "data": {
      "text/plain": [
       "(0.9854817390441895, 0.3438335061073303)"
      ]
     },
     "execution_count": 17,
     "metadata": {},
     "output_type": "execute_result"
    }
   ],
   "source": [
    "shapiro(echantillon_gaussien)\n",
    "# ici par exemple p-value 0.68, donc on ne rejette pas H0 (ce qui est attendu vu que nos données sont bien Gaussiennes) "
   ]
  },
  {
   "cell_type": "code",
   "execution_count": 18,
   "metadata": {
    "collapsed": false
   },
   "outputs": [
    {
     "data": {
      "text/plain": [
       "(0.849018931388855, 1.0911315406758604e-08)"
      ]
     },
     "execution_count": 18,
     "metadata": {},
     "output_type": "execute_result"
    }
   ],
   "source": [
    "echantillon_exponential = np.random.exponential(1,100)\n",
    "shapiro(echantillon_exponential)\n",
    "# Ici rejet clair!"
   ]
  },
  {
   "cell_type": "markdown",
   "metadata": {},
   "source": [
    "## Question: Download"
   ]
  },
  {
   "cell_type": "code",
   "execution_count": 19,
   "metadata": {
    "collapsed": false
   },
   "outputs": [
    {
     "name": "stdout",
     "output_type": "stream",
     "text": [
      "Replace is False and data exists, so doing nothing. Use replace==True to re-download the data.\n"
     ]
    },
    {
     "data": {
      "text/plain": [
       "'./hcmv.data'"
      ]
     },
     "execution_count": 19,
     "metadata": {},
     "output_type": "execute_result"
    }
   ],
   "source": [
    "from download import download\n",
    "url = \"http://josephsalmon.eu/enseignement/datasets/hcmv.data\"\n",
    "# url = \"http://www.stat.berkeley.edu/users/statlabs/data/hcmv.data\" # backup url, without header.\n",
    "path_target = \"./hcmv.data\"\n",
    "download(url, path_target, replace=False)"
   ]
  },
  {
   "cell_type": "code",
   "execution_count": 20,
   "metadata": {
    "collapsed": false
   },
   "outputs": [
    {
     "data": {
      "text/html": [
       "<div>\n",
       "<style scoped>\n",
       "    .dataframe tbody tr th:only-of-type {\n",
       "        vertical-align: middle;\n",
       "    }\n",
       "\n",
       "    .dataframe tbody tr th {\n",
       "        vertical-align: top;\n",
       "    }\n",
       "\n",
       "    .dataframe thead th {\n",
       "        text-align: right;\n",
       "    }\n",
       "</style>\n",
       "<table border=\"1\" class=\"dataframe\">\n",
       "  <thead>\n",
       "    <tr style=\"text-align: right;\">\n",
       "      <th></th>\n",
       "      <th>location</th>\n",
       "    </tr>\n",
       "  </thead>\n",
       "  <tbody>\n",
       "    <tr>\n",
       "      <th>0</th>\n",
       "      <td>177</td>\n",
       "    </tr>\n",
       "    <tr>\n",
       "      <th>1</th>\n",
       "      <td>1321</td>\n",
       "    </tr>\n",
       "    <tr>\n",
       "      <th>2</th>\n",
       "      <td>1433</td>\n",
       "    </tr>\n",
       "    <tr>\n",
       "      <th>3</th>\n",
       "      <td>1477</td>\n",
       "    </tr>\n",
       "    <tr>\n",
       "      <th>4</th>\n",
       "      <td>3248</td>\n",
       "    </tr>\n",
       "    <tr>\n",
       "      <th>5</th>\n",
       "      <td>3255</td>\n",
       "    </tr>\n",
       "    <tr>\n",
       "      <th>6</th>\n",
       "      <td>3286</td>\n",
       "    </tr>\n",
       "    <tr>\n",
       "      <th>7</th>\n",
       "      <td>7263</td>\n",
       "    </tr>\n",
       "    <tr>\n",
       "      <th>8</th>\n",
       "      <td>9023</td>\n",
       "    </tr>\n",
       "    <tr>\n",
       "      <th>9</th>\n",
       "      <td>9084</td>\n",
       "    </tr>\n",
       "  </tbody>\n",
       "</table>\n",
       "</div>"
      ],
      "text/plain": [
       "   location\n",
       "0       177\n",
       "1      1321\n",
       "2      1433\n",
       "3      1477\n",
       "4      3248\n",
       "5      3255\n",
       "6      3286\n",
       "7      7263\n",
       "8      9023\n",
       "9      9084"
      ]
     },
     "execution_count": 20,
     "metadata": {},
     "output_type": "execute_result"
    }
   ],
   "source": [
    "df_hmcv = pd.read_csv(\"hcmv.data\", sep='\\s+') # \\s+ : for hanlding spaces\n",
    "df_hmcv.head(n=10)  # df stands for Data Frame"
   ]
  },
  {
   "cell_type": "code",
   "execution_count": 21,
   "metadata": {
    "collapsed": false
   },
   "outputs": [
    {
     "data": {
      "text/plain": [
       "296"
      ]
     },
     "execution_count": 21,
     "metadata": {},
     "output_type": "execute_result"
    }
   ],
   "source": [
    "n_basis = 229354\n",
    "n_palindromes = df_hmcv.count()['location']\n",
    "lambda_hat = n_palindromes / n_basis * 4000\n",
    "n_palindromes"
   ]
  },
  {
   "cell_type": "code",
   "execution_count": 22,
   "metadata": {
    "collapsed": false
   },
   "outputs": [],
   "source": [
    "new_bins = np.concatenate([[-np.inf],np.arange(1, n_basis, step=4000),[np.inf]])"
   ]
  },
  {
   "cell_type": "code",
   "execution_count": 23,
   "metadata": {
    "collapsed": false
   },
   "outputs": [
    {
     "data": {
      "text/plain": [
       "array([       -inf, 1.00000e+00, 4.00100e+03, 8.00100e+03, 1.20010e+04,\n",
       "       1.60010e+04, 2.00010e+04, 2.40010e+04, 2.80010e+04, 3.20010e+04,\n",
       "       3.60010e+04, 4.00010e+04, 4.40010e+04, 4.80010e+04, 5.20010e+04,\n",
       "       5.60010e+04, 6.00010e+04, 6.40010e+04, 6.80010e+04, 7.20010e+04,\n",
       "       7.60010e+04, 8.00010e+04, 8.40010e+04, 8.80010e+04, 9.20010e+04,\n",
       "       9.60010e+04, 1.00001e+05, 1.04001e+05, 1.08001e+05, 1.12001e+05,\n",
       "       1.16001e+05, 1.20001e+05, 1.24001e+05, 1.28001e+05, 1.32001e+05,\n",
       "       1.36001e+05, 1.40001e+05, 1.44001e+05, 1.48001e+05, 1.52001e+05,\n",
       "       1.56001e+05, 1.60001e+05, 1.64001e+05, 1.68001e+05, 1.72001e+05,\n",
       "       1.76001e+05, 1.80001e+05, 1.84001e+05, 1.88001e+05, 1.92001e+05,\n",
       "       1.96001e+05, 2.00001e+05, 2.04001e+05, 2.08001e+05, 2.12001e+05,\n",
       "       2.16001e+05, 2.20001e+05, 2.24001e+05, 2.28001e+05,         inf])"
      ]
     },
     "execution_count": 23,
     "metadata": {},
     "output_type": "execute_result"
    }
   ],
   "source": [
    "new_bins"
   ]
  },
  {
   "cell_type": "code",
   "execution_count": 24,
   "metadata": {
    "collapsed": false
   },
   "outputs": [],
   "source": [
    "counts_bin = [-np.inf, 2, 3, 4, 5, 6, 7, 8, np.inf]\n",
    "# jamais d'accent dans les noms de variables\n",
    "hmcv_regroupe = pd.cut(df_hmcv['location'], bins=new_bins)\n",
    "counts_palindrome = hmcv_regroupe.value_counts(sort=False)\n",
    "count_regroupe = pd.cut(counts_palindrome, counts_bin,\n",
    "                        right=True).value_counts(sort=False)"
   ]
  },
  {
   "cell_type": "code",
   "execution_count": 25,
   "metadata": {
    "collapsed": false
   },
   "outputs": [
    {
     "data": {
      "text/plain": [
       "(-inf, 2.0]     9\n",
       "(2.0, 3.0]      8\n",
       "(3.0, 4.0]     10\n",
       "(4.0, 5.0]      9\n",
       "(5.0, 6.0]      8\n",
       "(6.0, 7.0]      5\n",
       "(7.0, 8.0]      4\n",
       "(8.0, inf]      6\n",
       "Name: location, dtype: int64"
      ]
     },
     "execution_count": 25,
     "metadata": {},
     "output_type": "execute_result"
    }
   ],
   "source": [
    "count_regroupe"
   ]
  },
  {
   "cell_type": "code",
   "execution_count": 26,
   "metadata": {
    "collapsed": true
   },
   "outputs": [],
   "source": [
    "bins_poisson = [-np.inf, 2, 3, 4, 5, 6, 7, 8, np.inf]\n",
    "count_regroupe = pd.cut(counts_palindrome, bins_poisson, right=True, labels=[\n",
    "                             '0-2', '3', '4', '5', '6', '7', '8','9-']).value_counts(sort=False)"
   ]
  },
  {
   "cell_type": "code",
   "execution_count": 27,
   "metadata": {
    "collapsed": false
   },
   "outputs": [
    {
     "data": {
      "text/plain": [
       "0-2     9\n",
       "3       8\n",
       "4      10\n",
       "5       9\n",
       "6       8\n",
       "7       5\n",
       "8       4\n",
       "9-      6\n",
       "Name: location, dtype: int64"
      ]
     },
     "execution_count": 27,
     "metadata": {},
     "output_type": "execute_result"
    }
   ],
   "source": [
    "count_regroupe"
   ]
  },
  {
   "cell_type": "code",
   "execution_count": 28,
   "metadata": {
    "collapsed": false
   },
   "outputs": [
    {
     "data": {
      "text/plain": [
       "array([0.11162934, 0.13134557, 0.16951215, 0.17501537, 0.15058105,\n",
       "       0.11104977, 0.07165938, 0.07920736])"
      ]
     },
     "execution_count": 28,
     "metadata": {},
     "output_type": "execute_result"
    }
   ],
   "source": [
    "np.diff(poisson.cdf(bins_poisson, lambda_hat))"
   ]
  },
  {
   "cell_type": "code",
   "execution_count": 29,
   "metadata": {
    "collapsed": false
   },
   "outputs": [
    {
     "data": {
      "text/plain": [
       "array([0.        , 0.11162934, 0.24297491, 0.41248705, 0.58750243,\n",
       "       0.73808348, 0.84913325, 0.92079264, 1.        ])"
      ]
     },
     "execution_count": 29,
     "metadata": {},
     "output_type": "execute_result"
    }
   ],
   "source": [
    "poisson.cdf(bins_poisson, lambda_hat)"
   ]
  },
  {
   "cell_type": "code",
   "execution_count": 30,
   "metadata": {
    "collapsed": false
   },
   "outputs": [
    {
     "data": {
      "text/plain": [
       "array([0.11162934, 0.13134557, 0.16951215, 0.17501537, 0.15058105,\n",
       "       0.11104977, 0.07165938, 0.07920736])"
      ]
     },
     "execution_count": 30,
     "metadata": {},
     "output_type": "execute_result"
    }
   ],
   "source": [
    "np.diff(poisson.cdf(bins_poisson, lambda_hat))"
   ]
  },
  {
   "cell_type": "code",
   "execution_count": 31,
   "metadata": {
    "collapsed": false
   },
   "outputs": [
    {
     "name": "stdout",
     "output_type": "stream",
     "text": [
      "1.907642554439036 0.9279935984980819\n"
     ]
    }
   ],
   "source": [
    "count_theoric = np.diff(poisson.cdf(bins_poisson, lambda_hat)) * count_regroupe.sum()\n",
    "chi2_stat, chi2_pvalue = chisquare(count_regroupe, count_theoric, ddof=1)\n",
    "# Attention au nombre de degrés de libertés, ddof=1 ici car on ne connait pas le parametre lambda\n",
    "print(chi2_stat, chi2_pvalue)"
   ]
  },
  {
   "cell_type": "markdown",
   "metadata": {},
   "source": [
    "# Question: $\\chi^2$ à la main"
   ]
  },
  {
   "cell_type": "code",
   "execution_count": 32,
   "metadata": {
    "collapsed": false
   },
   "outputs": [
    {
     "name": "stdout",
     "output_type": "stream",
     "text": [
      "0.9279935984980819\n"
     ]
    }
   ],
   "source": [
    "pvalue_manual = 1-chi2.cdf(1.907642554439036,df=6)\n",
    "print(pvalue_manual)"
   ]
  },
  {
   "cell_type": "code",
   "execution_count": 33,
   "metadata": {
    "collapsed": true
   },
   "outputs": [],
   "source": [
    "np.testing.assert_almost_equal(pvalue_manual, chi2_pvalue) "
   ]
  },
  {
   "cell_type": "markdown",
   "metadata": {},
   "source": [
    "# Chargement de la base de données "
   ]
  },
  {
   "cell_type": "code",
   "execution_count": 34,
   "metadata": {
    "collapsed": false
   },
   "outputs": [
    {
     "name": "stderr",
     "output_type": "stream",
     "text": [
      "\r",
      "file_sizes:   0%|                                    | 0.00/144k [00:00<?, ?B/s]"
     ]
    },
    {
     "name": "stdout",
     "output_type": "stream",
     "text": [
      "Downloading data from http://josephsalmon.eu/enseignement/datasets/babies23.data (141 kB)\n",
      "\n"
     ]
    },
    {
     "name": "stderr",
     "output_type": "stream",
     "text": [
      "file_sizes: 100%|█████████████████████████████| 144k/144k [00:00<00:00, 441kB/s]"
     ]
    },
    {
     "name": "stdout",
     "output_type": "stream",
     "text": [
      "Successfully downloaded file to ./babies23.data\n"
     ]
    },
    {
     "name": "stderr",
     "output_type": "stream",
     "text": [
      "\n"
     ]
    },
    {
     "data": {
      "text/plain": [
       "'./babies23.data'"
      ]
     },
     "execution_count": 34,
     "metadata": {},
     "output_type": "execute_result"
    }
   ],
   "source": [
    "url = \"http://josephsalmon.eu/enseignement/datasets/babies23.data\"\n",
    "path_target = \"./babies23.data\"\n",
    "download(url, path_target, replace=False)"
   ]
  },
  {
   "cell_type": "markdown",
   "metadata": {},
   "source": [
    "# Preoprocessing: only run once or big trouble (think about it!)"
   ]
  },
  {
   "cell_type": "code",
   "execution_count": 35,
   "metadata": {
    "collapsed": true
   },
   "outputs": [],
   "source": [
    "is_preprocessing_done = 0  # init at 0,if greater don't redo it\n",
    "pd.options.display.max_rows = 8  # set not to display to many lines in pandas\n",
    "pd.set_option('precision', 0)  # set to display number at precision 0 in pandas"
   ]
  },
  {
   "cell_type": "markdown",
   "metadata": {},
   "source": [
    "# Lecture de la base de données et constructions d'un dataframe:"
   ]
  },
  {
   "cell_type": "code",
   "execution_count": 36,
   "metadata": {
    "collapsed": false
   },
   "outputs": [
    {
     "data": {
      "text/html": [
       "<div>\n",
       "<style scoped>\n",
       "    .dataframe tbody tr th:only-of-type {\n",
       "        vertical-align: middle;\n",
       "    }\n",
       "\n",
       "    .dataframe tbody tr th {\n",
       "        vertical-align: top;\n",
       "    }\n",
       "\n",
       "    .dataframe thead th {\n",
       "        text-align: right;\n",
       "    }\n",
       "</style>\n",
       "<table border=\"1\" class=\"dataframe\">\n",
       "  <thead>\n",
       "    <tr style=\"text-align: right;\">\n",
       "      <th></th>\n",
       "      <th>id</th>\n",
       "      <th>pluralty</th>\n",
       "      <th>outcome</th>\n",
       "      <th>date</th>\n",
       "      <th>gestation</th>\n",
       "      <th>sex</th>\n",
       "      <th>wt</th>\n",
       "      <th>parity</th>\n",
       "      <th>race</th>\n",
       "      <th>age</th>\n",
       "      <th>...</th>\n",
       "      <th>drace</th>\n",
       "      <th>dage</th>\n",
       "      <th>ded</th>\n",
       "      <th>dht</th>\n",
       "      <th>dwt</th>\n",
       "      <th>marital</th>\n",
       "      <th>inc</th>\n",
       "      <th>smoke</th>\n",
       "      <th>time</th>\n",
       "      <th>number</th>\n",
       "    </tr>\n",
       "  </thead>\n",
       "  <tbody>\n",
       "    <tr>\n",
       "      <th>0</th>\n",
       "      <td>15</td>\n",
       "      <td>5</td>\n",
       "      <td>1</td>\n",
       "      <td>1411</td>\n",
       "      <td>284</td>\n",
       "      <td>1</td>\n",
       "      <td>120</td>\n",
       "      <td>1</td>\n",
       "      <td>8</td>\n",
       "      <td>27</td>\n",
       "      <td>...</td>\n",
       "      <td>8</td>\n",
       "      <td>31</td>\n",
       "      <td>5</td>\n",
       "      <td>65</td>\n",
       "      <td>110</td>\n",
       "      <td>1</td>\n",
       "      <td>1</td>\n",
       "      <td>0</td>\n",
       "      <td>0</td>\n",
       "      <td>0</td>\n",
       "    </tr>\n",
       "    <tr>\n",
       "      <th>1</th>\n",
       "      <td>20</td>\n",
       "      <td>5</td>\n",
       "      <td>1</td>\n",
       "      <td>1499</td>\n",
       "      <td>282</td>\n",
       "      <td>1</td>\n",
       "      <td>113</td>\n",
       "      <td>2</td>\n",
       "      <td>0</td>\n",
       "      <td>33</td>\n",
       "      <td>...</td>\n",
       "      <td>0</td>\n",
       "      <td>38</td>\n",
       "      <td>5</td>\n",
       "      <td>70</td>\n",
       "      <td>148</td>\n",
       "      <td>1</td>\n",
       "      <td>4</td>\n",
       "      <td>0</td>\n",
       "      <td>0</td>\n",
       "      <td>0</td>\n",
       "    </tr>\n",
       "    <tr>\n",
       "      <th>2</th>\n",
       "      <td>58</td>\n",
       "      <td>5</td>\n",
       "      <td>1</td>\n",
       "      <td>1576</td>\n",
       "      <td>279</td>\n",
       "      <td>1</td>\n",
       "      <td>128</td>\n",
       "      <td>1</td>\n",
       "      <td>0</td>\n",
       "      <td>28</td>\n",
       "      <td>...</td>\n",
       "      <td>5</td>\n",
       "      <td>32</td>\n",
       "      <td>1</td>\n",
       "      <td>99</td>\n",
       "      <td>999</td>\n",
       "      <td>1</td>\n",
       "      <td>2</td>\n",
       "      <td>1</td>\n",
       "      <td>1</td>\n",
       "      <td>1</td>\n",
       "    </tr>\n",
       "    <tr>\n",
       "      <th>3</th>\n",
       "      <td>61</td>\n",
       "      <td>5</td>\n",
       "      <td>1</td>\n",
       "      <td>1504</td>\n",
       "      <td>999</td>\n",
       "      <td>1</td>\n",
       "      <td>123</td>\n",
       "      <td>2</td>\n",
       "      <td>0</td>\n",
       "      <td>36</td>\n",
       "      <td>...</td>\n",
       "      <td>3</td>\n",
       "      <td>43</td>\n",
       "      <td>4</td>\n",
       "      <td>68</td>\n",
       "      <td>197</td>\n",
       "      <td>1</td>\n",
       "      <td>8</td>\n",
       "      <td>3</td>\n",
       "      <td>5</td>\n",
       "      <td>5</td>\n",
       "    </tr>\n",
       "    <tr>\n",
       "      <th>...</th>\n",
       "      <td>...</td>\n",
       "      <td>...</td>\n",
       "      <td>...</td>\n",
       "      <td>...</td>\n",
       "      <td>...</td>\n",
       "      <td>...</td>\n",
       "      <td>...</td>\n",
       "      <td>...</td>\n",
       "      <td>...</td>\n",
       "      <td>...</td>\n",
       "      <td>...</td>\n",
       "      <td>...</td>\n",
       "      <td>...</td>\n",
       "      <td>...</td>\n",
       "      <td>...</td>\n",
       "      <td>...</td>\n",
       "      <td>...</td>\n",
       "      <td>...</td>\n",
       "      <td>...</td>\n",
       "      <td>...</td>\n",
       "      <td>...</td>\n",
       "    </tr>\n",
       "    <tr>\n",
       "      <th>6</th>\n",
       "      <td>102</td>\n",
       "      <td>5</td>\n",
       "      <td>1</td>\n",
       "      <td>1449</td>\n",
       "      <td>244</td>\n",
       "      <td>1</td>\n",
       "      <td>138</td>\n",
       "      <td>4</td>\n",
       "      <td>7</td>\n",
       "      <td>33</td>\n",
       "      <td>...</td>\n",
       "      <td>7</td>\n",
       "      <td>37</td>\n",
       "      <td>4</td>\n",
       "      <td>99</td>\n",
       "      <td>999</td>\n",
       "      <td>1</td>\n",
       "      <td>98</td>\n",
       "      <td>0</td>\n",
       "      <td>0</td>\n",
       "      <td>0</td>\n",
       "    </tr>\n",
       "    <tr>\n",
       "      <th>7</th>\n",
       "      <td>129</td>\n",
       "      <td>5</td>\n",
       "      <td>1</td>\n",
       "      <td>1562</td>\n",
       "      <td>245</td>\n",
       "      <td>1</td>\n",
       "      <td>132</td>\n",
       "      <td>2</td>\n",
       "      <td>7</td>\n",
       "      <td>23</td>\n",
       "      <td>...</td>\n",
       "      <td>7</td>\n",
       "      <td>23</td>\n",
       "      <td>4</td>\n",
       "      <td>71</td>\n",
       "      <td>192</td>\n",
       "      <td>1</td>\n",
       "      <td>2</td>\n",
       "      <td>0</td>\n",
       "      <td>0</td>\n",
       "      <td>0</td>\n",
       "    </tr>\n",
       "    <tr>\n",
       "      <th>8</th>\n",
       "      <td>142</td>\n",
       "      <td>5</td>\n",
       "      <td>1</td>\n",
       "      <td>1408</td>\n",
       "      <td>289</td>\n",
       "      <td>1</td>\n",
       "      <td>120</td>\n",
       "      <td>3</td>\n",
       "      <td>0</td>\n",
       "      <td>25</td>\n",
       "      <td>...</td>\n",
       "      <td>3</td>\n",
       "      <td>26</td>\n",
       "      <td>1</td>\n",
       "      <td>70</td>\n",
       "      <td>180</td>\n",
       "      <td>0</td>\n",
       "      <td>2</td>\n",
       "      <td>0</td>\n",
       "      <td>0</td>\n",
       "      <td>0</td>\n",
       "    </tr>\n",
       "    <tr>\n",
       "      <th>9</th>\n",
       "      <td>148</td>\n",
       "      <td>5</td>\n",
       "      <td>1</td>\n",
       "      <td>1568</td>\n",
       "      <td>299</td>\n",
       "      <td>1</td>\n",
       "      <td>143</td>\n",
       "      <td>3</td>\n",
       "      <td>0</td>\n",
       "      <td>30</td>\n",
       "      <td>...</td>\n",
       "      <td>0</td>\n",
       "      <td>34</td>\n",
       "      <td>5</td>\n",
       "      <td>99</td>\n",
       "      <td>999</td>\n",
       "      <td>1</td>\n",
       "      <td>2</td>\n",
       "      <td>1</td>\n",
       "      <td>1</td>\n",
       "      <td>4</td>\n",
       "    </tr>\n",
       "  </tbody>\n",
       "</table>\n",
       "<p>10 rows × 23 columns</p>\n",
       "</div>"
      ],
      "text/plain": [
       "     id  pluralty  outcome  date  gestation  sex   wt  parity  race  age  \\\n",
       "0    15         5        1  1411        284    1  120       1     8   27   \n",
       "1    20         5        1  1499        282    1  113       2     0   33   \n",
       "2    58         5        1  1576        279    1  128       1     0   28   \n",
       "3    61         5        1  1504        999    1  123       2     0   36   \n",
       "..  ...       ...      ...   ...        ...  ...  ...     ...   ...  ...   \n",
       "6   102         5        1  1449        244    1  138       4     7   33   \n",
       "7   129         5        1  1562        245    1  132       2     7   23   \n",
       "8   142         5        1  1408        289    1  120       3     0   25   \n",
       "9   148         5        1  1568        299    1  143       3     0   30   \n",
       "\n",
       "     ...    drace  dage  ded  dht  dwt  marital  inc  smoke  time  number  \n",
       "0    ...        8    31    5   65  110        1    1      0     0       0  \n",
       "1    ...        0    38    5   70  148        1    4      0     0       0  \n",
       "2    ...        5    32    1   99  999        1    2      1     1       1  \n",
       "3    ...        3    43    4   68  197        1    8      3     5       5  \n",
       "..   ...      ...   ...  ...  ...  ...      ...  ...    ...   ...     ...  \n",
       "6    ...        7    37    4   99  999        1   98      0     0       0  \n",
       "7    ...        7    23    4   71  192        1    2      0     0       0  \n",
       "8    ...        3    26    1   70  180        0    2      0     0       0  \n",
       "9    ...        0    34    5   99  999        1    2      1     1       4  \n",
       "\n",
       "[10 rows x 23 columns]"
      ]
     },
     "execution_count": 36,
     "metadata": {},
     "output_type": "execute_result"
    }
   ],
   "source": [
    "df_babies = pd.read_csv(\"babies23.data\", skiprows=38, sep='\\s+') # \\s+ : for hanlding spaces\n",
    "df_babies.head(n=10)  # df stands for Data Frame"
   ]
  },
  {
   "cell_type": "code",
   "execution_count": 70,
   "metadata": {
    "collapsed": false
   },
   "outputs": [
    {
     "data": {
      "text/html": [
       "<div>\n",
       "<style scoped>\n",
       "    .dataframe tbody tr th:only-of-type {\n",
       "        vertical-align: middle;\n",
       "    }\n",
       "\n",
       "    .dataframe tbody tr th {\n",
       "        vertical-align: top;\n",
       "    }\n",
       "\n",
       "    .dataframe thead th {\n",
       "        text-align: right;\n",
       "    }\n",
       "</style>\n",
       "<table border=\"1\" class=\"dataframe\">\n",
       "  <thead>\n",
       "    <tr style=\"text-align: right;\">\n",
       "      <th>smoke</th>\n",
       "      <th>0</th>\n",
       "      <th>1</th>\n",
       "      <th>2</th>\n",
       "      <th>3</th>\n",
       "      <th>9</th>\n",
       "    </tr>\n",
       "    <tr>\n",
       "      <th>ed</th>\n",
       "      <th></th>\n",
       "      <th></th>\n",
       "      <th></th>\n",
       "      <th></th>\n",
       "      <th></th>\n",
       "    </tr>\n",
       "  </thead>\n",
       "  <tbody>\n",
       "    <tr>\n",
       "      <th>0</th>\n",
       "      <td>12</td>\n",
       "      <td>4</td>\n",
       "      <td>1</td>\n",
       "      <td>2</td>\n",
       "      <td>0</td>\n",
       "    </tr>\n",
       "    <tr>\n",
       "      <th>1</th>\n",
       "      <td>57</td>\n",
       "      <td>102</td>\n",
       "      <td>12</td>\n",
       "      <td>10</td>\n",
       "      <td>2</td>\n",
       "    </tr>\n",
       "    <tr>\n",
       "      <th>2</th>\n",
       "      <td>202</td>\n",
       "      <td>176</td>\n",
       "      <td>40</td>\n",
       "      <td>22</td>\n",
       "      <td>4</td>\n",
       "    </tr>\n",
       "    <tr>\n",
       "      <th>3</th>\n",
       "      <td>21</td>\n",
       "      <td>33</td>\n",
       "      <td>3</td>\n",
       "      <td>6</td>\n",
       "      <td>2</td>\n",
       "    </tr>\n",
       "    <tr>\n",
       "      <th>4</th>\n",
       "      <td>138</td>\n",
       "      <td>102</td>\n",
       "      <td>21</td>\n",
       "      <td>35</td>\n",
       "      <td>2</td>\n",
       "    </tr>\n",
       "    <tr>\n",
       "      <th>5</th>\n",
       "      <td>109</td>\n",
       "      <td>65</td>\n",
       "      <td>18</td>\n",
       "      <td>27</td>\n",
       "      <td>0</td>\n",
       "    </tr>\n",
       "    <tr>\n",
       "      <th>7</th>\n",
       "      <td>5</td>\n",
       "      <td>1</td>\n",
       "      <td>0</td>\n",
       "      <td>1</td>\n",
       "      <td>0</td>\n",
       "    </tr>\n",
       "    <tr>\n",
       "      <th>9</th>\n",
       "      <td>0</td>\n",
       "      <td>1</td>\n",
       "      <td>0</td>\n",
       "      <td>0</td>\n",
       "      <td>0</td>\n",
       "    </tr>\n",
       "  </tbody>\n",
       "</table>\n",
       "</div>"
      ],
      "text/plain": [
       "smoke    0    1   2   3  9\n",
       "ed                        \n",
       "0       12    4   1   2  0\n",
       "1       57  102  12  10  2\n",
       "2      202  176  40  22  4\n",
       "3       21   33   3   6  2\n",
       "4      138  102  21  35  2\n",
       "5      109   65  18  27  0\n",
       "7        5    1   0   1  0\n",
       "9        0    1   0   0  0"
      ]
     },
     "execution_count": 70,
     "metadata": {},
     "output_type": "execute_result"
    }
   ],
   "source": [
    "cont_table = pd.crosstab(df_babies['ed'], df_babies['smoke'])\n",
    "cont_table"
   ]
  },
  {
   "cell_type": "code",
   "execution_count": 73,
   "metadata": {
    "collapsed": false
   },
   "outputs": [],
   "source": [
    "chi2, p_value, dof, ex = chi2_contingency(cont_table)"
   ]
  },
  {
   "cell_type": "code",
   "execution_count": 74,
   "metadata": {
    "collapsed": false
   },
   "outputs": [
    {
     "data": {
      "text/plain": [
       "6.000912536921962e-05"
      ]
     },
     "execution_count": 74,
     "metadata": {},
     "output_type": "execute_result"
    }
   ],
   "source": [
    "p_value\n",
    "# on rejette donc l'hypothèse il y a une dépendance entre le niveau d'éducation et le fait de fumer sur ces données."
   ]
  },
  {
   "cell_type": "code",
   "execution_count": 75,
   "metadata": {
    "collapsed": false
   },
   "outputs": [
    {
     "data": {
      "text/plain": [
       "66.30862239116085"
      ]
     },
     "execution_count": 75,
     "metadata": {},
     "output_type": "execute_result"
    }
   ],
   "source": [
    "chi2"
   ]
  },
  {
   "cell_type": "code",
   "execution_count": 76,
   "metadata": {
    "collapsed": false
   },
   "outputs": [
    {
     "data": {
      "text/plain": [
       "28"
      ]
     },
     "execution_count": 76,
     "metadata": {},
     "output_type": "execute_result"
    }
   ],
   "source": [
    "dof"
   ]
  },
  {
   "cell_type": "markdown",
   "metadata": {},
   "source": [
    "# Question: comparer a la main avec un degré de liberté bien choisi:"
   ]
  },
  {
   "cell_type": "code",
   "execution_count": 53,
   "metadata": {
    "collapsed": false
   },
   "outputs": [
    {
     "data": {
      "text/plain": [
       "array([[8.36245955e+00, 7.44012945e+00, 1.46035599e+00, 1.58333333e+00,\n",
       "        1.53721683e-01],\n",
       "       [8.05436893e+01, 7.16601942e+01, 1.40655340e+01, 1.52500000e+01,\n",
       "        1.48058252e+00],\n",
       "       [1.95417476e+02, 1.73864078e+02, 3.41262136e+01, 3.70000000e+01,\n",
       "        3.59223301e+00],\n",
       "       [2.86084142e+01, 2.54530744e+01, 4.99595469e+00, 5.41666667e+00,\n",
       "        5.25889968e-01],\n",
       "       [1.31158576e+02, 1.16692557e+02, 2.29045307e+01, 2.48333333e+01,\n",
       "        2.41100324e+00],\n",
       "       [9.63883495e+01, 8.57572816e+01, 1.68325243e+01, 1.82500000e+01,\n",
       "        1.77184466e+00],\n",
       "       [3.08090615e+00, 2.74110032e+00, 5.38025890e-01, 5.83333333e-01,\n",
       "        5.66343042e-02],\n",
       "       [4.40129450e-01, 3.91585761e-01, 7.68608414e-02, 8.33333333e-02,\n",
       "        8.09061489e-03]])"
      ]
     },
     "execution_count": 53,
     "metadata": {},
     "output_type": "execute_result"
    }
   ],
   "source": [
    "ex "
   ]
  },
  {
   "cell_type": "code",
   "execution_count": 72,
   "metadata": {
    "collapsed": false
   },
   "outputs": [
    {
     "data": {
      "text/plain": [
       "Power_divergenceResult(statistic=66.30862239116085, pvalue=6.000912536921962e-05)"
      ]
     },
     "execution_count": 72,
     "metadata": {},
     "output_type": "execute_result"
    }
   ],
   "source": [
    "chisquare(cont_table.values.ravel(), f_exp=ex.ravel(), ddof=cont_table.size - 1 - dof)"
   ]
  },
  {
   "cell_type": "code",
   "execution_count": 64,
   "metadata": {
    "collapsed": false
   },
   "outputs": [
    {
     "data": {
      "text/plain": [
       "(8, 5)"
      ]
     },
     "execution_count": 64,
     "metadata": {},
     "output_type": "execute_result"
    }
   ],
   "source": []
  },
  {
   "cell_type": "markdown",
   "metadata": {},
   "source": [
    "Remarque: il se trouve que la loi du $\\chi^2$ pour ce type de test est une distribution du $\\chi^2_{(c-1)(l-1)}$\n",
    "avec $c$ le nombre de colonnes, et $l$ le nombre de ligne du tableau."
   ]
  },
  {
   "cell_type": "code",
   "execution_count": 69,
   "metadata": {
    "collapsed": false
   },
   "outputs": [
    {
     "data": {
      "text/plain": [
       "28"
      ]
     },
     "execution_count": 69,
     "metadata": {},
     "output_type": "execute_result"
    }
   ],
   "source": []
  },
  {
   "cell_type": "code",
   "execution_count": null,
   "metadata": {
    "collapsed": true
   },
   "outputs": [],
   "source": []
  }
 ],
 "metadata": {
  "kernelspec": {
   "display_name": "Python 3",
   "language": "python",
   "name": "python3"
  },
  "language_info": {
   "codemirror_mode": {
    "name": "ipython",
    "version": 3
   },
   "file_extension": ".py",
   "mimetype": "text/x-python",
   "name": "python",
   "nbconvert_exporter": "python",
   "pygments_lexer": "ipython3",
   "version": "3.6.8"
  }
 },
 "nbformat": 4,
 "nbformat_minor": 2
}
