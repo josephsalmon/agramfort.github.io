{
 "cells": [
  {
   "cell_type": "markdown",
   "metadata": {},
   "source": [
    "# HLMA 408: Échantillonage aléatoire\n",
    "\n",
    "***\n",
    "> __Auteur__: Joseph Salmon\n",
    "> <joseph.salmon@umontpellier.fr>"
   ]
  },
  {
   "cell_type": "markdown",
   "metadata": {},
   "source": [
    "<a id=\"intro\"> </a>\n",
    "\n",
    "## Introduction et présentation"
   ]
  },
  {
   "cell_type": "markdown",
   "metadata": {},
   "source": [
    "### Import des packages usuels"
   ]
  },
  {
   "cell_type": "code",
   "execution_count": 1,
   "metadata": {},
   "outputs": [],
   "source": [
    "import platform\n",
    "import sys\n",
    "from download import download\n",
    "import numpy as np\n",
    "import pandas as pd\n",
    "import matplotlib.pyplot as plt\n",
    "import seaborn as sns\n",
    "from ipywidgets import interact  # widget manipulation\n",
    "from scipy.special import comb, binom\n",
    "from scipy.stats import norm"
   ]
  },
  {
   "cell_type": "markdown",
   "metadata": {},
   "source": [
    "### Commande \"magique\" pour un affichage plus avancé en Jupyter"
   ]
  },
  {
   "cell_type": "code",
   "execution_count": 2,
   "metadata": {},
   "outputs": [],
   "source": [
    "%matplotlib inline"
   ]
  },
  {
   "cell_type": "markdown",
   "metadata": {},
   "source": [
    "### Préparation pour l'affichage graphique et sauvegarder les images"
   ]
  },
  {
   "cell_type": "code",
   "execution_count": 3,
   "metadata": {},
   "outputs": [],
   "source": [
    "# saving tools for the course:\n",
    "sns.set_context(\"paper\", font_scale=1)\n",
    "sns.set_style(\"ticks\")\n",
    "sns.set_palette(\"colorblind\")\n",
    "\n",
    "# colors \n",
    "brown = (0.64, 0.16, 0.16)\n",
    "purple = (148. / 255, 0, 211. / 255)\n",
    "\n",
    "\n",
    "dirname = \"../prebuiltimages/\"\n",
    "imageformat = \".pdf\""
   ]
  },
  {
   "cell_type": "markdown",
   "metadata": {},
   "source": [
    "### Grossesses et cigarettes, impact sur la santé du nouveau né\n",
    "\n",
    "Description des données:\n",
    "\n",
    "\"This  dataset  is  found  from\n",
    "http://www.stat.berkeley.edu/users/statlabs/labs.html. \n",
    "It accompanies the excellent text Stat Labs:  Mathematical Statistics through Applications\n",
    "Springer-Verlag (2001) by Deborah Nolan and Terry Speed.\"\n",
    "\n",
    "Plus de détails:\n",
    "https://www.stat.berkeley.edu/users/statlabs/papers/sample.pdf\n",
    "(notamment sur les biais de collectes des données...)"
   ]
  },
  {
   "cell_type": "markdown",
   "metadata": {},
   "source": [
    "### Téléchargement et import pour sauvegarder les données"
   ]
  },
  {
   "cell_type": "code",
   "execution_count": 4,
   "metadata": {},
   "outputs": [
    {
     "name": "stdout",
     "output_type": "stream",
     "text": [
      "Replace is False and data exists, so doing nothing. Use replace==True to re-download the data.\n"
     ]
    }
   ],
   "source": [
    "# to use the default values of utils for instance\n",
    "saving = True\n",
    "path_target = \"./utils.py\"\n",
    "url_shared_files = \"http://josephsalmon.eu/enseignement/Montpellier/HLMA408/sharedcode/utils.py\"\n",
    "download(url_shared_files, path_target, replace=False)\n",
    "from utils import my_saving_display"
   ]
  },
  {
   "cell_type": "markdown",
   "metadata": {},
   "source": [
    "### Téléchargement et import des données"
   ]
  },
  {
   "cell_type": "code",
   "execution_count": 5,
   "metadata": {},
   "outputs": [
    {
     "name": "stdout",
     "output_type": "stream",
     "text": [
      "Replace is False and data exists, so doing nothing. Use replace==True to re-download the data.\n"
     ]
    },
    {
     "data": {
      "text/plain": [
       "'./babies23.data'"
      ]
     },
     "execution_count": 5,
     "metadata": {},
     "output_type": "execute_result"
    }
   ],
   "source": [
    "url = \"http://josephsalmon.eu/enseignement/datasets/babies23.data\"\n",
    "# url = \"http://www.stat.berkeley.edu/users/statlabs/data/babies23.data\" # backup url, without header.\n",
    "path_target = \"./babies23.data\"\n",
    "download(url, path_target, replace=False)"
   ]
  },
  {
   "cell_type": "markdown",
   "metadata": {},
   "source": [
    "### Option de *pandas* et de pré-traitement"
   ]
  },
  {
   "cell_type": "code",
   "execution_count": 6,
   "metadata": {},
   "outputs": [],
   "source": [
    "# Preoprocessing: only run once or big trouble (think about it!)\n",
    "is_preprocessing_done = 0  # init at 0,if greater don't redo it\n",
    "pd.options.display.max_rows = 8  # set not to display to many lines in pandas\n",
    "pd.set_option('precision', 0)  # set to display number at precision 0 in pandas"
   ]
  },
  {
   "cell_type": "markdown",
   "metadata": {},
   "source": [
    "## Lecture de la base de données et constructions d'un dataframe"
   ]
  },
  {
   "cell_type": "code",
   "execution_count": 7,
   "metadata": {},
   "outputs": [
    {
     "data": {
      "text/html": [
       "<div>\n",
       "<style scoped>\n",
       "    .dataframe tbody tr th:only-of-type {\n",
       "        vertical-align: middle;\n",
       "    }\n",
       "\n",
       "    .dataframe tbody tr th {\n",
       "        vertical-align: top;\n",
       "    }\n",
       "\n",
       "    .dataframe thead th {\n",
       "        text-align: right;\n",
       "    }\n",
       "</style>\n",
       "<table border=\"1\" class=\"dataframe\">\n",
       "  <thead>\n",
       "    <tr style=\"text-align: right;\">\n",
       "      <th></th>\n",
       "      <th>id</th>\n",
       "      <th>pluralty</th>\n",
       "      <th>outcome</th>\n",
       "      <th>date</th>\n",
       "      <th>gestation</th>\n",
       "      <th>sex</th>\n",
       "      <th>wt</th>\n",
       "      <th>parity</th>\n",
       "      <th>race</th>\n",
       "      <th>age</th>\n",
       "      <th>...</th>\n",
       "      <th>drace</th>\n",
       "      <th>dage</th>\n",
       "      <th>ded</th>\n",
       "      <th>dht</th>\n",
       "      <th>dwt</th>\n",
       "      <th>marital</th>\n",
       "      <th>inc</th>\n",
       "      <th>smoke</th>\n",
       "      <th>time</th>\n",
       "      <th>number</th>\n",
       "    </tr>\n",
       "  </thead>\n",
       "  <tbody>\n",
       "    <tr>\n",
       "      <th>0</th>\n",
       "      <td>15</td>\n",
       "      <td>5</td>\n",
       "      <td>1</td>\n",
       "      <td>1411</td>\n",
       "      <td>284</td>\n",
       "      <td>1</td>\n",
       "      <td>120</td>\n",
       "      <td>1</td>\n",
       "      <td>8</td>\n",
       "      <td>27</td>\n",
       "      <td>...</td>\n",
       "      <td>8</td>\n",
       "      <td>31</td>\n",
       "      <td>5</td>\n",
       "      <td>65</td>\n",
       "      <td>110</td>\n",
       "      <td>1</td>\n",
       "      <td>1</td>\n",
       "      <td>0</td>\n",
       "      <td>0</td>\n",
       "      <td>0</td>\n",
       "    </tr>\n",
       "    <tr>\n",
       "      <th>1</th>\n",
       "      <td>20</td>\n",
       "      <td>5</td>\n",
       "      <td>1</td>\n",
       "      <td>1499</td>\n",
       "      <td>282</td>\n",
       "      <td>1</td>\n",
       "      <td>113</td>\n",
       "      <td>2</td>\n",
       "      <td>0</td>\n",
       "      <td>33</td>\n",
       "      <td>...</td>\n",
       "      <td>0</td>\n",
       "      <td>38</td>\n",
       "      <td>5</td>\n",
       "      <td>70</td>\n",
       "      <td>148</td>\n",
       "      <td>1</td>\n",
       "      <td>4</td>\n",
       "      <td>0</td>\n",
       "      <td>0</td>\n",
       "      <td>0</td>\n",
       "    </tr>\n",
       "    <tr>\n",
       "      <th>2</th>\n",
       "      <td>58</td>\n",
       "      <td>5</td>\n",
       "      <td>1</td>\n",
       "      <td>1576</td>\n",
       "      <td>279</td>\n",
       "      <td>1</td>\n",
       "      <td>128</td>\n",
       "      <td>1</td>\n",
       "      <td>0</td>\n",
       "      <td>28</td>\n",
       "      <td>...</td>\n",
       "      <td>5</td>\n",
       "      <td>32</td>\n",
       "      <td>1</td>\n",
       "      <td>99</td>\n",
       "      <td>999</td>\n",
       "      <td>1</td>\n",
       "      <td>2</td>\n",
       "      <td>1</td>\n",
       "      <td>1</td>\n",
       "      <td>1</td>\n",
       "    </tr>\n",
       "    <tr>\n",
       "      <th>3</th>\n",
       "      <td>61</td>\n",
       "      <td>5</td>\n",
       "      <td>1</td>\n",
       "      <td>1504</td>\n",
       "      <td>999</td>\n",
       "      <td>1</td>\n",
       "      <td>123</td>\n",
       "      <td>2</td>\n",
       "      <td>0</td>\n",
       "      <td>36</td>\n",
       "      <td>...</td>\n",
       "      <td>3</td>\n",
       "      <td>43</td>\n",
       "      <td>4</td>\n",
       "      <td>68</td>\n",
       "      <td>197</td>\n",
       "      <td>1</td>\n",
       "      <td>8</td>\n",
       "      <td>3</td>\n",
       "      <td>5</td>\n",
       "      <td>5</td>\n",
       "    </tr>\n",
       "    <tr>\n",
       "      <th>...</th>\n",
       "      <td>...</td>\n",
       "      <td>...</td>\n",
       "      <td>...</td>\n",
       "      <td>...</td>\n",
       "      <td>...</td>\n",
       "      <td>...</td>\n",
       "      <td>...</td>\n",
       "      <td>...</td>\n",
       "      <td>...</td>\n",
       "      <td>...</td>\n",
       "      <td>...</td>\n",
       "      <td>...</td>\n",
       "      <td>...</td>\n",
       "      <td>...</td>\n",
       "      <td>...</td>\n",
       "      <td>...</td>\n",
       "      <td>...</td>\n",
       "      <td>...</td>\n",
       "      <td>...</td>\n",
       "      <td>...</td>\n",
       "      <td>...</td>\n",
       "    </tr>\n",
       "    <tr>\n",
       "      <th>6</th>\n",
       "      <td>102</td>\n",
       "      <td>5</td>\n",
       "      <td>1</td>\n",
       "      <td>1449</td>\n",
       "      <td>244</td>\n",
       "      <td>1</td>\n",
       "      <td>138</td>\n",
       "      <td>4</td>\n",
       "      <td>7</td>\n",
       "      <td>33</td>\n",
       "      <td>...</td>\n",
       "      <td>7</td>\n",
       "      <td>37</td>\n",
       "      <td>4</td>\n",
       "      <td>99</td>\n",
       "      <td>999</td>\n",
       "      <td>1</td>\n",
       "      <td>98</td>\n",
       "      <td>0</td>\n",
       "      <td>0</td>\n",
       "      <td>0</td>\n",
       "    </tr>\n",
       "    <tr>\n",
       "      <th>7</th>\n",
       "      <td>129</td>\n",
       "      <td>5</td>\n",
       "      <td>1</td>\n",
       "      <td>1562</td>\n",
       "      <td>245</td>\n",
       "      <td>1</td>\n",
       "      <td>132</td>\n",
       "      <td>2</td>\n",
       "      <td>7</td>\n",
       "      <td>23</td>\n",
       "      <td>...</td>\n",
       "      <td>7</td>\n",
       "      <td>23</td>\n",
       "      <td>4</td>\n",
       "      <td>71</td>\n",
       "      <td>192</td>\n",
       "      <td>1</td>\n",
       "      <td>2</td>\n",
       "      <td>0</td>\n",
       "      <td>0</td>\n",
       "      <td>0</td>\n",
       "    </tr>\n",
       "    <tr>\n",
       "      <th>8</th>\n",
       "      <td>142</td>\n",
       "      <td>5</td>\n",
       "      <td>1</td>\n",
       "      <td>1408</td>\n",
       "      <td>289</td>\n",
       "      <td>1</td>\n",
       "      <td>120</td>\n",
       "      <td>3</td>\n",
       "      <td>0</td>\n",
       "      <td>25</td>\n",
       "      <td>...</td>\n",
       "      <td>3</td>\n",
       "      <td>26</td>\n",
       "      <td>1</td>\n",
       "      <td>70</td>\n",
       "      <td>180</td>\n",
       "      <td>0</td>\n",
       "      <td>2</td>\n",
       "      <td>0</td>\n",
       "      <td>0</td>\n",
       "      <td>0</td>\n",
       "    </tr>\n",
       "    <tr>\n",
       "      <th>9</th>\n",
       "      <td>148</td>\n",
       "      <td>5</td>\n",
       "      <td>1</td>\n",
       "      <td>1568</td>\n",
       "      <td>299</td>\n",
       "      <td>1</td>\n",
       "      <td>143</td>\n",
       "      <td>3</td>\n",
       "      <td>0</td>\n",
       "      <td>30</td>\n",
       "      <td>...</td>\n",
       "      <td>0</td>\n",
       "      <td>34</td>\n",
       "      <td>5</td>\n",
       "      <td>99</td>\n",
       "      <td>999</td>\n",
       "      <td>1</td>\n",
       "      <td>2</td>\n",
       "      <td>1</td>\n",
       "      <td>1</td>\n",
       "      <td>4</td>\n",
       "    </tr>\n",
       "  </tbody>\n",
       "</table>\n",
       "<p>10 rows × 23 columns</p>\n",
       "</div>"
      ],
      "text/plain": [
       "     id  pluralty  outcome  date  gestation  sex   wt  parity  race  age  ...  \\\n",
       "0    15         5        1  1411        284    1  120       1     8   27  ...   \n",
       "1    20         5        1  1499        282    1  113       2     0   33  ...   \n",
       "2    58         5        1  1576        279    1  128       1     0   28  ...   \n",
       "3    61         5        1  1504        999    1  123       2     0   36  ...   \n",
       "..  ...       ...      ...   ...        ...  ...  ...     ...   ...  ...  ...   \n",
       "6   102         5        1  1449        244    1  138       4     7   33  ...   \n",
       "7   129         5        1  1562        245    1  132       2     7   23  ...   \n",
       "8   142         5        1  1408        289    1  120       3     0   25  ...   \n",
       "9   148         5        1  1568        299    1  143       3     0   30  ...   \n",
       "\n",
       "    drace  dage  ded  dht  dwt  marital  inc  smoke  time  number  \n",
       "0       8    31    5   65  110        1    1      0     0       0  \n",
       "1       0    38    5   70  148        1    4      0     0       0  \n",
       "2       5    32    1   99  999        1    2      1     1       1  \n",
       "3       3    43    4   68  197        1    8      3     5       5  \n",
       "..    ...   ...  ...  ...  ...      ...  ...    ...   ...     ...  \n",
       "6       7    37    4   99  999        1   98      0     0       0  \n",
       "7       7    23    4   71  192        1    2      0     0       0  \n",
       "8       3    26    1   70  180        0    2      0     0       0  \n",
       "9       0    34    5   99  999        1    2      1     1       4  \n",
       "\n",
       "[10 rows x 23 columns]"
      ]
     },
     "execution_count": 7,
     "metadata": {},
     "output_type": "execute_result"
    }
   ],
   "source": [
    "df_babies = pd.read_csv(\"babies23.data\", skiprows=38, sep='\\s+') # \\s+ : for hanlding spaces\n",
    "df_babies.head(n=10)  # df stands for Data Frame"
   ]
  },
  {
   "cell_type": "markdown",
   "metadata": {},
   "source": [
    "### Pré-traitement:\n",
    "Lire l'entête du fichier pour comprendre tout ça... les unités, les données manquantes etc."
   ]
  },
  {
   "cell_type": "code",
   "execution_count": 8,
   "metadata": {},
   "outputs": [
    {
     "name": "stdout",
     "output_type": "stream",
     "text": [
      "You have to do the pre-processing only once, to avoid unit issues\n",
      "This is done only because 0 < 1\n"
     ]
    }
   ],
   "source": [
    "if is_preprocessing_done<1:\n",
    "    print(\"You have to do the pre-processing only once, to avoid unit issues\")\n",
    "    # Remark: use inplace option to avoid useless copies for nans\n",
    "    df_babies['smoke'].replace(9, np.nan, inplace=True)  # handle missing values\n",
    "    df_babies['smoke'].replace(0, False, inplace=True)\n",
    "    df_babies['smoke'].replace(1, True, inplace=True)\n",
    "    df_babies['smoke'].replace(2, True, inplace=True)\n",
    "    df_babies['smoke'].replace(3, True, inplace=True)\n",
    "\n",
    "    df_babies.dropna(inplace=True)\n",
    "    print(\"This is done only because {} < 1\".format(is_preprocessing_done))\n",
    "    is_preprocessing_done +=1"
   ]
  },
  {
   "cell_type": "markdown",
   "metadata": {},
   "source": [
    "### Analyse du sexe de l'enfant"
   ]
  },
  {
   "cell_type": "code",
   "execution_count": 9,
   "metadata": {},
   "outputs": [
    {
     "data": {
      "text/html": [
       "<div>\n",
       "<style scoped>\n",
       "    .dataframe tbody tr th:only-of-type {\n",
       "        vertical-align: middle;\n",
       "    }\n",
       "\n",
       "    .dataframe tbody tr th {\n",
       "        vertical-align: top;\n",
       "    }\n",
       "\n",
       "    .dataframe thead th {\n",
       "        text-align: right;\n",
       "    }\n",
       "</style>\n",
       "<table border=\"1\" class=\"dataframe\">\n",
       "  <thead>\n",
       "    <tr style=\"text-align: right;\">\n",
       "      <th></th>\n",
       "      <th>id</th>\n",
       "      <th>pluralty</th>\n",
       "      <th>outcome</th>\n",
       "      <th>date</th>\n",
       "      <th>gestation</th>\n",
       "      <th>sex</th>\n",
       "      <th>wt</th>\n",
       "      <th>parity</th>\n",
       "      <th>race</th>\n",
       "      <th>age</th>\n",
       "      <th>...</th>\n",
       "      <th>drace</th>\n",
       "      <th>dage</th>\n",
       "      <th>ded</th>\n",
       "      <th>dht</th>\n",
       "      <th>dwt</th>\n",
       "      <th>marital</th>\n",
       "      <th>inc</th>\n",
       "      <th>smoke</th>\n",
       "      <th>time</th>\n",
       "      <th>number</th>\n",
       "    </tr>\n",
       "  </thead>\n",
       "  <tbody>\n",
       "    <tr>\n",
       "      <th>0</th>\n",
       "      <td>15</td>\n",
       "      <td>5</td>\n",
       "      <td>1</td>\n",
       "      <td>1411</td>\n",
       "      <td>284</td>\n",
       "      <td>1</td>\n",
       "      <td>120</td>\n",
       "      <td>1</td>\n",
       "      <td>8</td>\n",
       "      <td>27</td>\n",
       "      <td>...</td>\n",
       "      <td>8</td>\n",
       "      <td>31</td>\n",
       "      <td>5</td>\n",
       "      <td>65</td>\n",
       "      <td>110</td>\n",
       "      <td>1</td>\n",
       "      <td>1</td>\n",
       "      <td>False</td>\n",
       "      <td>0</td>\n",
       "      <td>0</td>\n",
       "    </tr>\n",
       "    <tr>\n",
       "      <th>1</th>\n",
       "      <td>20</td>\n",
       "      <td>5</td>\n",
       "      <td>1</td>\n",
       "      <td>1499</td>\n",
       "      <td>282</td>\n",
       "      <td>1</td>\n",
       "      <td>113</td>\n",
       "      <td>2</td>\n",
       "      <td>0</td>\n",
       "      <td>33</td>\n",
       "      <td>...</td>\n",
       "      <td>0</td>\n",
       "      <td>38</td>\n",
       "      <td>5</td>\n",
       "      <td>70</td>\n",
       "      <td>148</td>\n",
       "      <td>1</td>\n",
       "      <td>4</td>\n",
       "      <td>False</td>\n",
       "      <td>0</td>\n",
       "      <td>0</td>\n",
       "    </tr>\n",
       "    <tr>\n",
       "      <th>2</th>\n",
       "      <td>58</td>\n",
       "      <td>5</td>\n",
       "      <td>1</td>\n",
       "      <td>1576</td>\n",
       "      <td>279</td>\n",
       "      <td>1</td>\n",
       "      <td>128</td>\n",
       "      <td>1</td>\n",
       "      <td>0</td>\n",
       "      <td>28</td>\n",
       "      <td>...</td>\n",
       "      <td>5</td>\n",
       "      <td>32</td>\n",
       "      <td>1</td>\n",
       "      <td>99</td>\n",
       "      <td>999</td>\n",
       "      <td>1</td>\n",
       "      <td>2</td>\n",
       "      <td>True</td>\n",
       "      <td>1</td>\n",
       "      <td>1</td>\n",
       "    </tr>\n",
       "    <tr>\n",
       "      <th>3</th>\n",
       "      <td>61</td>\n",
       "      <td>5</td>\n",
       "      <td>1</td>\n",
       "      <td>1504</td>\n",
       "      <td>999</td>\n",
       "      <td>1</td>\n",
       "      <td>123</td>\n",
       "      <td>2</td>\n",
       "      <td>0</td>\n",
       "      <td>36</td>\n",
       "      <td>...</td>\n",
       "      <td>3</td>\n",
       "      <td>43</td>\n",
       "      <td>4</td>\n",
       "      <td>68</td>\n",
       "      <td>197</td>\n",
       "      <td>1</td>\n",
       "      <td>8</td>\n",
       "      <td>True</td>\n",
       "      <td>5</td>\n",
       "      <td>5</td>\n",
       "    </tr>\n",
       "    <tr>\n",
       "      <th>...</th>\n",
       "      <td>...</td>\n",
       "      <td>...</td>\n",
       "      <td>...</td>\n",
       "      <td>...</td>\n",
       "      <td>...</td>\n",
       "      <td>...</td>\n",
       "      <td>...</td>\n",
       "      <td>...</td>\n",
       "      <td>...</td>\n",
       "      <td>...</td>\n",
       "      <td>...</td>\n",
       "      <td>...</td>\n",
       "      <td>...</td>\n",
       "      <td>...</td>\n",
       "      <td>...</td>\n",
       "      <td>...</td>\n",
       "      <td>...</td>\n",
       "      <td>...</td>\n",
       "      <td>...</td>\n",
       "      <td>...</td>\n",
       "      <td>...</td>\n",
       "    </tr>\n",
       "    <tr>\n",
       "      <th>16</th>\n",
       "      <td>207</td>\n",
       "      <td>5</td>\n",
       "      <td>1</td>\n",
       "      <td>1481</td>\n",
       "      <td>255</td>\n",
       "      <td>1</td>\n",
       "      <td>92</td>\n",
       "      <td>3</td>\n",
       "      <td>4</td>\n",
       "      <td>25</td>\n",
       "      <td>...</td>\n",
       "      <td>7</td>\n",
       "      <td>28</td>\n",
       "      <td>1</td>\n",
       "      <td>99</td>\n",
       "      <td>999</td>\n",
       "      <td>1</td>\n",
       "      <td>1</td>\n",
       "      <td>True</td>\n",
       "      <td>1</td>\n",
       "      <td>5</td>\n",
       "    </tr>\n",
       "    <tr>\n",
       "      <th>17</th>\n",
       "      <td>217</td>\n",
       "      <td>5</td>\n",
       "      <td>1</td>\n",
       "      <td>1605</td>\n",
       "      <td>261</td>\n",
       "      <td>1</td>\n",
       "      <td>115</td>\n",
       "      <td>3</td>\n",
       "      <td>3</td>\n",
       "      <td>33</td>\n",
       "      <td>...</td>\n",
       "      <td>3</td>\n",
       "      <td>33</td>\n",
       "      <td>2</td>\n",
       "      <td>70</td>\n",
       "      <td>140</td>\n",
       "      <td>1</td>\n",
       "      <td>4</td>\n",
       "      <td>True</td>\n",
       "      <td>1</td>\n",
       "      <td>5</td>\n",
       "    </tr>\n",
       "    <tr>\n",
       "      <th>18</th>\n",
       "      <td>239</td>\n",
       "      <td>5</td>\n",
       "      <td>1</td>\n",
       "      <td>1431</td>\n",
       "      <td>261</td>\n",
       "      <td>1</td>\n",
       "      <td>144</td>\n",
       "      <td>2</td>\n",
       "      <td>0</td>\n",
       "      <td>33</td>\n",
       "      <td>...</td>\n",
       "      <td>5</td>\n",
       "      <td>35</td>\n",
       "      <td>4</td>\n",
       "      <td>99</td>\n",
       "      <td>999</td>\n",
       "      <td>1</td>\n",
       "      <td>7</td>\n",
       "      <td>False</td>\n",
       "      <td>0</td>\n",
       "      <td>0</td>\n",
       "    </tr>\n",
       "    <tr>\n",
       "      <th>19</th>\n",
       "      <td>240</td>\n",
       "      <td>5</td>\n",
       "      <td>1</td>\n",
       "      <td>1647</td>\n",
       "      <td>288</td>\n",
       "      <td>1</td>\n",
       "      <td>119</td>\n",
       "      <td>3</td>\n",
       "      <td>0</td>\n",
       "      <td>43</td>\n",
       "      <td>...</td>\n",
       "      <td>0</td>\n",
       "      <td>45</td>\n",
       "      <td>2</td>\n",
       "      <td>73</td>\n",
       "      <td>195</td>\n",
       "      <td>1</td>\n",
       "      <td>5</td>\n",
       "      <td>True</td>\n",
       "      <td>1</td>\n",
       "      <td>6</td>\n",
       "    </tr>\n",
       "  </tbody>\n",
       "</table>\n",
       "<p>20 rows × 23 columns</p>\n",
       "</div>"
      ],
      "text/plain": [
       "     id  pluralty  outcome  date  gestation  sex   wt  parity  race  age  ...  \\\n",
       "0    15         5        1  1411        284    1  120       1     8   27  ...   \n",
       "1    20         5        1  1499        282    1  113       2     0   33  ...   \n",
       "2    58         5        1  1576        279    1  128       1     0   28  ...   \n",
       "3    61         5        1  1504        999    1  123       2     0   36  ...   \n",
       "..  ...       ...      ...   ...        ...  ...  ...     ...   ...  ...  ...   \n",
       "16  207         5        1  1481        255    1   92       3     4   25  ...   \n",
       "17  217         5        1  1605        261    1  115       3     3   33  ...   \n",
       "18  239         5        1  1431        261    1  144       2     0   33  ...   \n",
       "19  240         5        1  1647        288    1  119       3     0   43  ...   \n",
       "\n",
       "    drace  dage  ded  dht  dwt  marital  inc  smoke  time  number  \n",
       "0       8    31    5   65  110        1    1  False     0       0  \n",
       "1       0    38    5   70  148        1    4  False     0       0  \n",
       "2       5    32    1   99  999        1    2   True     1       1  \n",
       "3       3    43    4   68  197        1    8   True     5       5  \n",
       "..    ...   ...  ...  ...  ...      ...  ...    ...   ...     ...  \n",
       "16      7    28    1   99  999        1    1   True     1       5  \n",
       "17      3    33    2   70  140        1    4   True     1       5  \n",
       "18      5    35    4   99  999        1    7  False     0       0  \n",
       "19      0    45    2   73  195        1    5   True     1       6  \n",
       "\n",
       "[20 rows x 23 columns]"
      ]
     },
     "execution_count": 9,
     "metadata": {},
     "output_type": "execute_result"
    }
   ],
   "source": [
    "df_babies.head(20)"
   ]
  },
  {
   "cell_type": "code",
   "execution_count": 10,
   "metadata": {},
   "outputs": [
    {
     "data": {
      "text/plain": [
       "Text(0.5, 1.0, 'Densité du poids du bébé selon le statut tabagique')"
      ]
     },
     "execution_count": 10,
     "metadata": {},
     "output_type": "execute_result"
    },
    {
     "data": {
      "image/png": "[encoded data removed]",
      "text/plain": [
       "<Figure size 432x288 with 1 Axes>"
      ]
     },
     "metadata": {},
     "output_type": "display_data"
    }
   ],
   "source": [
    "plt.figure(figsize=(6,4))\n",
    "df_babies.groupby(\"smoke\").wt.plot(kind='kde')\n",
    "plt.legend()\n",
    "plt.xlabel('Poids du bébé (en kg)')\n",
    "plt.ylabel('Proportion')\n",
    "plt.title(\"Densité du poids du bébé selon le statut tabagique\")"
   ]
  },
  {
   "cell_type": "code",
   "execution_count": 11,
   "metadata": {},
   "outputs": [
    {
     "name": "stdout",
     "output_type": "stream",
     "text": [
      "Il y a 1226 bébés dont on connait le statut tabagique de la mère\n"
     ]
    }
   ],
   "source": [
    "smoke_by_type = df_babies.smoke.value_counts()\n",
    "n_total = df_babies.smoke.count()\n",
    "print(\"Il y a {} bébés dont on connait le statut tabagique de la mère\".format(n_total))"
   ]
  },
  {
   "cell_type": "code",
   "execution_count": 12,
   "metadata": {},
   "outputs": [
    {
     "data": {
      "text/plain": [
       "True     682\n",
       "False    544\n",
       "Name: smoke, dtype: int64"
      ]
     },
     "execution_count": 12,
     "metadata": {},
     "output_type": "execute_result"
    }
   ],
   "source": [
    "smoke_by_type"
   ]
  },
  {
   "cell_type": "code",
   "execution_count": 13,
   "metadata": {},
   "outputs": [],
   "source": [
    "smoke_ratio= smoke_by_type[True] / df_babies.smoke.count()"
   ]
  },
  {
   "cell_type": "code",
   "execution_count": 14,
   "metadata": {},
   "outputs": [
    {
     "name": "stdout",
     "output_type": "stream",
     "text": [
      "La proportion de mères fumeuses est de 55.63 % dans la popultation totale.\n"
     ]
    }
   ],
   "source": [
    "print(\"La proportion de mères fumeuses est de {0:.2f} % dans la popultation totale.\".format(smoke_ratio * 100))"
   ]
  },
  {
   "cell_type": "markdown",
   "metadata": {},
   "source": [
    "## Tirage aléatoire d'un $n$-échantillons"
   ]
  },
  {
   "cell_type": "code",
   "execution_count": 15,
   "metadata": {},
   "outputs": [],
   "source": [
    "np.random.seed(44)  # graine aléatoire"
   ]
  },
  {
   "cell_type": "code",
   "execution_count": 16,
   "metadata": {},
   "outputs": [],
   "source": [
    "n_samples = 91  # n = n_sample\n",
    "\n",
    "# change the random_state value to get another random sample\n",
    "# df_extract = df_babies.sample(n=n_samples, random_state=45)\n",
    "df_extract = df_babies.sample(n=n_samples)\n",
    "smoke_by_type_extract = df_extract.smoke.value_counts()\n",
    "smoke_ratio_extract = smoke_by_type_extract[True] / df_extract.smoke.count()\n",
    "smoke_ratio_all = df_babies[df_babies['smoke'] == True]['smoke'].sum() / df_babies.smoke.count()\n",
    "\n",
    "# smoke_by_type_extract"
   ]
  },
  {
   "cell_type": "code",
   "execution_count": 17,
   "metadata": {},
   "outputs": [
    {
     "name": "stdout",
     "output_type": "stream",
     "text": [
      "Le nombre de mères fumeuses est de 52 sur n=91 individus dans la popultation extraite.\n",
      "Le nombre de mères fumeuses est de 682 sur N=1226 individus dans la popultation totale.\n",
      "La proportion de mères fumeuses est de 57.14 % dans la popultation extraite.\n",
      "La proportion de mères fumeuses est de 55.63 % dans la popultation total.\n"
     ]
    }
   ],
   "source": [
    "print(\"Le nombre de mères fumeuses est de {0} sur n={1} individus dans la popultation extraite.\".format(smoke_by_type_extract[True].sum(), df_extract.smoke.count()))\n",
    "print(\"Le nombre de mères fumeuses est de {0} sur N={1} individus dans la popultation totale.\".format(df_babies[df_babies['smoke']==True]['smoke'].sum(), df_babies.smoke.count()))\n",
    "\n",
    "print(\"La proportion de mères fumeuses est de {0:.2f} % dans la popultation extraite.\".format(smoke_ratio_extract * 100))\n",
    "print(\"La proportion de mères fumeuses est de {0:.2f} % dans la popultation total.\".format(smoke_ratio_all * 100))"
   ]
  },
  {
   "cell_type": "code",
   "execution_count": 18,
   "metadata": {},
   "outputs": [
    {
     "data": {
      "text/plain": [
       "27163361289825550523268206145916032768087536721887922928079532500193847739178087753157271974542740511341704937942015497847278125901041363840"
      ]
     },
     "execution_count": 18,
     "metadata": {},
     "output_type": "execute_result"
    }
   ],
   "source": [
    "comb(n_total, n_samples, exact=True)"
   ]
  },
  {
   "cell_type": "code",
   "execution_count": 19,
   "metadata": {},
   "outputs": [],
   "source": [
    "n_digits = sys.getsizeof(comb(n_total, n_samples, exact=True))"
   ]
  },
  {
   "cell_type": "code",
   "execution_count": 20,
   "metadata": {},
   "outputs": [
    {
     "name": "stdout",
     "output_type": "stream",
     "text": [
      "Il y a environ 10^88 façon de choisir 91 nombres parmi 1226\n"
     ]
    }
   ],
   "source": [
    "print(r\"Il y a environ 10^{2} façon de choisir {0} nombres parmi {1}\".format(n_samples, n_total, n_digits))"
   ]
  },
  {
   "cell_type": "markdown",
   "metadata": {
    "collapsed": true
   },
   "source": [
    "## Intervalle de confiance avec le TCL\n"
   ]
  },
  {
   "cell_type": "code",
   "execution_count": 21,
   "metadata": {},
   "outputs": [],
   "source": [
    "n_samples = 1000\n",
    "X = np.random.random(n_samples)\n",
    "meanX = np.mean(X)\n",
    "sdX = np.std(X)"
   ]
  },
  {
   "cell_type": "code",
   "execution_count": 22,
   "metadata": {},
   "outputs": [
    {
     "data": {
      "image/png": "[encoded data removed]",
      "text/plain": [
       "<Figure size 720x288 with 1 Axes>"
      ]
     },
     "metadata": {},
     "output_type": "display_data"
    }
   ],
   "source": [
    "fig = plt.figure(figsize=(10,4))\n",
    "ax = sns.stripplot(x=X,alpha=0.3,jitter = 0.1, size=10, marker=\".\")\n",
    "plt.title(r\"Échantillon (loi uniforme, $n ={0}$)\".format(n_samples)) \n",
    "plt.axvline(meanX, linestyle='--', color='k', label=\"$\\\\bar{x}_n$\")\n",
    "plt.legend()\n",
    "plt.show()"
   ]
  },
  {
   "cell_type": "code",
   "execution_count": 23,
   "metadata": {},
   "outputs": [],
   "source": [
    "Z = (X - meanX) / sdX"
   ]
  },
  {
   "cell_type": "code",
   "execution_count": 24,
   "metadata": {},
   "outputs": [
    {
     "data": {
      "image/png": "[encoded data removed]",
      "text/plain": [
       "<Figure size 720x288 with 1 Axes>"
      ]
     },
     "metadata": {},
     "output_type": "display_data"
    }
   ],
   "source": [
    "fig = plt.figure(figsize=(10,4))\n",
    "ax = sns.stripplot(x=Z,alpha=0.3,jitter = 0.1, size=10, marker=\".\")\n",
    "plt.title(r\"Échantillon standardiseé (loi uniforme, $n ={0}$)\".format(n_samples)) \n",
    "plt.axvline(0, linestyle='--', color='k', label=\"$\\\\bar{x}_n$\")\n",
    "plt.legend()\n",
    "plt.show()"
   ]
  },
  {
   "cell_type": "code",
   "execution_count": 25,
   "metadata": {},
   "outputs": [],
   "source": [
    "alpha = 0.00001\n",
    "c =  norm.ppf(1- alpha/ 2)\n",
    "IC = np.array([meanX - c * sdX / np.sqrt(n_samples), meanX + c * sdX / np.sqrt(n_samples)])"
   ]
  },
  {
   "cell_type": "code",
   "execution_count": null,
   "metadata": {},
   "outputs": [],
   "source": []
  },
  {
   "cell_type": "code",
   "execution_count": 26,
   "metadata": {},
   "outputs": [
    {
     "data": {
      "text/plain": [
       "(array([0.47304602, 0.55406755]), 0.5135567825131291, 4.417173413467605)"
      ]
     },
     "execution_count": 26,
     "metadata": {},
     "output_type": "execute_result"
    }
   ],
   "source": [
    "IC, meanX, c"
   ]
  },
  {
   "cell_type": "code",
   "execution_count": 27,
   "metadata": {},
   "outputs": [
    {
     "data": {
      "image/png": "[encoded data removed]",
      "text/plain": [
       "<Figure size 720x288 with 1 Axes>"
      ]
     },
     "metadata": {},
     "output_type": "display_data"
    }
   ],
   "source": [
    "from matplotlib.ticker import StrMethodFormatter\n",
    "fig = plt.figure(figsize=(10, 4))\n",
    "p = plt.axvspan(IC[0], IC[1], facecolor=sns.color_palette()[\n",
    "                5], alpha=0.5, label=\"Intervalle à {}%\".format(1-alpha))\n",
    "ax = sns.stripplot(x=X, alpha=0.3, jitter=0.1, size=10, marker=\".\")\n",
    "plt.title(r\"Échantillon (loi uniforme, $n ={0}$)\".format(n_samples))\n",
    "plt.axvline(meanX, linestyle='--', color='k', label=\"$\\\\bar{x}_n$\")\n",
    "bottom, top = plt.ylim()\n",
    "xtixcks_val = np.arange(0, 1.1, 0.1)\n",
    "plt.xticks(xtixcks_val, xtixcks_val)\n",
    "plt.gca().xaxis.set_major_formatter(StrMethodFormatter('{x:,.2f}')) # 2 decimal places\n",
    "plt.legend()\n",
    "plt.show()\n",
    "my_saving_display(fig, dirname,\n",
    "                  \"jitter_IC_TCL\", imageformat, saving=saving)"
   ]
  },
  {
   "cell_type": "code",
   "execution_count": 28,
   "metadata": {},
   "outputs": [],
   "source": [
    "def IC_by_TCL(alpha=0.05, n_samples=1000):\n",
    "\n",
    "    X = np.random.random(n_samples)\n",
    "    meanX = np.mean(X)\n",
    "    sdX = np.std(X)\n",
    "    Z = (X - meanX) / sdX\n",
    "    c = norm.ppf(1 - alpha / 2)\n",
    "    IC = np.array([meanX - c * sdX / np.sqrt(n_samples),\n",
    "                   meanX + c * sdX / np.sqrt(n_samples)])\n",
    "    fig = plt.figure(figsize=(10, 4))\n",
    "    p = plt.axvspan(IC[0], IC[1], facecolor=sns.color_palette()[\n",
    "                    5], alpha=0.5, label=\"Intervalle à {}%\".format(1 - alpha))\n",
    "    ax = sns.stripplot(x=X, alpha=0.3, jitter=0.1, size=10, marker=\".\")\n",
    "    plt.title(r\"Échantillon (loi uniforme, $n ={0}$)\".format(n_samples))\n",
    "    plt.axvline(meanX, linestyle='--', color='k', label=\"$\\\\bar{x}_n$\")\n",
    "    bottom, top = plt.ylim()\n",
    "    xtixcks_val = np.arange(0, 1.1, 0.1)\n",
    "    plt.xticks(xtixcks_val, xtixcks_val)\n",
    "    plt.gca().xaxis.set_major_formatter(\n",
    "        StrMethodFormatter('{x:,.2f}'))  # 2 decimal places\n",
    "    plt.legend()\n",
    "    plt.show()"
   ]
  },
  {
   "cell_type": "markdown",
   "metadata": {},
   "source": [
    "### Visualiseur de l'impact de $\\alpha$ et de $n$ sur les IC du TCL "
   ]
  },
  {
   "cell_type": "code",
   "execution_count": 29,
   "metadata": {},
   "outputs": [
    {
     "data": {
      "application/vnd.jupyter.widget-view+json": {
       "model_id": "7a1d9a7c99614ffc9deba62602ebde78",
       "version_major": 2,
       "version_minor": 0
      },
      "text/plain": [
       "interactive(children=(FloatSlider(value=0.05, description='alpha', max=0.999, min=0.001, step=0.001), IntSlide…"
      ]
     },
     "metadata": {},
     "output_type": "display_data"
    },
    {
     "data": {
      "text/plain": [
       "<function __main__.IC_by_TCL(alpha=0.05, n_samples=1000)>"
      ]
     },
     "execution_count": 29,
     "metadata": {},
     "output_type": "execute_result"
    }
   ],
   "source": [
    "interact(IC_by_TCL, alpha=(0.001, .999, 0.001),n_samples=(100,2000,100))  # change the first and second value to check more quantiles "
   ]
  },
  {
   "cell_type": "code",
   "execution_count": 30,
   "metadata": {},
   "outputs": [],
   "source": [
    "# np.shape(np.where(np.logical_and(X>=IC[0], X<=IC[1])))[1]"
   ]
  },
  {
   "cell_type": "markdown",
   "metadata": {},
   "source": [
    "###  Répétition  de l'expérience\n",
    "On tire 500 échantillons de taille 1000\n"
   ]
  },
  {
   "cell_type": "code",
   "execution_count": 31,
   "metadata": {},
   "outputs": [
    {
     "data": {
      "text/plain": [
       "\"Proportion de fois que l'échantillon contient le vrai paramètre (=espérance): 0.97\""
      ]
     },
     "execution_count": 31,
     "metadata": {},
     "output_type": "execute_result"
    }
   ],
   "source": [
    "is_IC_has_param = 0 # before starting no IC contains the true parameter \n",
    "n_repetition = 500\n",
    "for i in range(n_repetition):\n",
    "    n_samples = 1000\n",
    "    X = np.random.random(n_samples)\n",
    "    meanX = np.mean(X)\n",
    "    sdX = np.std(X)\n",
    "    Z = (X - meanX) / sdX\n",
    "    alpha = 0.04\n",
    "    c =  norm.ppf(1- alpha/ 2)\n",
    "    IC = np.array([meanX - c * sdX / np.sqrt(n_samples), meanX + c * sdX / np.sqrt(n_samples)])\n",
    "    if (IC[0]<0.5) and (IC[1]>0.5):\n",
    "        is_IC_has_param += 1\n",
    "#     else:\n",
    "#         print(IC)\n",
    "\"Proportion de fois que l'échantillon contient le vrai paramètre (=espérance): {}\".format(is_IC_has_param/n_repetition)"
   ]
  },
  {
   "cell_type": "markdown",
   "metadata": {
    "collapsed": true
   },
   "source": [
    "#<font color='red'> EXERCICE : sondage vs. referendum. </font>\n",
    "Créer un tableau avec une colonne de 1 ou de 0 générées par un loi binomiale de paramètre 0.4, pour N = 30000000. Échantilloner n=1000 indivius uniformément de cette population et comparer les proportions de 1 obtenus dans la population totale et dans la population échantillonées.\n",
    "Recommencer et commenter.\n",
    "\n",
    "Aide: voir https://docs.scipy.org/doc/numpy-1.13.0/reference/generated/numpy.random.binomial.html"
   ]
  },
  {
   "cell_type": "code",
   "execution_count": null,
   "metadata": {},
   "outputs": [],
   "source": []
  }
 ],
 "metadata": {
  "hide_input": false,
  "kernelspec": {
   "display_name": "Python 3",
   "language": "python",
   "name": "python3"
  },
  "language_info": {
   "codemirror_mode": {
    "name": "ipython",
    "version": 3
   },
   "file_extension": ".py",
   "mimetype": "text/x-python",
   "name": "python",
   "nbconvert_exporter": "python",
   "pygments_lexer": "ipython3",
   "version": "3.7.3"
  },
  "toc": {
   "base_numbering": 1,
   "nav_menu": {},
   "number_sections": false,
   "sideBar": true,
   "skip_h1_title": false,
   "title_cell": "Table of Contents",
   "title_sidebar": "Contents",
   "toc_cell": false,
   "toc_position": {},
   "toc_section_display": true,
   "toc_window_display": true
  }
 },
 "nbformat": 4,
 "nbformat_minor": 2
}
