{
 "cells": [
  {
   "cell_type": "markdown",
   "metadata": {},
   "source": [
    "# HLMA 408: Premiers pas en *Python/Pandas*\n",
    "\n",
    "***\n",
    "> __Auteur__: Joseph Salmon\n",
    "> <joseph.salmon@umontpellier.fr>"
   ]
  },
  {
   "cell_type": "markdown",
   "metadata": {},
   "source": [
    "## Introduction et présentation"
   ]
  },
  {
   "cell_type": "markdown",
   "metadata": {},
   "source": [
    "### Commande \"magique\" pour un affichage plus avancé en Jupyter"
   ]
  },
  {
   "cell_type": "code",
   "execution_count": 1,
   "metadata": {},
   "outputs": [],
   "source": [
    "%matplotlib widget\n",
    "# Ou bien utiliser :\n",
    "# %matplotlib notebook"
   ]
  },
  {
   "cell_type": "markdown",
   "metadata": {},
   "source": [
    "### Import des packages usuels"
   ]
  },
  {
   "cell_type": "code",
   "execution_count": 2,
   "metadata": {},
   "outputs": [],
   "source": [
    "import platform\n",
    "import numpy as np\n",
    "import pandas as pd\n",
    "import matplotlib.pyplot as plt\n",
    "import sys\n",
    "import seaborn as sns\n",
    "from scipy.stats import norm"
   ]
  },
  {
   "cell_type": "markdown",
   "metadata": {},
   "source": [
    "### Verifier les versions des packages utilisées"
   ]
  },
  {
   "cell_type": "code",
   "execution_count": 3,
   "metadata": {},
   "outputs": [
    {
     "name": "stdout",
     "output_type": "stream",
     "text": [
      "The python version is 3.8.5\n",
      "numpy 1.19.2.\n"
     ]
    }
   ],
   "source": [
    "print('The python version is', platform.python_version())\n",
    "print('numpy {}.'.format(np.__version__))"
   ]
  },
  {
   "cell_type": "markdown",
   "metadata": {},
   "source": [
    "### Préparation pour l'affichage graphique et sauvegarder les images\n",
    "La cellule qui suit est inutile en première lecture"
   ]
  },
  {
   "cell_type": "code",
   "execution_count": 4,
   "metadata": {},
   "outputs": [],
   "source": [
    "# saving tools for the course:\n",
    "sns.set_context(\"paper\", font_scale=1)\n",
    "sns.set_style(\"ticks\")\n",
    "sns.set_palette(\"colorblind\")\n",
    "\n",
    "# avoid warning when too many plots are opened\n",
    "plt.rcParams.update({'figure.max_open_warning': 50})\n",
    "\n",
    "# colors\n",
    "brown = (0.64, 0.16, 0.16)\n",
    "purple = (148. / 255, 0, 211. / 255)\n",
    "\n",
    "dirname = \"../prebuiltimages/\"\n",
    "imageformat = \".pdf\""
   ]
  },
  {
   "cell_type": "markdown",
   "metadata": {},
   "source": [
    "## Description des données: grossesses et cigarettes, impact sur la santé du nouveau-né\n",
    "\n",
    "Description des données:\n",
    "\n",
    "\"This  dataset  is  available  at\n",
    "http://www.stat.berkeley.edu/users/statlabs/labs.html. \n",
    "It accompanies the excellent text Stat Labs:  Mathematical Statistics through Applications\n",
    "Springer-Verlag (2001) by Deborah Nolan and Terry Speed.\"\n",
    "\n",
    "Plus de détails:\n",
    "https://www.stat.berkeley.edu/users/statlabs/papers/sample.pdf\n",
    "(notamment sur les biais de collecte des données...)"
   ]
  },
  {
   "cell_type": "markdown",
   "metadata": {},
   "source": [
    "### Téléchargement et import des données\n",
    "Passer si besoin cette partie en première lecture: télécharger dans ce cas les fichiers `utils.py` et `babies23.data` manuellement et mettez les dans votre répertoire local où se trouve le notebook."
   ]
  },
  {
   "cell_type": "code",
   "execution_count": 5,
   "metadata": {},
   "outputs": [],
   "source": [
    "# pip install download"
   ]
  },
  {
   "cell_type": "code",
   "execution_count": 6,
   "metadata": {},
   "outputs": [
    {
     "name": "stdout",
     "output_type": "stream",
     "text": [
      "Replace is False and data exists, so doing nothing. Use replace=True to re-download the data.\n"
     ]
    },
    {
     "data": {
      "text/plain": [
       "'./utils.py'"
      ]
     },
     "execution_count": 6,
     "metadata": {},
     "output_type": "execute_result"
    }
   ],
   "source": [
    "# si download n'est pas installé décommenter + exécuter la ligne du dessus\n",
    "from utils import my_saving_display\n",
    "from download import download\n",
    "saving = True\n",
    "path_target = \"./utils.py\"\n",
    "url_shared_files = \"http://josephsalmon.eu/enseignement/Montpellier/HLMA408/sharedcode/utils.py\"\n",
    "download(url_shared_files, path_target, replace=False)"
   ]
  },
  {
   "cell_type": "code",
   "execution_count": 7,
   "metadata": {},
   "outputs": [
    {
     "name": "stdout",
     "output_type": "stream",
     "text": [
      "Replace is False and data exists, so doing nothing. Use replace=True to re-download the data.\n"
     ]
    },
    {
     "data": {
      "text/plain": [
       "'./babies23.data'"
      ]
     },
     "execution_count": 7,
     "metadata": {},
     "output_type": "execute_result"
    }
   ],
   "source": [
    "url = \"http://josephsalmon.eu/enseignement/datasets/babies23.data\"\n",
    "# url = \"http://www.stat.berkeley.edu/users/statlabs/data/babies23.data\" # backup url, without header.\n",
    "path_target = \"./babies23.data\"\n",
    "download(url, path_target, replace=False)"
   ]
  },
  {
   "cell_type": "markdown",
   "metadata": {},
   "source": [
    "### Options de *pandas* pour l'affichage"
   ]
  },
  {
   "cell_type": "code",
   "execution_count": 8,
   "metadata": {},
   "outputs": [],
   "source": [
    "# Preoprocessing: only run once or big trouble (think about it!)\n",
    "is_preprocessing_done = 0  # init at 0,if greater don't redo it\n",
    "pd.options.display.max_rows = 10  # set not to display to many lines in pandas\n",
    "pd.set_option('precision', 3)  # set to display number at precision 0 in pandas"
   ]
  },
  {
   "cell_type": "markdown",
   "metadata": {},
   "source": [
    "### Lecture de la base de données et constructions d'un dataframe\n",
    "Il faut maintenant avoir les données en local soit en les téléchargeant avec ```download``` soit \"à la main\" ici:\n",
    "http://josephsalmon.eu/enseignement/datasets/babies23.data"
   ]
  },
  {
   "cell_type": "code",
   "execution_count": 9,
   "metadata": {},
   "outputs": [],
   "source": [
    "# ?pd.read_csv  # décommenter pour obtenir de l'aide sur la fonction read_csv de pandas."
   ]
  },
  {
   "cell_type": "code",
   "execution_count": 10,
   "metadata": {},
   "outputs": [
    {
     "data": {
      "text/html": [
       "<div>\n",
       "<style scoped>\n",
       "    .dataframe tbody tr th:only-of-type {\n",
       "        vertical-align: middle;\n",
       "    }\n",
       "\n",
       "    .dataframe tbody tr th {\n",
       "        vertical-align: top;\n",
       "    }\n",
       "\n",
       "    .dataframe thead th {\n",
       "        text-align: right;\n",
       "    }\n",
       "</style>\n",
       "<table border=\"1\" class=\"dataframe\">\n",
       "  <thead>\n",
       "    <tr style=\"text-align: right;\">\n",
       "      <th></th>\n",
       "      <th>id</th>\n",
       "      <th>pluralty</th>\n",
       "      <th>outcome</th>\n",
       "      <th>date</th>\n",
       "      <th>gestation</th>\n",
       "      <th>sex</th>\n",
       "      <th>wt</th>\n",
       "      <th>parity</th>\n",
       "      <th>race</th>\n",
       "      <th>age</th>\n",
       "      <th>...</th>\n",
       "      <th>drace</th>\n",
       "      <th>dage</th>\n",
       "      <th>ded</th>\n",
       "      <th>dht</th>\n",
       "      <th>dwt</th>\n",
       "      <th>marital</th>\n",
       "      <th>inc</th>\n",
       "      <th>smoke</th>\n",
       "      <th>time</th>\n",
       "      <th>number</th>\n",
       "    </tr>\n",
       "  </thead>\n",
       "  <tbody>\n",
       "    <tr>\n",
       "      <th>0</th>\n",
       "      <td>15</td>\n",
       "      <td>5</td>\n",
       "      <td>1</td>\n",
       "      <td>1411</td>\n",
       "      <td>284</td>\n",
       "      <td>1</td>\n",
       "      <td>120</td>\n",
       "      <td>1</td>\n",
       "      <td>8</td>\n",
       "      <td>27</td>\n",
       "      <td>...</td>\n",
       "      <td>8</td>\n",
       "      <td>31</td>\n",
       "      <td>5</td>\n",
       "      <td>65</td>\n",
       "      <td>110</td>\n",
       "      <td>1</td>\n",
       "      <td>1</td>\n",
       "      <td>0</td>\n",
       "      <td>0</td>\n",
       "      <td>0</td>\n",
       "    </tr>\n",
       "    <tr>\n",
       "      <th>1</th>\n",
       "      <td>20</td>\n",
       "      <td>5</td>\n",
       "      <td>1</td>\n",
       "      <td>1499</td>\n",
       "      <td>282</td>\n",
       "      <td>1</td>\n",
       "      <td>113</td>\n",
       "      <td>2</td>\n",
       "      <td>0</td>\n",
       "      <td>33</td>\n",
       "      <td>...</td>\n",
       "      <td>0</td>\n",
       "      <td>38</td>\n",
       "      <td>5</td>\n",
       "      <td>70</td>\n",
       "      <td>148</td>\n",
       "      <td>1</td>\n",
       "      <td>4</td>\n",
       "      <td>0</td>\n",
       "      <td>0</td>\n",
       "      <td>0</td>\n",
       "    </tr>\n",
       "    <tr>\n",
       "      <th>2</th>\n",
       "      <td>58</td>\n",
       "      <td>5</td>\n",
       "      <td>1</td>\n",
       "      <td>1576</td>\n",
       "      <td>279</td>\n",
       "      <td>1</td>\n",
       "      <td>128</td>\n",
       "      <td>1</td>\n",
       "      <td>0</td>\n",
       "      <td>28</td>\n",
       "      <td>...</td>\n",
       "      <td>5</td>\n",
       "      <td>32</td>\n",
       "      <td>1</td>\n",
       "      <td>99</td>\n",
       "      <td>999</td>\n",
       "      <td>1</td>\n",
       "      <td>2</td>\n",
       "      <td>1</td>\n",
       "      <td>1</td>\n",
       "      <td>1</td>\n",
       "    </tr>\n",
       "    <tr>\n",
       "      <th>3</th>\n",
       "      <td>61</td>\n",
       "      <td>5</td>\n",
       "      <td>1</td>\n",
       "      <td>1504</td>\n",
       "      <td>999</td>\n",
       "      <td>1</td>\n",
       "      <td>123</td>\n",
       "      <td>2</td>\n",
       "      <td>0</td>\n",
       "      <td>36</td>\n",
       "      <td>...</td>\n",
       "      <td>3</td>\n",
       "      <td>43</td>\n",
       "      <td>4</td>\n",
       "      <td>68</td>\n",
       "      <td>197</td>\n",
       "      <td>1</td>\n",
       "      <td>8</td>\n",
       "      <td>3</td>\n",
       "      <td>5</td>\n",
       "      <td>5</td>\n",
       "    </tr>\n",
       "    <tr>\n",
       "      <th>4</th>\n",
       "      <td>72</td>\n",
       "      <td>5</td>\n",
       "      <td>1</td>\n",
       "      <td>1425</td>\n",
       "      <td>282</td>\n",
       "      <td>1</td>\n",
       "      <td>108</td>\n",
       "      <td>1</td>\n",
       "      <td>0</td>\n",
       "      <td>23</td>\n",
       "      <td>...</td>\n",
       "      <td>0</td>\n",
       "      <td>24</td>\n",
       "      <td>5</td>\n",
       "      <td>99</td>\n",
       "      <td>999</td>\n",
       "      <td>1</td>\n",
       "      <td>1</td>\n",
       "      <td>1</td>\n",
       "      <td>1</td>\n",
       "      <td>5</td>\n",
       "    </tr>\n",
       "    <tr>\n",
       "      <th>5</th>\n",
       "      <td>100</td>\n",
       "      <td>5</td>\n",
       "      <td>1</td>\n",
       "      <td>1673</td>\n",
       "      <td>286</td>\n",
       "      <td>1</td>\n",
       "      <td>136</td>\n",
       "      <td>4</td>\n",
       "      <td>0</td>\n",
       "      <td>25</td>\n",
       "      <td>...</td>\n",
       "      <td>3</td>\n",
       "      <td>28</td>\n",
       "      <td>2</td>\n",
       "      <td>64</td>\n",
       "      <td>130</td>\n",
       "      <td>1</td>\n",
       "      <td>4</td>\n",
       "      <td>2</td>\n",
       "      <td>2</td>\n",
       "      <td>2</td>\n",
       "    </tr>\n",
       "    <tr>\n",
       "      <th>6</th>\n",
       "      <td>102</td>\n",
       "      <td>5</td>\n",
       "      <td>1</td>\n",
       "      <td>1449</td>\n",
       "      <td>244</td>\n",
       "      <td>1</td>\n",
       "      <td>138</td>\n",
       "      <td>4</td>\n",
       "      <td>7</td>\n",
       "      <td>33</td>\n",
       "      <td>...</td>\n",
       "      <td>7</td>\n",
       "      <td>37</td>\n",
       "      <td>4</td>\n",
       "      <td>99</td>\n",
       "      <td>999</td>\n",
       "      <td>1</td>\n",
       "      <td>98</td>\n",
       "      <td>0</td>\n",
       "      <td>0</td>\n",
       "      <td>0</td>\n",
       "    </tr>\n",
       "    <tr>\n",
       "      <th>7</th>\n",
       "      <td>129</td>\n",
       "      <td>5</td>\n",
       "      <td>1</td>\n",
       "      <td>1562</td>\n",
       "      <td>245</td>\n",
       "      <td>1</td>\n",
       "      <td>132</td>\n",
       "      <td>2</td>\n",
       "      <td>7</td>\n",
       "      <td>23</td>\n",
       "      <td>...</td>\n",
       "      <td>7</td>\n",
       "      <td>23</td>\n",
       "      <td>4</td>\n",
       "      <td>71</td>\n",
       "      <td>192</td>\n",
       "      <td>1</td>\n",
       "      <td>2</td>\n",
       "      <td>0</td>\n",
       "      <td>0</td>\n",
       "      <td>0</td>\n",
       "    </tr>\n",
       "    <tr>\n",
       "      <th>8</th>\n",
       "      <td>142</td>\n",
       "      <td>5</td>\n",
       "      <td>1</td>\n",
       "      <td>1408</td>\n",
       "      <td>289</td>\n",
       "      <td>1</td>\n",
       "      <td>120</td>\n",
       "      <td>3</td>\n",
       "      <td>0</td>\n",
       "      <td>25</td>\n",
       "      <td>...</td>\n",
       "      <td>3</td>\n",
       "      <td>26</td>\n",
       "      <td>1</td>\n",
       "      <td>70</td>\n",
       "      <td>180</td>\n",
       "      <td>0</td>\n",
       "      <td>2</td>\n",
       "      <td>0</td>\n",
       "      <td>0</td>\n",
       "      <td>0</td>\n",
       "    </tr>\n",
       "    <tr>\n",
       "      <th>9</th>\n",
       "      <td>148</td>\n",
       "      <td>5</td>\n",
       "      <td>1</td>\n",
       "      <td>1568</td>\n",
       "      <td>299</td>\n",
       "      <td>1</td>\n",
       "      <td>143</td>\n",
       "      <td>3</td>\n",
       "      <td>0</td>\n",
       "      <td>30</td>\n",
       "      <td>...</td>\n",
       "      <td>0</td>\n",
       "      <td>34</td>\n",
       "      <td>5</td>\n",
       "      <td>99</td>\n",
       "      <td>999</td>\n",
       "      <td>1</td>\n",
       "      <td>2</td>\n",
       "      <td>1</td>\n",
       "      <td>1</td>\n",
       "      <td>4</td>\n",
       "    </tr>\n",
       "  </tbody>\n",
       "</table>\n",
       "<p>10 rows × 23 columns</p>\n",
       "</div>"
      ],
      "text/plain": [
       "    id  pluralty  outcome  date  gestation  sex   wt  parity  race  age  ...  \\\n",
       "0   15         5        1  1411        284    1  120       1     8   27  ...   \n",
       "1   20         5        1  1499        282    1  113       2     0   33  ...   \n",
       "2   58         5        1  1576        279    1  128       1     0   28  ...   \n",
       "3   61         5        1  1504        999    1  123       2     0   36  ...   \n",
       "4   72         5        1  1425        282    1  108       1     0   23  ...   \n",
       "5  100         5        1  1673        286    1  136       4     0   25  ...   \n",
       "6  102         5        1  1449        244    1  138       4     7   33  ...   \n",
       "7  129         5        1  1562        245    1  132       2     7   23  ...   \n",
       "8  142         5        1  1408        289    1  120       3     0   25  ...   \n",
       "9  148         5        1  1568        299    1  143       3     0   30  ...   \n",
       "\n",
       "   drace  dage  ded  dht  dwt  marital  inc  smoke  time  number  \n",
       "0      8    31    5   65  110        1    1      0     0       0  \n",
       "1      0    38    5   70  148        1    4      0     0       0  \n",
       "2      5    32    1   99  999        1    2      1     1       1  \n",
       "3      3    43    4   68  197        1    8      3     5       5  \n",
       "4      0    24    5   99  999        1    1      1     1       5  \n",
       "5      3    28    2   64  130        1    4      2     2       2  \n",
       "6      7    37    4   99  999        1   98      0     0       0  \n",
       "7      7    23    4   71  192        1    2      0     0       0  \n",
       "8      3    26    1   70  180        0    2      0     0       0  \n",
       "9      0    34    5   99  999        1    2      1     1       4  \n",
       "\n",
       "[10 rows x 23 columns]"
      ]
     },
     "execution_count": 10,
     "metadata": {},
     "output_type": "execute_result"
    }
   ],
   "source": [
    "# Le fichier peut être téléchargé ici:\n",
    "# http://josephsalmon.eu/enseignement/datasets/babies23.data\n",
    "# il faut alors le mettre dans votre repertoire local où se trouve votre notebook.\n",
    "\n",
    "df_babies = pd.read_csv(\"babies23.data\", skiprows=38,\n",
    "                        sep='\\s+')  # \\s+ : for hanlding spaces\n",
    "df_babies.head(n=10)  # df stands for Data Frame"
   ]
  },
  {
   "cell_type": "markdown",
   "metadata": {},
   "source": [
    "### Statistiques descriptives élémentaires"
   ]
  },
  {
   "cell_type": "code",
   "execution_count": 11,
   "metadata": {},
   "outputs": [
    {
     "data": {
      "text/html": [
       "<div>\n",
       "<style scoped>\n",
       "    .dataframe tbody tr th:only-of-type {\n",
       "        vertical-align: middle;\n",
       "    }\n",
       "\n",
       "    .dataframe tbody tr th {\n",
       "        vertical-align: top;\n",
       "    }\n",
       "\n",
       "    .dataframe thead th {\n",
       "        text-align: right;\n",
       "    }\n",
       "</style>\n",
       "<table border=\"1\" class=\"dataframe\">\n",
       "  <thead>\n",
       "    <tr style=\"text-align: right;\">\n",
       "      <th></th>\n",
       "      <th>id</th>\n",
       "      <th>pluralty</th>\n",
       "      <th>outcome</th>\n",
       "      <th>date</th>\n",
       "      <th>gestation</th>\n",
       "      <th>sex</th>\n",
       "      <th>wt</th>\n",
       "      <th>parity</th>\n",
       "      <th>race</th>\n",
       "      <th>age</th>\n",
       "      <th>...</th>\n",
       "      <th>drace</th>\n",
       "      <th>dage</th>\n",
       "      <th>ded</th>\n",
       "      <th>dht</th>\n",
       "      <th>dwt</th>\n",
       "      <th>marital</th>\n",
       "      <th>inc</th>\n",
       "      <th>smoke</th>\n",
       "      <th>time</th>\n",
       "      <th>number</th>\n",
       "    </tr>\n",
       "  </thead>\n",
       "  <tbody>\n",
       "    <tr>\n",
       "      <th>count</th>\n",
       "      <td>1236.000</td>\n",
       "      <td>1236.0</td>\n",
       "      <td>1236.0</td>\n",
       "      <td>1236.000</td>\n",
       "      <td>1236.000</td>\n",
       "      <td>1236.0</td>\n",
       "      <td>1236.000</td>\n",
       "      <td>1236.000</td>\n",
       "      <td>1236.000</td>\n",
       "      <td>1236.000</td>\n",
       "      <td>...</td>\n",
       "      <td>1236.000</td>\n",
       "      <td>1236.000</td>\n",
       "      <td>1236.000</td>\n",
       "      <td>1236.000</td>\n",
       "      <td>1236.000</td>\n",
       "      <td>1236.000</td>\n",
       "      <td>1236.000</td>\n",
       "      <td>1236.000</td>\n",
       "      <td>1236.000</td>\n",
       "      <td>1236.000</td>\n",
       "    </tr>\n",
       "    <tr>\n",
       "      <th>mean</th>\n",
       "      <td>6000.836</td>\n",
       "      <td>5.0</td>\n",
       "      <td>1.0</td>\n",
       "      <td>1535.837</td>\n",
       "      <td>286.908</td>\n",
       "      <td>1.0</td>\n",
       "      <td>119.577</td>\n",
       "      <td>1.932</td>\n",
       "      <td>3.206</td>\n",
       "      <td>27.371</td>\n",
       "      <td>...</td>\n",
       "      <td>3.665</td>\n",
       "      <td>30.737</td>\n",
       "      <td>3.189</td>\n",
       "      <td>81.667</td>\n",
       "      <td>505.401</td>\n",
       "      <td>1.038</td>\n",
       "      <td>13.161</td>\n",
       "      <td>0.868</td>\n",
       "      <td>1.748</td>\n",
       "      <td>2.604</td>\n",
       "    </tr>\n",
       "    <tr>\n",
       "      <th>std</th>\n",
       "      <td>2257.289</td>\n",
       "      <td>0.0</td>\n",
       "      <td>0.0</td>\n",
       "      <td>106.895</td>\n",
       "      <td>75.157</td>\n",
       "      <td>0.0</td>\n",
       "      <td>18.236</td>\n",
       "      <td>1.933</td>\n",
       "      <td>4.187</td>\n",
       "      <td>6.457</td>\n",
       "      <td>...</td>\n",
       "      <td>6.840</td>\n",
       "      <td>8.522</td>\n",
       "      <td>1.702</td>\n",
       "      <td>14.278</td>\n",
       "      <td>406.686</td>\n",
       "      <td>0.326</td>\n",
       "      <td>28.424</td>\n",
       "      <td>1.163</td>\n",
       "      <td>8.824</td>\n",
       "      <td>8.890</td>\n",
       "    </tr>\n",
       "    <tr>\n",
       "      <th>min</th>\n",
       "      <td>15.000</td>\n",
       "      <td>5.0</td>\n",
       "      <td>1.0</td>\n",
       "      <td>1350.000</td>\n",
       "      <td>148.000</td>\n",
       "      <td>1.0</td>\n",
       "      <td>55.000</td>\n",
       "      <td>0.000</td>\n",
       "      <td>0.000</td>\n",
       "      <td>15.000</td>\n",
       "      <td>...</td>\n",
       "      <td>0.000</td>\n",
       "      <td>18.000</td>\n",
       "      <td>0.000</td>\n",
       "      <td>60.000</td>\n",
       "      <td>110.000</td>\n",
       "      <td>0.000</td>\n",
       "      <td>0.000</td>\n",
       "      <td>0.000</td>\n",
       "      <td>0.000</td>\n",
       "      <td>0.000</td>\n",
       "    </tr>\n",
       "    <tr>\n",
       "      <th>25%</th>\n",
       "      <td>5286.250</td>\n",
       "      <td>5.0</td>\n",
       "      <td>1.0</td>\n",
       "      <td>1444.000</td>\n",
       "      <td>272.000</td>\n",
       "      <td>1.0</td>\n",
       "      <td>108.750</td>\n",
       "      <td>0.000</td>\n",
       "      <td>0.000</td>\n",
       "      <td>23.000</td>\n",
       "      <td>...</td>\n",
       "      <td>0.000</td>\n",
       "      <td>25.000</td>\n",
       "      <td>2.000</td>\n",
       "      <td>70.000</td>\n",
       "      <td>165.000</td>\n",
       "      <td>1.000</td>\n",
       "      <td>2.000</td>\n",
       "      <td>0.000</td>\n",
       "      <td>0.000</td>\n",
       "      <td>0.000</td>\n",
       "    </tr>\n",
       "    <tr>\n",
       "      <th>50%</th>\n",
       "      <td>6729.500</td>\n",
       "      <td>5.0</td>\n",
       "      <td>1.0</td>\n",
       "      <td>1539.500</td>\n",
       "      <td>280.000</td>\n",
       "      <td>1.0</td>\n",
       "      <td>120.000</td>\n",
       "      <td>1.000</td>\n",
       "      <td>3.000</td>\n",
       "      <td>26.000</td>\n",
       "      <td>...</td>\n",
       "      <td>3.000</td>\n",
       "      <td>29.000</td>\n",
       "      <td>4.000</td>\n",
       "      <td>73.000</td>\n",
       "      <td>190.000</td>\n",
       "      <td>1.000</td>\n",
       "      <td>4.000</td>\n",
       "      <td>1.000</td>\n",
       "      <td>1.000</td>\n",
       "      <td>1.000</td>\n",
       "    </tr>\n",
       "    <tr>\n",
       "      <th>75%</th>\n",
       "      <td>7583.250</td>\n",
       "      <td>5.0</td>\n",
       "      <td>1.0</td>\n",
       "      <td>1627.000</td>\n",
       "      <td>288.000</td>\n",
       "      <td>1.0</td>\n",
       "      <td>131.000</td>\n",
       "      <td>3.000</td>\n",
       "      <td>7.000</td>\n",
       "      <td>31.000</td>\n",
       "      <td>...</td>\n",
       "      <td>7.000</td>\n",
       "      <td>35.000</td>\n",
       "      <td>5.000</td>\n",
       "      <td>99.000</td>\n",
       "      <td>999.000</td>\n",
       "      <td>1.000</td>\n",
       "      <td>7.000</td>\n",
       "      <td>1.000</td>\n",
       "      <td>1.000</td>\n",
       "      <td>3.000</td>\n",
       "    </tr>\n",
       "    <tr>\n",
       "      <th>max</th>\n",
       "      <td>9263.000</td>\n",
       "      <td>5.0</td>\n",
       "      <td>1.0</td>\n",
       "      <td>1714.000</td>\n",
       "      <td>999.000</td>\n",
       "      <td>1.0</td>\n",
       "      <td>176.000</td>\n",
       "      <td>13.000</td>\n",
       "      <td>99.000</td>\n",
       "      <td>99.000</td>\n",
       "      <td>...</td>\n",
       "      <td>99.000</td>\n",
       "      <td>99.000</td>\n",
       "      <td>9.000</td>\n",
       "      <td>99.000</td>\n",
       "      <td>999.000</td>\n",
       "      <td>5.000</td>\n",
       "      <td>98.000</td>\n",
       "      <td>9.000</td>\n",
       "      <td>99.000</td>\n",
       "      <td>98.000</td>\n",
       "    </tr>\n",
       "  </tbody>\n",
       "</table>\n",
       "<p>8 rows × 23 columns</p>\n",
       "</div>"
      ],
      "text/plain": [
       "             id  pluralty  outcome      date  gestation     sex        wt  \\\n",
       "count  1236.000    1236.0   1236.0  1236.000   1236.000  1236.0  1236.000   \n",
       "mean   6000.836       5.0      1.0  1535.837    286.908     1.0   119.577   \n",
       "std    2257.289       0.0      0.0   106.895     75.157     0.0    18.236   \n",
       "min      15.000       5.0      1.0  1350.000    148.000     1.0    55.000   \n",
       "25%    5286.250       5.0      1.0  1444.000    272.000     1.0   108.750   \n",
       "50%    6729.500       5.0      1.0  1539.500    280.000     1.0   120.000   \n",
       "75%    7583.250       5.0      1.0  1627.000    288.000     1.0   131.000   \n",
       "max    9263.000       5.0      1.0  1714.000    999.000     1.0   176.000   \n",
       "\n",
       "         parity      race       age  ...     drace      dage       ded  \\\n",
       "count  1236.000  1236.000  1236.000  ...  1236.000  1236.000  1236.000   \n",
       "mean      1.932     3.206    27.371  ...     3.665    30.737     3.189   \n",
       "std       1.933     4.187     6.457  ...     6.840     8.522     1.702   \n",
       "min       0.000     0.000    15.000  ...     0.000    18.000     0.000   \n",
       "25%       0.000     0.000    23.000  ...     0.000    25.000     2.000   \n",
       "50%       1.000     3.000    26.000  ...     3.000    29.000     4.000   \n",
       "75%       3.000     7.000    31.000  ...     7.000    35.000     5.000   \n",
       "max      13.000    99.000    99.000  ...    99.000    99.000     9.000   \n",
       "\n",
       "            dht       dwt   marital       inc     smoke      time    number  \n",
       "count  1236.000  1236.000  1236.000  1236.000  1236.000  1236.000  1236.000  \n",
       "mean     81.667   505.401     1.038    13.161     0.868     1.748     2.604  \n",
       "std      14.278   406.686     0.326    28.424     1.163     8.824     8.890  \n",
       "min      60.000   110.000     0.000     0.000     0.000     0.000     0.000  \n",
       "25%      70.000   165.000     1.000     2.000     0.000     0.000     0.000  \n",
       "50%      73.000   190.000     1.000     4.000     1.000     1.000     1.000  \n",
       "75%      99.000   999.000     1.000     7.000     1.000     1.000     3.000  \n",
       "max      99.000   999.000     5.000    98.000     9.000    99.000    98.000  \n",
       "\n",
       "[8 rows x 23 columns]"
      ]
     },
     "execution_count": 11,
     "metadata": {},
     "output_type": "execute_result"
    }
   ],
   "source": [
    "df_babies.describe()"
   ]
  },
  {
   "cell_type": "markdown",
   "metadata": {},
   "source": [
    "## Pré-traitement et données manquantes"
   ]
  },
  {
   "cell_type": "markdown",
   "metadata": {},
   "source": [
    "### Données manquantes / NaN (Not A Number)"
   ]
  },
  {
   "cell_type": "code",
   "execution_count": 12,
   "metadata": {},
   "outputs": [
    {
     "data": {
      "text/plain": [
       "id           False\n",
       "pluralty     False\n",
       "outcome      False\n",
       "date         False\n",
       "gestation    False\n",
       "             ...  \n",
       "marital      False\n",
       "inc          False\n",
       "smoke        False\n",
       "time         False\n",
       "number       False\n",
       "Length: 23, dtype: bool"
      ]
     },
     "execution_count": 12,
     "metadata": {},
     "output_type": "execute_result"
    }
   ],
   "source": [
    "(df_babies.isnull().any())  # données manquantes?"
   ]
  },
  {
   "cell_type": "code",
   "execution_count": null,
   "metadata": {},
   "outputs": [],
   "source": []
  },
  {
   "cell_type": "code",
   "execution_count": 13,
   "metadata": {},
   "outputs": [
    {
     "data": {
      "application/vnd.jupyter.widget-view+json": {
       "model_id": "d673b48a9181488e8c386fa6da1fd718",
       "version_major": 2,
       "version_minor": 0
      },
      "text/plain": [
       "Canvas(toolbar=Toolbar(toolitems=[('Home', 'Reset original view', 'home', 'home'), ('Back', 'Back to previous …"
      ]
     },
     "metadata": {},
     "output_type": "display_data"
    }
   ],
   "source": [
    "plt.figure(figsize=(5, 5))\n",
    "ax = sns.kdeplot(df_babies['gestation'], shade=True)\n",
    "plt.xlabel('Durée de la grossesse (en jours)')\n",
    "plt.ylabel('Proportion')\n",
    "plt.title(\"Estimation de la densité de la durée de la grossesse\");"
   ]
  },
  {
   "cell_type": "markdown",
   "metadata": {},
   "source": [
    "### Données aberrantes\n",
    "Bizarre bizarre des grossesses qui durent 1000 jours, mais que se passe-t-il ici?"
   ]
  },
  {
   "cell_type": "code",
   "execution_count": 14,
   "metadata": {},
   "outputs": [
    {
     "name": "stdout",
     "output_type": "stream",
     "text": [
      "Il y a 1.05% des grossesses de la base de donnée qui durent 999 jours...\n"
     ]
    }
   ],
   "source": [
    "percentage_na = np.sum(df_babies['gestation']\n",
    "                       == 999) / df_babies['gestation'].count() * 100\n",
    "print(\"Il y a {0:.2f}% des grossesses de la base de donnée qui durent 999 jours...\".format(\n",
    "    percentage_na))  # {0:.2f} use to display only 2 digits after the sign \".\" "
   ]
  },
  {
   "cell_type": "markdown",
   "metadata": {},
   "source": [
    "### Pré-traitement: unités non internationales, donnnées manquantes\n",
    "Lire l'entête du fichier permet de comprendre les problèmes... les unités, les données manquantes, etc.\n",
    "Il faut donc toujours lire les descriptifs des données **AVANT** de les analyser."
   ]
  },
  {
   "cell_type": "code",
   "execution_count": 15,
   "metadata": {},
   "outputs": [
    {
     "name": "stdout",
     "output_type": "stream",
     "text": [
      "You have to do the pre-processing only once, to avoid unit issues\n",
      "This is done only because 0 < 1\n"
     ]
    }
   ],
   "source": [
    "if is_preprocessing_done < 1:\n",
    "    print(\"You have to do the pre-processing only once, to avoid unit issues\")\n",
    "\n",
    "    # Handle missing values (see header of babies23.data for details)\n",
    "\n",
    "    # Unknown gestation duration\n",
    "    df_babies['gestation'].replace(999, np.nan, inplace=True)\n",
    "    # Unknown smoking status of the mother\n",
    "    df_babies['smoke'].replace(9, np.nan, inplace=True)\n",
    "    # Mother's height\n",
    "    df_babies['ht'].replace(99, np.nan, inplace=True)\n",
    "    # Father's height\n",
    "    df_babies['dht'].replace(99, np.nan, inplace=True)\n",
    "    # Father's weight\n",
    "    df_babies['dwt'].replace(999, np.nan, inplace=True)\n",
    "    # Mother's weight\n",
    "    df_babies['wt.1'].replace(999, np.nan, inplace=True)\n",
    "    # Baby's weight\n",
    "    df_babies['wt'].replace(999, np.nan, inplace=True)\n",
    "    # Tabaco consumption\n",
    "    df_babies['number'].replace(\n",
    "        [9, 98, 99], [np.nan, np.nan, np.nan], inplace=True)\n",
    "\n",
    "    # Remove all missing values\n",
    "    df_babies.dropna(inplace=True)\n",
    "\n",
    "    # US researchers use stupid non international units...\n",
    "    df_babies['wt'] = df_babies['wt'] * 0.0283495  # onces -> kg\n",
    "    df_babies['wt.1'] = df_babies['wt.1'] * 0.453592  # pounds -> kg\n",
    "    df_babies['dwt'] = df_babies['dwt'] * 0.453592  # pounds -> kg\n",
    "    df_babies['ht'] = df_babies['ht'] * 2.54  # inches -> cm\n",
    "    df_babies['dht'] = df_babies['dht'] * 2.54  # inches -> cm\n",
    "\n",
    "    # Tabaco consumption: change irrelevant numbers by relevant numbers\n",
    "\n",
    "    df_babies['number'].replace([1, 2, 3, 4, 5, 6, 7, 8, ],\n",
    "                                [2.5, 7, 12, 17, 24.5, 34.5, 50, 70], inplace=True)\n",
    "\n",
    "    print(\"This is done only because {} < 1\".format(is_preprocessing_done))\n",
    "    is_preprocessing_done += 1"
   ]
  },
  {
   "cell_type": "markdown",
   "metadata": {},
   "source": [
    "## Visualisation"
   ]
  },
  {
   "cell_type": "markdown",
   "metadata": {},
   "source": [
    "### Densité et estimation de densité"
   ]
  },
  {
   "cell_type": "code",
   "execution_count": 16,
   "metadata": {},
   "outputs": [
    {
     "data": {
      "application/vnd.jupyter.widget-view+json": {
       "model_id": "5d4e2d5dd185451c8c68e97599f25de4",
       "version_major": 2,
       "version_minor": 0
      },
      "text/plain": [
       "Canvas(toolbar=Toolbar(toolitems=[('Home', 'Reset original view', 'home', 'home'), ('Back', 'Back to previous …"
      ]
     },
     "metadata": {},
     "output_type": "display_data"
    },
    {
     "data": {
      "text/plain": [
       "Text(0.5, 1.0, 'Estimation de la densité de la durée de la grossesse')"
      ]
     },
     "execution_count": 16,
     "metadata": {},
     "output_type": "execute_result"
    }
   ],
   "source": [
    "plt.figure(figsize=(5, 5))\n",
    "ax = sns.kdeplot(df_babies['gestation'], shade=True)\n",
    "plt.xlabel('Durée de la grossesse (en jours)')\n",
    "plt.ylabel('Proportion')\n",
    "plt.axvline(40 * 7, c='k')  # vertical bar at 40 weeks\n",
    "plt.title(\"Estimation de la densité de la durée de la grossesse\")\n",
    "\n",
    "# print(\"Il y a maintenant {} valeur(s) manquante(s).\".format(sum(df_babies[\"gestation\"].isnull())))"
   ]
  },
  {
   "cell_type": "code",
   "execution_count": 17,
   "metadata": {},
   "outputs": [
    {
     "data": {
      "text/plain": [
       "array([250. , 262.4, 267. , 270. , 272. , 274. , 275. , 277. , 278. ,\n",
       "       280. , 282. , 283. , 284. , 286. , 288. , 290. , 292. , 295. ,\n",
       "       302. ])"
      ]
     },
     "execution_count": 17,
     "metadata": {},
     "output_type": "execute_result"
    }
   ],
   "source": [
    "np.quantile(df_babies['gestation'],np.linspace(0.05,0.95,num=19)) "
   ]
  },
  {
   "cell_type": "code",
   "execution_count": 18,
   "metadata": {},
   "outputs": [],
   "source": [
    "pd.set_option('precision', 3)  # display 3 digits now in pandas"
   ]
  },
  {
   "cell_type": "code",
   "execution_count": 19,
   "metadata": {},
   "outputs": [
    {
     "data": {
      "text/plain": [
       "0       49.895\n",
       "1       67.132\n",
       "5       58.967\n",
       "7       87.090\n",
       "8       81.647\n",
       "         ...  \n",
       "1231    86.182\n",
       "1232    77.111\n",
       "1233    81.647\n",
       "1234    74.843\n",
       "1235    78.018\n",
       "Name: dwt, Length: 695, dtype: float64"
      ]
     },
     "execution_count": 19,
     "metadata": {},
     "output_type": "execute_result"
    }
   ],
   "source": [
    "df_babies['dwt']  # father pre-pregnancy weight in kg"
   ]
  },
  {
   "cell_type": "code",
   "execution_count": 20,
   "metadata": {},
   "outputs": [
    {
     "data": {
      "text/plain": [
       "0       45.359\n",
       "1       61.235\n",
       "5       42.184\n",
       "7       63.503\n",
       "8       56.699\n",
       "         ...  \n",
       "1231    45.359\n",
       "1232    54.431\n",
       "1233    68.039\n",
       "1234    49.895\n",
       "1235    58.513\n",
       "Name: wt.1, Length: 695, dtype: float64"
      ]
     },
     "execution_count": 20,
     "metadata": {},
     "output_type": "execute_result"
    }
   ],
   "source": [
    "df_babies['wt.1']  # mother weight in kg"
   ]
  },
  {
   "cell_type": "code",
   "execution_count": 21,
   "metadata": {},
   "outputs": [
    {
     "data": {
      "text/plain": [
       "0       3.402\n",
       "1       3.203\n",
       "5       3.856\n",
       "7       3.742\n",
       "8       3.402\n",
       "        ...  \n",
       "1231    3.203\n",
       "1232    3.629\n",
       "1233    3.685\n",
       "1234    3.544\n",
       "1235    3.317\n",
       "Name: wt, Length: 695, dtype: float64"
      ]
     },
     "execution_count": 21,
     "metadata": {},
     "output_type": "execute_result"
    }
   ],
   "source": [
    "df_babies['wt']  # babies weight in kg"
   ]
  },
  {
   "cell_type": "code",
   "execution_count": 22,
   "metadata": {},
   "outputs": [
    {
     "data": {
      "text/plain": [
       "(4.9895119999999995, 1.5592225)"
      ]
     },
     "execution_count": 22,
     "metadata": {},
     "output_type": "execute_result"
    }
   ],
   "source": [
    "df_babies['wt'].max(), df_babies['wt'].min()  # max and min weight at birth"
   ]
  },
  {
   "cell_type": "markdown",
   "metadata": {},
   "source": [
    "## <font color='red'> EXERCICE : Estimation de la densité (KDE) par genre </font>\n",
    "Afficher la masse des parents et visualiser les différences?"
   ]
  },
  {
   "cell_type": "code",
   "execution_count": 23,
   "metadata": {
    "hide_input": false,
    "scrolled": true
   },
   "outputs": [],
   "source": [
    "# XXX todo"
   ]
  },
  {
   "cell_type": "code",
   "execution_count": 24,
   "metadata": {
    "hide_input": true,
    "scrolled": true
   },
   "outputs": [
    {
     "data": {
      "application/vnd.jupyter.widget-view+json": {
       "model_id": "35555135fc0641e19330edcdc7a7c738",
       "version_major": 2,
       "version_minor": 0
      },
      "text/plain": [
       "Canvas(toolbar=Toolbar(toolitems=[('Home', 'Reset original view', 'home', 'home'), ('Back', 'Back to previous …"
      ]
     },
     "metadata": {},
     "output_type": "display_data"
    }
   ],
   "source": [
    "# Réponse:\n",
    "plt.figure(figsize=(3, 3))\n",
    "plt.title(\"Masse des parents (densité)\")\n",
    "sns.kdeplot(df_babies['dwt'], label=\"Père\", shade=True)\n",
    "sns.kdeplot(df_babies['wt.1'], label=\"Mère\", shade=True)\n",
    "plt.xlabel(\"Masse (kg)\")\n",
    "plt.ylabel(\"Propotion\")\n",
    "plt.tight_layout()"
   ]
  },
  {
   "cell_type": "markdown",
   "metadata": {},
   "source": [
    "### Estimation de la densité par histogramme"
   ]
  },
  {
   "cell_type": "code",
   "execution_count": 25,
   "metadata": {},
   "outputs": [
    {
     "data": {
      "application/vnd.jupyter.widget-view+json": {
       "model_id": "b5b3966866ed438ebece4d19fc3bdc74",
       "version_major": 2,
       "version_minor": 0
      },
      "text/plain": [
       "Canvas(toolbar=Toolbar(toolitems=[('Home', 'Reset original view', 'home', 'home'), ('Back', 'Back to previous …"
      ]
     },
     "metadata": {},
     "output_type": "display_data"
    }
   ],
   "source": [
    "fig_hist_height = plt.figure(figsize=(6, 4))\n",
    "plt.hist(df_babies['ht'], density=True, bins=19)\n",
    "plt.xlabel('Taille de la mère (en cm)')\n",
    "plt.ylabel('Proportion')\n",
    "plt.title(\"Histogramme de la taille des mères\")\n",
    "my_saving_display(fig_hist_height, dirname,\n",
    "                  \"hist_height_mother\", imageformat, saving=saving)"
   ]
  },
  {
   "cell_type": "markdown",
   "metadata": {},
   "source": [
    "**Remarque**: pour des données continues, et avec un large échantillon, il semble plus raisonnable d'utiliser les méthodes à noyaux (kde) proposées ci-dessous.\n",
    "Le rendu est plus fidèle à la réalité sous-jacentes.\n",
    "Pour cela on peut regarder ci-dessous l'information proposée par une méthode à noyaux sur les mêmes données."
   ]
  },
  {
   "cell_type": "markdown",
   "metadata": {},
   "source": [
    "### Estimation de la densité par une méthode à noyaux"
   ]
  },
  {
   "cell_type": "code",
   "execution_count": 26,
   "metadata": {},
   "outputs": [
    {
     "data": {
      "application/vnd.jupyter.widget-view+json": {
       "model_id": "83180f2d4fe4461c92605024299ee4f9",
       "version_major": 2,
       "version_minor": 0
      },
      "text/plain": [
       "Canvas(toolbar=Toolbar(toolitems=[('Home', 'Reset original view', 'home', 'home'), ('Back', 'Back to previous …"
      ]
     },
     "metadata": {},
     "output_type": "display_data"
    }
   ],
   "source": [
    "fig_hist_height = plt.figure(figsize=(6, 4))\n",
    "ax = sns.kdeplot(df_babies['ht'], shade=True)  # kde = Kernel Density Estimate\n",
    "plt.xlabel('Taille de la mère (en cm)')\n",
    "plt.ylabel('Proportion')\n",
    "plt.title(\"Densité de la taille des mères\")\n",
    "my_saving_display(fig_hist_height, dirname,\n",
    "                  \"kde_height_mother\", imageformat, saving=saving)"
   ]
  },
  {
   "cell_type": "markdown",
   "metadata": {},
   "source": [
    "### Explication visuelle du fonctionnement des méthodes à noyaux\n",
    "Voici ci-dessous une explication visuelle du fonctionnement des méthodes à noyaux.\n",
    "Il est à noter que les histogrammes font partie de la même famille, mais au lieu \"d'empiler\" des densités continues (gaussiennes ici), on empile des densités constantes par morceaux!"
   ]
  },
  {
   "cell_type": "code",
   "execution_count": 27,
   "metadata": {},
   "outputs": [
    {
     "data": {
      "application/vnd.jupyter.widget-view+json": {
       "model_id": "29a7c81e59464a0b9533b93883f40b2f",
       "version_major": 2,
       "version_minor": 0
      },
      "text/plain": [
       "Canvas(toolbar=Toolbar(toolitems=[('Home', 'Reset original view', 'home', 'home'), ('Back', 'Back to previous …"
      ]
     },
     "metadata": {},
     "output_type": "display_data"
    }
   ],
   "source": [
    "n_samples = df_babies['ht'].count()  # put 10 to visualize better\n",
    "# n_samples = 100  # put 10 to visualize better\n",
    "\n",
    "sample = df_babies['ht'].iloc[0:n_samples]\n",
    "y = 0.15 * np.random.randn(n_samples,)\n",
    "bandwidth = 1.5  # KDE parameter / bandwidth\n",
    "x = np.linspace(sample.min(), sample.max(), num=200)\n",
    "z = np.zeros(200)\n",
    "\n",
    "fig, ax = plt.subplots(3, 1, figsize=(8, 6))\n",
    "\n",
    "# # First plot\n",
    "ax[0].scatter(sample, y, c='black', s=25,\n",
    "              marker='o',\n",
    "              edgecolors=brown,\n",
    "              linewidths=1\n",
    "              )\n",
    "ax[0].set_title(\n",
    "    \"Taille des mères: observations (avec frémissement / 'jittering')\")\n",
    "ax[0].set_yticks([])\n",
    "\n",
    "# Second plot\n",
    "for i in range(n_samples):\n",
    "    current_density = norm.pdf(x, sample.iloc[i], bandwidth)\n",
    "    z += current_density / n_samples\n",
    "    ax[1].plot(x, current_density, '-',\n",
    "               color=sns.color_palette()[0], lw=1, alpha=0.05)\n",
    "ax[1].set_title(\n",
    "    \"Gaussiennes centrées sur les observations (écart-type {0})\".format(bandwidth))\n",
    "ax[1].set_ylim(0, .3)\n",
    "\n",
    "# Third plot\n",
    "ax[2].plot(x, z, '-', color=sns.color_palette()[0], lw=1)\n",
    "ax[2].set_title(\"Moyenne des gaussiennes précédentes: KDE\")\n",
    "ax[2].set_xlabel('Taille (cm)')\n",
    "\n",
    "plt.tight_layout()  # help improve spacing between subplots\n",
    "my_saving_display(fig, dirname,\n",
    "                  \"kde_for_dummies\", imageformat, saving=saving)"
   ]
  },
  {
   "cell_type": "markdown",
   "metadata": {},
   "source": [
    "### Affichage et coefficient alpha\n",
    "Dans la partie ci-dessus le coefficient alpha (cf. la figure du milieu ci-dessus) permet d'afficher de manière plus opaque les gaussiennes qui sont plus fréquentes que les autres."
   ]
  },
  {
   "cell_type": "markdown",
   "metadata": {},
   "source": [
    "### Synthèse de l'échantillon"
   ]
  },
  {
   "cell_type": "code",
   "execution_count": 28,
   "metadata": {},
   "outputs": [
    {
     "name": "stdout",
     "output_type": "stream",
     "text": [
      "Moyenne=162.71715107913673 (cm) et écart-type=6.4288819931782255 (cm)\n"
     ]
    }
   ],
   "source": [
    "mean = np.mean(df_babies['ht'])\n",
    "sd = np.std(df_babies['ht'])\n",
    "print(\"Moyenne={0} (cm) et écart-type={1} (cm)\".format(mean, sd))"
   ]
  },
  {
   "cell_type": "markdown",
   "metadata": {},
   "source": [
    "### Autres densités unidimensionnelles"
   ]
  },
  {
   "cell_type": "markdown",
   "metadata": {},
   "source": [
    "## <font color='red'> EXERCICE : Taille des parents </font>\n",
    "\n",
    "Afficher sur un même graphique la répartition de la taille des parents, une courbe homme / une courbe femme "
   ]
  },
  {
   "cell_type": "code",
   "execution_count": 29,
   "metadata": {},
   "outputs": [],
   "source": [
    "# XXX TODO:"
   ]
  },
  {
   "cell_type": "code",
   "execution_count": 30,
   "metadata": {
    "hide_input": true
   },
   "outputs": [
    {
     "data": {
      "application/vnd.jupyter.widget-view+json": {
       "model_id": "085221d00c2443e6bd3a29b965ad691b",
       "version_major": 2,
       "version_minor": 0
      },
      "text/plain": [
       "Canvas(toolbar=Toolbar(toolitems=[('Home', 'Reset original view', 'home', 'home'), ('Back', 'Back to previous …"
      ]
     },
     "metadata": {},
     "output_type": "display_data"
    }
   ],
   "source": [
    "# Réponse:\n",
    "plt.figure(figsize=(3, 3))\n",
    "plt.title(\"Taille des parents (densité)\")\n",
    "sns.kdeplot(df_babies['dht'], label=\"Père\", shade=True)\n",
    "sns.kdeplot(df_babies['ht'], label=\"Mère\", shade=True)\n",
    "plt.xlabel(\"Taille (cm)\")\n",
    "plt.ylabel(\"Proportion\")\n",
    "plt.tight_layout() # help improve spacing between subplots (possible difficulty reading label/title without)"
   ]
  },
  {
   "cell_type": "code",
   "execution_count": 31,
   "metadata": {},
   "outputs": [
    {
     "data": {
      "application/vnd.jupyter.widget-view+json": {
       "model_id": "7c91b836e9774c78af7a1cd5dc0f92fe",
       "version_major": 2,
       "version_minor": 0
      },
      "text/plain": [
       "Canvas(toolbar=Toolbar(toolitems=[('Home', 'Reset original view', 'home', 'home'), ('Back', 'Back to previous …"
      ]
     },
     "metadata": {},
     "output_type": "display_data"
    }
   ],
   "source": [
    "fig_hist_cigs = plt.figure(figsize=(6, 4))\n",
    "\n",
    "hist_manual = df_babies.loc[df_babies[\"number\"] > -1, 'number']\n",
    "hist_manual.hist(bins=[0, 1, 5, 10, 15, 20, 30, 40, 60,\n",
    "                       71], density=False)  # test: True/False\n",
    "plt.xlabel('Nombre de cigarettes fumées par une mère fumeuse')\n",
    "plt.ylabel('Effectif')\n",
    "plt.title(\"Histogramme de la consommation de cigarettes des mères\")\n",
    "my_saving_display(fig_hist_cigs, dirname,\n",
    "                  \"hist_cigs_mother\", imageformat, saving=saving)"
   ]
  },
  {
   "cell_type": "code",
   "execution_count": 32,
   "metadata": {},
   "outputs": [
    {
     "data": {
      "text/plain": [
       "0.0     46.763\n",
       "24.5    16.547\n",
       "2.5     12.374\n",
       "7.0     12.374\n",
       "12.0     6.331\n",
       "34.5     2.734\n",
       "17.0     1.727\n",
       "50.0     1.151\n",
       "Name: number, dtype: float64"
      ]
     },
     "execution_count": 32,
     "metadata": {},
     "output_type": "execute_result"
    }
   ],
   "source": [
    "# hist_manual\n",
    "hist_manual.value_counts() / hist_manual.count() * 100"
   ]
  },
  {
   "cell_type": "code",
   "execution_count": 33,
   "metadata": {},
   "outputs": [
    {
     "data": {
      "text/plain": [
       "100.0"
      ]
     },
     "execution_count": 33,
     "metadata": {},
     "output_type": "execute_result"
    }
   ],
   "source": [
    "# check sum = 100%\n",
    "np.sum(hist_manual.value_counts() / hist_manual.count() * 100)"
   ]
  },
  {
   "cell_type": "code",
   "execution_count": 34,
   "metadata": {},
   "outputs": [
    {
     "data": {
      "application/vnd.jupyter.widget-view+json": {
       "model_id": "039b9343ed0144bf9761b9c0da0daa98",
       "version_major": 2,
       "version_minor": 0
      },
      "text/plain": [
       "Canvas(toolbar=Toolbar(toolitems=[('Home', 'Reset original view', 'home', 'home'), ('Back', 'Back to previous …"
      ]
     },
     "metadata": {},
     "output_type": "display_data"
    },
    {
     "data": {
      "text/plain": [
       "Text(0.5, 0, 'Taille de la mère (cm)')"
      ]
     },
     "execution_count": 34,
     "metadata": {},
     "output_type": "execute_result"
    }
   ],
   "source": [
    "# histogram of height by type of smoker: 0 never, 1 now, 2 during pregnancy, 3 within 1yr\n",
    "df_babies.hist(column='ht', by='smoke',density=True, bins=20, grid=False, layout=(4,1), sharex=True)\n",
    "plt.xlabel('Taille de la mère (cm)')"
   ]
  },
  {
   "cell_type": "code",
   "execution_count": 35,
   "metadata": {},
   "outputs": [],
   "source": [
    "# help on subplots:\n",
    "plt.subplots?"
   ]
  },
  {
   "cell_type": "code",
   "execution_count": 36,
   "metadata": {},
   "outputs": [
    {
     "data": {
      "application/vnd.jupyter.widget-view+json": {
       "model_id": "40d73b688c354e81b8bba8de32e23b5d",
       "version_major": 2,
       "version_minor": 0
      },
      "text/plain": [
       "Canvas(toolbar=Toolbar(toolitems=[('Home', 'Reset original view', 'home', 'home'), ('Back', 'Back to previous …"
      ]
     },
     "metadata": {},
     "output_type": "display_data"
    }
   ],
   "source": [
    "nrow = 4\n",
    "ncol = 1\n",
    "fig, axs = plt.subplots(nrow, ncol, figsize=(5, 5), sharex=True)\n",
    "for i, group in enumerate(df_babies.groupby(\"smoke\")):\n",
    "    if i == 0:\n",
    "        axs[i].set_title(\"Densité de la taille des mères\")\n",
    "    sns.kdeplot(group[1][\"ht\"], ax=axs[i], label=group[0])\n",
    "    if i == 3:\n",
    "        axs[i].set_xlabel(\"Taille de la mère (cm)\")\n",
    "plt.tight_layout()"
   ]
  },
  {
   "cell_type": "code",
   "execution_count": 37,
   "metadata": {},
   "outputs": [
    {
     "data": {
      "application/vnd.jupyter.widget-view+json": {
       "model_id": "23b9351dd01b4c06b90b08c69baa3060",
       "version_major": 2,
       "version_minor": 0
      },
      "text/plain": [
       "Canvas(toolbar=Toolbar(toolitems=[('Home', 'Reset original view', 'home', 'home'), ('Back', 'Back to previous …"
      ]
     },
     "metadata": {},
     "output_type": "display_data"
    },
    {
     "data": {
      "text/plain": [
       "Text(0.5, 1.0, 'Densité de la taille des mères par niveau de tabagisme')"
      ]
     },
     "execution_count": 37,
     "metadata": {},
     "output_type": "execute_result"
    }
   ],
   "source": [
    "plt.figure(figsize=(6, 4))\n",
    "df_babies.groupby(\"smoke\").ht.plot(kind='kde')\n",
    "plt.legend()\n",
    "plt.xlabel('Taille de la mère (cm)')\n",
    "plt.ylabel('Proportion')\n",
    "plt.title(\"Densité de la taille des mères par niveau de tabagisme\")"
   ]
  },
  {
   "cell_type": "markdown",
   "metadata": {},
   "source": [
    "## Densité bi-dimensionnelle\n",
    "La cellule qui suit est inutile en première lecture"
   ]
  },
  {
   "cell_type": "code",
   "execution_count": 38,
   "metadata": {},
   "outputs": [
    {
     "name": "stdout",
     "output_type": "stream",
     "text": [
      "Replace is False and data exists, so doing nothing. Use replace=True to re-download the data.\n"
     ]
    },
    {
     "data": {
      "text/plain": [
       "'./plot_species_kde.py'"
      ]
     },
     "execution_count": 38,
     "metadata": {},
     "output_type": "execute_result"
    }
   ],
   "source": [
    "path_target = \"./plot_species_kde.py\"\n",
    "url_shared_files = \"https://raw.githubusercontent.com/scikit-learn/scikit-learn/master/examples/neighbors/plot_species_kde.py\"\n",
    "download(url_shared_files, path_target, replace=False)"
   ]
  },
  {
   "cell_type": "code",
   "execution_count": 39,
   "metadata": {},
   "outputs": [
    {
     "data": {
      "application/vnd.jupyter.widget-view+json": {
       "model_id": "73aaf8f7dec64eb1ab2d2a482a7e16fc",
       "version_major": 2,
       "version_minor": 0
      },
      "text/plain": [
       "Canvas(toolbar=Toolbar(toolitems=[('Home', 'Reset original view', 'home', 'home'), ('Back', 'Back to previous …"
      ]
     },
     "metadata": {},
     "output_type": "display_data"
    },
    {
     "name": "stdout",
     "output_type": "stream",
     "text": [
      " - computing KDE in spherical coordinates\n",
      " - plot coastlines from coverage\n",
      " - computing KDE in spherical coordinates\n",
      " - plot coastlines from coverage\n"
     ]
    }
   ],
   "source": [
    "# le fichier peut être téléchargé ici:\n",
    "# https://raw.githubusercontent.com/scikit-learn/scikit-learn/master/examples/neighbors/plot_species_kde.py\n",
    "# et mis dans le repertoire de votre notebook\n",
    "exec(open('plot_species_kde.py').read())\n",
    "my_saving_display(fig, dirname, \"KDE2D\", imageformat, saving=saving)"
   ]
  },
  {
   "cell_type": "markdown",
   "metadata": {},
   "source": [
    "# Statistiques descriptives"
   ]
  },
  {
   "cell_type": "code",
   "execution_count": 40,
   "metadata": {},
   "outputs": [],
   "source": [
    "from scipy import stats\n",
    "from mpl_toolkits.mplot3d import Axes3D\n",
    "\n",
    "X = df_babies['dwt']  # Father height\n",
    "nb_samples = X.shape[0]\n",
    "y = np.ones(nb_samples,) + 0.05 * np.random.randn(nb_samples,)\n",
    "\n",
    "# Statistiques:\n",
    "meanX = np.mean(X)  # mean\n",
    "minX = np.min(X)  # min\n",
    "maxX = np.max(X)  # max\n",
    "medX = np.median(X)  # median\n",
    "rangeX = maxX - minX\n",
    "MADX = np.median(np.abs(X - medX))  # mean absolute deviation\n",
    "s = np.std(X)  # standard deviation default of numpy is 1/n, see np.std?\n",
    "\n",
    "alpha_trim = 0.15\n",
    "tmeanX = stats.trim_mean(X, alpha_trim)  # trimmed mean (level: alpha_trim)\n",
    "\n",
    "dim1, dim2 = 9, 3\n",
    "ymax = 1.6"
   ]
  },
  {
   "cell_type": "markdown",
   "metadata": {},
   "source": [
    "## Estimateur de position (ou de centrage)"
   ]
  },
  {
   "cell_type": "markdown",
   "metadata": {},
   "source": [
    "### La moyenne (empirique)"
   ]
  },
  {
   "cell_type": "code",
   "execution_count": 41,
   "metadata": {},
   "outputs": [
    {
     "data": {
      "application/vnd.jupyter.widget-view+json": {
       "model_id": "68531bd9a2f34ee48310bdbaf1b91f2b",
       "version_major": 2,
       "version_minor": 0
      },
      "text/plain": [
       "Canvas(toolbar=Toolbar(toolitems=[('Home', 'Reset original view', 'home', 'home'), ('Back', 'Back to previous …"
      ]
     },
     "metadata": {},
     "output_type": "display_data"
    }
   ],
   "source": [
    "fig1, ax = plt.subplots(figsize=(dim1, dim2))\n",
    "ax.set_ylim(0, 1.1 * ymax)\n",
    "ax.set_xlim(minX - 0.1 * rangeX, maxX + 0.1 * rangeX)\n",
    "ax.get_xaxis().tick_bottom()\n",
    "ax.axes.get_yaxis().set_visible(False)\n",
    "\n",
    "ax.spines['right'].set_color('none')\n",
    "ax.spines['top'].set_color('none')\n",
    "ax.spines['bottom'].set_position(('data', 0.5))\n",
    "ax.spines['left'].set_color('none')\n",
    "\n",
    "params = {'color': 'black', 's': 300,\n",
    "          'marker': 'o', 'edgecolors': brown, 'lw': 1}\n",
    "\n",
    "ax.scatter(X, y, **params)\n",
    "ax.plot([meanX, meanX], [0, ymax], color=brown, lw=1.5, ls=\"--\")\n",
    "\n",
    "plt.xlabel(r'$y$', fontsize=18)\n",
    "plt.annotate(r'$\\overline{y}_n$ : moyenne empirique',\n",
    "             xy=(meanX, 0.4), xycoords='data', xytext=(+10, +30),\n",
    "             textcoords='offset points', fontsize=18, color=brown)\n",
    "\n",
    "plt.tight_layout()\n",
    "plt.show()\n",
    "\n",
    "my_saving_display(fig1, dirname, \"DadWeightMean\", imageformat, saving=saving)"
   ]
  },
  {
   "cell_type": "markdown",
   "metadata": {},
   "source": [
    "### La médiane (empirique)"
   ]
  },
  {
   "cell_type": "code",
   "execution_count": 42,
   "metadata": {},
   "outputs": [
    {
     "data": {
      "application/vnd.jupyter.widget-view+json": {
       "model_id": "a5436f41aa4f4cea8848e7be986aae3d",
       "version_major": 2,
       "version_minor": 0
      },
      "text/plain": [
       "Canvas(toolbar=Toolbar(toolitems=[('Home', 'Reset original view', 'home', 'home'), ('Back', 'Back to previous …"
      ]
     },
     "metadata": {},
     "output_type": "display_data"
    }
   ],
   "source": [
    "fig2, ax = plt.subplots(figsize=(dim1, dim2))\n",
    "ax.set_ylim(0, 1.1 * ymax)\n",
    "ax.set_xlim(minX - 0.1 * rangeX, maxX + 0.1 * rangeX)\n",
    "ax.get_xaxis().tick_bottom()\n",
    "ax.axes.get_yaxis().set_visible(False)\n",
    "\n",
    "ax.spines['right'].set_color('none')\n",
    "ax.spines['top'].set_color('none')\n",
    "ax.spines['bottom'].set_position(('data', 0.5))\n",
    "ax.spines['left'].set_color('none')\n",
    "\n",
    "ax.scatter(X, y, **params)\n",
    "\n",
    "ax.plot([medX, medX], [0, ymax], color=purple, lw=1.5, ls=\"--\")\n",
    "plt.xlabel(r'$y$', fontsize=18)\n",
    "plt.annotate(r'$\\rm{Med}_n(y):$ médiane empirique',\n",
    "             xy=(medX, 1), xycoords='data', xytext=(-85, +52),\n",
    "             textcoords='offset points', fontsize=18, color=purple)\n",
    "\n",
    "plt.tight_layout()\n",
    "plt.show()\n",
    "\n",
    "my_saving_display(fig2, dirname, \"DadWeightMediane\",\n",
    "                  imageformat, saving=saving)"
   ]
  },
  {
   "cell_type": "markdown",
   "metadata": {},
   "source": [
    "### La moyenne tronquée (au niveau $\\alpha_{trim}$)"
   ]
  },
  {
   "cell_type": "code",
   "execution_count": 43,
   "metadata": {},
   "outputs": [
    {
     "data": {
      "application/vnd.jupyter.widget-view+json": {
       "model_id": "76fa24be178242ea838972140aae47e9",
       "version_major": 2,
       "version_minor": 0
      },
      "text/plain": [
       "Canvas(toolbar=Toolbar(toolitems=[('Home', 'Reset original view', 'home', 'home'), ('Back', 'Back to previous …"
      ]
     },
     "metadata": {},
     "output_type": "display_data"
    }
   ],
   "source": [
    "fig1, ax = plt.subplots(figsize=(dim1, dim2))\n",
    "ax.set_ylim(0, 1.1 * ymax)\n",
    "ax.set_xlim(minX - 0.1 * rangeX, maxX + 0.1 * rangeX)\n",
    "ax.get_xaxis().tick_bottom()\n",
    "ax.axes.get_yaxis().set_visible(False)\n",
    "\n",
    "ax.spines['right'].set_color('none')\n",
    "ax.spines['top'].set_color('none')\n",
    "ax.spines['bottom'].set_position(('data', 0.5))\n",
    "ax.spines['left'].set_color('none')\n",
    "\n",
    "ax.scatter(X, y, **params)\n",
    "\n",
    "ax.plot([tmeanX, tmeanX], [0, ymax], c='blue', lw=1.5, ls=\"--\")\n",
    "plt.xlabel(r'$y$', fontsize=18)\n",
    "tt = \"$\\overline{y}_{n,%s} :$ moyenne tronquée\" % str(alpha_trim)\n",
    "plt.annotate(tt, xy=(tmeanX, 1), xycoords='data', xytext=(+22, +50),\n",
    "             textcoords='offset points', fontsize=18, color='blue')\n",
    "\n",
    "plt.tight_layout()\n",
    "plt.show()\n",
    "\n",
    "my_saving_display(fig1, dirname, \"DadWeightTrimmed\", imageformat,saving=saving)\n"
   ]
  },
  {
   "cell_type": "markdown",
   "metadata": {},
   "source": [
    "### Comparatif des statistiques de centrages (ou de position)"
   ]
  },
  {
   "cell_type": "code",
   "execution_count": 44,
   "metadata": {},
   "outputs": [
    {
     "data": {
      "application/vnd.jupyter.widget-view+json": {
       "model_id": "e6c01f7175ae41d3b63223ec9243a072",
       "version_major": 2,
       "version_minor": 0
      },
      "text/plain": [
       "Canvas(toolbar=Toolbar(toolitems=[('Home', 'Reset original view', 'home', 'home'), ('Back', 'Back to previous …"
      ]
     },
     "metadata": {},
     "output_type": "display_data"
    }
   ],
   "source": [
    "fig1, ax = plt.subplots(figsize=(dim1, dim2))\n",
    "ax.set_ylim(0, 1.1 * ymax)\n",
    "ax.set_xlim(minX - 0.1 * rangeX, maxX + 0.1 * rangeX)\n",
    "ax.get_xaxis().tick_bottom()\n",
    "ax.axes.get_yaxis().set_visible(False)\n",
    "\n",
    "ax.spines['right'].set_color('none')\n",
    "ax.spines['top'].set_color('none')\n",
    "ax.spines['bottom'].set_position(('data', 0.5))\n",
    "ax.spines['left'].set_color('none')\n",
    "\n",
    "ax.scatter(X, y, **params)\n",
    "\n",
    "ax.plot([meanX, meanX], [0, ymax], color=brown, lw=1.5, ls=\"--\")\n",
    "ax.plot([medX, medX], [0, ymax], color=purple, lw=1.5, ls=\"--\")\n",
    "ax.plot([tmeanX, tmeanX], [0, ymax], color='blue',\n",
    "        lw=1.5, ls=\"--\")\n",
    "\n",
    "plt.xlabel(r'$y$', fontsize=18)\n",
    "plt.annotate(r'$\\rm{Med}_n(y):$ médiane empirique',\n",
    "             xy=(medX, 1), xycoords='data', xytext=(-85, +30),\n",
    "             textcoords='offset points', fontsize=18, color=purple)\n",
    "plt.annotate(r'$\\bar{y}_n :$ moyenne empirique', xy=(meanX, 0.4),\n",
    "             xycoords='data', xytext=(+10, +30), textcoords='offset points',\n",
    "             fontsize=18, color=brown)\n",
    "plt.annotate(tt, xy=(tmeanX, 1), xycoords='data', xytext=(+22, +50),\n",
    "             textcoords='offset points', fontsize=18, color='blue')\n",
    "\n",
    "plt.tight_layout()\n",
    "plt.show()\n",
    "\n",
    "my_saving_display(fig1, dirname, \"DadWeightMedianeMean\",\n",
    "                  imageformat, saving=saving)"
   ]
  },
  {
   "cell_type": "markdown",
   "metadata": {},
   "source": [
    "## Estimateurs de dispersion"
   ]
  },
  {
   "cell_type": "markdown",
   "metadata": {},
   "source": [
    "### L'écart-type (empirique)"
   ]
  },
  {
   "cell_type": "code",
   "execution_count": 45,
   "metadata": {},
   "outputs": [
    {
     "data": {
      "application/vnd.jupyter.widget-view+json": {
       "model_id": "8b4a8fc157a2478ab5d5f3421f6dc70a",
       "version_major": 2,
       "version_minor": 0
      },
      "text/plain": [
       "Canvas(toolbar=Toolbar(toolitems=[('Home', 'Reset original view', 'home', 'home'), ('Back', 'Back to previous …"
      ]
     },
     "metadata": {},
     "output_type": "display_data"
    }
   ],
   "source": [
    "fig1, ax = plt.subplots(figsize=(dim1, dim2))\n",
    "ax.set_ylim(0, 1.1 * ymax)\n",
    "ax.set_xlim(minX - 0.1 * rangeX, maxX + 0.1 * rangeX)\n",
    "ax.get_xaxis().tick_bottom()\n",
    "ax.axes.get_yaxis().set_visible(False)\n",
    "\n",
    "ax.spines['right'].set_color('none')\n",
    "ax.spines['top'].set_color('none')\n",
    "ax.spines['bottom'].set_position(('data', 0.5))\n",
    "ax.spines['left'].set_color('none')\n",
    "\n",
    "ax.scatter(X, y, **params)\n",
    "\n",
    "altitude = 1.29\n",
    "arrow_params = {'fc': brown, 'ec': brown, 'head_width': 0.05,\n",
    "                'head_length': 0.1, 'length_includes_head': True}\n",
    "plt.arrow(meanX, altitude, -s, 0, **arrow_params)\n",
    "plt.arrow(meanX - s, altitude, s, 0, **arrow_params)\n",
    "plt.arrow(meanX, altitude, s, 0, **arrow_params)\n",
    "plt.arrow(meanX + s, altitude, -s, 0, **arrow_params)\n",
    "\n",
    "plt.xlabel(r'$y$', fontsize=18)\n",
    "\n",
    "plt.annotate(r'$\\bar{y}_n :$ moyenne empirique', xy=(meanX, 0.4),\n",
    "             xycoords='data', xytext=(+10, +30), textcoords='offset points',\n",
    "             fontsize=18, color=brown)\n",
    "plt.annotate(r'$s_n$', xy=(meanX + s * (0.2), 1), xycoords='data',\n",
    "             xytext=(+10, +40), textcoords='offset points', fontsize=18,\n",
    "             color=brown)\n",
    "plt.annotate(r'$s_n$', xy=(meanX - s * (0.7), 1), xycoords='data',\n",
    "             xytext=(+10, +40), textcoords='offset points', fontsize=18,\n",
    "             color=brown)\n",
    "\n",
    "ax.plot([meanX, meanX], [0, ymax], color=brown, lw=1.5, ls=\"--\")\n",
    "\n",
    "plt.tight_layout()\n",
    "plt.show()\n",
    "\n",
    "my_saving_display(fig1, dirname, \"DadWeightSD\", imageformat, saving=saving)"
   ]
  },
  {
   "cell_type": "markdown",
   "metadata": {},
   "source": [
    "### La médiane des déviations absolues\n",
    "(en : median of absolute deviation (MAD))"
   ]
  },
  {
   "cell_type": "code",
   "execution_count": 46,
   "metadata": {},
   "outputs": [
    {
     "data": {
      "application/vnd.jupyter.widget-view+json": {
       "model_id": "d68c5599d9ad4848886a0e114ce23bc7",
       "version_major": 2,
       "version_minor": 0
      },
      "text/plain": [
       "Canvas(toolbar=Toolbar(toolitems=[('Home', 'Reset original view', 'home', 'home'), ('Back', 'Back to previous …"
      ]
     },
     "metadata": {},
     "output_type": "display_data"
    }
   ],
   "source": [
    "fig1, ax = plt.subplots(figsize=(dim1, dim2))\n",
    "ax.set_ylim(0, 1.1 * ymax)\n",
    "ax.set_xlim(minX - 0.1 * rangeX, maxX + 0.1 * rangeX)\n",
    "ax.get_xaxis().tick_bottom()\n",
    "ax.axes.get_yaxis().set_visible(False)\n",
    "\n",
    "ax.spines['right'].set_color('none')\n",
    "ax.spines['top'].set_color('none')\n",
    "ax.spines['bottom'].set_position(('data', 0.5))\n",
    "ax.spines['left'].set_color('none')\n",
    "\n",
    "ax.scatter(X, y, **params)\n",
    "\n",
    "altitude = 1.29\n",
    "arrow_params_purple = {'fc': purple, 'ec': purple, 'head_width': 0.05,\n",
    "                'head_length': 0.1, 'length_includes_head': True}\n",
    "plt.arrow(medX, altitude, -MADX, 0, **arrow_params_purple)\n",
    "plt.arrow(medX - MADX, altitude, MADX, 0, **arrow_params_purple)\n",
    "plt.arrow(medX, altitude, MADX, 0, **arrow_params_purple)\n",
    "plt.arrow(medX + MADX, altitude, -MADX, 0, **arrow_params_purple)\n",
    "\n",
    "plt.xlabel(r'$y$', fontsize=18)\n",
    "\n",
    "plt.annotate(r'$\\rm{Med}_n(y):$ médiane empirique',\n",
    "             xy=(medX, 0.4), xycoords='data', xytext=(+10, +30),\n",
    "             textcoords='offset points', fontsize=18, color=purple)\n",
    "plt.annotate(r'$\\rm{MAD}_n(y)$', xy=(medX + MADX * (0.01), 1),\n",
    "             xycoords='data', xytext=(+10, +44), textcoords='offset points',\n",
    "             fontsize=14, color=purple)\n",
    "plt.annotate(r'$\\rm{MAD}_n(y)$', xy=(medX - MADX * (1.35), 1),\n",
    "             xycoords='data', xytext=(+10, +44), textcoords='offset points',\n",
    "             fontsize=14, color=purple)\n",
    "ax.plot([medX, medX], [0, ymax], color=purple, lw=1.5, ls=\"--\")\n",
    "\n",
    "plt.tight_layout()\n",
    "plt.show()\n",
    "\n",
    "my_saving_display(fig1, dirname, \"DadWeightMAD\", imageformat,saving=saving)"
   ]
  },
  {
   "cell_type": "markdown",
   "metadata": {},
   "source": [
    "## Fonction de répartition (empirique)"
   ]
  },
  {
   "cell_type": "code",
   "execution_count": 47,
   "metadata": {},
   "outputs": [
    {
     "data": {
      "application/vnd.jupyter.widget-view+json": {
       "model_id": "90f484f0fa5e4ca0a171cde9822aee6b",
       "version_major": 2,
       "version_minor": 0
      },
      "text/plain": [
       "Canvas(toolbar=Toolbar(toolitems=[('Home', 'Reset original view', 'home', 'home'), ('Back', 'Back to previous …"
      ]
     },
     "metadata": {},
     "output_type": "display_data"
    }
   ],
   "source": [
    "yrange_lim_down = (0., 1.)\n",
    "yrange_lim_up = (-0.5, 2)\n",
    "yrange_lim = (-0.1, 0.5)\n",
    "xrange_lim = (40, 120)\n",
    "\n",
    "sorted_data = np.sort(X)\n",
    "\n",
    "dim1, dim2 = (13, 8)\n",
    "fontsize = 15\n",
    "\n",
    "fig1 = plt.figure(figsize=(dim1 * 1.5/2, dim2/2))\n",
    "\n",
    "# plt.subplots_adjust(hspace=0.3)\n",
    "ax = fig1.add_subplot(211)\n",
    "ax.set_ylim(yrange_lim_up)\n",
    "ax.set_xlim(xrange_lim)\n",
    "ax.get_xaxis().tick_bottom()\n",
    "ax.axes.get_yaxis().set_visible(False)\n",
    "ax.spines['right'].set_color('none')\n",
    "ax.spines['top'].set_color('none')\n",
    "ax.spines['bottom'].set_position(('data', 0.5))\n",
    "ax.spines['left'].set_color('none')\n",
    "\n",
    "params['s'] = 40\n",
    "ax.scatter(X, y, **params)\n",
    "\n",
    "plt.xlabel(r'$y$', fontsize=fontsize)\n",
    "plt.suptitle(r\"Nombre d'échantillons: \" + \"$n={0}$\".format(nb_samples),\n",
    "             multialignment='center')\n",
    "\n",
    "ax2 = fig1.add_subplot(212)\n",
    "ax2.set_xlim(xrange_lim)\n",
    "ax2.set_ylim(yrange_lim_down)\n",
    "plt.step(sorted_data, np.arange(sorted_data.size, dtype='float') / nb_samples,\n",
    "         color=brown)\n",
    "plt.ylabel(r'Fréquence cumulée', fontsize=fontsize)\n",
    "plt.xlabel(r'$y$', fontsize=fontsize)\n",
    "plt.tight_layout()\n",
    "plt.show()\n",
    "\n",
    "my_saving_display(fig1, dirname, \"DadWeightcdf\", imageformat, saving=saving)"
   ]
  },
  {
   "cell_type": "markdown",
   "metadata": {},
   "source": [
    "### <font color='red'> EXERCICE : Quelle est la taille des sauts? </font>\n"
   ]
  },
  {
   "cell_type": "markdown",
   "metadata": {},
   "source": [
    "## Quantiles (empiriques)"
   ]
  },
  {
   "cell_type": "code",
   "execution_count": 48,
   "metadata": {},
   "outputs": [
    {
     "data": {
      "application/vnd.jupyter.widget-view+json": {
       "model_id": "34ac91f1d8744a739c612bbc2a499e9d",
       "version_major": 2,
       "version_minor": 0
      },
      "text/plain": [
       "Canvas(toolbar=Toolbar(toolitems=[('Home', 'Reset original view', 'home', 'home'), ('Back', 'Back to previous …"
      ]
     },
     "metadata": {},
     "output_type": "display_data"
    }
   ],
   "source": [
    "fig2 = plt.figure(figsize=(dim1 * 1.5/2, dim2/2))\n",
    "\n",
    "plt.subplots_adjust(hspace=0.3)\n",
    "ax = fig2.add_subplot(211)\n",
    "ax.set_ylim(yrange_lim_up)\n",
    "ax.set_xlim(xrange_lim)\n",
    "ax.get_xaxis().tick_bottom()\n",
    "ax.axes.get_yaxis().set_visible(False)\n",
    "ax.spines['right'].set_color('none')\n",
    "ax.spines['top'].set_color('none')\n",
    "ax.spines['bottom'].set_position(('data', 0.5))\n",
    "ax.spines['left'].set_color('none')\n",
    "\n",
    "ax.scatter(X, y, **params)\n",
    "plt.xlabel(r'$y$', fontsize=fontsize)\n",
    "plt.suptitle(r\"Nombre d'échantillons: \" + \"$n={0}$\".format(nb_samples),\n",
    "             multialignment='center')\n",
    "\n",
    "ax2 = fig2.add_subplot(212)\n",
    "ax2.set_xlim(xrange_lim)\n",
    "ax2.set_ylim(yrange_lim_down)\n",
    "plt.step(sorted_data, np.arange(sorted_data.size, dtype='float') / nb_samples,\n",
    "         color=brown)\n",
    "\n",
    "plt.suptitle(r\"Nombre d'échantillons: \" + \"$n={0}$\".format(nb_samples),\n",
    "             multialignment='center')\n",
    "\n",
    "\n",
    "###############################################################################\n",
    "# Quantile function: First value to display\n",
    "\n",
    "p = 0.1\n",
    "q = np.percentile(X, p * 100)\n",
    "\n",
    "ax2.plot([q, xrange_lim[0]], [p, p], color=brown, lw=1.5, ls=\"--\")\n",
    "ax2.plot([q, q], [0, p], color=brown, lw=1.5, ls=\"--\")\n",
    "ax2.annotate(r'$p=%.2f$' % p, xy=(xrange_lim[0], p), xycoords='data',\n",
    "             xytext=(0, 6), textcoords='offset points',\n",
    "             fontsize=fontsize - 3, color=brown)\n",
    "\n",
    "ax2.annotate(r'$F_n^\\leftarrow(p)=%.2f$' % q, xy=(q, 0), xycoords='data',\n",
    "             xytext=(-40, -30), textcoords='offset points',\n",
    "             fontsize=fontsize - 3, color=brown)\n",
    "###############################################################################\n",
    "# Quantile function: Second value to display\n",
    "\n",
    "p = 0.90\n",
    "q = np.percentile(X, p * 100)\n",
    "\n",
    "ax2.plot([q, xrange_lim[0]], [p, p], color=brown, lw=1.5, ls=\"--\")\n",
    "ax2.plot([q, q], [0, p], color=brown, lw=1.5, ls=\"--\")\n",
    "bbox = dict(boxstyle=\"round\", fc=\"0.8\")\n",
    "\n",
    "ax2.annotate(r'$p=%.2f$' % p, xy=(xrange_lim[0], p), xycoords='data',\n",
    "             xytext=(0, -13), textcoords='offset points',\n",
    "             fontsize=fontsize - 3, color=brown)\n",
    "ax2.annotate(r'$F_n^\\leftarrow(p)=%.2f$' % q, xy=(q, 0), xycoords='data',\n",
    "             xytext=(-40, -30), textcoords='offset points',\n",
    "             fontsize=fontsize - 3, color=brown)\n",
    "\n",
    "plt.step(sorted_data, np.arange(sorted_data.size, dtype='float') / nb_samples,\n",
    "         color=brown)\n",
    "plt.ylabel(r'Fréquence cumulée', fontsize=fontsize)\n",
    "plt.xlabel(r'$y$', fontsize=fontsize)\n",
    "\n",
    "plt.tight_layout()\n",
    "plt.show()\n",
    "my_saving_display(fig2, dirname, \"DadWeightQuantiles\",\n",
    "                  imageformat, saving=saving)"
   ]
  },
  {
   "cell_type": "markdown",
   "metadata": {},
   "source": [
    "## Visualisation (niveau 2)"
   ]
  },
  {
   "cell_type": "markdown",
   "metadata": {},
   "source": [
    "### Boxplots / Boîte à moustache\n",
    "Visualiser la médiane, les quantiles 1/4 et 3/4, 1.5 inter-quartiles et outliers?\n",
    "voir e.g. : http://www.itse.be/statistique2010/co/233_Cours_boxplot.html"
   ]
  },
  {
   "cell_type": "code",
   "execution_count": 49,
   "metadata": {},
   "outputs": [
    {
     "data": {
      "application/vnd.jupyter.widget-view+json": {
       "model_id": "098584f623144aebbd87907171c26f8c",
       "version_major": 2,
       "version_minor": 0
      },
      "text/plain": [
       "Canvas(toolbar=Toolbar(toolitems=[('Home', 'Reset original view', 'home', 'home'), ('Back', 'Back to previous …"
      ]
     },
     "metadata": {},
     "output_type": "display_data"
    }
   ],
   "source": [
    "nrow, ncol = (1, 2)\n",
    "fig, axs = plt.subplots(nrow, ncol, figsize=(8, 5), sharey=True)\n",
    "\n",
    "sns.boxplot(y='dwt', ax=axs[0], data=df_babies, orient='vertical')\n",
    "axs[0].set_title(\"Masse du père\")\n",
    "axs[0].set_ylabel(\"kg\")\n",
    "\n",
    "sns.boxplot(y='wt.1', ax=axs[1], data=df_babies, orient='vertical')\n",
    "axs[1].set_title(\"Masse de la mère\")\n",
    "axs[1].set_ylabel(\"\")\n",
    "\n",
    "my_saving_display(fig, dirname, \"DadWeightBoxplot\", imageformat, saving=saving)"
   ]
  },
  {
   "cell_type": "markdown",
   "metadata": {},
   "source": [
    "### Violons"
   ]
  },
  {
   "cell_type": "code",
   "execution_count": 50,
   "metadata": {},
   "outputs": [
    {
     "data": {
      "application/vnd.jupyter.widget-view+json": {
       "model_id": "74f3cd4bd0474085ba90bdead4ac12c0",
       "version_major": 2,
       "version_minor": 0
      },
      "text/plain": [
       "Canvas(toolbar=Toolbar(toolitems=[('Home', 'Reset original view', 'home', 'home'), ('Back', 'Back to previous …"
      ]
     },
     "metadata": {},
     "output_type": "display_data"
    }
   ],
   "source": [
    "nrow, ncol = (1, 2)\n",
    "fig, axs = plt.subplots(nrow, ncol, figsize=(8, 5), sharey=True)\n",
    "\n",
    "sns.violinplot(y='dwt', ax=axs[0], data=df_babies, orient='vertical')\n",
    "axs[0].set_title(\"Masse du père\")\n",
    "axs[0].set_ylabel(\"kg\")\n",
    "\n",
    "sns.violinplot(y='wt.1', ax=axs[1], data=df_babies, orient='vertical')\n",
    "axs[1].set_title(\"Masse de la mère\")\n",
    "axs[1].set_ylabel(\"\")\n",
    "\n",
    "my_saving_display(fig, dirname, \"DadWeightViolin\", imageformat, saving=saving)"
   ]
  },
  {
   "cell_type": "markdown",
   "metadata": {},
   "source": [
    "# Nouvelle base de données : expérience sur les poussins\n",
    "\n",
    "Des chercheurs se posent la question de savoir si parmi trois traitements possible, il en existe un meilleur que les autres pour améliorer la prise de masse des poussins.\n",
    "Ils ont consigné l'impact de trois traitements sur la croissance de 45 poussins pour répondre à cette question.\n",
    "Les 45 oeufs sont répartis aléatoirement entre les trois types de traitement (15/15/15).\n",
    "Au bout d'un nombre de jours fixé à l'avance, on mesure la croissance (masse, en décigrammes) du poussin et on note alors son sexe."
   ]
  },
  {
   "cell_type": "code",
   "execution_count": 51,
   "metadata": {},
   "outputs": [
    {
     "name": "stdout",
     "output_type": "stream",
     "text": [
      "Replace is False and data exists, so doing nothing. Use replace=True to re-download the data.\n"
     ]
    },
    {
     "data": {
      "text/plain": [
       "'./poussins.txt'"
      ]
     },
     "execution_count": 51,
     "metadata": {},
     "output_type": "execute_result"
    }
   ],
   "source": [
    "# à passer en première lecture si le package donwload n'est pas installé\n",
    "url = \"http://josephsalmon.eu/enseignement/datasets/poussin.txt\"\n",
    "path_target = \"./poussins.txt\"\n",
    "download(url, path_target, replace=False)"
   ]
  },
  {
   "cell_type": "code",
   "execution_count": 52,
   "metadata": {},
   "outputs": [
    {
     "data": {
      "text/html": [
       "<div>\n",
       "<style scoped>\n",
       "    .dataframe tbody tr th:only-of-type {\n",
       "        vertical-align: middle;\n",
       "    }\n",
       "\n",
       "    .dataframe tbody tr th {\n",
       "        vertical-align: top;\n",
       "    }\n",
       "\n",
       "    .dataframe thead th {\n",
       "        text-align: right;\n",
       "    }\n",
       "</style>\n",
       "<table border=\"1\" class=\"dataframe\">\n",
       "  <thead>\n",
       "    <tr style=\"text-align: right;\">\n",
       "      <th></th>\n",
       "      <th>Trait</th>\n",
       "      <th>Sexe</th>\n",
       "      <th>Rdt</th>\n",
       "    </tr>\n",
       "  </thead>\n",
       "  <tbody>\n",
       "    <tr>\n",
       "      <th>0</th>\n",
       "      <td>1</td>\n",
       "      <td>1</td>\n",
       "      <td>26</td>\n",
       "    </tr>\n",
       "    <tr>\n",
       "      <th>1</th>\n",
       "      <td>1</td>\n",
       "      <td>1</td>\n",
       "      <td>30</td>\n",
       "    </tr>\n",
       "    <tr>\n",
       "      <th>2</th>\n",
       "      <td>1</td>\n",
       "      <td>1</td>\n",
       "      <td>26</td>\n",
       "    </tr>\n",
       "    <tr>\n",
       "      <th>3</th>\n",
       "      <td>1</td>\n",
       "      <td>1</td>\n",
       "      <td>33</td>\n",
       "    </tr>\n",
       "    <tr>\n",
       "      <th>4</th>\n",
       "      <td>1</td>\n",
       "      <td>1</td>\n",
       "      <td>27</td>\n",
       "    </tr>\n",
       "  </tbody>\n",
       "</table>\n",
       "</div>"
      ],
      "text/plain": [
       "   Trait  Sexe  Rdt\n",
       "0      1     1   26\n",
       "1      1     1   30\n",
       "2      1     1   26\n",
       "3      1     1   33\n",
       "4      1     1   27"
      ]
     },
     "execution_count": 52,
     "metadata": {},
     "output_type": "execute_result"
    }
   ],
   "source": [
    "# Le fichier peut être téléchargé ici:\n",
    "# http://josephsalmon.eu/enseignement/datasets/poussin.txt\n",
    "# et mis dans le repertoire de votre notebook\n",
    "df_chicken = pd.read_csv(\"poussins.txt\", sep='\\s+') # \\s+ : for handling spaces\n",
    "df_chicken.head(n=5)  # df stands for Data Frame"
   ]
  },
  {
   "cell_type": "code",
   "execution_count": 53,
   "metadata": {},
   "outputs": [
    {
     "data": {
      "text/html": [
       "<div>\n",
       "<style scoped>\n",
       "    .dataframe tbody tr th:only-of-type {\n",
       "        vertical-align: middle;\n",
       "    }\n",
       "\n",
       "    .dataframe tbody tr th {\n",
       "        vertical-align: top;\n",
       "    }\n",
       "\n",
       "    .dataframe thead th {\n",
       "        text-align: right;\n",
       "    }\n",
       "</style>\n",
       "<table border=\"1\" class=\"dataframe\">\n",
       "  <thead>\n",
       "    <tr style=\"text-align: right;\">\n",
       "      <th></th>\n",
       "      <th>Traitement</th>\n",
       "      <th>Sexe</th>\n",
       "      <th>Masse (dg)</th>\n",
       "    </tr>\n",
       "  </thead>\n",
       "  <tbody>\n",
       "    <tr>\n",
       "      <th>0</th>\n",
       "      <td>1</td>\n",
       "      <td>Mâle</td>\n",
       "      <td>26</td>\n",
       "    </tr>\n",
       "    <tr>\n",
       "      <th>1</th>\n",
       "      <td>1</td>\n",
       "      <td>Mâle</td>\n",
       "      <td>30</td>\n",
       "    </tr>\n",
       "    <tr>\n",
       "      <th>2</th>\n",
       "      <td>1</td>\n",
       "      <td>Mâle</td>\n",
       "      <td>26</td>\n",
       "    </tr>\n",
       "    <tr>\n",
       "      <th>3</th>\n",
       "      <td>1</td>\n",
       "      <td>Mâle</td>\n",
       "      <td>33</td>\n",
       "    </tr>\n",
       "    <tr>\n",
       "      <th>4</th>\n",
       "      <td>1</td>\n",
       "      <td>Mâle</td>\n",
       "      <td>27</td>\n",
       "    </tr>\n",
       "  </tbody>\n",
       "</table>\n",
       "</div>"
      ],
      "text/plain": [
       "   Traitement  Sexe  Masse (dg)\n",
       "0           1  Mâle          26\n",
       "1           1  Mâle          30\n",
       "2           1  Mâle          26\n",
       "3           1  Mâle          33\n",
       "4           1  Mâle          27"
      ]
     },
     "execution_count": 53,
     "metadata": {},
     "output_type": "execute_result"
    }
   ],
   "source": [
    "df_chicken.columns = [\"Traitement\", \"Sexe\", \"Masse (dg)\"]\n",
    "df_chicken['Sexe'].replace([1, 2], [\"Mâle\", \"Femelle\"], inplace=True)\n",
    "df_chicken.head()"
   ]
  },
  {
   "cell_type": "code",
   "execution_count": 54,
   "metadata": {},
   "outputs": [
    {
     "data": {
      "application/vnd.jupyter.widget-view+json": {
       "model_id": "6ca62d2081ab4a169bbd9ecab3973685",
       "version_major": 2,
       "version_minor": 0
      },
      "text/plain": [
       "Canvas(toolbar=Toolbar(toolitems=[('Home', 'Reset original view', 'home', 'home'), ('Back', 'Back to previous …"
      ]
     },
     "metadata": {},
     "output_type": "display_data"
    }
   ],
   "source": [
    "fig_violons = plt.figure()\n",
    "sns.violinplot(x=\"Traitement\", y=\"Masse (dg)\",\n",
    "               data=df_chicken, palette=\"muted\", scale=\"count\", inner='box')\n",
    "plt.title(\"Violons de la masse d'un poulet (dg) selon le traitement appliqué\")\n",
    "my_saving_display(fig_violons, dirname, \"Violons_poussin\",\n",
    "                  imageformat, saving=saving)"
   ]
  },
  {
   "cell_type": "markdown",
   "metadata": {},
   "source": [
    "**Conclusion** (partielle): À première vue, le traitement 3 semble celui conduisant à une plus grosse croissance des poussins..."
   ]
  },
  {
   "cell_type": "markdown",
   "metadata": {},
   "source": [
    "## Violons avancés"
   ]
  },
  {
   "cell_type": "code",
   "execution_count": 55,
   "metadata": {},
   "outputs": [
    {
     "data": {
      "application/vnd.jupyter.widget-view+json": {
       "model_id": "c29329cb49e54312aaf297571a67e5d8",
       "version_major": 2,
       "version_minor": 0
      },
      "text/plain": [
       "Canvas(toolbar=Toolbar(toolitems=[('Home', 'Reset original view', 'home', 'home'), ('Back', 'Back to previous …"
      ]
     },
     "metadata": {},
     "output_type": "display_data"
    }
   ],
   "source": [
    "fig_violons_sexe = plt.figure()\n",
    "sns.violinplot(x=\"Sexe\", y=\"Masse (dg)\", hue=\"Traitement\",\n",
    "               data=df_chicken, palette=\"muted\", scale=\"count\")\n",
    "plt.title(\"Violons du masse d'un poulet (dg) selon le traitement choisi et le sexe\")\n",
    "my_saving_display(fig_violons_sexe, dirname, \"Violons_poussin_sexe\",\n",
    "                  imageformat, saving=saving)"
   ]
  },
  {
   "cell_type": "markdown",
   "metadata": {},
   "source": [
    "## Groupement (en: Groupby)"
   ]
  },
  {
   "cell_type": "code",
   "execution_count": 56,
   "metadata": {},
   "outputs": [
    {
     "data": {
      "text/html": [
       "<div>\n",
       "<style scoped>\n",
       "    .dataframe tbody tr th:only-of-type {\n",
       "        vertical-align: middle;\n",
       "    }\n",
       "\n",
       "    .dataframe tbody tr th {\n",
       "        vertical-align: top;\n",
       "    }\n",
       "\n",
       "    .dataframe thead th {\n",
       "        text-align: right;\n",
       "    }\n",
       "</style>\n",
       "<table border=\"1\" class=\"dataframe\">\n",
       "  <thead>\n",
       "    <tr style=\"text-align: right;\">\n",
       "      <th></th>\n",
       "      <th></th>\n",
       "      <th>Masse (dg)</th>\n",
       "    </tr>\n",
       "    <tr>\n",
       "      <th>Sexe</th>\n",
       "      <th>Traitement</th>\n",
       "      <th></th>\n",
       "    </tr>\n",
       "  </thead>\n",
       "  <tbody>\n",
       "    <tr>\n",
       "      <th rowspan=\"3\" valign=\"top\">Femelle</th>\n",
       "      <th>1</th>\n",
       "      <td>10</td>\n",
       "    </tr>\n",
       "    <tr>\n",
       "      <th>2</th>\n",
       "      <td>6</td>\n",
       "    </tr>\n",
       "    <tr>\n",
       "      <th>3</th>\n",
       "      <td>4</td>\n",
       "    </tr>\n",
       "    <tr>\n",
       "      <th rowspan=\"3\" valign=\"top\">Mâle</th>\n",
       "      <th>1</th>\n",
       "      <td>5</td>\n",
       "    </tr>\n",
       "    <tr>\n",
       "      <th>2</th>\n",
       "      <td>9</td>\n",
       "    </tr>\n",
       "    <tr>\n",
       "      <th>3</th>\n",
       "      <td>11</td>\n",
       "    </tr>\n",
       "  </tbody>\n",
       "</table>\n",
       "</div>"
      ],
      "text/plain": [
       "                    Masse (dg)\n",
       "Sexe    Traitement            \n",
       "Femelle 1                   10\n",
       "        2                    6\n",
       "        3                    4\n",
       "Mâle    1                    5\n",
       "        2                    9\n",
       "        3                   11"
      ]
     },
     "execution_count": 56,
     "metadata": {},
     "output_type": "execute_result"
    }
   ],
   "source": [
    "df_chicken.groupby(['Sexe','Traitement']).count()"
   ]
  },
  {
   "cell_type": "code",
   "execution_count": 57,
   "metadata": {},
   "outputs": [
    {
     "data": {
      "application/vnd.jupyter.widget-view+json": {
       "model_id": "3087b24238b549c9995c8306b842c178",
       "version_major": 2,
       "version_minor": 0
      },
      "text/plain": [
       "Canvas(toolbar=Toolbar(toolitems=[('Home', 'Reset original view', 'home', 'home'), ('Back', 'Back to previous …"
      ]
     },
     "metadata": {},
     "output_type": "display_data"
    }
   ],
   "source": [
    "fig1 = plt.figure()\n",
    "sns.scatterplot(x=\"Traitement\", y=\"Masse (dg)\", hue=\"Sexe\", data=df_chicken, s=100)\n",
    "frame1 = plt.gca()\n",
    "frame1.axes.get_xaxis().set_ticks([1,2,3])\n",
    "plt.legend()\n",
    "my_saving_display(fig1, dirname, \"distribution_poussin\", imageformat, saving=saving)"
   ]
  },
  {
   "cell_type": "markdown",
   "metadata": {},
   "source": [
    "## Classes déséquilibrées et conclusions hâtives \n",
    "Dans l'expérience ci-dessus on compte les poussins par type de traitement et par sexe.\n",
    "Ainsi, il y avait 10 femelles qui ont reçu le traitement 1 alors que 5 mâles seulement ont reçu ce traitement 1.\n",
    "Le sentiment visuel que les premiers violons indiquant un avantage du traitement 3 venait simplement du fait que plus de mâles (dont la masse / le rendement est plus gros) avaient reçu le traitement 3.\n",
    "Il faut donc se méfier de comment les classes sont (ou non) équilibrées... "
   ]
  },
  {
   "cell_type": "markdown",
   "metadata": {},
   "source": [
    "## Lois gaussiennes: fonctions de répartition et densités"
   ]
  },
  {
   "cell_type": "code",
   "execution_count": 58,
   "metadata": {},
   "outputs": [
    {
     "data": {
      "application/vnd.jupyter.widget-view+json": {
       "model_id": "14aa402b9bae42f3b24e6dbf2a275e31",
       "version_major": 2,
       "version_minor": 0
      },
      "text/plain": [
       "Canvas(toolbar=Toolbar(toolitems=[('Home', 'Reset original view', 'home', 'home'), ('Back', 'Back to previous …"
      ]
     },
     "metadata": {},
     "output_type": "display_data"
    }
   ],
   "source": [
    "x = np.linspace(-5, 5, 300)\n",
    "threshold = 168\n",
    "\n",
    "stat = (threshold - mean) / sd\n",
    "fig, ax1 = plt.subplots(1, 1)\n",
    "ax1.plot(x, norm.pdf(x, 0, 1), 'k-', lw=2, label=r\"$\\varphi$\")\n",
    "ax1.set_ylim(0, 0.5)\n",
    "ax1.fill_between(x, 0, norm.pdf(x, 0, 1), where=x <= stat)\n",
    "plt.axvline(x=stat, c='k', ls=\"--\", lw=1)\n",
    "plt.title(\"Visualisation: fonction de répartition\", fontsize=14)\n",
    "plt.annotate('Seuil = {0:.2f}\\n Aire = ${1:.2f}= \\Phi({0:.2f})$'.format(stat, norm.cdf(stat, 0, 1)),\n",
    "             xy=(-4.5, 0.42), xycoords='data', xytext=(+0, 0.2),\n",
    "             textcoords='offset points', fontsize=12, color='k')\n",
    "plt.legend()\n",
    "my_saving_display(fig, dirname, \"VisGaussianCDF\", imageformat, saving=saving)"
   ]
  },
  {
   "cell_type": "markdown",
   "metadata": {},
   "source": [
    "## Corrélations"
   ]
  },
  {
   "cell_type": "code",
   "execution_count": 59,
   "metadata": {},
   "outputs": [
    {
     "data": {
      "text/html": [
       "<div>\n",
       "<style scoped>\n",
       "    .dataframe tbody tr th:only-of-type {\n",
       "        vertical-align: middle;\n",
       "    }\n",
       "\n",
       "    .dataframe tbody tr th {\n",
       "        vertical-align: top;\n",
       "    }\n",
       "\n",
       "    .dataframe thead th {\n",
       "        text-align: right;\n",
       "    }\n",
       "</style>\n",
       "<table border=\"1\" class=\"dataframe\">\n",
       "  <thead>\n",
       "    <tr style=\"text-align: right;\">\n",
       "      <th></th>\n",
       "      <th>dwt</th>\n",
       "      <th>dht</th>\n",
       "    </tr>\n",
       "  </thead>\n",
       "  <tbody>\n",
       "    <tr>\n",
       "      <th>dwt</th>\n",
       "      <td>1.000</td>\n",
       "      <td>0.538</td>\n",
       "    </tr>\n",
       "    <tr>\n",
       "      <th>dht</th>\n",
       "      <td>0.538</td>\n",
       "      <td>1.000</td>\n",
       "    </tr>\n",
       "  </tbody>\n",
       "</table>\n",
       "</div>"
      ],
      "text/plain": [
       "       dwt    dht\n",
       "dwt  1.000  0.538\n",
       "dht  0.538  1.000"
      ]
     },
     "execution_count": 59,
     "metadata": {},
     "output_type": "execute_result"
    }
   ],
   "source": [
    "# dht = dad height\n",
    "# dwt = dad weight\n",
    "df_babies[[\"dwt\", \"dht\"]].corr()"
   ]
  },
  {
   "cell_type": "code",
   "execution_count": 60,
   "metadata": {},
   "outputs": [
    {
     "data": {
      "text/html": [
       "<div>\n",
       "<style scoped>\n",
       "    .dataframe tbody tr th:only-of-type {\n",
       "        vertical-align: middle;\n",
       "    }\n",
       "\n",
       "    .dataframe tbody tr th {\n",
       "        vertical-align: top;\n",
       "    }\n",
       "\n",
       "    .dataframe thead th {\n",
       "        text-align: right;\n",
       "    }\n",
       "</style>\n",
       "<table border=\"1\" class=\"dataframe\">\n",
       "  <thead>\n",
       "    <tr style=\"text-align: right;\">\n",
       "      <th></th>\n",
       "      <th>wt</th>\n",
       "      <th>ht</th>\n",
       "    </tr>\n",
       "  </thead>\n",
       "  <tbody>\n",
       "    <tr>\n",
       "      <th>wt</th>\n",
       "      <td>1.000</td>\n",
       "      <td>0.219</td>\n",
       "    </tr>\n",
       "    <tr>\n",
       "      <th>ht</th>\n",
       "      <td>0.219</td>\n",
       "      <td>1.000</td>\n",
       "    </tr>\n",
       "  </tbody>\n",
       "</table>\n",
       "</div>"
      ],
      "text/plain": [
       "       wt     ht\n",
       "wt  1.000  0.219\n",
       "ht  0.219  1.000"
      ]
     },
     "execution_count": 60,
     "metadata": {},
     "output_type": "execute_result"
    }
   ],
   "source": [
    "df_babies[[\"wt\", \"ht\"]].corr()"
   ]
  },
  {
   "cell_type": "code",
   "execution_count": null,
   "metadata": {},
   "outputs": [],
   "source": []
  },
  {
   "cell_type": "code",
   "execution_count": 61,
   "metadata": {},
   "outputs": [
    {
     "data": {
      "application/vnd.jupyter.widget-view+json": {
       "model_id": "835544faf6084abdbb6f9bbbf607a4a1",
       "version_major": 2,
       "version_minor": 0
      },
      "text/plain": [
       "Canvas(toolbar=Toolbar(toolitems=[('Home', 'Reset original view', 'home', 'home'), ('Back', 'Back to previous …"
      ]
     },
     "metadata": {},
     "output_type": "display_data"
    }
   ],
   "source": [
    "fig_scatter = plt.figure()\n",
    "ax = sns.scatterplot(x=df_babies[\"dht\"], y=df_babies[\"dwt\"])\n",
    "ax.set_title('Masse du père en fonction de sa taille')\n",
    "ax.set_ylabel('Masse (kg)')\n",
    "ax.set_xlabel('Taille (cm)')\n",
    "plt.show()"
   ]
  },
  {
   "cell_type": "code",
   "execution_count": 62,
   "metadata": {},
   "outputs": [
    {
     "data": {
      "application/vnd.jupyter.widget-view+json": {
       "model_id": "ad4c631e93414e9cb36c0b1bb97a965c",
       "version_major": 2,
       "version_minor": 0
      },
      "text/plain": [
       "Canvas(toolbar=Toolbar(toolitems=[('Home', 'Reset original view', 'home', 'home'), ('Back', 'Back to previous …"
      ]
     },
     "metadata": {},
     "output_type": "display_data"
    }
   ],
   "source": [
    "fig = plt.figure()\n",
    "# Standardization\n",
    "ax = sns.scatterplot(x=(df_babies[\"dht\"] - df_babies[\"dht\"].mean()) / df_babies[\"dht\"].std(),\n",
    "                     y=(df_babies[\"dwt\"] - df_babies[\"dwt\"].mean()) / df_babies[\"dwt\"].std())\n",
    "ax.set_title('Masse du père en fonction de sa taille')\n",
    "ax.set_ylabel('Masse (standarisée)')\n",
    "ax.set_xlabel('Taille (standarisée)')\n",
    "\n",
    "plt.xlim(-5, 5)\n",
    "plt.ylim(-5, 5)\n",
    "ax.set_aspect('equal')\n",
    "\n",
    "x = np.linspace(-5, 5, num=100)\n",
    "plt.title(\"Coefficient de corrélation ({0:.2f})\".format(\n",
    "    np.corrcoef(df_babies[\"dwt\"], df_babies[\"dht\"])[0, 1]))\n",
    "my_saving_display(fig, dirname, \"corre_wt_ht_dad\", imageformat, saving=saving)\n",
    "\n",
    "plt.plot(x, np.corrcoef(df_babies[\"dwt\"], df_babies[\"dht\"])[\n",
    "         0, 1] * x)  # Least Squares line\n",
    "my_saving_display(fig, dirname, \"corre_wt_ht_dad_w_line\",\n",
    "                  imageformat, saving=saving)"
   ]
  },
  {
   "cell_type": "code",
   "execution_count": 63,
   "metadata": {},
   "outputs": [
    {
     "data": {
      "text/plain": [
       "0.5378222022745414"
      ]
     },
     "execution_count": 63,
     "metadata": {},
     "output_type": "execute_result"
    }
   ],
   "source": [
    "np.corrcoef(df_babies[\"dwt\"], df_babies[\"dht\"])[0, 1]"
   ]
  },
  {
   "cell_type": "markdown",
   "metadata": {},
   "source": [
    "## Plus de conseils en *Pandas* (en anglais): \n",
    "https://medium.com/dunder-data/minimally-sufficient-pandas-a8e67f2a2428"
   ]
  }
 ],
 "metadata": {
  "celltoolbar": "Raw Cell Format",
  "hide_input": false,
  "kernelspec": {
   "display_name": "Python 3",
   "language": "python",
   "name": "python3"
  },
  "language_info": {
   "codemirror_mode": {
    "name": "ipython",
    "version": 3
   },
   "file_extension": ".py",
   "mimetype": "text/x-python",
   "name": "python",
   "nbconvert_exporter": "python",
   "pygments_lexer": "ipython3",
   "version": "3.8.5"
  },
  "latex_envs": {
   "LaTeX_envs_menu_present": true,
   "autoclose": false,
   "autocomplete": true,
   "bibliofile": "biblio.bib",
   "cite_by": "apalike",
   "current_citInitial": 1,
   "eqLabelWithNumbers": true,
   "eqNumInitial": 1,
   "hotkeys": {
    "equation": "Ctrl-E",
    "itemize": "Ctrl-I"
   },
   "labels_anchors": false,
   "latex_user_defs": false,
   "report_style_numbering": false,
   "user_envs_cfg": false
  },
  "toc": {
   "base_numbering": 1,
   "nav_menu": {},
   "number_sections": false,
   "sideBar": true,
   "skip_h1_title": false,
   "title_cell": "Table of Contents",
   "title_sidebar": "Contents",
   "toc_cell": false,
   "toc_position": {},
   "toc_section_display": true,
   "toc_window_display": true
  }
 },
 "nbformat": 4,
 "nbformat_minor": 2
}
