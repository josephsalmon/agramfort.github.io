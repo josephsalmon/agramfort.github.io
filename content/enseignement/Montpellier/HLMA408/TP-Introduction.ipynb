{
 "cells": [
  {
   "cell_type": "markdown",
   "metadata": {},
   "source": [
    "# TP1 - HLMA408: Joseph Salmon"
   ]
  },
  {
   "cell_type": "markdown",
   "metadata": {},
   "source": [
    "## Question: Python version"
   ]
  },
  {
   "cell_type": "code",
   "execution_count": null,
   "metadata": {},
   "outputs": [],
   "source": [
    "from platform import python_version\n",
    "print(python_version())"
   ]
  },
  {
   "cell_type": "code",
   "execution_count": null,
   "metadata": {},
   "outputs": [],
   "source": [
    "python_version()"
   ]
  },
  {
   "cell_type": "markdown",
   "metadata": {},
   "source": [
    "## Question: pwd"
   ]
  },
  {
   "cell_type": "code",
   "execution_count": null,
   "metadata": {},
   "outputs": [],
   "source": [
    "pwd  # print working directory / Affiche repertoire courant"
   ]
  },
  {
   "cell_type": "markdown",
   "metadata": {},
   "source": [
    "## Question: Download"
   ]
  },
  {
   "cell_type": "code",
   "execution_count": null,
   "metadata": {},
   "outputs": [],
   "source": [
    "# Download\n",
    "import os\n",
    "\n",
    "# si le package \"download\" n'est pas installer lancer la ligne suivante sans le #\n",
    "!pip install download\n",
    "from download import download\n",
    "\n",
    "import pandas as pd\n",
    "url = \"http://josephsalmon.eu/enseignement/datasets/babies23.data\"\n",
    "df_name = \"babies23.data\"\n",
    "path_target = os.path.join(\"./\", df_name)\n",
    "download(url, path_target, replace=False)\n",
    "df_babies = pd.read_csv(\"babies23.data\", skiprows=38, sep='\\s+') # \\s+ : for hanlding spaces"
   ]
  },
  {
   "cell_type": "markdown",
   "metadata": {},
   "source": [
    "## Question: Utilisation de l'aide"
   ]
  },
  {
   "cell_type": "code",
   "execution_count": null,
   "metadata": {},
   "outputs": [],
   "source": [
    "download?"
   ]
  },
  {
   "cell_type": "markdown",
   "metadata": {},
   "source": [
    "## Question: listez les fichiers localement"
   ]
  },
  {
   "cell_type": "code",
   "execution_count": null,
   "metadata": {},
   "outputs": [],
   "source": [
    "ls  # listing local files in the working directory"
   ]
  },
  {
   "cell_type": "markdown",
   "metadata": {},
   "source": [
    "## Question: nom des colonnes et duplications"
   ]
  },
  {
   "cell_type": "code",
   "execution_count": null,
   "metadata": {},
   "outputs": [],
   "source": [
    "df_babies.columns"
   ]
  },
  {
   "cell_type": "markdown",
   "metadata": {},
   "source": [
    "## Question: afficher le début du data frame"
   ]
  },
  {
   "cell_type": "code",
   "execution_count": null,
   "metadata": {},
   "outputs": [],
   "source": [
    "df_babies.head(7)"
   ]
  },
  {
   "cell_type": "markdown",
   "metadata": {},
   "source": [
    "## Question: afficher la fin du data frame"
   ]
  },
  {
   "cell_type": "code",
   "execution_count": null,
   "metadata": {},
   "outputs": [],
   "source": [
    "df_babies.tail(7)"
   ]
  },
  {
   "cell_type": "markdown",
   "metadata": {},
   "source": [
    "## Question : extraire la colonne 'wt'"
   ]
  },
  {
   "cell_type": "code",
   "execution_count": null,
   "metadata": {},
   "outputs": [],
   "source": [
    "df_babies['wt']"
   ]
  },
  {
   "cell_type": "code",
   "execution_count": null,
   "metadata": {},
   "outputs": [],
   "source": [
    "df_babies['wt.1']"
   ]
  },
  {
   "cell_type": "markdown",
   "metadata": {},
   "source": [
    "## Question : extraction de ligne(s)"
   ]
  },
  {
   "cell_type": "code",
   "execution_count": null,
   "metadata": {},
   "outputs": [],
   "source": [
    "df_babies.iloc[0]"
   ]
  },
  {
   "cell_type": "code",
   "execution_count": null,
   "metadata": {},
   "outputs": [],
   "source": [
    "df_babies.iloc[-1]"
   ]
  },
  {
   "cell_type": "code",
   "execution_count": null,
   "metadata": {},
   "outputs": [],
   "source": [
    "df_babies.iloc[:8]"
   ]
  },
  {
   "cell_type": "code",
   "execution_count": null,
   "metadata": {},
   "outputs": [],
   "source": [
    "df_babies.iloc[-5:]"
   ]
  },
  {
   "cell_type": "code",
   "execution_count": null,
   "metadata": {},
   "outputs": [],
   "source": [
    "df_babies.iloc[100:111]"
   ]
  },
  {
   "cell_type": "markdown",
   "metadata": {},
   "source": [
    "## Question: recoder les valeurs manquantes par des nan"
   ]
  },
  {
   "cell_type": "code",
   "execution_count": null,
   "metadata": {},
   "outputs": [],
   "source": [
    "import numpy as np\n",
    "df_babies['ht'].replace(99, np.nan, inplace=True)\n",
    "df_babies['dht'].replace(99, np.nan, inplace=True)\n",
    "df_babies['wt.1'].replace(999, np.nan, inplace=True)\n",
    "df_babies['dwt'].replace(999, np.nan, inplace=True)"
   ]
  },
  {
   "cell_type": "code",
   "execution_count": null,
   "metadata": {},
   "outputs": [],
   "source": [
    "# utile dans le notebook pour éviter de refaire le traitement plusieurs fois, ce qui serait catastrophique ...\n",
    "is_preprocessing_done = False"
   ]
  },
  {
   "cell_type": "code",
   "execution_count": null,
   "metadata": {},
   "outputs": [],
   "source": [
    "if is_preprocessing_done is False:\n",
    "    df_babies['ht'] = df_babies['ht'] * 2.54\n",
    "    df_babies['dht'] = df_babies['dht'] * 2.54\n",
    "    df_babies['wt.1'] = df_babies['wt.1'] * .453592\n",
    "    df_babies['dwt'] = df_babies['dwt'] * .453592\n",
    "    \n",
    "    is_preprocessing_done = True"
   ]
  },
  {
   "cell_type": "code",
   "execution_count": null,
   "metadata": {},
   "outputs": [],
   "source": []
  },
  {
   "cell_type": "markdown",
   "metadata": {},
   "source": [
    "## Question: enlever les nan"
   ]
  },
  {
   "cell_type": "code",
   "execution_count": null,
   "metadata": {},
   "outputs": [],
   "source": [
    "df_babies.dropna(inplace=True) # les nan sont alors reconnus et peuvent être enlevés."
   ]
  },
  {
   "cell_type": "code",
   "execution_count": null,
   "metadata": {},
   "outputs": [],
   "source": [
    "df_babies['dwt']"
   ]
  },
  {
   "cell_type": "markdown",
   "metadata": {},
   "source": [
    "## Question: extraire seulement les informations concernant la taille des parents"
   ]
  },
  {
   "cell_type": "code",
   "execution_count": null,
   "metadata": {},
   "outputs": [],
   "source": [
    "df_babies_tailles_poids = df_babies[['ht','dht', 'wt.1', 'dwt']]"
   ]
  },
  {
   "cell_type": "markdown",
   "metadata": {},
   "source": [
    "## Question: description / résumé élémentaires:"
   ]
  },
  {
   "cell_type": "code",
   "execution_count": null,
   "metadata": {},
   "outputs": [],
   "source": [
    "df_babies.describe()"
   ]
  },
  {
   "cell_type": "code",
   "execution_count": null,
   "metadata": {},
   "outputs": [],
   "source": [
    "df_babies['ht'].mean()"
   ]
  },
  {
   "cell_type": "code",
   "execution_count": null,
   "metadata": {},
   "outputs": [],
   "source": [
    "df_babies['ht'].std()"
   ]
  },
  {
   "cell_type": "code",
   "execution_count": null,
   "metadata": {},
   "outputs": [],
   "source": [
    "df_babies['ht'].median()"
   ]
  },
  {
   "cell_type": "code",
   "execution_count": null,
   "metadata": {},
   "outputs": [],
   "source": [
    "df_babies['ht'].quantile(0.99)"
   ]
  },
  {
   "cell_type": "code",
   "execution_count": null,
   "metadata": {},
   "outputs": [],
   "source": [
    "df_babies['ht'].quantile([0.01, 0.05, 0.1, 0.5, 0.9, 0.95, 0.99])"
   ]
  },
  {
   "cell_type": "code",
   "execution_count": null,
   "metadata": {},
   "outputs": [],
   "source": [
    "df_babies['dht'].quantile([0.01, 0.05, 0.1, 0.5, 0.9, 0.95, 0.99])"
   ]
  },
  {
   "cell_type": "markdown",
   "metadata": {},
   "source": [
    "## Question: Graphique et visualisation"
   ]
  },
  {
   "cell_type": "code",
   "execution_count": null,
   "metadata": {},
   "outputs": [],
   "source": [
    "import matplotlib.pyplot as plt\n",
    "import seaborn as sns"
   ]
  },
  {
   "cell_type": "code",
   "execution_count": null,
   "metadata": {},
   "outputs": [],
   "source": [
    "plt.figure(figsize=(5,5))\n",
    "ax = plt.hist(df_babies['ht'], bins=12)\n",
    "plt.xlabel('Tailles des mères')\n",
    "plt.ylabel('Proportion')\n",
    "plt.title(\"Estimation de la densité de la taille des mères\") "
   ]
  },
  {
   "cell_type": "code",
   "execution_count": null,
   "metadata": {},
   "outputs": [],
   "source": []
  },
  {
   "cell_type": "code",
   "execution_count": null,
   "metadata": {},
   "outputs": [],
   "source": [
    "plt.figure(figsize=(5,5))\n",
    "ax = sns.kdeplot(df_babies['ht'], shade=True)\n",
    "plt.xlabel('Tailles des mères')\n",
    "plt.ylabel('Proportion')\n",
    "ax.legend().set_visible(False)\n",
    "plt.title(\"Estimation de la densité de la taille des mères\")"
   ]
  },
  {
   "cell_type": "markdown",
   "metadata": {
    "collapsed": true
   },
   "source": [
    "## Question: boxplot"
   ]
  },
  {
   "cell_type": "code",
   "execution_count": null,
   "metadata": {},
   "outputs": [],
   "source": [
    "nrow, ncol = (1,2)\n",
    "fig, axs = plt.subplots(nrow, ncol,figsize=(8, 5),sharey=True)\n",
    "\n",
    "sns.boxplot(x='dht',ax=axs[0], data=df_babies, orient='vertical')\n",
    "axs[0].set_title(\"Taille du père\")\n",
    "axs[0].set_ylabel(\"cm\")\n",
    "axs[0].set_ylim(130, 210)\n",
    "\n",
    "\n",
    "sns.boxplot(x='ht',ax=axs[1], data=df_babies, orient='vertical')\n",
    "axs[1].set_title(\"Taille de la mère\")\n",
    "axs[1].set_ylabel(\"cm\")\n",
    "plt.show()"
   ]
  },
  {
   "cell_type": "markdown",
   "metadata": {},
   "source": [
    "## Question: Violins"
   ]
  },
  {
   "cell_type": "code",
   "execution_count": null,
   "metadata": {},
   "outputs": [],
   "source": [
    "nrow, ncol = (1, 2)\n",
    "fig, axs = plt.subplots(nrow, ncol, figsize=(8, 5), sharey=True)\n",
    "\n",
    "sns.violinplot(x='dht', ax=axs[0], data=df_babies, orient='vertical')\n",
    "axs[0].set_title(\"Taille du père\")\n",
    "axs[0].set_ylabel(\"cm\")\n",
    "axs[0].set_ylim(130, 210)\n",
    "\n",
    "sns.violinplot(x='ht', ax=axs[1], data=df_babies, orient='vertical')\n",
    "axs[1].set_title(\"Taille de la mère\")\n",
    "axs[1].set_ylabel(\"cm\")\n",
    "plt.show()\n",
    "\n",
    "fig.savefig(\"violons.pdf\")"
   ]
  },
  {
   "cell_type": "markdown",
   "metadata": {},
   "source": [
    "## Question: Scatter plot"
   ]
  },
  {
   "cell_type": "code",
   "execution_count": null,
   "metadata": {},
   "outputs": [],
   "source": [
    "plt.figure(figsize=(5, 5))\n",
    "noise = 0.8\n",
    "ax = plt.scatter(df_babies['ht'] + noise *\n",
    "                 np.random.randn(len(df_babies['ht'])), df_babies['dht'] + noise *np.random.randn(len(df_babies['ht'])), alpha=0.1)\n",
    "plt.xlabel('Tailles des mères (cm)')\n",
    "plt.ylabel('Tailles des pères (cm)')\n",
    "plt.title(\"Taille des pères en fonction de la taille des mères\")\n",
    "plt.show()"
   ]
  },
  {
   "cell_type": "markdown",
   "metadata": {},
   "source": [
    "## Widget histogramme"
   ]
  },
  {
   "cell_type": "code",
   "execution_count": null,
   "metadata": {},
   "outputs": [],
   "source": [
    "from ipywidgets import interact  # widget manipulation"
   ]
  },
  {
   "cell_type": "code",
   "execution_count": null,
   "metadata": {},
   "outputs": [],
   "source": [
    "def hist_explore(n_bins=24):\n",
    "\n",
    "    fig, ax = plt.subplots(2, 1, figsize=(10, 5), sharex=True)\n",
    "    ax[0].hist(df_babies['ht'], density=True,\n",
    "               bins=n_bins, alpha=0.25)  # standardization\n",
    "    plt.xlabel('Taille de la mère (en cm)')\n",
    "    plt.ylabel('Proportion')\n",
    "    plt.title(\"Densité de la taille des mères\")\n",
    "    ax[1].hist(df_babies['dht'], density=True,\n",
    "               bins=n_bins, alpha=0.25)  # standardization\n",
    "    plt.xlabel('Taille de la mère (en cm)')\n",
    "    ax[0].set_xlim(130, 200)\n",
    "    ax[0].set_ylim(0, 0.11)\n",
    "    plt.ylabel('Proportion')"
   ]
  },
  {
   "cell_type": "code",
   "execution_count": null,
   "metadata": {},
   "outputs": [],
   "source": [
    "interact(hist_explore, n_bins=(1, 30, 1))  # change the first and second value to check more quantiles "
   ]
  },
  {
   "cell_type": "code",
   "execution_count": null,
   "metadata": {},
   "outputs": [],
   "source": [
    "def kde_explore(bw=5):\n",
    "\n",
    "    fig, ax = plt.subplots(2, 1, figsize=(10, 5), sharex=True)\n",
    "    sns.kdeplot(df_babies['wt.1'], bw=bw, shade=True,  ax=ax[0])\n",
    "\n",
    "    plt.xlabel('Taille de la mère (en cm)')\n",
    "    plt.ylabel('Proportion')\n",
    "    plt.title(\"Densité de la taille des mères\")\n",
    "    plt.xlabel('Poids de la mère (en kg)')\n",
    "    ax[0].set_xlim(30, 120)\n",
    "    plt.ylabel('Proportion')\n",
    "    ax[0].get_legend().remove()\n",
    "\n",
    "    sns.kdeplot(df_babies['dwt'], bw=bw, shade=True,  ax=ax[1])\n",
    "\n",
    "    plt.xlabel('Poids du père (en kg)')\n",
    "    plt.ylabel('Proportion')\n",
    "    plt.title(\"Densité de la taille des mères\")\n",
    "    ax[1].get_legend().remove()"
   ]
  },
  {
   "cell_type": "code",
   "execution_count": null,
   "metadata": {},
   "outputs": [],
   "source": [
    "interact(kde_explore, bw=(0.001, 10, 0.1))"
   ]
  }
 ],
 "metadata": {
  "hide_input": false,
  "kernelspec": {
   "display_name": "Python 3",
   "language": "python",
   "name": "python3"
  },
  "language_info": {
   "codemirror_mode": {
    "name": "ipython",
    "version": 3
   },
   "file_extension": ".py",
   "mimetype": "text/x-python",
   "name": "python",
   "nbconvert_exporter": "python",
   "pygments_lexer": "ipython3",
   "version": "3.8.5"
  },
  "toc": {
   "base_numbering": 1,
   "nav_menu": {},
   "number_sections": false,
   "sideBar": true,
   "skip_h1_title": false,
   "title_cell": "Table of Contents",
   "title_sidebar": "Contents",
   "toc_cell": false,
   "toc_position": {},
   "toc_section_display": true,
   "toc_window_display": true
  }
 },
 "nbformat": 4,
 "nbformat_minor": 2
}
