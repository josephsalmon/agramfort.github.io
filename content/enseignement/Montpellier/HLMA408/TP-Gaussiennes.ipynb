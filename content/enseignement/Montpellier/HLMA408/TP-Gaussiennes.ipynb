{
 "cells": [
  {
   "cell_type": "markdown",
   "metadata": {},
   "source": [
    "# TP3 - HMLA408: Joseph Salmon"
   ]
  },
  {
   "cell_type": "markdown",
   "metadata": {},
   "source": [
    "## Question: importer la fonction chisquare"
   ]
  },
  {
   "cell_type": "code",
   "execution_count": 1,
   "metadata": {
    "collapsed": false
   },
   "outputs": [],
   "source": [
    "import numpy as np\n",
    "import pandas as pd\n",
    "import matplotlib.pylab as plt\n",
    "import seaborn as sns"
   ]
  },
  {
   "cell_type": "code",
   "execution_count": 2,
   "metadata": {
    "collapsed": true
   },
   "outputs": [],
   "source": [
    "from scipy.stats import chisquare, norm, shapiro, poisson, chi2, chi2_contingency, ttest_1samp, t, f, ttest_ind,ttest_rel, levene, bartlett"
   ]
  },
  {
   "cell_type": "code",
   "execution_count": 3,
   "metadata": {
    "collapsed": false
   },
   "outputs": [
    {
     "name": "stdout",
     "output_type": "stream",
     "text": [
      "Replace is False and data exists, so doing nothing. Use replace==True to re-download the data.\n"
     ]
    },
    {
     "data": {
      "text/plain": [
       "'datasets/michelson.txt'"
      ]
     },
     "execution_count": 3,
     "metadata": {},
     "output_type": "execute_result"
    }
   ],
   "source": [
    "from download import download\n",
    "url = \"http://josephsalmon.eu/enseignement/datasets/michelson.txt\"\n",
    "path_target = \"datasets/michelson.txt\"\n",
    "download(url, path_target, replace=False)"
   ]
  },
  {
   "cell_type": "code",
   "execution_count": 4,
   "metadata": {
    "collapsed": false
   },
   "outputs": [
    {
     "data": {
      "text/html": [
       "<div>\n",
       "<style scoped>\n",
       "    .dataframe tbody tr th:only-of-type {\n",
       "        vertical-align: middle;\n",
       "    }\n",
       "\n",
       "    .dataframe tbody tr th {\n",
       "        vertical-align: top;\n",
       "    }\n",
       "\n",
       "    .dataframe thead th {\n",
       "        text-align: right;\n",
       "    }\n",
       "</style>\n",
       "<table border=\"1\" class=\"dataframe\">\n",
       "  <thead>\n",
       "    <tr style=\"text-align: right;\">\n",
       "      <th></th>\n",
       "      <th>speed</th>\n",
       "    </tr>\n",
       "  </thead>\n",
       "  <tbody>\n",
       "    <tr>\n",
       "      <th>0</th>\n",
       "      <td>850</td>\n",
       "    </tr>\n",
       "    <tr>\n",
       "      <th>1</th>\n",
       "      <td>740</td>\n",
       "    </tr>\n",
       "    <tr>\n",
       "      <th>2</th>\n",
       "      <td>900</td>\n",
       "    </tr>\n",
       "    <tr>\n",
       "      <th>3</th>\n",
       "      <td>1070</td>\n",
       "    </tr>\n",
       "    <tr>\n",
       "      <th>4</th>\n",
       "      <td>930</td>\n",
       "    </tr>\n",
       "    <tr>\n",
       "      <th>5</th>\n",
       "      <td>850</td>\n",
       "    </tr>\n",
       "    <tr>\n",
       "      <th>6</th>\n",
       "      <td>950</td>\n",
       "    </tr>\n",
       "    <tr>\n",
       "      <th>7</th>\n",
       "      <td>980</td>\n",
       "    </tr>\n",
       "    <tr>\n",
       "      <th>8</th>\n",
       "      <td>980</td>\n",
       "    </tr>\n",
       "    <tr>\n",
       "      <th>9</th>\n",
       "      <td>880</td>\n",
       "    </tr>\n",
       "  </tbody>\n",
       "</table>\n",
       "</div>"
      ],
      "text/plain": [
       "   speed\n",
       "0    850\n",
       "1    740\n",
       "2    900\n",
       "3   1070\n",
       "4    930\n",
       "5    850\n",
       "6    950\n",
       "7    980\n",
       "8    980\n",
       "9    880"
      ]
     },
     "execution_count": 4,
     "metadata": {},
     "output_type": "execute_result"
    }
   ],
   "source": [
    "df_michelson = pd.read_csv(\"datasets/michelson.txt\", sep='\\s+') # \\s+ : for hanlding spaces\n",
    "df_michelson.head(n=10)  # df stands for Data Frame"
   ]
  },
  {
   "cell_type": "code",
   "execution_count": 5,
   "metadata": {
    "collapsed": false
   },
   "outputs": [
    {
     "name": "stderr",
     "output_type": "stream",
     "text": [
      "/home/jo/anaconda3/lib/python3.6/site-packages/scipy/stats/stats.py:1713: FutureWarning: Using a non-tuple sequence for multidimensional indexing is deprecated; use `arr[tuple(seq)]` instead of `arr[seq]`. In the future this will be interpreted as an array index, `arr[np.array(seq)]`, which will result either in an error or a different result.\n",
      "  return np.add.reduce(sorted[indexer] * weights, axis=axis) / sumval\n"
     ]
    },
    {
     "data": {
      "text/plain": [
       "Text(0.5,1,'Mesure de la vitesse de la lumière par Michelson')"
      ]
     },
     "execution_count": 5,
     "metadata": {},
     "output_type": "execute_result"
    },
    {
     "data": {
      "image/png": "[encoded data removed]",
      "text/plain": [
       "<Figure size 432x288 with 1 Axes>"
      ]
     },
     "metadata": {
      "needs_background": "light"
     },
     "output_type": "display_data"
    }
   ],
   "source": [
    "plt.figure()\n",
    "ax = sns.kdeplot(df_michelson['speed'], shade=True)\n",
    "plt.xlabel('Speed of light')\n",
    "plt.ylabel('Proportion')\n",
    "ax.legend().set_visible(False)\n",
    "plt.title(\"Mesure de la vitesse de la lumière par Michelson\")"
   ]
  },
  {
   "cell_type": "code",
   "execution_count": 6,
   "metadata": {
    "collapsed": false
   },
   "outputs": [],
   "source": [
    "sigma = 105\n",
    "\n",
    "mu = df_michelson['speed'].mean()\n",
    "n_samples = df_michelson['speed'].count()"
   ]
  },
  {
   "cell_type": "code",
   "execution_count": 7,
   "metadata": {
    "collapsed": true
   },
   "outputs": [],
   "source": [
    "mu0 = 990"
   ]
  },
  {
   "cell_type": "code",
   "execution_count": 8,
   "metadata": {
    "collapsed": false
   },
   "outputs": [
    {
     "data": {
      "text/plain": [
       "104.92603911427577"
      ]
     },
     "execution_count": 8,
     "metadata": {},
     "output_type": "execute_result"
    }
   ],
   "source": [
    "df_michelson['speed'].std()"
   ]
  },
  {
   "cell_type": "code",
   "execution_count": 9,
   "metadata": {
    "collapsed": false
   },
   "outputs": [
    {
     "data": {
      "text/plain": [
       "20"
      ]
     },
     "execution_count": 9,
     "metadata": {},
     "output_type": "execute_result"
    }
   ],
   "source": [
    "n_samples"
   ]
  },
  {
   "cell_type": "code",
   "execution_count": 10,
   "metadata": {
    "collapsed": false
   },
   "outputs": [
    {
     "data": {
      "text/plain": [
       "3.4499334509996755"
      ]
     },
     "execution_count": 10,
     "metadata": {},
     "output_type": "execute_result"
    }
   ],
   "source": [
    "np.abs((mu-mu0)/ (sigma / np.sqrt(n_samples)))"
   ]
  },
  {
   "cell_type": "code",
   "execution_count": 11,
   "metadata": {
    "collapsed": false
   },
   "outputs": [
    {
     "data": {
      "text/plain": [
       "0.0005607247626622236"
      ]
     },
     "execution_count": 11,
     "metadata": {},
     "output_type": "execute_result"
    }
   ],
   "source": [
    " 2- 2 * norm.cdf(np.abs((mu-mu0)/ (sigma / np.sqrt(n_samples))))"
   ]
  },
  {
   "cell_type": "code",
   "execution_count": 12,
   "metadata": {
    "collapsed": false
   },
   "outputs": [
    {
     "data": {
      "text/plain": [
       "Ttest_1sampResult(statistic=-3.4523652604521198, pvalue=0.0026685840985367784)"
      ]
     },
     "execution_count": 12,
     "metadata": {},
     "output_type": "execute_result"
    }
   ],
   "source": [
    "ttest_1samp(df_michelson['speed'], mu0)"
   ]
  },
  {
   "cell_type": "code",
   "execution_count": 13,
   "metadata": {
    "collapsed": false
   },
   "outputs": [
    {
     "data": {
      "text/plain": [
       "Ttest_1sampResult(statistic=-3.4523652604521198, pvalue=0.0026685840985367784)"
      ]
     },
     "execution_count": 13,
     "metadata": {},
     "output_type": "execute_result"
    }
   ],
   "source": [
    "df_michelson['true-speed'] = df_michelson['speed'] + 299000\n",
    "ttest_1samp(df_michelson['true-speed'], mu0 + 299000)\n",
    "# good news ca ne change rien!"
   ]
  },
  {
   "cell_type": "markdown",
   "metadata": {},
   "source": [
    "# IC"
   ]
  },
  {
   "cell_type": "code",
   "execution_count": 14,
   "metadata": {
    "collapsed": false
   },
   "outputs": [],
   "source": [
    "alpha = 0.05\n",
    "IC = np.array([mu - norm.ppf(1-alpha/2) * (sigma / np.sqrt(n_samples)),\n",
    "               mu + norm.ppf(1-alpha/2) * (sigma / np.sqrt(n_samples))])"
   ]
  },
  {
   "cell_type": "code",
   "execution_count": 15,
   "metadata": {
    "collapsed": false
   },
   "outputs": [
    {
     "data": {
      "text/plain": [
       "array([862.98256662, 955.01743338])"
      ]
     },
     "execution_count": 15,
     "metadata": {},
     "output_type": "execute_result"
    }
   ],
   "source": [
    "IC"
   ]
  },
  {
   "cell_type": "code",
   "execution_count": 16,
   "metadata": {
    "collapsed": false
   },
   "outputs": [],
   "source": [
    "alpha = 0.1\n",
    "IC = np.array([mu - norm.ppf(1 - alpha / 2) * (sigma / np.sqrt(n_samples)),\n",
    "               mu + norm.ppf(1 - alpha / 2) * (sigma / np.sqrt(n_samples))])"
   ]
  },
  {
   "cell_type": "code",
   "execution_count": 17,
   "metadata": {
    "collapsed": false
   },
   "outputs": [
    {
     "data": {
      "text/plain": [
       "array([870.38095251, 947.61904749])"
      ]
     },
     "execution_count": 17,
     "metadata": {},
     "output_type": "execute_result"
    }
   ],
   "source": [
    "IC"
   ]
  },
  {
   "cell_type": "code",
   "execution_count": 18,
   "metadata": {
    "collapsed": false
   },
   "outputs": [
    {
     "data": {
      "text/plain": [
       "array([859.89310209, 958.10689791])"
      ]
     },
     "execution_count": 18,
     "metadata": {},
     "output_type": "execute_result"
    }
   ],
   "source": [
    "alpha = 0.05\n",
    "IC = np.array([mu - t.ppf(1 - alpha / 2, n_samples - 1) * (df_michelson['speed'].std() / np.sqrt(n_samples)),\n",
    "               mu + t.ppf(1 - alpha / 2, n_samples - 1) * (df_michelson['speed'].std() / np.sqrt(n_samples))])\n",
    "IC"
   ]
  },
  {
   "cell_type": "code",
   "execution_count": 19,
   "metadata": {
    "collapsed": false
   },
   "outputs": [
    {
     "data": {
      "text/plain": [
       "array([868.43078233, 949.56921767])"
      ]
     },
     "execution_count": 19,
     "metadata": {},
     "output_type": "execute_result"
    }
   ],
   "source": [
    "alpha = 0.10\n",
    "IC = np.array([mu - t.ppf(1 - alpha / 2, n_samples - 1) * (df_michelson['speed'].std() / np.sqrt(n_samples)),\n",
    "               mu + t.ppf(1 - alpha / 2, n_samples - 1) * (df_michelson['speed'].std() / np.sqrt(n_samples))])\n",
    "IC"
   ]
  },
  {
   "cell_type": "markdown",
   "metadata": {},
   "source": [
    "# Brochets et concentration de polluants"
   ]
  },
  {
   "cell_type": "code",
   "execution_count": 20,
   "metadata": {
    "collapsed": false
   },
   "outputs": [
    {
     "name": "stdout",
     "output_type": "stream",
     "text": [
      "Replace is False and data exists, so doing nothing. Use replace==True to re-download the data.\n"
     ]
    },
    {
     "data": {
      "text/plain": [
       "'datasets/brochet2.dat'"
      ]
     },
     "execution_count": 20,
     "metadata": {},
     "output_type": "execute_result"
    }
   ],
   "source": [
    "from download import download\n",
    "url = \"http://josephsalmon.eu/enseignement/datasets/brochet2.dat\"\n",
    "path_target = \"datasets/brochet2.dat\"\n",
    "download(url, path_target, replace=False)"
   ]
  },
  {
   "cell_type": "code",
   "execution_count": 21,
   "metadata": {
    "collapsed": false
   },
   "outputs": [],
   "source": [
    "df_brochets = pd.read_csv('datasets/brochet2.dat',sep = '\\s+')  # XXX explain \\s+"
   ]
  },
  {
   "cell_type": "code",
   "execution_count": 22,
   "metadata": {
    "collapsed": false
   },
   "outputs": [],
   "source": [
    "df_brochets['age'] = df_brochets['age'].replace(\"deux_ans\", 2)\n",
    "df_brochets['age'] = df_brochets['age'].replace(\"trois_ans\", 3)"
   ]
  },
  {
   "cell_type": "code",
   "execution_count": 23,
   "metadata": {
    "collapsed": false
   },
   "outputs": [
    {
     "data": {
      "text/html": [
       "<div>\n",
       "<style scoped>\n",
       "    .dataframe tbody tr th:only-of-type {\n",
       "        vertical-align: middle;\n",
       "    }\n",
       "\n",
       "    .dataframe tbody tr th {\n",
       "        vertical-align: top;\n",
       "    }\n",
       "\n",
       "    .dataframe thead th {\n",
       "        text-align: right;\n",
       "    }\n",
       "</style>\n",
       "<table border=\"1\" class=\"dataframe\">\n",
       "  <thead>\n",
       "    <tr style=\"text-align: right;\">\n",
       "      <th></th>\n",
       "      <th>conc</th>\n",
       "      <th>age</th>\n",
       "    </tr>\n",
       "  </thead>\n",
       "  <tbody>\n",
       "    <tr>\n",
       "      <th>0</th>\n",
       "      <td>0.144</td>\n",
       "      <td>2</td>\n",
       "    </tr>\n",
       "    <tr>\n",
       "      <th>1</th>\n",
       "      <td>0.171</td>\n",
       "      <td>2</td>\n",
       "    </tr>\n",
       "    <tr>\n",
       "      <th>2</th>\n",
       "      <td>0.178</td>\n",
       "      <td>2</td>\n",
       "    </tr>\n",
       "    <tr>\n",
       "      <th>3</th>\n",
       "      <td>0.184</td>\n",
       "      <td>2</td>\n",
       "    </tr>\n",
       "    <tr>\n",
       "      <th>4</th>\n",
       "      <td>0.193</td>\n",
       "      <td>2</td>\n",
       "    </tr>\n",
       "  </tbody>\n",
       "</table>\n",
       "</div>"
      ],
      "text/plain": [
       "    conc  age\n",
       "0  0.144    2\n",
       "1  0.171    2\n",
       "2  0.178    2\n",
       "3  0.184    2\n",
       "4  0.193    2"
      ]
     },
     "execution_count": 23,
     "metadata": {},
     "output_type": "execute_result"
    }
   ],
   "source": [
    "df_brochets.head()"
   ]
  },
  {
   "cell_type": "code",
   "execution_count": 24,
   "metadata": {
    "collapsed": false
   },
   "outputs": [
    {
     "data": {
      "text/plain": [
       "count    12.000000\n",
       "mean      0.195250\n",
       "std       0.027247\n",
       "min       0.144000\n",
       "25%       0.182500\n",
       "50%       0.197500\n",
       "75%       0.200750\n",
       "max       0.258000\n",
       "Name: conc, dtype: float64"
      ]
     },
     "execution_count": 24,
     "metadata": {},
     "output_type": "execute_result"
    }
   ],
   "source": [
    "df_brochets.query('age==2')['conc'].describe()"
   ]
  },
  {
   "cell_type": "code",
   "execution_count": 25,
   "metadata": {
    "collapsed": false
   },
   "outputs": [
    {
     "data": {
      "text/html": [
       "<div>\n",
       "<style scoped>\n",
       "    .dataframe tbody tr th:only-of-type {\n",
       "        vertical-align: middle;\n",
       "    }\n",
       "\n",
       "    .dataframe tbody tr th {\n",
       "        vertical-align: top;\n",
       "    }\n",
       "\n",
       "    .dataframe thead th {\n",
       "        text-align: right;\n",
       "    }\n",
       "</style>\n",
       "<table border=\"1\" class=\"dataframe\">\n",
       "  <thead>\n",
       "    <tr style=\"text-align: right;\">\n",
       "      <th></th>\n",
       "      <th>conc</th>\n",
       "      <th>age</th>\n",
       "    </tr>\n",
       "  </thead>\n",
       "  <tbody>\n",
       "    <tr>\n",
       "      <th>count</th>\n",
       "      <td>12.000000</td>\n",
       "      <td>12.0</td>\n",
       "    </tr>\n",
       "    <tr>\n",
       "      <th>mean</th>\n",
       "      <td>0.195250</td>\n",
       "      <td>2.0</td>\n",
       "    </tr>\n",
       "    <tr>\n",
       "      <th>std</th>\n",
       "      <td>0.027247</td>\n",
       "      <td>0.0</td>\n",
       "    </tr>\n",
       "    <tr>\n",
       "      <th>min</th>\n",
       "      <td>0.144000</td>\n",
       "      <td>2.0</td>\n",
       "    </tr>\n",
       "    <tr>\n",
       "      <th>25%</th>\n",
       "      <td>0.182500</td>\n",
       "      <td>2.0</td>\n",
       "    </tr>\n",
       "    <tr>\n",
       "      <th>50%</th>\n",
       "      <td>0.197500</td>\n",
       "      <td>2.0</td>\n",
       "    </tr>\n",
       "    <tr>\n",
       "      <th>75%</th>\n",
       "      <td>0.200750</td>\n",
       "      <td>2.0</td>\n",
       "    </tr>\n",
       "    <tr>\n",
       "      <th>max</th>\n",
       "      <td>0.258000</td>\n",
       "      <td>2.0</td>\n",
       "    </tr>\n",
       "  </tbody>\n",
       "</table>\n",
       "</div>"
      ],
      "text/plain": [
       "            conc   age\n",
       "count  12.000000  12.0\n",
       "mean    0.195250   2.0\n",
       "std     0.027247   0.0\n",
       "min     0.144000   2.0\n",
       "25%     0.182500   2.0\n",
       "50%     0.197500   2.0\n",
       "75%     0.200750   2.0\n",
       "max     0.258000   2.0"
      ]
     },
     "execution_count": 25,
     "metadata": {},
     "output_type": "execute_result"
    }
   ],
   "source": [
    "df_brochets.query('age==2').describe()"
   ]
  },
  {
   "cell_type": "code",
   "execution_count": 26,
   "metadata": {
    "collapsed": false
   },
   "outputs": [
    {
     "data": {
      "text/plain": [
       "count    13.000000\n",
       "mean      0.359923\n",
       "std       0.039738\n",
       "min       0.285000\n",
       "25%       0.354000\n",
       "50%       0.362000\n",
       "75%       0.382000\n",
       "max       0.413000\n",
       "Name: conc, dtype: float64"
      ]
     },
     "execution_count": 26,
     "metadata": {},
     "output_type": "execute_result"
    }
   ],
   "source": [
    "df_brochets.query('age==3')['conc'].describe()"
   ]
  },
  {
   "cell_type": "code",
   "execution_count": 27,
   "metadata": {
    "collapsed": false
   },
   "outputs": [
    {
     "data": {
      "text/html": [
       "<div>\n",
       "<style scoped>\n",
       "    .dataframe tbody tr th:only-of-type {\n",
       "        vertical-align: middle;\n",
       "    }\n",
       "\n",
       "    .dataframe tbody tr th {\n",
       "        vertical-align: top;\n",
       "    }\n",
       "\n",
       "    .dataframe thead th {\n",
       "        text-align: right;\n",
       "    }\n",
       "</style>\n",
       "<table border=\"1\" class=\"dataframe\">\n",
       "  <thead>\n",
       "    <tr style=\"text-align: right;\">\n",
       "      <th></th>\n",
       "      <th>conc</th>\n",
       "      <th>age</th>\n",
       "    </tr>\n",
       "  </thead>\n",
       "  <tbody>\n",
       "    <tr>\n",
       "      <th>count</th>\n",
       "      <td>13.000000</td>\n",
       "      <td>13.0</td>\n",
       "    </tr>\n",
       "    <tr>\n",
       "      <th>mean</th>\n",
       "      <td>0.359923</td>\n",
       "      <td>3.0</td>\n",
       "    </tr>\n",
       "    <tr>\n",
       "      <th>std</th>\n",
       "      <td>0.039738</td>\n",
       "      <td>0.0</td>\n",
       "    </tr>\n",
       "    <tr>\n",
       "      <th>min</th>\n",
       "      <td>0.285000</td>\n",
       "      <td>3.0</td>\n",
       "    </tr>\n",
       "    <tr>\n",
       "      <th>25%</th>\n",
       "      <td>0.354000</td>\n",
       "      <td>3.0</td>\n",
       "    </tr>\n",
       "    <tr>\n",
       "      <th>50%</th>\n",
       "      <td>0.362000</td>\n",
       "      <td>3.0</td>\n",
       "    </tr>\n",
       "    <tr>\n",
       "      <th>75%</th>\n",
       "      <td>0.382000</td>\n",
       "      <td>3.0</td>\n",
       "    </tr>\n",
       "    <tr>\n",
       "      <th>max</th>\n",
       "      <td>0.413000</td>\n",
       "      <td>3.0</td>\n",
       "    </tr>\n",
       "  </tbody>\n",
       "</table>\n",
       "</div>"
      ],
      "text/plain": [
       "            conc   age\n",
       "count  13.000000  13.0\n",
       "mean    0.359923   3.0\n",
       "std     0.039738   0.0\n",
       "min     0.285000   3.0\n",
       "25%     0.354000   3.0\n",
       "50%     0.362000   3.0\n",
       "75%     0.382000   3.0\n",
       "max     0.413000   3.0"
      ]
     },
     "execution_count": 27,
     "metadata": {},
     "output_type": "execute_result"
    }
   ],
   "source": [
    "df_brochets.query('age==3').describe()"
   ]
  },
  {
   "cell_type": "code",
   "execution_count": 28,
   "metadata": {
    "collapsed": false
   },
   "outputs": [
    {
     "name": "stderr",
     "output_type": "stream",
     "text": [
      "/home/jo/anaconda3/lib/python3.6/site-packages/scipy/stats/stats.py:1713: FutureWarning: Using a non-tuple sequence for multidimensional indexing is deprecated; use `arr[tuple(seq)]` instead of `arr[seq]`. In the future this will be interpreted as an array index, `arr[np.array(seq)]`, which will result either in an error or a different result.\n",
      "  return np.add.reduce(sorted[indexer] * weights, axis=axis) / sumval\n"
     ]
    },
    {
     "data": {
      "text/plain": [
       "Text(0.5,1,'Concentrations ')"
      ]
     },
     "execution_count": 28,
     "metadata": {},
     "output_type": "execute_result"
    },
    {
     "data": {
      "image/png": "[encoded data removed]",
      "text/plain": [
       "<Figure size 432x288 with 1 Axes>"
      ]
     },
     "metadata": {
      "needs_background": "light"
     },
     "output_type": "display_data"
    }
   ],
   "source": [
    "plt.figure()\n",
    "sns.violinplot(data=df_brochets['conc'],orient='v')\n",
    "plt.title(\"Concentrations \")"
   ]
  },
  {
   "cell_type": "code",
   "execution_count": 29,
   "metadata": {
    "collapsed": true
   },
   "outputs": [],
   "source": [
    "sns.violinplot?"
   ]
  },
  {
   "cell_type": "code",
   "execution_count": 30,
   "metadata": {
    "collapsed": false
   },
   "outputs": [
    {
     "name": "stderr",
     "output_type": "stream",
     "text": [
      "/home/jo/anaconda3/lib/python3.6/site-packages/scipy/stats/stats.py:1713: FutureWarning: Using a non-tuple sequence for multidimensional indexing is deprecated; use `arr[tuple(seq)]` instead of `arr[seq]`. In the future this will be interpreted as an array index, `arr[np.array(seq)]`, which will result either in an error or a different result.\n",
      "  return np.add.reduce(sorted[indexer] * weights, axis=axis) / sumval\n",
      "No handles with labels found to put in legend.\n"
     ]
    },
    {
     "data": {
      "text/plain": [
       "<matplotlib.legend.Legend at 0x7f33421aca58>"
      ]
     },
     "execution_count": 30,
     "metadata": {},
     "output_type": "execute_result"
    },
    {
     "data": {
      "image/png": "[encoded data removed]",
      "text/plain": [
       "<Figure size 432x288 with 1 Axes>"
      ]
     },
     "metadata": {
      "needs_background": "light"
     },
     "output_type": "display_data"
    }
   ],
   "source": [
    "plt.figure()\n",
    "sns.violinplot(x='age', y='conc', data=df_brochets, orient='v')\n",
    "plt.legend(loc='upper left')"
   ]
  },
  {
   "cell_type": "code",
   "execution_count": 31,
   "metadata": {
    "collapsed": false
   },
   "outputs": [],
   "source": [
    "X2 = df_brochets.query('age==2')['conc']\n",
    "X3 = df_brochets.query('age==3')['conc']"
   ]
  },
  {
   "cell_type": "code",
   "execution_count": 32,
   "metadata": {
    "collapsed": false
   },
   "outputs": [],
   "source": [
    "ttest_ind?"
   ]
  },
  {
   "cell_type": "code",
   "execution_count": 33,
   "metadata": {
    "collapsed": false
   },
   "outputs": [
    {
     "data": {
      "text/plain": [
       "Ttest_indResult(statistic=-12.161924260743977, pvalue=4.696819789876163e-11)"
      ]
     },
     "execution_count": 33,
     "metadata": {},
     "output_type": "execute_result"
    }
   ],
   "source": [
    "ttest_ind(a=X2,b=X3, equal_var = False) # rejet donc pval tellement petite..."
   ]
  },
  {
   "cell_type": "code",
   "execution_count": 34,
   "metadata": {
    "collapsed": false
   },
   "outputs": [
    {
     "data": {
      "text/plain": [
       "LeveneResult(statistic=1.2685084379364857, pvalue=0.2716614974618714)"
      ]
     },
     "execution_count": 34,
     "metadata": {},
     "output_type": "execute_result"
    }
   ],
   "source": [
    "levene(X2, X3)  # rejet donc pval tellement petite..."
   ]
  },
  {
   "cell_type": "code",
   "execution_count": 35,
   "metadata": {
    "collapsed": false
   },
   "outputs": [
    {
     "data": {
      "text/plain": [
       "BartlettResult(statistic=1.5144265025677355, pvalue=0.21846488186226679)"
      ]
     },
     "execution_count": 35,
     "metadata": {},
     "output_type": "execute_result"
    }
   ],
   "source": [
    "bartlett(X2, X3)  # rejet donc pval tellement petite..."
   ]
  },
  {
   "cell_type": "code",
   "execution_count": 36,
   "metadata": {
    "collapsed": false
   },
   "outputs": [
    {
     "data": {
      "text/plain": [
       "0.22175826607655053"
      ]
     },
     "execution_count": 36,
     "metadata": {},
     "output_type": "execute_result"
    }
   ],
   "source": [
    "fdistribution = f(len(X2) - 1, len(X3) - 1)  # build an F-distribution object\n",
    "fstatistics = np.var(X2, ddof=1) / np.var(X3, ddof=1)\n",
    "p_value = 2 * min(fdistribution.cdf(fstatistics),\n",
    "                  1 - fdistribution.cdf(fstatistics))\n",
    "p_value"
   ]
  },
  {
   "cell_type": "code",
   "execution_count": 37,
   "metadata": {
    "collapsed": true
   },
   "outputs": [],
   "source": [
    "import rpy2.robjects as robjects\n",
    "def Ftest_pvalue_rpy2(d1,d2):\n",
    "    \"\"\"docstring for Ftest_pvalue_rpy2\"\"\"\n",
    "    rd1 = (robjects.FloatVector(d1))\n",
    "    rd2 = (robjects.FloatVector(d2))\n",
    "    rvtest = robjects.r['var.test']\n",
    "    return rvtest(rd1,rd2)[2][0]"
   ]
  },
  {
   "cell_type": "code",
   "execution_count": 38,
   "metadata": {
    "collapsed": false
   },
   "outputs": [
    {
     "data": {
      "text/plain": [
       "0.22175826607655033"
      ]
     },
     "execution_count": 38,
     "metadata": {},
     "output_type": "execute_result"
    }
   ],
   "source": [
    "Ftest_pvalue_rpy2(X2,X3)"
   ]
  },
  {
   "cell_type": "code",
   "execution_count": 39,
   "metadata": {
    "collapsed": true
   },
   "outputs": [],
   "source": [
    "# XXX todo : unilatéral..."
   ]
  },
  {
   "cell_type": "code",
   "execution_count": 40,
   "metadata": {
    "collapsed": false
   },
   "outputs": [
    {
     "data": {
      "text/plain": [
       "Ttest_indResult(statistic=-11.980435981106135, pvalue=2.2833306618065592e-11)"
      ]
     },
     "execution_count": 40,
     "metadata": {},
     "output_type": "execute_result"
    }
   ],
   "source": [
    "ttest_ind(a=X2, b=X3, equal_var = True) # rejet donc pvalue tellement petite..."
   ]
  },
  {
   "cell_type": "markdown",
   "metadata": {},
   "source": [
    "# Pollution en Occitanie\n",
    "Mesures de pollution prise entre le 2017-10-18 et le 2018-10-07 sur différentes villes d'Occitanie.\n",
    "Plus d'information disponible sur le site:\n",
    "http://data-atmo-occitanie.opendata.arcgis.com/datasets/047b4d01a64943cb8a648aaf9b58307b_0\n",
    "d'où ces données sont extraites."
   ]
  },
  {
   "cell_type": "code",
   "execution_count": 41,
   "metadata": {
    "collapsed": false
   },
   "outputs": [
    {
     "name": "stdout",
     "output_type": "stream",
     "text": [
      "Replace is False and data exists, so doing nothing. Use replace==True to re-download the data.\n"
     ]
    },
    {
     "data": {
      "text/plain": [
       "'datasets/Mesure_journaliere_Region_Occitanie_Polluants_Principaux.csv'"
      ]
     },
     "execution_count": 41,
     "metadata": {},
     "output_type": "execute_result"
    }
   ],
   "source": [
    "url = \"http://josephsalmon.eu/enseignement/datasets/Mesure_journaliere_Region_Occitanie_Polluants_Principaux.csv\"\n",
    "path_target = \"datasets/Mesure_journaliere_Region_Occitanie_Polluants_Principaux.csv\"\n",
    "download(url, path_target, replace=False)"
   ]
  },
  {
   "cell_type": "code",
   "execution_count": 42,
   "metadata": {
    "collapsed": false
   },
   "outputs": [
    {
     "data": {
      "text/html": [
       "<div>\n",
       "<style scoped>\n",
       "    .dataframe tbody tr th:only-of-type {\n",
       "        vertical-align: middle;\n",
       "    }\n",
       "\n",
       "    .dataframe tbody tr th {\n",
       "        vertical-align: top;\n",
       "    }\n",
       "\n",
       "    .dataframe thead th {\n",
       "        text-align: right;\n",
       "    }\n",
       "</style>\n",
       "<table border=\"1\" class=\"dataframe\">\n",
       "  <thead>\n",
       "    <tr style=\"text-align: right;\">\n",
       "      <th></th>\n",
       "      <th>X</th>\n",
       "      <th>Y</th>\n",
       "      <th>id</th>\n",
       "      <th>nom_dep</th>\n",
       "      <th>nom_com</th>\n",
       "      <th>code_insee</th>\n",
       "      <th>nom_station</th>\n",
       "      <th>code_station</th>\n",
       "      <th>typologie</th>\n",
       "      <th>influence</th>\n",
       "      <th>...</th>\n",
       "      <th>metrique</th>\n",
       "      <th>date_debut</th>\n",
       "      <th>date_fin</th>\n",
       "      <th>statut_valid</th>\n",
       "      <th>x_l93</th>\n",
       "      <th>y_l93</th>\n",
       "      <th>x_wgs84</th>\n",
       "      <th>y_wgs84</th>\n",
       "      <th>geom</th>\n",
       "      <th>FID</th>\n",
       "    </tr>\n",
       "  </thead>\n",
       "  <tbody>\n",
       "    <tr>\n",
       "      <th>14528</th>\n",
       "      <td>3.50483</td>\n",
       "      <td>43.2878</td>\n",
       "      <td>16721</td>\n",
       "      <td>HERAULT</td>\n",
       "      <td>AGDE</td>\n",
       "      <td>34003</td>\n",
       "      <td>Agathois-Piscénois - Périurbain</td>\n",
       "      <td>FR08022</td>\n",
       "      <td>suburban</td>\n",
       "      <td>Fond</td>\n",
       "      <td>...</td>\n",
       "      <td>journaliere</td>\n",
       "      <td>2018-10-02T01:00:00.000Z</td>\n",
       "      <td>2018-10-03T00:00:00.000Z</td>\n",
       "      <td>t</td>\n",
       "      <td>740996</td>\n",
       "      <td>6243310</td>\n",
       "      <td>3.50483</td>\n",
       "      <td>43.2878</td>\n",
       "      <td>0101000020E6100000000000E0E4090C4000000040D5A4...</td>\n",
       "      <td>16721</td>\n",
       "    </tr>\n",
       "    <tr>\n",
       "      <th>15129</th>\n",
       "      <td>3.50483</td>\n",
       "      <td>43.2878</td>\n",
       "      <td>14322</td>\n",
       "      <td>HERAULT</td>\n",
       "      <td>AGDE</td>\n",
       "      <td>34003</td>\n",
       "      <td>Agathois-Piscénois - Périurbain</td>\n",
       "      <td>FR08022</td>\n",
       "      <td>suburban</td>\n",
       "      <td>Fond</td>\n",
       "      <td>...</td>\n",
       "      <td>journaliere</td>\n",
       "      <td>2018-09-07T01:00:00.000Z</td>\n",
       "      <td>2018-09-08T00:00:00.000Z</td>\n",
       "      <td>t</td>\n",
       "      <td>740996</td>\n",
       "      <td>6243310</td>\n",
       "      <td>3.50483</td>\n",
       "      <td>43.2878</td>\n",
       "      <td>0101000020E6100000000000E0E4090C4000000040D5A4...</td>\n",
       "      <td>14322</td>\n",
       "    </tr>\n",
       "    <tr>\n",
       "      <th>6006</th>\n",
       "      <td>3.50483</td>\n",
       "      <td>43.2878</td>\n",
       "      <td>15007</td>\n",
       "      <td>HERAULT</td>\n",
       "      <td>AGDE</td>\n",
       "      <td>34003</td>\n",
       "      <td>Agathois-Piscénois - Périurbain</td>\n",
       "      <td>FR08022</td>\n",
       "      <td>suburban</td>\n",
       "      <td>Fond</td>\n",
       "      <td>...</td>\n",
       "      <td>journaliere</td>\n",
       "      <td>2018-09-14T01:00:00.000Z</td>\n",
       "      <td>2018-09-15T00:00:00.000Z</td>\n",
       "      <td>t</td>\n",
       "      <td>740996</td>\n",
       "      <td>6243310</td>\n",
       "      <td>3.50483</td>\n",
       "      <td>43.2878</td>\n",
       "      <td>0101000020E6100000000000E0E4090C4000000040D5A4...</td>\n",
       "      <td>15007</td>\n",
       "    </tr>\n",
       "    <tr>\n",
       "      <th>5999</th>\n",
       "      <td>3.50483</td>\n",
       "      <td>43.2878</td>\n",
       "      <td>3000</td>\n",
       "      <td>HERAULT</td>\n",
       "      <td>AGDE</td>\n",
       "      <td>34003</td>\n",
       "      <td>Agathois-Piscénois - Périurbain</td>\n",
       "      <td>FR08022</td>\n",
       "      <td>suburban</td>\n",
       "      <td>Fond</td>\n",
       "      <td>...</td>\n",
       "      <td>journaliere</td>\n",
       "      <td>2018-05-27T01:00:00.000Z</td>\n",
       "      <td>2018-05-28T00:00:00.000Z</td>\n",
       "      <td>t</td>\n",
       "      <td>740996</td>\n",
       "      <td>6243310</td>\n",
       "      <td>3.50483</td>\n",
       "      <td>43.2878</td>\n",
       "      <td>0101000020E6100000000000E0E4090C4000000040D5A4...</td>\n",
       "      <td>3000</td>\n",
       "    </tr>\n",
       "    <tr>\n",
       "      <th>15094</th>\n",
       "      <td>3.50483</td>\n",
       "      <td>43.2878</td>\n",
       "      <td>14287</td>\n",
       "      <td>HERAULT</td>\n",
       "      <td>AGDE</td>\n",
       "      <td>34003</td>\n",
       "      <td>Agathois-Piscénois - Périurbain</td>\n",
       "      <td>FR08022</td>\n",
       "      <td>suburban</td>\n",
       "      <td>Fond</td>\n",
       "      <td>...</td>\n",
       "      <td>journaliere</td>\n",
       "      <td>2018-09-06T01:00:00.000Z</td>\n",
       "      <td>2018-09-07T00:00:00.000Z</td>\n",
       "      <td>t</td>\n",
       "      <td>740996</td>\n",
       "      <td>6243310</td>\n",
       "      <td>3.50483</td>\n",
       "      <td>43.2878</td>\n",
       "      <td>0101000020E6100000000000E0E4090C4000000040D5A4...</td>\n",
       "      <td>14287</td>\n",
       "    </tr>\n",
       "  </tbody>\n",
       "</table>\n",
       "<p>5 rows × 24 columns</p>\n",
       "</div>"
      ],
      "text/plain": [
       "             X        Y     id  nom_dep nom_com  code_insee  \\\n",
       "14528  3.50483  43.2878  16721  HERAULT    AGDE       34003   \n",
       "15129  3.50483  43.2878  14322  HERAULT    AGDE       34003   \n",
       "6006   3.50483  43.2878  15007  HERAULT    AGDE       34003   \n",
       "5999   3.50483  43.2878   3000  HERAULT    AGDE       34003   \n",
       "15094  3.50483  43.2878  14287  HERAULT    AGDE       34003   \n",
       "\n",
       "                           nom_station code_station typologie influence  \\\n",
       "14528  Agathois-Piscénois - Périurbain      FR08022  suburban      Fond   \n",
       "15129  Agathois-Piscénois - Périurbain      FR08022  suburban      Fond   \n",
       "6006   Agathois-Piscénois - Périurbain      FR08022  suburban      Fond   \n",
       "5999   Agathois-Piscénois - Périurbain      FR08022  suburban      Fond   \n",
       "15094  Agathois-Piscénois - Périurbain      FR08022  suburban      Fond   \n",
       "\n",
       "       ...       metrique                date_debut                  date_fin  \\\n",
       "14528  ...    journaliere  2018-10-02T01:00:00.000Z  2018-10-03T00:00:00.000Z   \n",
       "15129  ...    journaliere  2018-09-07T01:00:00.000Z  2018-09-08T00:00:00.000Z   \n",
       "6006   ...    journaliere  2018-09-14T01:00:00.000Z  2018-09-15T00:00:00.000Z   \n",
       "5999   ...    journaliere  2018-05-27T01:00:00.000Z  2018-05-28T00:00:00.000Z   \n",
       "15094  ...    journaliere  2018-09-06T01:00:00.000Z  2018-09-07T00:00:00.000Z   \n",
       "\n",
       "      statut_valid   x_l93    y_l93  x_wgs84  y_wgs84  \\\n",
       "14528            t  740996  6243310  3.50483  43.2878   \n",
       "15129            t  740996  6243310  3.50483  43.2878   \n",
       "6006             t  740996  6243310  3.50483  43.2878   \n",
       "5999             t  740996  6243310  3.50483  43.2878   \n",
       "15094            t  740996  6243310  3.50483  43.2878   \n",
       "\n",
       "                                                    geom    FID  \n",
       "14528  0101000020E6100000000000E0E4090C4000000040D5A4...  16721  \n",
       "15129  0101000020E6100000000000E0E4090C4000000040D5A4...  14322  \n",
       "6006   0101000020E6100000000000E0E4090C4000000040D5A4...  15007  \n",
       "5999   0101000020E6100000000000E0E4090C4000000040D5A4...   3000  \n",
       "15094  0101000020E6100000000000E0E4090C4000000040D5A4...  14287  \n",
       "\n",
       "[5 rows x 24 columns]"
      ]
     },
     "execution_count": 42,
     "metadata": {},
     "output_type": "execute_result"
    }
   ],
   "source": [
    "df_pol_occ = pd.read_csv(path_target).sort_values('nom_com', axis=0, ascending=True)\n",
    "df_pol_occ.head(5)"
   ]
  },
  {
   "cell_type": "code",
   "execution_count": 43,
   "metadata": {
    "collapsed": false
   },
   "outputs": [
    {
     "data": {
      "text/html": [
       "<div>\n",
       "<style scoped>\n",
       "    .dataframe tbody tr th:only-of-type {\n",
       "        vertical-align: middle;\n",
       "    }\n",
       "\n",
       "    .dataframe tbody tr th {\n",
       "        vertical-align: top;\n",
       "    }\n",
       "\n",
       "    .dataframe thead th {\n",
       "        text-align: right;\n",
       "    }\n",
       "</style>\n",
       "<table border=\"1\" class=\"dataframe\">\n",
       "  <thead>\n",
       "    <tr style=\"text-align: right;\">\n",
       "      <th></th>\n",
       "      <th>X</th>\n",
       "      <th>Y</th>\n",
       "      <th>id</th>\n",
       "      <th>nom_dep</th>\n",
       "      <th>nom_com</th>\n",
       "      <th>code_insee</th>\n",
       "      <th>nom_station</th>\n",
       "      <th>code_station</th>\n",
       "      <th>typologie</th>\n",
       "      <th>influence</th>\n",
       "      <th>...</th>\n",
       "      <th>metrique</th>\n",
       "      <th>date_debut</th>\n",
       "      <th>date_fin</th>\n",
       "      <th>statut_valid</th>\n",
       "      <th>x_l93</th>\n",
       "      <th>y_l93</th>\n",
       "      <th>x_wgs84</th>\n",
       "      <th>y_wgs84</th>\n",
       "      <th>geom</th>\n",
       "      <th>FID</th>\n",
       "    </tr>\n",
       "  </thead>\n",
       "  <tbody>\n",
       "    <tr>\n",
       "      <th>11766</th>\n",
       "      <td>1.39326</td>\n",
       "      <td>43.5616</td>\n",
       "      <td>8767</td>\n",
       "      <td>HAUTE-GARONNE</td>\n",
       "      <td>TOULOUSE</td>\n",
       "      <td>31555</td>\n",
       "      <td>Toulouse-SETMI Eisenhower \\n</td>\n",
       "      <td>FR12039</td>\n",
       "      <td>urban</td>\n",
       "      <td>Industrielle</td>\n",
       "      <td>...</td>\n",
       "      <td>journaliere</td>\n",
       "      <td>2017-12-02T01:00:00.000Z</td>\n",
       "      <td>2017-12-03T00:00:00.000Z</td>\n",
       "      <td>t</td>\n",
       "      <td>570147</td>\n",
       "      <td>6274930</td>\n",
       "      <td>1.39326</td>\n",
       "      <td>43.5616</td>\n",
       "      <td>0101000020E610000000000000CB4AF63F000000E0E1C7...</td>\n",
       "      <td>8767</td>\n",
       "    </tr>\n",
       "    <tr>\n",
       "      <th>11765</th>\n",
       "      <td>1.39326</td>\n",
       "      <td>43.5616</td>\n",
       "      <td>8766</td>\n",
       "      <td>HAUTE-GARONNE</td>\n",
       "      <td>TOULOUSE</td>\n",
       "      <td>31555</td>\n",
       "      <td>Toulouse-SETMI Eisenhower \\n</td>\n",
       "      <td>FR12039</td>\n",
       "      <td>urban</td>\n",
       "      <td>Industrielle</td>\n",
       "      <td>...</td>\n",
       "      <td>journaliere</td>\n",
       "      <td>2017-12-01T01:00:00.000Z</td>\n",
       "      <td>2017-12-02T00:00:00.000Z</td>\n",
       "      <td>t</td>\n",
       "      <td>570147</td>\n",
       "      <td>6274930</td>\n",
       "      <td>1.39326</td>\n",
       "      <td>43.5616</td>\n",
       "      <td>0101000020E610000000000000CB4AF63F000000E0E1C7...</td>\n",
       "      <td>8766</td>\n",
       "    </tr>\n",
       "    <tr>\n",
       "      <th>11764</th>\n",
       "      <td>1.39326</td>\n",
       "      <td>43.5616</td>\n",
       "      <td>8765</td>\n",
       "      <td>HAUTE-GARONNE</td>\n",
       "      <td>TOULOUSE</td>\n",
       "      <td>31555</td>\n",
       "      <td>Toulouse-SETMI Eisenhower \\n</td>\n",
       "      <td>FR12039</td>\n",
       "      <td>urban</td>\n",
       "      <td>Industrielle</td>\n",
       "      <td>...</td>\n",
       "      <td>journaliere</td>\n",
       "      <td>2017-11-30T01:00:00.000Z</td>\n",
       "      <td>2017-12-01T00:00:00.000Z</td>\n",
       "      <td>t</td>\n",
       "      <td>570147</td>\n",
       "      <td>6274930</td>\n",
       "      <td>1.39326</td>\n",
       "      <td>43.5616</td>\n",
       "      <td>0101000020E610000000000000CB4AF63F000000E0E1C7...</td>\n",
       "      <td>8765</td>\n",
       "    </tr>\n",
       "    <tr>\n",
       "      <th>11778</th>\n",
       "      <td>1.39326</td>\n",
       "      <td>43.5616</td>\n",
       "      <td>8779</td>\n",
       "      <td>HAUTE-GARONNE</td>\n",
       "      <td>TOULOUSE</td>\n",
       "      <td>31555</td>\n",
       "      <td>Toulouse-SETMI Eisenhower \\n</td>\n",
       "      <td>FR12039</td>\n",
       "      <td>urban</td>\n",
       "      <td>Industrielle</td>\n",
       "      <td>...</td>\n",
       "      <td>journaliere</td>\n",
       "      <td>2017-12-14T01:00:00.000Z</td>\n",
       "      <td>2017-12-15T00:00:00.000Z</td>\n",
       "      <td>t</td>\n",
       "      <td>570147</td>\n",
       "      <td>6274930</td>\n",
       "      <td>1.39326</td>\n",
       "      <td>43.5616</td>\n",
       "      <td>0101000020E610000000000000CB4AF63F000000E0E1C7...</td>\n",
       "      <td>8779</td>\n",
       "    </tr>\n",
       "    <tr>\n",
       "      <th>20807</th>\n",
       "      <td>1.43861</td>\n",
       "      <td>43.6236</td>\n",
       "      <td>18000</td>\n",
       "      <td>HAUTE-GARONNE</td>\n",
       "      <td>TOULOUSE</td>\n",
       "      <td>31555</td>\n",
       "      <td>Toulouse-Mazades Urbain\\n</td>\n",
       "      <td>FR12021</td>\n",
       "      <td>urban</td>\n",
       "      <td>Fond</td>\n",
       "      <td>...</td>\n",
       "      <td>journaliere</td>\n",
       "      <td>2017-11-05T01:00:00.000Z</td>\n",
       "      <td>2017-11-06T00:00:00.000Z</td>\n",
       "      <td>t</td>\n",
       "      <td>573948</td>\n",
       "      <td>6281750</td>\n",
       "      <td>1.43861</td>\n",
       "      <td>43.6236</td>\n",
       "      <td>0101000020E6100000000000008D04F73F000000A0D2CF...</td>\n",
       "      <td>18000</td>\n",
       "    </tr>\n",
       "  </tbody>\n",
       "</table>\n",
       "<p>5 rows × 24 columns</p>\n",
       "</div>"
      ],
      "text/plain": [
       "             X        Y     id        nom_dep   nom_com  code_insee  \\\n",
       "11766  1.39326  43.5616   8767  HAUTE-GARONNE  TOULOUSE       31555   \n",
       "11765  1.39326  43.5616   8766  HAUTE-GARONNE  TOULOUSE       31555   \n",
       "11764  1.39326  43.5616   8765  HAUTE-GARONNE  TOULOUSE       31555   \n",
       "11778  1.39326  43.5616   8779  HAUTE-GARONNE  TOULOUSE       31555   \n",
       "20807  1.43861  43.6236  18000  HAUTE-GARONNE  TOULOUSE       31555   \n",
       "\n",
       "                        nom_station code_station typologie     influence  \\\n",
       "11766  Toulouse-SETMI Eisenhower \\n      FR12039     urban  Industrielle   \n",
       "11765  Toulouse-SETMI Eisenhower \\n      FR12039     urban  Industrielle   \n",
       "11764  Toulouse-SETMI Eisenhower \\n      FR12039     urban  Industrielle   \n",
       "11778  Toulouse-SETMI Eisenhower \\n      FR12039     urban  Industrielle   \n",
       "20807     Toulouse-Mazades Urbain\\n      FR12021     urban          Fond   \n",
       "\n",
       "       ...       metrique                date_debut                  date_fin  \\\n",
       "11766  ...    journaliere  2017-12-02T01:00:00.000Z  2017-12-03T00:00:00.000Z   \n",
       "11765  ...    journaliere  2017-12-01T01:00:00.000Z  2017-12-02T00:00:00.000Z   \n",
       "11764  ...    journaliere  2017-11-30T01:00:00.000Z  2017-12-01T00:00:00.000Z   \n",
       "11778  ...    journaliere  2017-12-14T01:00:00.000Z  2017-12-15T00:00:00.000Z   \n",
       "20807  ...    journaliere  2017-11-05T01:00:00.000Z  2017-11-06T00:00:00.000Z   \n",
       "\n",
       "      statut_valid   x_l93    y_l93  x_wgs84  y_wgs84  \\\n",
       "11766            t  570147  6274930  1.39326  43.5616   \n",
       "11765            t  570147  6274930  1.39326  43.5616   \n",
       "11764            t  570147  6274930  1.39326  43.5616   \n",
       "11778            t  570147  6274930  1.39326  43.5616   \n",
       "20807            t  573948  6281750  1.43861  43.6236   \n",
       "\n",
       "                                                    geom    FID  \n",
       "11766  0101000020E610000000000000CB4AF63F000000E0E1C7...   8767  \n",
       "11765  0101000020E610000000000000CB4AF63F000000E0E1C7...   8766  \n",
       "11764  0101000020E610000000000000CB4AF63F000000E0E1C7...   8765  \n",
       "11778  0101000020E610000000000000CB4AF63F000000E0E1C7...   8779  \n",
       "20807  0101000020E6100000000000008D04F73F000000A0D2CF...  18000  \n",
       "\n",
       "[5 rows x 24 columns]"
      ]
     },
     "execution_count": 43,
     "metadata": {},
     "output_type": "execute_result"
    }
   ],
   "source": [
    "df_pol_occ.tail(5)"
   ]
  },
  {
   "cell_type": "code",
   "execution_count": 44,
   "metadata": {
    "collapsed": false
   },
   "outputs": [
    {
     "data": {
      "text/plain": [
       "array(['O3', 'NO2', 'NO', 'NOX as NO2', 'PM10', 'C6H6', 'PM2.5', 'SO2',\n",
       "       'H2S'], dtype=object)"
      ]
     },
     "execution_count": 44,
     "metadata": {},
     "output_type": "execute_result"
    }
   ],
   "source": [
    "df_pol_occ['polluant'].unique()  # polluants"
   ]
  },
  {
   "cell_type": "code",
   "execution_count": 45,
   "metadata": {
    "collapsed": false
   },
   "outputs": [
    {
     "data": {
      "text/plain": [
       "array(['AGDE', 'ALBI', 'BELESTA-EN-LAURAGAIS', 'BESSIERES', 'BLAGNAC',\n",
       "       'CAHORS', 'CASTRES', 'CORNEILHAN', 'FRAISSE-SUR-AGOUT',\n",
       "       'GAUDONVILLE', 'LA CALMETTE', 'LATTES', 'LOURDES', 'LUNEL-VIEL',\n",
       "       'MILLAU', 'MIRAMONT-DE-COMMINGES', 'MONTGISCARD', 'MONTPELLIER',\n",
       "       'NIMES', 'PAMIERS', 'PERPIGNAN', 'PEYRUSSE-VIEILLE', 'RODEZ',\n",
       "       'SAINT-ESTEVE', 'SAINT-GAUDENS', 'SAINT-GELY-DU-FESC',\n",
       "       'SAINT-LAURENT-DES-ARBRES', 'SAINT-PRIVAT-DES-VIEUX', 'SAZE',\n",
       "       'TARBES', 'TOULOUSE'], dtype=object)"
      ]
     },
     "execution_count": 45,
     "metadata": {},
     "output_type": "execute_result"
    }
   ],
   "source": [
    "df_pol_occ['nom_com'].unique()  # villes"
   ]
  },
  {
   "cell_type": "code",
   "execution_count": 46,
   "metadata": {
    "collapsed": false
   },
   "outputs": [
    {
     "name": "stderr",
     "output_type": "stream",
     "text": [
      "/home/jo/anaconda3/lib/python3.6/site-packages/scipy/stats/stats.py:1713: FutureWarning: Using a non-tuple sequence for multidimensional indexing is deprecated; use `arr[tuple(seq)]` instead of `arr[seq]`. In the future this will be interpreted as an array index, `arr[np.array(seq)]`, which will result either in an error or a different result.\n",
      "  return np.add.reduce(sorted[indexer] * weights, axis=axis) / sumval\n"
     ]
    },
    {
     "data": {
      "text/plain": [
       "Text(0.5,0.98,'Pollution en Occitanie (2017-10-18 / 2018-10-07)')"
      ]
     },
     "execution_count": 46,
     "metadata": {},
     "output_type": "execute_result"
    },
    {
     "data": {
      "image/png": "[encoded data removed]",
      "text/plain": [
       "<Figure size 720x720 with 4 Axes>"
      ]
     },
     "metadata": {
      "needs_background": "light"
     },
     "output_type": "display_data"
    }
   ],
   "source": [
    "polluants = ['O3', 'NO2', 'NO', 'PM10', 'PM2.5']\n",
    "polluants = ['O3', 'NO2', 'PM10', 'PM2.5']\n",
    "\n",
    "fig, axes = plt.subplots(2, 2, figsize=(10, 10))\n",
    "df_pol_occ = df_pol_occ.rename(columns={'nom_com': 'Ville'})\n",
    "for i, polluant in enumerate(polluants):\n",
    "    querry = \"(Ville=='TOULOUSE' or Ville=='MONTPELLIER') and \" + \\\n",
    "        \"polluant=='{}'\".format(polluant)\n",
    "    df_polluant = df_pol_occ.query(querry)[['Ville', 'valeur_originale']]\n",
    "    plt.title(polluant)\n",
    "    ax = axes.reshape(-1)[i]\n",
    "    sns.violinplot(x='Ville', y='valeur_originale',\n",
    "                   data=df_polluant, orient='v', cut=0, ax=ax)\n",
    "    ax.set_title(polluant)\n",
    "    ax.set_ylabel('Concentration (μg/m³)')\n",
    "# fig.delaxes(axes.reshape(-1)[5])  # for case with 5 axes\n",
    "plt.tight_layout()\n",
    "plt.subplots_adjust(top=0.9)\n",
    "fig.suptitle(\"Pollution en Occitanie (2017-10-18 / 2018-10-07)\", fontsize=16)\n",
    "# fig.savefig(\"../srcimages/pollution_occitanie.svg\") # seulement pour sauvegarder l'image"
   ]
  },
  {
   "cell_type": "code",
   "execution_count": 47,
   "metadata": {
    "collapsed": false
   },
   "outputs": [
    {
     "name": "stdout",
     "output_type": "stream",
     "text": [
      "Polluant: O3 \n",
      " stat=2.270731373965671; pvalue=0.023498373342240576\n",
      "Polluant: PM10 \n",
      " stat=-8.62536518471858; pvalue=7.724198632236554e-17\n",
      "Polluant: NO \n",
      " stat=-9.459132928106122; pvalue=3.489004021257441e-18\n",
      "Polluant: NO2 \n",
      " stat=-4.971194847877989; pvalue=1.1139891965197875e-06\n",
      "Polluant: PM2.5 \n",
      " stat=-0.277336105021228; pvalue=0.7816278587827038\n"
     ]
    }
   ],
   "source": [
    "polluants = ['O3', 'PM10', 'NO', 'NO2', 'PM2.5']\n",
    "\n",
    "for polluant in polluants:\n",
    "    querry = \"(Ville=='TOULOUSE' or Ville=='MONTPELLIER') and \" + \\\n",
    "        \"polluant=='{}'\".format(polluant)\n",
    "    df_polluant = df_pol_occ.query(querry)[['Ville', 'valeur_originale']]\n",
    "    X_Mtpl = df_polluant.query(\"Ville=='MONTPELLIER'\")['valeur_originale']\n",
    "    X_Tlse = df_polluant.query(\"Ville=='TOULOUSE'\")['valeur_originale']\n",
    "    stat, p_val = ttest_ind(a=X_Mtpl, b=X_Tlse, equal_var=False)\n",
    "    print(\"Polluant: {0} \\n stat={1}; pvalue={2}\".format(polluant,stat, p_val))"
   ]
  },
  {
   "cell_type": "markdown",
   "metadata": {},
   "source": [
    "# Comparaison d'échantillons appariés"
   ]
  },
  {
   "cell_type": "markdown",
   "metadata": {},
   "source": [
    "## Cas des filtres à eau"
   ]
  },
  {
   "cell_type": "code",
   "execution_count": 48,
   "metadata": {
    "collapsed": true
   },
   "outputs": [],
   "source": [
    "ttest_rel?"
   ]
  },
  {
   "cell_type": "code",
   "execution_count": 49,
   "metadata": {
    "collapsed": false
   },
   "outputs": [
    {
     "name": "stdout",
     "output_type": "stream",
     "text": [
      "Replace is False and data exists, so doing nothing. Use replace==True to re-download the data.\n"
     ]
    }
   ],
   "source": [
    "url = \"http://josephsalmon.eu/enseignement/datasets/filtre.dat\"\n",
    "path_target = \"datasets/filtre.dat\"\n",
    "download(url, path_target, replace=False)\n",
    "df_filtre = pd.read_csv(path_target, sep = '\\s+')"
   ]
  },
  {
   "cell_type": "code",
   "execution_count": 50,
   "metadata": {
    "collapsed": false
   },
   "outputs": [
    {
     "data": {
      "text/html": [
       "<div>\n",
       "<style scoped>\n",
       "    .dataframe tbody tr th:only-of-type {\n",
       "        vertical-align: middle;\n",
       "    }\n",
       "\n",
       "    .dataframe tbody tr th {\n",
       "        vertical-align: top;\n",
       "    }\n",
       "\n",
       "    .dataframe thead th {\n",
       "        text-align: right;\n",
       "    }\n",
       "</style>\n",
       "<table border=\"1\" class=\"dataframe\">\n",
       "  <thead>\n",
       "    <tr style=\"text-align: right;\">\n",
       "      <th></th>\n",
       "      <th>verre</th>\n",
       "      <th>papier</th>\n",
       "    </tr>\n",
       "  </thead>\n",
       "  <tbody>\n",
       "    <tr>\n",
       "      <th>0</th>\n",
       "      <td>65</td>\n",
       "      <td>53</td>\n",
       "    </tr>\n",
       "    <tr>\n",
       "      <th>1</th>\n",
       "      <td>80</td>\n",
       "      <td>63</td>\n",
       "    </tr>\n",
       "    <tr>\n",
       "      <th>2</th>\n",
       "      <td>89</td>\n",
       "      <td>62</td>\n",
       "    </tr>\n",
       "    <tr>\n",
       "      <th>3</th>\n",
       "      <td>64</td>\n",
       "      <td>52</td>\n",
       "    </tr>\n",
       "    <tr>\n",
       "      <th>4</th>\n",
       "      <td>68</td>\n",
       "      <td>64</td>\n",
       "    </tr>\n",
       "  </tbody>\n",
       "</table>\n",
       "</div>"
      ],
      "text/plain": [
       "   verre  papier\n",
       "0     65      53\n",
       "1     80      63\n",
       "2     89      62\n",
       "3     64      52\n",
       "4     68      64"
      ]
     },
     "execution_count": 50,
     "metadata": {},
     "output_type": "execute_result"
    }
   ],
   "source": [
    "df_filtre.head()"
   ]
  },
  {
   "cell_type": "code",
   "execution_count": 51,
   "metadata": {
    "collapsed": false
   },
   "outputs": [],
   "source": [
    "df_filtre['delta'] = df_filtre['verre'] - df_filtre['papier']"
   ]
  },
  {
   "cell_type": "code",
   "execution_count": 52,
   "metadata": {
    "collapsed": false
   },
   "outputs": [
    {
     "data": {
      "text/html": [
       "<div>\n",
       "<style scoped>\n",
       "    .dataframe tbody tr th:only-of-type {\n",
       "        vertical-align: middle;\n",
       "    }\n",
       "\n",
       "    .dataframe tbody tr th {\n",
       "        vertical-align: top;\n",
       "    }\n",
       "\n",
       "    .dataframe thead th {\n",
       "        text-align: right;\n",
       "    }\n",
       "</style>\n",
       "<table border=\"1\" class=\"dataframe\">\n",
       "  <thead>\n",
       "    <tr style=\"text-align: right;\">\n",
       "      <th></th>\n",
       "      <th>verre</th>\n",
       "      <th>papier</th>\n",
       "      <th>delta</th>\n",
       "    </tr>\n",
       "  </thead>\n",
       "  <tbody>\n",
       "    <tr>\n",
       "      <th>0</th>\n",
       "      <td>65</td>\n",
       "      <td>53</td>\n",
       "      <td>12</td>\n",
       "    </tr>\n",
       "    <tr>\n",
       "      <th>1</th>\n",
       "      <td>80</td>\n",
       "      <td>63</td>\n",
       "      <td>17</td>\n",
       "    </tr>\n",
       "    <tr>\n",
       "      <th>2</th>\n",
       "      <td>89</td>\n",
       "      <td>62</td>\n",
       "      <td>27</td>\n",
       "    </tr>\n",
       "    <tr>\n",
       "      <th>3</th>\n",
       "      <td>64</td>\n",
       "      <td>52</td>\n",
       "      <td>12</td>\n",
       "    </tr>\n",
       "    <tr>\n",
       "      <th>4</th>\n",
       "      <td>68</td>\n",
       "      <td>64</td>\n",
       "      <td>4</td>\n",
       "    </tr>\n",
       "  </tbody>\n",
       "</table>\n",
       "</div>"
      ],
      "text/plain": [
       "   verre  papier  delta\n",
       "0     65      53     12\n",
       "1     80      63     17\n",
       "2     89      62     27\n",
       "3     64      52     12\n",
       "4     68      64      4"
      ]
     },
     "execution_count": 52,
     "metadata": {},
     "output_type": "execute_result"
    }
   ],
   "source": [
    "df_filtre.head()"
   ]
  },
  {
   "cell_type": "code",
   "execution_count": 53,
   "metadata": {
    "collapsed": false
   },
   "outputs": [
    {
     "name": "stderr",
     "output_type": "stream",
     "text": [
      "/home/jo/anaconda3/lib/python3.6/site-packages/scipy/stats/stats.py:1713: FutureWarning: Using a non-tuple sequence for multidimensional indexing is deprecated; use `arr[tuple(seq)]` instead of `arr[seq]`. In the future this will be interpreted as an array index, `arr[np.array(seq)]`, which will result either in an error or a different result.\n",
      "  return np.add.reduce(sorted[indexer] * weights, axis=axis) / sumval\n"
     ]
    },
    {
     "data": {
      "text/plain": [
       "Text(0.5,1,'Différences entre prélévements entre \"verre\" et \"papier\" (mg)')"
      ]
     },
     "execution_count": 53,
     "metadata": {},
     "output_type": "execute_result"
    },
    {
     "data": {
      "image/png": "[encoded data removed]",
      "text/plain": [
       "<Figure size 432x288 with 1 Axes>"
      ]
     },
     "metadata": {
      "needs_background": "light"
     },
     "output_type": "display_data"
    }
   ],
   "source": [
    "plt.figure()\n",
    "ax = sns.kdeplot(df_filtre['delta'], shade=True)\n",
    "plt.xlabel('Différences des prélévements')\n",
    "plt.ylabel('Proportion')\n",
    "ax.legend().set_visible(False)\n",
    "plt.title('Différences entre prélévements entre \"verre\" et \"papier\" (mg)')"
   ]
  },
  {
   "cell_type": "code",
   "execution_count": 54,
   "metadata": {
    "collapsed": false
   },
   "outputs": [
    {
     "data": {
      "text/plain": [
       "(0.9708637595176697, 0.6247771382331848)"
      ]
     },
     "execution_count": 54,
     "metadata": {},
     "output_type": "execute_result"
    }
   ],
   "source": [
    "shapiro(df_filtre['delta'])"
   ]
  },
  {
   "cell_type": "code",
   "execution_count": 55,
   "metadata": {
    "collapsed": false
   },
   "outputs": [
    {
     "data": {
      "text/plain": [
       "Ttest_relResult(statistic=9.120128506885786, pvalue=1.3917937799701256e-09)"
      ]
     },
     "execution_count": 55,
     "metadata": {},
     "output_type": "execute_result"
    }
   ],
   "source": [
    "# reject pvalue so small...\n",
    "ttest_rel(df_filtre['verre'], df_filtre['papier'])"
   ]
  },
  {
   "cell_type": "markdown",
   "metadata": {},
   "source": [
    "## Cas de la mesure des arbres: avant / après abattage"
   ]
  },
  {
   "cell_type": "code",
   "execution_count": 56,
   "metadata": {
    "collapsed": false
   },
   "outputs": [
    {
     "name": "stdout",
     "output_type": "stream",
     "text": [
      "Replace is False and data exists, so doing nothing. Use replace==True to re-download the data.\n"
     ]
    }
   ],
   "source": [
    "url = \"http://josephsalmon.eu/enseignement/datasets/tailles_arbres.csv\"\n",
    "path_target = \"datasets/tailles_arbres.csv\"\n",
    "download(url, path_target, replace=False)\n",
    "df_arbres = pd.read_csv(path_target, header=0)"
   ]
  },
  {
   "cell_type": "code",
   "execution_count": 57,
   "metadata": {
    "collapsed": false
   },
   "outputs": [
    {
     "data": {
      "text/plain": [
       "Index(['sur_pied', 'abattus'], dtype='object')"
      ]
     },
     "execution_count": 57,
     "metadata": {},
     "output_type": "execute_result"
    }
   ],
   "source": [
    "df_arbres.columns"
   ]
  },
  {
   "cell_type": "code",
   "execution_count": 58,
   "metadata": {
    "collapsed": false
   },
   "outputs": [],
   "source": [
    "df_arbres['delta'] = df_arbres['sur_pied'] - df_arbres['abattus']"
   ]
  },
  {
   "cell_type": "code",
   "execution_count": 59,
   "metadata": {
    "collapsed": false
   },
   "outputs": [
    {
     "name": "stderr",
     "output_type": "stream",
     "text": [
      "/home/jo/anaconda3/lib/python3.6/site-packages/scipy/stats/stats.py:1713: FutureWarning: Using a non-tuple sequence for multidimensional indexing is deprecated; use `arr[tuple(seq)]` instead of `arr[seq]`. In the future this will be interpreted as an array index, `arr[np.array(seq)]`, which will result either in an error or a different result.\n",
      "  return np.add.reduce(sorted[indexer] * weights, axis=axis) / sumval\n"
     ]
    },
    {
     "data": {
      "text/plain": [
       "Text(0.5,1,'Différences entre mesures avant / après abattage (m)')"
      ]
     },
     "execution_count": 59,
     "metadata": {},
     "output_type": "execute_result"
    },
    {
     "data": {
      "image/png": "[encoded data removed]",
      "text/plain": [
       "<Figure size 432x288 with 1 Axes>"
      ]
     },
     "metadata": {
      "needs_background": "light"
     },
     "output_type": "display_data"
    }
   ],
   "source": [
    "plt.figure()\n",
    "ax = sns.kdeplot(df_arbres['delta'], shade=True)\n",
    "plt.xlabel('Différences des mesures (m)')\n",
    "plt.ylabel('Proportion')\n",
    "ax.legend().set_visible(False)\n",
    "plt.title('Différences entre mesures avant / après abattage (m)')"
   ]
  },
  {
   "cell_type": "code",
   "execution_count": 60,
   "metadata": {
    "collapsed": false
   },
   "outputs": [
    {
     "data": {
      "text/plain": [
       "Ttest_relResult(statistic=9.120128506885786, pvalue=1.3917937799701256e-09)"
      ]
     },
     "execution_count": 60,
     "metadata": {},
     "output_type": "execute_result"
    }
   ],
   "source": [
    "ttest_rel(df_filtre['verre'], df_filtre['papier'])   # Reject < 0.05"
   ]
  }
 ],
 "metadata": {
  "kernelspec": {
   "display_name": "Python 3",
   "language": "python",
   "name": "python3"
  },
  "language_info": {
   "codemirror_mode": {
    "name": "ipython",
    "version": 3
   },
   "file_extension": ".py",
   "mimetype": "text/x-python",
   "name": "python",
   "nbconvert_exporter": "python",
   "pygments_lexer": "ipython3",
   "version": "3.6.8"
  }
 },
 "nbformat": 4,
 "nbformat_minor": 2
}
