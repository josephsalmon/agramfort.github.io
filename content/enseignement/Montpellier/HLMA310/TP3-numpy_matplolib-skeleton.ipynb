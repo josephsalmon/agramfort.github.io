{
 "cells": [
  {
   "cell_type": "markdown",
   "metadata": {},
   "source": [
    "# TP3 numpy et matplolib - HMLA310\n",
    "***\n",
    "> __Auteur__: Joseph Salmon ---\n",
    "> <joseph.salmon@umontpellier.fr>"
   ]
  },
  {
   "cell_type": "markdown",
   "metadata": {},
   "source": [
    "# Exercice 1:\n",
    "**Dynamique d'une population population avec migrations internes**"
   ]
  },
  {
   "cell_type": "code",
   "execution_count": null,
   "metadata": {},
   "outputs": [],
   "source": [
    "import numpy as np\n",
    "import matplotlib.pyplot as plt"
   ]
  },
  {
   "cell_type": "code",
   "execution_count": null,
   "metadata": {},
   "outputs": [],
   "source": [
    "# commande \"magique\" pour améliorer la visualiation\n",
    "%matplotlib notebook\n",
    "# %matplotlib inline"
   ]
  },
  {
   "cell_type": "code",
   "execution_count": null,
   "metadata": {},
   "outputs": [],
   "source": [
    "# Changer ici par votre Prenom Nom:\n",
    "prenom = \"Joseph\"  # à remplacer\n",
    "nom = \"Salmon\"  # à remplacer\n",
    "extension = \".ipynb\"\n",
    "tp = \"TP3_HMLA310\""
   ]
  },
  {
   "cell_type": "code",
   "execution_count": null,
   "metadata": {},
   "outputs": [],
   "source": [
    "# utiliser filename pour votre nom de TP\n",
    "filename = \"_\".join([tp, prenom, nom]) + extension\n",
    "filename = filename.lower()\n",
    "print(filename)"
   ]
  },
  {
   "cell_type": "markdown",
   "metadata": {},
   "source": [
    "## Question: création d'une fonction pour calculer l'évolution de la population."
   ]
  },
  {
   "cell_type": "code",
   "execution_count": null,
   "metadata": {},
   "outputs": [],
   "source": [
    "def population_array(n, pop_init, tau_0, tau_1):\n",
    "    total_pop = np.zeros((n + 1, 2))\n",
    "    total_pop[0, :] = pop_init\n",
    "    Mat = ### XXXX\n",
    "    if n == 0:\n",
    "        return total_pop, Mat\n",
    "    else:\n",
    "        for i in range(0, n):\n",
    "            total_pop[i + 1, :] = ### XXXX\n",
    "    return total_pop, Mat"
   ]
  },
  {
   "cell_type": "code",
   "execution_count": null,
   "metadata": {},
   "outputs": [],
   "source": [
    "u_0 = 51\n",
    "r_0 = 9.\n",
    "pop_init = np.array([r_0, u_0])\n",
    "tau_0 = 0.3  # taux d'exode rural\n",
    "tau_1 = 0.1  # taux d'exode urbain\n",
    "n = 10\n",
    "pop, Mat = population_array(n, pop_init, tau_0, tau_1)\n",
    "annee = np.arange(0, n + 1)"
   ]
  },
  {
   "cell_type": "markdown",
   "metadata": {},
   "source": [
    "## Question: affichage graphique de l'évolution de la population"
   ]
  },
  {
   "cell_type": "code",
   "execution_count": null,
   "metadata": {},
   "outputs": [],
   "source": [
    "fig = plt.figure(figsize=(6, 4))\n",
    "\n",
    "### XXX\n",
    "\n",
    "plt.title('Évolution de la population')\n",
    "plt.xlabel('Années')\n",
    "plt.ylim(0, 70)     # set the xlim to left, right\n",
    "plt.xlim(0, n)     # set the xlim to left, right\n",
    "plt.ylabel('Population (en M)')\n",
    "plt.legend(['Ruraux', 'Urbain'])"
   ]
  },
  {
   "cell_type": "markdown",
   "metadata": {},
   "source": [
    "## Question: ajout de la somme totale (constante)"
   ]
  },
  {
   "cell_type": "code",
   "execution_count": null,
   "metadata": {},
   "outputs": [],
   "source": [
    "### XXX"
   ]
  },
  {
   "cell_type": "code",
   "execution_count": null,
   "metadata": {},
   "outputs": [],
   "source": [
    "### XXX\n",
    "plt.legend(['Ruraux', 'Urbain', 'Total'])"
   ]
  },
  {
   "cell_type": "markdown",
   "metadata": {},
   "source": [
    "## Question: affichage graphique cumulé"
   ]
  },
  {
   "cell_type": "code",
   "execution_count": null,
   "metadata": {},
   "outputs": [],
   "source": [
    "fig2 = plt.figure(figsize=(6, 4))\n",
    "\n",
    "# cycle va permettre de prendre les couleurs dans l'ordre de la palette.\n",
    "cycle = plt.rcParams['axes.prop_cycle'].by_key()['color'] \n",
    "\n",
    "plt.plot(annee, pop[:,0], color=cycle[0])\n",
    "plt.plot(annee, pop[:,1], color=cycle[1])\n",
    "plt.plot(annee, total, color='k')\n",
    "\n",
    "plt.legend()\n"
   ]
  },
  {
   "cell_type": "markdown",
   "metadata": {},
   "source": [
    "## Question : puissance de matrice"
   ]
  },
  {
   "cell_type": "code",
   "execution_count": null,
   "metadata": {},
   "outputs": [],
   "source": [
    "### XXXX"
   ]
  },
  {
   "cell_type": "markdown",
   "metadata": {},
   "source": [
    "Remarque: pour les curieux de mathématiques on pourra aller voir https://fr.wikipedia.org/wiki/Cha%C3%AEne_de_Markov\n",
    "et le théorème central de cette théorie: https://fr.wikipedia.org/wiki/Th%C3%A9or%C3%A8me_de_Perron-Frobenius"
   ]
  },
  {
   "cell_type": "markdown",
   "metadata": {},
   "source": [
    "## Question: évolution de la population et convergence."
   ]
  },
  {
   "cell_type": "code",
   "execution_count": null,
   "metadata": {},
   "outputs": [],
   "source": [
    "### XXX\n",
    "pop_converence"
   ]
  },
  {
   "cell_type": "markdown",
   "metadata": {},
   "source": [
    "## Question: décomposition spectrale"
   ]
  },
  {
   "cell_type": "code",
   "execution_count": null,
   "metadata": {},
   "outputs": [],
   "source": [
    "np.linalg.eig?"
   ]
  },
  {
   "cell_type": "code",
   "execution_count": null,
   "metadata": {},
   "outputs": [],
   "source": [
    "eig_val"
   ]
  },
  {
   "cell_type": "code",
   "execution_count": null,
   "metadata": {},
   "outputs": [],
   "source": [
    "#### XXXX"
   ]
  },
  {
   "cell_type": "code",
   "execution_count": null,
   "metadata": {},
   "outputs": [],
   "source": [
    "np.allclose?"
   ]
  },
  {
   "cell_type": "markdown",
   "metadata": {},
   "source": [
    "## Matrice à convergence"
   ]
  },
  {
   "cell_type": "code",
   "execution_count": null,
   "metadata": {},
   "outputs": [],
   "source": [
    "np.linalg.matrix_power?"
   ]
  },
  {
   "cell_type": "code",
   "execution_count": null,
   "metadata": {},
   "outputs": [],
   "source": [
    "np.allclose?"
   ]
  },
  {
   "cell_type": "code",
   "execution_count": null,
   "metadata": {},
   "outputs": [],
   "source": []
  },
  {
   "cell_type": "code",
   "execution_count": null,
   "metadata": {},
   "outputs": [],
   "source": []
  },
  {
   "cell_type": "markdown",
   "metadata": {},
   "source": [
    "# Exercice 2: \n",
    "**Fractales: l'ensemle de Mandelbrot**"
   ]
  },
  {
   "cell_type": "code",
   "execution_count": null,
   "metadata": {},
   "outputs": [],
   "source": [
    "# Paramètres pour l'affichage:\n",
    "# équivalent de plt.axis('off') pour toutes les images\n",
    "import matplotlib as mpl\n",
    "mpl.rc('axes.spines', top=False, bottom=False, left=False, right=False)\n",
    "mpl.rc(('xtick', 'ytick'), color=(1, 1, 1, 0))"
   ]
  },
  {
   "cell_type": "code",
   "execution_count": null,
   "metadata": {},
   "outputs": [],
   "source": [
    "mandelbrot_mat = np.zeros((largeur, hauteur))\n",
    "for x in range(hauteur):\n",
    "    cx = (x * (xmax - xmin) / hauteur + xmin)\n",
    "    for y in range(largeur):\n",
    "        cy = (y * (ymin - ymax) / largeur + ymax)\n",
    "        xn, yn, n = 0, 0, 0\n",
    "        while (xn**2 + yn**2) < 4 and n < max_iteration:\n",
    "            tmp_x, tmp_y = xn, yn\n",
    "            xn = tmp_x**2 - tmp_y**2 + cx\n",
    "            yn = 2 * tmp_x * tmp_y + cy\n",
    "            n = n + 1\n",
    "        if n < max_iteration:\n",
    "            mandelbrot_mat[y, x] = 1."
   ]
  },
  {
   "cell_type": "code",
   "execution_count": null,
   "metadata": {},
   "outputs": [],
   "source": [
    "def mandelbrot(max_iteration, hauteur, largeur, xmin, xmax, ymin, ymax):\n",
    "    \"\"\"Création de l'ensemble de Mandelbrot.\"\"\"\n",
    "    ### XXX\n",
    "    return "
   ]
  },
  {
   "cell_type": "code",
   "execution_count": null,
   "metadata": {},
   "outputs": [],
   "source": [
    "# Un exemple de visualisation de l'ensemble de Mandelbrot:\n",
    "\n",
    "xmin, xmax, ymin, ymax = -2, 0.5, -1.25, 1.25\n",
    "max_iteration = 100  # 1000 # high resolution\n",
    "largeur, hauteur = 500, 500  # 1000 # high resolution\n",
    "mandelbrot_mat = ### XXX\n",
    "fig3 = plt.figure(figsize=((6, 6)))\n",
    "plt.imshow?"
   ]
  },
  {
   "cell_type": "markdown",
   "metadata": {},
   "source": [
    "## Impact du nombre d'itérations:"
   ]
  },
  {
   "cell_type": "code",
   "execution_count": null,
   "metadata": {},
   "outputs": [],
   "source": [
    "max_iterations = [1, 2, 5, 10, 20, 50, 100]\n",
    "largeur, hauteur = 500, 500  # taille de la fenêtre en pixels\n",
    "nb_iterations = len(max_iterations)\n",
    "mandelbrot_mats = np.zeros((largeur, hauteur, nb_iterations))"
   ]
  },
  {
   "cell_type": "code",
   "execution_count": null,
   "metadata": {},
   "outputs": [],
   "source": [
    "for row, max_iteration in enumerate(max_iterations):\n",
    "    #### XXX"
   ]
  },
  {
   "cell_type": "code",
   "execution_count": null,
   "metadata": {},
   "outputs": [],
   "source": [
    "fig, axes = plt.subplots(2,4,figsize=(8,4))\n",
    "axs = axes.ravel()\n",
    "for i in range(len(max_iterations)):\n",
    "    axs[i].plot(np.sin(np.linspace(0,1,num=100) * i *2  * np.pi))\n",
    "plt.show()"
   ]
  },
  {
   "cell_type": "code",
   "execution_count": null,
   "metadata": {},
   "outputs": [],
   "source": []
  },
  {
   "cell_type": "code",
   "execution_count": null,
   "metadata": {},
   "outputs": [],
   "source": [
    "def mandelbrot_color(max_iteration, hauteur, largeur, xmin, xmax, ymin, ymax):\n",
    "    \"\"\"Création de l'ensemble de Mandelbrot.\"\"\"\n",
    "    mandelbrot_mat = np.zeros((largeur, hauteur))\n",
    "    for x in range(hauteur):\n",
    "        cx = (x * (xmax - xmin) / hauteur + xmin)\n",
    "        for y in range(largeur):\n",
    "            cy = (y * (ymin - ymax) / largeur + ymax)\n",
    "            xn, yn, n = 0, 0, 0\n",
    "            while (xn**2 + yn**2) < 4 and n < max_iteration:\n",
    "                tmp_x, tmp_y = xn, yn\n",
    "                xn = tmp_x**2 - tmp_y**2 + cx\n",
    "                yn = 2 * tmp_x * tmp_y + cy\n",
    "                n = n + 1\n",
    "            mandelbrot_mat[y, x] = #### XXX\n",
    "    return mandelbrot_mat"
   ]
  },
  {
   "cell_type": "code",
   "execution_count": null,
   "metadata": {},
   "outputs": [],
   "source": [
    "# Un exemple de visualisation de l'ensemble de Mandelbrot:\n",
    "\n",
    "xmin, xmax, ymin, ymax = -2, 0.5, -1.25, 1.25\n",
    "max_iteration = 200 # 1000 #high resolution\n",
    "largeur, hauteur = 500, 500 # 1000 #high resolution\n",
    "mandelbrot_mat = mandelbrot_color(max_iteration, hauteur, largeur, xmin, xmax, ymin, ymax)\n",
    "fig5 = plt.figure(figsize=((6, 6)))\n",
    "plt.imshow(mandelbrot_mat)"
   ]
  },
  {
   "cell_type": "code",
   "execution_count": null,
   "metadata": {},
   "outputs": [],
   "source": []
  }
 ],
 "metadata": {
  "hide_input": false,
  "kernelspec": {
   "display_name": "Python 3",
   "language": "python",
   "name": "python3"
  },
  "language_info": {
   "codemirror_mode": {
    "name": "ipython",
    "version": 3
   },
   "file_extension": ".py",
   "mimetype": "text/x-python",
   "name": "python",
   "nbconvert_exporter": "python",
   "pygments_lexer": "ipython3",
   "version": "3.7.3"
  },
  "toc": {
   "base_numbering": 1,
   "nav_menu": {},
   "number_sections": false,
   "sideBar": true,
   "skip_h1_title": false,
   "title_cell": "Table of Contents",
   "title_sidebar": "Contents",
   "toc_cell": false,
   "toc_position": {
    "height": "calc(100% - 180px)",
    "left": "10px",
    "top": "150px",
    "width": "420.6px"
   },
   "toc_section_display": true,
   "toc_window_display": true
  }
 },
 "nbformat": 4,
 "nbformat_minor": 2
}
