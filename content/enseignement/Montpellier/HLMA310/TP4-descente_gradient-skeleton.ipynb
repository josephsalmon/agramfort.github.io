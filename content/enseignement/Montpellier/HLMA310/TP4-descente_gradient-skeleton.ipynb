{
 "cells": [
  {
   "cell_type": "markdown",
   "metadata": {},
   "source": [
    "# Descente de gradient: choix de pas, démonstration interactive\n",
    "\n",
    "***\n",
    "> __Auteur__: Alexandre Gramfort, Joseph Salmon <joseph.salmon@umontpellier.fr>"
   ]
  },
  {
   "cell_type": "markdown",
   "metadata": {},
   "source": [
    "On cherche à minimiser la fonctiont suivante:\n",
    "\n",
    "$f(x_1, x_2) = (x_1^2 + x_2 - 11)^2 + (x_1 + x_2^2 - 7)^2$\n",
    "\n",
    "**Question** : est-ce une fonction convexe?"
   ]
  },
  {
   "cell_type": "code",
   "execution_count": null,
   "metadata": {},
   "outputs": [],
   "source": [
    "import numpy as np\n",
    "\n",
    "\n",
    "def f(x):\n",
    "    x1, x2 = x\n",
    "    return (x1**2 + x2 - 11)**2 + (x1 + x2**2 - 7)**2"
   ]
  },
  {
   "cell_type": "code",
   "execution_count": null,
   "metadata": {},
   "outputs": [],
   "source": [
    "%matplotlib notebook\n",
    "import matplotlib.pyplot as plt\n",
    "import matplotlib\n",
    "cmap_reversed = matplotlib.cm.get_cmap('RdBu_r')\n",
    "from mpl_toolkits import mplot3d"
   ]
  },
  {
   "cell_type": "code",
   "execution_count": null,
   "metadata": {},
   "outputs": [],
   "source": [
    "X1, X2 = np.meshgrid(np.linspace(-5.5, 5.5, 50),\n",
    "                     np.linspace(-5.5, 5.5, 50))\n",
    "Z = f([X1, X2])  # Altitude"
   ]
  },
  {
   "cell_type": "code",
   "execution_count": null,
   "metadata": {},
   "outputs": [],
   "source": [
    "fig = plt.figure(figsize=(6, 6))\n",
    "ax = plt.axes(projection='3d')\n",
    "ax.plot_surface(X1, X2, Z, rstride=1, cstride=1,\n",
    "                cmap=cmap_reversed, edgecolor='none')\n",
    "ax.set_xlim(-5, 5)\n",
    "ax.set_ylim(-5, 5)\n",
    "ax.set_zlim(0, 500)\n",
    "plt.show()"
   ]
  },
  {
   "cell_type": "code",
   "execution_count": null,
   "metadata": {},
   "outputs": [],
   "source": [
    "def plot(xs=None, cmap=cmap_reversed):\n",
    "    levels = list(1.7 ** np.linspace(0, 10, 30) - 1.) + [300]\n",
    "    plt.figure(figsize=(5, 5))\n",
    "    plt.contourf(X1, X2, np.sqrt(Z), levels=np.sqrt(\n",
    "        levels), cmap=cmap)\n",
    "    plt.colorbar(extend='both')\n",
    "    if xs is not None:\n",
    "        x1, x2 = np.array(xs).T\n",
    "        plt.plot(x1, x2, 'k')\n",
    "        plt.plot(x1, x2, 'o', color='purple')\n",
    "    plt.show()"
   ]
  },
  {
   "cell_type": "code",
   "execution_count": null,
   "metadata": {},
   "outputs": [],
   "source": [
    "plot()"
   ]
  },
  {
   "cell_type": "code",
   "execution_count": null,
   "metadata": {},
   "outputs": [],
   "source": [
    "plot(cmap=matplotlib.cm.get_cmap('RdBu'))"
   ]
  },
  {
   "cell_type": "code",
   "execution_count": null,
   "metadata": {},
   "outputs": [],
   "source": []
  },
  {
   "cell_type": "code",
   "execution_count": null,
   "metadata": {},
   "outputs": [],
   "source": [
    "def f_grad(x):\n",
    "    x1, x2 = x\n",
    "    df_x1 = 2 * (-7 + x1 + x2**2 + 2 * x1 * (-11 + x1**2 + x2))\n",
    "    df_x2 = 2 * (-11 + x1**2 + x2 + 2 * x2 * (-7 + x1 + x2**2))\n",
    "    return np.array([df_x1, df_x2])\n",
    "\n",
    "\n",
    "x0 = [0.5, -4]\n",
    "\n",
    "\n",
    "def grad_descent(x_init=x0, step_size=0.01, max_iter=20):\n",
    "    \"\"\"Descente de gradient avec un pas constant\"\"\"\n",
    "    x = x_init\n",
    "    xs = [x]\n",
    "    for k in range(max_iter):\n",
    "        x = ### XXXX\n",
    "        xs.append(x)\n",
    "    plot(xs)\n",
    "    plt.show()\n",
    "\n",
    "\n",
    "grad_descent(x_init=x0, step_size=0.01, max_iter=20)"
   ]
  },
  {
   "cell_type": "code",
   "execution_count": null,
   "metadata": {},
   "outputs": [],
   "source": [
    "from ipywidgets import interact, fixed\n",
    "interact(grad_descent, x_init=fixed(x0), step_size=(0., .05, 0.005), max_iter=(0, 50, 1))"
   ]
  }
 ],
 "metadata": {
  "hide_input": false,
  "kernelspec": {
   "display_name": "Python 3",
   "language": "python",
   "name": "python3"
  },
  "language_info": {
   "codemirror_mode": {
    "name": "ipython",
    "version": 3
   },
   "file_extension": ".py",
   "mimetype": "text/x-python",
   "name": "python",
   "nbconvert_exporter": "python",
   "pygments_lexer": "ipython3",
   "version": "3.7.3"
  },
  "toc": {
   "base_numbering": 1,
   "nav_menu": {},
   "number_sections": false,
   "sideBar": true,
   "skip_h1_title": false,
   "title_cell": "Table of Contents",
   "title_sidebar": "Contents",
   "toc_cell": false,
   "toc_position": {},
   "toc_section_display": true,
   "toc_window_display": true
  },
  "widgets": {
   "state": {
    "35875ae153584ce7b82f11e7b02e6d5a": {
     "views": [
      {
       "cell_index": 8
      }
     ]
    }
   },
   "version": "1.2.0"
  }
 },
 "nbformat": 4,
 "nbformat_minor": 2
}
