{
 "cells": [
  {
   "cell_type": "markdown",
   "metadata": {},
   "source": [
    "# TP noté:\n",
    "\n",
    "***\n",
    "> __Auteur__: ?????\n",
    "> <???@???>"
   ]
  },
  {
   "cell_type": "markdown",
   "metadata": {},
   "source": [
    "<a id=\"sommaire\"> </a>\n",
    "## Sommaire\n",
    "\n",
    "*  __[Exercice 1: Chaînes de caractères](#Ex1)__ <br>\n",
    "*  __[Exercice 2: Jeu de la vie](#Ex2)__ <br>"
   ]
  },
  {
   "cell_type": "markdown",
   "metadata": {},
   "source": [
    "<a id=\"Ex1\"> </a>\n",
    "# Exercice 1: Chaînes de caractères\n"
   ]
  },
  {
   "cell_type": "code",
   "execution_count": null,
   "metadata": {
    "collapsed": false
   },
   "outputs": [],
   "source": [
    "# Q1 : Changer ici par votre Prenom/Nom groupe:\n",
    "prenom = \"Joseph\"  # à remplacer\n",
    "nom = \"Salmon\"  # à remplacer\n",
    "extension = \".ipynb\"\n",
    "tp = \"TP_note_HMLA310_group\"\n",
    "group = \"A\""
   ]
  },
  {
   "cell_type": "code",
   "execution_count": null,
   "metadata": {
    "collapsed": false
   },
   "outputs": [],
   "source": [
    "# Q2:\n"
   ]
  },
  {
   "cell_type": "code",
   "execution_count": null,
   "metadata": {
    "collapsed": false
   },
   "outputs": [],
   "source": [
    "# Q3:\n",
    "ma_graine = # à remplir\n",
    "print(ma_graine)"
   ]
  },
  {
   "cell_type": "markdown",
   "metadata": {},
   "source": []
  },
  {
   "cell_type": "markdown",
   "metadata": {},
   "source": [
    "<a id=\"Ex2\"> </a>\n",
    "# Exercice 2: Jeu de la vie:\n",
    "\n",
    "Le **jeu de la vie** est un automate cellulaire mis au point par le mathématicien britannique John Horton Conway en 1970. Il constitue l'exemple le plus connu d'un automate cellulaire. Le \"jeu\" est en fait un jeu à zéro joueur, ce qui signifie que son évolution est déterminée par son état initial et ne nécessite aucune intervention de la part de joueurs. On interagit avec le jeu de la vie en créant une configuration initiale; il ne reste plus alors qu'à observer son évolution.\n",
    "\n",
    "L'univers du **jeu de la vie** est une grille orthogonale bidimensionnelle infinie (dans la suite on la supposera finie pour éviter toute difficulté) de cellules carrées, chacune d'entre elles se trouvant dans l'un des deux états possibles:\n",
    "\n",
    "- vivant\n",
    "- mort\n",
    "    \n",
    "Chaque cellule interagit avec ses huit voisins, qui sont les cellules directement adjacentes horizontalement, verticalement ou en diagonale. A chaque pas dans le temps, les transitions suivantes se produisent:\n",
    "\n",
    "- Toute cellule morte ayant exactement 3 voisins vivants devient une cellule vivante (**naissance**)\n",
    "- Toute cellule vivante avec 2 ou 3 voisins vivants vit inchangée jusqu'à la génération suivante (**équilibre**)\n",
    "- Toute cellule vivante ayant 0 ou 1 voisin vivant décède (**mort par isolement**)\n",
    "- Toute cellule vivante ayant 4 voisins vivants (**mort par étouffement**)\n",
    "\n",
    "Le modèle initial constitue la \"graine\" du système. La première génération est créée en appliquant les règles ci-dessus simultanément à chaque cellule de la graine - les naissances et les décès se produisent simultanément, et le moment discret auquel cela se produit est parfois appelé une tique. (En d'autres termes, chaque génération est une fonction pure de la précédente.) Les règles continuent d'être appliquées de manière répétée pour créer d'autres générations.\n",
    "\n",
    "Plus de détails pour les curieux: https://fr.wikipedia.org/wiki/Jeu_de_la_vie"
   ]
  },
  {
   "cell_type": "markdown",
   "metadata": {},
   "source": [
    "# Imports standards"
   ]
  },
  {
   "cell_type": "code",
   "execution_count": null,
   "metadata": {
    "collapsed": false
   },
   "outputs": [],
   "source": [
    "import numpy as np\n",
    "import scipy as sp\n",
    "import matplotlib.pyplot as plt\n",
    "import time\n",
    "import matplotlib.animation as animation\n",
    "from IPython.display import HTML\n",
    "plt.set_cmap(\"gray_r\")"
   ]
  },
  {
   "cell_type": "code",
   "execution_count": null,
   "metadata": {
    "collapsed": true
   },
   "outputs": [],
   "source": [
    "# Q4"
   ]
  },
  {
   "cell_type": "code",
   "execution_count": null,
   "metadata": {
    "collapsed": true
   },
   "outputs": [],
   "source": [
    "def calcul_nb_voisins(Z):\n",
    "    forme = len(Z), len(Z[0])\n",
    "    N = [[0, ] * (forme[0]) for i in range(forme[1])]\n",
    "    for x in range(1, forme[0] - 1):\n",
    "        for y in range(1, forme[1] - 1):\n",
    "            N[x][y] = Z[x-1][y-1]+Z[x][y-1]+Z[x+1][y-1] \\\n",
    "                    + Z[x-1][y]  +             +Z[x+1][y]   \\\n",
    "                    + Z[x-1][y+1]+Z[x][y+1]+Z[x+1][y+1]\n",
    "    return N"
   ]
  },
  {
   "cell_type": "code",
   "execution_count": null,
   "metadata": {
    "collapsed": true
   },
   "outputs": [],
   "source": [
    "Z = [[0,0,0,0,0,0],\n",
    "     [0,0,0,1,0,0],\n",
    "     [0,1,0,1,0,0],\n",
    "     [0,0,1,1,0,0],\n",
    "     [0,0,0,0,0,0],\n",
    "     [0,0,0,0,0,0]]"
   ]
  },
  {
   "cell_type": "code",
   "execution_count": null,
   "metadata": {
    "collapsed": false
   },
   "outputs": [],
   "source": [
    "def iteration_jeu(Z):\n",
    "    forme = len(Z), len(Z[0])\n",
    "    N = calcul_nb_voisins(Z)\n",
    "    for x in range(1,forme[0]-1):\n",
    "        for y in range(1,forme[1]-1):\n",
    "             if Z[x][y] == 1 and (N[x][y] < 2 or N[x][y] > 3):\n",
    "                 Z[x][y] = 0\n",
    "             elif Z[x][y] == 0 and N[x][y] == 3:\n",
    "                 Z[x][y] = 1\n",
    "    return Z"
   ]
  },
  {
   "cell_type": "code",
   "execution_count": null,
   "metadata": {
    "collapsed": false
   },
   "outputs": [],
   "source": [
    "# Q5"
   ]
  },
  {
   "cell_type": "markdown",
   "metadata": {},
   "source": [
    "Rem: se rappeler que l'on utilise une bordure de largeur unitaire, qui vaut tout le temps zero tout autour de la carte. "
   ]
  },
  {
   "cell_type": "code",
   "execution_count": null,
   "metadata": {
    "collapsed": true
   },
   "outputs": [],
   "source": [
    "# Q6:"
   ]
  },
  {
   "cell_type": "code",
   "execution_count": null,
   "metadata": {
    "collapsed": true
   },
   "outputs": [],
   "source": [
    "# Q7\n",
    "vect = np.array([0,1,0,0,1,1])"
   ]
  },
  {
   "cell_type": "code",
   "execution_count": null,
   "metadata": {
    "collapsed": false
   },
   "outputs": [],
   "source": [
    "# Q8"
   ]
  },
  {
   "cell_type": "code",
   "execution_count": null,
   "metadata": {
    "collapsed": false
   },
   "outputs": [],
   "source": [
    "def calcul_nb_voisins_np(Z_np):\n",
    "    N_np = np.zeros(Z_np.shape)\n",
    "    N_np[1:-1, 1:-1] += # à remplir avec les 8 valeurs utiles\n",
    "    return N_np"
   ]
  },
  {
   "cell_type": "code",
   "execution_count": null,
   "metadata": {
    "collapsed": true
   },
   "outputs": [],
   "source": [
    "# Q9"
   ]
  },
  {
   "cell_type": "code",
   "execution_count": null,
   "metadata": {
    "collapsed": true
   },
   "outputs": [],
   "source": [
    "def iteration_jeu_np(Z_np):\n",
    "    # à remplir\n",
    "    return Z_out"
   ]
  },
  {
   "cell_type": "code",
   "execution_count": null,
   "metadata": {
    "collapsed": false
   },
   "outputs": [],
   "source": [
    "# Q10\n",
    "def jeu_np(mat_in,nb_iter):\n",
    "    # à remplir\n",
    "    return mat_out"
   ]
  },
  {
   "cell_type": "code",
   "execution_count": null,
   "metadata": {
    "collapsed": false
   },
   "outputs": [],
   "source": [
    "# Q11\n",
    "%matplotlib notebook\n",
    "fig_film1 = plt.figure()\n"
   ]
  },
  {
   "cell_type": "code",
   "execution_count": null,
   "metadata": {
    "collapsed": false
   },
   "outputs": [],
   "source": [
    "#Q12"
   ]
  },
  {
   "cell_type": "code",
   "execution_count": null,
   "metadata": {
    "collapsed": false
   },
   "outputs": [],
   "source": []
  },
  {
   "cell_type": "code",
   "execution_count": null,
   "metadata": {
    "collapsed": false
   },
   "outputs": [],
   "source": [
    "# Q13"
   ]
  },
  {
   "cell_type": "code",
   "execution_count": null,
   "metadata": {
    "collapsed": true
   },
   "outputs": [],
   "source": [
    "# Q14 Bonus: Pac man version."
   ]
  }
 ],
 "metadata": {
  "kernelspec": {
   "display_name": "Python 3",
   "language": "python",
   "name": "python3"
  },
  "language_info": {
   "codemirror_mode": {
    "name": "ipython",
    "version": 3
   },
   "file_extension": ".py",
   "mimetype": "text/x-python",
   "name": "python",
   "nbconvert_exporter": "python",
   "pygments_lexer": "ipython3",
   "version": "3.6.5"
  }
 },
 "nbformat": 4,
 "nbformat_minor": 2
}
