{
 "cells": [
  {
   "cell_type": "markdown",
   "metadata": {},
   "source": [
    "# TP2 - HMLA310: Joseph Salmon "
   ]
  },
  {
   "cell_type": "code",
   "execution_count": null,
   "metadata": {
    "collapsed": false
   },
   "outputs": [],
   "source": [
    "# Changer ici par votre Prenom Nom:\n",
    "prenom = \"Joseph\"  # à remplacer\n",
    "nom = \"Salmon\"  # à remplacer\n",
    "extension = \".ipynb\"\n",
    "tp = \"TP2_HMLA310\""
   ]
  },
  {
   "cell_type": "code",
   "execution_count": null,
   "metadata": {
    "collapsed": false
   },
   "outputs": [],
   "source": [
    "filename = \"_\".join([tp, prenom, nom]) + extension"
   ]
  },
  {
   "cell_type": "code",
   "execution_count": null,
   "metadata": {
    "collapsed": false
   },
   "outputs": [],
   "source": [
    "filename = filename.lower()\n",
    "print(filename)"
   ]
  },
  {
   "cell_type": "code",
   "execution_count": null,
   "metadata": {
    "collapsed": false
   },
   "outputs": [],
   "source": [
    "# utiliser filename pour votre nom de TP"
   ]
  },
  {
   "cell_type": "markdown",
   "metadata": {},
   "source": [
    "# Exercice 1: petit théorème de Fermat\n",
    "Le petit théorème de Fermat est un résultat connu de la théorie des nombres.\n",
    "Illustrons le dans cet exercice numériquement.\n",
    "Son énoncé est le suivant:\n",
    "\n",
    "Soit $p$ un nombre premier et $a$ un\n",
    "entier non divisible par $p$ alors $a^{p−1}  - 1 \\equiv 0 [p]$.\n",
    "\n",
    "a) Ecrire une fonction nommée 'fermat' qui prend en entrée $a$ et $p$, et qui renvoie $a^{p−1} \\textrm{ mod } p$\n",
    "\n",
    "b) Montrez que ce résultat est vrai pour $p = 13$ et $a = 16$. On testera l'égalité avec le symbole '==' et la fonction fermat.\n",
    "\n",
    "c) Créer une liste nommée 'prems', contenant les 7 premiers nombre premiers.\n",
    "\n",
    "d) Tester que le théorème est vrai pour les 7 premiers nombres premiers et pour tous les nombres $a$ plus petit que 100 satisfaisant la contrainte $a$ non divisibles par $p$. On pourra pour cela utiliser\n",
    "- la liste prems\n",
    "- deux boucles for imbriquées (dont une utilisant enumerate)\n",
    "- un test \"if\""
   ]
  },
  {
   "cell_type": "markdown",
   "metadata": {},
   "source": [
    "## Question a)"
   ]
  },
  {
   "cell_type": "code",
   "execution_count": null,
   "metadata": {
    "collapsed": false
   },
   "outputs": [],
   "source": [
    "def fermat(a, p):\n",
    "    return (a ** (p - 1)) % p"
   ]
  },
  {
   "cell_type": "markdown",
   "metadata": {},
   "source": [
    "## Question b)"
   ]
  },
  {
   "cell_type": "code",
   "execution_count": null,
   "metadata": {
    "collapsed": false
   },
   "outputs": [],
   "source": [
    "a = 6\n",
    "p = 13\n",
    "fermat(a, p) == 1"
   ]
  },
  {
   "cell_type": "markdown",
   "metadata": {},
   "source": [
    "## Question c)"
   ]
  },
  {
   "cell_type": "code",
   "execution_count": null,
   "metadata": {
    "collapsed": true
   },
   "outputs": [],
   "source": [
    "prems = [2, 3, 5, 7, 11, 13, 17]"
   ]
  },
  {
   "cell_type": "markdown",
   "metadata": {
    "collapsed": false
   },
   "source": [
    "## Question d)"
   ]
  },
  {
   "cell_type": "code",
   "execution_count": null,
   "metadata": {
    "collapsed": false
   },
   "outputs": [],
   "source": [
    "for a in range(1, 100):\n",
    "    for p in prems:\n",
    "        if a % p != 0:\n",
    "            print(a, p, fermat(a, p) == 1)"
   ]
  },
  {
   "cell_type": "code",
   "execution_count": null,
   "metadata": {
    "collapsed": true
   },
   "outputs": [],
   "source": []
  },
  {
   "cell_type": "markdown",
   "metadata": {
    "collapsed": true
   },
   "source": [
    "## Exercies: séries\n",
    "Calculez la série $\\sum_{j=0}^n r^j$ pour $r = .75$ et $n = 10, 20, 30, 40$.\n",
    "On utilisera deux méthodes :\n",
    "\n",
    "a) une solution avec une boucle sur une liste\n",
    "\n",
    "b) une solution avec la fonction sum sur un numpy array.\n",
    "\n",
    "Enfin comparez votre résultat à celui de la formule $(1 − r^{n+1} )/(1 − r)$"
   ]
  },
  {
   "cell_type": "markdown",
   "metadata": {
    "collapsed": true
   },
   "source": [
    "Solution liste: "
   ]
  },
  {
   "cell_type": "code",
   "execution_count": null,
   "metadata": {
    "collapsed": false
   },
   "outputs": [],
   "source": [
    "import numpy as np\n",
    "\n",
    "n_list = [10, 30, 40]\n",
    "\n",
    "for n in n_list:\n",
    "    print('cas n = {} :'.format(n))\n",
    "    liste = list(range(n + 1))\n",
    "    Somme = 0\n",
    "    r = .75\n",
    "    for j in liste:\n",
    "        Somme += (r ** j)\n",
    "    print(\"Somme par liste       : {}\".format(Somme))\n",
    "    np_array = np.arange(n + 1)\n",
    "    Somme_numpy = np.sum(r ** np_array)\n",
    "    print(\"Somme par numpy       : {}\".format(Somme_numpy))\n",
    "    print(\"Somme formule de Gauss: {}\".format((1 - r ** (n + 1)) / (1 - r)))\n",
    "    print('\\n')"
   ]
  },
  {
   "cell_type": "markdown",
   "metadata": {},
   "source": [
    "# Exercice 3: gymnastique de création de matrices/vecteurs\n",
    "Créer les vecteurs et matrices suivants sans renter les valeurs une à une:\n",
    "\n",
    "a) array([1., 1., 1.]) (dont la taille est (3,) ) \n",
    "\n",
    "b) array([[1., 1., 1.]]) (dont la taille est (3,1) ) \n",
    "\n",
    "c) array([1, 2, 3])\n",
    "\n",
    "d) array([ 2,  1,  0, -1, -2])\n",
    "\n",
    "e) array([1, 2, 3, 1, 2, 3])\n",
    "\n",
    "f) array([[1, 2, 3],\n",
    "       [4, 5, 6]])\n",
    "\n",
    "g) array([[0., 0., 0., 0., 0., 0.],\n",
    "       [1., 0., 0., 0., 0., 0.],\n",
    "       [0., 1., 0., 0., 0., 0.],\n",
    "       [0., 0., 1., 0., 0., 0.],\n",
    "       [0., 0., 0., 1., 0., 0.],\n",
    "       [0., 0., 0., 0., 1., 0.]])"
   ]
  },
  {
   "cell_type": "markdown",
   "metadata": {},
   "source": [
    "## Question a)"
   ]
  },
  {
   "cell_type": "code",
   "execution_count": null,
   "metadata": {
    "collapsed": false
   },
   "outputs": [],
   "source": [
    "np.ones(3,)"
   ]
  },
  {
   "cell_type": "markdown",
   "metadata": {},
   "source": [
    "## Question b)"
   ]
  },
  {
   "cell_type": "code",
   "execution_count": null,
   "metadata": {
    "collapsed": false
   },
   "outputs": [],
   "source": [
    "np.ones((1,3))"
   ]
  },
  {
   "cell_type": "markdown",
   "metadata": {},
   "source": [
    "## Question c)"
   ]
  },
  {
   "cell_type": "code",
   "execution_count": null,
   "metadata": {
    "collapsed": false
   },
   "outputs": [],
   "source": [
    "np.arange(1,4)"
   ]
  },
  {
   "cell_type": "markdown",
   "metadata": {},
   "source": [
    "## Question d)"
   ]
  },
  {
   "cell_type": "code",
   "execution_count": null,
   "metadata": {
    "collapsed": false
   },
   "outputs": [],
   "source": [
    "np.arange(2,-3,-1)"
   ]
  },
  {
   "cell_type": "markdown",
   "metadata": {},
   "source": [
    "## Question e)"
   ]
  },
  {
   "cell_type": "code",
   "execution_count": null,
   "metadata": {
    "collapsed": false
   },
   "outputs": [],
   "source": [
    "np.hstack((np.arange(1,4),np.arange(1,4)))"
   ]
  },
  {
   "cell_type": "markdown",
   "metadata": {},
   "source": [
    "## Question f)"
   ]
  },
  {
   "cell_type": "code",
   "execution_count": null,
   "metadata": {
    "collapsed": false
   },
   "outputs": [],
   "source": [
    "np.reshape(np.arange(1,7,1), newshape=(2,3))"
   ]
  },
  {
   "cell_type": "markdown",
   "metadata": {},
   "source": [
    "## Question g)"
   ]
  },
  {
   "cell_type": "code",
   "execution_count": null,
   "metadata": {
    "collapsed": false
   },
   "outputs": [],
   "source": [
    "np.diag(np.ones(5), k = -1)"
   ]
  },
  {
   "cell_type": "markdown",
   "metadata": {},
   "source": [
    "# Exercice: Fibonacci \n",
    "On se propose de faire l'étude de cette suite et de comparer l'efficacité en mémoire et en temps, en passant par des boucles et des listes, ou bien par un modèle matriciel."
   ]
  },
  {
   "cell_type": "code",
   "execution_count": null,
   "metadata": {
    "collapsed": true
   },
   "outputs": [],
   "source": [
    "def fibonacci_naive(n):\n",
    "    if n == 0:\n",
    "        return 0\n",
    "    elif n == 1:\n",
    "        return 1\n",
    "    else:\n",
    "        return fibonacci_naive(n - 1) + fibonacci_naive(n - 2)"
   ]
  },
  {
   "cell_type": "code",
   "execution_count": null,
   "metadata": {
    "collapsed": false
   },
   "outputs": [],
   "source": [
    "%load_ext memory_profiler"
   ]
  },
  {
   "cell_type": "code",
   "execution_count": null,
   "metadata": {
    "collapsed": false
   },
   "outputs": [],
   "source": [
    "%timeit fibonacci_naive(35)\n",
    "%memit fibonacci_naive(35)"
   ]
  },
  {
   "cell_type": "markdown",
   "metadata": {},
   "source": [
    "# implémentation avec deux variables intermédiaires:"
   ]
  },
  {
   "cell_type": "code",
   "execution_count": null,
   "metadata": {
    "collapsed": true
   },
   "outputs": [],
   "source": [
    "def fibonacci_variables(n):\n",
    "    if n == 0:\n",
    "        return 0\n",
    "    elif n == 1:\n",
    "        return 1\n",
    "    a = 0\n",
    "    b = 1\n",
    "    for i in range(0, n - 1):\n",
    "        b = a + b\n",
    "        a = b - a\n",
    "    return b"
   ]
  },
  {
   "cell_type": "code",
   "execution_count": null,
   "metadata": {
    "collapsed": false
   },
   "outputs": [],
   "source": [
    "%timeit fibonacci_variables(35)\n",
    "%memit fibonacci_variables(35)"
   ]
  },
  {
   "cell_type": "code",
   "execution_count": null,
   "metadata": {
    "collapsed": true
   },
   "outputs": [],
   "source": []
  },
  {
   "cell_type": "code",
   "execution_count": null,
   "metadata": {
    "collapsed": true
   },
   "outputs": [],
   "source": [
    "def fibonacci_list(n):\n",
    "    l = [0, 1]\n",
    "    if n == 0:\n",
    "        return l[0]\n",
    "    elif n == 1:\n",
    "        return l\n",
    "    a = 0\n",
    "    b = 1\n",
    "    for i in range(0, n - 1):\n",
    "        b = a + b\n",
    "        a = b - a\n",
    "        l.append(b)\n",
    "    return l"
   ]
  },
  {
   "cell_type": "code",
   "execution_count": null,
   "metadata": {
    "collapsed": false
   },
   "outputs": [],
   "source": [
    "fibonacci_list(35)"
   ]
  },
  {
   "cell_type": "code",
   "execution_count": null,
   "metadata": {
    "collapsed": false
   },
   "outputs": [],
   "source": [
    "%timeit fibonacci_list(35)\n",
    "%memit fibonacci_list(35)"
   ]
  },
  {
   "cell_type": "markdown",
   "metadata": {},
   "source": [
    "# Implémentation avec cache"
   ]
  },
  {
   "cell_type": "code",
   "execution_count": null,
   "metadata": {
    "collapsed": false
   },
   "outputs": [],
   "source": [
    "from functools import lru_cache\n",
    "\n",
    "\n",
    "@lru_cache(maxsize=None)\n",
    "def fibonacci_cache(n):\n",
    "    if n < 2:\n",
    "        return n\n",
    "    return fibonacci_cache(n - 1) + fibonacci_cache(n - 2)"
   ]
  },
  {
   "cell_type": "code",
   "execution_count": null,
   "metadata": {
    "collapsed": true
   },
   "outputs": [],
   "source": []
  },
  {
   "cell_type": "code",
   "execution_count": null,
   "metadata": {
    "collapsed": false
   },
   "outputs": [],
   "source": [
    "%timeit fibonacci_cache(35)\n",
    "%memit fibonacci_cache(35)"
   ]
  },
  {
   "cell_type": "markdown",
   "metadata": {},
   "source": [
    "# Implémentation avec *numpy*"
   ]
  },
  {
   "cell_type": "code",
   "execution_count": null,
   "metadata": {
    "collapsed": true
   },
   "outputs": [],
   "source": [
    "import numpy as np\n",
    "\n",
    "\n",
    "def fibonacci_numpy(n):\n",
    "    F = [[1, 1], [1, 0]]\n",
    "    return np.linalg.matrix_power(F, n)[0, 1]"
   ]
  },
  {
   "cell_type": "code",
   "execution_count": null,
   "metadata": {
    "collapsed": false
   },
   "outputs": [],
   "source": [
    "%timeit fibonacci_numpy(35)\n",
    "%memit fibonacci_numpy(35)"
   ]
  },
  {
   "cell_type": "code",
   "execution_count": null,
   "metadata": {
    "collapsed": false
   },
   "outputs": [],
   "source": []
  },
  {
   "cell_type": "code",
   "execution_count": null,
   "metadata": {
    "collapsed": true
   },
   "outputs": [],
   "source": []
  }
 ],
 "metadata": {
  "kernelspec": {
   "display_name": "Python 3",
   "language": "python",
   "name": "python3"
  },
  "language_info": {
   "codemirror_mode": {
    "name": "ipython",
    "version": 3
   },
   "file_extension": ".py",
   "mimetype": "text/x-python",
   "name": "python",
   "nbconvert_exporter": "python",
   "pygments_lexer": "ipython3",
   "version": "3.6.5"
  }
 },
 "nbformat": 4,
 "nbformat_minor": 2
}
