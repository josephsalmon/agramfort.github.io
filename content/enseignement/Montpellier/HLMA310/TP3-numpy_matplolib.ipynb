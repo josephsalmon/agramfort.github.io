{
 "cells": [
  {
   "cell_type": "markdown",
   "metadata": {},
   "source": [
    "# TP3 - HMLA310:\n",
    "Joseph Salmon "
   ]
  },
  {
   "cell_type": "code",
   "execution_count": null,
   "metadata": {
    "collapsed": true
   },
   "outputs": [],
   "source": [
    "import os\n",
    "import sys\n",
    "# utile pour avoir un affichage identique dans divers notebook\n",
    "sys.path.append(\"./codes\")\n",
    "\n",
    "import numpy as np\n",
    "import matplotlib.pyplot as plt\n",
    "\n",
    "# commande \"magique\" pour améliorer la visualiation\n",
    "%matplotlib notebook\n",
    "# %matplotlib inline"
   ]
  },
  {
   "cell_type": "code",
   "execution_count": null,
   "metadata": {
    "collapsed": false
   },
   "outputs": [],
   "source": [
    "# Changer ici par votre Prenom Nom:\n",
    "prenom = \"Joseph\"  # à remplacer\n",
    "nom = \"Salmon\"  # à remplacer\n",
    "extension = \".ipynb\"\n",
    "tp = \"TP3_HMLA310\""
   ]
  },
  {
   "cell_type": "code",
   "execution_count": null,
   "metadata": {
    "collapsed": false
   },
   "outputs": [],
   "source": [
    "filename = \"_\".join([tp, prenom, nom]) + extension"
   ]
  },
  {
   "cell_type": "code",
   "execution_count": null,
   "metadata": {
    "collapsed": false
   },
   "outputs": [],
   "source": [
    "filename = filename.lower()\n",
    "print(filename)"
   ]
  },
  {
   "cell_type": "code",
   "execution_count": null,
   "metadata": {
    "collapsed": false
   },
   "outputs": [],
   "source": [
    "# utiliser filename pour votre nom de TP"
   ]
  },
  {
   "cell_type": "markdown",
   "metadata": {},
   "source": [
    "#  Création d'une fonction pour calculer la matrice de la population."
   ]
  },
  {
   "cell_type": "code",
   "execution_count": null,
   "metadata": {
    "collapsed": false
   },
   "outputs": [],
   "source": [
    "def population_array(n, pop_init, tau_0, tau_1):\n",
    "    total_pop = np.zeros((n + 1, 2))\n",
    "    total_pop[0, :] = pop_init\n",
    "    Mat = np.array([[(1 - tau_0), tau_1], [tau_0, (1 - tau_1)]])\n",
    "    if n == 0:\n",
    "        return total_pop\n",
    "    else:\n",
    "        for i in range(0, n):\n",
    "            total_pop[i + 1, :] = Mat.dot(total_pop[i, :])\n",
    "    return total_pop, Mat"
   ]
  },
  {
   "cell_type": "code",
   "execution_count": null,
   "metadata": {
    "collapsed": false
   },
   "outputs": [],
   "source": [
    "u_0 = 51\n",
    "r_0 = 9.\n",
    "pop_init = np.array([r_0, u_0])\n",
    "tau_0 = 0.3  # taux d'exode rural\n",
    "tau_1 = 0.1  # taux d'exode urbain\n",
    "n = 10\n",
    "pop, Mat = population_array(n, pop_init, tau_0, tau_1)\n",
    "annee = np.arange(0, n + 1)"
   ]
  },
  {
   "cell_type": "code",
   "execution_count": null,
   "metadata": {
    "collapsed": false
   },
   "outputs": [],
   "source": [
    "fig = plt.figure(figsize=(6, 4))\n",
    "plt.plot(annee,pop)\n",
    "plt.title('Évolution de la population')\n",
    "plt.xlabel('Années')\n",
    "plt.ylim(0, 70)     # set the xlim to left, right\n",
    "plt.xlim(0, n)     # set the xlim to left, right\n",
    "plt.ylabel('Population (en M)')\n",
    "plt.legend(['Ruraux', 'Urbain'])"
   ]
  },
  {
   "cell_type": "code",
   "execution_count": null,
   "metadata": {
    "collapsed": true
   },
   "outputs": [],
   "source": [
    "total = np.sum(pop,axis=1)"
   ]
  },
  {
   "cell_type": "code",
   "execution_count": null,
   "metadata": {
    "collapsed": false
   },
   "outputs": [],
   "source": [
    "plt.plot(annee, total)\n",
    "plt.legend(['Ruraux', 'Urbain', 'Total'])"
   ]
  },
  {
   "cell_type": "code",
   "execution_count": null,
   "metadata": {
    "collapsed": false
   },
   "outputs": [],
   "source": [
    "fig2 = plt.figure(figsize=(6, 4))\n",
    "plt.plot(annee, pop)\n",
    "plt.plot(annee, total, color='k')\n",
    "\n",
    "cycle = plt.rcParams['axes.prop_cycle'].by_key()['color']\n",
    "plt.title('Évolution de la population')\n",
    "plt.xlabel('Années')\n",
    "plt.ylim(0, 60)     # set the xlim to left, right\n",
    "plt.xlim(0, n)     # set the xlim to left, right\n",
    "plt.ylabel('Population (en M)')\n",
    "plt.plot()\n",
    "\n",
    "plt.fill_between(annee, np.zeros(n + 1),\n",
    "                 pop[:, 0], color=cycle[0], label='Ruraux')\n",
    "plt.fill_between(annee, pop[:, 0], total, color=cycle[1],\n",
    "                 label='Urbains')\n",
    "plt.legend()\n",
    "fig2.savefig(\"challenge_to_reproduce.pdf\", format='pdf')"
   ]
  },
  {
   "cell_type": "markdown",
   "metadata": {},
   "source": [
    "# Compréhension du système et valeurs propres:"
   ]
  },
  {
   "cell_type": "code",
   "execution_count": null,
   "metadata": {
    "collapsed": false
   },
   "outputs": [],
   "source": [
    "np.linalg.matrix_power(Mat,1000)"
   ]
  },
  {
   "cell_type": "code",
   "execution_count": null,
   "metadata": {
    "collapsed": false
   },
   "outputs": [],
   "source": [
    "np.linalg.matrix_power(Mat,1000) @ pop_init"
   ]
  },
  {
   "cell_type": "markdown",
   "metadata": {},
   "source": [
    "# Décomposition spectrale:"
   ]
  },
  {
   "cell_type": "code",
   "execution_count": null,
   "metadata": {
    "collapsed": false
   },
   "outputs": [],
   "source": [
    "eig_val, eig_vec = np.linalg.eig(Mat)"
   ]
  },
  {
   "cell_type": "code",
   "execution_count": null,
   "metadata": {
    "collapsed": false
   },
   "outputs": [],
   "source": [
    "eig_val"
   ]
  },
  {
   "cell_type": "code",
   "execution_count": null,
   "metadata": {
    "collapsed": false
   },
   "outputs": [],
   "source": [
    "eig_vec"
   ]
  },
  {
   "cell_type": "code",
   "execution_count": null,
   "metadata": {
    "collapsed": false
   },
   "outputs": [],
   "source": [
    "np.allclose(Mat, (eig_vec) @\n",
    "            np.diag(eig_val) @ np.linalg.inv(eig_vec))"
   ]
  },
  {
   "cell_type": "markdown",
   "metadata": {},
   "source": [
    "# Matrice à convergence"
   ]
  },
  {
   "cell_type": "code",
   "execution_count": null,
   "metadata": {
    "collapsed": false
   },
   "outputs": [],
   "source": []
  },
  {
   "cell_type": "code",
   "execution_count": null,
   "metadata": {
    "collapsed": false
   },
   "outputs": [],
   "source": [
    "np.linalg.matrix_power(Mat,1000)"
   ]
  },
  {
   "cell_type": "code",
   "execution_count": null,
   "metadata": {
    "collapsed": false
   },
   "outputs": [],
   "source": [
    "np.allclose(np.linalg.matrix_power(Mat, 1000), (eig_vec) @\n",
    "            np.diag(eig_val ** 1000) @ np.linalg.inv(eig_vec))"
   ]
  },
  {
   "cell_type": "code",
   "execution_count": null,
   "metadata": {
    "collapsed": false
   },
   "outputs": [],
   "source": [
    "np.linalg.matrix_power(Mat,1000) @ pop_init"
   ]
  },
  {
   "cell_type": "code",
   "execution_count": null,
   "metadata": {
    "collapsed": false
   },
   "outputs": [],
   "source": [
    "(eig_vec) @ np.diag([0., 1.]) @ np.linalg.inv(eig_vec)"
   ]
  },
  {
   "cell_type": "code",
   "execution_count": null,
   "metadata": {
    "collapsed": false
   },
   "outputs": [],
   "source": []
  },
  {
   "cell_type": "markdown",
   "metadata": {
    "collapsed": true
   },
   "source": [
    "# Mandelbrot"
   ]
  },
  {
   "cell_type": "code",
   "execution_count": null,
   "metadata": {
    "collapsed": false
   },
   "outputs": [],
   "source": [
    "#  Paramètres pour l'affichage:\n",
    "#  équivalent de plt.axis('off') pour toutes les images\n",
    "import matplotlib as mpl\n",
    "mpl.rc('axes.spines', top=False, bottom=False, left=False, right=False)\n",
    "mpl.rc(('xtick', 'ytick'), color=(1, 1, 1, 0))"
   ]
  },
  {
   "cell_type": "code",
   "execution_count": null,
   "metadata": {
    "collapsed": false
   },
   "outputs": [],
   "source": [
    "def mandelbrot(max_iteration, hauteur, largeur, xmin, xmax, ymin, ymax):\n",
    "    \"\"\"Création de l'ensemble de Mandelbrot.\"\"\"\n",
    "    mandelbrot_mat = np.zeros((largeur, hauteur))\n",
    "    for x in range(hauteur):\n",
    "        print('{}/{}'.format(x, hauteur))\n",
    "        cx = (x * (xmax - xmin) / hauteur + xmin)\n",
    "        for y in range(largeur):\n",
    "            cy = (y * (ymin - ymax) / largeur + ymax)\n",
    "            xn, yn, n = 0, 0, 0\n",
    "            while (xn**2 + yn**2) < 4 and n < max_iteration:\n",
    "                tmp_x, tmp_y = xn, yn\n",
    "                xn = tmp_x**2 - tmp_y**2 + cx\n",
    "                yn = 2 * tmp_x * tmp_y + cy\n",
    "                n = n + 1\n",
    "            if n < max_iteration:\n",
    "                mandelbrot_mat[y, x] = 1.\n",
    "    return mandelbrot_mat"
   ]
  },
  {
   "cell_type": "code",
   "execution_count": null,
   "metadata": {
    "collapsed": false
   },
   "outputs": [],
   "source": [
    "# Un exemple de visualisation de l'ensemble de Mandelbrot:\n",
    "\n",
    "xmin, xmax, ymin, ymax = -2, 0.5, -1.25, 1.25\n",
    "max_iteration = 100 # 1000 #high resolution\n",
    "largeur, hauteur = 500, 500 # 1000 #high resolution\n",
    "mandelbrot_mat = mandelbrot(max_iteration, hauteur, largeur, xmin, xmax, ymin, ymax)"
   ]
  },
  {
   "cell_type": "code",
   "execution_count": null,
   "metadata": {
    "collapsed": false
   },
   "outputs": [],
   "source": [
    "fig3 = plt.figure(figsize=((6, 6)))\n",
    "plt.imshow(mandelbrot_mat)\n",
    "# for saving:\n",
    "# fig3.savefig(\"Mandelbrot.pdf\", bbox_inches='tight',\n",
    "#              pad_inches=0, transparent=True, format='pdf')"
   ]
  },
  {
   "cell_type": "markdown",
   "metadata": {},
   "source": [
    "# Impact du nombre d'itérations:"
   ]
  },
  {
   "cell_type": "code",
   "execution_count": null,
   "metadata": {
    "collapsed": false
   },
   "outputs": [],
   "source": [
    "fig4 = plt.figure(figsize=((6, 2)))\n",
    "max_iterations = [1, 2, 5, 10, 20, 50, 100]\n",
    "largeur, hauteur = 1000, 1000  # taille de la fenêtre en pixels\n",
    "nb_iterations = len(max_iterations)\n",
    "mandelbrot_mats = np.zeros((largeur, hauteur, nb_iterations))\n",
    "\n",
    "for row, max_iteration in enumerate(max_iterations):\n",
    "    print('{}/{}'.format(row, nb_iterations))\n",
    "    mandelbrot_mats[:, :, row] = mandelbrot(\n",
    "        max_iteration, hauteur, largeur, xmin, xmax, ymin, ymax)"
   ]
  },
  {
   "cell_type": "code",
   "execution_count": null,
   "metadata": {
    "collapsed": false
   },
   "outputs": [],
   "source": [
    "for row, max_iteration in enumerate(max_iterations):\n",
    "    plt.figure(figsize=(4,4))\n",
    "    plt.imshow(mandelbrot_mats[:,:,row])\n",
    "    plt.show()"
   ]
  },
  {
   "cell_type": "code",
   "execution_count": null,
   "metadata": {
    "collapsed": false
   },
   "outputs": [],
   "source": []
  },
  {
   "cell_type": "code",
   "execution_count": null,
   "metadata": {
    "collapsed": false
   },
   "outputs": [],
   "source": [
    "def mandelbrot_color(max_iteration, hauteur, largeur, xmin, xmax, ymin, ymax):\n",
    "    \"\"\"Création de l'ensemble de Mandelbrot.\"\"\"\n",
    "    mandelbrot_mat = np.zeros((largeur, hauteur))\n",
    "    for x in range(hauteur):\n",
    "        print('{}/{}'.format(x, hauteur))\n",
    "        cx = (x * (xmax - xmin) / hauteur + xmin)\n",
    "        for y in range(largeur):\n",
    "            cy = (y * (ymin - ymax) / largeur + ymax)\n",
    "            xn, yn, n = 0, 0, 0\n",
    "            while (xn**2 + yn**2) < 4 and n < max_iteration:\n",
    "                tmp_x, tmp_y = xn, yn\n",
    "                xn = tmp_x**2 - tmp_y**2 + cx\n",
    "                yn = 2 * tmp_x * tmp_y + cy\n",
    "                n = n + 1\n",
    "            mandelbrot_mat[y, x] = max_iteration - n\n",
    "    return mandelbrot_mat"
   ]
  },
  {
   "cell_type": "code",
   "execution_count": null,
   "metadata": {
    "collapsed": false
   },
   "outputs": [],
   "source": [
    "# Un exemple de visualisation de l'ensemble de Mandelbrot:\n",
    "\n",
    "xmin, xmax, ymin, ymax = -2, 0.5, -1.25, 1.25\n",
    "max_iteration = 200 # 1000 #high resolution\n",
    "largeur, hauteur = 500, 500 # 1000 #high resolution\n",
    "mandelbrot_mat = mandelbrot_color(max_iteration, hauteur, largeur, xmin, xmax, ymin, ymax)\n",
    "fig5 = plt.figure(figsize=((6, 6)))\n",
    "plt.imshow(mandelbrot_mat)\n",
    "\n",
    "# # for saving:\n",
    "# fig5.savefig(\"Mandelbrot_color.pdf\", bbox_inches='tight',\n",
    "#              pad_inches=0, transparent=True, format='pdf')"
   ]
  }
 ],
 "metadata": {
  "kernelspec": {
   "display_name": "Python 3",
   "language": "python",
   "name": "python3"
  },
  "language_info": {
   "codemirror_mode": {
    "name": "ipython",
    "version": 3
   },
   "file_extension": ".py",
   "mimetype": "text/x-python",
   "name": "python",
   "nbconvert_exporter": "python",
   "pygments_lexer": "ipython3",
   "version": "3.6.5"
  }
 },
 "nbformat": 4,
 "nbformat_minor": 2
}
