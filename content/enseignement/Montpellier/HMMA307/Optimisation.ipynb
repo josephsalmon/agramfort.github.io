{
 "cells": [
  {
   "cell_type": "markdown",
   "metadata": {},
   "source": [
    "# Optimisation convexe avec contraintes"
   ]
  },
  {
   "cell_type": "markdown",
   "metadata": {},
   "source": [
    "### Importation des packages utiles :"
   ]
  },
  {
   "cell_type": "code",
   "execution_count": 1,
   "metadata": {},
   "outputs": [],
   "source": [
    "import numpy as np\n",
    "import cvxpy as cp\n",
    "import pylab as py"
   ]
  },
  {
   "cell_type": "markdown",
   "metadata": {},
   "source": [
    "### Optimisation convexe dans le cas où nous devons obligatoirement passer par tous les points :"
   ]
  },
  {
   "cell_type": "code",
   "execution_count": 2,
   "metadata": {},
   "outputs": [
    {
     "data": {
      "text/plain": [
       "(0.6751152977109317,\n",
       " 7.822578748070432,\n",
       " -0.16561151576295255,\n",
       " 3.158839899233474)"
      ]
     },
     "execution_count": 2,
     "metadata": {},
     "output_type": "execute_result"
    },
    {
     "data": {
      "image/png": "[encoded data removed]",
      "text/plain": [
       "<Figure size 432x288 with 1 Axes>"
      ]
     },
     "metadata": {
      "needs_background": "light"
     },
     "output_type": "display_data"
    }
   ],
   "source": [
    "k = 4            # nombre de points de passage\n",
    "T = np.zeros(k, int)   # vecteur des temps de passage\n",
    "xw = np.zeros(k)  # vecteur des coordonnées des points de passage obligatoires\n",
    "\n",
    "# On définit les différents temps de passage\n",
    "T[0] = 1\n",
    "T[1] = 20\n",
    "T[2] = 50\n",
    "T[3] = 60\n",
    "\n",
    "# On définit les coordonnées des points de passage obligatoires\n",
    "xw = np.array([[1, 4, 6, 1], [1, 3, 0, 1]])\n",
    "\n",
    "# On crée les variables u (le coût du déplacement),\n",
    "# x (la position de l'aéroglisseur), et v (la vitesse).\n",
    "u = cp.Variable(shape=(2, T[k-1]))\n",
    "x = cp.Variable(shape=(2, T[k-1]))\n",
    "v = cp.Variable(shape=(2, T[k-1]))\n",
    "\n",
    "\n",
    "# On définit les contraintes :\n",
    "\n",
    "contraintes = []\n",
    "\n",
    "for i in range(0, T[k-1]-1):\n",
    "    contraintes += [\n",
    "        x[:, i + 1] == x[:, i] + v[:, i],\n",
    "        v[:, i + 1] == v[:, i] + u[:, i]\n",
    "    ]\n",
    "\n",
    "# xti=wi car nous sommes dans le cas où nous devons passer exatement\n",
    "# sur les points\n",
    "for i in range(0, k):\n",
    "    contraintes += [xw[:, i] == x[:, T[i] - 1]]\n",
    "\n",
    "# On minimise la somme des u^2 :\n",
    "\n",
    "objective = cp.Minimize(cp.sum(u**2))\n",
    "prob = cp.Problem(objective, contraintes)\n",
    "prob.solve()\n",
    "\n",
    "# On trace le trajet passant par tous les points et minimisant\n",
    "# le coût du déplacement :\n",
    "\n",
    "py.plot(x.value[0, :], x.value[1, :], \"b.-\", markersize=4)\n",
    "py.plot(x.value[0, :][T[0:k-1]-1], x.value[1, :][T[0:k-1]-1], \"b.\",\n",
    "        markersize=12)\n",
    "py.plot(xw[0, :], xw[1, :], \"r.\", markersize=12)\n",
    "py.axis(\"equal\")\n"
   ]
  },
  {
   "cell_type": "markdown",
   "metadata": {},
   "source": [
    "### Optimisation convexe dans le cas où nous sommes autorisés à manquer certains points :"
   ]
  },
  {
   "cell_type": "code",
   "execution_count": 3,
   "metadata": {},
   "outputs": [
    {
     "data": {
      "image/png": "[encoded data removed]",
      "text/plain": [
       "<Figure size 432x288 with 1 Axes>"
      ]
     },
     "metadata": {
      "needs_background": "light"
     },
     "output_type": "display_data"
    }
   ],
   "source": [
    "k = 4            # nombre de points de passage\n",
    "T = np.zeros(k, int)   # vecteur des temps de passage\n",
    "xw = np.zeros(k)    # vecteur des coordonnées des points de passage souhaités\n",
    "\n",
    "# On définit les différents temps de passage\n",
    "T[0] = 1\n",
    "T[1] = 20\n",
    "T[2] = 50\n",
    "T[3] = 60\n",
    "\n",
    "# On définit les coordonnées des points de passage souhaités\n",
    "xw = np.array([[1, 4, 6, 1], [1, 3, 0, 1]])\n",
    "\n",
    "# On crée les variables u (le coût du déplacement),\n",
    "# x (la position de l'aéroglisseur), et v (la vitesse).\n",
    "u = cp.Variable(shape=(2, T[k-1]))\n",
    "x = cp.Variable(shape=(2, T[k-1]))\n",
    "v = cp.Variable(shape=(2, T[k-1]))\n",
    "\n",
    "\n",
    "# On crée une fonction de paramètre lambda :\n",
    "def optimisation_convexe(Lambda):\n",
    "\n",
    "    # On définit les contraintes :\n",
    "\n",
    "    contraintes = []\n",
    "\n",
    "    for i in range(0, T[k-1]-1):\n",
    "        contraintes += [\n",
    "            x[:, i+1] == x[:, i] + v[:, i],\n",
    "            v[:, i+1] == v[:, i] + u[:, i]\n",
    "        ]\n",
    "\n",
    "    # On passe exactement sur le premier point de passage uniquement\n",
    "    # (on s'autorise un écart sur les autres) :\n",
    "    contraintes += [xw[:, 0] == x[:, T[0]-1]]\n",
    "\n",
    "    # On minimise la somme des u^2 + Lambda * (somme des xti - wi)^2 :\n",
    "\n",
    "    objective = cp.Minimize(cp.sum_squares(u) +\n",
    "                            Lambda*cp.sum_squares((x[:, T[0:k]-1] -\n",
    "                                                   xw[:, 0:k])))\n",
    "    prob = cp.Problem(objective, contraintes)\n",
    "    prob.solve()\n",
    "\n",
    "    # On trace le trajet minimisant le coût du déplacement en s'autorisant\n",
    "    # quelques écarts aux points de passages :\n",
    "\n",
    "    py.plot(x.value[0, :], x.value[1, :], \"b.-\", markersize=4)\n",
    "    py.plot(x.value[0, :][T[0:k]-1],\n",
    "            x.value[1, :][T[0:k]-1], \"b.\", markersize=12)\n",
    "    py.plot(xw[0, :], xw[1, :], \"r.\", markersize=12)\n",
    "    py.axis(\"equal\")\n",
    "\n",
    "# On appelle la fonction optimisation_convexe et on choisit la\n",
    "# valeur de lambda (ici 0.01) :\n",
    "optimisation_convexe(0.01)\n"
   ]
  }
 ],
 "metadata": {
  "hide_input": false,
  "kernelspec": {
   "display_name": "Python 3",
   "language": "python",
   "name": "python3"
  },
  "language_info": {
   "codemirror_mode": {
    "name": "ipython",
    "version": 3
   },
   "file_extension": ".py",
   "mimetype": "text/x-python",
   "name": "python",
   "nbconvert_exporter": "python",
   "pygments_lexer": "ipython3",
   "version": "3.7.3"
  },
  "toc": {
   "base_numbering": 1,
   "nav_menu": {},
   "number_sections": false,
   "sideBar": true,
   "skip_h1_title": false,
   "title_cell": "Table of Contents",
   "title_sidebar": "Contents",
   "toc_cell": false,
   "toc_position": {},
   "toc_section_display": true,
   "toc_window_display": true
  }
 },
 "nbformat": 4,
 "nbformat_minor": 2
}
