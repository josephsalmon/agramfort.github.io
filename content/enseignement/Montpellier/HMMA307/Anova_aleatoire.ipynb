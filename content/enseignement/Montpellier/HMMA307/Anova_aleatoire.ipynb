{
 "cells": [
  {
   "cell_type": "markdown",
   "metadata": {},
   "source": [
    "# Estimateur de Ridge pour restreindre la variance :\n",
    ">__Auteurs__:  Joly Julien , Mohamed Sahardid et Anas El Benna"
   ]
  },
  {
   "cell_type": "markdown",
   "metadata": {},
   "source": [
    "Avant toutes choses, nous commençons par importer les packages qui vont nous êtres nécessaires et nous récupérons les données grâce au code de nos camarades Arielle Gantelet, Vitus Kirchberger et Samuel Valiquette."
   ]
  },
  {
   "cell_type": "code",
   "execution_count": 1,
   "metadata": {},
   "outputs": [],
   "source": [
    "import os\n",
    "import numpy as np\n",
    "import matplotlib.pyplot as plt\n",
    "import seaborn as sns\n",
    "import pandas as pd\n",
    "import statsmodels.api as sm\n",
    "from sklearn.linear_model import RidgeCV, Ridge\n",
    "from pathlib import Path\n",
    "from statsmodels.formula.api import ols\n",
    "import sys\n",
    "\n",
    "sys.path.append(\"./codes\")\n",
    "plt.rcParams.update({'figure.max_open_warning': 25})\n",
    "%matplotlib notebook\n",
    "directory = Path.cwd()\n",
    "directory = directory.joinpath('prebuiltimages')\n",
    "\n",
    "\n",
    "def my_saving_display(fig, directory, image_name, imageformat=\"pdf\",\n",
    "                      saving=False):\n",
    "\n",
    "    \"\"\"\"Saving with personal function.\"\"\"\n",
    "    if saving is True:\n",
    "        fig.savefig(directory.joinpath(image_name + '.' + imageformat),\n",
    "                    format=imageformat)\n"
   ]
  },
  {
   "cell_type": "code",
   "execution_count": 2,
   "metadata": {},
   "outputs": [
    {
     "name": "stdout",
     "output_type": "stream",
     "text": [
      "Downloading data from http://josephsalmon.eu/enseignement/datasets/Mesure_journaliere_Region_Occitanie_Polluants_Principaux.csv (5.3 MB)\n",
      "\n"
     ]
    },
    {
     "name": "stderr",
     "output_type": "stream",
     "text": [
      "file_sizes: 100%|██████████████████████████| 5.59M/5.59M [00:02<00:00, 1.89MB/s]"
     ]
    },
    {
     "name": "stdout",
     "output_type": "stream",
     "text": [
      "Successfully downloaded file to datasets/Mesure_journaliere_Region_Occitanie_Polluants_Principaux.csv\n"
     ]
    },
    {
     "name": "stderr",
     "output_type": "stream",
     "text": [
      "\n"
     ]
    },
    {
     "data": {
      "text/plain": [
       "'datasets/Mesure_journaliere_Region_Occitanie_Polluants_Principaux.csv'"
      ]
     },
     "execution_count": 2,
     "metadata": {},
     "output_type": "execute_result"
    }
   ],
   "source": [
    "from download import download\n",
    "url = \"http://josephsalmon.eu/enseignement/datasets/Mesure_journaliere_Region_Occitanie_Polluants_Principaux.csv\"\n",
    "path_target = \"datasets/Mesure_journaliere_Region_Occitanie_Polluants_Principaux.csv\"\n",
    "download(url, path_target, replace=True)\n"
   ]
  },
  {
   "cell_type": "code",
   "execution_count": 3,
   "metadata": {},
   "outputs": [
    {
     "name": "stderr",
     "output_type": "stream",
     "text": [
      "/home/jo/anaconda3/lib/python3.7/site-packages/pandas/core/arrays/datetimes.py:1172: UserWarning: Converting to PeriodArray/Index representation will drop timezone information.\n",
      "  \"will drop timezone information.\", UserWarning)\n"
     ]
    }
   ],
   "source": [
    "occ = pd.read_csv(path_target)\n",
    "occ['date'] = pd.to_datetime(occ['date_debut']).dt.to_period('M')\n"
   ]
  },
  {
   "cell_type": "markdown",
   "metadata": {},
   "source": [
    "Maintenant que nos données sont récupérées nous créons une liste \"ville\" où l'utilisateur entre les villes qu'il veut étudier. Remarquons que la commande isin() permet de vérifier l'existence de ces villes dans nos données. \n",
    "Nous définissons comme date le mois de juillet 2018 de manière arbitraire et nous allant regardé les relevés d'ozone."
   ]
  },
  {
   "cell_type": "code",
   "execution_count": 4,
   "metadata": {},
   "outputs": [],
   "source": [
    "# ville = occ.nom_com.unique() #Pour récupérérer toutes les villes de\n",
    "# notre data fame.\n",
    "ville = 'MONTPELLIER', 'TOULOUSE', 'AGDE'\n",
    "\n",
    "df = occ[occ['nom_com'].isin(ville)]\n",
    "df = df[df['polluant'] == 'O3']\n",
    "\n",
    "df.date.unique()\n",
    "\n",
    "df = df[df.date == '2018-07']\n",
    "df = df[['nom_com', 'valeur_originale']]\n"
   ]
  },
  {
   "cell_type": "markdown",
   "metadata": {},
   "source": [
    "Nous récupérons ensuite sous forme d'array les relevés d'ozone des villes choisies ainsi que leur nombre (car les villes n'ont pas forcément le même nombre d'observations.  "
   ]
  },
  {
   "cell_type": "code",
   "execution_count": 5,
   "metadata": {},
   "outputs": [],
   "source": [
    "valeur_o3 = []\n",
    "len_villes = []\n",
    "\n",
    "for i in range(len(ville)):\n",
    "\n",
    "    o3_i = df[df['nom_com'] == ville[i]].values[:, 1]\n",
    "\n",
    "    # valeurs de O3 des villes choisies\n",
    "    valeur_o3 = np.append(valeur_o3, o3_i)\n",
    "\n",
    "    # Nombre d'observations de chaque ville\n",
    "    len_villes = np.append(len_villes, o3_i.shape)\n"
   ]
  },
  {
   "cell_type": "markdown",
   "metadata": {},
   "source": [
    "Nous recodons ensuite nos villes en variables qualitatives de manière à pouvoir effectuer notre régression Ridge."
   ]
  },
  {
   "cell_type": "code",
   "execution_count": 6,
   "metadata": {},
   "outputs": [],
   "source": [
    "X = np.zeros((int(np.sum(len_villes)), len(ville)))\n",
    "\n",
    "for i in range(len(ville)):\n",
    "    X[int(np.sum(len_villes[0:i])):int(np.sum(len_villes[0:i+1])),\n",
    "      i] = np.ones(int(np.sum(len_villes[i])))\n"
   ]
  },
  {
   "cell_type": "markdown",
   "metadata": {},
   "source": [
    "Nous définissons maintenant les valeurs du critère alpha de pénalisation que nous allons parcourir."
   ]
  },
  {
   "cell_type": "code",
   "execution_count": 7,
   "metadata": {},
   "outputs": [],
   "source": [
    "eps = 1e-6\n",
    "alpha_max = 1e4\n",
    "n_alphas = 100\n",
    "alphas = np.logspace(np.log10(alpha_max * eps),\n",
    "                     np.log10(alpha_max), num=n_alphas)\n"
   ]
  },
  {
   "cell_type": "markdown",
   "metadata": {},
   "source": [
    "Nous réalisons maintenant la régression Ridge suivant ces valeurs de alpha et nous stockons les valeurs obtenues dans lamatrice ridge."
   ]
  },
  {
   "cell_type": "code",
   "execution_count": 8,
   "metadata": {},
   "outputs": [],
   "source": [
    "ridge = np.zeros((len(alphas), len(ville)))\n",
    "\n",
    "for j in range(len(ville)):\n",
    "    y_predict = np.zeros(len(ville))\n",
    "    y_predict[j] = 1\n",
    "\n",
    "    for i in range(len(alphas)):\n",
    "\n",
    "        # Modele Ridge avec Validation croisée\n",
    "        model_ridge = Ridge(alphas[i])\n",
    "\n",
    "        # Applique le modèle sur le training set\n",
    "        model_ridge.fit(X, valeur_o3)\n",
    "\n",
    "        pred_train = model_ridge.predict(X)\n",
    "\n",
    "        ridge[i, j] = model_ridge.predict([y_predict])\n"
   ]
  },
  {
   "cell_type": "markdown",
   "metadata": {},
   "source": [
    "Nous réalisons maintenant une fonction permettant, à l'aide d'un paramètre alpha, qui contient la valeur maximale, la valeur minimale et le pas voulu, de voir l'évolution de l'estimateur ridge graphiquement à l'aide d'un bouton modifiant la valeur du critère alpha du Ridge."
   ]
  },
  {
   "cell_type": "code",
   "execution_count": 18,
   "metadata": {},
   "outputs": [],
   "source": [
    "def iteration_ridge_alpha(logalpha):\n",
    "    np.random.seed(0)\n",
    "    current_palette = sns.color_palette()\n",
    "    fig = sns.catplot(y=\"valeur_originale\", x=\"nom_com\", data=df,\n",
    "                      jitter='0.05', legend_out=False, order=list(ville),\n",
    "                      height=8)\n",
    "\n",
    "    plt.axhline(y=np.mean(valeur_o3), xmin=0, xmax=len(ville), ls='--',\n",
    "                linewidth=3, color='grey')\n",
    "    plt.text(len(ville)-0.3, np.mean(valeur_o3), '$\\\\bar y$', color='grey',\n",
    "             verticalalignment='bottom', horizontalalignment='right',\n",
    "             fontsize=25)\n",
    "\n",
    "    for i in range(len(ville)):\n",
    "\n",
    "        y_predict = np.zeros(len(ville))\n",
    "        y_predict[i] = 1\n",
    "        model_ridge = Ridge(np.exp(logalpha))\n",
    "        model_ridge.fit(X, valeur_o3)\n",
    "        ridge = model_ridge.predict([y_predict])\n",
    "\n",
    "        plt.scatter(i, np.mean(valeur_o3[int(np.sum(len_villes[0:i])):\n",
    "                    int(np.sum(len_villes[0:i+1]))]), marker='_', lw=10,\n",
    "                    color=current_palette[i], s=600)\n",
    "\n",
    "        plt.text(i + 0.2, np.mean(valeur_o3[int(np.sum(len_villes[0:i])):\n",
    "                 int(np.sum(len_villes[0:i+1]))]), '$\\\\bar y _{}$'.format(i),\n",
    "                 verticalalignment='bottom', horizontalalignment='left',\n",
    "                 color=current_palette[i], fontsize=20)\n",
    "\n",
    "        plt.scatter(i, ridge, s=400, marker='_',\n",
    "                    color=current_palette[len(ville)+i], lw=5,\n",
    "                    label='ridge_{}'.format(ville[i]))\n",
    "\n",
    "    plt.legend(loc='upper left', bbox_to_anchor=(1., .9))\n",
    "    plt.tight_layout()\n",
    "    plt.title('Evolution de l estimateur Ridge suivant la valeur \\n'\n",
    "              'du critère de pénalisation alpha')\n"
   ]
  },
  {
   "cell_type": "markdown",
   "metadata": {},
   "source": [
    "Nous illustrons cette fonction ci-dessous."
   ]
  },
  {
   "cell_type": "code",
   "execution_count": 19,
   "metadata": {
    "scrolled": false
   },
   "outputs": [
    {
     "data": {
      "application/vnd.jupyter.widget-view+json": {
       "model_id": "9d278ebaa4ab42298e316dffefcd89c0",
       "version_major": 2,
       "version_minor": 0
      },
      "text/plain": [
       "interactive(children=(FloatSlider(value=0.0, description='logalpha', max=10.0, min=-10.0), Output()), _dom_cla…"
      ]
     },
     "metadata": {},
     "output_type": "display_data"
    },
    {
     "data": {
      "text/plain": [
       "<function __main__.iteration_ridge_alpha(logalpha)>"
      ]
     },
     "execution_count": 19,
     "metadata": {},
     "output_type": "execute_result"
    }
   ],
   "source": [
    "import ipywidgets as ip\n",
    "ip.interact(iteration_ridge_alpha, logalpha=(-10, 10, 0.1))\n"
   ]
  },
  {
   "cell_type": "code",
   "execution_count": null,
   "metadata": {},
   "outputs": [],
   "source": []
  }
 ],
 "metadata": {
  "hide_input": false,
  "kernelspec": {
   "display_name": "Python 3",
   "language": "python",
   "name": "python3"
  },
  "language_info": {
   "codemirror_mode": {
    "name": "ipython",
    "version": 3
   },
   "file_extension": ".py",
   "mimetype": "text/x-python",
   "name": "python",
   "nbconvert_exporter": "python",
   "pygments_lexer": "ipython3",
   "version": "3.7.3"
  },
  "toc": {
   "base_numbering": 1,
   "nav_menu": {},
   "number_sections": false,
   "sideBar": true,
   "skip_h1_title": false,
   "title_cell": "Table of Contents",
   "title_sidebar": "Contents",
   "toc_cell": false,
   "toc_position": {},
   "toc_section_display": true,
   "toc_window_display": true
  }
 },
 "nbformat": 4,
 "nbformat_minor": 2
}
