{
 "cells": [
  {
   "cell_type": "markdown",
   "metadata": {},
   "source": [
    "#### Fait  par : \n",
    "  #### Mohamed Akli Rabia  & Samuel Kaci & Ali Abed Alsater\n",
    "\n"
   ]
  },
  {
   "cell_type": "markdown",
   "metadata": {},
   "source": [
    "# Modèle linéaire à effets mixtes"
   ]
  },
  {
   "cell_type": "markdown",
   "metadata": {},
   "source": [
    "Nous allons dans ce projet nous intéresser à une variante des modèles linéaires, le modèle linéaire à effets mixtes.\n",
    "Ce modèle est composé d’une partie fixe et d’une partie aléatoire. La partie fixe est identique pour chaque individu et représente l’effet de la population en général.\n",
    "La partie aléatoire est propre à chacun des individus et traduit la variabilité liée à chaque sujet."
   ]
  },
  {
   "cell_type": "markdown",
   "metadata": {},
   "source": [
    "## Description des données"
   ]
  },
  {
   "cell_type": "markdown",
   "metadata": {},
   "source": [
    "Nous allons travailler sur le jeu de données \"politness\" qui regroupe plusieurs données décrivant le ton de la voix (enregistrées en fréquences) afin de faire un lien avec la politesse. \n",
    "L'expérience est faite sur plusieurs sujets, ou ils devaient parler avec différents tons selon plusieurs scénarios.\n",
    "\n",
    "On compte des scénarios formels nécessitant de la politesse et d'autres non.\n",
    "Le ton de la voix est mesuré à chaque fois, on note le sexe de chaque sujet aussi, car il peut être influent sur la voix. "
   ]
  },
  {
   "cell_type": "markdown",
   "metadata": {},
   "source": [
    "## Objectif"
   ]
  },
  {
   "cell_type": "markdown",
   "metadata": {},
   "source": [
    "Le but est donc d'expliquer la variable \"frequency\" qui représente le ton de la voix avec les variables \"sexe\" et \"attitude\" cette dernière représente la politesse"
   ]
  },
  {
   "cell_type": "markdown",
   "metadata": {},
   "source": [
    "## Aperçu des données "
   ]
  },
  {
   "cell_type": "markdown",
   "metadata": {},
   "source": [
    "Nous commençons par importer les données \"politness\", et charger les librairies standards dont nous avons besoin.  "
   ]
  },
  {
   "cell_type": "code",
   "execution_count": 1,
   "metadata": {},
   "outputs": [
    {
     "data": {
      "text/html": [
       "<div>\n",
       "<style scoped>\n",
       "    .dataframe tbody tr th:only-of-type {\n",
       "        vertical-align: middle;\n",
       "    }\n",
       "\n",
       "    .dataframe tbody tr th {\n",
       "        vertical-align: top;\n",
       "    }\n",
       "\n",
       "    .dataframe thead th {\n",
       "        text-align: right;\n",
       "    }\n",
       "</style>\n",
       "<table border=\"1\" class=\"dataframe\">\n",
       "  <thead>\n",
       "    <tr style=\"text-align: right;\">\n",
       "      <th></th>\n",
       "      <th>subject</th>\n",
       "      <th>gender</th>\n",
       "      <th>scenario</th>\n",
       "      <th>attitude</th>\n",
       "      <th>frequency</th>\n",
       "    </tr>\n",
       "  </thead>\n",
       "  <tbody>\n",
       "    <tr>\n",
       "      <th>0</th>\n",
       "      <td>F1</td>\n",
       "      <td>F</td>\n",
       "      <td>1</td>\n",
       "      <td>pol</td>\n",
       "      <td>213.3</td>\n",
       "    </tr>\n",
       "    <tr>\n",
       "      <th>1</th>\n",
       "      <td>F1</td>\n",
       "      <td>F</td>\n",
       "      <td>1</td>\n",
       "      <td>inf</td>\n",
       "      <td>204.5</td>\n",
       "    </tr>\n",
       "    <tr>\n",
       "      <th>2</th>\n",
       "      <td>F1</td>\n",
       "      <td>F</td>\n",
       "      <td>2</td>\n",
       "      <td>pol</td>\n",
       "      <td>285.1</td>\n",
       "    </tr>\n",
       "    <tr>\n",
       "      <th>3</th>\n",
       "      <td>F1</td>\n",
       "      <td>F</td>\n",
       "      <td>2</td>\n",
       "      <td>inf</td>\n",
       "      <td>259.7</td>\n",
       "    </tr>\n",
       "    <tr>\n",
       "      <th>4</th>\n",
       "      <td>F1</td>\n",
       "      <td>F</td>\n",
       "      <td>3</td>\n",
       "      <td>pol</td>\n",
       "      <td>203.9</td>\n",
       "    </tr>\n",
       "  </tbody>\n",
       "</table>\n",
       "</div>"
      ],
      "text/plain": [
       "  subject gender  scenario attitude  frequency\n",
       "0      F1      F         1      pol      213.3\n",
       "1      F1      F         1      inf      204.5\n",
       "2      F1      F         2      pol      285.1\n",
       "3      F1      F         2      inf      259.7\n",
       "4      F1      F         3      pol      203.9"
      ]
     },
     "execution_count": 1,
     "metadata": {},
     "output_type": "execute_result"
    }
   ],
   "source": [
    "## lecture des données\n",
    "import pandas as pd \n",
    "import matplotlib.pyplot as plt\n",
    "import numpy as np\n",
    "\n",
    "#data = pd.read_csv(\"http://www.bodowinter.com/tutorial/politeness_data.csv\") Le lien ne marche plus\n",
    "data = pd.read_csv('https://qubeshub.org/qubesresources/publications/901/serve/1/2691?el=1&download=1')\n",
    "data.head()"
   ]
  },
  {
   "cell_type": "code",
   "execution_count": 2,
   "metadata": {},
   "outputs": [],
   "source": [
    "?data"
   ]
  },
  {
   "cell_type": "markdown",
   "metadata": {},
   "source": [
    "Nous pouvons voir que le plan est équilibré."
   ]
  },
  {
   "cell_type": "code",
   "execution_count": 3,
   "metadata": {},
   "outputs": [
    {
     "data": {
      "text/plain": [
       "M7    14\n",
       "F3    14\n",
       "F2    14\n",
       "M4    14\n",
       "M3    14\n",
       "F1    14\n",
       "Name: subject, dtype: int64"
      ]
     },
     "execution_count": 3,
     "metadata": {},
     "output_type": "execute_result"
    }
   ],
   "source": [
    "data.subject.value_counts()"
   ]
  },
  {
   "cell_type": "code",
   "execution_count": 4,
   "metadata": {},
   "outputs": [
    {
     "data": {
      "text/html": [
       "<div>\n",
       "<style scoped>\n",
       "    .dataframe tbody tr th:only-of-type {\n",
       "        vertical-align: middle;\n",
       "    }\n",
       "\n",
       "    .dataframe tbody tr th {\n",
       "        vertical-align: top;\n",
       "    }\n",
       "\n",
       "    .dataframe thead th {\n",
       "        text-align: right;\n",
       "    }\n",
       "</style>\n",
       "<table border=\"1\" class=\"dataframe\">\n",
       "  <thead>\n",
       "    <tr style=\"text-align: right;\">\n",
       "      <th>attitude</th>\n",
       "      <th>inf</th>\n",
       "      <th>pol</th>\n",
       "    </tr>\n",
       "    <tr>\n",
       "      <th>subject</th>\n",
       "      <th></th>\n",
       "      <th></th>\n",
       "    </tr>\n",
       "  </thead>\n",
       "  <tbody>\n",
       "    <tr>\n",
       "      <th>F1</th>\n",
       "      <td>7</td>\n",
       "      <td>7</td>\n",
       "    </tr>\n",
       "    <tr>\n",
       "      <th>F2</th>\n",
       "      <td>7</td>\n",
       "      <td>7</td>\n",
       "    </tr>\n",
       "    <tr>\n",
       "      <th>F3</th>\n",
       "      <td>7</td>\n",
       "      <td>7</td>\n",
       "    </tr>\n",
       "    <tr>\n",
       "      <th>M3</th>\n",
       "      <td>7</td>\n",
       "      <td>7</td>\n",
       "    </tr>\n",
       "    <tr>\n",
       "      <th>M4</th>\n",
       "      <td>7</td>\n",
       "      <td>7</td>\n",
       "    </tr>\n",
       "    <tr>\n",
       "      <th>M7</th>\n",
       "      <td>7</td>\n",
       "      <td>7</td>\n",
       "    </tr>\n",
       "  </tbody>\n",
       "</table>\n",
       "</div>"
      ],
      "text/plain": [
       "attitude  inf  pol\n",
       "subject           \n",
       "F1          7    7\n",
       "F2          7    7\n",
       "F3          7    7\n",
       "M3          7    7\n",
       "M4          7    7\n",
       "M7          7    7"
      ]
     },
     "execution_count": 4,
     "metadata": {},
     "output_type": "execute_result"
    }
   ],
   "source": [
    "pd.crosstab(data.subject, data.attitude)"
   ]
  },
  {
   "cell_type": "markdown",
   "metadata": {},
   "source": [
    "Boxplot qui exprime la variation de la fréquence par rapport aux deux modalités \"inf\" et \"pol\" de chaque sujet."
   ]
  },
  {
   "cell_type": "code",
   "execution_count": 5,
   "metadata": {},
   "outputs": [
    {
     "data": {
      "image/png": "[encoded data removed]",
      "text/plain": [
       "<Figure size 432x288 with 1 Axes>"
      ]
     },
     "metadata": {
      "needs_background": "light"
     },
     "output_type": "display_data"
    }
   ],
   "source": [
    "import seaborn as sns\n",
    "boxplot = sns.boxplot(x=data.attitude[data.subject=='F2'],y=data.frequency[data.subject=='F2'])\n"
   ]
  },
  {
   "cell_type": "code",
   "execution_count": 6,
   "metadata": {},
   "outputs": [
    {
     "data": {
      "image/png": "[encoded data removed]",
      "text/plain": [
       "<Figure size 432x288 with 1 Axes>"
      ]
     },
     "metadata": {
      "needs_background": "light"
     },
     "output_type": "display_data"
    }
   ],
   "source": [
    "boxplot = sns.boxplot(x=data.attitude[data.subject=='M3'],y=data.frequency[data.subject=='M3'])\n"
   ]
  },
  {
   "cell_type": "markdown",
   "metadata": {},
   "source": [
    "Moyenne des fréquences par sujet."
   ]
  },
  {
   "cell_type": "code",
   "execution_count": 7,
   "metadata": {},
   "outputs": [
    {
     "name": "stdout",
     "output_type": "stream",
     "text": [
      "subject\n",
      "F1    232.035714\n",
      "F2    258.185714\n",
      "F3    250.735714\n",
      "M3    168.978571\n",
      "M4    145.976923\n",
      "M7    102.178571\n",
      "Name: frequency, dtype: float64\n"
     ]
    }
   ],
   "source": [
    "x=data.groupby('subject')['frequency'].mean()\n",
    "print(x)"
   ]
  },
  {
   "cell_type": "markdown",
   "metadata": {},
   "source": [
    "Affichage des modalités \"pol\" et \"inf\"."
   ]
  },
  {
   "cell_type": "code",
   "execution_count": 8,
   "metadata": {},
   "outputs": [
    {
     "data": {
      "text/html": [
       "<div>\n",
       "<style scoped>\n",
       "    .dataframe tbody tr th:only-of-type {\n",
       "        vertical-align: middle;\n",
       "    }\n",
       "\n",
       "    .dataframe tbody tr th {\n",
       "        vertical-align: top;\n",
       "    }\n",
       "\n",
       "    .dataframe thead th {\n",
       "        text-align: right;\n",
       "    }\n",
       "</style>\n",
       "<table border=\"1\" class=\"dataframe\">\n",
       "  <thead>\n",
       "    <tr style=\"text-align: right;\">\n",
       "      <th></th>\n",
       "      <th>subject</th>\n",
       "      <th>gender</th>\n",
       "      <th>scenario</th>\n",
       "      <th>attitude</th>\n",
       "      <th>frequency</th>\n",
       "    </tr>\n",
       "  </thead>\n",
       "  <tbody>\n",
       "    <tr>\n",
       "      <th>0</th>\n",
       "      <td>F1</td>\n",
       "      <td>F</td>\n",
       "      <td>1</td>\n",
       "      <td>pol</td>\n",
       "      <td>213.3</td>\n",
       "    </tr>\n",
       "    <tr>\n",
       "      <th>2</th>\n",
       "      <td>F1</td>\n",
       "      <td>F</td>\n",
       "      <td>2</td>\n",
       "      <td>pol</td>\n",
       "      <td>285.1</td>\n",
       "    </tr>\n",
       "    <tr>\n",
       "      <th>4</th>\n",
       "      <td>F1</td>\n",
       "      <td>F</td>\n",
       "      <td>3</td>\n",
       "      <td>pol</td>\n",
       "      <td>203.9</td>\n",
       "    </tr>\n",
       "    <tr>\n",
       "      <th>6</th>\n",
       "      <td>F1</td>\n",
       "      <td>F</td>\n",
       "      <td>4</td>\n",
       "      <td>pol</td>\n",
       "      <td>250.8</td>\n",
       "    </tr>\n",
       "    <tr>\n",
       "      <th>8</th>\n",
       "      <td>F1</td>\n",
       "      <td>F</td>\n",
       "      <td>5</td>\n",
       "      <td>pol</td>\n",
       "      <td>231.9</td>\n",
       "    </tr>\n",
       "  </tbody>\n",
       "</table>\n",
       "</div>"
      ],
      "text/plain": [
       "  subject gender  scenario attitude  frequency\n",
       "0      F1      F         1      pol      213.3\n",
       "2      F1      F         2      pol      285.1\n",
       "4      F1      F         3      pol      203.9\n",
       "6      F1      F         4      pol      250.8\n",
       "8      F1      F         5      pol      231.9"
      ]
     },
     "execution_count": 8,
     "metadata": {},
     "output_type": "execute_result"
    }
   ],
   "source": [
    "data[data.attitude == \"pol\" ].head()"
   ]
  },
  {
   "cell_type": "code",
   "execution_count": 9,
   "metadata": {},
   "outputs": [
    {
     "data": {
      "text/html": [
       "<div>\n",
       "<style scoped>\n",
       "    .dataframe tbody tr th:only-of-type {\n",
       "        vertical-align: middle;\n",
       "    }\n",
       "\n",
       "    .dataframe tbody tr th {\n",
       "        vertical-align: top;\n",
       "    }\n",
       "\n",
       "    .dataframe thead th {\n",
       "        text-align: right;\n",
       "    }\n",
       "</style>\n",
       "<table border=\"1\" class=\"dataframe\">\n",
       "  <thead>\n",
       "    <tr style=\"text-align: right;\">\n",
       "      <th></th>\n",
       "      <th>subject</th>\n",
       "      <th>gender</th>\n",
       "      <th>scenario</th>\n",
       "      <th>attitude</th>\n",
       "      <th>frequency</th>\n",
       "    </tr>\n",
       "  </thead>\n",
       "  <tbody>\n",
       "    <tr>\n",
       "      <th>1</th>\n",
       "      <td>F1</td>\n",
       "      <td>F</td>\n",
       "      <td>1</td>\n",
       "      <td>inf</td>\n",
       "      <td>204.5</td>\n",
       "    </tr>\n",
       "    <tr>\n",
       "      <th>3</th>\n",
       "      <td>F1</td>\n",
       "      <td>F</td>\n",
       "      <td>2</td>\n",
       "      <td>inf</td>\n",
       "      <td>259.7</td>\n",
       "    </tr>\n",
       "    <tr>\n",
       "      <th>5</th>\n",
       "      <td>F1</td>\n",
       "      <td>F</td>\n",
       "      <td>3</td>\n",
       "      <td>inf</td>\n",
       "      <td>286.9</td>\n",
       "    </tr>\n",
       "    <tr>\n",
       "      <th>7</th>\n",
       "      <td>F1</td>\n",
       "      <td>F</td>\n",
       "      <td>4</td>\n",
       "      <td>inf</td>\n",
       "      <td>276.8</td>\n",
       "    </tr>\n",
       "    <tr>\n",
       "      <th>9</th>\n",
       "      <td>F1</td>\n",
       "      <td>F</td>\n",
       "      <td>5</td>\n",
       "      <td>inf</td>\n",
       "      <td>252.4</td>\n",
       "    </tr>\n",
       "  </tbody>\n",
       "</table>\n",
       "</div>"
      ],
      "text/plain": [
       "  subject gender  scenario attitude  frequency\n",
       "1      F1      F         1      inf      204.5\n",
       "3      F1      F         2      inf      259.7\n",
       "5      F1      F         3      inf      286.9\n",
       "7      F1      F         4      inf      276.8\n",
       "9      F1      F         5      inf      252.4"
      ]
     },
     "execution_count": 9,
     "metadata": {},
     "output_type": "execute_result"
    }
   ],
   "source": [
    "data[data.attitude == \"inf\" ].head()"
   ]
  },
  {
   "cell_type": "markdown",
   "metadata": {},
   "source": [
    "Nous allons afficher un graphique de nos données, pour voir l'allure qu'elles ont."
   ]
  },
  {
   "cell_type": "code",
   "execution_count": 10,
   "metadata": {},
   "outputs": [
    {
     "data": {
      "image/png": "[encoded data removed]",
      "text/plain": [
       "<Figure size 432x288 with 1 Axes>"
      ]
     },
     "metadata": {},
     "output_type": "display_data"
    }
   ],
   "source": [
    "import matplotlib\n",
    "import matplotlib.pyplot as plt\n",
    "%matplotlib inline\n",
    "matplotlib.style.use('ggplot')\n",
    "\n",
    "plt.scatter(data.frequency[data.attitude == \"pol\" ], data.frequency[data.attitude==\"inf\"])\n",
    "\n",
    "plt.show()"
   ]
  },
  {
   "cell_type": "markdown",
   "metadata": {},
   "source": [
    "À l'oeil nu, le nuage paraît linéaire, nous remarquons aussi un individu qui se démarque du groupe, il se peut qu'il soit atypique."
   ]
  },
  {
   "cell_type": "markdown",
   "metadata": {},
   "source": [
    "Nous allons voir ici un aperçu des moyennes des fréquences de la voix par groupe."
   ]
  },
  {
   "cell_type": "code",
   "execution_count": 11,
   "metadata": {},
   "outputs": [
    {
     "data": {
      "text/plain": [
       "subject\n",
       "F1    232.035714\n",
       "F2    258.185714\n",
       "F3    250.735714\n",
       "M3    168.978571\n",
       "M4    145.976923\n",
       "M7    102.178571\n",
       "Name: frequency, dtype: float64"
      ]
     },
     "execution_count": 11,
     "metadata": {},
     "output_type": "execute_result"
    }
   ],
   "source": [
    "data.groupby('subject')['frequency'].mean()"
   ]
  },
  {
   "cell_type": "markdown",
   "metadata": {},
   "source": [
    "## Modèle 1"
   ]
  },
  {
   "cell_type": "markdown",
   "metadata": {},
   "source": [
    "Nous allons construire le modèle de régression mixte d'abord en s'appuyant sur l'effet aléatoire de la constante, on suppose que le ton moyen est différent pour chaque individu, on utilise la fonction \"mixedlm\" contenue dans \"statmodels\". \n",
    "Pour ce faire, nous devons obligatoirement supprimer la ligne 38 qui contient une donnée manquante."
   ]
  },
  {
   "cell_type": "code",
   "execution_count": 12,
   "metadata": {
    "scrolled": true
   },
   "outputs": [
    {
     "name": "stdout",
     "output_type": "stream",
     "text": [
      "         Mixed Linear Model Regression Results\n",
      "=======================================================\n",
      "Model:            MixedLM Dependent Variable: frequency\n",
      "No. Observations: 83      Method:             REML     \n",
      "No. Groups:       6       Scale:              941.2110 \n",
      "Min. group size:  13      Likelihood:         -409.4981\n",
      "Max. group size:  14      Converged:          Yes      \n",
      "Mean group size:  13.8                                 \n",
      "-------------------------------------------------------\n",
      "           Coef.   Std.Err.   z   P>|z|  [0.025  0.975]\n",
      "-------------------------------------------------------\n",
      "Intercept  193.025   25.913 7.449 0.000 142.236 243.815\n",
      "Group Var 3960.949   85.703                            \n",
      "=======================================================\n",
      "\n"
     ]
    }
   ],
   "source": [
    "import statsmodels.api as sm\n",
    "import statsmodels.formula.api as smf \n",
    "## Supprimé la valeur manquante\n",
    "A =data.dropna()\n",
    "md = smf.mixedlm(\"frequency ~ 1\", A, groups=A[\"subject\"])\n",
    "mdf = md.fit()\n",
    "print(mdf.summary())\n"
   ]
  },
  {
   "cell_type": "markdown",
   "metadata": {},
   "source": [
    "Les résultats sont contenus dans l'objet \" mdf \", nous pouvons voir les valeurs de l'intercepte de chaque sujet dans \" mdf.fittedvalues \"   "
   ]
  },
  {
   "cell_type": "code",
   "execution_count": 13,
   "metadata": {},
   "outputs": [
    {
     "data": {
      "text/html": [
       "<div>\n",
       "<style scoped>\n",
       "    .dataframe tbody tr th:only-of-type {\n",
       "        vertical-align: middle;\n",
       "    }\n",
       "\n",
       "    .dataframe tbody tr th {\n",
       "        vertical-align: top;\n",
       "    }\n",
       "\n",
       "    .dataframe thead th {\n",
       "        text-align: right;\n",
       "    }\n",
       "</style>\n",
       "<table border=\"1\" class=\"dataframe\">\n",
       "  <thead>\n",
       "    <tr style=\"text-align: right;\">\n",
       "      <th>subject</th>\n",
       "      <th>F1</th>\n",
       "      <th>F2</th>\n",
       "      <th>F3</th>\n",
       "      <th>M3</th>\n",
       "      <th>M4</th>\n",
       "      <th>M7</th>\n",
       "    </tr>\n",
       "    <tr>\n",
       "      <th>row_0</th>\n",
       "      <th></th>\n",
       "      <th></th>\n",
       "      <th></th>\n",
       "      <th></th>\n",
       "      <th></th>\n",
       "      <th></th>\n",
       "    </tr>\n",
       "  </thead>\n",
       "  <tbody>\n",
       "    <tr>\n",
       "      <th>103.694781</th>\n",
       "      <td>0</td>\n",
       "      <td>0</td>\n",
       "      <td>0</td>\n",
       "      <td>0</td>\n",
       "      <td>0</td>\n",
       "      <td>14</td>\n",
       "    </tr>\n",
       "    <tr>\n",
       "      <th>146.821466</th>\n",
       "      <td>0</td>\n",
       "      <td>0</td>\n",
       "      <td>0</td>\n",
       "      <td>0</td>\n",
       "      <td>13</td>\n",
       "      <td>0</td>\n",
       "    </tr>\n",
       "    <tr>\n",
       "      <th>169.379905</th>\n",
       "      <td>0</td>\n",
       "      <td>0</td>\n",
       "      <td>0</td>\n",
       "      <td>14</td>\n",
       "      <td>0</td>\n",
       "      <td>0</td>\n",
       "    </tr>\n",
       "    <tr>\n",
       "      <th>231.384639</th>\n",
       "      <td>14</td>\n",
       "      <td>0</td>\n",
       "      <td>0</td>\n",
       "      <td>0</td>\n",
       "      <td>0</td>\n",
       "      <td>0</td>\n",
       "    </tr>\n",
       "    <tr>\n",
       "      <th>249.772540</th>\n",
       "      <td>0</td>\n",
       "      <td>0</td>\n",
       "      <td>14</td>\n",
       "      <td>0</td>\n",
       "      <td>0</td>\n",
       "      <td>0</td>\n",
       "    </tr>\n",
       "    <tr>\n",
       "      <th>257.098202</th>\n",
       "      <td>0</td>\n",
       "      <td>14</td>\n",
       "      <td>0</td>\n",
       "      <td>0</td>\n",
       "      <td>0</td>\n",
       "      <td>0</td>\n",
       "    </tr>\n",
       "  </tbody>\n",
       "</table>\n",
       "</div>"
      ],
      "text/plain": [
       "subject     F1  F2  F3  M3  M4  M7\n",
       "row_0                             \n",
       "103.694781   0   0   0   0   0  14\n",
       "146.821466   0   0   0   0  13   0\n",
       "169.379905   0   0   0  14   0   0\n",
       "231.384639  14   0   0   0   0   0\n",
       "249.772540   0   0  14   0   0   0\n",
       "257.098202   0  14   0   0   0   0"
      ]
     },
     "execution_count": 13,
     "metadata": {},
     "output_type": "execute_result"
    }
   ],
   "source": [
    "pd.crosstab(mdf.fittedvalues, A.subject)\n"
   ]
  },
  {
   "cell_type": "markdown",
   "metadata": {},
   "source": [
    "L'estimation de la constante est donnée par la moyenne sur la variable à expliquer qui est \"frequency\" et l'estimation de la déviance est donnée son écart type. "
   ]
  },
  {
   "cell_type": "code",
   "execution_count": 14,
   "metadata": {},
   "outputs": [
    {
     "data": {
      "text/plain": [
       "193.58192771084342"
      ]
     },
     "execution_count": 14,
     "metadata": {},
     "output_type": "execute_result"
    }
   ],
   "source": [
    "# estimation d'intercept\n",
    "np.mean(A.frequency)"
   ]
  },
  {
   "cell_type": "code",
   "execution_count": 15,
   "metadata": {},
   "outputs": [
    {
     "data": {
      "text/plain": [
       "65.14466042452061"
      ]
     },
     "execution_count": 15,
     "metadata": {},
     "output_type": "execute_result"
    }
   ],
   "source": [
    "#estimation de la déviance\n",
    "np.std(A.frequency)"
   ]
  },
  {
   "cell_type": "markdown",
   "metadata": {},
   "source": [
    "## Modèle 2"
   ]
  },
  {
   "cell_type": "markdown",
   "metadata": {},
   "source": [
    "Nous allons maintenant inclure les effets fixes dans le modèle, nous allons tenir compte du sexe et des effets aléatoires. \n",
    "Le modèle est $$ frequecy = intercept + intercept_j + attitude + sexe $$\n"
   ]
  },
  {
   "cell_type": "markdown",
   "metadata": {},
   "source": [
    "Nous devons d'abord transformé les variables \"sexe\" et \"attitude\" en variables numériques, codées en -1, 1. (femme=1 , homme=-1), (pol=-1, inf=1), afin d'avoir la somme des deux modalités de chaque variable est égale à 0."
   ]
  },
  {
   "cell_type": "markdown",
   "metadata": {},
   "source": [
    "Pour cette partie nous avons utilisé de nombreuses méthodes, qui se sont toutes retrouvées très peu fructueuses.\n",
    "Nous allons vous en présenter quelques-unes dans cette partie.\n",
    "\n",
    "Afin de pouvoir continuer le Tp nous avons fait le choix de créer un nouveau data a format csv de la forme souhaité."
   ]
  },
  {
   "cell_type": "markdown",
   "metadata": {},
   "source": [
    "### Esemble de nos essais "
   ]
  },
  {
   "cell_type": "markdown",
   "metadata": {},
   "source": [
    "Nous avons commencé par utilisé la fonction \"factorize\" contenue dans pandas, mais elle transforme la variable en 0,1. Ce qui ne nous arrange pas."
   ]
  },
  {
   "cell_type": "code",
   "execution_count": 16,
   "metadata": {},
   "outputs": [
    {
     "data": {
      "text/plain": [
       "(array([0, 0, 0, 0, 0, 0, 0, 0, 0, 0, 0, 0, 0, 0, 0, 0, 0, 0, 0, 0, 0, 0,\n",
       "        0, 0, 0, 0, 0, 0, 1, 1, 1, 1, 1, 1, 1, 1, 1, 1, 1, 1, 1, 1, 1, 1,\n",
       "        1, 1, 1, 1, 1, 1, 1, 1, 1, 1, 1, 0, 0, 0, 0, 0, 0, 0, 0, 0, 0, 0,\n",
       "        0, 0, 0, 1, 1, 1, 1, 1, 1, 1, 1, 1, 1, 1, 1, 1, 1]),\n",
       " Index(['F', 'M'], dtype='object'))"
      ]
     },
     "execution_count": 16,
     "metadata": {},
     "output_type": "execute_result"
    }
   ],
   "source": [
    "pd.factorize(A.gender)"
   ]
  },
  {
   "cell_type": "markdown",
   "metadata": {},
   "source": [
    "Puis nous avons essayé de le faire à la main avec une boucle for."
   ]
  },
  {
   "cell_type": "code",
   "execution_count": 17,
   "metadata": {},
   "outputs": [],
   "source": [
    "B = np.copy(A)\n",
    "\n",
    "for i in range(0, A.shape[0]):\n",
    "    if data['gender'][i] == 'F':\n",
    "        B[i][1] = 1\n",
    "    else:\n",
    "        B[i][1] = - 1\n",
    "    \n",
    "    if data['attitude'][i] == 'inf':\n",
    "        B[i][3] = 1\n",
    "    else:\n",
    "        B[i][3] = -1\n",
    "        "
   ]
  },
  {
   "cell_type": "code",
   "execution_count": 18,
   "metadata": {},
   "outputs": [
    {
     "data": {
      "text/plain": [
       "numpy.ndarray"
      ]
     },
     "execution_count": 18,
     "metadata": {},
     "output_type": "execute_result"
    }
   ],
   "source": [
    "type(B)"
   ]
  },
  {
   "cell_type": "markdown",
   "metadata": {},
   "source": [
    "Ici nous pouvons voir que le type de B n'est pas le même que A, nous allons donc le convertir"
   ]
  },
  {
   "cell_type": "code",
   "execution_count": 19,
   "metadata": {},
   "outputs": [],
   "source": [
    "B = pd.DataFrame(B)"
   ]
  },
  {
   "cell_type": "code",
   "execution_count": 20,
   "metadata": {},
   "outputs": [
    {
     "data": {
      "text/html": [
       "<div>\n",
       "<style scoped>\n",
       "    .dataframe tbody tr th:only-of-type {\n",
       "        vertical-align: middle;\n",
       "    }\n",
       "\n",
       "    .dataframe tbody tr th {\n",
       "        vertical-align: top;\n",
       "    }\n",
       "\n",
       "    .dataframe thead th {\n",
       "        text-align: right;\n",
       "    }\n",
       "</style>\n",
       "<table border=\"1\" class=\"dataframe\">\n",
       "  <thead>\n",
       "    <tr style=\"text-align: right;\">\n",
       "      <th></th>\n",
       "      <th>0</th>\n",
       "      <th>1</th>\n",
       "      <th>2</th>\n",
       "      <th>3</th>\n",
       "      <th>4</th>\n",
       "    </tr>\n",
       "  </thead>\n",
       "  <tbody>\n",
       "    <tr>\n",
       "      <th>0</th>\n",
       "      <td>F1</td>\n",
       "      <td>1</td>\n",
       "      <td>1</td>\n",
       "      <td>-1</td>\n",
       "      <td>213.3</td>\n",
       "    </tr>\n",
       "    <tr>\n",
       "      <th>1</th>\n",
       "      <td>F1</td>\n",
       "      <td>1</td>\n",
       "      <td>1</td>\n",
       "      <td>1</td>\n",
       "      <td>204.5</td>\n",
       "    </tr>\n",
       "    <tr>\n",
       "      <th>2</th>\n",
       "      <td>F1</td>\n",
       "      <td>1</td>\n",
       "      <td>2</td>\n",
       "      <td>-1</td>\n",
       "      <td>285.1</td>\n",
       "    </tr>\n",
       "    <tr>\n",
       "      <th>3</th>\n",
       "      <td>F1</td>\n",
       "      <td>1</td>\n",
       "      <td>2</td>\n",
       "      <td>1</td>\n",
       "      <td>259.7</td>\n",
       "    </tr>\n",
       "    <tr>\n",
       "      <th>4</th>\n",
       "      <td>F1</td>\n",
       "      <td>1</td>\n",
       "      <td>3</td>\n",
       "      <td>-1</td>\n",
       "      <td>203.9</td>\n",
       "    </tr>\n",
       "  </tbody>\n",
       "</table>\n",
       "</div>"
      ],
      "text/plain": [
       "    0  1  2   3      4\n",
       "0  F1  1  1  -1  213.3\n",
       "1  F1  1  1   1  204.5\n",
       "2  F1  1  2  -1  285.1\n",
       "3  F1  1  2   1  259.7\n",
       "4  F1  1  3  -1  203.9"
      ]
     },
     "execution_count": 20,
     "metadata": {},
     "output_type": "execute_result"
    }
   ],
   "source": [
    "B.head()"
   ]
  },
  {
   "cell_type": "markdown",
   "metadata": {},
   "source": [
    "Ici nous remarquons que nous avons perdu le nom des colonnes."
   ]
  },
  {
   "cell_type": "code",
   "execution_count": 21,
   "metadata": {},
   "outputs": [],
   "source": [
    "import pandas as pd\n",
    "B.columns = ['subject', 'gender', 'scenario', 'attitude', 'frequency']"
   ]
  },
  {
   "cell_type": "code",
   "execution_count": 22,
   "metadata": {},
   "outputs": [
    {
     "name": "stdout",
     "output_type": "stream",
     "text": [
      "<class 'pandas.core.frame.DataFrame'>\n"
     ]
    }
   ],
   "source": [
    "print(type(B))"
   ]
  },
  {
   "cell_type": "code",
   "execution_count": 23,
   "metadata": {},
   "outputs": [
    {
     "name": "stdout",
     "output_type": "stream",
     "text": [
      "  subject gender scenario attitude frequency\n",
      "0      F1      1        1       -1     213.3\n",
      "1      F1      1        1        1     204.5\n",
      "2      F1      1        2       -1     285.1\n",
      "3      F1      1        2        1     259.7\n",
      "4      F1      1        3       -1     203.9\n"
     ]
    }
   ],
   "source": [
    "print(B.head())"
   ]
  },
  {
   "cell_type": "markdown",
   "metadata": {},
   "source": [
    "À cette étape B est devenu une copie parfaite de A, avec les variables \"gender\" et \"attitude\" recoder en -1 et 1.\n",
    "Mais malgré cela il nous est impossible d'utiliser la matrice B avec les fonctions dont nous avons besoin."
   ]
  },
  {
   "cell_type": "markdown",
   "metadata": {},
   "source": [
    "Nous avons donc intégré le jeu de données suivant ayant la transformation voulue."
   ]
  },
  {
   "cell_type": "code",
   "execution_count": 24,
   "metadata": {},
   "outputs": [],
   "source": [
    "A2=pd.read_csv(\"data.csv\")"
   ]
  },
  {
   "cell_type": "code",
   "execution_count": 25,
   "metadata": {},
   "outputs": [
    {
     "data": {
      "text/html": [
       "<table class=\"simpletable\">\n",
       "<tr>\n",
       "       <td>Model:</td>       <td>MixedLM</td> <td>Dependent Variable:</td> <td>frequency</td>\n",
       "</tr>\n",
       "<tr>\n",
       "  <td>No. Observations:</td>   <td>83</td>          <td>Method:</td>         <td>REML</td>   \n",
       "</tr>\n",
       "<tr>\n",
       "     <td>No. Groups:</td>       <td>6</td>          <td>Scale:</td>        <td>850.9501</td> \n",
       "</tr>\n",
       "<tr>\n",
       "  <td>Min. group size:</td>    <td>13</td>        <td>Likelihood:</td>     <td>-394.7583</td>\n",
       "</tr>\n",
       "<tr>\n",
       "  <td>Max. group size:</td>    <td>14</td>        <td>Converged:</td>         <td>Yes</td>   \n",
       "</tr>\n",
       "<tr>\n",
       "  <td>Mean group size:</td>   <td>13.8</td>            <td></td>               <td></td>     \n",
       "</tr>\n",
       "</table>\n",
       "<table class=\"simpletable\">\n",
       "<tr>\n",
       "      <td></td>       <th>Coef.</th>  <th>Std.Err.</th>    <th>z</th>   <th>P>|z|</th> <th>[0.025</th>  <th>0.975]</th> \n",
       "</tr>\n",
       "<tr>\n",
       "  <th>Intercept</th> <td>192.883</td>  <td>10.531</td>  <td>18.315</td> <td>0.000</td> <td>172.242</td> <td>213.524</td>\n",
       "</tr>\n",
       "<tr>\n",
       "  <th>attitude</th>   <td>9.705</td>    <td>3.203</td>   <td>3.030</td> <td>0.002</td>  <td>3.426</td>  <td>15.983</td> \n",
       "</tr>\n",
       "<tr>\n",
       "  <th>gender</th>    <td>54.102</td>   <td>10.531</td>   <td>5.137</td> <td>0.000</td> <td>33.462</td>  <td>74.743</td> \n",
       "</tr>\n",
       "<tr>\n",
       "  <th>Group Var</th> <td>603.873</td>  <td>16.530</td>     <td></td>      <td></td>       <td></td>        <td></td>    \n",
       "</tr>\n",
       "</table>"
      ],
      "text/plain": [
       "<class 'statsmodels.iolib.summary2.Summary'>\n",
       "\"\"\"\n",
       "         Mixed Linear Model Regression Results\n",
       "=======================================================\n",
       "Model:            MixedLM Dependent Variable: frequency\n",
       "No. Observations: 83      Method:             REML     \n",
       "No. Groups:       6       Scale:              850.9501 \n",
       "Min. group size:  13      Likelihood:         -394.7583\n",
       "Max. group size:  14      Converged:          Yes      \n",
       "Mean group size:  13.8                                 \n",
       "-------------------------------------------------------\n",
       "           Coef.  Std.Err.   z    P>|z|  [0.025  0.975]\n",
       "-------------------------------------------------------\n",
       "Intercept 192.883   10.531 18.315 0.000 172.242 213.524\n",
       "attitude    9.705    3.203  3.030 0.002   3.426  15.983\n",
       "gender     54.102   10.531  5.137 0.000  33.462  74.743\n",
       "Group Var 603.873   16.530                             \n",
       "=======================================================\n",
       "\n",
       "\"\"\""
      ]
     },
     "execution_count": 25,
     "metadata": {},
     "output_type": "execute_result"
    }
   ],
   "source": [
    "## Modèle 2\n",
    "md2 = smf.mixedlm(\"frequency ~ attitude + gender\", A2, groups=A2[\"subject\"])\n",
    "mdf2 = md2.fit()\n",
    "mdf2.summary()"
   ]
  },
  {
   "cell_type": "markdown",
   "metadata": {},
   "source": [
    "## Évaluation du modèle\n",
    "Pour évaluer la qualité d'un modèle, ou faire des comparaisons avec d'autres modèles, le critère AIC est souvent utilisé. Ce critère doit être minimisé, c'est-à-dire que l'on choisit le modèle ayant le AIC le plus faible.\n",
    "$$ AIC = déviance + 2*(P+1)$$ \n",
    "$$ déviance = -2 * logvraissemblance $$\n",
    "P est le nombre de paramètres dans le modèle."
   ]
  },
  {
   "cell_type": "markdown",
   "metadata": {},
   "source": [
    "Afin de calculer la déviance, il nous faut la log-vraisemblance, elle est contenue dans l'objet \"mdf2.llf\", nous allons donc calculer l'AIC du modèle 2 en appliquant la formule définie précédemment. Notons ici que \"P\" est égal à 4, nous comptons 3 paramètres fixes et 1 aléatoire."
   ]
  },
  {
   "cell_type": "code",
   "execution_count": 26,
   "metadata": {},
   "outputs": [
    {
     "name": "stdout",
     "output_type": "stream",
     "text": [
      "789.5165130342868\n"
     ]
    }
   ],
   "source": [
    "# D'abord la déviance\n",
    "dev = -2*mdf2.llf\n",
    "print(dev)"
   ]
  },
  {
   "cell_type": "code",
   "execution_count": 27,
   "metadata": {},
   "outputs": [
    {
     "name": "stdout",
     "output_type": "stream",
     "text": [
      "799.5165130342868\n"
     ]
    }
   ],
   "source": [
    "# AIC\n",
    "# p = 4 \n",
    "AIC = dev + 2 * (4 + 1) \n",
    "print(AIC)"
   ]
  },
  {
   "cell_type": "markdown",
   "metadata": {},
   "source": [
    "Nous allons essayer de retrouver le résultat avec la fonction AIC contenue dans \"RegscorePy\". \n",
    "Pour cela il nous faut la variable à prédire, c'est-à-dire $y=frequency$ et les valeurs ajustées $\\hat{y}$ qui sont contenues dans l'objet \"mdf2.fittedvalues\"."
   ]
  },
  {
   "cell_type": "code",
   "execution_count": 28,
   "metadata": {},
   "outputs": [
    {
     "name": "stdout",
     "output_type": "stream",
     "text": [
      "Requirement already satisfied: RegscorePy in /home/jo/anaconda3/lib/python3.7/site-packages (1.1)\n",
      "Requirement already satisfied: pandas in /home/jo/anaconda3/lib/python3.7/site-packages (from RegscorePy) (0.24.2)\n",
      "Requirement already satisfied: numpy in /home/jo/anaconda3/lib/python3.7/site-packages (from RegscorePy) (1.16.2)\n",
      "Requirement already satisfied: python-dateutil>=2.5.0 in /home/jo/anaconda3/lib/python3.7/site-packages (from pandas->RegscorePy) (2.8.0)\n",
      "Requirement already satisfied: pytz>=2011k in /home/jo/anaconda3/lib/python3.7/site-packages (from pandas->RegscorePy) (2018.9)\n",
      "Requirement already satisfied: six>=1.5 in /home/jo/anaconda3/lib/python3.7/site-packages (from python-dateutil>=2.5.0->pandas->RegscorePy) (1.12.0)\n",
      "Note: you may need to restart the kernel to use updated packages.\n"
     ]
    }
   ],
   "source": [
    "pip install RegscorePy"
   ]
  },
  {
   "cell_type": "code",
   "execution_count": 29,
   "metadata": {},
   "outputs": [
    {
     "data": {
      "text/plain": [
       "561.0373784032621"
      ]
     },
     "execution_count": 29,
     "metadata": {},
     "output_type": "execute_result"
    }
   ],
   "source": [
    "from RegscorePy import *\n",
    "aic.aic(A2.frequency,mdf2.fittedvalues, 4)"
   ]
  },
  {
   "cell_type": "markdown",
   "metadata": {},
   "source": [
    "Nous ne trouvons pas le même résultat ce qui n'est pas normal."
   ]
  },
  {
   "cell_type": "markdown",
   "metadata": {},
   "source": [
    "## Modèle 3\n",
    "$$frequency for subject A = intercept + subject A \\text{'} s\\hspace{0.1cm} intercept\\hspace{0.1cm} \\text{shift} + attitude + subject A\\text{'}s \\hspace{0.1cm} attitude \\hspace{0.1cm}slope \\hspace{0.1cm} \\text{shift} + gender$$"
   ]
  },
  {
   "cell_type": "markdown",
   "metadata": {},
   "source": [
    "Dans les modèles ci-dessus, nous avons supposé que l’effet de la \"politesse\" (représenté par la variable \"attitude\") était le même pour tous les sujets, et a donc un seul coefficient pour la politesse. Cependant, l’effet de la politesse peut être différent pour différents sujets. Par exemple, on pourrait s’attendre à ce que certaines personnes soient plus polies que d’autres. Donc, ce qu’il nous faut c’est un modèle de pente aléatoire, où les sujets et les objets sont non seulement autorisés à avoir des intercepts différents, mais où ils sont également autorisés à avoir des pentes différentes pour l’effet de politesse.\n"
   ]
  },
  {
   "cell_type": "code",
   "execution_count": 30,
   "metadata": {},
   "outputs": [
    {
     "data": {
      "text/html": [
       "<table class=\"simpletable\">\n",
       "<tr>\n",
       "       <td>Model:</td>       <td>MixedLM</td> <td>Dependent Variable:</td> <td>frequency</td>\n",
       "</tr>\n",
       "<tr>\n",
       "  <td>No. Observations:</td>   <td>83</td>          <td>Method:</td>         <td>REML</td>   \n",
       "</tr>\n",
       "<tr>\n",
       "     <td>No. Groups:</td>       <td>6</td>          <td>Scale:</td>        <td>850.9501</td> \n",
       "</tr>\n",
       "<tr>\n",
       "  <td>Min. group size:</td>    <td>13</td>        <td>Likelihood:</td>     <td>-394.7583</td>\n",
       "</tr>\n",
       "<tr>\n",
       "  <td>Max. group size:</td>    <td>14</td>        <td>Converged:</td>         <td>Yes</td>   \n",
       "</tr>\n",
       "<tr>\n",
       "  <td>Mean group size:</td>   <td>13.8</td>            <td></td>               <td></td>     \n",
       "</tr>\n",
       "</table>\n",
       "<table class=\"simpletable\">\n",
       "<tr>\n",
       "      <td></td>       <th>Coef.</th>  <th>Std.Err.</th>    <th>z</th>   <th>P>|z|</th> <th>[0.025</th>  <th>0.975]</th> \n",
       "</tr>\n",
       "<tr>\n",
       "  <th>Intercept</th> <td>192.883</td>  <td>10.531</td>  <td>18.315</td> <td>0.000</td> <td>172.242</td> <td>213.524</td>\n",
       "</tr>\n",
       "<tr>\n",
       "  <th>attitude</th>   <td>9.705</td>    <td>3.203</td>   <td>3.030</td> <td>0.002</td>  <td>3.426</td>  <td>15.983</td> \n",
       "</tr>\n",
       "<tr>\n",
       "  <th>gender</th>    <td>54.102</td>   <td>10.531</td>   <td>5.137</td> <td>0.000</td> <td>33.462</td>  <td>74.743</td> \n",
       "</tr>\n",
       "<tr>\n",
       "  <th>Group Var</th> <td>603.873</td>  <td>16.530</td>     <td></td>      <td></td>       <td></td>        <td></td>    \n",
       "</tr>\n",
       "</table>"
      ],
      "text/plain": [
       "<class 'statsmodels.iolib.summary2.Summary'>\n",
       "\"\"\"\n",
       "         Mixed Linear Model Regression Results\n",
       "=======================================================\n",
       "Model:            MixedLM Dependent Variable: frequency\n",
       "No. Observations: 83      Method:             REML     \n",
       "No. Groups:       6       Scale:              850.9501 \n",
       "Min. group size:  13      Likelihood:         -394.7583\n",
       "Max. group size:  14      Converged:          Yes      \n",
       "Mean group size:  13.8                                 \n",
       "-------------------------------------------------------\n",
       "           Coef.  Std.Err.   z    P>|z|  [0.025  0.975]\n",
       "-------------------------------------------------------\n",
       "Intercept 192.883   10.531 18.315 0.000 172.242 213.524\n",
       "attitude    9.705    3.203  3.030 0.002   3.426  15.983\n",
       "gender     54.102   10.531  5.137 0.000  33.462  74.743\n",
       "Group Var 603.873   16.530                             \n",
       "=======================================================\n",
       "\n",
       "\"\"\""
      ]
     },
     "execution_count": 30,
     "metadata": {},
     "output_type": "execute_result"
    }
   ],
   "source": [
    "## Modèle 3\n",
    "md3 = smf.mixedlm(\"frequency ~ attitude + gender\", A2, groups= \"attitude\" + A2[\"subject\"])\n",
    "mdf3 = md3.fit()\n",
    "mdf3.summary()"
   ]
  },
  {
   "cell_type": "markdown",
   "metadata": {},
   "source": [
    "## Conclusion \n",
    "    \n",
    "Tout au long de ce Tp nous avons utilisé et mis en oeuvre les différentes techniques associées aux modèles linéaires mixtes."
   ]
  }
 ],
 "metadata": {
  "hide_input": false,
  "kernelspec": {
   "display_name": "Python 3",
   "language": "python",
   "name": "python3"
  },
  "language_info": {
   "codemirror_mode": {
    "name": "ipython",
    "version": 3
   },
   "file_extension": ".py",
   "mimetype": "text/x-python",
   "name": "python",
   "nbconvert_exporter": "python",
   "pygments_lexer": "ipython3",
   "version": "3.7.3"
  },
  "toc": {
   "base_numbering": 1,
   "nav_menu": {},
   "number_sections": false,
   "sideBar": true,
   "skip_h1_title": false,
   "title_cell": "Table of Contents",
   "title_sidebar": "Contents",
   "toc_cell": false,
   "toc_position": {},
   "toc_section_display": true,
   "toc_window_display": true
  }
 },
 "nbformat": 4,
 "nbformat_minor": 2
}
