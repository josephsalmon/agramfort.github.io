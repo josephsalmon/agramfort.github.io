{
 "cells": [
  {
   "cell_type": "markdown",
   "metadata": {},
   "source": [
    "\n",
    "# Numba: compilation \"Just in Time\" (jit)\n",
    "\n",
    "Numba convertit les fonctions Python en code machine optimisé au moment de l'exécution à l'aide de la bibliothèque de compilateur LLVM standard.\n",
    "Les algorithmes numériques compilés par Numba en Python peuvent alors approcher les vitesses de C ou de FORTRAN, la où les boucles classiques, comme en R et matlab, peuvent être un peu lente.\n",
    "\n",
    "https://numba.pydata.org/"
   ]
  },
  {
   "cell_type": "code",
   "execution_count": 6,
   "metadata": {
    "collapsed": true
   },
   "outputs": [],
   "source": [
    "import numpy as np\n",
    "import time\n",
    "from numba import jit"
   ]
  },
  {
   "cell_type": "markdown",
   "metadata": {},
   "source": [
    "# Exemple 1: Méthode de Monte Carlo pour approcher $\\pi$"
   ]
  },
  {
   "cell_type": "code",
   "execution_count": 3,
   "metadata": {
    "collapsed": true
   },
   "outputs": [],
   "source": [
    "@jit(nopython=True)\n",
    "def monte_carlo_pi(n_samples=1000):\n",
    "    acc = 0\n",
    "    for sample in range(n_samples):\n",
    "        vec = np.random.rand(2)\n",
    "        if np.linalg.norm(vec) < 1.:\n",
    "            acc += 1\n",
    "    return 4.0 * acc / n_samples "
   ]
  },
  {
   "cell_type": "code",
   "execution_count": 4,
   "metadata": {
    "collapsed": false
   },
   "outputs": [
    {
     "name": "stdout",
     "output_type": "stream",
     "text": [
      "Elapsed (with compilation) = 4.017842769622803\n",
      "Elapsed (after compilation) = 0.000545501708984375\n"
     ]
    }
   ],
   "source": [
    "# DO NOT REPORT THIS... COMPILATION TIME IS INCLUDED IN THE EXECUTION TIME!\n",
    "start = time.time()\n",
    "monte_carlo_pi(n_samples=10000000)\n",
    "end = time.time()\n",
    "print(\"Elapsed (with compilation) = %s\" % (end - start))\n",
    "\n",
    "# NOW THE FUNCTION IS COMPILED, RE-TIME IT EXECUTING FROM CACHE\n",
    "start = time.time()\n",
    "monte_carlo_pi(n_samples=1000)\n",
    "end = time.time()\n",
    "print(\"Elapsed (after compilation) = %s\" % (end - start))"
   ]
  },
  {
   "cell_type": "markdown",
   "metadata": {},
   "source": [
    "# Exemple 2: fonction matricielle (sans utiliser numpy)"
   ]
  },
  {
   "cell_type": "code",
   "execution_count": 5,
   "metadata": {
    "collapsed": false
   },
   "outputs": [
    {
     "name": "stdout",
     "output_type": "stream",
     "text": [
      "1000\n",
      "Elapsed (with compilation) = 0.07340669631958008\n",
      "Elapsed (after compilation) = 1.2159347534179688e-05\n",
      "Elapsed (vanilla) = 0.002764463424682617\n",
      "5000\n",
      "Elapsed (with compilation) = 0.050783395767211914\n",
      "Elapsed (after compilation) = 8.559226989746094e-05\n",
      "Elapsed (vanilla) = 0.011275768280029297\n",
      "10000\n",
      "Elapsed (with compilation) = 0.056412458419799805\n",
      "Elapsed (after compilation) = 0.00040268898010253906\n",
      "Elapsed (vanilla) = 0.02436542510986328\n",
      "[1000, 5000, 10000]\n",
      "Améliorations en pourcentage par rapport au code vanilla\n",
      "[2555.3686934   350.3763691   131.52667423]\n",
      "[-99.56015524 -99.24091851 -98.34729344]\n"
     ]
    }
   ],
   "source": [
    "def go_slow(a):  # Function is compiled and runs in machine code\n",
    "    trace = 0\n",
    "    for i in range(a.shape[0] - 1):\n",
    "        trace += np.tanh(a[i, i + 1])\n",
    "    return trace\n",
    "\n",
    "\n",
    "all_n_samples = [1000, 5000, 10000]\n",
    "t0 = []\n",
    "t1 = []\n",
    "t2 = []\n",
    "\n",
    "for n_samples in all_n_samples:\n",
    "    print(n_samples)\n",
    "    x = np.arange(n_samples ** 2).reshape(n_samples, n_samples)\n",
    "\n",
    "    @jit(nopython=True)\n",
    "    def go_fast(a):  # Function is compiled and runs in machine code\n",
    "        trace = 0\n",
    "        for i in range(a.shape[0] - 1):\n",
    "            trace += np.tanh(a[i, i + 1])\n",
    "        return trace\n",
    "    # COMPILATION INCLUSE!\n",
    "    start = time.time()\n",
    "    go_fast(x)\n",
    "    end = time.time()\n",
    "    t0.append(end - start)\n",
    "    print(\"Elapsed (with compilation) = %s\" % (end - start))\n",
    "    # COMPILATION NON INCLUSE, EXECUTER DEPUIS LE CACHE\n",
    "    start = time.time()\n",
    "    go_fast(x)\n",
    "    end = time.time()\n",
    "    t1.append(end - start)\n",
    "    print(\"Elapsed (after compilation) = %s\" % (end - start))\n",
    "    # VANILLA PYTHON\n",
    "    start = time.time()\n",
    "    go_slow(x)\n",
    "    end = time.time()\n",
    "    t2.append(end - start)\n",
    "    print(\"Elapsed (vanilla) = %s\" % (end - start))\n",
    "\n",
    "\n",
    "t0 = np.array(t0)\n",
    "t1 = np.array(t1)\n",
    "t2 = np.array(t2)\n",
    "\n",
    "\n",
    "print(all_n_samples)\n",
    "print(\"Améliorations en pourcentage par rapport au code vanilla\")\n",
    "print((t0 - t2) / t2 * 100)\n",
    "print((t1 - t2) / t2 * 100)"
   ]
  },
  {
   "cell_type": "markdown",
   "metadata": {},
   "source": [
    "# Exemple 3: descente de gradient avec/sans numba."
   ]
  },
  {
   "cell_type": "code",
   "execution_count": null,
   "metadata": {
    "collapsed": true
   },
   "outputs": [],
   "source": [
    "n_samples = 1000\n",
    "n_features = 500\n",
    "n_iterations = 2000\n",
    "\n",
    "X = np.random.randn(n_samples, n_features)\n",
    "y = np.random.randn(n_samples)\n",
    "y[n_samples // 2:] = 0\n",
    "\n",
    "w = np.zeros(n_features)  # init = 0"
   ]
  },
  {
   "cell_type": "code",
   "execution_count": null,
   "metadata": {
    "collapsed": false
   },
   "outputs": [],
   "source": [
    "@jit(nopython=True)\n",
    "# Function is compiled and runs in machine code\n",
    "def gradient(X, y, w, step_size=0.01,  max_iter=1000):\n",
    "    \"\"\"Gradient descent with constant step size.\"\"\"\n",
    "    for k in range(max_iter):\n",
    "        w -=  step_size * (X.T.dot(X.dot(w) - y))\n",
    "    return w\n",
    "\n",
    "# DO NOT REPORT THIS... COMPILATION TIME IS INCLUDED IN THE EXECUTION TIME!\n",
    "start = time.time()\n",
    "gradient(X, y, w)\n",
    "end = time.time()\n",
    "print(\"Elapsed (with compilation) = %s\" % (end - start))\n",
    "\n",
    "# NOW THE FUNCTION IS COMPILED, RE-TIME IT EXECUTING FROM CACHE\n",
    "start = time.time()\n",
    "gradient(X, y, w)\n",
    "end = time.time()\n",
    "print(\"Elapsed (after compilation) = %s\" % (end - start))"
   ]
  },
  {
   "cell_type": "markdown",
   "metadata": {},
   "source": [
    "# Exemple 4: Régression logistique"
   ]
  },
  {
   "cell_type": "code",
   "execution_count": null,
   "metadata": {
    "collapsed": false
   },
   "outputs": [],
   "source": [
    "y = np.random.randint(2, size=n_samples) *2 -1\n",
    "print(y)\n",
    "w = np.zeros(n_features)  # init = 0"
   ]
  },
  {
   "cell_type": "code",
   "execution_count": null,
   "metadata": {
    "collapsed": true
   },
   "outputs": [],
   "source": [
    "def logistic_regression_no_jit(y, X, w, iterations=1000):\n",
    "    for i in range(iterations):\n",
    "        w -= np.dot(((1.0 / (1.0 + np.exp(-y * np.dot(X, w))) - 1.0) * y), X)\n",
    "    return w"
   ]
  },
  {
   "cell_type": "code",
   "execution_count": null,
   "metadata": {
    "collapsed": false
   },
   "outputs": [],
   "source": [
    "start = time.time()\n",
    "logistic_regression_no_jit(y, X, w, iterations=n_iterations )\n",
    "end = time.time()\n",
    "print(\"Elapsed (with compilation) = %s\" % (end - start))\n"
   ]
  },
  {
   "cell_type": "code",
   "execution_count": null,
   "metadata": {
    "collapsed": true
   },
   "outputs": [],
   "source": [
    "@jit(nopython=True)\n",
    "def logistic_regression(y, X, w, iterations=1000):\n",
    "    for i in range(iterations):\n",
    "        w -= np.dot(((1.0 / (1.0 + np.exp(-y * np.dot(X, w))) - 1.0) * y), X)\n",
    "    return w"
   ]
  },
  {
   "cell_type": "code",
   "execution_count": null,
   "metadata": {
    "collapsed": false
   },
   "outputs": [],
   "source": [
    "# DO NOT REPORT THIS... COMPILATION TIME IS INCLUDED IN THE EXECUTION TIME!\n",
    "start = time.time()\n",
    "logistic_regression(y, X, w, iterations=n_iterations)\n",
    "end = time.time()\n",
    "print(\"Elapsed (with compilation) = %s\" % (end - start))\n",
    "\n",
    "# NOW THE FUNCTION IS COMPILED, RE-TIME IT EXECUTING FROM CACHE\n",
    "start = time.time()\n",
    "logistic_regression(y, X, w, iterations=n_iterations)\n",
    "end = time.time()\n",
    "print(\"Elapsed (after compilation) = %s\" % (end - start))"
   ]
  },
  {
   "cell_type": "code",
   "execution_count": null,
   "metadata": {
    "collapsed": true
   },
   "outputs": [],
   "source": []
  }
 ],
 "metadata": {
  "hide_input": false,
  "kernelspec": {
   "display_name": "Python 3",
   "language": "python",
   "name": "python3"
  },
  "language_info": {
   "codemirror_mode": {
    "name": "ipython",
    "version": 3
   },
   "file_extension": ".py",
   "mimetype": "text/x-python",
   "name": "python",
   "nbconvert_exporter": "python",
   "pygments_lexer": "ipython3",
   "version": "3.6.8"
  },
  "toc": {
   "nav_menu": {},
   "number_sections": false,
   "sideBar": true,
   "skip_h1_title": false,
   "toc_cell": false,
   "toc_position": {},
   "toc_section_display": "block",
   "toc_window_display": true
  }
 },
 "nbformat": 4,
 "nbformat_minor": 2
}
