{
 "cells": [
  {
   "cell_type": "markdown",
   "metadata": {},
   "source": [
    "# Efficacité en temps, mémoire et matrices sparse <a class=\"tocSkip\">\n",
    "      Joseph Salmon : joseph.salmon@umontpellier.fr\n"
   ]
  },
  {
   "cell_type": "code",
   "execution_count": null,
   "metadata": {
    "collapsed": false
   },
   "outputs": [],
   "source": [
    "import time\n",
    "import numpy as np"
   ]
  },
  {
   "cell_type": "markdown",
   "metadata": {},
   "source": [
    "# Temps et calcul: utilisation de `%timeit`\n",
    "Remarque pour d'autres commandes *magiques* comme %timeit, %matplotlib, %autoreload: "
   ]
  },
  {
   "cell_type": "code",
   "execution_count": null,
   "metadata": {
    "collapsed": true
   },
   "outputs": [],
   "source": [
    "n  = 1000\n",
    "val = 5.4"
   ]
  },
  {
   "cell_type": "code",
   "execution_count": null,
   "metadata": {
    "collapsed": false
   },
   "outputs": [],
   "source": [
    "%timeit a = np.empty(n); a.fill(val)"
   ]
  },
  {
   "cell_type": "code",
   "execution_count": null,
   "metadata": {
    "collapsed": false
   },
   "outputs": [],
   "source": [
    "%timeit a=np.empty(n); a[:]=val"
   ]
  },
  {
   "cell_type": "code",
   "execution_count": null,
   "metadata": {
    "collapsed": false
   },
   "outputs": [],
   "source": [
    "%timeit a = np.full((n,), val)"
   ]
  },
  {
   "cell_type": "code",
   "execution_count": null,
   "metadata": {
    "collapsed": false
   },
   "outputs": [],
   "source": [
    "%timeit a=np.ones(n)*val"
   ]
  },
  {
   "cell_type": "code",
   "execution_count": null,
   "metadata": {
    "collapsed": false
   },
   "outputs": [],
   "source": [
    "%timeit a=np.repeat(val,n)"
   ]
  },
  {
   "cell_type": "markdown",
   "metadata": {},
   "source": [
    "# Debogage : package `pdb`\n",
    "https://davidhamann.de/2017/04/22/debugging-jupyter-notebooks/\n",
    "utiliser  `import pdb; pdb.set_trace()` pour rentrer dans un code et requêter les informations des valeurs. Enfin pour continuer le code entre `c` et la touche `enter`.\n",
    "\n",
    "On peut consulter aussi:\n",
    "https://www.codementor.io/stevek/advanced-python-debugging-with-pdb-g56gvmpfa."
   ]
  },
  {
   "cell_type": "markdown",
   "metadata": {},
   "source": [
    "Une première manière de procéder est d'utiliser `pdb` et la commade `pdb.set_trace()` de ce package. Une invite de commande se lance alors quand on a un soucis, et on peut alors reprendre la main voir ce qu'il se passe."
   ]
  },
  {
   "cell_type": "code",
   "execution_count": null,
   "metadata": {
    "collapsed": false
   },
   "outputs": [],
   "source": [
    "def illustrate_pdb(x):\n",
    "    answer = 42\n",
    "    import pdb; pdb.set_trace()\n",
    "    answer += x\n",
    "    \n",
    "    return answer\n",
    "\n",
    "illustrate_pdb(12)"
   ]
  },
  {
   "cell_type": "markdown",
   "metadata": {},
   "source": [
    "Une autre manière de procéder est d'allumer le debogueur `pdb`. Une invite de commande se lance alors quand on a un soucis, et on peut alors reprendre la main voir ce qu'il se passe."
   ]
  },
  {
   "cell_type": "code",
   "execution_count": null,
   "metadata": {
    "collapsed": false
   },
   "outputs": [],
   "source": [
    "%pdb"
   ]
  },
  {
   "cell_type": "code",
   "execution_count": null,
   "metadata": {
    "collapsed": false
   },
   "outputs": [],
   "source": [
    "def blobl_func(x):\n",
    "    answer = 0\n",
    "    for i in range(x,-1,-1):\n",
    "        print(i)\n",
    "        answer += 1 / i\n",
    "    \n",
    "    return answer"
   ]
  },
  {
   "cell_type": "code",
   "execution_count": null,
   "metadata": {
    "collapsed": false
   },
   "outputs": [],
   "source": [
    "blobl_func(4)"
   ]
  },
  {
   "cell_type": "markdown",
   "metadata": {},
   "source": [
    "# Notion de tests:\n",
    "https://semaphoreci.com/community/tutorials/testing-python-applications-with-pytest"
   ]
  },
  {
   "cell_type": "markdown",
   "metadata": {},
   "source": [
    "# Matrices creuses, graphes et mémoire\n",
    "http://scipy-lectures.org/advanced/scipy_sparse/introduction.html#why-sparse-matrices\n",
    "\n",
    "https://rushter.com/blog/scipy-sparse-matrices/\n",
    "\n",
    "http://cmdlinetips.com/2018/03/sparse-matrices-in-python-with-scipy/\n",
    "\n",
    "Un cadre classique d'application des matrices creuses est le cadre des graphes: bien que le nombre de noeuds puissent être énorme, chaque noeud d'un graphe n'est en général pas relié à tous ces voisins. Si on représente un grapha par ca matrice d'adjacence:"
   ]
  },
  {
   "cell_type": "markdown",
   "metadata": {},
   "source": [
    "## Définition: *matrice d'adjacence*:\n",
    "Supposons que $G=(V,E)$ est un graphe, où $\\left|V\\right|=n$.\n",
    "Supposons que les sommets de $G$ sont numérotés arbitrairement $v_1,\\ldots,v_n$. \n",
    "La matrice d'adjacence $A$ de $G$ est la matrice $n \\times n$ de terme générale:\n",
    "\n",
    "$$a_{ij}=\\left\\{\\begin{array}{rl}\n",
    "\t1 & \\mbox{si } (v_i,v_j) \\in E \\\\\n",
    "        0 & \\mbox{sinon.}\n",
    "\\end{array}\\right.$$\n"
   ]
  },
  {
   "cell_type": "code",
   "execution_count": 1,
   "metadata": {
    "collapsed": false
   },
   "outputs": [],
   "source": [
    "import networkx as nx"
   ]
  },
  {
   "cell_type": "code",
   "execution_count": 2,
   "metadata": {
    "collapsed": true
   },
   "outputs": [],
   "source": [
    "G = nx.Graph()\n",
    "G.add_edge('A', 'B', weight=4)\n",
    "G.add_edge('B', 'D', weight=2)\n",
    "G.add_edge('A', 'C', weight=3)\n",
    "G.add_edge('C', 'D', weight=4)\n",
    "G.add_edge('D', 'A', weight=2)\n",
    "\n",
    "nx.draw(G, with_labels=True)"
   ]
  },
  {
   "cell_type": "code",
   "execution_count": 3,
   "metadata": {
    "collapsed": false
   },
   "outputs": [
    {
     "name": "stdout",
     "output_type": "stream",
     "text": [
      "[[0 4 2 3]\n",
      " [4 0 2 0]\n",
      " [2 2 0 4]\n",
      " [3 0 4 0]]\n"
     ]
    }
   ],
   "source": [
    "A = nx.adjacency_matrix(G)\n",
    "print(A.todense())"
   ]
  },
  {
   "cell_type": "code",
   "execution_count": 4,
   "metadata": {
    "collapsed": false
   },
   "outputs": [
    {
     "data": {
      "text/plain": [
       "['A', 'D']"
      ]
     },
     "execution_count": 4,
     "metadata": {},
     "output_type": "execute_result"
    }
   ],
   "source": [
    "nx.shortest_path(G, 'A', 'D', weight='weight')"
   ]
  },
  {
   "cell_type": "markdown",
   "metadata": {},
   "source": [
    "## Définition : *matrice d'incidence*\n",
    "Soit $G = (V,E)$ un graphe (non-orienté) à $n$ sommets, $V = [1,\\dots,n] $, et $p$ arrêtes, $E = [1,\\dot,p]$.\n",
    "Le graphe peut être représenté par sa matrice d'incidence arrête-sommet $D^\\top = \\in \\mathbb{R}^{p \\times n}$ défini par\n",
    "\\begin{equation}\n",
    "  (D^\\top)_{e,v} =\n",
    "  \\begin{cases}\n",
    "    + 1, & \\text{si } v = \\min(i,j) \\\\\n",
    "    -1, & \\text{si } v = \\max(i,j) \\\\\n",
    "    0, & \\text{sinon}\n",
    "  \\end{cases}\\enspace,\n",
    "\\end{equation}\n",
    "où $e = \\{i,j\\}$."
   ]
  },
  {
   "cell_type": "markdown",
   "metadata": {},
   "source": [
    "## Définition : *matrice d'incidence*\n",
    "\n",
    "The matrix $L=D D^\\top$ is the so-called graph Laplacian of $G$\n"
   ]
  },
  {
   "cell_type": "code",
   "execution_count": 5,
   "metadata": {
    "collapsed": false
   },
   "outputs": [
    {
     "name": "stdout",
     "output_type": "stream",
     "text": [
      "[[-1.  1.  0.  0.]\n",
      " [-1.  0.  0.  1.]\n",
      " [-1.  0.  1.  0.]\n",
      " [ 0. -1.  1.  0.]\n",
      " [ 0.  0. -1.  1.]]\n"
     ]
    }
   ],
   "source": [
    "D = nx.incidence_matrix(G, oriented=True).T\n",
    "print(D.todense())"
   ]
  },
  {
   "cell_type": "markdown",
   "metadata": {},
   "source": [
    "## Visualisation interactive de graphe\n"
   ]
  },
  {
   "cell_type": "code",
   "execution_count": 6,
   "metadata": {
    "collapsed": false
   },
   "outputs": [
    {
     "data": {
      "image/png": "[encoded data removed]",
      "text/plain": [
       "<Figure size 576x432 with 1 Axes>"
      ]
     },
     "metadata": {},
     "output_type": "display_data"
    }
   ],
   "source": [
    "import matplotlib.pylab as plt\n",
    "g = nx.karate_club_graph()\n",
    "fig, ax = plt.subplots(1, 1, figsize=(8, 6));\n",
    "nx.draw_networkx(g, ax=ax)\n",
    "plt.show()"
   ]
  },
  {
   "cell_type": "code",
   "execution_count": 22,
   "metadata": {
    "collapsed": false
   },
   "outputs": [],
   "source": [
    "# https://andrewmellor.co.uk/blog/articles/2014/12/14/d3-networks/\n",
    "# https://github.com/brandomr/ner2sna\n",
    "# REMARQUE: il faut télécharger les fichiers:\n",
    "# force.css, force.html, force.js pour l'affichage suivant\n",
    "from networkx.readwrite import json_graph\n",
    "import json\n",
    "# Load the graph from a json file:\n",
    "with open('force.json') as f:\n",
    "    js_graph = json.load(f)"
   ]
  },
  {
   "cell_type": "code",
   "execution_count": 23,
   "metadata": {
    "collapsed": false
   },
   "outputs": [
    {
     "data": {
      "text/html": [
       "<iframe height=400px width=100% src='force.html'></iframe>"
      ],
      "text/plain": [
       "<IPython.core.display.HTML object>"
      ]
     },
     "metadata": {},
     "output_type": "display_data"
    }
   ],
   "source": [
    "%%HTML\n",
    "<iframe height=400px width=100% src='force.html'></iframe>"
   ]
  },
  {
   "cell_type": "markdown",
   "metadata": {},
   "source": [
    "# Graphe et cartes planaires:\n",
    "Open Street Map interfacé avec Networkx, le package `osmnx`"
   ]
  },
  {
   "cell_type": "code",
   "execution_count": null,
   "metadata": {
    "collapsed": false
   },
   "outputs": [],
   "source": [
    "import osmnx as ox\n",
    "ox.utils.config(use_cache=True) # caching lage download "
   ]
  },
  {
   "cell_type": "code",
   "execution_count": null,
   "metadata": {
    "collapsed": true
   },
   "outputs": [],
   "source": [
    "G = ox.graph_from_place('Montpellier, France', network_type='bike')"
   ]
  },
  {
   "cell_type": "code",
   "execution_count": null,
   "metadata": {
    "collapsed": false
   },
   "outputs": [],
   "source": [
    "ox.plot_graph(G)"
   ]
  },
  {
   "cell_type": "code",
   "execution_count": null,
   "metadata": {
    "collapsed": false
   },
   "outputs": [],
   "source": [
    "print(G.number_of_edges())\n",
    "print(G.number_of_nodes())"
   ]
  },
  {
   "cell_type": "markdown",
   "metadata": {},
   "source": [
    "# Visualisation d'un chemin le plus court entre deux points."
   ]
  },
  {
   "cell_type": "code",
   "execution_count": null,
   "metadata": {
    "collapsed": false
   },
   "outputs": [],
   "source": [
    "# https://blog.ouseful.info/2018/06/29/working-with-openstreetmap-roads-data-using-osmnx/\n",
    "origin = ox.utils.geocode('Place Eugène Bataillon, Montpellier, France')\n",
    "destination = ox.utils.geocode('Maison du Lez, Montpellier, France')\n",
    "\n",
    "origin_node = ox.get_nearest_node(G, origin)\n",
    "destination_node = ox.get_nearest_node(G, destination)\n",
    "\n",
    "print(origin)\n",
    "print(destination)\n",
    "route = nx.shortest_path(G, origin_node, destination_node)"
   ]
  },
  {
   "cell_type": "code",
   "execution_count": null,
   "metadata": {
    "collapsed": false
   },
   "outputs": [],
   "source": [
    "ox.plot_graph_route(G, route)"
   ]
  },
  {
   "cell_type": "code",
   "execution_count": null,
   "metadata": {
    "collapsed": false
   },
   "outputs": [],
   "source": [
    "ox.plot_route_folium(G, route, route_width=2, route_color='#AA1111')  # adapté de : https://blog.ouseful.info/2018/06/29/working-with-openstreetmap-roads-data-using-osmnx/"
   ]
  },
  {
   "cell_type": "code",
   "execution_count": null,
   "metadata": {
    "collapsed": false
   },
   "outputs": [],
   "source": [
    "G.is_multigraph()"
   ]
  },
  {
   "cell_type": "code",
   "execution_count": null,
   "metadata": {
    "collapsed": false
   },
   "outputs": [],
   "source": [
    "edges = ox.graph_to_gdfs(G, nodes=False, edges=True)\n",
    "nodes = ox.graph_to_gdfs(G, nodes=True, edges=False)\n",
    "# Check columns\n",
    "print(edges.columns)\n",
    "print(nodes.columns)"
   ]
  },
  {
   "cell_type": "code",
   "execution_count": null,
   "metadata": {
    "collapsed": true
   },
   "outputs": [],
   "source": [
    "D = nx.incidence_matrix(G, oriented=True).T"
   ]
  },
  {
   "cell_type": "code",
   "execution_count": null,
   "metadata": {
    "collapsed": false
   },
   "outputs": [],
   "source": [
    "print('Size of full matrix with zeros: {0:3.2f}  MB'.format(D.data.nbytes/(1024**2)))"
   ]
  },
  {
   "cell_type": "code",
   "execution_count": null,
   "metadata": {
    "collapsed": false
   },
   "outputs": [],
   "source": [
    "#Creation d'une matrice de meme taille\n",
    "M = np.random.randn(G.number_of_nodes(), G.number_of_nodes())"
   ]
  },
  {
   "cell_type": "code",
   "execution_count": null,
   "metadata": {
    "collapsed": false
   },
   "outputs": [],
   "source": [
    "print('Size of full matrix with zeros: {0:3.2f}  MB'.format(M.nbytes/(1024**2)))"
   ]
  },
  {
   "cell_type": "markdown",
   "metadata": {},
   "source": [
    "## Sparsité du graphe:"
   ]
  },
  {
   "cell_type": "code",
   "execution_count": null,
   "metadata": {
    "collapsed": false
   },
   "outputs": [],
   "source": [
    "print(\"Il a {0:.2} % d'arrêtes utlile pour représenter le graphe de la ville de Montpellier\".format(100 * G.number_of_edges() / G.number_of_nodes() ** 2))"
   ]
  },
  {
   "cell_type": "markdown",
   "metadata": {},
   "source": [
    "### Remarques : divers type de matrices creuses:\n",
    "\n",
    "1. bsr_matrix: Block Sparse Row matrix\n",
    "1. coo_matrix: COOrdinate format matrix\n",
    "1. csc_matrix: Compressed Sparse Column matrix\n",
    "1. csr_matrix: Compressed Sparse Row matrix\n",
    "1. dia_matrix: Sparse matrix with DIAgonal storage\n",
    "1. dok_matrix: Dictionary Of Keys based sparse matrix.\n",
    "1. lil_matrix: Row-based linked list sparse matrix\n",
    "\n",
    "\n",
    "Selon la nature et la structure des données, `csc_matrix` est plus efficace pour le `slicing` par colonne, alors que \n",
    "csr_matrix est plus efficace pour le cas ligne (en statistiques et en machine learning c'est souvent `css_matrix` qui sont le plus utilisées."
   ]
  },
  {
   "cell_type": "code",
   "execution_count": null,
   "metadata": {
    "collapsed": false
   },
   "outputs": [],
   "source": []
  },
  {
   "cell_type": "markdown",
   "metadata": {
    "collapsed": true
   },
   "source": [
    "# Pour aller plus loin sur la visualisation de graphes géographiques:\n",
    "\n",
    "1. https://geoffboeing.com/2016/11/osmnx-python-street-networks/\n",
    "1. https://automating-gis-processes.github.io/2017/lessons/L7/network-analysis.html\n",
    "1. https://automating-gis-processes.github.io/2018/"
   ]
  },
  {
   "cell_type": "code",
   "execution_count": null,
   "metadata": {
    "collapsed": true
   },
   "outputs": [],
   "source": []
  }
 ],
 "metadata": {
  "hide_input": false,
  "kernelspec": {
   "display_name": "Python 3",
   "language": "python",
   "name": "python3"
  },
  "language_info": {
   "codemirror_mode": {
    "name": "ipython",
    "version": 3
   },
   "file_extension": ".py",
   "mimetype": "text/x-python",
   "name": "python",
   "nbconvert_exporter": "python",
   "pygments_lexer": "ipython3",
   "version": "3.6.8"
  },
  "toc": {
   "nav_menu": {},
   "number_sections": true,
   "sideBar": true,
   "skip_h1_title": false,
   "toc_cell": false,
   "toc_position": {
    "height": "396px",
    "left": "0px",
    "right": "779.267px",
    "top": "106px",
    "width": "209px"
   },
   "toc_section_display": "block",
   "toc_window_display": true
  }
 },
 "nbformat": 4,
 "nbformat_minor": 2
}
