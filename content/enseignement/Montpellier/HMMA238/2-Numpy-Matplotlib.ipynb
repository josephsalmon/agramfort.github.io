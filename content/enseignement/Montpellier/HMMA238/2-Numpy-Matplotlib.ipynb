{
 "cells": [
  {
   "cell_type": "markdown",
   "metadata": {},
   "source": [
    "# `numpy` (tableaux de données multi-dimensionnels) et `matplotlib` (visualisation en 2D et 3D pour Python)\n",
    "\n",
    "      Joseph Salmon : joseph.salmon@umontpellier.fr\n",
    "\n",
    "Adapté du travail de \n",
    "\n",
    "- A. Gramfort (alexandre.gramfort@inria.fr) http://alexandre.gramfort.net/\n",
    "- J.R. Johansson (robert@riken.jp) http://dml.riken.jp/~rob/"
   ]
  },
  {
   "cell_type": "code",
   "execution_count": 1,
   "metadata": {
    "collapsed": false
   },
   "outputs": [],
   "source": [
    "%matplotlib notebook"
   ]
  },
  {
   "cell_type": "markdown",
   "metadata": {},
   "source": [
    "**Remarque**: la commande \"magique\" `%matplotlib inline` peut aussi avoir de l'intérêt (à essayer donc!)  \n",
    "\n",
    "Voir aussi:\n",
    "- https://jakevdp.github.io/PythonDataScienceHandbook/01.03-magic-commands.html\n",
    "- https://ipython.org/ipython-doc/3/config/extensions/autoreload.html (pour `autoreload`)\n",
    "- https://ipython.readthedocs.io/en/stable/interactive/magics.html"
   ]
  },
  {
   "cell_type": "markdown",
   "metadata": {},
   "source": [
    "## Introduction\n",
    "\n",
    " "
   ]
  },
  {
   "cell_type": "markdown",
   "metadata": {},
   "source": [
    "* `numpy` est un module utilisé dans presque tous les projets de calcul numérique sous `Python`\n",
    "   * Il fournit des structures de données performantes pour la manipulation de vecteurs, matrices et tenseurs plus généraux\n",
    "   * `numpy` est écrit en `C` et en `Fortran` d'où ses performances élevées lorsque les calculs sont vectorisés, c'est-à-dire formulés comme des opérations sur des vecteurs/matrices."
   ]
  },
  {
   "cell_type": "markdown",
   "metadata": {},
   "source": [
    " * `matplotlib` est un module performant pour la génération de graphiques en 2D et 3D\n",
    "   * syntaxe très proche de celle de Matlab\n",
    "   * supporte texte et étiquettes en $\\LaTeX$\n",
    "   * sortie de qualité dans divers formats (.png, .pdf, .svg, .gif,etc.)\n",
    "   * interface graphique intéractive pour explorer les figures\n",
    " \n",
    "* `guiqwt.pyplot` est une alternative intéressante qui reprend la syntaxe de `matplotlib` (plus récente, encore peu utilisée)"
   ]
  },
  {
   "cell_type": "markdown",
   "metadata": {},
   "source": [
    "Pour utiliser `numpy` et `matplotlib` il faut commencer par les importer :"
   ]
  },
  {
   "cell_type": "code",
   "execution_count": 2,
   "metadata": {
    "collapsed": false
   },
   "outputs": [],
   "source": [
    "import numpy as np  # raccourci usuel\n",
    "import matplotlib.pyplot as plt # raccourci usuel"
   ]
  },
  {
   "cell_type": "markdown",
   "metadata": {},
   "source": [
    "## *Arrays* en `numpy`\n",
    "\n",
    "Dans la terminologie `numpy`, vecteurs, matrices et autres tenseurs (tableaux de dimension supérieure à 3) sont appelés *arrays*.\n"
   ]
  },
  {
   "cell_type": "markdown",
   "metadata": {},
   "source": [
    "## Création d'*arrays* `numpy` \n",
    "\n",
    "Plusieurs possibilités:\n",
    "\n",
    " * a partir de listes ou n-uplets `Python`\n",
    " * en utilisant des fonctions dédiées, telles que `arange`, `linspace`, etc.\n",
    " * par chargement à partir de fichiers\n",
    "\n",
    "### A partir de listes\n",
    "\n",
    "Au moyen de la fonction `numpy.array` :\n"
   ]
  },
  {
   "cell_type": "code",
   "execution_count": 3,
   "metadata": {
    "collapsed": false
   },
   "outputs": [
    {
     "name": "stdout",
     "output_type": "stream",
     "text": [
      "[1 3 2 4]\n",
      "<class 'numpy.ndarray'>\n"
     ]
    }
   ],
   "source": [
    "# un vecteur: l'argument de la fonction est une liste Python\n",
    "v = np.array([1, 3, 2, 4])\n",
    "print(v)\n",
    "print(type(v))"
   ]
  },
  {
   "cell_type": "markdown",
   "metadata": {},
   "source": [
    "On peut alors visualiser ces données avec `matplotlib`:"
   ]
  },
  {
   "cell_type": "code",
   "execution_count": 4,
   "metadata": {
    "collapsed": false
   },
   "outputs": [
    {
     "data": {
      "application/javascript": [
       "/* Put everything inside the global mpl namespace */\n",
       "window.mpl = {};\n",
       "\n",
       "\n",
       "mpl.get_websocket_type = function() {\n",
       "    if (typeof(WebSocket) !== 'undefined') {\n",
       "        return WebSocket;\n",
       "    } else if (typeof(MozWebSocket) !== 'undefined') {\n",
       "        return MozWebSocket;\n",
       "    } else {\n",
       "        alert('Your browser does not have WebSocket support.' +\n",
       "              'Please try Chrome, Safari or Firefox ≥ 6. ' +\n",
       "              'Firefox 4 and 5 are also supported but you ' +\n",
       "              'have to enable WebSockets in about:config.');\n",
       "    };\n",
       "}\n",
       "\n",
       "mpl.figure = function(figure_id, websocket, ondownload, parent_element) {\n",
       "    this.id = figure_id;\n",
       "\n",
       "    this.ws = websocket;\n",
       "\n",
       "    this.supports_binary = (this.ws.binaryType != undefined);\n",
       "\n",
       "    if (!this.supports_binary) {\n",
       "        var warnings = document.getElementById(\"mpl-warnings\");\n",
       "        if (warnings) {\n",
       "            warnings.style.display = 'block';\n",
       "            warnings.textContent = (\n",
       "                \"This browser does not support binary websocket messages. \" +\n",
       "                    \"Performance may be slow.\");\n",
       "        }\n",
       "    }\n",
       "\n",
       "    this.imageObj = new Image();\n",
       "\n",
       "    this.context = undefined;\n",
       "    this.message = undefined;\n",
       "    this.canvas = undefined;\n",
       "    this.rubberband_canvas = undefined;\n",
       "    this.rubberband_context = undefined;\n",
       "    this.format_dropdown = undefined;\n",
       "\n",
       "    this.image_mode = 'full';\n",
       "\n",
       "    this.root = $('<div/>');\n",
       "    this._root_extra_style(this.root)\n",
       "    this.root.attr('style', 'display: inline-block');\n",
       "\n",
       "    $(parent_element).append(this.root);\n",
       "\n",
       "    this._init_header(this);\n",
       "    this._init_canvas(this);\n",
       "    this._init_toolbar(this);\n",
       "\n",
       "    var fig = this;\n",
       "\n",
       "    this.waiting = false;\n",
       "\n",
       "    this.ws.onopen =  function () {\n",
       "            fig.send_message(\"supports_binary\", {value: fig.supports_binary});\n",
       "            fig.send_message(\"send_image_mode\", {});\n",
       "            if (mpl.ratio != 1) {\n",
       "                fig.send_message(\"set_dpi_ratio\", {'dpi_ratio': mpl.ratio});\n",
       "            }\n",
       "            fig.send_message(\"refresh\", {});\n",
       "        }\n",
       "\n",
       "    this.imageObj.onload = function() {\n",
       "            if (fig.image_mode == 'full') {\n",
       "                // Full images could contain transparency (where diff images\n",
       "                // almost always do), so we need to clear the canvas so that\n",
       "                // there is no ghosting.\n",
       "                fig.context.clearRect(0, 0, fig.canvas.width, fig.canvas.height);\n",
       "            }\n",
       "            fig.context.drawImage(fig.imageObj, 0, 0);\n",
       "        };\n",
       "\n",
       "    this.imageObj.onunload = function() {\n",
       "        fig.ws.close();\n",
       "    }\n",
       "\n",
       "    this.ws.onmessage = this._make_on_message_function(this);\n",
       "\n",
       "    this.ondownload = ondownload;\n",
       "}\n",
       "\n",
       "mpl.figure.prototype._init_header = function() {\n",
       "    var titlebar = $(\n",
       "        '<div class=\"ui-dialog-titlebar ui-widget-header ui-corner-all ' +\n",
       "        'ui-helper-clearfix\"/>');\n",
       "    var titletext = $(\n",
       "        '<div class=\"ui-dialog-title\" style=\"width: 100%; ' +\n",
       "        'text-align: center; padding: 3px;\"/>');\n",
       "    titlebar.append(titletext)\n",
       "    this.root.append(titlebar);\n",
       "    this.header = titletext[0];\n",
       "}\n",
       "\n",
       "\n",
       "\n",
       "mpl.figure.prototype._canvas_extra_style = function(canvas_div) {\n",
       "\n",
       "}\n",
       "\n",
       "\n",
       "mpl.figure.prototype._root_extra_style = function(canvas_div) {\n",
       "\n",
       "}\n",
       "\n",
       "mpl.figure.prototype._init_canvas = function() {\n",
       "    var fig = this;\n",
       "\n",
       "    var canvas_div = $('<div/>');\n",
       "\n",
       "    canvas_div.attr('style', 'position: relative; clear: both; outline: 0');\n",
       "\n",
       "    function canvas_keyboard_event(event) {\n",
       "        return fig.key_event(event, event['data']);\n",
       "    }\n",
       "\n",
       "    canvas_div.keydown('key_press', canvas_keyboard_event);\n",
       "    canvas_div.keyup('key_release', canvas_keyboard_event);\n",
       "    this.canvas_div = canvas_div\n",
       "    this._canvas_extra_style(canvas_div)\n",
       "    this.root.append(canvas_div);\n",
       "\n",
       "    var canvas = $('<canvas/>');\n",
       "    canvas.addClass('mpl-canvas');\n",
       "    canvas.attr('style', \"left: 0; top: 0; z-index: 0; outline: 0\")\n",
       "\n",
       "    this.canvas = canvas[0];\n",
       "    this.context = canvas[0].getContext(\"2d\");\n",
       "\n",
       "    var backingStore = this.context.backingStorePixelRatio ||\n",
       "\tthis.context.webkitBackingStorePixelRatio ||\n",
       "\tthis.context.mozBackingStorePixelRatio ||\n",
       "\tthis.context.msBackingStorePixelRatio ||\n",
       "\tthis.context.oBackingStorePixelRatio ||\n",
       "\tthis.context.backingStorePixelRatio || 1;\n",
       "\n",
       "    mpl.ratio = (window.devicePixelRatio || 1) / backingStore;\n",
       "\n",
       "    var rubberband = $('<canvas/>');\n",
       "    rubberband.attr('style', \"position: absolute; left: 0; top: 0; z-index: 1;\")\n",
       "\n",
       "    var pass_mouse_events = true;\n",
       "\n",
       "    canvas_div.resizable({\n",
       "        start: function(event, ui) {\n",
       "            pass_mouse_events = false;\n",
       "        },\n",
       "        resize: function(event, ui) {\n",
       "            fig.request_resize(ui.size.width, ui.size.height);\n",
       "        },\n",
       "        stop: function(event, ui) {\n",
       "            pass_mouse_events = true;\n",
       "            fig.request_resize(ui.size.width, ui.size.height);\n",
       "        },\n",
       "    });\n",
       "\n",
       "    function mouse_event_fn(event) {\n",
       "        if (pass_mouse_events)\n",
       "            return fig.mouse_event(event, event['data']);\n",
       "    }\n",
       "\n",
       "    rubberband.mousedown('button_press', mouse_event_fn);\n",
       "    rubberband.mouseup('button_release', mouse_event_fn);\n",
       "    // Throttle sequential mouse events to 1 every 20ms.\n",
       "    rubberband.mousemove('motion_notify', mouse_event_fn);\n",
       "\n",
       "    rubberband.mouseenter('figure_enter', mouse_event_fn);\n",
       "    rubberband.mouseleave('figure_leave', mouse_event_fn);\n",
       "\n",
       "    canvas_div.on(\"wheel\", function (event) {\n",
       "        event = event.originalEvent;\n",
       "        event['data'] = 'scroll'\n",
       "        if (event.deltaY < 0) {\n",
       "            event.step = 1;\n",
       "        } else {\n",
       "            event.step = -1;\n",
       "        }\n",
       "        mouse_event_fn(event);\n",
       "    });\n",
       "\n",
       "    canvas_div.append(canvas);\n",
       "    canvas_div.append(rubberband);\n",
       "\n",
       "    this.rubberband = rubberband;\n",
       "    this.rubberband_canvas = rubberband[0];\n",
       "    this.rubberband_context = rubberband[0].getContext(\"2d\");\n",
       "    this.rubberband_context.strokeStyle = \"#000000\";\n",
       "\n",
       "    this._resize_canvas = function(width, height) {\n",
       "        // Keep the size of the canvas, canvas container, and rubber band\n",
       "        // canvas in synch.\n",
       "        canvas_div.css('width', width)\n",
       "        canvas_div.css('height', height)\n",
       "\n",
       "        canvas.attr('width', width * mpl.ratio);\n",
       "        canvas.attr('height', height * mpl.ratio);\n",
       "        canvas.attr('style', 'width: ' + width + 'px; height: ' + height + 'px;');\n",
       "\n",
       "        rubberband.attr('width', width);\n",
       "        rubberband.attr('height', height);\n",
       "    }\n",
       "\n",
       "    // Set the figure to an initial 600x600px, this will subsequently be updated\n",
       "    // upon first draw.\n",
       "    this._resize_canvas(600, 600);\n",
       "\n",
       "    // Disable right mouse context menu.\n",
       "    $(this.rubberband_canvas).bind(\"contextmenu\",function(e){\n",
       "        return false;\n",
       "    });\n",
       "\n",
       "    function set_focus () {\n",
       "        canvas.focus();\n",
       "        canvas_div.focus();\n",
       "    }\n",
       "\n",
       "    window.setTimeout(set_focus, 100);\n",
       "}\n",
       "\n",
       "mpl.figure.prototype._init_toolbar = function() {\n",
       "    var fig = this;\n",
       "\n",
       "    var nav_element = $('<div/>')\n",
       "    nav_element.attr('style', 'width: 100%');\n",
       "    this.root.append(nav_element);\n",
       "\n",
       "    // Define a callback function for later on.\n",
       "    function toolbar_event(event) {\n",
       "        return fig.toolbar_button_onclick(event['data']);\n",
       "    }\n",
       "    function toolbar_mouse_event(event) {\n",
       "        return fig.toolbar_button_onmouseover(event['data']);\n",
       "    }\n",
       "\n",
       "    for(var toolbar_ind in mpl.toolbar_items) {\n",
       "        var name = mpl.toolbar_items[toolbar_ind][0];\n",
       "        var tooltip = mpl.toolbar_items[toolbar_ind][1];\n",
       "        var image = mpl.toolbar_items[toolbar_ind][2];\n",
       "        var method_name = mpl.toolbar_items[toolbar_ind][3];\n",
       "\n",
       "        if (!name) {\n",
       "            // put a spacer in here.\n",
       "            continue;\n",
       "        }\n",
       "        var button = $('<button/>');\n",
       "        button.addClass('ui-button ui-widget ui-state-default ui-corner-all ' +\n",
       "                        'ui-button-icon-only');\n",
       "        button.attr('role', 'button');\n",
       "        button.attr('aria-disabled', 'false');\n",
       "        button.click(method_name, toolbar_event);\n",
       "        button.mouseover(tooltip, toolbar_mouse_event);\n",
       "\n",
       "        var icon_img = $('<span/>');\n",
       "        icon_img.addClass('ui-button-icon-primary ui-icon');\n",
       "        icon_img.addClass(image);\n",
       "        icon_img.addClass('ui-corner-all');\n",
       "\n",
       "        var tooltip_span = $('<span/>');\n",
       "        tooltip_span.addClass('ui-button-text');\n",
       "        tooltip_span.html(tooltip);\n",
       "\n",
       "        button.append(icon_img);\n",
       "        button.append(tooltip_span);\n",
       "\n",
       "        nav_element.append(button);\n",
       "    }\n",
       "\n",
       "    var fmt_picker_span = $('<span/>');\n",
       "\n",
       "    var fmt_picker = $('<select/>');\n",
       "    fmt_picker.addClass('mpl-toolbar-option ui-widget ui-widget-content');\n",
       "    fmt_picker_span.append(fmt_picker);\n",
       "    nav_element.append(fmt_picker_span);\n",
       "    this.format_dropdown = fmt_picker[0];\n",
       "\n",
       "    for (var ind in mpl.extensions) {\n",
       "        var fmt = mpl.extensions[ind];\n",
       "        var option = $(\n",
       "            '<option/>', {selected: fmt === mpl.default_extension}).html(fmt);\n",
       "        fmt_picker.append(option)\n",
       "    }\n",
       "\n",
       "    // Add hover states to the ui-buttons\n",
       "    $( \".ui-button\" ).hover(\n",
       "        function() { $(this).addClass(\"ui-state-hover\");},\n",
       "        function() { $(this).removeClass(\"ui-state-hover\");}\n",
       "    );\n",
       "\n",
       "    var status_bar = $('<span class=\"mpl-message\"/>');\n",
       "    nav_element.append(status_bar);\n",
       "    this.message = status_bar[0];\n",
       "}\n",
       "\n",
       "mpl.figure.prototype.request_resize = function(x_pixels, y_pixels) {\n",
       "    // Request matplotlib to resize the figure. Matplotlib will then trigger a resize in the client,\n",
       "    // which will in turn request a refresh of the image.\n",
       "    this.send_message('resize', {'width': x_pixels, 'height': y_pixels});\n",
       "}\n",
       "\n",
       "mpl.figure.prototype.send_message = function(type, properties) {\n",
       "    properties['type'] = type;\n",
       "    properties['figure_id'] = this.id;\n",
       "    this.ws.send(JSON.stringify(properties));\n",
       "}\n",
       "\n",
       "mpl.figure.prototype.send_draw_message = function() {\n",
       "    if (!this.waiting) {\n",
       "        this.waiting = true;\n",
       "        this.ws.send(JSON.stringify({type: \"draw\", figure_id: this.id}));\n",
       "    }\n",
       "}\n",
       "\n",
       "\n",
       "mpl.figure.prototype.handle_save = function(fig, msg) {\n",
       "    var format_dropdown = fig.format_dropdown;\n",
       "    var format = format_dropdown.options[format_dropdown.selectedIndex].value;\n",
       "    fig.ondownload(fig, format);\n",
       "}\n",
       "\n",
       "\n",
       "mpl.figure.prototype.handle_resize = function(fig, msg) {\n",
       "    var size = msg['size'];\n",
       "    if (size[0] != fig.canvas.width || size[1] != fig.canvas.height) {\n",
       "        fig._resize_canvas(size[0], size[1]);\n",
       "        fig.send_message(\"refresh\", {});\n",
       "    };\n",
       "}\n",
       "\n",
       "mpl.figure.prototype.handle_rubberband = function(fig, msg) {\n",
       "    var x0 = msg['x0'] / mpl.ratio;\n",
       "    var y0 = (fig.canvas.height - msg['y0']) / mpl.ratio;\n",
       "    var x1 = msg['x1'] / mpl.ratio;\n",
       "    var y1 = (fig.canvas.height - msg['y1']) / mpl.ratio;\n",
       "    x0 = Math.floor(x0) + 0.5;\n",
       "    y0 = Math.floor(y0) + 0.5;\n",
       "    x1 = Math.floor(x1) + 0.5;\n",
       "    y1 = Math.floor(y1) + 0.5;\n",
       "    var min_x = Math.min(x0, x1);\n",
       "    var min_y = Math.min(y0, y1);\n",
       "    var width = Math.abs(x1 - x0);\n",
       "    var height = Math.abs(y1 - y0);\n",
       "\n",
       "    fig.rubberband_context.clearRect(\n",
       "        0, 0, fig.canvas.width, fig.canvas.height);\n",
       "\n",
       "    fig.rubberband_context.strokeRect(min_x, min_y, width, height);\n",
       "}\n",
       "\n",
       "mpl.figure.prototype.handle_figure_label = function(fig, msg) {\n",
       "    // Updates the figure title.\n",
       "    fig.header.textContent = msg['label'];\n",
       "}\n",
       "\n",
       "mpl.figure.prototype.handle_cursor = function(fig, msg) {\n",
       "    var cursor = msg['cursor'];\n",
       "    switch(cursor)\n",
       "    {\n",
       "    case 0:\n",
       "        cursor = 'pointer';\n",
       "        break;\n",
       "    case 1:\n",
       "        cursor = 'default';\n",
       "        break;\n",
       "    case 2:\n",
       "        cursor = 'crosshair';\n",
       "        break;\n",
       "    case 3:\n",
       "        cursor = 'move';\n",
       "        break;\n",
       "    }\n",
       "    fig.rubberband_canvas.style.cursor = cursor;\n",
       "}\n",
       "\n",
       "mpl.figure.prototype.handle_message = function(fig, msg) {\n",
       "    fig.message.textContent = msg['message'];\n",
       "}\n",
       "\n",
       "mpl.figure.prototype.handle_draw = function(fig, msg) {\n",
       "    // Request the server to send over a new figure.\n",
       "    fig.send_draw_message();\n",
       "}\n",
       "\n",
       "mpl.figure.prototype.handle_image_mode = function(fig, msg) {\n",
       "    fig.image_mode = msg['mode'];\n",
       "}\n",
       "\n",
       "mpl.figure.prototype.updated_canvas_event = function() {\n",
       "    // Called whenever the canvas gets updated.\n",
       "    this.send_message(\"ack\", {});\n",
       "}\n",
       "\n",
       "// A function to construct a web socket function for onmessage handling.\n",
       "// Called in the figure constructor.\n",
       "mpl.figure.prototype._make_on_message_function = function(fig) {\n",
       "    return function socket_on_message(evt) {\n",
       "        if (evt.data instanceof Blob) {\n",
       "            /* FIXME: We get \"Resource interpreted as Image but\n",
       "             * transferred with MIME type text/plain:\" errors on\n",
       "             * Chrome.  But how to set the MIME type?  It doesn't seem\n",
       "             * to be part of the websocket stream */\n",
       "            evt.data.type = \"image/png\";\n",
       "\n",
       "            /* Free the memory for the previous frames */\n",
       "            if (fig.imageObj.src) {\n",
       "                (window.URL || window.webkitURL).revokeObjectURL(\n",
       "                    fig.imageObj.src);\n",
       "            }\n",
       "\n",
       "            fig.imageObj.src = (window.URL || window.webkitURL).createObjectURL(\n",
       "                evt.data);\n",
       "            fig.updated_canvas_event();\n",
       "            fig.waiting = false;\n",
       "            return;\n",
       "        }\n",
       "        else if (typeof evt.data === 'string' && evt.data.slice(0, 21) == \"data:image/png;base64\") {\n",
       "            fig.imageObj.src = evt.data;\n",
       "            fig.updated_canvas_event();\n",
       "            fig.waiting = false;\n",
       "            return;\n",
       "        }\n",
       "\n",
       "        var msg = JSON.parse(evt.data);\n",
       "        var msg_type = msg['type'];\n",
       "\n",
       "        // Call the  \"handle_{type}\" callback, which takes\n",
       "        // the figure and JSON message as its only arguments.\n",
       "        try {\n",
       "            var callback = fig[\"handle_\" + msg_type];\n",
       "        } catch (e) {\n",
       "            console.log(\"No handler for the '\" + msg_type + \"' message type: \", msg);\n",
       "            return;\n",
       "        }\n",
       "\n",
       "        if (callback) {\n",
       "            try {\n",
       "                // console.log(\"Handling '\" + msg_type + \"' message: \", msg);\n",
       "                callback(fig, msg);\n",
       "            } catch (e) {\n",
       "                console.log(\"Exception inside the 'handler_\" + msg_type + \"' callback:\", e, e.stack, msg);\n",
       "            }\n",
       "        }\n",
       "    };\n",
       "}\n",
       "\n",
       "// from http://stackoverflow.com/questions/1114465/getting-mouse-location-in-canvas\n",
       "mpl.findpos = function(e) {\n",
       "    //this section is from http://www.quirksmode.org/js/events_properties.html\n",
       "    var targ;\n",
       "    if (!e)\n",
       "        e = window.event;\n",
       "    if (e.target)\n",
       "        targ = e.target;\n",
       "    else if (e.srcElement)\n",
       "        targ = e.srcElement;\n",
       "    if (targ.nodeType == 3) // defeat Safari bug\n",
       "        targ = targ.parentNode;\n",
       "\n",
       "    // jQuery normalizes the pageX and pageY\n",
       "    // pageX,Y are the mouse positions relative to the document\n",
       "    // offset() returns the position of the element relative to the document\n",
       "    var x = e.pageX - $(targ).offset().left;\n",
       "    var y = e.pageY - $(targ).offset().top;\n",
       "\n",
       "    return {\"x\": x, \"y\": y};\n",
       "};\n",
       "\n",
       "/*\n",
       " * return a copy of an object with only non-object keys\n",
       " * we need this to avoid circular references\n",
       " * http://stackoverflow.com/a/24161582/3208463\n",
       " */\n",
       "function simpleKeys (original) {\n",
       "  return Object.keys(original).reduce(function (obj, key) {\n",
       "    if (typeof original[key] !== 'object')\n",
       "        obj[key] = original[key]\n",
       "    return obj;\n",
       "  }, {});\n",
       "}\n",
       "\n",
       "mpl.figure.prototype.mouse_event = function(event, name) {\n",
       "    var canvas_pos = mpl.findpos(event)\n",
       "\n",
       "    if (name === 'button_press')\n",
       "    {\n",
       "        this.canvas.focus();\n",
       "        this.canvas_div.focus();\n",
       "    }\n",
       "\n",
       "    var x = canvas_pos.x * mpl.ratio;\n",
       "    var y = canvas_pos.y * mpl.ratio;\n",
       "\n",
       "    this.send_message(name, {x: x, y: y, button: event.button,\n",
       "                             step: event.step,\n",
       "                             guiEvent: simpleKeys(event)});\n",
       "\n",
       "    /* This prevents the web browser from automatically changing to\n",
       "     * the text insertion cursor when the button is pressed.  We want\n",
       "     * to control all of the cursor setting manually through the\n",
       "     * 'cursor' event from matplotlib */\n",
       "    event.preventDefault();\n",
       "    return false;\n",
       "}\n",
       "\n",
       "mpl.figure.prototype._key_event_extra = function(event, name) {\n",
       "    // Handle any extra behaviour associated with a key event\n",
       "}\n",
       "\n",
       "mpl.figure.prototype.key_event = function(event, name) {\n",
       "\n",
       "    // Prevent repeat events\n",
       "    if (name == 'key_press')\n",
       "    {\n",
       "        if (event.which === this._key)\n",
       "            return;\n",
       "        else\n",
       "            this._key = event.which;\n",
       "    }\n",
       "    if (name == 'key_release')\n",
       "        this._key = null;\n",
       "\n",
       "    var value = '';\n",
       "    if (event.ctrlKey && event.which != 17)\n",
       "        value += \"ctrl+\";\n",
       "    if (event.altKey && event.which != 18)\n",
       "        value += \"alt+\";\n",
       "    if (event.shiftKey && event.which != 16)\n",
       "        value += \"shift+\";\n",
       "\n",
       "    value += 'k';\n",
       "    value += event.which.toString();\n",
       "\n",
       "    this._key_event_extra(event, name);\n",
       "\n",
       "    this.send_message(name, {key: value,\n",
       "                             guiEvent: simpleKeys(event)});\n",
       "    return false;\n",
       "}\n",
       "\n",
       "mpl.figure.prototype.toolbar_button_onclick = function(name) {\n",
       "    if (name == 'download') {\n",
       "        this.handle_save(this, null);\n",
       "    } else {\n",
       "        this.send_message(\"toolbar_button\", {name: name});\n",
       "    }\n",
       "};\n",
       "\n",
       "mpl.figure.prototype.toolbar_button_onmouseover = function(tooltip) {\n",
       "    this.message.textContent = tooltip;\n",
       "};\n",
       "mpl.toolbar_items = [[\"Home\", \"Reset original view\", \"fa fa-home icon-home\", \"home\"], [\"Back\", \"Back to  previous view\", \"fa fa-arrow-left icon-arrow-left\", \"back\"], [\"Forward\", \"Forward to next view\", \"fa fa-arrow-right icon-arrow-right\", \"forward\"], [\"\", \"\", \"\", \"\"], [\"Pan\", \"Pan axes with left mouse, zoom with right\", \"fa fa-arrows icon-move\", \"pan\"], [\"Zoom\", \"Zoom to rectangle\", \"fa fa-square-o icon-check-empty\", \"zoom\"], [\"\", \"\", \"\", \"\"], [\"Download\", \"Download plot\", \"fa fa-floppy-o icon-save\", \"download\"]];\n",
       "\n",
       "mpl.extensions = [\"eps\", \"jpeg\", \"pdf\", \"png\", \"ps\", \"raw\", \"svg\", \"tif\"];\n",
       "\n",
       "mpl.default_extension = \"png\";var comm_websocket_adapter = function(comm) {\n",
       "    // Create a \"websocket\"-like object which calls the given IPython comm\n",
       "    // object with the appropriate methods. Currently this is a non binary\n",
       "    // socket, so there is still some room for performance tuning.\n",
       "    var ws = {};\n",
       "\n",
       "    ws.close = function() {\n",
       "        comm.close()\n",
       "    };\n",
       "    ws.send = function(m) {\n",
       "        //console.log('sending', m);\n",
       "        comm.send(m);\n",
       "    };\n",
       "    // Register the callback with on_msg.\n",
       "    comm.on_msg(function(msg) {\n",
       "        //console.log('receiving', msg['content']['data'], msg);\n",
       "        // Pass the mpl event to the overridden (by mpl) onmessage function.\n",
       "        ws.onmessage(msg['content']['data'])\n",
       "    });\n",
       "    return ws;\n",
       "}\n",
       "\n",
       "mpl.mpl_figure_comm = function(comm, msg) {\n",
       "    // This is the function which gets called when the mpl process\n",
       "    // starts-up an IPython Comm through the \"matplotlib\" channel.\n",
       "\n",
       "    var id = msg.content.data.id;\n",
       "    // Get hold of the div created by the display call when the Comm\n",
       "    // socket was opened in Python.\n",
       "    var element = $(\"#\" + id);\n",
       "    var ws_proxy = comm_websocket_adapter(comm)\n",
       "\n",
       "    function ondownload(figure, format) {\n",
       "        window.open(figure.imageObj.src);\n",
       "    }\n",
       "\n",
       "    var fig = new mpl.figure(id, ws_proxy,\n",
       "                           ondownload,\n",
       "                           element.get(0));\n",
       "\n",
       "    // Call onopen now - mpl needs it, as it is assuming we've passed it a real\n",
       "    // web socket which is closed, not our websocket->open comm proxy.\n",
       "    ws_proxy.onopen();\n",
       "\n",
       "    fig.parent_element = element.get(0);\n",
       "    fig.cell_info = mpl.find_output_cell(\"<div id='\" + id + \"'></div>\");\n",
       "    if (!fig.cell_info) {\n",
       "        console.error(\"Failed to find cell for figure\", id, fig);\n",
       "        return;\n",
       "    }\n",
       "\n",
       "    var output_index = fig.cell_info[2]\n",
       "    var cell = fig.cell_info[0];\n",
       "\n",
       "};\n",
       "\n",
       "mpl.figure.prototype.handle_close = function(fig, msg) {\n",
       "    var width = fig.canvas.width/mpl.ratio\n",
       "    fig.root.unbind('remove')\n",
       "\n",
       "    // Update the output cell to use the data from the current canvas.\n",
       "    fig.push_to_output();\n",
       "    var dataURL = fig.canvas.toDataURL();\n",
       "    // Re-enable the keyboard manager in IPython - without this line, in FF,\n",
       "    // the notebook keyboard shortcuts fail.\n",
       "    IPython.keyboard_manager.enable()\n",
       "    $(fig.parent_element).html('<img src=\"' + dataURL + '\" width=\"' + width + '\">');\n",
       "    fig.close_ws(fig, msg);\n",
       "}\n",
       "\n",
       "mpl.figure.prototype.close_ws = function(fig, msg){\n",
       "    fig.send_message('closing', msg);\n",
       "    // fig.ws.close()\n",
       "}\n",
       "\n",
       "mpl.figure.prototype.push_to_output = function(remove_interactive) {\n",
       "    // Turn the data on the canvas into data in the output cell.\n",
       "    var width = this.canvas.width/mpl.ratio\n",
       "    var dataURL = this.canvas.toDataURL();\n",
       "    this.cell_info[1]['text/html'] = '<img src=\"' + dataURL + '\" width=\"' + width + '\">';\n",
       "}\n",
       "\n",
       "mpl.figure.prototype.updated_canvas_event = function() {\n",
       "    // Tell IPython that the notebook contents must change.\n",
       "    IPython.notebook.set_dirty(true);\n",
       "    this.send_message(\"ack\", {});\n",
       "    var fig = this;\n",
       "    // Wait a second, then push the new image to the DOM so\n",
       "    // that it is saved nicely (might be nice to debounce this).\n",
       "    setTimeout(function () { fig.push_to_output() }, 1000);\n",
       "}\n",
       "\n",
       "mpl.figure.prototype._init_toolbar = function() {\n",
       "    var fig = this;\n",
       "\n",
       "    var nav_element = $('<div/>')\n",
       "    nav_element.attr('style', 'width: 100%');\n",
       "    this.root.append(nav_element);\n",
       "\n",
       "    // Define a callback function for later on.\n",
       "    function toolbar_event(event) {\n",
       "        return fig.toolbar_button_onclick(event['data']);\n",
       "    }\n",
       "    function toolbar_mouse_event(event) {\n",
       "        return fig.toolbar_button_onmouseover(event['data']);\n",
       "    }\n",
       "\n",
       "    for(var toolbar_ind in mpl.toolbar_items){\n",
       "        var name = mpl.toolbar_items[toolbar_ind][0];\n",
       "        var tooltip = mpl.toolbar_items[toolbar_ind][1];\n",
       "        var image = mpl.toolbar_items[toolbar_ind][2];\n",
       "        var method_name = mpl.toolbar_items[toolbar_ind][3];\n",
       "\n",
       "        if (!name) { continue; };\n",
       "\n",
       "        var button = $('<button class=\"btn btn-default\" href=\"#\" title=\"' + name + '\"><i class=\"fa ' + image + ' fa-lg\"></i></button>');\n",
       "        button.click(method_name, toolbar_event);\n",
       "        button.mouseover(tooltip, toolbar_mouse_event);\n",
       "        nav_element.append(button);\n",
       "    }\n",
       "\n",
       "    // Add the status bar.\n",
       "    var status_bar = $('<span class=\"mpl-message\" style=\"text-align:right; float: right;\"/>');\n",
       "    nav_element.append(status_bar);\n",
       "    this.message = status_bar[0];\n",
       "\n",
       "    // Add the close button to the window.\n",
       "    var buttongrp = $('<div class=\"btn-group inline pull-right\"></div>');\n",
       "    var button = $('<button class=\"btn btn-mini btn-primary\" href=\"#\" title=\"Stop Interaction\"><i class=\"fa fa-power-off icon-remove icon-large\"></i></button>');\n",
       "    button.click(function (evt) { fig.handle_close(fig, {}); } );\n",
       "    button.mouseover('Stop Interaction', toolbar_mouse_event);\n",
       "    buttongrp.append(button);\n",
       "    var titlebar = this.root.find($('.ui-dialog-titlebar'));\n",
       "    titlebar.prepend(buttongrp);\n",
       "}\n",
       "\n",
       "mpl.figure.prototype._root_extra_style = function(el){\n",
       "    var fig = this\n",
       "    el.on(\"remove\", function(){\n",
       "\tfig.close_ws(fig, {});\n",
       "    });\n",
       "}\n",
       "\n",
       "mpl.figure.prototype._canvas_extra_style = function(el){\n",
       "    // this is important to make the div 'focusable\n",
       "    el.attr('tabindex', 0)\n",
       "    // reach out to IPython and tell the keyboard manager to turn it's self\n",
       "    // off when our div gets focus\n",
       "\n",
       "    // location in version 3\n",
       "    if (IPython.notebook.keyboard_manager) {\n",
       "        IPython.notebook.keyboard_manager.register_events(el);\n",
       "    }\n",
       "    else {\n",
       "        // location in version 2\n",
       "        IPython.keyboard_manager.register_events(el);\n",
       "    }\n",
       "\n",
       "}\n",
       "\n",
       "mpl.figure.prototype._key_event_extra = function(event, name) {\n",
       "    var manager = IPython.notebook.keyboard_manager;\n",
       "    if (!manager)\n",
       "        manager = IPython.keyboard_manager;\n",
       "\n",
       "    // Check for shift+enter\n",
       "    if (event.shiftKey && event.which == 13) {\n",
       "        this.canvas_div.blur();\n",
       "        event.shiftKey = false;\n",
       "        // Send a \"J\" for go to next cell\n",
       "        event.which = 74;\n",
       "        event.keyCode = 74;\n",
       "        manager.command_mode();\n",
       "        manager.handle_keydown(event);\n",
       "    }\n",
       "}\n",
       "\n",
       "mpl.figure.prototype.handle_save = function(fig, msg) {\n",
       "    fig.ondownload(fig, null);\n",
       "}\n",
       "\n",
       "\n",
       "mpl.find_output_cell = function(html_output) {\n",
       "    // Return the cell and output element which can be found *uniquely* in the notebook.\n",
       "    // Note - this is a bit hacky, but it is done because the \"notebook_saving.Notebook\"\n",
       "    // IPython event is triggered only after the cells have been serialised, which for\n",
       "    // our purposes (turning an active figure into a static one), is too late.\n",
       "    var cells = IPython.notebook.get_cells();\n",
       "    var ncells = cells.length;\n",
       "    for (var i=0; i<ncells; i++) {\n",
       "        var cell = cells[i];\n",
       "        if (cell.cell_type === 'code'){\n",
       "            for (var j=0; j<cell.output_area.outputs.length; j++) {\n",
       "                var data = cell.output_area.outputs[j];\n",
       "                if (data.data) {\n",
       "                    // IPython >= 3 moved mimebundle to data attribute of output\n",
       "                    data = data.data;\n",
       "                }\n",
       "                if (data['text/html'] == html_output) {\n",
       "                    return [cell, data, j];\n",
       "                }\n",
       "            }\n",
       "        }\n",
       "    }\n",
       "}\n",
       "\n",
       "// Register the function which deals with the matplotlib target/channel.\n",
       "// The kernel may be null if the page has been refreshed.\n",
       "if (IPython.notebook.kernel != null) {\n",
       "    IPython.notebook.kernel.comm_manager.register_target('matplotlib', mpl.mpl_figure_comm);\n",
       "}\n"
      ],
      "text/plain": [
       "<IPython.core.display.Javascript object>"
      ]
     },
     "metadata": {},
     "output_type": "display_data"
    },
    {
     "data": {
      "text/html": [
       "<img src=\"data:image/png;base64,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\" width=\"640\">"
      ],
      "text/plain": [
       "<IPython.core.display.HTML object>"
      ]
     },
     "metadata": {},
     "output_type": "display_data"
    }
   ],
   "source": [
    "v = np.array([1, 3, 2, 4])\n",
    "x = np.array([0, 1, 2, 3])\n",
    "\n",
    "fig = plt.figure()\n",
    "plt.plot(x,v, 'rv--', label='v(x)')\n",
    "plt.legend(loc='lower right')\n",
    "plt.xlabel('x')\n",
    "plt.ylabel('v')\n",
    "plt.title('Mon titre')\n",
    "plt.xlim([-1, 4])\n",
    "plt.ylim([0, 5])\n",
    "plt.show()\n",
    "# fig.savefig('toto.svg')  # décommenter pour sauvegarder"
   ]
  },
  {
   "cell_type": "markdown",
   "metadata": {},
   "source": [
    "**Remarque**: on peut omettre la commande `plt.show()` lorsque la méthode `ion()` (pour  *Interaction ON*) a été appelée.\n",
    "C'est le cas dans `spyder` et `pylab` (qu'on lance par exemple avec la commande `ipython --pylab` dans un terminal Linux)."
   ]
  },
  {
   "cell_type": "markdown",
   "metadata": {},
   "source": [
    "Pour définir une matrice (= array de dimension 2 pour `numpy`):\n"
   ]
  },
  {
   "cell_type": "code",
   "execution_count": 5,
   "metadata": {
    "collapsed": false
   },
   "outputs": [
    {
     "name": "stdout",
     "output_type": "stream",
     "text": [
      "[[1 2]\n",
      " [3 4]]\n"
     ]
    }
   ],
   "source": [
    "# Matrice: l'argument est une liste emboitée\n",
    "M = np.array([[1, 2], [3, 4]])\n",
    "print(M)"
   ]
  },
  {
   "cell_type": "code",
   "execution_count": 6,
   "metadata": {
    "collapsed": false
   },
   "outputs": [
    {
     "data": {
      "text/plain": [
       "1"
      ]
     },
     "execution_count": 6,
     "metadata": {},
     "output_type": "execute_result"
    }
   ],
   "source": [
    "M[0, 0]"
   ]
  },
  {
   "cell_type": "markdown",
   "metadata": {},
   "source": [
    "Les objets `v` et `M` sont tous deux du type `ndarray` (fournis par `numpy`)"
   ]
  },
  {
   "cell_type": "code",
   "execution_count": 7,
   "metadata": {
    "collapsed": false
   },
   "outputs": [
    {
     "data": {
      "text/plain": [
       "(numpy.ndarray, numpy.ndarray)"
      ]
     },
     "execution_count": 7,
     "metadata": {},
     "output_type": "execute_result"
    }
   ],
   "source": [
    "type(v), type(M)"
   ]
  },
  {
   "cell_type": "markdown",
   "metadata": {},
   "source": [
    "`v` et `M` ne diffèrent que par leur taille, que l'on peut obtenir via la propriété `shape` :"
   ]
  },
  {
   "cell_type": "code",
   "execution_count": 8,
   "metadata": {
    "collapsed": false
   },
   "outputs": [
    {
     "data": {
      "text/plain": [
       "(4,)"
      ]
     },
     "execution_count": 8,
     "metadata": {},
     "output_type": "execute_result"
    }
   ],
   "source": [
    "v.shape  # noter qu'ici un vecteur a une dimension vide pour sa deuxième"
   ]
  },
  {
   "cell_type": "code",
   "execution_count": 9,
   "metadata": {
    "collapsed": false
   },
   "outputs": [
    {
     "data": {
      "text/plain": [
       "(2, 2)"
      ]
     },
     "execution_count": 9,
     "metadata": {},
     "output_type": "execute_result"
    }
   ],
   "source": [
    "M.shape"
   ]
  },
  {
   "cell_type": "markdown",
   "metadata": {},
   "source": [
    "Pour obtenir le nombre d'éléments d'un *array* :"
   ]
  },
  {
   "cell_type": "code",
   "execution_count": 10,
   "metadata": {
    "collapsed": false
   },
   "outputs": [
    {
     "data": {
      "text/plain": [
       "4"
      ]
     },
     "execution_count": 10,
     "metadata": {},
     "output_type": "execute_result"
    }
   ],
   "source": [
    "v.size"
   ]
  },
  {
   "cell_type": "code",
   "execution_count": 11,
   "metadata": {
    "collapsed": false
   },
   "outputs": [
    {
     "data": {
      "text/plain": [
       "4"
      ]
     },
     "execution_count": 11,
     "metadata": {},
     "output_type": "execute_result"
    }
   ],
   "source": [
    "M.size"
   ]
  },
  {
   "cell_type": "markdown",
   "metadata": {},
   "source": [
    "On peut aussi utiliser `numpy.shape` et `numpy.size`"
   ]
  },
  {
   "cell_type": "code",
   "execution_count": 12,
   "metadata": {
    "collapsed": false
   },
   "outputs": [
    {
     "data": {
      "text/plain": [
       "(2, 2)"
      ]
     },
     "execution_count": 12,
     "metadata": {},
     "output_type": "execute_result"
    }
   ],
   "source": [
    "np.shape(M)"
   ]
  },
  {
   "cell_type": "markdown",
   "metadata": {},
   "source": [
    "Les *arrays* ont un type qu'on obtient via `dtype`:"
   ]
  },
  {
   "cell_type": "code",
   "execution_count": 13,
   "metadata": {
    "collapsed": false
   },
   "outputs": [
    {
     "name": "stdout",
     "output_type": "stream",
     "text": [
      "[[1 2]\n",
      " [3 4]]\n",
      "int64\n"
     ]
    }
   ],
   "source": [
    "print(M)\n",
    "print(M.dtype)"
   ]
  },
  {
   "cell_type": "markdown",
   "metadata": {},
   "source": [
    "Les types doivent être respectés lors d'assignations à des *arrays*"
   ]
  },
  {
   "cell_type": "code",
   "execution_count": 14,
   "metadata": {
    "collapsed": false
   },
   "outputs": [
    {
     "ename": "ValueError",
     "evalue": "invalid literal for int() with base 10: 'hello'",
     "output_type": "error",
     "traceback": [
      "\u001b[0;31m---------------------------------------------------------------------------\u001b[0m",
      "\u001b[0;31mValueError\u001b[0m                                Traceback (most recent call last)",
      "\u001b[0;32m<ipython-input-14-a09d72434238>\u001b[0m in \u001b[0;36m<module>\u001b[0;34m()\u001b[0m\n\u001b[0;32m----> 1\u001b[0;31m \u001b[0mM\u001b[0m\u001b[0;34m[\u001b[0m\u001b[0;36m0\u001b[0m\u001b[0;34m,\u001b[0m\u001b[0;36m0\u001b[0m\u001b[0;34m]\u001b[0m \u001b[0;34m=\u001b[0m \u001b[0;34m\"hello\"\u001b[0m\u001b[0;34m\u001b[0m\u001b[0;34m\u001b[0m\u001b[0m\n\u001b[0m",
      "\u001b[0;31mValueError\u001b[0m: invalid literal for int() with base 10: 'hello'"
     ]
    }
   ],
   "source": [
    "M[0,0] = \"hello\""
   ]
  },
  {
   "cell_type": "markdown",
   "metadata": {},
   "source": [
    "### Attention !"
   ]
  },
  {
   "cell_type": "code",
   "execution_count": 15,
   "metadata": {
    "collapsed": false
   },
   "outputs": [
    {
     "name": "stdout",
     "output_type": "stream",
     "text": [
      "[3 2 3]\n"
     ]
    },
    {
     "data": {
      "text/plain": [
       "dtype('int64')"
      ]
     },
     "execution_count": 15,
     "metadata": {},
     "output_type": "execute_result"
    }
   ],
   "source": [
    "a = np.array([1,2,3])\n",
    "a[0] = 3.2\n",
    "print(a)\n",
    "a.dtype"
   ]
  },
  {
   "cell_type": "code",
   "execution_count": 16,
   "metadata": {
    "collapsed": false
   },
   "outputs": [
    {
     "name": "stdout",
     "output_type": "stream",
     "text": [
      "[0.5 1.  1. ]\n"
     ]
    }
   ],
   "source": [
    "a = np.array([1,2,3], dtype=np.int64)\n",
    "b = np.array([2,2,3], dtype=np.int64)\n",
    "b = b.astype(float)\n",
    "print(a / b)"
   ]
  },
  {
   "cell_type": "markdown",
   "metadata": {},
   "source": [
    "On peut définir le type de manière explicite en utilisant le mot clé `dtype` en argument: "
   ]
  },
  {
   "cell_type": "code",
   "execution_count": 17,
   "metadata": {
    "collapsed": false
   },
   "outputs": [
    {
     "data": {
      "text/plain": [
       "array([[1.+0.j, 2.+0.j],\n",
       "       [3.+0.j, 4.+0.j]])"
      ]
     },
     "execution_count": 17,
     "metadata": {},
     "output_type": "execute_result"
    }
   ],
   "source": [
    "M = np.array([[1, 2], [3, 4]], dtype=complex)\n",
    "M"
   ]
  },
  {
   "cell_type": "markdown",
   "metadata": {},
   "source": [
    " * Autres types possibles avec `dtype` : `int`, `float`, `complex`, `bool`, `object`, etc.\n",
    "\n",
    " * On peut aussi spécifier la précision en bits: `int64`, `int16`, `float128`, `complex128`."
   ]
  },
  {
   "cell_type": "markdown",
   "metadata": {},
   "source": [
    "### Utilisation de fonction de génération d'*arrays*"
   ]
  },
  {
   "cell_type": "markdown",
   "metadata": {},
   "source": [
    "#### `arange`"
   ]
  },
  {
   "cell_type": "code",
   "execution_count": 18,
   "metadata": {
    "collapsed": false
   },
   "outputs": [
    {
     "data": {
      "text/plain": [
       "array([0, 2, 4, 6, 8])"
      ]
     },
     "execution_count": 18,
     "metadata": {},
     "output_type": "execute_result"
    }
   ],
   "source": [
    "# Création d'un interval simple\n",
    "x = np.arange(0, 10, 2) # arguments: start, stop, step\n",
    "x"
   ]
  },
  {
   "cell_type": "code",
   "execution_count": 19,
   "metadata": {
    "collapsed": false
   },
   "outputs": [
    {
     "data": {
      "text/plain": [
       "array([-1.00000000e+00, -9.00000000e-01, -8.00000000e-01, -7.00000000e-01,\n",
       "       -6.00000000e-01, -5.00000000e-01, -4.00000000e-01, -3.00000000e-01,\n",
       "       -2.00000000e-01, -1.00000000e-01, -2.22044605e-16,  1.00000000e-01,\n",
       "        2.00000000e-01,  3.00000000e-01,  4.00000000e-01,  5.00000000e-01,\n",
       "        6.00000000e-01,  7.00000000e-01,  8.00000000e-01,  9.00000000e-01])"
      ]
     },
     "execution_count": 19,
     "metadata": {},
     "output_type": "execute_result"
    }
   ],
   "source": [
    "x = np.arange(-1, 1, 0.1)\n",
    "x"
   ]
  },
  {
   "cell_type": "markdown",
   "metadata": {},
   "source": [
    "#### `linspace` and `logspace`"
   ]
  },
  {
   "cell_type": "code",
   "execution_count": 20,
   "metadata": {
    "collapsed": false
   },
   "outputs": [
    {
     "data": {
      "text/plain": [
       "array([ 0.        ,  0.41666667,  0.83333333,  1.25      ,  1.66666667,\n",
       "        2.08333333,  2.5       ,  2.91666667,  3.33333333,  3.75      ,\n",
       "        4.16666667,  4.58333333,  5.        ,  5.41666667,  5.83333333,\n",
       "        6.25      ,  6.66666667,  7.08333333,  7.5       ,  7.91666667,\n",
       "        8.33333333,  8.75      ,  9.16666667,  9.58333333, 10.        ])"
      ]
     },
     "execution_count": 20,
     "metadata": {},
     "output_type": "execute_result"
    }
   ],
   "source": [
    "# Attention : la fin EST inclus avec linspace\n",
    "np.linspace(0, 10, 25)"
   ]
  },
  {
   "cell_type": "code",
   "execution_count": 21,
   "metadata": {
    "collapsed": false
   },
   "outputs": [
    {
     "data": {
      "text/plain": [
       "array([ 0.,  1.,  2.,  3.,  4.,  5.,  6.,  7.,  8.,  9., 10.])"
      ]
     },
     "execution_count": 21,
     "metadata": {},
     "output_type": "execute_result"
    }
   ],
   "source": [
    "np.linspace(0, 10, 11)"
   ]
  },
  {
   "cell_type": "code",
   "execution_count": 22,
   "metadata": {
    "collapsed": false
   },
   "outputs": [
    {
     "data": {
      "application/javascript": [
       "/* Put everything inside the global mpl namespace */\n",
       "window.mpl = {};\n",
       "\n",
       "\n",
       "mpl.get_websocket_type = function() {\n",
       "    if (typeof(WebSocket) !== 'undefined') {\n",
       "        return WebSocket;\n",
       "    } else if (typeof(MozWebSocket) !== 'undefined') {\n",
       "        return MozWebSocket;\n",
       "    } else {\n",
       "        alert('Your browser does not have WebSocket support.' +\n",
       "              'Please try Chrome, Safari or Firefox ≥ 6. ' +\n",
       "              'Firefox 4 and 5 are also supported but you ' +\n",
       "              'have to enable WebSockets in about:config.');\n",
       "    };\n",
       "}\n",
       "\n",
       "mpl.figure = function(figure_id, websocket, ondownload, parent_element) {\n",
       "    this.id = figure_id;\n",
       "\n",
       "    this.ws = websocket;\n",
       "\n",
       "    this.supports_binary = (this.ws.binaryType != undefined);\n",
       "\n",
       "    if (!this.supports_binary) {\n",
       "        var warnings = document.getElementById(\"mpl-warnings\");\n",
       "        if (warnings) {\n",
       "            warnings.style.display = 'block';\n",
       "            warnings.textContent = (\n",
       "                \"This browser does not support binary websocket messages. \" +\n",
       "                    \"Performance may be slow.\");\n",
       "        }\n",
       "    }\n",
       "\n",
       "    this.imageObj = new Image();\n",
       "\n",
       "    this.context = undefined;\n",
       "    this.message = undefined;\n",
       "    this.canvas = undefined;\n",
       "    this.rubberband_canvas = undefined;\n",
       "    this.rubberband_context = undefined;\n",
       "    this.format_dropdown = undefined;\n",
       "\n",
       "    this.image_mode = 'full';\n",
       "\n",
       "    this.root = $('<div/>');\n",
       "    this._root_extra_style(this.root)\n",
       "    this.root.attr('style', 'display: inline-block');\n",
       "\n",
       "    $(parent_element).append(this.root);\n",
       "\n",
       "    this._init_header(this);\n",
       "    this._init_canvas(this);\n",
       "    this._init_toolbar(this);\n",
       "\n",
       "    var fig = this;\n",
       "\n",
       "    this.waiting = false;\n",
       "\n",
       "    this.ws.onopen =  function () {\n",
       "            fig.send_message(\"supports_binary\", {value: fig.supports_binary});\n",
       "            fig.send_message(\"send_image_mode\", {});\n",
       "            if (mpl.ratio != 1) {\n",
       "                fig.send_message(\"set_dpi_ratio\", {'dpi_ratio': mpl.ratio});\n",
       "            }\n",
       "            fig.send_message(\"refresh\", {});\n",
       "        }\n",
       "\n",
       "    this.imageObj.onload = function() {\n",
       "            if (fig.image_mode == 'full') {\n",
       "                // Full images could contain transparency (where diff images\n",
       "                // almost always do), so we need to clear the canvas so that\n",
       "                // there is no ghosting.\n",
       "                fig.context.clearRect(0, 0, fig.canvas.width, fig.canvas.height);\n",
       "            }\n",
       "            fig.context.drawImage(fig.imageObj, 0, 0);\n",
       "        };\n",
       "\n",
       "    this.imageObj.onunload = function() {\n",
       "        fig.ws.close();\n",
       "    }\n",
       "\n",
       "    this.ws.onmessage = this._make_on_message_function(this);\n",
       "\n",
       "    this.ondownload = ondownload;\n",
       "}\n",
       "\n",
       "mpl.figure.prototype._init_header = function() {\n",
       "    var titlebar = $(\n",
       "        '<div class=\"ui-dialog-titlebar ui-widget-header ui-corner-all ' +\n",
       "        'ui-helper-clearfix\"/>');\n",
       "    var titletext = $(\n",
       "        '<div class=\"ui-dialog-title\" style=\"width: 100%; ' +\n",
       "        'text-align: center; padding: 3px;\"/>');\n",
       "    titlebar.append(titletext)\n",
       "    this.root.append(titlebar);\n",
       "    this.header = titletext[0];\n",
       "}\n",
       "\n",
       "\n",
       "\n",
       "mpl.figure.prototype._canvas_extra_style = function(canvas_div) {\n",
       "\n",
       "}\n",
       "\n",
       "\n",
       "mpl.figure.prototype._root_extra_style = function(canvas_div) {\n",
       "\n",
       "}\n",
       "\n",
       "mpl.figure.prototype._init_canvas = function() {\n",
       "    var fig = this;\n",
       "\n",
       "    var canvas_div = $('<div/>');\n",
       "\n",
       "    canvas_div.attr('style', 'position: relative; clear: both; outline: 0');\n",
       "\n",
       "    function canvas_keyboard_event(event) {\n",
       "        return fig.key_event(event, event['data']);\n",
       "    }\n",
       "\n",
       "    canvas_div.keydown('key_press', canvas_keyboard_event);\n",
       "    canvas_div.keyup('key_release', canvas_keyboard_event);\n",
       "    this.canvas_div = canvas_div\n",
       "    this._canvas_extra_style(canvas_div)\n",
       "    this.root.append(canvas_div);\n",
       "\n",
       "    var canvas = $('<canvas/>');\n",
       "    canvas.addClass('mpl-canvas');\n",
       "    canvas.attr('style', \"left: 0; top: 0; z-index: 0; outline: 0\")\n",
       "\n",
       "    this.canvas = canvas[0];\n",
       "    this.context = canvas[0].getContext(\"2d\");\n",
       "\n",
       "    var backingStore = this.context.backingStorePixelRatio ||\n",
       "\tthis.context.webkitBackingStorePixelRatio ||\n",
       "\tthis.context.mozBackingStorePixelRatio ||\n",
       "\tthis.context.msBackingStorePixelRatio ||\n",
       "\tthis.context.oBackingStorePixelRatio ||\n",
       "\tthis.context.backingStorePixelRatio || 1;\n",
       "\n",
       "    mpl.ratio = (window.devicePixelRatio || 1) / backingStore;\n",
       "\n",
       "    var rubberband = $('<canvas/>');\n",
       "    rubberband.attr('style', \"position: absolute; left: 0; top: 0; z-index: 1;\")\n",
       "\n",
       "    var pass_mouse_events = true;\n",
       "\n",
       "    canvas_div.resizable({\n",
       "        start: function(event, ui) {\n",
       "            pass_mouse_events = false;\n",
       "        },\n",
       "        resize: function(event, ui) {\n",
       "            fig.request_resize(ui.size.width, ui.size.height);\n",
       "        },\n",
       "        stop: function(event, ui) {\n",
       "            pass_mouse_events = true;\n",
       "            fig.request_resize(ui.size.width, ui.size.height);\n",
       "        },\n",
       "    });\n",
       "\n",
       "    function mouse_event_fn(event) {\n",
       "        if (pass_mouse_events)\n",
       "            return fig.mouse_event(event, event['data']);\n",
       "    }\n",
       "\n",
       "    rubberband.mousedown('button_press', mouse_event_fn);\n",
       "    rubberband.mouseup('button_release', mouse_event_fn);\n",
       "    // Throttle sequential mouse events to 1 every 20ms.\n",
       "    rubberband.mousemove('motion_notify', mouse_event_fn);\n",
       "\n",
       "    rubberband.mouseenter('figure_enter', mouse_event_fn);\n",
       "    rubberband.mouseleave('figure_leave', mouse_event_fn);\n",
       "\n",
       "    canvas_div.on(\"wheel\", function (event) {\n",
       "        event = event.originalEvent;\n",
       "        event['data'] = 'scroll'\n",
       "        if (event.deltaY < 0) {\n",
       "            event.step = 1;\n",
       "        } else {\n",
       "            event.step = -1;\n",
       "        }\n",
       "        mouse_event_fn(event);\n",
       "    });\n",
       "\n",
       "    canvas_div.append(canvas);\n",
       "    canvas_div.append(rubberband);\n",
       "\n",
       "    this.rubberband = rubberband;\n",
       "    this.rubberband_canvas = rubberband[0];\n",
       "    this.rubberband_context = rubberband[0].getContext(\"2d\");\n",
       "    this.rubberband_context.strokeStyle = \"#000000\";\n",
       "\n",
       "    this._resize_canvas = function(width, height) {\n",
       "        // Keep the size of the canvas, canvas container, and rubber band\n",
       "        // canvas in synch.\n",
       "        canvas_div.css('width', width)\n",
       "        canvas_div.css('height', height)\n",
       "\n",
       "        canvas.attr('width', width * mpl.ratio);\n",
       "        canvas.attr('height', height * mpl.ratio);\n",
       "        canvas.attr('style', 'width: ' + width + 'px; height: ' + height + 'px;');\n",
       "\n",
       "        rubberband.attr('width', width);\n",
       "        rubberband.attr('height', height);\n",
       "    }\n",
       "\n",
       "    // Set the figure to an initial 600x600px, this will subsequently be updated\n",
       "    // upon first draw.\n",
       "    this._resize_canvas(600, 600);\n",
       "\n",
       "    // Disable right mouse context menu.\n",
       "    $(this.rubberband_canvas).bind(\"contextmenu\",function(e){\n",
       "        return false;\n",
       "    });\n",
       "\n",
       "    function set_focus () {\n",
       "        canvas.focus();\n",
       "        canvas_div.focus();\n",
       "    }\n",
       "\n",
       "    window.setTimeout(set_focus, 100);\n",
       "}\n",
       "\n",
       "mpl.figure.prototype._init_toolbar = function() {\n",
       "    var fig = this;\n",
       "\n",
       "    var nav_element = $('<div/>')\n",
       "    nav_element.attr('style', 'width: 100%');\n",
       "    this.root.append(nav_element);\n",
       "\n",
       "    // Define a callback function for later on.\n",
       "    function toolbar_event(event) {\n",
       "        return fig.toolbar_button_onclick(event['data']);\n",
       "    }\n",
       "    function toolbar_mouse_event(event) {\n",
       "        return fig.toolbar_button_onmouseover(event['data']);\n",
       "    }\n",
       "\n",
       "    for(var toolbar_ind in mpl.toolbar_items) {\n",
       "        var name = mpl.toolbar_items[toolbar_ind][0];\n",
       "        var tooltip = mpl.toolbar_items[toolbar_ind][1];\n",
       "        var image = mpl.toolbar_items[toolbar_ind][2];\n",
       "        var method_name = mpl.toolbar_items[toolbar_ind][3];\n",
       "\n",
       "        if (!name) {\n",
       "            // put a spacer in here.\n",
       "            continue;\n",
       "        }\n",
       "        var button = $('<button/>');\n",
       "        button.addClass('ui-button ui-widget ui-state-default ui-corner-all ' +\n",
       "                        'ui-button-icon-only');\n",
       "        button.attr('role', 'button');\n",
       "        button.attr('aria-disabled', 'false');\n",
       "        button.click(method_name, toolbar_event);\n",
       "        button.mouseover(tooltip, toolbar_mouse_event);\n",
       "\n",
       "        var icon_img = $('<span/>');\n",
       "        icon_img.addClass('ui-button-icon-primary ui-icon');\n",
       "        icon_img.addClass(image);\n",
       "        icon_img.addClass('ui-corner-all');\n",
       "\n",
       "        var tooltip_span = $('<span/>');\n",
       "        tooltip_span.addClass('ui-button-text');\n",
       "        tooltip_span.html(tooltip);\n",
       "\n",
       "        button.append(icon_img);\n",
       "        button.append(tooltip_span);\n",
       "\n",
       "        nav_element.append(button);\n",
       "    }\n",
       "\n",
       "    var fmt_picker_span = $('<span/>');\n",
       "\n",
       "    var fmt_picker = $('<select/>');\n",
       "    fmt_picker.addClass('mpl-toolbar-option ui-widget ui-widget-content');\n",
       "    fmt_picker_span.append(fmt_picker);\n",
       "    nav_element.append(fmt_picker_span);\n",
       "    this.format_dropdown = fmt_picker[0];\n",
       "\n",
       "    for (var ind in mpl.extensions) {\n",
       "        var fmt = mpl.extensions[ind];\n",
       "        var option = $(\n",
       "            '<option/>', {selected: fmt === mpl.default_extension}).html(fmt);\n",
       "        fmt_picker.append(option)\n",
       "    }\n",
       "\n",
       "    // Add hover states to the ui-buttons\n",
       "    $( \".ui-button\" ).hover(\n",
       "        function() { $(this).addClass(\"ui-state-hover\");},\n",
       "        function() { $(this).removeClass(\"ui-state-hover\");}\n",
       "    );\n",
       "\n",
       "    var status_bar = $('<span class=\"mpl-message\"/>');\n",
       "    nav_element.append(status_bar);\n",
       "    this.message = status_bar[0];\n",
       "}\n",
       "\n",
       "mpl.figure.prototype.request_resize = function(x_pixels, y_pixels) {\n",
       "    // Request matplotlib to resize the figure. Matplotlib will then trigger a resize in the client,\n",
       "    // which will in turn request a refresh of the image.\n",
       "    this.send_message('resize', {'width': x_pixels, 'height': y_pixels});\n",
       "}\n",
       "\n",
       "mpl.figure.prototype.send_message = function(type, properties) {\n",
       "    properties['type'] = type;\n",
       "    properties['figure_id'] = this.id;\n",
       "    this.ws.send(JSON.stringify(properties));\n",
       "}\n",
       "\n",
       "mpl.figure.prototype.send_draw_message = function() {\n",
       "    if (!this.waiting) {\n",
       "        this.waiting = true;\n",
       "        this.ws.send(JSON.stringify({type: \"draw\", figure_id: this.id}));\n",
       "    }\n",
       "}\n",
       "\n",
       "\n",
       "mpl.figure.prototype.handle_save = function(fig, msg) {\n",
       "    var format_dropdown = fig.format_dropdown;\n",
       "    var format = format_dropdown.options[format_dropdown.selectedIndex].value;\n",
       "    fig.ondownload(fig, format);\n",
       "}\n",
       "\n",
       "\n",
       "mpl.figure.prototype.handle_resize = function(fig, msg) {\n",
       "    var size = msg['size'];\n",
       "    if (size[0] != fig.canvas.width || size[1] != fig.canvas.height) {\n",
       "        fig._resize_canvas(size[0], size[1]);\n",
       "        fig.send_message(\"refresh\", {});\n",
       "    };\n",
       "}\n",
       "\n",
       "mpl.figure.prototype.handle_rubberband = function(fig, msg) {\n",
       "    var x0 = msg['x0'] / mpl.ratio;\n",
       "    var y0 = (fig.canvas.height - msg['y0']) / mpl.ratio;\n",
       "    var x1 = msg['x1'] / mpl.ratio;\n",
       "    var y1 = (fig.canvas.height - msg['y1']) / mpl.ratio;\n",
       "    x0 = Math.floor(x0) + 0.5;\n",
       "    y0 = Math.floor(y0) + 0.5;\n",
       "    x1 = Math.floor(x1) + 0.5;\n",
       "    y1 = Math.floor(y1) + 0.5;\n",
       "    var min_x = Math.min(x0, x1);\n",
       "    var min_y = Math.min(y0, y1);\n",
       "    var width = Math.abs(x1 - x0);\n",
       "    var height = Math.abs(y1 - y0);\n",
       "\n",
       "    fig.rubberband_context.clearRect(\n",
       "        0, 0, fig.canvas.width, fig.canvas.height);\n",
       "\n",
       "    fig.rubberband_context.strokeRect(min_x, min_y, width, height);\n",
       "}\n",
       "\n",
       "mpl.figure.prototype.handle_figure_label = function(fig, msg) {\n",
       "    // Updates the figure title.\n",
       "    fig.header.textContent = msg['label'];\n",
       "}\n",
       "\n",
       "mpl.figure.prototype.handle_cursor = function(fig, msg) {\n",
       "    var cursor = msg['cursor'];\n",
       "    switch(cursor)\n",
       "    {\n",
       "    case 0:\n",
       "        cursor = 'pointer';\n",
       "        break;\n",
       "    case 1:\n",
       "        cursor = 'default';\n",
       "        break;\n",
       "    case 2:\n",
       "        cursor = 'crosshair';\n",
       "        break;\n",
       "    case 3:\n",
       "        cursor = 'move';\n",
       "        break;\n",
       "    }\n",
       "    fig.rubberband_canvas.style.cursor = cursor;\n",
       "}\n",
       "\n",
       "mpl.figure.prototype.handle_message = function(fig, msg) {\n",
       "    fig.message.textContent = msg['message'];\n",
       "}\n",
       "\n",
       "mpl.figure.prototype.handle_draw = function(fig, msg) {\n",
       "    // Request the server to send over a new figure.\n",
       "    fig.send_draw_message();\n",
       "}\n",
       "\n",
       "mpl.figure.prototype.handle_image_mode = function(fig, msg) {\n",
       "    fig.image_mode = msg['mode'];\n",
       "}\n",
       "\n",
       "mpl.figure.prototype.updated_canvas_event = function() {\n",
       "    // Called whenever the canvas gets updated.\n",
       "    this.send_message(\"ack\", {});\n",
       "}\n",
       "\n",
       "// A function to construct a web socket function for onmessage handling.\n",
       "// Called in the figure constructor.\n",
       "mpl.figure.prototype._make_on_message_function = function(fig) {\n",
       "    return function socket_on_message(evt) {\n",
       "        if (evt.data instanceof Blob) {\n",
       "            /* FIXME: We get \"Resource interpreted as Image but\n",
       "             * transferred with MIME type text/plain:\" errors on\n",
       "             * Chrome.  But how to set the MIME type?  It doesn't seem\n",
       "             * to be part of the websocket stream */\n",
       "            evt.data.type = \"image/png\";\n",
       "\n",
       "            /* Free the memory for the previous frames */\n",
       "            if (fig.imageObj.src) {\n",
       "                (window.URL || window.webkitURL).revokeObjectURL(\n",
       "                    fig.imageObj.src);\n",
       "            }\n",
       "\n",
       "            fig.imageObj.src = (window.URL || window.webkitURL).createObjectURL(\n",
       "                evt.data);\n",
       "            fig.updated_canvas_event();\n",
       "            fig.waiting = false;\n",
       "            return;\n",
       "        }\n",
       "        else if (typeof evt.data === 'string' && evt.data.slice(0, 21) == \"data:image/png;base64\") {\n",
       "            fig.imageObj.src = evt.data;\n",
       "            fig.updated_canvas_event();\n",
       "            fig.waiting = false;\n",
       "            return;\n",
       "        }\n",
       "\n",
       "        var msg = JSON.parse(evt.data);\n",
       "        var msg_type = msg['type'];\n",
       "\n",
       "        // Call the  \"handle_{type}\" callback, which takes\n",
       "        // the figure and JSON message as its only arguments.\n",
       "        try {\n",
       "            var callback = fig[\"handle_\" + msg_type];\n",
       "        } catch (e) {\n",
       "            console.log(\"No handler for the '\" + msg_type + \"' message type: \", msg);\n",
       "            return;\n",
       "        }\n",
       "\n",
       "        if (callback) {\n",
       "            try {\n",
       "                // console.log(\"Handling '\" + msg_type + \"' message: \", msg);\n",
       "                callback(fig, msg);\n",
       "            } catch (e) {\n",
       "                console.log(\"Exception inside the 'handler_\" + msg_type + \"' callback:\", e, e.stack, msg);\n",
       "            }\n",
       "        }\n",
       "    };\n",
       "}\n",
       "\n",
       "// from http://stackoverflow.com/questions/1114465/getting-mouse-location-in-canvas\n",
       "mpl.findpos = function(e) {\n",
       "    //this section is from http://www.quirksmode.org/js/events_properties.html\n",
       "    var targ;\n",
       "    if (!e)\n",
       "        e = window.event;\n",
       "    if (e.target)\n",
       "        targ = e.target;\n",
       "    else if (e.srcElement)\n",
       "        targ = e.srcElement;\n",
       "    if (targ.nodeType == 3) // defeat Safari bug\n",
       "        targ = targ.parentNode;\n",
       "\n",
       "    // jQuery normalizes the pageX and pageY\n",
       "    // pageX,Y are the mouse positions relative to the document\n",
       "    // offset() returns the position of the element relative to the document\n",
       "    var x = e.pageX - $(targ).offset().left;\n",
       "    var y = e.pageY - $(targ).offset().top;\n",
       "\n",
       "    return {\"x\": x, \"y\": y};\n",
       "};\n",
       "\n",
       "/*\n",
       " * return a copy of an object with only non-object keys\n",
       " * we need this to avoid circular references\n",
       " * http://stackoverflow.com/a/24161582/3208463\n",
       " */\n",
       "function simpleKeys (original) {\n",
       "  return Object.keys(original).reduce(function (obj, key) {\n",
       "    if (typeof original[key] !== 'object')\n",
       "        obj[key] = original[key]\n",
       "    return obj;\n",
       "  }, {});\n",
       "}\n",
       "\n",
       "mpl.figure.prototype.mouse_event = function(event, name) {\n",
       "    var canvas_pos = mpl.findpos(event)\n",
       "\n",
       "    if (name === 'button_press')\n",
       "    {\n",
       "        this.canvas.focus();\n",
       "        this.canvas_div.focus();\n",
       "    }\n",
       "\n",
       "    var x = canvas_pos.x * mpl.ratio;\n",
       "    var y = canvas_pos.y * mpl.ratio;\n",
       "\n",
       "    this.send_message(name, {x: x, y: y, button: event.button,\n",
       "                             step: event.step,\n",
       "                             guiEvent: simpleKeys(event)});\n",
       "\n",
       "    /* This prevents the web browser from automatically changing to\n",
       "     * the text insertion cursor when the button is pressed.  We want\n",
       "     * to control all of the cursor setting manually through the\n",
       "     * 'cursor' event from matplotlib */\n",
       "    event.preventDefault();\n",
       "    return false;\n",
       "}\n",
       "\n",
       "mpl.figure.prototype._key_event_extra = function(event, name) {\n",
       "    // Handle any extra behaviour associated with a key event\n",
       "}\n",
       "\n",
       "mpl.figure.prototype.key_event = function(event, name) {\n",
       "\n",
       "    // Prevent repeat events\n",
       "    if (name == 'key_press')\n",
       "    {\n",
       "        if (event.which === this._key)\n",
       "            return;\n",
       "        else\n",
       "            this._key = event.which;\n",
       "    }\n",
       "    if (name == 'key_release')\n",
       "        this._key = null;\n",
       "\n",
       "    var value = '';\n",
       "    if (event.ctrlKey && event.which != 17)\n",
       "        value += \"ctrl+\";\n",
       "    if (event.altKey && event.which != 18)\n",
       "        value += \"alt+\";\n",
       "    if (event.shiftKey && event.which != 16)\n",
       "        value += \"shift+\";\n",
       "\n",
       "    value += 'k';\n",
       "    value += event.which.toString();\n",
       "\n",
       "    this._key_event_extra(event, name);\n",
       "\n",
       "    this.send_message(name, {key: value,\n",
       "                             guiEvent: simpleKeys(event)});\n",
       "    return false;\n",
       "}\n",
       "\n",
       "mpl.figure.prototype.toolbar_button_onclick = function(name) {\n",
       "    if (name == 'download') {\n",
       "        this.handle_save(this, null);\n",
       "    } else {\n",
       "        this.send_message(\"toolbar_button\", {name: name});\n",
       "    }\n",
       "};\n",
       "\n",
       "mpl.figure.prototype.toolbar_button_onmouseover = function(tooltip) {\n",
       "    this.message.textContent = tooltip;\n",
       "};\n",
       "mpl.toolbar_items = [[\"Home\", \"Reset original view\", \"fa fa-home icon-home\", \"home\"], [\"Back\", \"Back to  previous view\", \"fa fa-arrow-left icon-arrow-left\", \"back\"], [\"Forward\", \"Forward to next view\", \"fa fa-arrow-right icon-arrow-right\", \"forward\"], [\"\", \"\", \"\", \"\"], [\"Pan\", \"Pan axes with left mouse, zoom with right\", \"fa fa-arrows icon-move\", \"pan\"], [\"Zoom\", \"Zoom to rectangle\", \"fa fa-square-o icon-check-empty\", \"zoom\"], [\"\", \"\", \"\", \"\"], [\"Download\", \"Download plot\", \"fa fa-floppy-o icon-save\", \"download\"]];\n",
       "\n",
       "mpl.extensions = [\"eps\", \"jpeg\", \"pdf\", \"png\", \"ps\", \"raw\", \"svg\", \"tif\"];\n",
       "\n",
       "mpl.default_extension = \"png\";var comm_websocket_adapter = function(comm) {\n",
       "    // Create a \"websocket\"-like object which calls the given IPython comm\n",
       "    // object with the appropriate methods. Currently this is a non binary\n",
       "    // socket, so there is still some room for performance tuning.\n",
       "    var ws = {};\n",
       "\n",
       "    ws.close = function() {\n",
       "        comm.close()\n",
       "    };\n",
       "    ws.send = function(m) {\n",
       "        //console.log('sending', m);\n",
       "        comm.send(m);\n",
       "    };\n",
       "    // Register the callback with on_msg.\n",
       "    comm.on_msg(function(msg) {\n",
       "        //console.log('receiving', msg['content']['data'], msg);\n",
       "        // Pass the mpl event to the overridden (by mpl) onmessage function.\n",
       "        ws.onmessage(msg['content']['data'])\n",
       "    });\n",
       "    return ws;\n",
       "}\n",
       "\n",
       "mpl.mpl_figure_comm = function(comm, msg) {\n",
       "    // This is the function which gets called when the mpl process\n",
       "    // starts-up an IPython Comm through the \"matplotlib\" channel.\n",
       "\n",
       "    var id = msg.content.data.id;\n",
       "    // Get hold of the div created by the display call when the Comm\n",
       "    // socket was opened in Python.\n",
       "    var element = $(\"#\" + id);\n",
       "    var ws_proxy = comm_websocket_adapter(comm)\n",
       "\n",
       "    function ondownload(figure, format) {\n",
       "        window.open(figure.imageObj.src);\n",
       "    }\n",
       "\n",
       "    var fig = new mpl.figure(id, ws_proxy,\n",
       "                           ondownload,\n",
       "                           element.get(0));\n",
       "\n",
       "    // Call onopen now - mpl needs it, as it is assuming we've passed it a real\n",
       "    // web socket which is closed, not our websocket->open comm proxy.\n",
       "    ws_proxy.onopen();\n",
       "\n",
       "    fig.parent_element = element.get(0);\n",
       "    fig.cell_info = mpl.find_output_cell(\"<div id='\" + id + \"'></div>\");\n",
       "    if (!fig.cell_info) {\n",
       "        console.error(\"Failed to find cell for figure\", id, fig);\n",
       "        return;\n",
       "    }\n",
       "\n",
       "    var output_index = fig.cell_info[2]\n",
       "    var cell = fig.cell_info[0];\n",
       "\n",
       "};\n",
       "\n",
       "mpl.figure.prototype.handle_close = function(fig, msg) {\n",
       "    var width = fig.canvas.width/mpl.ratio\n",
       "    fig.root.unbind('remove')\n",
       "\n",
       "    // Update the output cell to use the data from the current canvas.\n",
       "    fig.push_to_output();\n",
       "    var dataURL = fig.canvas.toDataURL();\n",
       "    // Re-enable the keyboard manager in IPython - without this line, in FF,\n",
       "    // the notebook keyboard shortcuts fail.\n",
       "    IPython.keyboard_manager.enable()\n",
       "    $(fig.parent_element).html('<img src=\"' + dataURL + '\" width=\"' + width + '\">');\n",
       "    fig.close_ws(fig, msg);\n",
       "}\n",
       "\n",
       "mpl.figure.prototype.close_ws = function(fig, msg){\n",
       "    fig.send_message('closing', msg);\n",
       "    // fig.ws.close()\n",
       "}\n",
       "\n",
       "mpl.figure.prototype.push_to_output = function(remove_interactive) {\n",
       "    // Turn the data on the canvas into data in the output cell.\n",
       "    var width = this.canvas.width/mpl.ratio\n",
       "    var dataURL = this.canvas.toDataURL();\n",
       "    this.cell_info[1]['text/html'] = '<img src=\"' + dataURL + '\" width=\"' + width + '\">';\n",
       "}\n",
       "\n",
       "mpl.figure.prototype.updated_canvas_event = function() {\n",
       "    // Tell IPython that the notebook contents must change.\n",
       "    IPython.notebook.set_dirty(true);\n",
       "    this.send_message(\"ack\", {});\n",
       "    var fig = this;\n",
       "    // Wait a second, then push the new image to the DOM so\n",
       "    // that it is saved nicely (might be nice to debounce this).\n",
       "    setTimeout(function () { fig.push_to_output() }, 1000);\n",
       "}\n",
       "\n",
       "mpl.figure.prototype._init_toolbar = function() {\n",
       "    var fig = this;\n",
       "\n",
       "    var nav_element = $('<div/>')\n",
       "    nav_element.attr('style', 'width: 100%');\n",
       "    this.root.append(nav_element);\n",
       "\n",
       "    // Define a callback function for later on.\n",
       "    function toolbar_event(event) {\n",
       "        return fig.toolbar_button_onclick(event['data']);\n",
       "    }\n",
       "    function toolbar_mouse_event(event) {\n",
       "        return fig.toolbar_button_onmouseover(event['data']);\n",
       "    }\n",
       "\n",
       "    for(var toolbar_ind in mpl.toolbar_items){\n",
       "        var name = mpl.toolbar_items[toolbar_ind][0];\n",
       "        var tooltip = mpl.toolbar_items[toolbar_ind][1];\n",
       "        var image = mpl.toolbar_items[toolbar_ind][2];\n",
       "        var method_name = mpl.toolbar_items[toolbar_ind][3];\n",
       "\n",
       "        if (!name) { continue; };\n",
       "\n",
       "        var button = $('<button class=\"btn btn-default\" href=\"#\" title=\"' + name + '\"><i class=\"fa ' + image + ' fa-lg\"></i></button>');\n",
       "        button.click(method_name, toolbar_event);\n",
       "        button.mouseover(tooltip, toolbar_mouse_event);\n",
       "        nav_element.append(button);\n",
       "    }\n",
       "\n",
       "    // Add the status bar.\n",
       "    var status_bar = $('<span class=\"mpl-message\" style=\"text-align:right; float: right;\"/>');\n",
       "    nav_element.append(status_bar);\n",
       "    this.message = status_bar[0];\n",
       "\n",
       "    // Add the close button to the window.\n",
       "    var buttongrp = $('<div class=\"btn-group inline pull-right\"></div>');\n",
       "    var button = $('<button class=\"btn btn-mini btn-primary\" href=\"#\" title=\"Stop Interaction\"><i class=\"fa fa-power-off icon-remove icon-large\"></i></button>');\n",
       "    button.click(function (evt) { fig.handle_close(fig, {}); } );\n",
       "    button.mouseover('Stop Interaction', toolbar_mouse_event);\n",
       "    buttongrp.append(button);\n",
       "    var titlebar = this.root.find($('.ui-dialog-titlebar'));\n",
       "    titlebar.prepend(buttongrp);\n",
       "}\n",
       "\n",
       "mpl.figure.prototype._root_extra_style = function(el){\n",
       "    var fig = this\n",
       "    el.on(\"remove\", function(){\n",
       "\tfig.close_ws(fig, {});\n",
       "    });\n",
       "}\n",
       "\n",
       "mpl.figure.prototype._canvas_extra_style = function(el){\n",
       "    // this is important to make the div 'focusable\n",
       "    el.attr('tabindex', 0)\n",
       "    // reach out to IPython and tell the keyboard manager to turn it's self\n",
       "    // off when our div gets focus\n",
       "\n",
       "    // location in version 3\n",
       "    if (IPython.notebook.keyboard_manager) {\n",
       "        IPython.notebook.keyboard_manager.register_events(el);\n",
       "    }\n",
       "    else {\n",
       "        // location in version 2\n",
       "        IPython.keyboard_manager.register_events(el);\n",
       "    }\n",
       "\n",
       "}\n",
       "\n",
       "mpl.figure.prototype._key_event_extra = function(event, name) {\n",
       "    var manager = IPython.notebook.keyboard_manager;\n",
       "    if (!manager)\n",
       "        manager = IPython.keyboard_manager;\n",
       "\n",
       "    // Check for shift+enter\n",
       "    if (event.shiftKey && event.which == 13) {\n",
       "        this.canvas_div.blur();\n",
       "        event.shiftKey = false;\n",
       "        // Send a \"J\" for go to next cell\n",
       "        event.which = 74;\n",
       "        event.keyCode = 74;\n",
       "        manager.command_mode();\n",
       "        manager.handle_keydown(event);\n",
       "    }\n",
       "}\n",
       "\n",
       "mpl.figure.prototype.handle_save = function(fig, msg) {\n",
       "    fig.ondownload(fig, null);\n",
       "}\n",
       "\n",
       "\n",
       "mpl.find_output_cell = function(html_output) {\n",
       "    // Return the cell and output element which can be found *uniquely* in the notebook.\n",
       "    // Note - this is a bit hacky, but it is done because the \"notebook_saving.Notebook\"\n",
       "    // IPython event is triggered only after the cells have been serialised, which for\n",
       "    // our purposes (turning an active figure into a static one), is too late.\n",
       "    var cells = IPython.notebook.get_cells();\n",
       "    var ncells = cells.length;\n",
       "    for (var i=0; i<ncells; i++) {\n",
       "        var cell = cells[i];\n",
       "        if (cell.cell_type === 'code'){\n",
       "            for (var j=0; j<cell.output_area.outputs.length; j++) {\n",
       "                var data = cell.output_area.outputs[j];\n",
       "                if (data.data) {\n",
       "                    // IPython >= 3 moved mimebundle to data attribute of output\n",
       "                    data = data.data;\n",
       "                }\n",
       "                if (data['text/html'] == html_output) {\n",
       "                    return [cell, data, j];\n",
       "                }\n",
       "            }\n",
       "        }\n",
       "    }\n",
       "}\n",
       "\n",
       "// Register the function which deals with the matplotlib target/channel.\n",
       "// The kernel may be null if the page has been refreshed.\n",
       "if (IPython.notebook.kernel != null) {\n",
       "    IPython.notebook.kernel.comm_manager.register_target('matplotlib', mpl.mpl_figure_comm);\n",
       "}\n"
      ],
      "text/plain": [
       "<IPython.core.display.Javascript object>"
      ]
     },
     "metadata": {},
     "output_type": "display_data"
    },
    {
     "data": {
      "text/html": [
       "<img src=\"data:image/png;base64,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\" width=\"500\">"
      ],
      "text/plain": [
       "<IPython.core.display.HTML object>"
      ]
     },
     "metadata": {},
     "output_type": "display_data"
    }
   ],
   "source": [
    "xx = np.linspace(-10, 10, 100)\n",
    "fig = plt.figure(figsize=(5, 5))\n",
    "plt.plot(xx, np.sin(xx))\n",
    "plt.show()"
   ]
  },
  {
   "cell_type": "code",
   "execution_count": 25,
   "metadata": {
    "collapsed": false
   },
   "outputs": [
    {
     "name": "stdout",
     "output_type": "stream",
     "text": [
      "[1.00000000e+00 3.03773178e+00 9.22781435e+00 2.80316249e+01\n",
      " 8.51525577e+01 2.58670631e+02 7.85771994e+02 2.38696456e+03\n",
      " 7.25095809e+03 2.20264658e+04]\n"
     ]
    }
   ],
   "source": [
    "print(np.logspace(0, 10, 10, base=np.e))"
   ]
  },
  {
   "cell_type": "markdown",
   "metadata": {},
   "source": [
    "#### `mgrid`"
   ]
  },
  {
   "cell_type": "code",
   "execution_count": 26,
   "metadata": {
    "collapsed": false
   },
   "outputs": [],
   "source": [
    "x, y = np.mgrid[0:5, 0:5] "
   ]
  },
  {
   "cell_type": "code",
   "execution_count": 27,
   "metadata": {
    "collapsed": false
   },
   "outputs": [
    {
     "data": {
      "text/plain": [
       "array([[0, 0, 0, 0, 0],\n",
       "       [1, 1, 1, 1, 1],\n",
       "       [2, 2, 2, 2, 2],\n",
       "       [3, 3, 3, 3, 3],\n",
       "       [4, 4, 4, 4, 4]])"
      ]
     },
     "execution_count": 27,
     "metadata": {},
     "output_type": "execute_result"
    }
   ],
   "source": [
    "x"
   ]
  },
  {
   "cell_type": "code",
   "execution_count": 28,
   "metadata": {
    "collapsed": false
   },
   "outputs": [
    {
     "data": {
      "text/plain": [
       "array([[0, 1, 2, 3, 4],\n",
       "       [0, 1, 2, 3, 4],\n",
       "       [0, 1, 2, 3, 4],\n",
       "       [0, 1, 2, 3, 4],\n",
       "       [0, 1, 2, 3, 4]])"
      ]
     },
     "execution_count": 28,
     "metadata": {},
     "output_type": "execute_result"
    }
   ],
   "source": [
    "y"
   ]
  },
  {
   "cell_type": "code",
   "execution_count": 29,
   "metadata": {
    "collapsed": false
   },
   "outputs": [
    {
     "data": {
      "application/javascript": [
       "/* Put everything inside the global mpl namespace */\n",
       "window.mpl = {};\n",
       "\n",
       "\n",
       "mpl.get_websocket_type = function() {\n",
       "    if (typeof(WebSocket) !== 'undefined') {\n",
       "        return WebSocket;\n",
       "    } else if (typeof(MozWebSocket) !== 'undefined') {\n",
       "        return MozWebSocket;\n",
       "    } else {\n",
       "        alert('Your browser does not have WebSocket support.' +\n",
       "              'Please try Chrome, Safari or Firefox ≥ 6. ' +\n",
       "              'Firefox 4 and 5 are also supported but you ' +\n",
       "              'have to enable WebSockets in about:config.');\n",
       "    };\n",
       "}\n",
       "\n",
       "mpl.figure = function(figure_id, websocket, ondownload, parent_element) {\n",
       "    this.id = figure_id;\n",
       "\n",
       "    this.ws = websocket;\n",
       "\n",
       "    this.supports_binary = (this.ws.binaryType != undefined);\n",
       "\n",
       "    if (!this.supports_binary) {\n",
       "        var warnings = document.getElementById(\"mpl-warnings\");\n",
       "        if (warnings) {\n",
       "            warnings.style.display = 'block';\n",
       "            warnings.textContent = (\n",
       "                \"This browser does not support binary websocket messages. \" +\n",
       "                    \"Performance may be slow.\");\n",
       "        }\n",
       "    }\n",
       "\n",
       "    this.imageObj = new Image();\n",
       "\n",
       "    this.context = undefined;\n",
       "    this.message = undefined;\n",
       "    this.canvas = undefined;\n",
       "    this.rubberband_canvas = undefined;\n",
       "    this.rubberband_context = undefined;\n",
       "    this.format_dropdown = undefined;\n",
       "\n",
       "    this.image_mode = 'full';\n",
       "\n",
       "    this.root = $('<div/>');\n",
       "    this._root_extra_style(this.root)\n",
       "    this.root.attr('style', 'display: inline-block');\n",
       "\n",
       "    $(parent_element).append(this.root);\n",
       "\n",
       "    this._init_header(this);\n",
       "    this._init_canvas(this);\n",
       "    this._init_toolbar(this);\n",
       "\n",
       "    var fig = this;\n",
       "\n",
       "    this.waiting = false;\n",
       "\n",
       "    this.ws.onopen =  function () {\n",
       "            fig.send_message(\"supports_binary\", {value: fig.supports_binary});\n",
       "            fig.send_message(\"send_image_mode\", {});\n",
       "            if (mpl.ratio != 1) {\n",
       "                fig.send_message(\"set_dpi_ratio\", {'dpi_ratio': mpl.ratio});\n",
       "            }\n",
       "            fig.send_message(\"refresh\", {});\n",
       "        }\n",
       "\n",
       "    this.imageObj.onload = function() {\n",
       "            if (fig.image_mode == 'full') {\n",
       "                // Full images could contain transparency (where diff images\n",
       "                // almost always do), so we need to clear the canvas so that\n",
       "                // there is no ghosting.\n",
       "                fig.context.clearRect(0, 0, fig.canvas.width, fig.canvas.height);\n",
       "            }\n",
       "            fig.context.drawImage(fig.imageObj, 0, 0);\n",
       "        };\n",
       "\n",
       "    this.imageObj.onunload = function() {\n",
       "        fig.ws.close();\n",
       "    }\n",
       "\n",
       "    this.ws.onmessage = this._make_on_message_function(this);\n",
       "\n",
       "    this.ondownload = ondownload;\n",
       "}\n",
       "\n",
       "mpl.figure.prototype._init_header = function() {\n",
       "    var titlebar = $(\n",
       "        '<div class=\"ui-dialog-titlebar ui-widget-header ui-corner-all ' +\n",
       "        'ui-helper-clearfix\"/>');\n",
       "    var titletext = $(\n",
       "        '<div class=\"ui-dialog-title\" style=\"width: 100%; ' +\n",
       "        'text-align: center; padding: 3px;\"/>');\n",
       "    titlebar.append(titletext)\n",
       "    this.root.append(titlebar);\n",
       "    this.header = titletext[0];\n",
       "}\n",
       "\n",
       "\n",
       "\n",
       "mpl.figure.prototype._canvas_extra_style = function(canvas_div) {\n",
       "\n",
       "}\n",
       "\n",
       "\n",
       "mpl.figure.prototype._root_extra_style = function(canvas_div) {\n",
       "\n",
       "}\n",
       "\n",
       "mpl.figure.prototype._init_canvas = function() {\n",
       "    var fig = this;\n",
       "\n",
       "    var canvas_div = $('<div/>');\n",
       "\n",
       "    canvas_div.attr('style', 'position: relative; clear: both; outline: 0');\n",
       "\n",
       "    function canvas_keyboard_event(event) {\n",
       "        return fig.key_event(event, event['data']);\n",
       "    }\n",
       "\n",
       "    canvas_div.keydown('key_press', canvas_keyboard_event);\n",
       "    canvas_div.keyup('key_release', canvas_keyboard_event);\n",
       "    this.canvas_div = canvas_div\n",
       "    this._canvas_extra_style(canvas_div)\n",
       "    this.root.append(canvas_div);\n",
       "\n",
       "    var canvas = $('<canvas/>');\n",
       "    canvas.addClass('mpl-canvas');\n",
       "    canvas.attr('style', \"left: 0; top: 0; z-index: 0; outline: 0\")\n",
       "\n",
       "    this.canvas = canvas[0];\n",
       "    this.context = canvas[0].getContext(\"2d\");\n",
       "\n",
       "    var backingStore = this.context.backingStorePixelRatio ||\n",
       "\tthis.context.webkitBackingStorePixelRatio ||\n",
       "\tthis.context.mozBackingStorePixelRatio ||\n",
       "\tthis.context.msBackingStorePixelRatio ||\n",
       "\tthis.context.oBackingStorePixelRatio ||\n",
       "\tthis.context.backingStorePixelRatio || 1;\n",
       "\n",
       "    mpl.ratio = (window.devicePixelRatio || 1) / backingStore;\n",
       "\n",
       "    var rubberband = $('<canvas/>');\n",
       "    rubberband.attr('style', \"position: absolute; left: 0; top: 0; z-index: 1;\")\n",
       "\n",
       "    var pass_mouse_events = true;\n",
       "\n",
       "    canvas_div.resizable({\n",
       "        start: function(event, ui) {\n",
       "            pass_mouse_events = false;\n",
       "        },\n",
       "        resize: function(event, ui) {\n",
       "            fig.request_resize(ui.size.width, ui.size.height);\n",
       "        },\n",
       "        stop: function(event, ui) {\n",
       "            pass_mouse_events = true;\n",
       "            fig.request_resize(ui.size.width, ui.size.height);\n",
       "        },\n",
       "    });\n",
       "\n",
       "    function mouse_event_fn(event) {\n",
       "        if (pass_mouse_events)\n",
       "            return fig.mouse_event(event, event['data']);\n",
       "    }\n",
       "\n",
       "    rubberband.mousedown('button_press', mouse_event_fn);\n",
       "    rubberband.mouseup('button_release', mouse_event_fn);\n",
       "    // Throttle sequential mouse events to 1 every 20ms.\n",
       "    rubberband.mousemove('motion_notify', mouse_event_fn);\n",
       "\n",
       "    rubberband.mouseenter('figure_enter', mouse_event_fn);\n",
       "    rubberband.mouseleave('figure_leave', mouse_event_fn);\n",
       "\n",
       "    canvas_div.on(\"wheel\", function (event) {\n",
       "        event = event.originalEvent;\n",
       "        event['data'] = 'scroll'\n",
       "        if (event.deltaY < 0) {\n",
       "            event.step = 1;\n",
       "        } else {\n",
       "            event.step = -1;\n",
       "        }\n",
       "        mouse_event_fn(event);\n",
       "    });\n",
       "\n",
       "    canvas_div.append(canvas);\n",
       "    canvas_div.append(rubberband);\n",
       "\n",
       "    this.rubberband = rubberband;\n",
       "    this.rubberband_canvas = rubberband[0];\n",
       "    this.rubberband_context = rubberband[0].getContext(\"2d\");\n",
       "    this.rubberband_context.strokeStyle = \"#000000\";\n",
       "\n",
       "    this._resize_canvas = function(width, height) {\n",
       "        // Keep the size of the canvas, canvas container, and rubber band\n",
       "        // canvas in synch.\n",
       "        canvas_div.css('width', width)\n",
       "        canvas_div.css('height', height)\n",
       "\n",
       "        canvas.attr('width', width * mpl.ratio);\n",
       "        canvas.attr('height', height * mpl.ratio);\n",
       "        canvas.attr('style', 'width: ' + width + 'px; height: ' + height + 'px;');\n",
       "\n",
       "        rubberband.attr('width', width);\n",
       "        rubberband.attr('height', height);\n",
       "    }\n",
       "\n",
       "    // Set the figure to an initial 600x600px, this will subsequently be updated\n",
       "    // upon first draw.\n",
       "    this._resize_canvas(600, 600);\n",
       "\n",
       "    // Disable right mouse context menu.\n",
       "    $(this.rubberband_canvas).bind(\"contextmenu\",function(e){\n",
       "        return false;\n",
       "    });\n",
       "\n",
       "    function set_focus () {\n",
       "        canvas.focus();\n",
       "        canvas_div.focus();\n",
       "    }\n",
       "\n",
       "    window.setTimeout(set_focus, 100);\n",
       "}\n",
       "\n",
       "mpl.figure.prototype._init_toolbar = function() {\n",
       "    var fig = this;\n",
       "\n",
       "    var nav_element = $('<div/>')\n",
       "    nav_element.attr('style', 'width: 100%');\n",
       "    this.root.append(nav_element);\n",
       "\n",
       "    // Define a callback function for later on.\n",
       "    function toolbar_event(event) {\n",
       "        return fig.toolbar_button_onclick(event['data']);\n",
       "    }\n",
       "    function toolbar_mouse_event(event) {\n",
       "        return fig.toolbar_button_onmouseover(event['data']);\n",
       "    }\n",
       "\n",
       "    for(var toolbar_ind in mpl.toolbar_items) {\n",
       "        var name = mpl.toolbar_items[toolbar_ind][0];\n",
       "        var tooltip = mpl.toolbar_items[toolbar_ind][1];\n",
       "        var image = mpl.toolbar_items[toolbar_ind][2];\n",
       "        var method_name = mpl.toolbar_items[toolbar_ind][3];\n",
       "\n",
       "        if (!name) {\n",
       "            // put a spacer in here.\n",
       "            continue;\n",
       "        }\n",
       "        var button = $('<button/>');\n",
       "        button.addClass('ui-button ui-widget ui-state-default ui-corner-all ' +\n",
       "                        'ui-button-icon-only');\n",
       "        button.attr('role', 'button');\n",
       "        button.attr('aria-disabled', 'false');\n",
       "        button.click(method_name, toolbar_event);\n",
       "        button.mouseover(tooltip, toolbar_mouse_event);\n",
       "\n",
       "        var icon_img = $('<span/>');\n",
       "        icon_img.addClass('ui-button-icon-primary ui-icon');\n",
       "        icon_img.addClass(image);\n",
       "        icon_img.addClass('ui-corner-all');\n",
       "\n",
       "        var tooltip_span = $('<span/>');\n",
       "        tooltip_span.addClass('ui-button-text');\n",
       "        tooltip_span.html(tooltip);\n",
       "\n",
       "        button.append(icon_img);\n",
       "        button.append(tooltip_span);\n",
       "\n",
       "        nav_element.append(button);\n",
       "    }\n",
       "\n",
       "    var fmt_picker_span = $('<span/>');\n",
       "\n",
       "    var fmt_picker = $('<select/>');\n",
       "    fmt_picker.addClass('mpl-toolbar-option ui-widget ui-widget-content');\n",
       "    fmt_picker_span.append(fmt_picker);\n",
       "    nav_element.append(fmt_picker_span);\n",
       "    this.format_dropdown = fmt_picker[0];\n",
       "\n",
       "    for (var ind in mpl.extensions) {\n",
       "        var fmt = mpl.extensions[ind];\n",
       "        var option = $(\n",
       "            '<option/>', {selected: fmt === mpl.default_extension}).html(fmt);\n",
       "        fmt_picker.append(option)\n",
       "    }\n",
       "\n",
       "    // Add hover states to the ui-buttons\n",
       "    $( \".ui-button\" ).hover(\n",
       "        function() { $(this).addClass(\"ui-state-hover\");},\n",
       "        function() { $(this).removeClass(\"ui-state-hover\");}\n",
       "    );\n",
       "\n",
       "    var status_bar = $('<span class=\"mpl-message\"/>');\n",
       "    nav_element.append(status_bar);\n",
       "    this.message = status_bar[0];\n",
       "}\n",
       "\n",
       "mpl.figure.prototype.request_resize = function(x_pixels, y_pixels) {\n",
       "    // Request matplotlib to resize the figure. Matplotlib will then trigger a resize in the client,\n",
       "    // which will in turn request a refresh of the image.\n",
       "    this.send_message('resize', {'width': x_pixels, 'height': y_pixels});\n",
       "}\n",
       "\n",
       "mpl.figure.prototype.send_message = function(type, properties) {\n",
       "    properties['type'] = type;\n",
       "    properties['figure_id'] = this.id;\n",
       "    this.ws.send(JSON.stringify(properties));\n",
       "}\n",
       "\n",
       "mpl.figure.prototype.send_draw_message = function() {\n",
       "    if (!this.waiting) {\n",
       "        this.waiting = true;\n",
       "        this.ws.send(JSON.stringify({type: \"draw\", figure_id: this.id}));\n",
       "    }\n",
       "}\n",
       "\n",
       "\n",
       "mpl.figure.prototype.handle_save = function(fig, msg) {\n",
       "    var format_dropdown = fig.format_dropdown;\n",
       "    var format = format_dropdown.options[format_dropdown.selectedIndex].value;\n",
       "    fig.ondownload(fig, format);\n",
       "}\n",
       "\n",
       "\n",
       "mpl.figure.prototype.handle_resize = function(fig, msg) {\n",
       "    var size = msg['size'];\n",
       "    if (size[0] != fig.canvas.width || size[1] != fig.canvas.height) {\n",
       "        fig._resize_canvas(size[0], size[1]);\n",
       "        fig.send_message(\"refresh\", {});\n",
       "    };\n",
       "}\n",
       "\n",
       "mpl.figure.prototype.handle_rubberband = function(fig, msg) {\n",
       "    var x0 = msg['x0'] / mpl.ratio;\n",
       "    var y0 = (fig.canvas.height - msg['y0']) / mpl.ratio;\n",
       "    var x1 = msg['x1'] / mpl.ratio;\n",
       "    var y1 = (fig.canvas.height - msg['y1']) / mpl.ratio;\n",
       "    x0 = Math.floor(x0) + 0.5;\n",
       "    y0 = Math.floor(y0) + 0.5;\n",
       "    x1 = Math.floor(x1) + 0.5;\n",
       "    y1 = Math.floor(y1) + 0.5;\n",
       "    var min_x = Math.min(x0, x1);\n",
       "    var min_y = Math.min(y0, y1);\n",
       "    var width = Math.abs(x1 - x0);\n",
       "    var height = Math.abs(y1 - y0);\n",
       "\n",
       "    fig.rubberband_context.clearRect(\n",
       "        0, 0, fig.canvas.width, fig.canvas.height);\n",
       "\n",
       "    fig.rubberband_context.strokeRect(min_x, min_y, width, height);\n",
       "}\n",
       "\n",
       "mpl.figure.prototype.handle_figure_label = function(fig, msg) {\n",
       "    // Updates the figure title.\n",
       "    fig.header.textContent = msg['label'];\n",
       "}\n",
       "\n",
       "mpl.figure.prototype.handle_cursor = function(fig, msg) {\n",
       "    var cursor = msg['cursor'];\n",
       "    switch(cursor)\n",
       "    {\n",
       "    case 0:\n",
       "        cursor = 'pointer';\n",
       "        break;\n",
       "    case 1:\n",
       "        cursor = 'default';\n",
       "        break;\n",
       "    case 2:\n",
       "        cursor = 'crosshair';\n",
       "        break;\n",
       "    case 3:\n",
       "        cursor = 'move';\n",
       "        break;\n",
       "    }\n",
       "    fig.rubberband_canvas.style.cursor = cursor;\n",
       "}\n",
       "\n",
       "mpl.figure.prototype.handle_message = function(fig, msg) {\n",
       "    fig.message.textContent = msg['message'];\n",
       "}\n",
       "\n",
       "mpl.figure.prototype.handle_draw = function(fig, msg) {\n",
       "    // Request the server to send over a new figure.\n",
       "    fig.send_draw_message();\n",
       "}\n",
       "\n",
       "mpl.figure.prototype.handle_image_mode = function(fig, msg) {\n",
       "    fig.image_mode = msg['mode'];\n",
       "}\n",
       "\n",
       "mpl.figure.prototype.updated_canvas_event = function() {\n",
       "    // Called whenever the canvas gets updated.\n",
       "    this.send_message(\"ack\", {});\n",
       "}\n",
       "\n",
       "// A function to construct a web socket function for onmessage handling.\n",
       "// Called in the figure constructor.\n",
       "mpl.figure.prototype._make_on_message_function = function(fig) {\n",
       "    return function socket_on_message(evt) {\n",
       "        if (evt.data instanceof Blob) {\n",
       "            /* FIXME: We get \"Resource interpreted as Image but\n",
       "             * transferred with MIME type text/plain:\" errors on\n",
       "             * Chrome.  But how to set the MIME type?  It doesn't seem\n",
       "             * to be part of the websocket stream */\n",
       "            evt.data.type = \"image/png\";\n",
       "\n",
       "            /* Free the memory for the previous frames */\n",
       "            if (fig.imageObj.src) {\n",
       "                (window.URL || window.webkitURL).revokeObjectURL(\n",
       "                    fig.imageObj.src);\n",
       "            }\n",
       "\n",
       "            fig.imageObj.src = (window.URL || window.webkitURL).createObjectURL(\n",
       "                evt.data);\n",
       "            fig.updated_canvas_event();\n",
       "            fig.waiting = false;\n",
       "            return;\n",
       "        }\n",
       "        else if (typeof evt.data === 'string' && evt.data.slice(0, 21) == \"data:image/png;base64\") {\n",
       "            fig.imageObj.src = evt.data;\n",
       "            fig.updated_canvas_event();\n",
       "            fig.waiting = false;\n",
       "            return;\n",
       "        }\n",
       "\n",
       "        var msg = JSON.parse(evt.data);\n",
       "        var msg_type = msg['type'];\n",
       "\n",
       "        // Call the  \"handle_{type}\" callback, which takes\n",
       "        // the figure and JSON message as its only arguments.\n",
       "        try {\n",
       "            var callback = fig[\"handle_\" + msg_type];\n",
       "        } catch (e) {\n",
       "            console.log(\"No handler for the '\" + msg_type + \"' message type: \", msg);\n",
       "            return;\n",
       "        }\n",
       "\n",
       "        if (callback) {\n",
       "            try {\n",
       "                // console.log(\"Handling '\" + msg_type + \"' message: \", msg);\n",
       "                callback(fig, msg);\n",
       "            } catch (e) {\n",
       "                console.log(\"Exception inside the 'handler_\" + msg_type + \"' callback:\", e, e.stack, msg);\n",
       "            }\n",
       "        }\n",
       "    };\n",
       "}\n",
       "\n",
       "// from http://stackoverflow.com/questions/1114465/getting-mouse-location-in-canvas\n",
       "mpl.findpos = function(e) {\n",
       "    //this section is from http://www.quirksmode.org/js/events_properties.html\n",
       "    var targ;\n",
       "    if (!e)\n",
       "        e = window.event;\n",
       "    if (e.target)\n",
       "        targ = e.target;\n",
       "    else if (e.srcElement)\n",
       "        targ = e.srcElement;\n",
       "    if (targ.nodeType == 3) // defeat Safari bug\n",
       "        targ = targ.parentNode;\n",
       "\n",
       "    // jQuery normalizes the pageX and pageY\n",
       "    // pageX,Y are the mouse positions relative to the document\n",
       "    // offset() returns the position of the element relative to the document\n",
       "    var x = e.pageX - $(targ).offset().left;\n",
       "    var y = e.pageY - $(targ).offset().top;\n",
       "\n",
       "    return {\"x\": x, \"y\": y};\n",
       "};\n",
       "\n",
       "/*\n",
       " * return a copy of an object with only non-object keys\n",
       " * we need this to avoid circular references\n",
       " * http://stackoverflow.com/a/24161582/3208463\n",
       " */\n",
       "function simpleKeys (original) {\n",
       "  return Object.keys(original).reduce(function (obj, key) {\n",
       "    if (typeof original[key] !== 'object')\n",
       "        obj[key] = original[key]\n",
       "    return obj;\n",
       "  }, {});\n",
       "}\n",
       "\n",
       "mpl.figure.prototype.mouse_event = function(event, name) {\n",
       "    var canvas_pos = mpl.findpos(event)\n",
       "\n",
       "    if (name === 'button_press')\n",
       "    {\n",
       "        this.canvas.focus();\n",
       "        this.canvas_div.focus();\n",
       "    }\n",
       "\n",
       "    var x = canvas_pos.x * mpl.ratio;\n",
       "    var y = canvas_pos.y * mpl.ratio;\n",
       "\n",
       "    this.send_message(name, {x: x, y: y, button: event.button,\n",
       "                             step: event.step,\n",
       "                             guiEvent: simpleKeys(event)});\n",
       "\n",
       "    /* This prevents the web browser from automatically changing to\n",
       "     * the text insertion cursor when the button is pressed.  We want\n",
       "     * to control all of the cursor setting manually through the\n",
       "     * 'cursor' event from matplotlib */\n",
       "    event.preventDefault();\n",
       "    return false;\n",
       "}\n",
       "\n",
       "mpl.figure.prototype._key_event_extra = function(event, name) {\n",
       "    // Handle any extra behaviour associated with a key event\n",
       "}\n",
       "\n",
       "mpl.figure.prototype.key_event = function(event, name) {\n",
       "\n",
       "    // Prevent repeat events\n",
       "    if (name == 'key_press')\n",
       "    {\n",
       "        if (event.which === this._key)\n",
       "            return;\n",
       "        else\n",
       "            this._key = event.which;\n",
       "    }\n",
       "    if (name == 'key_release')\n",
       "        this._key = null;\n",
       "\n",
       "    var value = '';\n",
       "    if (event.ctrlKey && event.which != 17)\n",
       "        value += \"ctrl+\";\n",
       "    if (event.altKey && event.which != 18)\n",
       "        value += \"alt+\";\n",
       "    if (event.shiftKey && event.which != 16)\n",
       "        value += \"shift+\";\n",
       "\n",
       "    value += 'k';\n",
       "    value += event.which.toString();\n",
       "\n",
       "    this._key_event_extra(event, name);\n",
       "\n",
       "    this.send_message(name, {key: value,\n",
       "                             guiEvent: simpleKeys(event)});\n",
       "    return false;\n",
       "}\n",
       "\n",
       "mpl.figure.prototype.toolbar_button_onclick = function(name) {\n",
       "    if (name == 'download') {\n",
       "        this.handle_save(this, null);\n",
       "    } else {\n",
       "        this.send_message(\"toolbar_button\", {name: name});\n",
       "    }\n",
       "};\n",
       "\n",
       "mpl.figure.prototype.toolbar_button_onmouseover = function(tooltip) {\n",
       "    this.message.textContent = tooltip;\n",
       "};\n",
       "mpl.toolbar_items = [[\"Home\", \"Reset original view\", \"fa fa-home icon-home\", \"home\"], [\"Back\", \"Back to  previous view\", \"fa fa-arrow-left icon-arrow-left\", \"back\"], [\"Forward\", \"Forward to next view\", \"fa fa-arrow-right icon-arrow-right\", \"forward\"], [\"\", \"\", \"\", \"\"], [\"Pan\", \"Pan axes with left mouse, zoom with right\", \"fa fa-arrows icon-move\", \"pan\"], [\"Zoom\", \"Zoom to rectangle\", \"fa fa-square-o icon-check-empty\", \"zoom\"], [\"\", \"\", \"\", \"\"], [\"Download\", \"Download plot\", \"fa fa-floppy-o icon-save\", \"download\"]];\n",
       "\n",
       "mpl.extensions = [\"eps\", \"jpeg\", \"pdf\", \"png\", \"ps\", \"raw\", \"svg\", \"tif\"];\n",
       "\n",
       "mpl.default_extension = \"png\";var comm_websocket_adapter = function(comm) {\n",
       "    // Create a \"websocket\"-like object which calls the given IPython comm\n",
       "    // object with the appropriate methods. Currently this is a non binary\n",
       "    // socket, so there is still some room for performance tuning.\n",
       "    var ws = {};\n",
       "\n",
       "    ws.close = function() {\n",
       "        comm.close()\n",
       "    };\n",
       "    ws.send = function(m) {\n",
       "        //console.log('sending', m);\n",
       "        comm.send(m);\n",
       "    };\n",
       "    // Register the callback with on_msg.\n",
       "    comm.on_msg(function(msg) {\n",
       "        //console.log('receiving', msg['content']['data'], msg);\n",
       "        // Pass the mpl event to the overridden (by mpl) onmessage function.\n",
       "        ws.onmessage(msg['content']['data'])\n",
       "    });\n",
       "    return ws;\n",
       "}\n",
       "\n",
       "mpl.mpl_figure_comm = function(comm, msg) {\n",
       "    // This is the function which gets called when the mpl process\n",
       "    // starts-up an IPython Comm through the \"matplotlib\" channel.\n",
       "\n",
       "    var id = msg.content.data.id;\n",
       "    // Get hold of the div created by the display call when the Comm\n",
       "    // socket was opened in Python.\n",
       "    var element = $(\"#\" + id);\n",
       "    var ws_proxy = comm_websocket_adapter(comm)\n",
       "\n",
       "    function ondownload(figure, format) {\n",
       "        window.open(figure.imageObj.src);\n",
       "    }\n",
       "\n",
       "    var fig = new mpl.figure(id, ws_proxy,\n",
       "                           ondownload,\n",
       "                           element.get(0));\n",
       "\n",
       "    // Call onopen now - mpl needs it, as it is assuming we've passed it a real\n",
       "    // web socket which is closed, not our websocket->open comm proxy.\n",
       "    ws_proxy.onopen();\n",
       "\n",
       "    fig.parent_element = element.get(0);\n",
       "    fig.cell_info = mpl.find_output_cell(\"<div id='\" + id + \"'></div>\");\n",
       "    if (!fig.cell_info) {\n",
       "        console.error(\"Failed to find cell for figure\", id, fig);\n",
       "        return;\n",
       "    }\n",
       "\n",
       "    var output_index = fig.cell_info[2]\n",
       "    var cell = fig.cell_info[0];\n",
       "\n",
       "};\n",
       "\n",
       "mpl.figure.prototype.handle_close = function(fig, msg) {\n",
       "    var width = fig.canvas.width/mpl.ratio\n",
       "    fig.root.unbind('remove')\n",
       "\n",
       "    // Update the output cell to use the data from the current canvas.\n",
       "    fig.push_to_output();\n",
       "    var dataURL = fig.canvas.toDataURL();\n",
       "    // Re-enable the keyboard manager in IPython - without this line, in FF,\n",
       "    // the notebook keyboard shortcuts fail.\n",
       "    IPython.keyboard_manager.enable()\n",
       "    $(fig.parent_element).html('<img src=\"' + dataURL + '\" width=\"' + width + '\">');\n",
       "    fig.close_ws(fig, msg);\n",
       "}\n",
       "\n",
       "mpl.figure.prototype.close_ws = function(fig, msg){\n",
       "    fig.send_message('closing', msg);\n",
       "    // fig.ws.close()\n",
       "}\n",
       "\n",
       "mpl.figure.prototype.push_to_output = function(remove_interactive) {\n",
       "    // Turn the data on the canvas into data in the output cell.\n",
       "    var width = this.canvas.width/mpl.ratio\n",
       "    var dataURL = this.canvas.toDataURL();\n",
       "    this.cell_info[1]['text/html'] = '<img src=\"' + dataURL + '\" width=\"' + width + '\">';\n",
       "}\n",
       "\n",
       "mpl.figure.prototype.updated_canvas_event = function() {\n",
       "    // Tell IPython that the notebook contents must change.\n",
       "    IPython.notebook.set_dirty(true);\n",
       "    this.send_message(\"ack\", {});\n",
       "    var fig = this;\n",
       "    // Wait a second, then push the new image to the DOM so\n",
       "    // that it is saved nicely (might be nice to debounce this).\n",
       "    setTimeout(function () { fig.push_to_output() }, 1000);\n",
       "}\n",
       "\n",
       "mpl.figure.prototype._init_toolbar = function() {\n",
       "    var fig = this;\n",
       "\n",
       "    var nav_element = $('<div/>')\n",
       "    nav_element.attr('style', 'width: 100%');\n",
       "    this.root.append(nav_element);\n",
       "\n",
       "    // Define a callback function for later on.\n",
       "    function toolbar_event(event) {\n",
       "        return fig.toolbar_button_onclick(event['data']);\n",
       "    }\n",
       "    function toolbar_mouse_event(event) {\n",
       "        return fig.toolbar_button_onmouseover(event['data']);\n",
       "    }\n",
       "\n",
       "    for(var toolbar_ind in mpl.toolbar_items){\n",
       "        var name = mpl.toolbar_items[toolbar_ind][0];\n",
       "        var tooltip = mpl.toolbar_items[toolbar_ind][1];\n",
       "        var image = mpl.toolbar_items[toolbar_ind][2];\n",
       "        var method_name = mpl.toolbar_items[toolbar_ind][3];\n",
       "\n",
       "        if (!name) { continue; };\n",
       "\n",
       "        var button = $('<button class=\"btn btn-default\" href=\"#\" title=\"' + name + '\"><i class=\"fa ' + image + ' fa-lg\"></i></button>');\n",
       "        button.click(method_name, toolbar_event);\n",
       "        button.mouseover(tooltip, toolbar_mouse_event);\n",
       "        nav_element.append(button);\n",
       "    }\n",
       "\n",
       "    // Add the status bar.\n",
       "    var status_bar = $('<span class=\"mpl-message\" style=\"text-align:right; float: right;\"/>');\n",
       "    nav_element.append(status_bar);\n",
       "    this.message = status_bar[0];\n",
       "\n",
       "    // Add the close button to the window.\n",
       "    var buttongrp = $('<div class=\"btn-group inline pull-right\"></div>');\n",
       "    var button = $('<button class=\"btn btn-mini btn-primary\" href=\"#\" title=\"Stop Interaction\"><i class=\"fa fa-power-off icon-remove icon-large\"></i></button>');\n",
       "    button.click(function (evt) { fig.handle_close(fig, {}); } );\n",
       "    button.mouseover('Stop Interaction', toolbar_mouse_event);\n",
       "    buttongrp.append(button);\n",
       "    var titlebar = this.root.find($('.ui-dialog-titlebar'));\n",
       "    titlebar.prepend(buttongrp);\n",
       "}\n",
       "\n",
       "mpl.figure.prototype._root_extra_style = function(el){\n",
       "    var fig = this\n",
       "    el.on(\"remove\", function(){\n",
       "\tfig.close_ws(fig, {});\n",
       "    });\n",
       "}\n",
       "\n",
       "mpl.figure.prototype._canvas_extra_style = function(el){\n",
       "    // this is important to make the div 'focusable\n",
       "    el.attr('tabindex', 0)\n",
       "    // reach out to IPython and tell the keyboard manager to turn it's self\n",
       "    // off when our div gets focus\n",
       "\n",
       "    // location in version 3\n",
       "    if (IPython.notebook.keyboard_manager) {\n",
       "        IPython.notebook.keyboard_manager.register_events(el);\n",
       "    }\n",
       "    else {\n",
       "        // location in version 2\n",
       "        IPython.keyboard_manager.register_events(el);\n",
       "    }\n",
       "\n",
       "}\n",
       "\n",
       "mpl.figure.prototype._key_event_extra = function(event, name) {\n",
       "    var manager = IPython.notebook.keyboard_manager;\n",
       "    if (!manager)\n",
       "        manager = IPython.keyboard_manager;\n",
       "\n",
       "    // Check for shift+enter\n",
       "    if (event.shiftKey && event.which == 13) {\n",
       "        this.canvas_div.blur();\n",
       "        event.shiftKey = false;\n",
       "        // Send a \"J\" for go to next cell\n",
       "        event.which = 74;\n",
       "        event.keyCode = 74;\n",
       "        manager.command_mode();\n",
       "        manager.handle_keydown(event);\n",
       "    }\n",
       "}\n",
       "\n",
       "mpl.figure.prototype.handle_save = function(fig, msg) {\n",
       "    fig.ondownload(fig, null);\n",
       "}\n",
       "\n",
       "\n",
       "mpl.find_output_cell = function(html_output) {\n",
       "    // Return the cell and output element which can be found *uniquely* in the notebook.\n",
       "    // Note - this is a bit hacky, but it is done because the \"notebook_saving.Notebook\"\n",
       "    // IPython event is triggered only after the cells have been serialised, which for\n",
       "    // our purposes (turning an active figure into a static one), is too late.\n",
       "    var cells = IPython.notebook.get_cells();\n",
       "    var ncells = cells.length;\n",
       "    for (var i=0; i<ncells; i++) {\n",
       "        var cell = cells[i];\n",
       "        if (cell.cell_type === 'code'){\n",
       "            for (var j=0; j<cell.output_area.outputs.length; j++) {\n",
       "                var data = cell.output_area.outputs[j];\n",
       "                if (data.data) {\n",
       "                    // IPython >= 3 moved mimebundle to data attribute of output\n",
       "                    data = data.data;\n",
       "                }\n",
       "                if (data['text/html'] == html_output) {\n",
       "                    return [cell, data, j];\n",
       "                }\n",
       "            }\n",
       "        }\n",
       "    }\n",
       "}\n",
       "\n",
       "// Register the function which deals with the matplotlib target/channel.\n",
       "// The kernel may be null if the page has been refreshed.\n",
       "if (IPython.notebook.kernel != null) {\n",
       "    IPython.notebook.kernel.comm_manager.register_target('matplotlib', mpl.mpl_figure_comm);\n",
       "}\n"
      ],
      "text/plain": [
       "<IPython.core.display.Javascript object>"
      ]
     },
     "metadata": {},
     "output_type": "display_data"
    },
    {
     "data": {
      "text/html": [
       "<img src=\"data:image/png;base64,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\" width=\"300\">"
      ],
      "text/plain": [
       "<IPython.core.display.HTML object>"
      ]
     },
     "metadata": {},
     "output_type": "display_data"
    },
    {
     "data": {
      "application/javascript": [
       "/* Put everything inside the global mpl namespace */\n",
       "window.mpl = {};\n",
       "\n",
       "\n",
       "mpl.get_websocket_type = function() {\n",
       "    if (typeof(WebSocket) !== 'undefined') {\n",
       "        return WebSocket;\n",
       "    } else if (typeof(MozWebSocket) !== 'undefined') {\n",
       "        return MozWebSocket;\n",
       "    } else {\n",
       "        alert('Your browser does not have WebSocket support.' +\n",
       "              'Please try Chrome, Safari or Firefox ≥ 6. ' +\n",
       "              'Firefox 4 and 5 are also supported but you ' +\n",
       "              'have to enable WebSockets in about:config.');\n",
       "    };\n",
       "}\n",
       "\n",
       "mpl.figure = function(figure_id, websocket, ondownload, parent_element) {\n",
       "    this.id = figure_id;\n",
       "\n",
       "    this.ws = websocket;\n",
       "\n",
       "    this.supports_binary = (this.ws.binaryType != undefined);\n",
       "\n",
       "    if (!this.supports_binary) {\n",
       "        var warnings = document.getElementById(\"mpl-warnings\");\n",
       "        if (warnings) {\n",
       "            warnings.style.display = 'block';\n",
       "            warnings.textContent = (\n",
       "                \"This browser does not support binary websocket messages. \" +\n",
       "                    \"Performance may be slow.\");\n",
       "        }\n",
       "    }\n",
       "\n",
       "    this.imageObj = new Image();\n",
       "\n",
       "    this.context = undefined;\n",
       "    this.message = undefined;\n",
       "    this.canvas = undefined;\n",
       "    this.rubberband_canvas = undefined;\n",
       "    this.rubberband_context = undefined;\n",
       "    this.format_dropdown = undefined;\n",
       "\n",
       "    this.image_mode = 'full';\n",
       "\n",
       "    this.root = $('<div/>');\n",
       "    this._root_extra_style(this.root)\n",
       "    this.root.attr('style', 'display: inline-block');\n",
       "\n",
       "    $(parent_element).append(this.root);\n",
       "\n",
       "    this._init_header(this);\n",
       "    this._init_canvas(this);\n",
       "    this._init_toolbar(this);\n",
       "\n",
       "    var fig = this;\n",
       "\n",
       "    this.waiting = false;\n",
       "\n",
       "    this.ws.onopen =  function () {\n",
       "            fig.send_message(\"supports_binary\", {value: fig.supports_binary});\n",
       "            fig.send_message(\"send_image_mode\", {});\n",
       "            if (mpl.ratio != 1) {\n",
       "                fig.send_message(\"set_dpi_ratio\", {'dpi_ratio': mpl.ratio});\n",
       "            }\n",
       "            fig.send_message(\"refresh\", {});\n",
       "        }\n",
       "\n",
       "    this.imageObj.onload = function() {\n",
       "            if (fig.image_mode == 'full') {\n",
       "                // Full images could contain transparency (where diff images\n",
       "                // almost always do), so we need to clear the canvas so that\n",
       "                // there is no ghosting.\n",
       "                fig.context.clearRect(0, 0, fig.canvas.width, fig.canvas.height);\n",
       "            }\n",
       "            fig.context.drawImage(fig.imageObj, 0, 0);\n",
       "        };\n",
       "\n",
       "    this.imageObj.onunload = function() {\n",
       "        fig.ws.close();\n",
       "    }\n",
       "\n",
       "    this.ws.onmessage = this._make_on_message_function(this);\n",
       "\n",
       "    this.ondownload = ondownload;\n",
       "}\n",
       "\n",
       "mpl.figure.prototype._init_header = function() {\n",
       "    var titlebar = $(\n",
       "        '<div class=\"ui-dialog-titlebar ui-widget-header ui-corner-all ' +\n",
       "        'ui-helper-clearfix\"/>');\n",
       "    var titletext = $(\n",
       "        '<div class=\"ui-dialog-title\" style=\"width: 100%; ' +\n",
       "        'text-align: center; padding: 3px;\"/>');\n",
       "    titlebar.append(titletext)\n",
       "    this.root.append(titlebar);\n",
       "    this.header = titletext[0];\n",
       "}\n",
       "\n",
       "\n",
       "\n",
       "mpl.figure.prototype._canvas_extra_style = function(canvas_div) {\n",
       "\n",
       "}\n",
       "\n",
       "\n",
       "mpl.figure.prototype._root_extra_style = function(canvas_div) {\n",
       "\n",
       "}\n",
       "\n",
       "mpl.figure.prototype._init_canvas = function() {\n",
       "    var fig = this;\n",
       "\n",
       "    var canvas_div = $('<div/>');\n",
       "\n",
       "    canvas_div.attr('style', 'position: relative; clear: both; outline: 0');\n",
       "\n",
       "    function canvas_keyboard_event(event) {\n",
       "        return fig.key_event(event, event['data']);\n",
       "    }\n",
       "\n",
       "    canvas_div.keydown('key_press', canvas_keyboard_event);\n",
       "    canvas_div.keyup('key_release', canvas_keyboard_event);\n",
       "    this.canvas_div = canvas_div\n",
       "    this._canvas_extra_style(canvas_div)\n",
       "    this.root.append(canvas_div);\n",
       "\n",
       "    var canvas = $('<canvas/>');\n",
       "    canvas.addClass('mpl-canvas');\n",
       "    canvas.attr('style', \"left: 0; top: 0; z-index: 0; outline: 0\")\n",
       "\n",
       "    this.canvas = canvas[0];\n",
       "    this.context = canvas[0].getContext(\"2d\");\n",
       "\n",
       "    var backingStore = this.context.backingStorePixelRatio ||\n",
       "\tthis.context.webkitBackingStorePixelRatio ||\n",
       "\tthis.context.mozBackingStorePixelRatio ||\n",
       "\tthis.context.msBackingStorePixelRatio ||\n",
       "\tthis.context.oBackingStorePixelRatio ||\n",
       "\tthis.context.backingStorePixelRatio || 1;\n",
       "\n",
       "    mpl.ratio = (window.devicePixelRatio || 1) / backingStore;\n",
       "\n",
       "    var rubberband = $('<canvas/>');\n",
       "    rubberband.attr('style', \"position: absolute; left: 0; top: 0; z-index: 1;\")\n",
       "\n",
       "    var pass_mouse_events = true;\n",
       "\n",
       "    canvas_div.resizable({\n",
       "        start: function(event, ui) {\n",
       "            pass_mouse_events = false;\n",
       "        },\n",
       "        resize: function(event, ui) {\n",
       "            fig.request_resize(ui.size.width, ui.size.height);\n",
       "        },\n",
       "        stop: function(event, ui) {\n",
       "            pass_mouse_events = true;\n",
       "            fig.request_resize(ui.size.width, ui.size.height);\n",
       "        },\n",
       "    });\n",
       "\n",
       "    function mouse_event_fn(event) {\n",
       "        if (pass_mouse_events)\n",
       "            return fig.mouse_event(event, event['data']);\n",
       "    }\n",
       "\n",
       "    rubberband.mousedown('button_press', mouse_event_fn);\n",
       "    rubberband.mouseup('button_release', mouse_event_fn);\n",
       "    // Throttle sequential mouse events to 1 every 20ms.\n",
       "    rubberband.mousemove('motion_notify', mouse_event_fn);\n",
       "\n",
       "    rubberband.mouseenter('figure_enter', mouse_event_fn);\n",
       "    rubberband.mouseleave('figure_leave', mouse_event_fn);\n",
       "\n",
       "    canvas_div.on(\"wheel\", function (event) {\n",
       "        event = event.originalEvent;\n",
       "        event['data'] = 'scroll'\n",
       "        if (event.deltaY < 0) {\n",
       "            event.step = 1;\n",
       "        } else {\n",
       "            event.step = -1;\n",
       "        }\n",
       "        mouse_event_fn(event);\n",
       "    });\n",
       "\n",
       "    canvas_div.append(canvas);\n",
       "    canvas_div.append(rubberband);\n",
       "\n",
       "    this.rubberband = rubberband;\n",
       "    this.rubberband_canvas = rubberband[0];\n",
       "    this.rubberband_context = rubberband[0].getContext(\"2d\");\n",
       "    this.rubberband_context.strokeStyle = \"#000000\";\n",
       "\n",
       "    this._resize_canvas = function(width, height) {\n",
       "        // Keep the size of the canvas, canvas container, and rubber band\n",
       "        // canvas in synch.\n",
       "        canvas_div.css('width', width)\n",
       "        canvas_div.css('height', height)\n",
       "\n",
       "        canvas.attr('width', width * mpl.ratio);\n",
       "        canvas.attr('height', height * mpl.ratio);\n",
       "        canvas.attr('style', 'width: ' + width + 'px; height: ' + height + 'px;');\n",
       "\n",
       "        rubberband.attr('width', width);\n",
       "        rubberband.attr('height', height);\n",
       "    }\n",
       "\n",
       "    // Set the figure to an initial 600x600px, this will subsequently be updated\n",
       "    // upon first draw.\n",
       "    this._resize_canvas(600, 600);\n",
       "\n",
       "    // Disable right mouse context menu.\n",
       "    $(this.rubberband_canvas).bind(\"contextmenu\",function(e){\n",
       "        return false;\n",
       "    });\n",
       "\n",
       "    function set_focus () {\n",
       "        canvas.focus();\n",
       "        canvas_div.focus();\n",
       "    }\n",
       "\n",
       "    window.setTimeout(set_focus, 100);\n",
       "}\n",
       "\n",
       "mpl.figure.prototype._init_toolbar = function() {\n",
       "    var fig = this;\n",
       "\n",
       "    var nav_element = $('<div/>')\n",
       "    nav_element.attr('style', 'width: 100%');\n",
       "    this.root.append(nav_element);\n",
       "\n",
       "    // Define a callback function for later on.\n",
       "    function toolbar_event(event) {\n",
       "        return fig.toolbar_button_onclick(event['data']);\n",
       "    }\n",
       "    function toolbar_mouse_event(event) {\n",
       "        return fig.toolbar_button_onmouseover(event['data']);\n",
       "    }\n",
       "\n",
       "    for(var toolbar_ind in mpl.toolbar_items) {\n",
       "        var name = mpl.toolbar_items[toolbar_ind][0];\n",
       "        var tooltip = mpl.toolbar_items[toolbar_ind][1];\n",
       "        var image = mpl.toolbar_items[toolbar_ind][2];\n",
       "        var method_name = mpl.toolbar_items[toolbar_ind][3];\n",
       "\n",
       "        if (!name) {\n",
       "            // put a spacer in here.\n",
       "            continue;\n",
       "        }\n",
       "        var button = $('<button/>');\n",
       "        button.addClass('ui-button ui-widget ui-state-default ui-corner-all ' +\n",
       "                        'ui-button-icon-only');\n",
       "        button.attr('role', 'button');\n",
       "        button.attr('aria-disabled', 'false');\n",
       "        button.click(method_name, toolbar_event);\n",
       "        button.mouseover(tooltip, toolbar_mouse_event);\n",
       "\n",
       "        var icon_img = $('<span/>');\n",
       "        icon_img.addClass('ui-button-icon-primary ui-icon');\n",
       "        icon_img.addClass(image);\n",
       "        icon_img.addClass('ui-corner-all');\n",
       "\n",
       "        var tooltip_span = $('<span/>');\n",
       "        tooltip_span.addClass('ui-button-text');\n",
       "        tooltip_span.html(tooltip);\n",
       "\n",
       "        button.append(icon_img);\n",
       "        button.append(tooltip_span);\n",
       "\n",
       "        nav_element.append(button);\n",
       "    }\n",
       "\n",
       "    var fmt_picker_span = $('<span/>');\n",
       "\n",
       "    var fmt_picker = $('<select/>');\n",
       "    fmt_picker.addClass('mpl-toolbar-option ui-widget ui-widget-content');\n",
       "    fmt_picker_span.append(fmt_picker);\n",
       "    nav_element.append(fmt_picker_span);\n",
       "    this.format_dropdown = fmt_picker[0];\n",
       "\n",
       "    for (var ind in mpl.extensions) {\n",
       "        var fmt = mpl.extensions[ind];\n",
       "        var option = $(\n",
       "            '<option/>', {selected: fmt === mpl.default_extension}).html(fmt);\n",
       "        fmt_picker.append(option)\n",
       "    }\n",
       "\n",
       "    // Add hover states to the ui-buttons\n",
       "    $( \".ui-button\" ).hover(\n",
       "        function() { $(this).addClass(\"ui-state-hover\");},\n",
       "        function() { $(this).removeClass(\"ui-state-hover\");}\n",
       "    );\n",
       "\n",
       "    var status_bar = $('<span class=\"mpl-message\"/>');\n",
       "    nav_element.append(status_bar);\n",
       "    this.message = status_bar[0];\n",
       "}\n",
       "\n",
       "mpl.figure.prototype.request_resize = function(x_pixels, y_pixels) {\n",
       "    // Request matplotlib to resize the figure. Matplotlib will then trigger a resize in the client,\n",
       "    // which will in turn request a refresh of the image.\n",
       "    this.send_message('resize', {'width': x_pixels, 'height': y_pixels});\n",
       "}\n",
       "\n",
       "mpl.figure.prototype.send_message = function(type, properties) {\n",
       "    properties['type'] = type;\n",
       "    properties['figure_id'] = this.id;\n",
       "    this.ws.send(JSON.stringify(properties));\n",
       "}\n",
       "\n",
       "mpl.figure.prototype.send_draw_message = function() {\n",
       "    if (!this.waiting) {\n",
       "        this.waiting = true;\n",
       "        this.ws.send(JSON.stringify({type: \"draw\", figure_id: this.id}));\n",
       "    }\n",
       "}\n",
       "\n",
       "\n",
       "mpl.figure.prototype.handle_save = function(fig, msg) {\n",
       "    var format_dropdown = fig.format_dropdown;\n",
       "    var format = format_dropdown.options[format_dropdown.selectedIndex].value;\n",
       "    fig.ondownload(fig, format);\n",
       "}\n",
       "\n",
       "\n",
       "mpl.figure.prototype.handle_resize = function(fig, msg) {\n",
       "    var size = msg['size'];\n",
       "    if (size[0] != fig.canvas.width || size[1] != fig.canvas.height) {\n",
       "        fig._resize_canvas(size[0], size[1]);\n",
       "        fig.send_message(\"refresh\", {});\n",
       "    };\n",
       "}\n",
       "\n",
       "mpl.figure.prototype.handle_rubberband = function(fig, msg) {\n",
       "    var x0 = msg['x0'] / mpl.ratio;\n",
       "    var y0 = (fig.canvas.height - msg['y0']) / mpl.ratio;\n",
       "    var x1 = msg['x1'] / mpl.ratio;\n",
       "    var y1 = (fig.canvas.height - msg['y1']) / mpl.ratio;\n",
       "    x0 = Math.floor(x0) + 0.5;\n",
       "    y0 = Math.floor(y0) + 0.5;\n",
       "    x1 = Math.floor(x1) + 0.5;\n",
       "    y1 = Math.floor(y1) + 0.5;\n",
       "    var min_x = Math.min(x0, x1);\n",
       "    var min_y = Math.min(y0, y1);\n",
       "    var width = Math.abs(x1 - x0);\n",
       "    var height = Math.abs(y1 - y0);\n",
       "\n",
       "    fig.rubberband_context.clearRect(\n",
       "        0, 0, fig.canvas.width, fig.canvas.height);\n",
       "\n",
       "    fig.rubberband_context.strokeRect(min_x, min_y, width, height);\n",
       "}\n",
       "\n",
       "mpl.figure.prototype.handle_figure_label = function(fig, msg) {\n",
       "    // Updates the figure title.\n",
       "    fig.header.textContent = msg['label'];\n",
       "}\n",
       "\n",
       "mpl.figure.prototype.handle_cursor = function(fig, msg) {\n",
       "    var cursor = msg['cursor'];\n",
       "    switch(cursor)\n",
       "    {\n",
       "    case 0:\n",
       "        cursor = 'pointer';\n",
       "        break;\n",
       "    case 1:\n",
       "        cursor = 'default';\n",
       "        break;\n",
       "    case 2:\n",
       "        cursor = 'crosshair';\n",
       "        break;\n",
       "    case 3:\n",
       "        cursor = 'move';\n",
       "        break;\n",
       "    }\n",
       "    fig.rubberband_canvas.style.cursor = cursor;\n",
       "}\n",
       "\n",
       "mpl.figure.prototype.handle_message = function(fig, msg) {\n",
       "    fig.message.textContent = msg['message'];\n",
       "}\n",
       "\n",
       "mpl.figure.prototype.handle_draw = function(fig, msg) {\n",
       "    // Request the server to send over a new figure.\n",
       "    fig.send_draw_message();\n",
       "}\n",
       "\n",
       "mpl.figure.prototype.handle_image_mode = function(fig, msg) {\n",
       "    fig.image_mode = msg['mode'];\n",
       "}\n",
       "\n",
       "mpl.figure.prototype.updated_canvas_event = function() {\n",
       "    // Called whenever the canvas gets updated.\n",
       "    this.send_message(\"ack\", {});\n",
       "}\n",
       "\n",
       "// A function to construct a web socket function for onmessage handling.\n",
       "// Called in the figure constructor.\n",
       "mpl.figure.prototype._make_on_message_function = function(fig) {\n",
       "    return function socket_on_message(evt) {\n",
       "        if (evt.data instanceof Blob) {\n",
       "            /* FIXME: We get \"Resource interpreted as Image but\n",
       "             * transferred with MIME type text/plain:\" errors on\n",
       "             * Chrome.  But how to set the MIME type?  It doesn't seem\n",
       "             * to be part of the websocket stream */\n",
       "            evt.data.type = \"image/png\";\n",
       "\n",
       "            /* Free the memory for the previous frames */\n",
       "            if (fig.imageObj.src) {\n",
       "                (window.URL || window.webkitURL).revokeObjectURL(\n",
       "                    fig.imageObj.src);\n",
       "            }\n",
       "\n",
       "            fig.imageObj.src = (window.URL || window.webkitURL).createObjectURL(\n",
       "                evt.data);\n",
       "            fig.updated_canvas_event();\n",
       "            fig.waiting = false;\n",
       "            return;\n",
       "        }\n",
       "        else if (typeof evt.data === 'string' && evt.data.slice(0, 21) == \"data:image/png;base64\") {\n",
       "            fig.imageObj.src = evt.data;\n",
       "            fig.updated_canvas_event();\n",
       "            fig.waiting = false;\n",
       "            return;\n",
       "        }\n",
       "\n",
       "        var msg = JSON.parse(evt.data);\n",
       "        var msg_type = msg['type'];\n",
       "\n",
       "        // Call the  \"handle_{type}\" callback, which takes\n",
       "        // the figure and JSON message as its only arguments.\n",
       "        try {\n",
       "            var callback = fig[\"handle_\" + msg_type];\n",
       "        } catch (e) {\n",
       "            console.log(\"No handler for the '\" + msg_type + \"' message type: \", msg);\n",
       "            return;\n",
       "        }\n",
       "\n",
       "        if (callback) {\n",
       "            try {\n",
       "                // console.log(\"Handling '\" + msg_type + \"' message: \", msg);\n",
       "                callback(fig, msg);\n",
       "            } catch (e) {\n",
       "                console.log(\"Exception inside the 'handler_\" + msg_type + \"' callback:\", e, e.stack, msg);\n",
       "            }\n",
       "        }\n",
       "    };\n",
       "}\n",
       "\n",
       "// from http://stackoverflow.com/questions/1114465/getting-mouse-location-in-canvas\n",
       "mpl.findpos = function(e) {\n",
       "    //this section is from http://www.quirksmode.org/js/events_properties.html\n",
       "    var targ;\n",
       "    if (!e)\n",
       "        e = window.event;\n",
       "    if (e.target)\n",
       "        targ = e.target;\n",
       "    else if (e.srcElement)\n",
       "        targ = e.srcElement;\n",
       "    if (targ.nodeType == 3) // defeat Safari bug\n",
       "        targ = targ.parentNode;\n",
       "\n",
       "    // jQuery normalizes the pageX and pageY\n",
       "    // pageX,Y are the mouse positions relative to the document\n",
       "    // offset() returns the position of the element relative to the document\n",
       "    var x = e.pageX - $(targ).offset().left;\n",
       "    var y = e.pageY - $(targ).offset().top;\n",
       "\n",
       "    return {\"x\": x, \"y\": y};\n",
       "};\n",
       "\n",
       "/*\n",
       " * return a copy of an object with only non-object keys\n",
       " * we need this to avoid circular references\n",
       " * http://stackoverflow.com/a/24161582/3208463\n",
       " */\n",
       "function simpleKeys (original) {\n",
       "  return Object.keys(original).reduce(function (obj, key) {\n",
       "    if (typeof original[key] !== 'object')\n",
       "        obj[key] = original[key]\n",
       "    return obj;\n",
       "  }, {});\n",
       "}\n",
       "\n",
       "mpl.figure.prototype.mouse_event = function(event, name) {\n",
       "    var canvas_pos = mpl.findpos(event)\n",
       "\n",
       "    if (name === 'button_press')\n",
       "    {\n",
       "        this.canvas.focus();\n",
       "        this.canvas_div.focus();\n",
       "    }\n",
       "\n",
       "    var x = canvas_pos.x * mpl.ratio;\n",
       "    var y = canvas_pos.y * mpl.ratio;\n",
       "\n",
       "    this.send_message(name, {x: x, y: y, button: event.button,\n",
       "                             step: event.step,\n",
       "                             guiEvent: simpleKeys(event)});\n",
       "\n",
       "    /* This prevents the web browser from automatically changing to\n",
       "     * the text insertion cursor when the button is pressed.  We want\n",
       "     * to control all of the cursor setting manually through the\n",
       "     * 'cursor' event from matplotlib */\n",
       "    event.preventDefault();\n",
       "    return false;\n",
       "}\n",
       "\n",
       "mpl.figure.prototype._key_event_extra = function(event, name) {\n",
       "    // Handle any extra behaviour associated with a key event\n",
       "}\n",
       "\n",
       "mpl.figure.prototype.key_event = function(event, name) {\n",
       "\n",
       "    // Prevent repeat events\n",
       "    if (name == 'key_press')\n",
       "    {\n",
       "        if (event.which === this._key)\n",
       "            return;\n",
       "        else\n",
       "            this._key = event.which;\n",
       "    }\n",
       "    if (name == 'key_release')\n",
       "        this._key = null;\n",
       "\n",
       "    var value = '';\n",
       "    if (event.ctrlKey && event.which != 17)\n",
       "        value += \"ctrl+\";\n",
       "    if (event.altKey && event.which != 18)\n",
       "        value += \"alt+\";\n",
       "    if (event.shiftKey && event.which != 16)\n",
       "        value += \"shift+\";\n",
       "\n",
       "    value += 'k';\n",
       "    value += event.which.toString();\n",
       "\n",
       "    this._key_event_extra(event, name);\n",
       "\n",
       "    this.send_message(name, {key: value,\n",
       "                             guiEvent: simpleKeys(event)});\n",
       "    return false;\n",
       "}\n",
       "\n",
       "mpl.figure.prototype.toolbar_button_onclick = function(name) {\n",
       "    if (name == 'download') {\n",
       "        this.handle_save(this, null);\n",
       "    } else {\n",
       "        this.send_message(\"toolbar_button\", {name: name});\n",
       "    }\n",
       "};\n",
       "\n",
       "mpl.figure.prototype.toolbar_button_onmouseover = function(tooltip) {\n",
       "    this.message.textContent = tooltip;\n",
       "};\n",
       "mpl.toolbar_items = [[\"Home\", \"Reset original view\", \"fa fa-home icon-home\", \"home\"], [\"Back\", \"Back to  previous view\", \"fa fa-arrow-left icon-arrow-left\", \"back\"], [\"Forward\", \"Forward to next view\", \"fa fa-arrow-right icon-arrow-right\", \"forward\"], [\"\", \"\", \"\", \"\"], [\"Pan\", \"Pan axes with left mouse, zoom with right\", \"fa fa-arrows icon-move\", \"pan\"], [\"Zoom\", \"Zoom to rectangle\", \"fa fa-square-o icon-check-empty\", \"zoom\"], [\"\", \"\", \"\", \"\"], [\"Download\", \"Download plot\", \"fa fa-floppy-o icon-save\", \"download\"]];\n",
       "\n",
       "mpl.extensions = [\"eps\", \"jpeg\", \"pdf\", \"png\", \"ps\", \"raw\", \"svg\", \"tif\"];\n",
       "\n",
       "mpl.default_extension = \"png\";var comm_websocket_adapter = function(comm) {\n",
       "    // Create a \"websocket\"-like object which calls the given IPython comm\n",
       "    // object with the appropriate methods. Currently this is a non binary\n",
       "    // socket, so there is still some room for performance tuning.\n",
       "    var ws = {};\n",
       "\n",
       "    ws.close = function() {\n",
       "        comm.close()\n",
       "    };\n",
       "    ws.send = function(m) {\n",
       "        //console.log('sending', m);\n",
       "        comm.send(m);\n",
       "    };\n",
       "    // Register the callback with on_msg.\n",
       "    comm.on_msg(function(msg) {\n",
       "        //console.log('receiving', msg['content']['data'], msg);\n",
       "        // Pass the mpl event to the overridden (by mpl) onmessage function.\n",
       "        ws.onmessage(msg['content']['data'])\n",
       "    });\n",
       "    return ws;\n",
       "}\n",
       "\n",
       "mpl.mpl_figure_comm = function(comm, msg) {\n",
       "    // This is the function which gets called when the mpl process\n",
       "    // starts-up an IPython Comm through the \"matplotlib\" channel.\n",
       "\n",
       "    var id = msg.content.data.id;\n",
       "    // Get hold of the div created by the display call when the Comm\n",
       "    // socket was opened in Python.\n",
       "    var element = $(\"#\" + id);\n",
       "    var ws_proxy = comm_websocket_adapter(comm)\n",
       "\n",
       "    function ondownload(figure, format) {\n",
       "        window.open(figure.imageObj.src);\n",
       "    }\n",
       "\n",
       "    var fig = new mpl.figure(id, ws_proxy,\n",
       "                           ondownload,\n",
       "                           element.get(0));\n",
       "\n",
       "    // Call onopen now - mpl needs it, as it is assuming we've passed it a real\n",
       "    // web socket which is closed, not our websocket->open comm proxy.\n",
       "    ws_proxy.onopen();\n",
       "\n",
       "    fig.parent_element = element.get(0);\n",
       "    fig.cell_info = mpl.find_output_cell(\"<div id='\" + id + \"'></div>\");\n",
       "    if (!fig.cell_info) {\n",
       "        console.error(\"Failed to find cell for figure\", id, fig);\n",
       "        return;\n",
       "    }\n",
       "\n",
       "    var output_index = fig.cell_info[2]\n",
       "    var cell = fig.cell_info[0];\n",
       "\n",
       "};\n",
       "\n",
       "mpl.figure.prototype.handle_close = function(fig, msg) {\n",
       "    var width = fig.canvas.width/mpl.ratio\n",
       "    fig.root.unbind('remove')\n",
       "\n",
       "    // Update the output cell to use the data from the current canvas.\n",
       "    fig.push_to_output();\n",
       "    var dataURL = fig.canvas.toDataURL();\n",
       "    // Re-enable the keyboard manager in IPython - without this line, in FF,\n",
       "    // the notebook keyboard shortcuts fail.\n",
       "    IPython.keyboard_manager.enable()\n",
       "    $(fig.parent_element).html('<img src=\"' + dataURL + '\" width=\"' + width + '\">');\n",
       "    fig.close_ws(fig, msg);\n",
       "}\n",
       "\n",
       "mpl.figure.prototype.close_ws = function(fig, msg){\n",
       "    fig.send_message('closing', msg);\n",
       "    // fig.ws.close()\n",
       "}\n",
       "\n",
       "mpl.figure.prototype.push_to_output = function(remove_interactive) {\n",
       "    // Turn the data on the canvas into data in the output cell.\n",
       "    var width = this.canvas.width/mpl.ratio\n",
       "    var dataURL = this.canvas.toDataURL();\n",
       "    this.cell_info[1]['text/html'] = '<img src=\"' + dataURL + '\" width=\"' + width + '\">';\n",
       "}\n",
       "\n",
       "mpl.figure.prototype.updated_canvas_event = function() {\n",
       "    // Tell IPython that the notebook contents must change.\n",
       "    IPython.notebook.set_dirty(true);\n",
       "    this.send_message(\"ack\", {});\n",
       "    var fig = this;\n",
       "    // Wait a second, then push the new image to the DOM so\n",
       "    // that it is saved nicely (might be nice to debounce this).\n",
       "    setTimeout(function () { fig.push_to_output() }, 1000);\n",
       "}\n",
       "\n",
       "mpl.figure.prototype._init_toolbar = function() {\n",
       "    var fig = this;\n",
       "\n",
       "    var nav_element = $('<div/>')\n",
       "    nav_element.attr('style', 'width: 100%');\n",
       "    this.root.append(nav_element);\n",
       "\n",
       "    // Define a callback function for later on.\n",
       "    function toolbar_event(event) {\n",
       "        return fig.toolbar_button_onclick(event['data']);\n",
       "    }\n",
       "    function toolbar_mouse_event(event) {\n",
       "        return fig.toolbar_button_onmouseover(event['data']);\n",
       "    }\n",
       "\n",
       "    for(var toolbar_ind in mpl.toolbar_items){\n",
       "        var name = mpl.toolbar_items[toolbar_ind][0];\n",
       "        var tooltip = mpl.toolbar_items[toolbar_ind][1];\n",
       "        var image = mpl.toolbar_items[toolbar_ind][2];\n",
       "        var method_name = mpl.toolbar_items[toolbar_ind][3];\n",
       "\n",
       "        if (!name) { continue; };\n",
       "\n",
       "        var button = $('<button class=\"btn btn-default\" href=\"#\" title=\"' + name + '\"><i class=\"fa ' + image + ' fa-lg\"></i></button>');\n",
       "        button.click(method_name, toolbar_event);\n",
       "        button.mouseover(tooltip, toolbar_mouse_event);\n",
       "        nav_element.append(button);\n",
       "    }\n",
       "\n",
       "    // Add the status bar.\n",
       "    var status_bar = $('<span class=\"mpl-message\" style=\"text-align:right; float: right;\"/>');\n",
       "    nav_element.append(status_bar);\n",
       "    this.message = status_bar[0];\n",
       "\n",
       "    // Add the close button to the window.\n",
       "    var buttongrp = $('<div class=\"btn-group inline pull-right\"></div>');\n",
       "    var button = $('<button class=\"btn btn-mini btn-primary\" href=\"#\" title=\"Stop Interaction\"><i class=\"fa fa-power-off icon-remove icon-large\"></i></button>');\n",
       "    button.click(function (evt) { fig.handle_close(fig, {}); } );\n",
       "    button.mouseover('Stop Interaction', toolbar_mouse_event);\n",
       "    buttongrp.append(button);\n",
       "    var titlebar = this.root.find($('.ui-dialog-titlebar'));\n",
       "    titlebar.prepend(buttongrp);\n",
       "}\n",
       "\n",
       "mpl.figure.prototype._root_extra_style = function(el){\n",
       "    var fig = this\n",
       "    el.on(\"remove\", function(){\n",
       "\tfig.close_ws(fig, {});\n",
       "    });\n",
       "}\n",
       "\n",
       "mpl.figure.prototype._canvas_extra_style = function(el){\n",
       "    // this is important to make the div 'focusable\n",
       "    el.attr('tabindex', 0)\n",
       "    // reach out to IPython and tell the keyboard manager to turn it's self\n",
       "    // off when our div gets focus\n",
       "\n",
       "    // location in version 3\n",
       "    if (IPython.notebook.keyboard_manager) {\n",
       "        IPython.notebook.keyboard_manager.register_events(el);\n",
       "    }\n",
       "    else {\n",
       "        // location in version 2\n",
       "        IPython.keyboard_manager.register_events(el);\n",
       "    }\n",
       "\n",
       "}\n",
       "\n",
       "mpl.figure.prototype._key_event_extra = function(event, name) {\n",
       "    var manager = IPython.notebook.keyboard_manager;\n",
       "    if (!manager)\n",
       "        manager = IPython.keyboard_manager;\n",
       "\n",
       "    // Check for shift+enter\n",
       "    if (event.shiftKey && event.which == 13) {\n",
       "        this.canvas_div.blur();\n",
       "        event.shiftKey = false;\n",
       "        // Send a \"J\" for go to next cell\n",
       "        event.which = 74;\n",
       "        event.keyCode = 74;\n",
       "        manager.command_mode();\n",
       "        manager.handle_keydown(event);\n",
       "    }\n",
       "}\n",
       "\n",
       "mpl.figure.prototype.handle_save = function(fig, msg) {\n",
       "    fig.ondownload(fig, null);\n",
       "}\n",
       "\n",
       "\n",
       "mpl.find_output_cell = function(html_output) {\n",
       "    // Return the cell and output element which can be found *uniquely* in the notebook.\n",
       "    // Note - this is a bit hacky, but it is done because the \"notebook_saving.Notebook\"\n",
       "    // IPython event is triggered only after the cells have been serialised, which for\n",
       "    // our purposes (turning an active figure into a static one), is too late.\n",
       "    var cells = IPython.notebook.get_cells();\n",
       "    var ncells = cells.length;\n",
       "    for (var i=0; i<ncells; i++) {\n",
       "        var cell = cells[i];\n",
       "        if (cell.cell_type === 'code'){\n",
       "            for (var j=0; j<cell.output_area.outputs.length; j++) {\n",
       "                var data = cell.output_area.outputs[j];\n",
       "                if (data.data) {\n",
       "                    // IPython >= 3 moved mimebundle to data attribute of output\n",
       "                    data = data.data;\n",
       "                }\n",
       "                if (data['text/html'] == html_output) {\n",
       "                    return [cell, data, j];\n",
       "                }\n",
       "            }\n",
       "        }\n",
       "    }\n",
       "}\n",
       "\n",
       "// Register the function which deals with the matplotlib target/channel.\n",
       "// The kernel may be null if the page has been refreshed.\n",
       "if (IPython.notebook.kernel != null) {\n",
       "    IPython.notebook.kernel.comm_manager.register_target('matplotlib', mpl.mpl_figure_comm);\n",
       "}\n"
      ],
      "text/plain": [
       "<IPython.core.display.Javascript object>"
      ]
     },
     "metadata": {},
     "output_type": "display_data"
    },
    {
     "data": {
      "text/html": [
       "<img src=\"data:image/png;base64,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\" width=\"300\">"
      ],
      "text/plain": [
       "<IPython.core.display.HTML object>"
      ]
     },
     "metadata": {},
     "output_type": "display_data"
    }
   ],
   "source": [
    "xx, yy = np.mgrid[-50:50, -50:50]\n",
    "plt.figure()\n",
    "plt.figure(figsize=(3, 3))\n",
    "plt.imshow(np.angle(xx + 1j * yy))\n",
    "plt.axis('on')\n",
    "plt.colorbar()\n",
    "plt.figure(figsize=(3, 3))\n",
    "plt.imshow(np.abs(xx + 1j * yy))\n",
    "plt.axis('on')\n",
    "plt.colorbar()\n",
    "plt.show()"
   ]
  },
  {
   "cell_type": "code",
   "execution_count": 30,
   "metadata": {
    "collapsed": false
   },
   "outputs": [
    {
     "data": {
      "application/javascript": [
       "/* Put everything inside the global mpl namespace */\n",
       "window.mpl = {};\n",
       "\n",
       "\n",
       "mpl.get_websocket_type = function() {\n",
       "    if (typeof(WebSocket) !== 'undefined') {\n",
       "        return WebSocket;\n",
       "    } else if (typeof(MozWebSocket) !== 'undefined') {\n",
       "        return MozWebSocket;\n",
       "    } else {\n",
       "        alert('Your browser does not have WebSocket support.' +\n",
       "              'Please try Chrome, Safari or Firefox ≥ 6. ' +\n",
       "              'Firefox 4 and 5 are also supported but you ' +\n",
       "              'have to enable WebSockets in about:config.');\n",
       "    };\n",
       "}\n",
       "\n",
       "mpl.figure = function(figure_id, websocket, ondownload, parent_element) {\n",
       "    this.id = figure_id;\n",
       "\n",
       "    this.ws = websocket;\n",
       "\n",
       "    this.supports_binary = (this.ws.binaryType != undefined);\n",
       "\n",
       "    if (!this.supports_binary) {\n",
       "        var warnings = document.getElementById(\"mpl-warnings\");\n",
       "        if (warnings) {\n",
       "            warnings.style.display = 'block';\n",
       "            warnings.textContent = (\n",
       "                \"This browser does not support binary websocket messages. \" +\n",
       "                    \"Performance may be slow.\");\n",
       "        }\n",
       "    }\n",
       "\n",
       "    this.imageObj = new Image();\n",
       "\n",
       "    this.context = undefined;\n",
       "    this.message = undefined;\n",
       "    this.canvas = undefined;\n",
       "    this.rubberband_canvas = undefined;\n",
       "    this.rubberband_context = undefined;\n",
       "    this.format_dropdown = undefined;\n",
       "\n",
       "    this.image_mode = 'full';\n",
       "\n",
       "    this.root = $('<div/>');\n",
       "    this._root_extra_style(this.root)\n",
       "    this.root.attr('style', 'display: inline-block');\n",
       "\n",
       "    $(parent_element).append(this.root);\n",
       "\n",
       "    this._init_header(this);\n",
       "    this._init_canvas(this);\n",
       "    this._init_toolbar(this);\n",
       "\n",
       "    var fig = this;\n",
       "\n",
       "    this.waiting = false;\n",
       "\n",
       "    this.ws.onopen =  function () {\n",
       "            fig.send_message(\"supports_binary\", {value: fig.supports_binary});\n",
       "            fig.send_message(\"send_image_mode\", {});\n",
       "            if (mpl.ratio != 1) {\n",
       "                fig.send_message(\"set_dpi_ratio\", {'dpi_ratio': mpl.ratio});\n",
       "            }\n",
       "            fig.send_message(\"refresh\", {});\n",
       "        }\n",
       "\n",
       "    this.imageObj.onload = function() {\n",
       "            if (fig.image_mode == 'full') {\n",
       "                // Full images could contain transparency (where diff images\n",
       "                // almost always do), so we need to clear the canvas so that\n",
       "                // there is no ghosting.\n",
       "                fig.context.clearRect(0, 0, fig.canvas.width, fig.canvas.height);\n",
       "            }\n",
       "            fig.context.drawImage(fig.imageObj, 0, 0);\n",
       "        };\n",
       "\n",
       "    this.imageObj.onunload = function() {\n",
       "        fig.ws.close();\n",
       "    }\n",
       "\n",
       "    this.ws.onmessage = this._make_on_message_function(this);\n",
       "\n",
       "    this.ondownload = ondownload;\n",
       "}\n",
       "\n",
       "mpl.figure.prototype._init_header = function() {\n",
       "    var titlebar = $(\n",
       "        '<div class=\"ui-dialog-titlebar ui-widget-header ui-corner-all ' +\n",
       "        'ui-helper-clearfix\"/>');\n",
       "    var titletext = $(\n",
       "        '<div class=\"ui-dialog-title\" style=\"width: 100%; ' +\n",
       "        'text-align: center; padding: 3px;\"/>');\n",
       "    titlebar.append(titletext)\n",
       "    this.root.append(titlebar);\n",
       "    this.header = titletext[0];\n",
       "}\n",
       "\n",
       "\n",
       "\n",
       "mpl.figure.prototype._canvas_extra_style = function(canvas_div) {\n",
       "\n",
       "}\n",
       "\n",
       "\n",
       "mpl.figure.prototype._root_extra_style = function(canvas_div) {\n",
       "\n",
       "}\n",
       "\n",
       "mpl.figure.prototype._init_canvas = function() {\n",
       "    var fig = this;\n",
       "\n",
       "    var canvas_div = $('<div/>');\n",
       "\n",
       "    canvas_div.attr('style', 'position: relative; clear: both; outline: 0');\n",
       "\n",
       "    function canvas_keyboard_event(event) {\n",
       "        return fig.key_event(event, event['data']);\n",
       "    }\n",
       "\n",
       "    canvas_div.keydown('key_press', canvas_keyboard_event);\n",
       "    canvas_div.keyup('key_release', canvas_keyboard_event);\n",
       "    this.canvas_div = canvas_div\n",
       "    this._canvas_extra_style(canvas_div)\n",
       "    this.root.append(canvas_div);\n",
       "\n",
       "    var canvas = $('<canvas/>');\n",
       "    canvas.addClass('mpl-canvas');\n",
       "    canvas.attr('style', \"left: 0; top: 0; z-index: 0; outline: 0\")\n",
       "\n",
       "    this.canvas = canvas[0];\n",
       "    this.context = canvas[0].getContext(\"2d\");\n",
       "\n",
       "    var backingStore = this.context.backingStorePixelRatio ||\n",
       "\tthis.context.webkitBackingStorePixelRatio ||\n",
       "\tthis.context.mozBackingStorePixelRatio ||\n",
       "\tthis.context.msBackingStorePixelRatio ||\n",
       "\tthis.context.oBackingStorePixelRatio ||\n",
       "\tthis.context.backingStorePixelRatio || 1;\n",
       "\n",
       "    mpl.ratio = (window.devicePixelRatio || 1) / backingStore;\n",
       "\n",
       "    var rubberband = $('<canvas/>');\n",
       "    rubberband.attr('style', \"position: absolute; left: 0; top: 0; z-index: 1;\")\n",
       "\n",
       "    var pass_mouse_events = true;\n",
       "\n",
       "    canvas_div.resizable({\n",
       "        start: function(event, ui) {\n",
       "            pass_mouse_events = false;\n",
       "        },\n",
       "        resize: function(event, ui) {\n",
       "            fig.request_resize(ui.size.width, ui.size.height);\n",
       "        },\n",
       "        stop: function(event, ui) {\n",
       "            pass_mouse_events = true;\n",
       "            fig.request_resize(ui.size.width, ui.size.height);\n",
       "        },\n",
       "    });\n",
       "\n",
       "    function mouse_event_fn(event) {\n",
       "        if (pass_mouse_events)\n",
       "            return fig.mouse_event(event, event['data']);\n",
       "    }\n",
       "\n",
       "    rubberband.mousedown('button_press', mouse_event_fn);\n",
       "    rubberband.mouseup('button_release', mouse_event_fn);\n",
       "    // Throttle sequential mouse events to 1 every 20ms.\n",
       "    rubberband.mousemove('motion_notify', mouse_event_fn);\n",
       "\n",
       "    rubberband.mouseenter('figure_enter', mouse_event_fn);\n",
       "    rubberband.mouseleave('figure_leave', mouse_event_fn);\n",
       "\n",
       "    canvas_div.on(\"wheel\", function (event) {\n",
       "        event = event.originalEvent;\n",
       "        event['data'] = 'scroll'\n",
       "        if (event.deltaY < 0) {\n",
       "            event.step = 1;\n",
       "        } else {\n",
       "            event.step = -1;\n",
       "        }\n",
       "        mouse_event_fn(event);\n",
       "    });\n",
       "\n",
       "    canvas_div.append(canvas);\n",
       "    canvas_div.append(rubberband);\n",
       "\n",
       "    this.rubberband = rubberband;\n",
       "    this.rubberband_canvas = rubberband[0];\n",
       "    this.rubberband_context = rubberband[0].getContext(\"2d\");\n",
       "    this.rubberband_context.strokeStyle = \"#000000\";\n",
       "\n",
       "    this._resize_canvas = function(width, height) {\n",
       "        // Keep the size of the canvas, canvas container, and rubber band\n",
       "        // canvas in synch.\n",
       "        canvas_div.css('width', width)\n",
       "        canvas_div.css('height', height)\n",
       "\n",
       "        canvas.attr('width', width * mpl.ratio);\n",
       "        canvas.attr('height', height * mpl.ratio);\n",
       "        canvas.attr('style', 'width: ' + width + 'px; height: ' + height + 'px;');\n",
       "\n",
       "        rubberband.attr('width', width);\n",
       "        rubberband.attr('height', height);\n",
       "    }\n",
       "\n",
       "    // Set the figure to an initial 600x600px, this will subsequently be updated\n",
       "    // upon first draw.\n",
       "    this._resize_canvas(600, 600);\n",
       "\n",
       "    // Disable right mouse context menu.\n",
       "    $(this.rubberband_canvas).bind(\"contextmenu\",function(e){\n",
       "        return false;\n",
       "    });\n",
       "\n",
       "    function set_focus () {\n",
       "        canvas.focus();\n",
       "        canvas_div.focus();\n",
       "    }\n",
       "\n",
       "    window.setTimeout(set_focus, 100);\n",
       "}\n",
       "\n",
       "mpl.figure.prototype._init_toolbar = function() {\n",
       "    var fig = this;\n",
       "\n",
       "    var nav_element = $('<div/>')\n",
       "    nav_element.attr('style', 'width: 100%');\n",
       "    this.root.append(nav_element);\n",
       "\n",
       "    // Define a callback function for later on.\n",
       "    function toolbar_event(event) {\n",
       "        return fig.toolbar_button_onclick(event['data']);\n",
       "    }\n",
       "    function toolbar_mouse_event(event) {\n",
       "        return fig.toolbar_button_onmouseover(event['data']);\n",
       "    }\n",
       "\n",
       "    for(var toolbar_ind in mpl.toolbar_items) {\n",
       "        var name = mpl.toolbar_items[toolbar_ind][0];\n",
       "        var tooltip = mpl.toolbar_items[toolbar_ind][1];\n",
       "        var image = mpl.toolbar_items[toolbar_ind][2];\n",
       "        var method_name = mpl.toolbar_items[toolbar_ind][3];\n",
       "\n",
       "        if (!name) {\n",
       "            // put a spacer in here.\n",
       "            continue;\n",
       "        }\n",
       "        var button = $('<button/>');\n",
       "        button.addClass('ui-button ui-widget ui-state-default ui-corner-all ' +\n",
       "                        'ui-button-icon-only');\n",
       "        button.attr('role', 'button');\n",
       "        button.attr('aria-disabled', 'false');\n",
       "        button.click(method_name, toolbar_event);\n",
       "        button.mouseover(tooltip, toolbar_mouse_event);\n",
       "\n",
       "        var icon_img = $('<span/>');\n",
       "        icon_img.addClass('ui-button-icon-primary ui-icon');\n",
       "        icon_img.addClass(image);\n",
       "        icon_img.addClass('ui-corner-all');\n",
       "\n",
       "        var tooltip_span = $('<span/>');\n",
       "        tooltip_span.addClass('ui-button-text');\n",
       "        tooltip_span.html(tooltip);\n",
       "\n",
       "        button.append(icon_img);\n",
       "        button.append(tooltip_span);\n",
       "\n",
       "        nav_element.append(button);\n",
       "    }\n",
       "\n",
       "    var fmt_picker_span = $('<span/>');\n",
       "\n",
       "    var fmt_picker = $('<select/>');\n",
       "    fmt_picker.addClass('mpl-toolbar-option ui-widget ui-widget-content');\n",
       "    fmt_picker_span.append(fmt_picker);\n",
       "    nav_element.append(fmt_picker_span);\n",
       "    this.format_dropdown = fmt_picker[0];\n",
       "\n",
       "    for (var ind in mpl.extensions) {\n",
       "        var fmt = mpl.extensions[ind];\n",
       "        var option = $(\n",
       "            '<option/>', {selected: fmt === mpl.default_extension}).html(fmt);\n",
       "        fmt_picker.append(option)\n",
       "    }\n",
       "\n",
       "    // Add hover states to the ui-buttons\n",
       "    $( \".ui-button\" ).hover(\n",
       "        function() { $(this).addClass(\"ui-state-hover\");},\n",
       "        function() { $(this).removeClass(\"ui-state-hover\");}\n",
       "    );\n",
       "\n",
       "    var status_bar = $('<span class=\"mpl-message\"/>');\n",
       "    nav_element.append(status_bar);\n",
       "    this.message = status_bar[0];\n",
       "}\n",
       "\n",
       "mpl.figure.prototype.request_resize = function(x_pixels, y_pixels) {\n",
       "    // Request matplotlib to resize the figure. Matplotlib will then trigger a resize in the client,\n",
       "    // which will in turn request a refresh of the image.\n",
       "    this.send_message('resize', {'width': x_pixels, 'height': y_pixels});\n",
       "}\n",
       "\n",
       "mpl.figure.prototype.send_message = function(type, properties) {\n",
       "    properties['type'] = type;\n",
       "    properties['figure_id'] = this.id;\n",
       "    this.ws.send(JSON.stringify(properties));\n",
       "}\n",
       "\n",
       "mpl.figure.prototype.send_draw_message = function() {\n",
       "    if (!this.waiting) {\n",
       "        this.waiting = true;\n",
       "        this.ws.send(JSON.stringify({type: \"draw\", figure_id: this.id}));\n",
       "    }\n",
       "}\n",
       "\n",
       "\n",
       "mpl.figure.prototype.handle_save = function(fig, msg) {\n",
       "    var format_dropdown = fig.format_dropdown;\n",
       "    var format = format_dropdown.options[format_dropdown.selectedIndex].value;\n",
       "    fig.ondownload(fig, format);\n",
       "}\n",
       "\n",
       "\n",
       "mpl.figure.prototype.handle_resize = function(fig, msg) {\n",
       "    var size = msg['size'];\n",
       "    if (size[0] != fig.canvas.width || size[1] != fig.canvas.height) {\n",
       "        fig._resize_canvas(size[0], size[1]);\n",
       "        fig.send_message(\"refresh\", {});\n",
       "    };\n",
       "}\n",
       "\n",
       "mpl.figure.prototype.handle_rubberband = function(fig, msg) {\n",
       "    var x0 = msg['x0'] / mpl.ratio;\n",
       "    var y0 = (fig.canvas.height - msg['y0']) / mpl.ratio;\n",
       "    var x1 = msg['x1'] / mpl.ratio;\n",
       "    var y1 = (fig.canvas.height - msg['y1']) / mpl.ratio;\n",
       "    x0 = Math.floor(x0) + 0.5;\n",
       "    y0 = Math.floor(y0) + 0.5;\n",
       "    x1 = Math.floor(x1) + 0.5;\n",
       "    y1 = Math.floor(y1) + 0.5;\n",
       "    var min_x = Math.min(x0, x1);\n",
       "    var min_y = Math.min(y0, y1);\n",
       "    var width = Math.abs(x1 - x0);\n",
       "    var height = Math.abs(y1 - y0);\n",
       "\n",
       "    fig.rubberband_context.clearRect(\n",
       "        0, 0, fig.canvas.width, fig.canvas.height);\n",
       "\n",
       "    fig.rubberband_context.strokeRect(min_x, min_y, width, height);\n",
       "}\n",
       "\n",
       "mpl.figure.prototype.handle_figure_label = function(fig, msg) {\n",
       "    // Updates the figure title.\n",
       "    fig.header.textContent = msg['label'];\n",
       "}\n",
       "\n",
       "mpl.figure.prototype.handle_cursor = function(fig, msg) {\n",
       "    var cursor = msg['cursor'];\n",
       "    switch(cursor)\n",
       "    {\n",
       "    case 0:\n",
       "        cursor = 'pointer';\n",
       "        break;\n",
       "    case 1:\n",
       "        cursor = 'default';\n",
       "        break;\n",
       "    case 2:\n",
       "        cursor = 'crosshair';\n",
       "        break;\n",
       "    case 3:\n",
       "        cursor = 'move';\n",
       "        break;\n",
       "    }\n",
       "    fig.rubberband_canvas.style.cursor = cursor;\n",
       "}\n",
       "\n",
       "mpl.figure.prototype.handle_message = function(fig, msg) {\n",
       "    fig.message.textContent = msg['message'];\n",
       "}\n",
       "\n",
       "mpl.figure.prototype.handle_draw = function(fig, msg) {\n",
       "    // Request the server to send over a new figure.\n",
       "    fig.send_draw_message();\n",
       "}\n",
       "\n",
       "mpl.figure.prototype.handle_image_mode = function(fig, msg) {\n",
       "    fig.image_mode = msg['mode'];\n",
       "}\n",
       "\n",
       "mpl.figure.prototype.updated_canvas_event = function() {\n",
       "    // Called whenever the canvas gets updated.\n",
       "    this.send_message(\"ack\", {});\n",
       "}\n",
       "\n",
       "// A function to construct a web socket function for onmessage handling.\n",
       "// Called in the figure constructor.\n",
       "mpl.figure.prototype._make_on_message_function = function(fig) {\n",
       "    return function socket_on_message(evt) {\n",
       "        if (evt.data instanceof Blob) {\n",
       "            /* FIXME: We get \"Resource interpreted as Image but\n",
       "             * transferred with MIME type text/plain:\" errors on\n",
       "             * Chrome.  But how to set the MIME type?  It doesn't seem\n",
       "             * to be part of the websocket stream */\n",
       "            evt.data.type = \"image/png\";\n",
       "\n",
       "            /* Free the memory for the previous frames */\n",
       "            if (fig.imageObj.src) {\n",
       "                (window.URL || window.webkitURL).revokeObjectURL(\n",
       "                    fig.imageObj.src);\n",
       "            }\n",
       "\n",
       "            fig.imageObj.src = (window.URL || window.webkitURL).createObjectURL(\n",
       "                evt.data);\n",
       "            fig.updated_canvas_event();\n",
       "            fig.waiting = false;\n",
       "            return;\n",
       "        }\n",
       "        else if (typeof evt.data === 'string' && evt.data.slice(0, 21) == \"data:image/png;base64\") {\n",
       "            fig.imageObj.src = evt.data;\n",
       "            fig.updated_canvas_event();\n",
       "            fig.waiting = false;\n",
       "            return;\n",
       "        }\n",
       "\n",
       "        var msg = JSON.parse(evt.data);\n",
       "        var msg_type = msg['type'];\n",
       "\n",
       "        // Call the  \"handle_{type}\" callback, which takes\n",
       "        // the figure and JSON message as its only arguments.\n",
       "        try {\n",
       "            var callback = fig[\"handle_\" + msg_type];\n",
       "        } catch (e) {\n",
       "            console.log(\"No handler for the '\" + msg_type + \"' message type: \", msg);\n",
       "            return;\n",
       "        }\n",
       "\n",
       "        if (callback) {\n",
       "            try {\n",
       "                // console.log(\"Handling '\" + msg_type + \"' message: \", msg);\n",
       "                callback(fig, msg);\n",
       "            } catch (e) {\n",
       "                console.log(\"Exception inside the 'handler_\" + msg_type + \"' callback:\", e, e.stack, msg);\n",
       "            }\n",
       "        }\n",
       "    };\n",
       "}\n",
       "\n",
       "// from http://stackoverflow.com/questions/1114465/getting-mouse-location-in-canvas\n",
       "mpl.findpos = function(e) {\n",
       "    //this section is from http://www.quirksmode.org/js/events_properties.html\n",
       "    var targ;\n",
       "    if (!e)\n",
       "        e = window.event;\n",
       "    if (e.target)\n",
       "        targ = e.target;\n",
       "    else if (e.srcElement)\n",
       "        targ = e.srcElement;\n",
       "    if (targ.nodeType == 3) // defeat Safari bug\n",
       "        targ = targ.parentNode;\n",
       "\n",
       "    // jQuery normalizes the pageX and pageY\n",
       "    // pageX,Y are the mouse positions relative to the document\n",
       "    // offset() returns the position of the element relative to the document\n",
       "    var x = e.pageX - $(targ).offset().left;\n",
       "    var y = e.pageY - $(targ).offset().top;\n",
       "\n",
       "    return {\"x\": x, \"y\": y};\n",
       "};\n",
       "\n",
       "/*\n",
       " * return a copy of an object with only non-object keys\n",
       " * we need this to avoid circular references\n",
       " * http://stackoverflow.com/a/24161582/3208463\n",
       " */\n",
       "function simpleKeys (original) {\n",
       "  return Object.keys(original).reduce(function (obj, key) {\n",
       "    if (typeof original[key] !== 'object')\n",
       "        obj[key] = original[key]\n",
       "    return obj;\n",
       "  }, {});\n",
       "}\n",
       "\n",
       "mpl.figure.prototype.mouse_event = function(event, name) {\n",
       "    var canvas_pos = mpl.findpos(event)\n",
       "\n",
       "    if (name === 'button_press')\n",
       "    {\n",
       "        this.canvas.focus();\n",
       "        this.canvas_div.focus();\n",
       "    }\n",
       "\n",
       "    var x = canvas_pos.x * mpl.ratio;\n",
       "    var y = canvas_pos.y * mpl.ratio;\n",
       "\n",
       "    this.send_message(name, {x: x, y: y, button: event.button,\n",
       "                             step: event.step,\n",
       "                             guiEvent: simpleKeys(event)});\n",
       "\n",
       "    /* This prevents the web browser from automatically changing to\n",
       "     * the text insertion cursor when the button is pressed.  We want\n",
       "     * to control all of the cursor setting manually through the\n",
       "     * 'cursor' event from matplotlib */\n",
       "    event.preventDefault();\n",
       "    return false;\n",
       "}\n",
       "\n",
       "mpl.figure.prototype._key_event_extra = function(event, name) {\n",
       "    // Handle any extra behaviour associated with a key event\n",
       "}\n",
       "\n",
       "mpl.figure.prototype.key_event = function(event, name) {\n",
       "\n",
       "    // Prevent repeat events\n",
       "    if (name == 'key_press')\n",
       "    {\n",
       "        if (event.which === this._key)\n",
       "            return;\n",
       "        else\n",
       "            this._key = event.which;\n",
       "    }\n",
       "    if (name == 'key_release')\n",
       "        this._key = null;\n",
       "\n",
       "    var value = '';\n",
       "    if (event.ctrlKey && event.which != 17)\n",
       "        value += \"ctrl+\";\n",
       "    if (event.altKey && event.which != 18)\n",
       "        value += \"alt+\";\n",
       "    if (event.shiftKey && event.which != 16)\n",
       "        value += \"shift+\";\n",
       "\n",
       "    value += 'k';\n",
       "    value += event.which.toString();\n",
       "\n",
       "    this._key_event_extra(event, name);\n",
       "\n",
       "    this.send_message(name, {key: value,\n",
       "                             guiEvent: simpleKeys(event)});\n",
       "    return false;\n",
       "}\n",
       "\n",
       "mpl.figure.prototype.toolbar_button_onclick = function(name) {\n",
       "    if (name == 'download') {\n",
       "        this.handle_save(this, null);\n",
       "    } else {\n",
       "        this.send_message(\"toolbar_button\", {name: name});\n",
       "    }\n",
       "};\n",
       "\n",
       "mpl.figure.prototype.toolbar_button_onmouseover = function(tooltip) {\n",
       "    this.message.textContent = tooltip;\n",
       "};\n",
       "mpl.toolbar_items = [[\"Home\", \"Reset original view\", \"fa fa-home icon-home\", \"home\"], [\"Back\", \"Back to  previous view\", \"fa fa-arrow-left icon-arrow-left\", \"back\"], [\"Forward\", \"Forward to next view\", \"fa fa-arrow-right icon-arrow-right\", \"forward\"], [\"\", \"\", \"\", \"\"], [\"Pan\", \"Pan axes with left mouse, zoom with right\", \"fa fa-arrows icon-move\", \"pan\"], [\"Zoom\", \"Zoom to rectangle\", \"fa fa-square-o icon-check-empty\", \"zoom\"], [\"\", \"\", \"\", \"\"], [\"Download\", \"Download plot\", \"fa fa-floppy-o icon-save\", \"download\"]];\n",
       "\n",
       "mpl.extensions = [\"eps\", \"jpeg\", \"pdf\", \"png\", \"ps\", \"raw\", \"svg\", \"tif\"];\n",
       "\n",
       "mpl.default_extension = \"png\";var comm_websocket_adapter = function(comm) {\n",
       "    // Create a \"websocket\"-like object which calls the given IPython comm\n",
       "    // object with the appropriate methods. Currently this is a non binary\n",
       "    // socket, so there is still some room for performance tuning.\n",
       "    var ws = {};\n",
       "\n",
       "    ws.close = function() {\n",
       "        comm.close()\n",
       "    };\n",
       "    ws.send = function(m) {\n",
       "        //console.log('sending', m);\n",
       "        comm.send(m);\n",
       "    };\n",
       "    // Register the callback with on_msg.\n",
       "    comm.on_msg(function(msg) {\n",
       "        //console.log('receiving', msg['content']['data'], msg);\n",
       "        // Pass the mpl event to the overridden (by mpl) onmessage function.\n",
       "        ws.onmessage(msg['content']['data'])\n",
       "    });\n",
       "    return ws;\n",
       "}\n",
       "\n",
       "mpl.mpl_figure_comm = function(comm, msg) {\n",
       "    // This is the function which gets called when the mpl process\n",
       "    // starts-up an IPython Comm through the \"matplotlib\" channel.\n",
       "\n",
       "    var id = msg.content.data.id;\n",
       "    // Get hold of the div created by the display call when the Comm\n",
       "    // socket was opened in Python.\n",
       "    var element = $(\"#\" + id);\n",
       "    var ws_proxy = comm_websocket_adapter(comm)\n",
       "\n",
       "    function ondownload(figure, format) {\n",
       "        window.open(figure.imageObj.src);\n",
       "    }\n",
       "\n",
       "    var fig = new mpl.figure(id, ws_proxy,\n",
       "                           ondownload,\n",
       "                           element.get(0));\n",
       "\n",
       "    // Call onopen now - mpl needs it, as it is assuming we've passed it a real\n",
       "    // web socket which is closed, not our websocket->open comm proxy.\n",
       "    ws_proxy.onopen();\n",
       "\n",
       "    fig.parent_element = element.get(0);\n",
       "    fig.cell_info = mpl.find_output_cell(\"<div id='\" + id + \"'></div>\");\n",
       "    if (!fig.cell_info) {\n",
       "        console.error(\"Failed to find cell for figure\", id, fig);\n",
       "        return;\n",
       "    }\n",
       "\n",
       "    var output_index = fig.cell_info[2]\n",
       "    var cell = fig.cell_info[0];\n",
       "\n",
       "};\n",
       "\n",
       "mpl.figure.prototype.handle_close = function(fig, msg) {\n",
       "    var width = fig.canvas.width/mpl.ratio\n",
       "    fig.root.unbind('remove')\n",
       "\n",
       "    // Update the output cell to use the data from the current canvas.\n",
       "    fig.push_to_output();\n",
       "    var dataURL = fig.canvas.toDataURL();\n",
       "    // Re-enable the keyboard manager in IPython - without this line, in FF,\n",
       "    // the notebook keyboard shortcuts fail.\n",
       "    IPython.keyboard_manager.enable()\n",
       "    $(fig.parent_element).html('<img src=\"' + dataURL + '\" width=\"' + width + '\">');\n",
       "    fig.close_ws(fig, msg);\n",
       "}\n",
       "\n",
       "mpl.figure.prototype.close_ws = function(fig, msg){\n",
       "    fig.send_message('closing', msg);\n",
       "    // fig.ws.close()\n",
       "}\n",
       "\n",
       "mpl.figure.prototype.push_to_output = function(remove_interactive) {\n",
       "    // Turn the data on the canvas into data in the output cell.\n",
       "    var width = this.canvas.width/mpl.ratio\n",
       "    var dataURL = this.canvas.toDataURL();\n",
       "    this.cell_info[1]['text/html'] = '<img src=\"' + dataURL + '\" width=\"' + width + '\">';\n",
       "}\n",
       "\n",
       "mpl.figure.prototype.updated_canvas_event = function() {\n",
       "    // Tell IPython that the notebook contents must change.\n",
       "    IPython.notebook.set_dirty(true);\n",
       "    this.send_message(\"ack\", {});\n",
       "    var fig = this;\n",
       "    // Wait a second, then push the new image to the DOM so\n",
       "    // that it is saved nicely (might be nice to debounce this).\n",
       "    setTimeout(function () { fig.push_to_output() }, 1000);\n",
       "}\n",
       "\n",
       "mpl.figure.prototype._init_toolbar = function() {\n",
       "    var fig = this;\n",
       "\n",
       "    var nav_element = $('<div/>')\n",
       "    nav_element.attr('style', 'width: 100%');\n",
       "    this.root.append(nav_element);\n",
       "\n",
       "    // Define a callback function for later on.\n",
       "    function toolbar_event(event) {\n",
       "        return fig.toolbar_button_onclick(event['data']);\n",
       "    }\n",
       "    function toolbar_mouse_event(event) {\n",
       "        return fig.toolbar_button_onmouseover(event['data']);\n",
       "    }\n",
       "\n",
       "    for(var toolbar_ind in mpl.toolbar_items){\n",
       "        var name = mpl.toolbar_items[toolbar_ind][0];\n",
       "        var tooltip = mpl.toolbar_items[toolbar_ind][1];\n",
       "        var image = mpl.toolbar_items[toolbar_ind][2];\n",
       "        var method_name = mpl.toolbar_items[toolbar_ind][3];\n",
       "\n",
       "        if (!name) { continue; };\n",
       "\n",
       "        var button = $('<button class=\"btn btn-default\" href=\"#\" title=\"' + name + '\"><i class=\"fa ' + image + ' fa-lg\"></i></button>');\n",
       "        button.click(method_name, toolbar_event);\n",
       "        button.mouseover(tooltip, toolbar_mouse_event);\n",
       "        nav_element.append(button);\n",
       "    }\n",
       "\n",
       "    // Add the status bar.\n",
       "    var status_bar = $('<span class=\"mpl-message\" style=\"text-align:right; float: right;\"/>');\n",
       "    nav_element.append(status_bar);\n",
       "    this.message = status_bar[0];\n",
       "\n",
       "    // Add the close button to the window.\n",
       "    var buttongrp = $('<div class=\"btn-group inline pull-right\"></div>');\n",
       "    var button = $('<button class=\"btn btn-mini btn-primary\" href=\"#\" title=\"Stop Interaction\"><i class=\"fa fa-power-off icon-remove icon-large\"></i></button>');\n",
       "    button.click(function (evt) { fig.handle_close(fig, {}); } );\n",
       "    button.mouseover('Stop Interaction', toolbar_mouse_event);\n",
       "    buttongrp.append(button);\n",
       "    var titlebar = this.root.find($('.ui-dialog-titlebar'));\n",
       "    titlebar.prepend(buttongrp);\n",
       "}\n",
       "\n",
       "mpl.figure.prototype._root_extra_style = function(el){\n",
       "    var fig = this\n",
       "    el.on(\"remove\", function(){\n",
       "\tfig.close_ws(fig, {});\n",
       "    });\n",
       "}\n",
       "\n",
       "mpl.figure.prototype._canvas_extra_style = function(el){\n",
       "    // this is important to make the div 'focusable\n",
       "    el.attr('tabindex', 0)\n",
       "    // reach out to IPython and tell the keyboard manager to turn it's self\n",
       "    // off when our div gets focus\n",
       "\n",
       "    // location in version 3\n",
       "    if (IPython.notebook.keyboard_manager) {\n",
       "        IPython.notebook.keyboard_manager.register_events(el);\n",
       "    }\n",
       "    else {\n",
       "        // location in version 2\n",
       "        IPython.keyboard_manager.register_events(el);\n",
       "    }\n",
       "\n",
       "}\n",
       "\n",
       "mpl.figure.prototype._key_event_extra = function(event, name) {\n",
       "    var manager = IPython.notebook.keyboard_manager;\n",
       "    if (!manager)\n",
       "        manager = IPython.keyboard_manager;\n",
       "\n",
       "    // Check for shift+enter\n",
       "    if (event.shiftKey && event.which == 13) {\n",
       "        this.canvas_div.blur();\n",
       "        event.shiftKey = false;\n",
       "        // Send a \"J\" for go to next cell\n",
       "        event.which = 74;\n",
       "        event.keyCode = 74;\n",
       "        manager.command_mode();\n",
       "        manager.handle_keydown(event);\n",
       "    }\n",
       "}\n",
       "\n",
       "mpl.figure.prototype.handle_save = function(fig, msg) {\n",
       "    fig.ondownload(fig, null);\n",
       "}\n",
       "\n",
       "\n",
       "mpl.find_output_cell = function(html_output) {\n",
       "    // Return the cell and output element which can be found *uniquely* in the notebook.\n",
       "    // Note - this is a bit hacky, but it is done because the \"notebook_saving.Notebook\"\n",
       "    // IPython event is triggered only after the cells have been serialised, which for\n",
       "    // our purposes (turning an active figure into a static one), is too late.\n",
       "    var cells = IPython.notebook.get_cells();\n",
       "    var ncells = cells.length;\n",
       "    for (var i=0; i<ncells; i++) {\n",
       "        var cell = cells[i];\n",
       "        if (cell.cell_type === 'code'){\n",
       "            for (var j=0; j<cell.output_area.outputs.length; j++) {\n",
       "                var data = cell.output_area.outputs[j];\n",
       "                if (data.data) {\n",
       "                    // IPython >= 3 moved mimebundle to data attribute of output\n",
       "                    data = data.data;\n",
       "                }\n",
       "                if (data['text/html'] == html_output) {\n",
       "                    return [cell, data, j];\n",
       "                }\n",
       "            }\n",
       "        }\n",
       "    }\n",
       "}\n",
       "\n",
       "// Register the function which deals with the matplotlib target/channel.\n",
       "// The kernel may be null if the page has been refreshed.\n",
       "if (IPython.notebook.kernel != null) {\n",
       "    IPython.notebook.kernel.comm_manager.register_target('matplotlib', mpl.mpl_figure_comm);\n",
       "}\n"
      ],
      "text/plain": [
       "<IPython.core.display.Javascript object>"
      ]
     },
     "metadata": {},
     "output_type": "display_data"
    },
    {
     "data": {
      "text/html": [
       "<img src=\"data:image/png;base64,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\" width=\"500\">"
      ],
      "text/plain": [
       "<IPython.core.display.HTML object>"
      ]
     },
     "metadata": {},
     "output_type": "display_data"
    },
    {
     "data": {
      "text/plain": [
       "<mpl_toolkits.mplot3d.art3d.Poly3DCollection at 0x7fd65e363e48>"
      ]
     },
     "execution_count": 30,
     "metadata": {},
     "output_type": "execute_result"
    }
   ],
   "source": [
    "from mpl_toolkits.mplot3d import Axes3D\n",
    "\n",
    "fig = plt.figure(figsize=(5, 4))\n",
    "ax = Axes3D(fig)\n",
    "X = np.arange(-4, 4, 0.2)\n",
    "Y = np.arange(-4, 4, 0.2)\n",
    "X, Y = np.meshgrid(X, Y)\n",
    "R = np.sqrt(X**2 + Y**2)\n",
    "Z = np.sin(R)\n",
    "ax.plot_surface(X, Y, Z, rstride=1, cstride=1, cmap='viridis')"
   ]
  },
  {
   "cell_type": "markdown",
   "metadata": {},
   "source": [
    "\n",
    "#### Génération de données aléatoires "
   ]
  },
  {
   "cell_type": "code",
   "execution_count": 31,
   "metadata": {
    "collapsed": false
   },
   "outputs": [],
   "source": [
    "from numpy import random"
   ]
  },
  {
   "cell_type": "code",
   "execution_count": 32,
   "metadata": {
    "collapsed": false
   },
   "outputs": [
    {
     "data": {
      "text/plain": [
       "array([[0.71608175, 0.376784  , 0.07494485, 0.23146941, 0.46449925],\n",
       "       [0.14069504, 0.28136771, 0.6827908 , 0.69700798, 0.48110041],\n",
       "       [0.69779712, 0.0717874 , 0.92668177, 0.80840159, 0.12426204],\n",
       "       [0.89106769, 0.02370884, 0.18526487, 0.02656341, 0.61528551],\n",
       "       [0.245572  , 0.03147827, 0.3262637 , 0.225931  , 0.57178728]])"
      ]
     },
     "execution_count": 32,
     "metadata": {},
     "output_type": "execute_result"
    }
   ],
   "source": [
    "# tirage uniforme dans [0,1]\n",
    "random.rand(5,5)  # ou np.random.rand"
   ]
  },
  {
   "cell_type": "code",
   "execution_count": 33,
   "metadata": {
    "collapsed": false
   },
   "outputs": [
    {
     "data": {
      "text/plain": [
       "array([[-0.45971314,  0.60973724,  0.93020781, -1.69652667,  0.04569228],\n",
       "       [-0.46490629, -1.39963283, -1.49355732,  1.24747444,  0.6666105 ],\n",
       "       [ 1.02785122, -0.2717404 ,  0.1966982 , -0.48156188, -1.18018053],\n",
       "       [ 1.5032811 ,  0.857872  ,  2.26740582, -0.48296429,  0.69548263],\n",
       "       [ 1.07539884,  1.42705288, -0.27928848, -0.95270636, -0.34308574]])"
      ]
     },
     "execution_count": 33,
     "metadata": {},
     "output_type": "execute_result"
    }
   ],
   "source": [
    "# tirage suivant une loi normale standard\n",
    "random.randn(5,5)"
   ]
  },
  {
   "cell_type": "markdown",
   "metadata": {},
   "source": [
    "### Graine: \n",
    "Il est utile dans certains contexte de fixer la 'graine' du générateur aléatoire.\n",
    "https://fr.wikipedia.org/wiki/Graine_al%C3%A9atoire"
   ]
  },
  {
   "cell_type": "code",
   "execution_count": 34,
   "metadata": {
    "collapsed": false
   },
   "outputs": [
    {
     "data": {
      "text/plain": [
       "array([0.34252388, 0.09398204, 0.1811668 , 0.38534317, 0.48541938,\n",
       "       0.05242996, 0.56698339, 0.01077597, 0.35271367, 0.17494433,\n",
       "       0.67833943, 0.79255712])"
      ]
     },
     "execution_count": 34,
     "metadata": {},
     "output_type": "execute_result"
    }
   ],
   "source": [
    "np.random.rand(12)"
   ]
  },
  {
   "cell_type": "markdown",
   "metadata": {},
   "source": [
    "Maintenant le résultat est toujours le même pour une même graine (en: *seed*) si on relance la cellule plusieurs fois:"
   ]
  },
  {
   "cell_type": "code",
   "execution_count": 35,
   "metadata": {
    "collapsed": false
   },
   "outputs": [
    {
     "data": {
      "text/plain": [
       "array([0.24851013, 0.44997542, 0.4109408 , 0.26029969, 0.87039569,\n",
       "       0.18503993, 0.01966143, 0.95325203, 0.6804508 , 0.48658813,\n",
       "       0.96502682, 0.39339874])"
      ]
     },
     "execution_count": 35,
     "metadata": {},
     "output_type": "execute_result"
    }
   ],
   "source": [
    "np.random.seed(seed=33)\n",
    "np.random.rand(12)"
   ]
  },
  {
   "cell_type": "markdown",
   "metadata": {},
   "source": [
    "Affichage de l'histogramme des tirages"
   ]
  },
  {
   "cell_type": "code",
   "execution_count": 36,
   "metadata": {
    "collapsed": false
   },
   "outputs": [],
   "source": [
    "a = np.random.randn(10000)\n",
    "plt.figure()\n",
    "plt.subplot(2, 1, 1)\n",
    "plt.hist(a, bins=40, density=False)\n",
    "plt.title('Histogramme (effectifs)')\n",
    "plt.ylabel('Effectifs')\n",
    "\n",
    "plt.subplot(2, 1, 2)\n",
    "\n",
    "plt.hist(a + 10, bins=40, density=True)\n",
    "plt.title('Histogramme (densité)')\n",
    "plt.ylabel('Densité')\n",
    "\n",
    "plt.tight_layout() # évite certains chevauchement de noms d'axes"
   ]
  },
  {
   "cell_type": "code",
   "execution_count": 37,
   "metadata": {
    "collapsed": false
   },
   "outputs": [
    {
     "data": {
      "application/javascript": [
       "/* Put everything inside the global mpl namespace */\n",
       "window.mpl = {};\n",
       "\n",
       "\n",
       "mpl.get_websocket_type = function() {\n",
       "    if (typeof(WebSocket) !== 'undefined') {\n",
       "        return WebSocket;\n",
       "    } else if (typeof(MozWebSocket) !== 'undefined') {\n",
       "        return MozWebSocket;\n",
       "    } else {\n",
       "        alert('Your browser does not have WebSocket support.' +\n",
       "              'Please try Chrome, Safari or Firefox ≥ 6. ' +\n",
       "              'Firefox 4 and 5 are also supported but you ' +\n",
       "              'have to enable WebSockets in about:config.');\n",
       "    };\n",
       "}\n",
       "\n",
       "mpl.figure = function(figure_id, websocket, ondownload, parent_element) {\n",
       "    this.id = figure_id;\n",
       "\n",
       "    this.ws = websocket;\n",
       "\n",
       "    this.supports_binary = (this.ws.binaryType != undefined);\n",
       "\n",
       "    if (!this.supports_binary) {\n",
       "        var warnings = document.getElementById(\"mpl-warnings\");\n",
       "        if (warnings) {\n",
       "            warnings.style.display = 'block';\n",
       "            warnings.textContent = (\n",
       "                \"This browser does not support binary websocket messages. \" +\n",
       "                    \"Performance may be slow.\");\n",
       "        }\n",
       "    }\n",
       "\n",
       "    this.imageObj = new Image();\n",
       "\n",
       "    this.context = undefined;\n",
       "    this.message = undefined;\n",
       "    this.canvas = undefined;\n",
       "    this.rubberband_canvas = undefined;\n",
       "    this.rubberband_context = undefined;\n",
       "    this.format_dropdown = undefined;\n",
       "\n",
       "    this.image_mode = 'full';\n",
       "\n",
       "    this.root = $('<div/>');\n",
       "    this._root_extra_style(this.root)\n",
       "    this.root.attr('style', 'display: inline-block');\n",
       "\n",
       "    $(parent_element).append(this.root);\n",
       "\n",
       "    this._init_header(this);\n",
       "    this._init_canvas(this);\n",
       "    this._init_toolbar(this);\n",
       "\n",
       "    var fig = this;\n",
       "\n",
       "    this.waiting = false;\n",
       "\n",
       "    this.ws.onopen =  function () {\n",
       "            fig.send_message(\"supports_binary\", {value: fig.supports_binary});\n",
       "            fig.send_message(\"send_image_mode\", {});\n",
       "            if (mpl.ratio != 1) {\n",
       "                fig.send_message(\"set_dpi_ratio\", {'dpi_ratio': mpl.ratio});\n",
       "            }\n",
       "            fig.send_message(\"refresh\", {});\n",
       "        }\n",
       "\n",
       "    this.imageObj.onload = function() {\n",
       "            if (fig.image_mode == 'full') {\n",
       "                // Full images could contain transparency (where diff images\n",
       "                // almost always do), so we need to clear the canvas so that\n",
       "                // there is no ghosting.\n",
       "                fig.context.clearRect(0, 0, fig.canvas.width, fig.canvas.height);\n",
       "            }\n",
       "            fig.context.drawImage(fig.imageObj, 0, 0);\n",
       "        };\n",
       "\n",
       "    this.imageObj.onunload = function() {\n",
       "        fig.ws.close();\n",
       "    }\n",
       "\n",
       "    this.ws.onmessage = this._make_on_message_function(this);\n",
       "\n",
       "    this.ondownload = ondownload;\n",
       "}\n",
       "\n",
       "mpl.figure.prototype._init_header = function() {\n",
       "    var titlebar = $(\n",
       "        '<div class=\"ui-dialog-titlebar ui-widget-header ui-corner-all ' +\n",
       "        'ui-helper-clearfix\"/>');\n",
       "    var titletext = $(\n",
       "        '<div class=\"ui-dialog-title\" style=\"width: 100%; ' +\n",
       "        'text-align: center; padding: 3px;\"/>');\n",
       "    titlebar.append(titletext)\n",
       "    this.root.append(titlebar);\n",
       "    this.header = titletext[0];\n",
       "}\n",
       "\n",
       "\n",
       "\n",
       "mpl.figure.prototype._canvas_extra_style = function(canvas_div) {\n",
       "\n",
       "}\n",
       "\n",
       "\n",
       "mpl.figure.prototype._root_extra_style = function(canvas_div) {\n",
       "\n",
       "}\n",
       "\n",
       "mpl.figure.prototype._init_canvas = function() {\n",
       "    var fig = this;\n",
       "\n",
       "    var canvas_div = $('<div/>');\n",
       "\n",
       "    canvas_div.attr('style', 'position: relative; clear: both; outline: 0');\n",
       "\n",
       "    function canvas_keyboard_event(event) {\n",
       "        return fig.key_event(event, event['data']);\n",
       "    }\n",
       "\n",
       "    canvas_div.keydown('key_press', canvas_keyboard_event);\n",
       "    canvas_div.keyup('key_release', canvas_keyboard_event);\n",
       "    this.canvas_div = canvas_div\n",
       "    this._canvas_extra_style(canvas_div)\n",
       "    this.root.append(canvas_div);\n",
       "\n",
       "    var canvas = $('<canvas/>');\n",
       "    canvas.addClass('mpl-canvas');\n",
       "    canvas.attr('style', \"left: 0; top: 0; z-index: 0; outline: 0\")\n",
       "\n",
       "    this.canvas = canvas[0];\n",
       "    this.context = canvas[0].getContext(\"2d\");\n",
       "\n",
       "    var backingStore = this.context.backingStorePixelRatio ||\n",
       "\tthis.context.webkitBackingStorePixelRatio ||\n",
       "\tthis.context.mozBackingStorePixelRatio ||\n",
       "\tthis.context.msBackingStorePixelRatio ||\n",
       "\tthis.context.oBackingStorePixelRatio ||\n",
       "\tthis.context.backingStorePixelRatio || 1;\n",
       "\n",
       "    mpl.ratio = (window.devicePixelRatio || 1) / backingStore;\n",
       "\n",
       "    var rubberband = $('<canvas/>');\n",
       "    rubberband.attr('style', \"position: absolute; left: 0; top: 0; z-index: 1;\")\n",
       "\n",
       "    var pass_mouse_events = true;\n",
       "\n",
       "    canvas_div.resizable({\n",
       "        start: function(event, ui) {\n",
       "            pass_mouse_events = false;\n",
       "        },\n",
       "        resize: function(event, ui) {\n",
       "            fig.request_resize(ui.size.width, ui.size.height);\n",
       "        },\n",
       "        stop: function(event, ui) {\n",
       "            pass_mouse_events = true;\n",
       "            fig.request_resize(ui.size.width, ui.size.height);\n",
       "        },\n",
       "    });\n",
       "\n",
       "    function mouse_event_fn(event) {\n",
       "        if (pass_mouse_events)\n",
       "            return fig.mouse_event(event, event['data']);\n",
       "    }\n",
       "\n",
       "    rubberband.mousedown('button_press', mouse_event_fn);\n",
       "    rubberband.mouseup('button_release', mouse_event_fn);\n",
       "    // Throttle sequential mouse events to 1 every 20ms.\n",
       "    rubberband.mousemove('motion_notify', mouse_event_fn);\n",
       "\n",
       "    rubberband.mouseenter('figure_enter', mouse_event_fn);\n",
       "    rubberband.mouseleave('figure_leave', mouse_event_fn);\n",
       "\n",
       "    canvas_div.on(\"wheel\", function (event) {\n",
       "        event = event.originalEvent;\n",
       "        event['data'] = 'scroll'\n",
       "        if (event.deltaY < 0) {\n",
       "            event.step = 1;\n",
       "        } else {\n",
       "            event.step = -1;\n",
       "        }\n",
       "        mouse_event_fn(event);\n",
       "    });\n",
       "\n",
       "    canvas_div.append(canvas);\n",
       "    canvas_div.append(rubberband);\n",
       "\n",
       "    this.rubberband = rubberband;\n",
       "    this.rubberband_canvas = rubberband[0];\n",
       "    this.rubberband_context = rubberband[0].getContext(\"2d\");\n",
       "    this.rubberband_context.strokeStyle = \"#000000\";\n",
       "\n",
       "    this._resize_canvas = function(width, height) {\n",
       "        // Keep the size of the canvas, canvas container, and rubber band\n",
       "        // canvas in synch.\n",
       "        canvas_div.css('width', width)\n",
       "        canvas_div.css('height', height)\n",
       "\n",
       "        canvas.attr('width', width * mpl.ratio);\n",
       "        canvas.attr('height', height * mpl.ratio);\n",
       "        canvas.attr('style', 'width: ' + width + 'px; height: ' + height + 'px;');\n",
       "\n",
       "        rubberband.attr('width', width);\n",
       "        rubberband.attr('height', height);\n",
       "    }\n",
       "\n",
       "    // Set the figure to an initial 600x600px, this will subsequently be updated\n",
       "    // upon first draw.\n",
       "    this._resize_canvas(600, 600);\n",
       "\n",
       "    // Disable right mouse context menu.\n",
       "    $(this.rubberband_canvas).bind(\"contextmenu\",function(e){\n",
       "        return false;\n",
       "    });\n",
       "\n",
       "    function set_focus () {\n",
       "        canvas.focus();\n",
       "        canvas_div.focus();\n",
       "    }\n",
       "\n",
       "    window.setTimeout(set_focus, 100);\n",
       "}\n",
       "\n",
       "mpl.figure.prototype._init_toolbar = function() {\n",
       "    var fig = this;\n",
       "\n",
       "    var nav_element = $('<div/>')\n",
       "    nav_element.attr('style', 'width: 100%');\n",
       "    this.root.append(nav_element);\n",
       "\n",
       "    // Define a callback function for later on.\n",
       "    function toolbar_event(event) {\n",
       "        return fig.toolbar_button_onclick(event['data']);\n",
       "    }\n",
       "    function toolbar_mouse_event(event) {\n",
       "        return fig.toolbar_button_onmouseover(event['data']);\n",
       "    }\n",
       "\n",
       "    for(var toolbar_ind in mpl.toolbar_items) {\n",
       "        var name = mpl.toolbar_items[toolbar_ind][0];\n",
       "        var tooltip = mpl.toolbar_items[toolbar_ind][1];\n",
       "        var image = mpl.toolbar_items[toolbar_ind][2];\n",
       "        var method_name = mpl.toolbar_items[toolbar_ind][3];\n",
       "\n",
       "        if (!name) {\n",
       "            // put a spacer in here.\n",
       "            continue;\n",
       "        }\n",
       "        var button = $('<button/>');\n",
       "        button.addClass('ui-button ui-widget ui-state-default ui-corner-all ' +\n",
       "                        'ui-button-icon-only');\n",
       "        button.attr('role', 'button');\n",
       "        button.attr('aria-disabled', 'false');\n",
       "        button.click(method_name, toolbar_event);\n",
       "        button.mouseover(tooltip, toolbar_mouse_event);\n",
       "\n",
       "        var icon_img = $('<span/>');\n",
       "        icon_img.addClass('ui-button-icon-primary ui-icon');\n",
       "        icon_img.addClass(image);\n",
       "        icon_img.addClass('ui-corner-all');\n",
       "\n",
       "        var tooltip_span = $('<span/>');\n",
       "        tooltip_span.addClass('ui-button-text');\n",
       "        tooltip_span.html(tooltip);\n",
       "\n",
       "        button.append(icon_img);\n",
       "        button.append(tooltip_span);\n",
       "\n",
       "        nav_element.append(button);\n",
       "    }\n",
       "\n",
       "    var fmt_picker_span = $('<span/>');\n",
       "\n",
       "    var fmt_picker = $('<select/>');\n",
       "    fmt_picker.addClass('mpl-toolbar-option ui-widget ui-widget-content');\n",
       "    fmt_picker_span.append(fmt_picker);\n",
       "    nav_element.append(fmt_picker_span);\n",
       "    this.format_dropdown = fmt_picker[0];\n",
       "\n",
       "    for (var ind in mpl.extensions) {\n",
       "        var fmt = mpl.extensions[ind];\n",
       "        var option = $(\n",
       "            '<option/>', {selected: fmt === mpl.default_extension}).html(fmt);\n",
       "        fmt_picker.append(option)\n",
       "    }\n",
       "\n",
       "    // Add hover states to the ui-buttons\n",
       "    $( \".ui-button\" ).hover(\n",
       "        function() { $(this).addClass(\"ui-state-hover\");},\n",
       "        function() { $(this).removeClass(\"ui-state-hover\");}\n",
       "    );\n",
       "\n",
       "    var status_bar = $('<span class=\"mpl-message\"/>');\n",
       "    nav_element.append(status_bar);\n",
       "    this.message = status_bar[0];\n",
       "}\n",
       "\n",
       "mpl.figure.prototype.request_resize = function(x_pixels, y_pixels) {\n",
       "    // Request matplotlib to resize the figure. Matplotlib will then trigger a resize in the client,\n",
       "    // which will in turn request a refresh of the image.\n",
       "    this.send_message('resize', {'width': x_pixels, 'height': y_pixels});\n",
       "}\n",
       "\n",
       "mpl.figure.prototype.send_message = function(type, properties) {\n",
       "    properties['type'] = type;\n",
       "    properties['figure_id'] = this.id;\n",
       "    this.ws.send(JSON.stringify(properties));\n",
       "}\n",
       "\n",
       "mpl.figure.prototype.send_draw_message = function() {\n",
       "    if (!this.waiting) {\n",
       "        this.waiting = true;\n",
       "        this.ws.send(JSON.stringify({type: \"draw\", figure_id: this.id}));\n",
       "    }\n",
       "}\n",
       "\n",
       "\n",
       "mpl.figure.prototype.handle_save = function(fig, msg) {\n",
       "    var format_dropdown = fig.format_dropdown;\n",
       "    var format = format_dropdown.options[format_dropdown.selectedIndex].value;\n",
       "    fig.ondownload(fig, format);\n",
       "}\n",
       "\n",
       "\n",
       "mpl.figure.prototype.handle_resize = function(fig, msg) {\n",
       "    var size = msg['size'];\n",
       "    if (size[0] != fig.canvas.width || size[1] != fig.canvas.height) {\n",
       "        fig._resize_canvas(size[0], size[1]);\n",
       "        fig.send_message(\"refresh\", {});\n",
       "    };\n",
       "}\n",
       "\n",
       "mpl.figure.prototype.handle_rubberband = function(fig, msg) {\n",
       "    var x0 = msg['x0'] / mpl.ratio;\n",
       "    var y0 = (fig.canvas.height - msg['y0']) / mpl.ratio;\n",
       "    var x1 = msg['x1'] / mpl.ratio;\n",
       "    var y1 = (fig.canvas.height - msg['y1']) / mpl.ratio;\n",
       "    x0 = Math.floor(x0) + 0.5;\n",
       "    y0 = Math.floor(y0) + 0.5;\n",
       "    x1 = Math.floor(x1) + 0.5;\n",
       "    y1 = Math.floor(y1) + 0.5;\n",
       "    var min_x = Math.min(x0, x1);\n",
       "    var min_y = Math.min(y0, y1);\n",
       "    var width = Math.abs(x1 - x0);\n",
       "    var height = Math.abs(y1 - y0);\n",
       "\n",
       "    fig.rubberband_context.clearRect(\n",
       "        0, 0, fig.canvas.width, fig.canvas.height);\n",
       "\n",
       "    fig.rubberband_context.strokeRect(min_x, min_y, width, height);\n",
       "}\n",
       "\n",
       "mpl.figure.prototype.handle_figure_label = function(fig, msg) {\n",
       "    // Updates the figure title.\n",
       "    fig.header.textContent = msg['label'];\n",
       "}\n",
       "\n",
       "mpl.figure.prototype.handle_cursor = function(fig, msg) {\n",
       "    var cursor = msg['cursor'];\n",
       "    switch(cursor)\n",
       "    {\n",
       "    case 0:\n",
       "        cursor = 'pointer';\n",
       "        break;\n",
       "    case 1:\n",
       "        cursor = 'default';\n",
       "        break;\n",
       "    case 2:\n",
       "        cursor = 'crosshair';\n",
       "        break;\n",
       "    case 3:\n",
       "        cursor = 'move';\n",
       "        break;\n",
       "    }\n",
       "    fig.rubberband_canvas.style.cursor = cursor;\n",
       "}\n",
       "\n",
       "mpl.figure.prototype.handle_message = function(fig, msg) {\n",
       "    fig.message.textContent = msg['message'];\n",
       "}\n",
       "\n",
       "mpl.figure.prototype.handle_draw = function(fig, msg) {\n",
       "    // Request the server to send over a new figure.\n",
       "    fig.send_draw_message();\n",
       "}\n",
       "\n",
       "mpl.figure.prototype.handle_image_mode = function(fig, msg) {\n",
       "    fig.image_mode = msg['mode'];\n",
       "}\n",
       "\n",
       "mpl.figure.prototype.updated_canvas_event = function() {\n",
       "    // Called whenever the canvas gets updated.\n",
       "    this.send_message(\"ack\", {});\n",
       "}\n",
       "\n",
       "// A function to construct a web socket function for onmessage handling.\n",
       "// Called in the figure constructor.\n",
       "mpl.figure.prototype._make_on_message_function = function(fig) {\n",
       "    return function socket_on_message(evt) {\n",
       "        if (evt.data instanceof Blob) {\n",
       "            /* FIXME: We get \"Resource interpreted as Image but\n",
       "             * transferred with MIME type text/plain:\" errors on\n",
       "             * Chrome.  But how to set the MIME type?  It doesn't seem\n",
       "             * to be part of the websocket stream */\n",
       "            evt.data.type = \"image/png\";\n",
       "\n",
       "            /* Free the memory for the previous frames */\n",
       "            if (fig.imageObj.src) {\n",
       "                (window.URL || window.webkitURL).revokeObjectURL(\n",
       "                    fig.imageObj.src);\n",
       "            }\n",
       "\n",
       "            fig.imageObj.src = (window.URL || window.webkitURL).createObjectURL(\n",
       "                evt.data);\n",
       "            fig.updated_canvas_event();\n",
       "            fig.waiting = false;\n",
       "            return;\n",
       "        }\n",
       "        else if (typeof evt.data === 'string' && evt.data.slice(0, 21) == \"data:image/png;base64\") {\n",
       "            fig.imageObj.src = evt.data;\n",
       "            fig.updated_canvas_event();\n",
       "            fig.waiting = false;\n",
       "            return;\n",
       "        }\n",
       "\n",
       "        var msg = JSON.parse(evt.data);\n",
       "        var msg_type = msg['type'];\n",
       "\n",
       "        // Call the  \"handle_{type}\" callback, which takes\n",
       "        // the figure and JSON message as its only arguments.\n",
       "        try {\n",
       "            var callback = fig[\"handle_\" + msg_type];\n",
       "        } catch (e) {\n",
       "            console.log(\"No handler for the '\" + msg_type + \"' message type: \", msg);\n",
       "            return;\n",
       "        }\n",
       "\n",
       "        if (callback) {\n",
       "            try {\n",
       "                // console.log(\"Handling '\" + msg_type + \"' message: \", msg);\n",
       "                callback(fig, msg);\n",
       "            } catch (e) {\n",
       "                console.log(\"Exception inside the 'handler_\" + msg_type + \"' callback:\", e, e.stack, msg);\n",
       "            }\n",
       "        }\n",
       "    };\n",
       "}\n",
       "\n",
       "// from http://stackoverflow.com/questions/1114465/getting-mouse-location-in-canvas\n",
       "mpl.findpos = function(e) {\n",
       "    //this section is from http://www.quirksmode.org/js/events_properties.html\n",
       "    var targ;\n",
       "    if (!e)\n",
       "        e = window.event;\n",
       "    if (e.target)\n",
       "        targ = e.target;\n",
       "    else if (e.srcElement)\n",
       "        targ = e.srcElement;\n",
       "    if (targ.nodeType == 3) // defeat Safari bug\n",
       "        targ = targ.parentNode;\n",
       "\n",
       "    // jQuery normalizes the pageX and pageY\n",
       "    // pageX,Y are the mouse positions relative to the document\n",
       "    // offset() returns the position of the element relative to the document\n",
       "    var x = e.pageX - $(targ).offset().left;\n",
       "    var y = e.pageY - $(targ).offset().top;\n",
       "\n",
       "    return {\"x\": x, \"y\": y};\n",
       "};\n",
       "\n",
       "/*\n",
       " * return a copy of an object with only non-object keys\n",
       " * we need this to avoid circular references\n",
       " * http://stackoverflow.com/a/24161582/3208463\n",
       " */\n",
       "function simpleKeys (original) {\n",
       "  return Object.keys(original).reduce(function (obj, key) {\n",
       "    if (typeof original[key] !== 'object')\n",
       "        obj[key] = original[key]\n",
       "    return obj;\n",
       "  }, {});\n",
       "}\n",
       "\n",
       "mpl.figure.prototype.mouse_event = function(event, name) {\n",
       "    var canvas_pos = mpl.findpos(event)\n",
       "\n",
       "    if (name === 'button_press')\n",
       "    {\n",
       "        this.canvas.focus();\n",
       "        this.canvas_div.focus();\n",
       "    }\n",
       "\n",
       "    var x = canvas_pos.x * mpl.ratio;\n",
       "    var y = canvas_pos.y * mpl.ratio;\n",
       "\n",
       "    this.send_message(name, {x: x, y: y, button: event.button,\n",
       "                             step: event.step,\n",
       "                             guiEvent: simpleKeys(event)});\n",
       "\n",
       "    /* This prevents the web browser from automatically changing to\n",
       "     * the text insertion cursor when the button is pressed.  We want\n",
       "     * to control all of the cursor setting manually through the\n",
       "     * 'cursor' event from matplotlib */\n",
       "    event.preventDefault();\n",
       "    return false;\n",
       "}\n",
       "\n",
       "mpl.figure.prototype._key_event_extra = function(event, name) {\n",
       "    // Handle any extra behaviour associated with a key event\n",
       "}\n",
       "\n",
       "mpl.figure.prototype.key_event = function(event, name) {\n",
       "\n",
       "    // Prevent repeat events\n",
       "    if (name == 'key_press')\n",
       "    {\n",
       "        if (event.which === this._key)\n",
       "            return;\n",
       "        else\n",
       "            this._key = event.which;\n",
       "    }\n",
       "    if (name == 'key_release')\n",
       "        this._key = null;\n",
       "\n",
       "    var value = '';\n",
       "    if (event.ctrlKey && event.which != 17)\n",
       "        value += \"ctrl+\";\n",
       "    if (event.altKey && event.which != 18)\n",
       "        value += \"alt+\";\n",
       "    if (event.shiftKey && event.which != 16)\n",
       "        value += \"shift+\";\n",
       "\n",
       "    value += 'k';\n",
       "    value += event.which.toString();\n",
       "\n",
       "    this._key_event_extra(event, name);\n",
       "\n",
       "    this.send_message(name, {key: value,\n",
       "                             guiEvent: simpleKeys(event)});\n",
       "    return false;\n",
       "}\n",
       "\n",
       "mpl.figure.prototype.toolbar_button_onclick = function(name) {\n",
       "    if (name == 'download') {\n",
       "        this.handle_save(this, null);\n",
       "    } else {\n",
       "        this.send_message(\"toolbar_button\", {name: name});\n",
       "    }\n",
       "};\n",
       "\n",
       "mpl.figure.prototype.toolbar_button_onmouseover = function(tooltip) {\n",
       "    this.message.textContent = tooltip;\n",
       "};\n",
       "mpl.toolbar_items = [[\"Home\", \"Reset original view\", \"fa fa-home icon-home\", \"home\"], [\"Back\", \"Back to  previous view\", \"fa fa-arrow-left icon-arrow-left\", \"back\"], [\"Forward\", \"Forward to next view\", \"fa fa-arrow-right icon-arrow-right\", \"forward\"], [\"\", \"\", \"\", \"\"], [\"Pan\", \"Pan axes with left mouse, zoom with right\", \"fa fa-arrows icon-move\", \"pan\"], [\"Zoom\", \"Zoom to rectangle\", \"fa fa-square-o icon-check-empty\", \"zoom\"], [\"\", \"\", \"\", \"\"], [\"Download\", \"Download plot\", \"fa fa-floppy-o icon-save\", \"download\"]];\n",
       "\n",
       "mpl.extensions = [\"eps\", \"jpeg\", \"pdf\", \"png\", \"ps\", \"raw\", \"svg\", \"tif\"];\n",
       "\n",
       "mpl.default_extension = \"png\";var comm_websocket_adapter = function(comm) {\n",
       "    // Create a \"websocket\"-like object which calls the given IPython comm\n",
       "    // object with the appropriate methods. Currently this is a non binary\n",
       "    // socket, so there is still some room for performance tuning.\n",
       "    var ws = {};\n",
       "\n",
       "    ws.close = function() {\n",
       "        comm.close()\n",
       "    };\n",
       "    ws.send = function(m) {\n",
       "        //console.log('sending', m);\n",
       "        comm.send(m);\n",
       "    };\n",
       "    // Register the callback with on_msg.\n",
       "    comm.on_msg(function(msg) {\n",
       "        //console.log('receiving', msg['content']['data'], msg);\n",
       "        // Pass the mpl event to the overridden (by mpl) onmessage function.\n",
       "        ws.onmessage(msg['content']['data'])\n",
       "    });\n",
       "    return ws;\n",
       "}\n",
       "\n",
       "mpl.mpl_figure_comm = function(comm, msg) {\n",
       "    // This is the function which gets called when the mpl process\n",
       "    // starts-up an IPython Comm through the \"matplotlib\" channel.\n",
       "\n",
       "    var id = msg.content.data.id;\n",
       "    // Get hold of the div created by the display call when the Comm\n",
       "    // socket was opened in Python.\n",
       "    var element = $(\"#\" + id);\n",
       "    var ws_proxy = comm_websocket_adapter(comm)\n",
       "\n",
       "    function ondownload(figure, format) {\n",
       "        window.open(figure.imageObj.src);\n",
       "    }\n",
       "\n",
       "    var fig = new mpl.figure(id, ws_proxy,\n",
       "                           ondownload,\n",
       "                           element.get(0));\n",
       "\n",
       "    // Call onopen now - mpl needs it, as it is assuming we've passed it a real\n",
       "    // web socket which is closed, not our websocket->open comm proxy.\n",
       "    ws_proxy.onopen();\n",
       "\n",
       "    fig.parent_element = element.get(0);\n",
       "    fig.cell_info = mpl.find_output_cell(\"<div id='\" + id + \"'></div>\");\n",
       "    if (!fig.cell_info) {\n",
       "        console.error(\"Failed to find cell for figure\", id, fig);\n",
       "        return;\n",
       "    }\n",
       "\n",
       "    var output_index = fig.cell_info[2]\n",
       "    var cell = fig.cell_info[0];\n",
       "\n",
       "};\n",
       "\n",
       "mpl.figure.prototype.handle_close = function(fig, msg) {\n",
       "    var width = fig.canvas.width/mpl.ratio\n",
       "    fig.root.unbind('remove')\n",
       "\n",
       "    // Update the output cell to use the data from the current canvas.\n",
       "    fig.push_to_output();\n",
       "    var dataURL = fig.canvas.toDataURL();\n",
       "    // Re-enable the keyboard manager in IPython - without this line, in FF,\n",
       "    // the notebook keyboard shortcuts fail.\n",
       "    IPython.keyboard_manager.enable()\n",
       "    $(fig.parent_element).html('<img src=\"' + dataURL + '\" width=\"' + width + '\">');\n",
       "    fig.close_ws(fig, msg);\n",
       "}\n",
       "\n",
       "mpl.figure.prototype.close_ws = function(fig, msg){\n",
       "    fig.send_message('closing', msg);\n",
       "    // fig.ws.close()\n",
       "}\n",
       "\n",
       "mpl.figure.prototype.push_to_output = function(remove_interactive) {\n",
       "    // Turn the data on the canvas into data in the output cell.\n",
       "    var width = this.canvas.width/mpl.ratio\n",
       "    var dataURL = this.canvas.toDataURL();\n",
       "    this.cell_info[1]['text/html'] = '<img src=\"' + dataURL + '\" width=\"' + width + '\">';\n",
       "}\n",
       "\n",
       "mpl.figure.prototype.updated_canvas_event = function() {\n",
       "    // Tell IPython that the notebook contents must change.\n",
       "    IPython.notebook.set_dirty(true);\n",
       "    this.send_message(\"ack\", {});\n",
       "    var fig = this;\n",
       "    // Wait a second, then push the new image to the DOM so\n",
       "    // that it is saved nicely (might be nice to debounce this).\n",
       "    setTimeout(function () { fig.push_to_output() }, 1000);\n",
       "}\n",
       "\n",
       "mpl.figure.prototype._init_toolbar = function() {\n",
       "    var fig = this;\n",
       "\n",
       "    var nav_element = $('<div/>')\n",
       "    nav_element.attr('style', 'width: 100%');\n",
       "    this.root.append(nav_element);\n",
       "\n",
       "    // Define a callback function for later on.\n",
       "    function toolbar_event(event) {\n",
       "        return fig.toolbar_button_onclick(event['data']);\n",
       "    }\n",
       "    function toolbar_mouse_event(event) {\n",
       "        return fig.toolbar_button_onmouseover(event['data']);\n",
       "    }\n",
       "\n",
       "    for(var toolbar_ind in mpl.toolbar_items){\n",
       "        var name = mpl.toolbar_items[toolbar_ind][0];\n",
       "        var tooltip = mpl.toolbar_items[toolbar_ind][1];\n",
       "        var image = mpl.toolbar_items[toolbar_ind][2];\n",
       "        var method_name = mpl.toolbar_items[toolbar_ind][3];\n",
       "\n",
       "        if (!name) { continue; };\n",
       "\n",
       "        var button = $('<button class=\"btn btn-default\" href=\"#\" title=\"' + name + '\"><i class=\"fa ' + image + ' fa-lg\"></i></button>');\n",
       "        button.click(method_name, toolbar_event);\n",
       "        button.mouseover(tooltip, toolbar_mouse_event);\n",
       "        nav_element.append(button);\n",
       "    }\n",
       "\n",
       "    // Add the status bar.\n",
       "    var status_bar = $('<span class=\"mpl-message\" style=\"text-align:right; float: right;\"/>');\n",
       "    nav_element.append(status_bar);\n",
       "    this.message = status_bar[0];\n",
       "\n",
       "    // Add the close button to the window.\n",
       "    var buttongrp = $('<div class=\"btn-group inline pull-right\"></div>');\n",
       "    var button = $('<button class=\"btn btn-mini btn-primary\" href=\"#\" title=\"Stop Interaction\"><i class=\"fa fa-power-off icon-remove icon-large\"></i></button>');\n",
       "    button.click(function (evt) { fig.handle_close(fig, {}); } );\n",
       "    button.mouseover('Stop Interaction', toolbar_mouse_event);\n",
       "    buttongrp.append(button);\n",
       "    var titlebar = this.root.find($('.ui-dialog-titlebar'));\n",
       "    titlebar.prepend(buttongrp);\n",
       "}\n",
       "\n",
       "mpl.figure.prototype._root_extra_style = function(el){\n",
       "    var fig = this\n",
       "    el.on(\"remove\", function(){\n",
       "\tfig.close_ws(fig, {});\n",
       "    });\n",
       "}\n",
       "\n",
       "mpl.figure.prototype._canvas_extra_style = function(el){\n",
       "    // this is important to make the div 'focusable\n",
       "    el.attr('tabindex', 0)\n",
       "    // reach out to IPython and tell the keyboard manager to turn it's self\n",
       "    // off when our div gets focus\n",
       "\n",
       "    // location in version 3\n",
       "    if (IPython.notebook.keyboard_manager) {\n",
       "        IPython.notebook.keyboard_manager.register_events(el);\n",
       "    }\n",
       "    else {\n",
       "        // location in version 2\n",
       "        IPython.keyboard_manager.register_events(el);\n",
       "    }\n",
       "\n",
       "}\n",
       "\n",
       "mpl.figure.prototype._key_event_extra = function(event, name) {\n",
       "    var manager = IPython.notebook.keyboard_manager;\n",
       "    if (!manager)\n",
       "        manager = IPython.keyboard_manager;\n",
       "\n",
       "    // Check for shift+enter\n",
       "    if (event.shiftKey && event.which == 13) {\n",
       "        this.canvas_div.blur();\n",
       "        event.shiftKey = false;\n",
       "        // Send a \"J\" for go to next cell\n",
       "        event.which = 74;\n",
       "        event.keyCode = 74;\n",
       "        manager.command_mode();\n",
       "        manager.handle_keydown(event);\n",
       "    }\n",
       "}\n",
       "\n",
       "mpl.figure.prototype.handle_save = function(fig, msg) {\n",
       "    fig.ondownload(fig, null);\n",
       "}\n",
       "\n",
       "\n",
       "mpl.find_output_cell = function(html_output) {\n",
       "    // Return the cell and output element which can be found *uniquely* in the notebook.\n",
       "    // Note - this is a bit hacky, but it is done because the \"notebook_saving.Notebook\"\n",
       "    // IPython event is triggered only after the cells have been serialised, which for\n",
       "    // our purposes (turning an active figure into a static one), is too late.\n",
       "    var cells = IPython.notebook.get_cells();\n",
       "    var ncells = cells.length;\n",
       "    for (var i=0; i<ncells; i++) {\n",
       "        var cell = cells[i];\n",
       "        if (cell.cell_type === 'code'){\n",
       "            for (var j=0; j<cell.output_area.outputs.length; j++) {\n",
       "                var data = cell.output_area.outputs[j];\n",
       "                if (data.data) {\n",
       "                    // IPython >= 3 moved mimebundle to data attribute of output\n",
       "                    data = data.data;\n",
       "                }\n",
       "                if (data['text/html'] == html_output) {\n",
       "                    return [cell, data, j];\n",
       "                }\n",
       "            }\n",
       "        }\n",
       "    }\n",
       "}\n",
       "\n",
       "// Register the function which deals with the matplotlib target/channel.\n",
       "// The kernel may be null if the page has been refreshed.\n",
       "if (IPython.notebook.kernel != null) {\n",
       "    IPython.notebook.kernel.comm_manager.register_target('matplotlib', mpl.mpl_figure_comm);\n",
       "}\n"
      ],
      "text/plain": [
       "<IPython.core.display.Javascript object>"
      ]
     },
     "metadata": {},
     "output_type": "display_data"
    },
    {
     "data": {
      "text/html": [
       "<img src=\"data:image/png;base64,iVBORw0KGgoAAAANSUhEUgAAA8AAAALQCAYAAABfdxm0AAAgAElEQVR4nOzde3xU9Z3/8U/IZUIIJCHQGFDQAuKKRUUBRQVtbTHoAi4XqVYpFu3Kr4L4sFKLkFVbK1RAxe7WhyKirdaqWK/tooWt3OqlXGxLLVhpQRTKgtxjIOT9+4PHzGaSyZDJTPKdM9/X8/H4/MGZOWfOyUl45JWZOWMCAAAAAMAD5noHAAAAAABoDQQwAAAAAMALBDAAAAAAwAsEMAAAAADACwQwAAAAAMALBDAAAAAAwAsEMAAAAADACwQwAAAAAMALBDAAAAAAwAsEMAAAAADACwQwAAAAAMALBDAAAAAAwAsEMAAAAADACwQwAAAAAMALBDAAAAAAwAsEMAAAAADACwQwAAAAAMALBDAAAAAAwAsEMAAAAADACwQwAAAAAMALBDAAAAAAwAsEMAAAAADACwQwAAAAAMALBDAAAAAAwAsEMAAAAADACwQwAAAAAMALBHCaKCsrU2FhoU4//XSGYRiGYRiGYZiMn8LCQpWVlbVqdxHAaaKwsFChUMj5NyHDMAzDMAzDMExrTCgUUmFhYat2FwGcJsLfBAAAAADgAxcNRACnCQIYAAAAgE8IYI8RwAAAAAB8QgB7jAAGAAAA4BMC2GMEMAAAAACfEMAeI4ABAAAA+IQA9hgBDAAAAMAnBLDHCGAAAAAAPiGAPUYAAwAAAPAJAewxAhgAAACATwhgjxHAAAAAAHxCAHuMAAYAAADgEwLYYwQwfNd92qtxBwAAAJmFAPYYAQzfEcAAAAB+IYA9RgDDdwQwAACAXwhgjxHA8B0BDAAA4BcC2GMEMHxHAAMAAPiFAPYYAQzfEcAAAAB+IYA9RgDDdwQwAACAXwhgjxHA8B0BDAAA4BcC2GMEMHxHAAMAAPiFAPYYAQzfEcAAAAB+IYA9RgDDd8cLYAIZAAAgsxDAHiOA4TsCGAAAwC8EsMcIYPiOAAYAAPALAewxAhi+I4ABAAD8QgB7jACG7whgAAAAvxDAHiOA4TsCGAAAwC8EsMcIYPgu2QAmkAEAAIKFAPYYAQzfEcAAAAB+IYA9RgDDdwQwAACAXwhgjxHA8B0BDAAA4BcC2GMEMHxHAAMAAPiFAPYYAQzfEcAAAAB+IYA9RgAj07V04BLAAAAAwUIAe4wARqYjgAEAAFAXAewxAhiZjgAGAABAXQSwxwhgZDoCGAAAAHURwB4jgJHpCGAAAADURQB7jABGpiOAAQAAUBcB7DECGJmOAAYAAEBdBLDHCGBkOgIYAAAAdRHAHiOAkekIYAAAANRFAHuMAEamI4ABAABQFwHsMQIYmY4ABgAAQF0EsMcIYGQ6AhgAAAB1EcAeI4CR6QhgAAAA1EUAe4wARqYjgAEAAFAXAewxAhiZznUAE8gAAADphQD2GAGMTOc6cAlgAACA9EIAe4wARqZzHbgEMAAAQHohgD1GACPTuQ5cAhgAACC9EMAeI4CR6VwHLgEMAACQXghgjxHAyHSuA5cABgAASC8EsMcIYASd64AlgAEAAIKFAPYYAYygcx2wBDAAAECwEMAeI4ARdK4DlgAGAAAIFgLYYwQwgs51wBLAAAAAwUIAe4wARtC5DlgCGAAAIFgIYI8RwAg61wFLAAMAAAQLAdxMn376qW655Rb16tVL+fn5KikpUb9+/fTd73435v1feeUVDR48WB06dFD79u01ePBgvfLKK3EfY8OGDRo9erQ6deqk/Px8nXHGGZo7d66OHj2akmMggBF0rgOWAAYAAAgWArgZVq1apeLiYpmZTj/9dI0dO1YVFRXq3r27srOzG9z/wQcflJkpJydHl112mUaMGKG2bdvKzPTggw/GfIzVq1eroKBAZqYBAwZo7NixOuGEE2RmGjVqlGpra5M+DgIYQec6YAlkAACAYCGAE7Rt2zYVFxerbdu2Wrx4cYPb33777ah///Wvf1VOTo5CoZBWrVoVtby0tFQ5OTnauHFj1DpHjhxRjx49ZGaaO3duZPn+/ft1/vnny8z0+OOPJ30sBDCCznWgEsAAAADBQgAn6Nprr5WZaf78+U26/6RJk2RmmjJlSoPb5s6dKzPTd77znajlv/zlL2VmOvPMMxuss2bNGpmZzjjjjOYdQB0EMILOdaASwAAAAMFCACdg9+7dCoVCKioqUlVVVZPW6datm8xMy5cvb3Db1q1bZWbq3r171PLrrrtOZqZ77rkn5ja/+MUvysy0efPmRA8hCgGMoHMdqAQwAABAsBDACXjllVdkZrr88stVU1Oj5557TlOmTNGkSZP00EMPafv27VH3/+yzz2RmMjMdOHAg5jY7deokM9OePXsiy84880yZmV577bWY64wePVpmpl/96ldJHQ8BjKBzHagEMAAAQLAQwAm47777ZGa6/vrrI+/FrTvt2rXTL3/5y8j9169fLzNTSUlJo9s866yzZGZ6//33I8tKSkpkZlq/fn3MdW655RaZmR566KGkjocARtC5DlQCGAAAIFgI4ARMmzYtcjXndu3aacGCBdq5c6c2b96sW2+9VWamvLy8SLiuXLlSZqauXbs2us0LLrhAZhZ1gazc3FyZmTZt2hRznenTp8vMdO+99zZpv8Mnuf6EQiECGIHmOlAJYAAAgGAhgBNw2223RZ7tfeSRRxrcHn5p8jXXXCNJWrFihcxMJ554YqPbHDRoUKMB/OGHH8Zc5/vf/z4BDIgABgAAQGII4ATcddddMjO1adNGn3/+eYPbX3/99ahnfHkJNNCyXAcqAQwAABAsBHACFi1aJDNTly5dYt6+YcMGmZlyc3MlcREsoKW5DlQCGAAAIFgI4AS8//77MjO1bdtWtbW1DW5fvnx5g2d8m/IxSN26dYta3tSPQfroo4+SOh4CGEHnOlAJYAAAgGAhgBN0yimnyMy0evXqBrfdc889MjN95StfiSy76aabZGaaMmVKg/vPnTtXZqZJkyZFLX/22WdlZjrzzDMbrLNmzRqZWUpOGgGMoHMdqAQwAABAsBDACfrpT38qM1P//v21c+fOyPL33ntPxcXFMjM999xzkeUffPCBsrOzFQqFoqJ548aNKi0tVXZ2tj744IOoxzh8+HAktOfOnRtZfuDAgcjHLz322GNJHwsBjKBzHagEMAAAQLAQwAk6evSoxowZIzNTx44ddcUVV+jiiy9WXl6ezEw33HBDg3XCz/Tm5OSooqJCI0aMUNu2bRsEbl0rV66M3GfgwIEaO3asysvLZWYaOXKkjh49mvSxEMAIOteBSgADAAAECwHcDEePHtVPfvITnX322SooKFC7du00aNAgPfnkk42u8/LLL+uiiy5SYWGhCgsLdeGFF+qll16K+zh/+tOfNGrUKJWWlkY+suj+++9XTU1NSo6DAEbQuQ5UAhgAACBYCGCPEcBId64D1PUAAAAgtQhgjxHASHeuA9T1AAAAILUIYI8RwEh3rgPU9QAAACC1CGCPEcBId64D1PUAAAAgtQhgjxHASHeuA9T1AAAAILUIYI8RwEh3rgPU9QAAACC1CGCPEcBId64D1PUAAAAgtQhgjxHASHeuA9T1AAAAILUIYI8RwEh3rgPU9QAAACC1CGCPEcBId64D1PUAAAAgtQhgjxHASHeuA9T1AAAAILUIYI8RwEh3rgPU9QAAACC1CGCPEcBwzXVgpvsAAAAgtQhgjxHAcM11YKb7AAAAILUIYI8RwHDNdWCm+wAAACC1CGCPEcBwzXVgpvsAAAAgtQhgjxHAcM11YKb7AAAAILUIYI8RwHDNdWCm+wAAACC1CGCPEcBwzXVgpvsAAAAgtQhgjxHAcM11YKb7AAAAILUIYI8RwHDNdWCm+wAAACC1CGCPEcBwzXVgpvsAAAAgtQhgjxHAcM11YKb7AAAAILUIYI8RwHDNdWCm+wAAACC1CGCPEcBwzXVgBn0AAACQGALYYwQwXHMdkEEfAAAAJIYA9hgBDNdcB2TQBwAAAIkhgD1GAMM11wEZ9AEAAEBiCGCPEcBwzXVABn0AAACQGALYYwQwXHMdkEEfAAAAJIYA9hgBDNdcB2TQBwAAAIkhgD1GAMM11wEZ9AEAAEBiCGCPEcBwzXVABn0AAACQGALYYwQwXHMdkEEfAAAAJIYA9hgBDNdcB2TQBwAAAIkhgD1GAMM11wEZ9AEAAEBiCGCPEcBwzXVABn0AAACQGALYYwQwXHMdkEEfAAAAJIYA9hgBDNdcB2TQBwAAAIkhgD1GAMM11wEZ9AEAAEBiCGCPEcBwzXVABn0AAACQGALYYwQwXHMdkEEfAAAAJIYA9hgBDNdcB2TQBwAAAIkhgD1GAKMluY5DHwYAAACJIYA9RgCjJbmOQ4ZABgAAqI8A9hgBjJbkOv4YAhgAAKA+AthjBDBakuv4YwhgAACA+ghgjxHAaEmu448hgAEAAOojgD1GAKMluY4/hgAGAACojwD2GAGMluQ6/hgCGAAAoD4C2GMEMFqS6/hjCGAAAID6CGCPEcBoSa7jjyGAAQAA6iOAPUYAoyW5jj+GAAYAAKiPAPYYAYyW5Dr+GAIYAACgPgLYYwQwWpLr+GMIYAAAgPoI4CTt2rVLnTt3lpmpd+/ece+7aNEi9e/fX+3atVNJSYkqKiq0cuXKuOusXLlSFRUVKikpUbt27dS/f3898cQTKdl3AhgtyXX8MQQwAABAfQRwksaPH6+srKzjBvDUqVNlZmrbtq1GjBihoUOHKicnR9nZ2Vq8eHHMdRYvXqzs7GxlZWVpyJAhGjVqlIqLi2Vmmjp1atL7TgCjJbmOP4YABgAAqI8ATsKbb74pM9ONN94YN4B/+9vfysxUWlqqjRs3RpavWrVKeXl5Kioq0u7du6PW2b17t4qKimRmeuGFFyLLt2/frp49e8rMtHTp0qT2nwBGS3IdfwwBDAAAUB8B3EyHDh1Sz549dfrpp2vjxo1xA3jYsGEyM82bN6/BbZMnT5aZ6f77749aPnv2bJmZRowY0WCdxYsXy8x0xRVXJHUMBDBakuv4YwhgAACA+gjgZpo2bZqysrL0u9/9Tps3b240gKuqqhQKhWRm2rp1a4Pb33rrLZmZhgwZErV88ODBMjM99dRTDdaprq5Wfn6+8vPzVVVV1exjIIDRklzHH0MAAwAA1EcAN8P69euVk5Oj66+/XpLiBvDatWtlZurcuXPMbR04cEBmppKSkqjl4ff6/vnPf4653rnnnisz07p165p9HAQwWpLr+GMIYAAAgPoI4AQdPXpUAwYMUKdOnfS///u/kuIH8EsvvSQz09lnn93oNsOxu2/fPknS3r17ZWYyM+3duzfmOiNHjpSZ6eWXX272sRDAaEmu448hgAEAAOojgBP0wAMPyMy0cOHCyLJ4Afzzn/9cZqYLLrig0W127dpVZqZPPvlEkrRt27ZIAB85ciTmOtdcc43MTE8//fRx9zl8kutPKBQigNFiXMcfQwADAADURwAnYMuWLSosLGzwft14Afyzn/1MZqYLL7yw0e126dIlKoA//vjj4wbw1VdfTQAjrbmOP4YABgAAqI8ATsAVV1yhvLw8bdiwIWo5L4EGGnIdfwwBDAAAUB8BnAAzU3FxsYYMGRI1AwcOlJmpbdu2kWX79++X1PSLYBUXF0ctD38GMBfBQlC5jj+GAAYAAKiPAE5A+FnZpsxnn30m6djnBTflY5AGDx4ctTzexyAdPnxY+fn5CoVCfAwS0pbr+GMIYAAAgPoI4BSI9xJoSaqoqJCZad68eQ1umzx5ssxMs2fPjlo+a9YsmZlGjBjRYJ3FixfLzDRs2LCk9psARktyHX8MAQwAAFAfAZwCxwvgN954Q2am0tJSbdy4MbJ81apVCoVC6tChg3bt2hW1zq5du9ShQweZmV544YXI8h07dqhnz54yM7355ptJ7TcBjJbkOv4YAhgAAKA+AjgFjhfAkjRlyhSZmQoKCjRixAhVVFQoJydHbdq00fPPPx9zneeff15t2rRRVlaWLr74Yo0ePTpywazJkycnvd8EMFqS6/hjCGAAAID6COAUaEoAS9LChQt1zjnnqKCgQEVFRRo6dKiWL18ed50VK1bosssuU3FxsQoKCnTOOefo8ccfT8l+E8BoSa7jjyGAAQAA6iOAPUYAoyW5jj+GAAYAAKiPAPYYAYyW5Dr+GAIYAACgPgLYYwQwWpLr+GMIYAAAgPoIYI8RwGhJruOPIYABAADqI4A9RgCjJbmOP4YABgAAqI8A9hgBjJbkOv4YAhgAAKA+AthjBDBakuv4YwhgAACA+ghgjxHAaEmu448hgAEAAOojgD1GACMZruOOIZIBAAASRQB7jABGMlyHG0MAAwAAJIoA9hgBjGS4DjeGAAYAAEgUAewxAhjJcB1uDAEMAACQKALYYwQwkuE63BgCGAAAIFEEsMcIYCTDdbgxBDAAAECiCGCPEcBIhutwYwhgAACARBHAHiOAkQzX4cYQwAAAAIkigD1GACMZrsONIYABAAASRQB7jABGMlyHG0MAAwAAJIoA9hgBjGS4DjeGAAYAAEgUAewxAhjJcB1uDAEMAACQKALYYwQwkuE63BgCGAAAIFEEsMcIYCTDdbgxBDAAAECiCGCPEcBIhutwYwhgAACARBHAHiOAkQzX4cYQwAAAAIkigD1GACMZrsONIYABAAASRQB7jABGMlyHG0MAAwAAJIoA9hgBjGS4DjeGAAYAAEgUAewxAhjJcB1uDAEMAACQKALYYwQwkuE63BgCGAAAIFEEsMcIYCTDdbgxBDAAAECiCGCPEcBIhutwYwhgAACARBHAHiOAkQzX4cYQwAAAAIkigD1GACMZrsONIYABAAASRQB7jABGPK7DjCGAAQAAUo0A9hgBjHhchxlDAAMAAKQaAewxAhjxuA4zJj0GAAAgkxDAHiOAEY/r8GLSYwAAADIJAewxAhjxuA4vJj0GAAAgkxDAHiOAEY/r8GLSYwAAADIJAewxAhjxuA4vJj0GAAAgkxDAHiOAEY/r8GLSYwAAADIJAewxAhjxuA4vJj0GAAAgkxDAHiOAEY/r8GLSYwAAADIJAewxAhjxuA4vJj0GAAAgkxDAHiOAEY/r8GLSYwAAADIJAewxAhjxuA4vJj0GAAAgkxDAHiOAEY/r8GLSYwAAADIJAewxAhjxuA4vJj0GAAAgkxDAHiOAEY/r8GLSYwAAADIJAewxAhjxuA4vJj0GAAAgkxDAHiOAEY/r8GLSYwAAADIJAewxAhjxuA4vJj0GAAAgkxDAHiOAEY/r8GKCMQAAAEFCAHuMAEY8rsOKCcYAAAAECQHsMQIY8bgOKyYYAwAAECQEsMcIYMTjOqyYYAwAAECQEMAJOnjwoF588UVdf/31+tKXvqT27duroKBAffv21V133aX9+/c3uu6iRYvUv39/tWvXTiUlJaqoqNDKlSvjPt7KlStVUVGhkpIStWvXTv3799cTTzyRkmMhgBGP67BigjEAAABBQgAn6NFHH5WZyczUp08fjRkzRkOHDlX79u1lZjrttNO0Y8eOButNnTpVZqa2bdtqxIgRGjp0qHJycpSdna3FixfHfKzFixcrOztbWVlZGjJkiEaNGqXi4mKZmaZOnZr0sRDAiMd1WDHBGAAAgCAhgBO0aNEi3XTTTdq4cWPU8k8++URnn322zExf//rXo2777W9/KzNTaWlp1HqrVq1SXl6eioqKtHv37qh1du/eraKiIpmZXnjhhcjy7du3q2fPnjIzLV26NKljIYARj+uwYoIxAAAAQUIAp9CqVatkZgqFQqquro4sHzZsmMxM8+bNa7DO5MmTZWa6//77o5bPnj1bZqYRI0Y0WGfx4sUyM11xxRVJ7S8BjHhchxUTjAEAAAgSAjiFDh48GHl59CeffCJJqqqqUigUkplp69atDdZ56623ZGYaMmRI1PLBgwfLzPTUU081WKe6ulr5+fnKz89XVVVVs/eXAEY8rsOKCcYAAAAECQGcQn/84x9lZsrNzdXnn38uSVq7dq3MTJ07d465zoEDB2RmKikpiVoefq/vn//855jrnXvuuTIzrVu3rtn7SwD7zXU4MZkxAAAAQUIAp9DEiRNlZvrXf/3XyLKXXnpJZqazzz670fXCsbtv3z5J0t69eyPPJO/duzfmOiNHjpSZ6eWXX272/hLAfnMdTkxmDAAAQJAQwCny2muvKSsrS7m5uVHPyv785z+XmemCCy5odN2uXbtGvWx627ZtkQA+cuRIzHWuueYamZmefvrp4+5b+CTXn1AoRAB7zHU4MZkxAAAAQUIAp8CGDRtUUlIiM9MDDzwQddvPfvYzmZkuvPDCRtfv0qVLVAB//PHHxw3gq6++mgBGUlyHE5MZAwAAECQEcJK2bt2qbt26ycx06623Nridl0AjXbkOJyYzBgAAIEgI4CTs3LlTp512msxMEyZMUG1tbYP7NPUiWMXFxVHLw58BzEWw0FJchxOTGQMAABAkBHAz7du3LxKh//Zv/6aampqY9zt06FCTPgZp8ODBUcvjfQzS4cOHlZ+fr1AoxMcgodlchxOTGQMAABAkBHAzfP7557rkkktkZho6dKiqq6vj3r+iokJmpnnz5jW4bfLkyTIzzZ49O2r5rFmzZGYaMWJEg3UWL14sM9OwYcOSOg4C2G+uw4nJjAEAAAgSAjhBNTU1uvLKK2Vmuuiii3Tw4MHjrvPGG2/IzFRaWqqNGzdGlq9atUqhUEgdOnTQrl27otbZtWuXOnToIDPTCy+8EFm+Y8cO9ezZU2amN998M6ljIYD95jqcmMwYAACAICGAE/TAAw9ELlB15ZVXavz48TFn586dUetNmTJFZqaCggKNGDFCFRUVysnJUZs2bfT888/HfKznn39ebdq0UVZWli6++GKNHj06csGsyZMnJ30sBLDfXIcTkxkDAAAQJARwgiorKyMBHG82b97cYN2FCxfqnHPOUUFBgYqKijR06FAtX7487uOtWLFCl112mYqLi1VQUKBzzjlHjz/+eEqOhQD2m+twYjJjAAAAgoQA9hgB7DfX4cRkxgAAAAQJAewxAthvrsOJyYwBAAAIEgLYYwSw31yHE5MZAwAAECQEsMcIYL+5DicmMwYAACBICGCPEcB+cx1OTGYMAABAkBDAHiOA/eY6nJjMGAAAgCAhgD1GAPvNdTgxmTEAAABBQgB7jAD2m+twYjJjAAAAgoQA9hgBnNlchxHjxwAAAAQJAewxAjizuQ4jhuk+jUAGAADphQD2GAGc2VyHD8N0n0YAAwCA9EIAe4wAzmyuw4dhuk8jgAEAQHohgD1GAGc21+HDMN2nEcAAACC9EMAeI4Azm+vwYZju0whgAACQXghgjxHAmc11+DBM92kEMAAASC8EsMcI4MzmOnwYpvs0AhgAAKQXAthjBHBmcx0+DNN9GgEMAADSCwHsMQI4s7kOH4bpPo0ABgAA6YUA9hgBnNlchw/DdJ9GAAMAgPRCAHuMAM5srsOHYbpPI4ABAEB6IYA9RgBnNtfhwzDdpxHAAAAgvRDAHiOAM5vr8GGY7tMIYAAAkF4IYI8RwJnNdfgwTPdpBDAAAEgvBLDHCODM5jp8GKb7NAIYAACkFwLYYwRwsLkOG4ZpygAAAKQTAthjBHCwuQ4bhknFAAAAtCYC2GMEcLC5DheGScUAAAC0JgLYYwRwsLkOF4ZJxQAAALQmAthjBHCwuQ4XhknFAAAAtCYC2GMEcLC5DheGScUAAAC0JgLYYwRwsLkOF4ZJxQAAALQmAthjBHCwuQ4XhknFAAAAtCYC2GMEcHpzHSYM0xoDAADQmghgjxHA6c11mDBMawwAAEBrIoA9RgCnN9dhwjCtMQAAAK2JAPYYAZzeXIcJw7TGAAAAtCYC2GMEcHpzHSYM0xoDAADQmghgjxHA6c11mDBMawwAAEBrIoA9RgCnN9dhwjCtMQAAAK2JAPYYAZzeXIcJw7TGAAAAtCYC2GMEcHpzHSYMkw4DAACQSgSwxwjg9OY6PBgmHQYAACCVCGCPEcDpzXV4MEw6DAAAQCoRwB4jgNOb6/BgmHQYAACAVCKAPUYAu+U6LBgmCAMAAJBKBLDHCGC3XIcFwwRhAAAAUokA9hgB7JbrsGCYIAwAAEAqEcAeI4Ddch0WDBOEAQAASCUC2GMEsFuuw4JhgjAAAACpRAB7jAB2y3VYMEwQJtmfIwAAgLoIYI8RwG65DguG8WEAAADqIoA9RgC3LNe/+DMMQwADAIBoBLDHCOCW5foXf4ZhCGAAABCNAPYYAdyyXP/izzAMAQwAAKIRwB4jgFuW61/8GYYhgAEAQDQCOM1VVVVp5syZ6tWrl0KhkMrLyzVhwgRt3bo16W0TwC3L9S/+DMMcfwAAgF8I4DRWVVWlQYMGycxUXl6usWPHasCAATIzde7cWR9++GFS2yeAW5brX+wZhjn+AAAAvxDAaWzGjBkyM51//vnav39/ZPmcOXNkZho8eHBS2yeAk+P6F3eGYZIfAADgFwI4TR0+fFjFxcUyM61Zs6bB7X379pWZ6b333mv2YxDAyXH9izvDMMkPAADwCwGcppYuXSozU48ePWLefvfdd8vMVFlZ2ezH8D2AXf/izTCM+wEAAH4hgNPUvHnzZGYaM2ZMzNtfffVVmZlGjhzZ7McggN3/8s0wTHoPAADILARwmpo6darMTFOnTo15+7p162Rm6tevX7MfI5MD2PUvzQzDZMYAAIDMQgCnqRtuuEFmpunTp8e8fdOmTTIznXrqqcfdVvgk1582bdooFAo1enuQJ7e0G8MwjPNx/X8hwzAMwzDREwqFVFhYmOp8i4sAboKJEyfKzHTnnXfGvH3jxo1JB3B2drYKCwudfxP6MKFQKGP/2JCpwzkL1nC+gjWcr+AN5yxYw/kK3nDOWm8KCwtVVlaW6nyLiwBugtZ4CTRaT/gHDsHBOQsWzlewcL6Ch3MWLJyv4OGcZTYCuAla4yJYaD38pxY8nLNg4XwFCyMG6bYAACAASURBVOcreDhnwcL5Ch7OWWYjgJugqR+DNHPmzFbeMzQH/6kFD+csWDhfwcL5Ch7OWbBwvoKHc5bZCOAmqK6uVlFRkcxMa9asaXB73759ZWZ65513HOwdEsV/asHDOQsWzlewcL6Ch3MWLJyv4OGcZTYCuImmT58uM9OgQYN04MCByPI5c+bIzHThhRc63Dskgv/UgodzFiycr2DhfAUP5yxYOF/BwznLbARwE1VVVWngwIEyM5WXl2vs2LGRf5eWlmrTpk2udxFNxH9qwcM5CxbOV7BwvoKHcxYsnK/g4ZxlNgI4AYcOHdKMGTPUo0cP5eXlqaysTOPHj9eWLVtc7xoAAAAA4DgIYAAAAACAFwhgAAAAAIAXCGAAAAAAgBcIYAAAAACAFwhgAAAAAIAXCGAAAAAAgBcIYAAAAACAFwhgAAAAAIAXCGAAAAAAgBcIYAAAAACAFwhgAAAAAIAXCGAAAAAAgBcIYAAAAACAFwhgAAAAAIAXCGAAAAAAgBcIYAAAAACAFwhgAAAAAIAXCGAAAAAAgBcIYAAAAACAFwhgAAAAAIAXCGAAAAAAgBcIYAAAAACAFwhgAAAAAIAXCGAAAAAAgBcIYAAAAACAFwhgAAAAAIAXCGAAAABo/vz5qqys1G9+8xvXuwIALYYABgAA8NzDDz8sM1OfPn302Wefud4dAGgxBDAAIKYhQ4bIzFRZWel6V+CxCy+8UGam3//+9wmvu3nzZpmZzEybN29O/c61spb6mXz33XeVl5enLl26aMuWLY3e79vf/rbMTAsWLEjp4wNAayKAASCDVFZWRn7hP566cbBw4cIGt6f6l+2FCxeqsrJSy5YtS8n2kPmef/55mZmGDRvWrPV9CuB58+apsrJSa9euTWibn332mU455RR16NBB69evj3vff/zjH5FQPnDgQEKPAwDpggAGgAySygC+9tpr1bt3b82fPz8l+8YzykjE4cOH1bNnT5mZ3nnnnWZtI9MCON7PZPfu3Rv9WW5MbW2thg8frtzcXL355ptNWif8LPBdd93V5McBgHRCAANABkllAKcaAYxEPPPMMzIznXvuuc3eRqYFcDzNCeDmWLt2rcxMpaWl+vzzz1v0sQCgJRDAAJBBCGBkivD3ywMPPNDsbRDALeOMM86QmelnP/tZiz8WAKQaAQwAGaS13gN85MgRPfLIIxoyZIhKS0uVk5Ojjh076tRTT9XYsWOjLpKzcOHCyOM0NvXjpKamRgsWLNAll1yi0tLSyPsOR48efdz3ENfW1urxxx/Xeeedp8LCQnXo0EEDBgzQI488otraWo0fP15mpvHjxzdYt25E7N+/XzNmzNAZZ5yhwsLCqP08fPiwlixZoptvvlnnnHOOTjjhBOXm5qpz58762te+pqefflq1tbUx92/ZsmVR52j9+vUaN26cysvLlZ+fr9NOO00//vGPdeTIkcg6K1as0IgRI3TCCScoFAqpT58+evjhhxt9jLrHcfDgQVVWVuq0005T27ZtVV5erm984xv66KOPIvffuXOnbr/9dvXq1Uv5+fkqKyvTt771LW3fvj3u17qqqkoPPvigBg8erNLSUuXm5qqsrEwjRozQr3/967jrxrNx40aZmbKyso67Dx9//LFuvPFGnXjiicrLy1PXrl31zW9+U5s2bWpSANfU1GjhwoX62te+pi984QvKzc1Vp06d9LWvfU3PPPNMk77G1dXVmj17tvr27auCggJ16NBBl1xySdyvwaFDh/TjH/9Y5513noqLi5WTk6NOnTrpX/7lX3Tdddfp+eefb7BOrJ/Juj/zjU0sy5Yt07hx43TSSScpFAqpQ4cO6t+/v2bNmnXc9/f+8Ic/lJlp8ODBce8HAOmIAAaADNIaAVxTU6OvfvWrUb9gFxUVKRQKxfyl+xe/+IXKysqUm5srM1O7du1UVlYWNXWvPLtnzx5dfPHFke1kZ2eruLhYWVlZkWW33XZbzGOqqanRVVddFblfVlaWSkpK1KZNG5mZvv71rzcpgO+//36deuqpMjPl5eWpuLg4KqLqRqyZKRQKRSI5PGPGjNHRo0cbPEbddV9//XXl5+dHvoZ1j3HcuHGSpEcffVTZ2dnKyspSUVFR1GNMmzYt5tchfBwPPPCA+vbtKzNTfn6+2rZtG1m3vLxcmzdv1t/+9jedcsopMjMVFBQoLy8vcp9evXpp7969MR9j48aN6tWrV9TXuv7+3XTTTTHXPZ6HHnpIZqbevXvHvd8f/vAHlZSURB6vbdu2kfPQoUMHPfvss3EDePv27Ro4cGCD7+W6/x4+fLiqq6sb/RrPnz8/so3c3Nyo74OsrKyYV0zet2+fzjzzzKj7hSM4vKx79+4N1ov1M/njH/9YZWVlke/xDh06NPj5quvIkSOaOHFi1DEWFhYqOzs78u/evXvr73//e6Nf9+XLl0d+Nvft29f4CQKANEQAA0AGaY0AfuqppyJB9dhjj2n//v2Sjj3zumPHDi1evFijRo1q8vbqGzVqVCQ8H3roIR08eFCS9Omnn+r666+P7PN//dd/NVj3Rz/6UeT2W2+9Vf/7v/8rSdq7d6/uvffeSBAfL4ALCwt1wgknaPHixTp8+LAkaevWrZF9+f3vf6+rr75ar732mrZv3x55lnDXrl168MEH1aFDB5mZHnzwwQaPUTeAi4uLddVVV+kf//iHpGNhdMcdd0Ru/9GPfqTc3FzdfPPN2rFjhyRp9+7d+uY3vykzU5s2bfTXv/610eMoLi7WySefrCVLlujo0aOqqanRkiVL1KlTJ5mZxo4dqwEDBuiss87S6tWrJR17dvvZZ59VQUGBzEzTp09vsP3PPvtMJ598ssxMX/7yl/XWW29F3g+6Z88ezZ07NxKCzXkJ8+jRo2Vmuvbaaxu9z759+9StWzeZmbp166YlS5ZEzsPq1avVp0+fyB8uYgVwdXW1+vfvLzNTv3799Nprr0XO74EDB7Ro0SJ94QtfkJnplltuafRrXFJSoq5du+pXv/pV5Hvlgw8+0HnnnRf5XtqzZ0/Uuvfcc4/MTB07dtQLL7wQ+dodPXpU27Zt05NPPqkbbrihwWPG+xlq6kugp0yZIjNTWVmZ/vM//1O7du2SdOy8L1u2TGeffXbkaxLrDzjSsWevw7GezDP9AOACAQwAGaRuANd/Fqj+hCMo0QC+6aabZGa68cYbE9q3pgTw22+/HdmnRx55JOZ9woHcqVMnVVVVRZYfPHgwEp7f+ta3Yq5b9+sTL4Czs7O1Zs2ahI6vrueee05mph49ejS4rW4Af/WrX435EtuLLroocp+JEyc2uL2mpiYSoPfcc0+jx9G2bVtt2rSpwe0LFiyI+j4J/6GgrhkzZjR6DLfddlskfuu+VLuuxYsXR85TY/dpzEknnRR5Jr4xs2bNivyhZMOGDQ1u//TTT6OeHa4fwA8//LDMTH369Gn0Wcz33ntPWVlZysvLi/wBIiz8NQ6FQvrLX/7SYN1//vOfkWf3679XtqKiQmame++9t9HjiyXZAP7jH/+orKwsFRQU6P333495n3379unEE0+UmenFF19sdFt9+vSRmWnmzJkJHQMAuEYAA0AGacr7AWNNIgEcfoZy+PDhCe1bUwJ46tSpMjOdeOKJjT77tGHDhsh+v/zyy5Hl4eAys6j3t9a1b9++yDOb8QL48ssvT+jY6jt06FBkXz755JOo2+oGcGMfPfODH/wgcp+//e1vMe8TfhnrmDFjGj2Ob3zjGzHX/fjjjyPbnzFjRsz7rFixInKfuu8Jra2tVceOHWVmeu2112KuG75f+A8Sv//97xu9X6z1ws8uLlq0qNH7hZ+pvOaaaxq9T91n0+sH8FlnnSUz009+8pO4+xO+4NMvfvGLqOXhr3G8x7/kkktkZrr99tujln/961+Xmenmm2+O+9j1JRvAt9xyS6PfM3V95zvfkZnp3//934+7L7H+QAMA6YwABoAM0hovgV6+fHnkvaqXXXaZnn76aW3btu24j9eUAA4/8xnvpa+S1LVr1wbPPt15552Rl8PGE36MeAHclGfm9u3bp9mzZ2vw4MHq3Llz5D3O9efdd9+NWq9uADf2zOOjjz4aeYlsY6ZPny4z06WXXtrocTz00EMx1z1y5EjMPyLUtWnTpsh9Pv7448jyP/3pT5HlnTt3jvsqg/D7Up999tlGj6O+3bt3R7b/yiuvxLxPdXV1JJJjvcc27I033ogZwPv27YvsW8eOHeMeQ/i8zpo1K2rbx/saS9I111wTMxJ//vOfy+zYe3/HjRunF198UTt37jzu1ybZAD733HNlduxl2fGOuV27djIzVVRUNLqtK6+8UmamESNGHHe/ASCdEMAAkEFa6yrQs2fPjrpYUvhZ229+85taunRpzMdrSgD37t1bZqbvfe97cfc9fNGhus9Qffvb35aZ6bzzzou77rhx444bwI899ljcbfz1r3+NvEw0PAUFBVFBGF7+P//zP1Hr1r8KdCzhK2fHuhBSWPhcDxkypNHjiBdD4X1o7KrajV1BecmSJSl5hUFjPvnkk8h6S5YsiXmfTz/9NHKf3/zmN41u6y9/+UvMYwhfZTqRqf9925SvcbwLrk2ZMiUS4eHp2bOnJk2apPfeey/m9pIN4C5duiR0zLG+t8KuvvpqmZmGDh3a6H0AIB0RwACQQVorgCVp27ZtmjdvnkaOHBm5WFB4Ro8eHbkgUFO3J/1fAN9xxx1x9z0cwHWvMnzjjTfKzHT++efHXTd8lejjfQxSPIMGDZKZ6eSTT9Zzzz0XuZBQWE1NTaOBGfQA/vWvfx1ZfryPKGqO6urqyPYbe+a4bgD/93//d6PbaiyA6y5P5OXZdSUbwNKxZ9nvvfdeVVRURF2wy8w0ZcqUBvdPNoDDf5i57777jnN0x3fZZZfJzHT11VcnvS0AaE0EMABkkNYM4Pref//9qI9XqX8F5EReAt3Ye1fD4r0EOl401n2M5gbwli1bIscYvnJyfXXfY5tpAbx27drI8jfeeKPR7Scj/N7hWFf6lo5Fcvhje+K9BPrNN9+MeQx1X2b96KOPNmsfUxHAdR09elSrV6/WyJEjI/v20ksvRd0n2QAOf/RSvPctN9WAAQMaDXUASGcEMABkEJcBHHbBBRfIzHTFFVdELQ9fECjeVWPDF8Hq2rVroxfBqvvsXd33iNa9CFasz3yVpP379zfpIljxImLlypWRxwl/fE19TzzxRMYG8JEjR457te1khT9C6Lvf/W6j9wlfBCveH0u+//3vN/o9cfrpp8vM9JWvfKVZ+5jqAA6rqamJfLzTd77znajb4v1Mhj/L+fHHH29025MmTZLZsY/HCn98WXN17txZZqaf/vSnSW0HAFobAQwAGaQ1Arix6Au79NJLZdbw4jgjRoyQmWny5MmNrtuUj0EaM2aMzBp+DNKBAwciYRbrM1Ql6e67745sv7kBXPciUG+//XaD2/ft26eePXtmbABL/3c14ZycHC1fvrzRx5DU4OXhTXH77bc3emxh9913n8yOfQzRBx980OD2HTt2RK5WHesYHnjggchtzzzzTMLHkEwAH+9nKPz9U//Z1XgBHH52d+7cuY1ud+3atZEL2MW7wrN07HOBG4vkjz76KPK1i/URUACQzghgAMggrRHAl112mSZMmKDXX39dn332WWT5rl27dM8990R+wa4fsOGrFvfs2TPqqsL1hT/nNy8vT/Pnz9fBgwclHXvfZ92XWMd6eewPf/jDyO3f/e53I+Gyb98+3XfffWrTpk3ks2GbG8C1tbWRZ+j69OkTdcGiVatWqV+/fiotLc3oAN61a5d69OghM1O7du00Z84c/fOf/4zcvmfPHv3617/Wddddp9NPP73RfWjM66+/Htl2TU1NzPvs3bs3ciGyk08+WW+++WbkM5XffvttfelLX4p6X239Y/j8888j7yXPycnR9OnTtWXLlsjtBw8e1LJly/T//t//U3FxcYPHTyaAzzzzTN18881atmxZ1EdMbdu2LfIRRGYN398cL4DDV5weNGiQdu/e3eg+hV9lYXbsvfpr166NfN1qamq0bt063X333TrppJMa/ePGM888I7NjnyENAEFDAANABmmNAA4vD0+HDh0iz7zW/cW6/kuYN27cqPz8fJmZ2rRpo7KyMnXv3l3du3fX1q1bI/fbs2dP1GPk5OSopKQkEtZmpttuuy3mMR05ckSjR4+O3C8cvOH3i1577bW67rrrZGb69re/3WD9pl4E65VXXol8DI/ZsStAh19aXVBQEPXe00wMYOnYs4DhZx3DU1xc3OB7oWfPno3uQ2Oqq6sjL7Ft7ErQkvTuu+9GRW5BQYEKCwtlZmrfvr2effbZuMewc+dOffnLX27w/VxcXBz1/ZaTk9Ng3WQCOLyu2bGPQiouLo589FB4pk6d2mB78QL4d7/7XWSfs7OzVV5eHvn5qqumpibyDH548vPzVVpaGvU9bWZasWJFzOMKf47xLbfc0uixA0C6IoABIIO0RgC///77mjVrloYNG6ZevXqpffv2ys3NVZcuXTR8+HC98MILjT7m6tWrNXz4cJWVlUX9sl0/TmpqarRgwQJdfPHFKikpUW5ursrLyzVq1KhGgy2strZWjz32mAYMGKB27dqpffv2GjhwYOSjjYYPHy4z07Rp0xqs29QAlo4923v55ZeruLhYeXl56tatmyZMmBB5OW6mB7B07A8OTz75pK644gqVl5crNzdX+fn5OuWUU3TllVfq8ccfb9Ln28YSfhn08d4/u2XLFk2cOFFdu3ZVXl6eunbtqvHjx2vTpk1NOoba2lq99NJLGj16tE466SSFQiGFQiGdeOKJqqio0MMPPxzzFQvJBPDq1at111136Stf+Yq++MUvqqCgQHl5eerevbuuuuoq/fa3v425veO9L//111/XpZdeqo4dO0Z9xFIsa9as0Y033qjevXurXbt2ysnJUefOnXXBBRfoP/7jP7Ru3bqY6x04cCDyx54NGzY0euwAkK4IYACAN2prayMvm33yySdd7w7i+Nvf/qbs7Gy1b98+6mXCcGvRokUyM11yySWudwUAmoUABgB4I/zLe05OjrZt2+Z6d3Ac4c92njVrlutdgY59VFOfPn1kZlq1apXr3QGAZiGAAQAZZdy4cXruueeiXnq7fft2/ehHP1JeXp7MTNdff73DPURTbd++XYWFhercuTPPAqeBX/ziFzIzjRkzxvWuAECzEcAAgIxSVFQUdVGkuv82M1100UXau3ev691EE7344ouqrKzUn/70J9e74r2nnnpKlZWV+vvf/+56VwCg2QhgAEBGWbRokcaNG6fevXtHLqDVuXNnffWrX9WCBQt0+PBh17sIAAAcIYABAAAAAF4ggAEAAAAAXiCAAQAAAABeIIABAAAAAF4ggAEAAAAAXiCAAQAAAABeIIDTRFlZmQoLC3X66aczDMMwDMMwDMNk/BQWFqqsrKxVu4sAThOFhYUKhULOvwkZhmEYhmEYhmFaY0KhkAoLC1u1uwjgNBH+JgAAAAAAH7hoIAI4TRDAAAAAAHxCAHuMAAYAAADgEwLYYwQwAAAAAJ8QwB4jgAEAAAD4hAD2GAEMAAAAwCcEsMcIYAAAAAA+IYA9RgADAAAA8AkB7DECGAAAAIBPCOAUq6qq0syZM9WrVy+FQiGVl5drwoQJ2rp1a1Lb3bhxo/Lz82VmGjp0aEr2lQAGAAAA4BMCOIWqqqo0aNAgmZnKy8s1duxYDRgwQGamzp0768MPP2z2ti+55BJlZWURwAAAAADQTARwCs2YMUNmpvPPP1/79++PLJ8zZ47MTIMHD27Wdh977DGZmW688UYCGAAAAACaiQBOkcOHD6u4uFhmpjVr1jS4vW/fvjIzvffeewltd8eOHSopKdGll16qZcuWEcAAAAAA0EwEcIosXbpUZqYePXrEvP3uu++WmamysjKh7V511VXKz8/Xpk2bCGAAAABEdJ/2atwB0BABnCLz5s2TmWnMmDExb3/11VdlZho5cmSTt/naa6/JzHT33XdLEgEMAACACAIYSBwBnCJTp06VmWnq1Kkxb1+3bp3MTP369WvS9g4cOKDu3burd+/eqq6ulkQAAwAA4P8QwEDiCOAUueGGG2Rmmj59eszbN23aJDPTqaee2qTt3XLLLTIzLV26NLKsuQEcPsn1JxQKEcAAAAABRQADiSOAU2TixIkyM915550xb9+4cWOTA/jdd99Vdna2rrvuuqjlBDAAAADCCGAgcQRwiqTqJdBHjhzRWWedpY4dO+qf//xn1G28BBoAAABhBDCQOAI4RVJ1EazNmzfLzHTCCSdoyJAhUXPmmWfKzFRSUqIhQ4bo8ssvT2qfCWAAAIDgIoCBxBHAKdLUj0GaOXNm3O2EA7gpU1RUlNQ+E8AAAADBRQADiSOAU6S6ulpFRUUyM61Zs6bB7X379pWZ6Z133mn2Y/ASaAAAAIQRwEDiCOAUmj59usxMgwYN0oEDByLL58yZIzPThRdeGHX/+fPnq3fv3vre977XpO0TwAAAAAgjgIHEEcApVFVVpYEDB8rMVF5errFjx0b+XVpaqk2bNkXdv7KyUmam8ePHN2n7BDAAAADCjhfABDLQEAGcYocOHdKMGTPUo0cP5eXlqaysTOPHj9eWLVsa3JcABgAAQHMRwEDiCGCPEcAAAADBRQADiSOAPUYAAwAABBcBDCSOAPYYAQwAABBcBDCQOALYYwQwAABAcBHAQOIIYI8RwAAAAMGVbAATyPARAewxAhgAACC4CGAgcQSwxwhgAACA4CKAgcQRwB4jgAEAAIKLAAYSRwB7jAAGAAAILgIYSBwB7DECGAAAIH21dOASwPARAewxAhgAACB9EcBA6hHAHiOAAQAA0hcBDKQeAewxAhgAACB9EcBA6hHAHiOAAQAA0hcBDKQeAewxAhgAACB9EcBA6hHAHiOAAQAA0hcBDKQeAewxAhgAACB9EcBA6hHAHiOAAQAA0hcBDKQeAewxAhgAACB9EcBA6hHAHiOAAQAA0hcBDKQeAewxAhgAACB9EcBA6hHAHiOAAQAA0hcBDKQeAewxAhgAACB9EcBA6hHAHiOAAQAA0hcBDKQeAewxAhgAACB9uQ5gAhmZiAD2GAEMAACQvlwHLgGMTEQAe4wABgAASF+uA5cARiYigD1GAAMAAKQv14FLACMTEcAeI4ABAADSl+vAJYCRiQhgjxHAAAAAbriOVwIYviKAPUYAAwAAuOE6Xglg+IoA9hgBDAAA4IbreCWA4SsC2GMEMAAAgBuu45UAhq8IYI8RwAAAAG64jlcCGL4igD1GAAMAALjhOl4JYPiKAPYYAQwAAOCG63glgOErAthjBDAAAIAbruOVAIavCGCPEcAAAABuuI5XAhm+IoA9RgADAAC44TpOCWD4igD2GAEMAADghus4JYDhKwLYYwQwAACAG67jlACGrwhgjxHAAAAAbriOUwIYviKAPUYAAwAAuOE6Tglg+IoA9hgBDAAA4IbrOCWA4SsC2GMEMAAAgBuu45QAhq8IYI8RwAAAAG64jlMCGL4igD1GAAMAALjhOk4JYPiKAPYYAQwAAOCG6zglgOErAthjBDAAAIAbruOUAIavCGCPEcAAAABuuI5TAhi+IoBTrKqqSjNnzlSvXr0UCoVUXl6uCRMmaOvWrU3expEjR1RZWalhw4bplFNOUWFhoUKhkHr27KlJkybpH//4R0r2lQAGAABww3WcEsDwFQGcQlVVVRo0aJDMTOXl5Ro7dqwGDBggM1Pnzp314YcfNmk7+/fvl5mpsLBQgwYN0ujRozV8+HB169ZNZqaioiL94Q9/SHp/CWAAAAA3XMcpAQxfEcApNGPGDJmZzj//fO3fvz+yfM6cOTIzDR48uEnbOXLkiFasWKEjR45ELa+pqdEdd9whM9PAgQOT3l8CGAAAoGW4js90GCAdEcApcvjwYRUXF8vMtGbNmga39+3bV2am9957L6nHOXLkiPLz82VmOnDgQFLbIoABAABahuv4TIcB0hEBnCJLly6VmalHjx4xb7/77rtlZqqsrEzqcWpqalRQUKA2bdro888/T2pbBDAAAEDLcB2f6TBAOiKAU2TevHkyM40ZMybm7a+++qrMTCNHjmz2Y9TW1uoHP/iBzEyXXnpps7cTRgADAAC0DNfxmQ4DpCMCOEWmTp0qM9PUqVNj3r5u3TqZmfr165fQdm+//XaNHz9eV155pXr06CEz02mnnaaPPvoo6X0mgAEAAFqG6/hMhwHSEQGcIjfccIPMTNOnT495+6ZNm2RmOvXUUxPabjh6w3PGGWdo/fr1CW0jfJLrTygUIoABAABagOv4TIcB0hEBnCITJ06UmenOO++MefvGjRubFcBhO3fu1G9+8xudc845ysnJ0RNPPNHkdQlgAACA1uU6PtNhgHREAKdIS70Eur49e/aoW7duatu2rbZs2ZLUtngJNAAAQMtwHZ/pMEA6IoBTpDUughU2adIkmZkWLFiQ1HYIYAAAgJbhOj7TYYB0RACnSFM/BmnmzJlJP9bMmTNlZrrvvvuS2g4BDAAA0DJcx2c6DJCOCOAUqa6uVlFRkcxMa9asaXB73759ZWZ65513kn6sIUOGyMz03HPPJbUdAhgAAKBluI7PdBggHRHAKTR9+nSZmQYNGqQDBw5Els+ZM0dmpgsvvDDq/vPnz1fv3r31ve99L2r5Sy+9pNdff121tbVRyw8ePKjvf//7MjOdcMIJ2r9/f1L7SwADAAA0j+u4DMIA6YgATqGqqioNHDhQZqby8nKNHTs28u/S0lJt2rQp6v6VlZUyM40fPz7m8i5duujyyy/X1VdfrS9/+cvq2LGjzExFRUV66623kt5fAhgAAKB5XMdlEAZIRwRwih06dEgzZsxQjx49lJeXp7KyMo0fPz7mFZsbC+D169fr1ltvVL1cfgAAIABJREFUVf/+/fWFL3xBOTk5at++vc4++2zdcccd+uSTT1KyrwQwAABA87iOyyAMkI4IYI8RwAAAAM3jOi6DMEA6IoA9RgADAAA0j+u4DMIA6YgA9hgBDAAA0Dyu4zIIA6QjAthjBDAAAEDzuI7LIAyQjghgjxHAAAAAzeM6LoMwQDoigD1GAAMAADSP67gMwgDpiAD2GAEMAADQPK7jMggDpCMC2GMEMAAAQPO4jssgDJCOCGCPEcAAAADN4zougzBAOiKAPUYAAwAANI/ruMyEAVwggD1GAAMAADSP63jMhAFcIIA9RgADAAA0j+t4zIQBXCCAPUYAAwAANI/reMyEAVwggD1GAAMAADSP63jMhAFc8C6Ad+3apSVLlujpp5/WypUrXe6KcwQwAABA87iOx0wYwAVvAnj79u0aO3ascnJy1KZNG7Vp00YTJkyI3P6Tn/xEJSUleuutt1zsnhMEMAAAQPO4jsdMGMCFjArgpUuXat++fQ2W79y5U1/84heVlZWlfv366eabb1ZWVlZUAG/btk05OTma/P/bu/foKOs7j+PfmZAMIBA0xJB2IWjkJhAVFOQisCoi6so9LCpGEHXtyiU9y4IFEqCyerrLIqvd6qFK7apnzx68tNLdVraAItZSNkBFrYC4QgUUC1Uu4RY++4dnZg2ZJJNkJr+Z+b1f53xPT55n5pknPH3ivJOZZ2bOTNTuJR0CGAAAoHFcx2M6DOBCWgXwokWL1LNnT3300UfVls+cOVOBQEDf//73I8vOD2BJ6tOnj6688spE7V7SIYABAAAax3U8psMALqRVAG/atEl5eXnKycnR+vXrI8u7dOlS45uMFsC33XabOnTokKjdSzoEMAAAQOO4jsd0GMCFtApg6euXO992223KysrSz3/+c0lSKBRScXFxtdtFC+AJEyYoFAolcveSCgEMAADQOK7jMR0GcCHtAjjsySef1D/+4z9Kki6++GINHjy42vpoAXzFFVeooKCgOXYvKRDAAAAAjeM6HtNhABfSNoAl6dy5c5KkMWPGKDMzUzt27IisOz+A33rrLQUCAU2ZMqW5ds85AhgAAKBxXMdjOgzgQloHcNjGjRsVDAZ16aWX6r//+79VVVVVLYA3btyoSy65RJmZmaqoqGju3XOGAAYAAGgc1/GYDgO44EUAS9KKFSuUkZGhYDCo7OzsyP926NBBwWBQGRkZ+uEPf+hi15whgAEAABrHdTymwwAueBPAkvSb3/xGo0ePVtu2bRUIBBQIBNSyZUvdfPPNevPNN13tljMEMAAAQOO4jsd0GMAFrwI47Ny5czp06JAOHjyos2fPut4dZwhgAACAxnEdj+kwgAteBPAbb7yhDz/8sN7b7dy5U2+88UYz7FFyIIABAAAax3U8psMALngRwIFAQNOmTav3dtOnT1cwGGyGPUoOBDAAAEDjuI7HdBjABW8C+PzP/I3m3nvvJYABAABQL9fxmA4DuEAAf8OoUaPUrl27Ztij5EAAAwAAROc6Dn0YwIW0DeDnnnsuMoFAQNddd121Zd+cZ555Rn//93+vzMxMXXfddc2xe0mBAAYAAIjOdRwyBDISI20DOBAIKBgMxjyBQECtWrXS2rVrm2P3kgIBDAAAEJ3r+GMIYCRG2gZweXm5Fi1apPLycgUCAV111VVatGhR1PmHf/gH/eQnP9H+/fubY9eSBgEMAAAQnev4YwhgJEbaBvA3FRQUaM6cOc39sEmPAAYAAIjOdfwxBDASw4sARnQEMAAAQHSu448hgJEYBLDHCGAAAIDoXMcfQwAjMdIygKdOnapp06bp4MGDka9jnWnTpiV695IGAQwAABCd6/hjCGAkRloGcPgK0B9++GHk61gnGAwmeveSBgEMAAAQnev4YwhgJEZaBvCGDRu0YcMGVVZWVvs61vEFAQwAABCd6/hjCGAkRloGMGJDAAMAAETnOv4YAhiJQQB7jAAGAACIznX8MQQwEsOLAD5+/Lg++eQTHTt2rNryP//5z5o3b55uvfVWfec739GePXuae9ecIoABAACicx1/DAGMxPAigB9++GEFg0H97ne/iyw7deqUevbsqWAwGLkAVl5eXuTK0T4ggAEAAKJzHX8MAYzE8CKA+/fvr8LCwmrLVq1apUAgoBtuuEGvv/66SktLFQgENHfu3ObePWcIYAAAgOhcxx9DACMxvAjgjh07atSoUdWWjR49WhkZGdq3b19kWY8ePdS7d+/m3j1nCGAAAIDoXMcfQwAjMbwI4FAopDvuuKPastzcXF155ZXVlhUXFys7O7s5d80pAhgAACA61/HHEMBIDC8CuKCgQMOHD498vWPHDgUCAc2aNava7SZNmkQAAwAAwHn8MQQwEsOLAB4zZowyMzO1detWSdK9996rYDCotWvXVrtd37591bNnz+bePWcIYAAAgOhcxx9DACMxvAjgd955RxkZGcrIyNBFF12kQCCgq666SlVVVZHbfPbZZ8rIyNBdd93V3LvnDAEMAAAQnev4YwhgJIYXASxJa9as0bBhw3T55ZdrypQp1S5+JUnLly9X+/bt9fzzz7vYPScIYAAAgOhcxx9DACMxvAlg1EQAAwAAROc6/hgCGIlBAMdZZWWlysrK1LVrV4VCIeXn52vq1Kk1/uJclyNHjuiFF17Q5MmT1bNnT7Vu3Vpt2rRR//799fjjj+v06dNx2VcCGAAAIDrX8ccQwEgM7wL4zJkzOnjwoD755JNap7EqKys1aNAgmZny8/NVXFys/v37y8yUm5ur3bt3x7Sd+fPny8wUDAbVr18/TZo0Sddff71CoZDMTEOGDNHx48cbvZ9hBDAAAEB0ruOPIYCRGN4E8Nq1azVs2DCFQiEFg8FaJyMjo9GPsXDhQpmZBg4cqKNHj0aWL1u2TGamoUOHxrSdRx99VN/73vf0xz/+sdrynTt3qnPnzjIzPfzww43ezzACGAAAIDrX8ccQwEgMLwL4tddeU4sWLRQIBHTRRRfp6quv1vDhw2udxjh9+rTat28vM1NFRUWN9UVFRTIzbdmypUnfy4svvigzU5cuXZq0HYkABgAAqI3r+GMIYCSGFwF89dVXKxgMasWKFTp79mxCHmPdunUyMxUWFkZdv2TJEpmZysvLm/Q47733nsxMWVlZTdqORAADAADUxnX8MQQwEsOLAG7VqpUGDx6c0MdYvny5zEwTJ06Mun7NmjUyM40ZM6ZJj/Paa6/JzNS5c+cmbUcigAEAAGrjOv4YAhiJ4UUA5+bmaty4cQl9jNLSUpmZSktLo67ftm2bzEx9+/Zt0uPceOONMjPNmDGjSduRCGAAAIDauI4/hgBGYngRwJMnT1aXLl1UVVWVsMe47777ZGaaP39+1PW7du2Smalbt26Nfowf/ehHMjO1b99en376acz3Cx/k8ycUChHAAAAAUbiOP4YARmJ4EcB79+5VXl6eZs+enbD3AE+fPl1mpgULFkRdv3PnziYF8IYNG5SVlaVAIKCXX365QfclgAEAABrGdfwxBDASw4sAXrx4se655x4Fg0Fddtllmj59uhYtWqTFixfXmCVLljTqMRL5Eujt27dHrjD9L//yL43av2h4CTQAAEB0ruOPIYCRGF4EcCAQUDAYVCAQqHeCwWCjHiNRF8HavXu3OnbsKDPTokWLGrVvtSGAAQAAonMdfwwBjMTwIoB/8pOfNGgaI9aPQSorK4t5m59++qkuueQSmZlmzZrVqP2qCwEMAAAQnev4YwhgJIYXAdwcTp06pezsbJmZKioqaqwvKiqSmWnz5s0xbe/w4cPq3bu3zExTp07VuXPn4r3LBDAAAEAtXMcfQwAjMQjgOJo/f77MTIMGDdKxY8ciy5ctWyYz05AhQ6rd/oknnlD37t01b968asuPHz+ua6+9Vmam4uLihF24iwAGAACIznX8MQQwEsOrAD5z5oxeeeUVfe9739P999+vZ555JrLu008/1fbt23XmzJlGb7+yslIDBgyQmSk/P1/FxcWRr3NycrRr165qty8vL5eZqaSkpNry2bNny8yUkZGhO+64QyUlJVGnqQhgAADgK9dxxxDIcMObAN6wYYM6deoUuRhWMBjU1KlTI+t/+tOfKhgMavXq1U16nBMnTmjhwoUqLCxUVlaW8vLyVFJSor1799a4bW0BXFJSIjOrd5qKAAYAAL5yHW8MAQw3vAjg3//+92rdurVCoZBKS0u1evVqBQKBagF8/PhxtWnTRpMnT27u3XOGAAYAAL5yHW8MAQw3vAjgCRMmKCMjQ7/+9a8jy84PYEm65ppr1KNHj+bePWcIYAAA4CvX8cYQwHDDiwDOzc3V4MGDqy2LFsDjx49Xu3btmnPXnCKAAQCAr1zHG0MAww0vAjgUCqm4uLjasmgBfNttt+mCCy5ozl1zigAGAAC+ch1vDAEMN7wI4C5duqhPnz7VlkUL4C5dungVhAQwAADwlet4YwhguOFFAN9///0KBoN6+eWXI8vOD+BVq1YpEAhozpw5zb17zhDAAADAV67jjSGA4YYXAfy///u/ateunUKhkBYsWKDf/e53CgQCmjRpkt599119//vfV6tWrdShQwcdOHCguXfPGQIYAAD4ynW8MQQw3PAigCVp48aN6tixY+QzgL85gUBAF198sTZt2uRi15whgAEAgK9cxxtDAMMNbwJYkr766istX75ct956q3r16qUePXroxhtv1GOPPaYjR4642i1nCGAAAOAr1/HGEMBww6sARnUEMAAA8JXreGMIYLhBAHuMAAYAAL5yHW8MAQw3vAjgTZs26ZFHHtGdd96pW265RbfeequmTJmiRx99VO+8805z707SIIABAICvXMcbQwDDjbQO4O3bt6tfv37VLnb1zQkvv/baa/Xee+81124lDQIYAAD4ynW8MQQw3EjbAN68ebPatGmjQCCgNm3aaOLEiVq6dKmefvppPfXUU3rkkUc0YcKEyG3atWunioqK5ti1pEEAAwAAX7mON4YAhhtpGcBnz55V165dFQgENH36dH355Ze13vbLL7/Uvffeq0AgoB49eqiqqirRu5c0CGAAAOAr1/HGEMBwIy0D+KWXXlIgENBf//Vfx3yf4uJiBYNBvfrqqwncs+RCAAMAAF+5jjeGAIYbaRnA99xzjzIyMrRnz56Y7/PRRx8pGAxq6tSpCdyz5EIAAwAAX7mON4YAhhtpGcB9+vRp1Dd1+eWXq6ioKAF7lJwIYAAA4CvX8cYQwHAjLQO4Q4cOGjNmTIPvN2bMGHXo0CEBe5ScCGAAAOAr1/HGEMBwIy0DODMzUyUlJQ2+3913362srKz471CSIoABAICvXMcbQwDDjbQM4EAg0Kj38t5zzz0KBoMJ2KPkRAADAABfuY43hgCGGwTwNxDAAAAAfnAdbwwBDDfSNoCDwWCjxxcEMAAASFeu44whgJGc0jaAGzsEMAAAQOpzHWcMAYzklJYBjNgQwAAAIF25jjPG/QDREMAeI4ABAEC6ch1fjPsBoiGAPUYAAwCAdOU6vhj3A0RDAHuMAAYAAOnKdXwx7geIhgD2GAEMAADSlev4YtwPEA0B7DECGAAApCvX8cW4HyAaAthjBDAAAEhXruOLcT9ANASwxwhgAACQrlzHF+N+gGgIYI8RwAAAIF25ji/G/QDREMAeI4ABAEC6ch1fjPsBoiGAPUYAAwCAdOU6vhj3A0RDAHuMAAYAAOnKdXwx7geIhgD2GAEMAADSlev4YtwPEA0B7DECGAAApCvX8cW4HyAaAthjBDAAAEhXruOLcT9ANASwxwhgAACQrlzHF+N+gGgIYI8RwAAAIF25ji/G/QDREMAeI4ABAEC6ch1fjPsBoiGAPUYAAwCAdOU6vpjkH/iJAPYYAQwAANKV67hikn/gJwLYYwQwAABIV67jikn+gZ8IYI8RwAAAIF25jism+Qd+IoA9RgADAIB05TqumOQf+IkA9hgBDAAA0pXruGKSf+AnAthjBDAAAEhXruOKSf6BnwhgjxHAAAAgXbmOKyb5B34igOOssrJSZWVl6tq1q0KhkPLz8zV16lTt27evQdvZsGGDFi1apFtuuUUdOnSQmal79+5x3VcCGAAApCrX8cSk/sBPBHAcVVZWatCgQTIz5efnq7i4WP3795eZKTc3V7t37455W1dccYXMrNoQwAAAAF9zHU9M6g/8RADH0cKFC2VmGjhwoI4ePRpZvmzZMpmZhg4dGvO25syZo6VLl+r1119XRUUFAQwAAPANruOJSf2BnwjgODl9+rTat28vM1NFRUWN9UVFRTIzbdmypcHb/vjjjwlgAACAb3AdT0zqD/xEAMfJunXrZGYqLCyMun7JkiUyM5WXlzd42wQwAABAda7jiUn9gZ8I4DhZvny5zEwTJ06Mun7NmjUyM40ZM6bB2yaAAQAAqnMdT0zqD/xEAMdJaWmpzEylpaVR12/btk1mpr59+zZ42wQwAABAda7jiUn9gZ8I4Di57777ZGaaP39+1PW7du2Smalbt24N3nZTAzh8kM+fUChEAAMAgJTkOp6Y1B/4iQCOk+nTp8vMtGDBgqjrd+7cSQADAADEiet4YlJ/4CcCOE54CTQAAEDzcR1PTOoP/EQAxwkXwQIAAGg+ruOJSf2BnwjgOIn1Y5DKysoavG0CGAAAoDrX8cSk/sBPBHCcnDp1StnZ2TIzVVRU1FhfVFQkM9PmzZsbvG0CGAAAoDrX8cSk/sBPBHAczZ8/X2amQYMG6dixY5Hly5Ytk5lpyJAh1W7/xBNPqHv37po3b16d2yWAAQAAqnMdT0zqD/xEAMdRZWWlBgwYIDNTfn6+iouLI1/n5ORo165d1W5fXl4uM1NJSUmNba1cuVIDBgzQgAEDdOWVV8rM1LJly8iyAQMG6H/+53+atL8EMAAASFWu44lJ/YGfCOA4O3HihBYuXKjCwkJlZWUpLy9PJSUl2rt3b43b1hXA4XV1zfr165u0rwQwAABIVa7jiUn9gZ8IYI8RwAAAIFW5jicm9Qd+IoA9RgADAIBU5TqemNQf+IkA9hgBDAAAUpXreGJSf+AnAthjBDAAAEhVruOJSf2BnwhgjxHAAAAgWbmOIyb9B34igD1GAAMAgGTlOo4YpmAukZyOCGCPEcAAACBZuQ4fhimYSwCnIwLYYwQwAABIVq7Dh2EK5hLA6YgA9hgBDAAAkpXr8GGYgrkEcDoigD1GAAMAgGTlOnwYpmAuAZyOCGCPEcAAACBZuQ4fhimYSwCnIwLYYwQwAABIVq7Dh2EK5hLA6YgA9hgBDAAAkpXr8GGYgrkEcDoigD1GAAMAgGTlOnwYpmAuAZyOCGCPEcAAACBZuQ4fhimYSwCnIwLYYwQwAABIVq7Dh2EK5hLA6YgA9hgBDAAAkpXr8GGYgrkEcDoigD1GAAMAgGTlOnwYpmAuAZyOCGCPEcAAACBZuQ4fhimYSwCnIwLYYwQwAABIVq7Dh2EK5hLA6YgA9hgBDAAAXHEdNgwTyyD9EMAeI4ABAIArrsOGYeIxSD0EsMcIYAAA4IrrcGGYeAxSDwHsMQIYAAC44jpcGCYeg9RDAHuMAAYAAK64DheGiccg9RDAHiOAAQCAK67DhWHiMUg9BLDHCGAAAOCK63BhmHgMUg8B7DECGAAAuOI6XBgmHoPUQwB7jAAGAACJ4jpMGKY5BqmHAPYYAQwAABLFdZgwTHMMUg8B7DECGAAAJIrrMGGY5hikHgLYYwQwAABIFNdhwjDNMUg9BLDHCGAAAJAorsOEYZpjkHoIYI8RwAAAIFFchwnDNMcg9RDAHiOAAQBAorgOE4ZpjkHqIYA9RgADAIBEcR0mDNMcg9RDAHuMAAYAAIniOkwYJhkGyYcA9hgBDAAAEsV1eDBMMgySDwHsMQIYAAAkiuvwYJhkGCQfAthjBDAAAEgU1+HBMMkwSD4EsMcIYAAA0Fiuw4JhUmGQfAhgjxHAAACgsVyHBcOkwiD5EMAeI4ABAEBjuQ4LhkmFQfIhgD1GAAMAgMZyHRYMkwqD5EMAe4wABgAAjeU6LBgmFQbJhwD2GAEMAAAay3VYMEwqTFPPI8QfAewxAhgAADSW67BgGB8G8UcAe4wABgAAtXH9xJ9hGAI4EQhgjxHAAACgNq6f+DMMQwAnAgHsMQIYAADUxvUTf4ZhCOBEIIA9RgADAIDauH7izzAMAZwIBHCcVVZWqqysTF27dlUoFFJ+fr6mTp2qffv2NXhbR44c0axZs9S5c2dlZWWpc+fOmjlzpo4cORKXfSWAAQBAbVw/8WcYpv5BwxHAcVRZWalBgwbJzJSfn6/i4mL1799fZqbc3Fzt3r075m198cUX6tq1q8xMl156qYqLi9WrVy+ZmS677DJ98cUXTd5fAhgAANTG9RN7hmHqHzQcARxHCxculJlp4MCBOnr0aGT5smXLZGYaOnRozNuaMmWKzEzjxo3TmTNnIstnzJghM9Pdd9/d5P0lgAEA8JPrJ+0Mw8Rn0HAEcJycPn1a7du3l5mpoqKixvqioiKZmbZs2VLvtg4cOKBgMKjMzEwdPHiw2rqTJ08qNzdXGRkZNdY1FAEMAEB6cv2knGGY5hk0HAEcJ+vWrZOZqbCwMOr6JUuWyMxUXl5e77aeffZZmZluuOGGqOunTZsmM9OqVauasMcEMAAAqcr1k26GYZJj0HAEcJwsX75cZqaJEydGXb9mzRqZmcaMGVPvtmbNmiUz05w5c6Kuf/LJJ2Vmmj17dpP2mQAGACA5uX5SzTBMegxqIoDjpLS0VGam0tLSqOu3bdsmM1Pfvn3r3dbYsWNlZlqxYkXU9a+++mrk/cFNQQADAJCcXD9pZhjGj/ERARwn9913n8xM8+fPj7p+165dMjN169at3m2NGDFCZqaVK1dGXb927VqZmW666aaY9i18kM+fYDCoUChU63qGYRiGYdxMZk5nhmEY5+P6Z2EiJhQKqU2bNjF1VLykZQBPnz5dZqYFCxZEXb9z586YA/jGG2+UmenHP/5x1PWvv/56XAI4IyNDbdq0cf5/Qh8mFArxy4YUG45Zag3HK7WG45V6wzFLreF4pd5wzJpv2rRpo7y8vJg6Kl7SMoBT8SXQaD7hEw6pg2OWWjheqYXjlXo4ZqmF45V6OGbpLS0DOBUvgoXmww+11MMxSy0cr9TC8Uo9HLPUwvFKPRyz9JaWARzrxyCVlZXVu61YPwbp2WefbdI+o/nwQy31cMxSC8crtXC8Ug/HLLVwvFIPxyy9pWUAnzp1StnZ2TIzVVRU1FhfVFQkM9PmzZvr3db+/fsVDAaVlZWlzz77rNq6kydPKjc3V8FgUAcOHIjb/iOx+KGWejhmqYXjlVo4XqmHY5ZaOF6ph2OW3tIygCVp/vz5MjMNGjRIx44diyxftmyZzExDhgypdvsnnnhC3bt317x582ps684775SZafz48Tpz5kxk+cyZM2VmuuuuuxL3jSDu+KGWejhmqYXjlVo4XqmHY5ZaOF6ph2OW3tI2gCsrKzVgwACZmfLz81VcXBz5OicnR7t27ap2+/LycpmZSkpKamzr0KFDKiwsjLysetKkSerdu3fk60OHDjXTd4V44Ida6uGYpRaOV2rheKUejllq4XilHo5ZekvbAJakEydOaOHChSosLFRWVpby8vJUUlKivXv31rhtXQEsSYcPH9aMGTPUqVMnZWVlqVOnTnrooYf0pz/9KcHfBQAAAAAgHtI6gAEAAAAACCOAAQAAAABeIIABAAAAAF4ggAEAAAAAXiCAAQAAAABeIIABAAAAAF4ggJG2PvjgAz322GO6/vrrIx9flZeXp7Fjx+rNN99s8PZWrVolM6t1Jk2alIDvIv1UVlaqrKxMXbt2VSgUUn5+vqZOnap9+/Y1eFtHjhzRrFmz1LlzZ2VlZalz586aOXOmjhw5koA998/x48f1yiuvaNq0aerTp4/atm2r1q1bq6ioSIsXL9bRo0cbtL2CgoI6z6EPPvggQd+JP4YNG1bnv/F//dd/NWh7nGOJtX79+jqPV3gWL14c0/Y4x+Jjy5YtevTRRzV27Fh961vfkpkpFArVe7/nnntO11xzjS644AJdeOGFGjVqlDZt2tSofaiqqtLy5cvVu3dvtWzZUh06dNCECRP03nvvNWp76a4hx6yqqkpvvvmm5syZo/79+ys3N1dZWVm69NJL9cADD2jPnj0NfvySkpI6z70f/ehHTf0WEUcEMNLWt7/9bZmZ2rVrpxEjRqi4uFi9e/eWmSkQCGj58uUN2l44gK+44gqVlJTUmH/9139N0HeSPiorKzVo0CCZmfLz81VcXKz+/fvLzJSbm6vdu3fHvK0vvvhCXbt2lZnp0ksvVXFxsXr16iUz02WXXaYvvvgigd+JH1auXBn5j3evXr00ceJEjRw5Um3btpWZqUePHvrss89i3l74yXm086ekpET79+9P4Hfjh3AAjx8/Puq/8e9///uYt8U5lngffPBBrefDXXfdFTn/1q1bF9P2OMfiY/To0TUCpr4ALi0tlZmpVatWGj16tEaOHKkWLVooIyNDL7/8coMe/9y5c5owYYLMTO3bt9f48eM1bNgwBQIBtWrVSu+8805Tvr201JBjtmvXrshtvv3tb2v06NEaO3Zs5Hlj27ZttXHjxgY9fjiAR44cGfXci/UcRvMggJG2RowYoRdffFGnTp2qtvypp56SmSkjI6NBv0kNB3B5eXmc99QfCxculJlp4MCB1f56uGzZMpmZhg4dGvO2pkyZIjPTuHHjdObMmcjyGTNmyMx09913x3XfffTcc8/pwQcf1M6dO6st379/v6666iqZmSZPnhzz9sJPzpE44QD++OOPm7wtzjG3/vM//1Nmpk6dOqmqqiqm+3COxcdjjz2msrIyvfbaazp48GC9AfzrX/9aZqacnJxqPy/ffvttZWVlKTs7W4cPH4758Z/wBfANAAAMsUlEQVR55hmZmbp27aqDBw9Glq9evVpmpsLCwmrnJBp2zHbv3q2RI0fqjTfeqLb85MmTuueee2Rm6ty5s06fPh3z44cDeP369U35NtBM+CkJL910000yMy1atCjm+xDATXP69Gm1b99eZqaKiooa64uKimRm2rJlS73bOnDggILBoDIzM6s9OZC+/g9Ybm6uMjIyaqxD/Lz99tuRJxjn/5KpNjw5T7x4BTDnmHt33HGHzEzz5s2L+T6cY4lRXwDfcsstMrOoryybOXOmzEz/9E//FPPjXX755TIzvfLKKzXW3X777TIzrV69Oubt+SjWl62fr7KyUtnZ2TIzbdiwIeb7EcCphZ+S8NKcOXNkZrr//vtjvg8B3DTr1q2L/OY6miVLlsT87/vss8/KzHTDDTdEXT9t2jSZmVatWtWEPUZdjh8/HnkJWawvq+TJeeLFK4A5x9w6duyYLrjgApmZduzYEfP9OMcSo66YqqysVCgUkplFvZbFm2++KTPTsGHDYnqsPXv2RF5KHe0vkD/96U8jL3NH7RobwJJ0zTXXyMz04osvxnwfAji18FMSXho/frzMTGVlZTHfJxzAt912m/7u7/5O999/v8rKyhr0G0KfLV++XGamiRMnRl2/Zs0amZnGjBlT77ZmzZolM9OcOXOirn/yySdlZpo9e3aT9hm1e/fdd2VmyszM1MmTJ2O6T/jJ+Q9+8AM98MADmjlzpp5++ml9/vnnCd5bf4QDeMGCBXrwwQf1t3/7t1qxYoU++eSTBm2Hc8ytcORcddVVDbof51hi1BVTW7dujVzHIppjx47JzHThhRfG9FivvPKKzEzXXHNN1PU7duyQmenKK6+Mbec91dgAPnv2rC6++OIGvfde+v8AnjFjhh566CE9+OCD+sEPfsCF55IUAQzv7N69O/Lb2lhebhtW11Wghw0bxksB6xG+QEhpaWnU9du2bZOZqW/fvvVua+zYsTIzrVixIur6V199NfLeRSTG9OnTZWb6q7/6q5jvU9sValu3bq0f//jHCdxbf9R2FejMzEwtWbIk5u1wjrkVfpvOP//zPzfofpxjiVFXTP3sZz+r95cV4bf/fPXVV/U+1ooVK2RmGjt2bNT1f/7zn2Vmuuiii2LbeU81NoCff/75yC80Yv3lrlT7VaADgYC+853v8J7tJEMAwytnzpzRkCFDZNbwjy365S9/qUWLFmnr1q368ssvdfDgQf385z9Xjx49ZGbq16+fzp49m6A9T3333XefzEzz58+Puj58VcZu3brVu60RI0bIzLRy5cqo69euXSsz00033dSkfUZ0v/jFLxQIBJSZmalt27bFfL8ZM2bo5Zdf1ieffKITJ05ox44d+u53v6uMjIxa3++Ghlm4cKH+7d/+TR999JFOnDihDz/8UEuXLlWrVq1kZnr88cdj2g7nmDsHDhxQRkaGMjIydODAgQbdl3MsMeqKqRdeeEFmpsGDB9d6//DVhWN5u8jSpUtlZrrzzjujrj9z5ozMTFlZWbHtvKcaE8B79+5Vhw4dZNbwjy16/PHH9dRTT2nnzp06ceKE9uzZox/+8Ie68MILebVMEiKAkbTGjx+v7t27N2h++9vf1rnNv/mbv5HZ1x/p8ac//Sku+3n06FF169ZNZqYXXnghLttMR+G/GC5YsCDq+p07d8YcwDfeeKPMrNa/aLz++us8OU+Q999/P/If9Fhjqj5PP/10zMcejfOrX/1KZqbs7GydOHGi3ttzjrkTvir+zTffHLdtco41TV0xFf6L4ZAhQ2q9f/hzaWMJ4EceeURmprvuuivqegI4Ng0N4GPHjqlfv34xvxUrVu+++66ysrKUkZGhvXv3xm27aBoCGEkr/IOoIVPXxQcWL14sM1NeXp527doV130Nvx+OjwWpHS+BTn379u1T586dZWb67ne/G7ftVlVVRd5ztWfPnrhtF9VdffXVMb+vjXPMnfBHjMXzF6qcY03DS6BTT0MC+PTp0xo5cmTkFxmx/JKwIcKf6fzss8/GdbtoPAIYXggHanZ2trZu3Rr37Yf/ujJixIi4bztdcBGs1Hbo0KHIy/2nTp2qc+fOxXX7AwcOlJlp06ZNcd0u/t/kyZNjDivOMTfef/99mZnatGmj48ePx3XbnGONV1dMxXoRrPbt28f0WFwEKz5iDeCqqioVFxfLzHTFFVfoyJEjcd+Xhx9+WGampUuXxn3baBwCGGnv+eefVyAQUOvWrfXWW28l5DH+/d//vc7f2CL2j0GK5crcsX5EC79tjY+vvvoq8tfDcePGJeS97uG43r59e9y3ja/dfPPNMjP97Gc/q/e2nGNuhJ8oJ+LVRJxjjVdXTJ04cSKmj0EaOnRoTI8V68cg8YqzusUawA888EDk7QGfffZZQvYl/Pa72l5Rg+ZHACOt/eIXv1CLFi2UlZWlX/3qVwl7nIkTJ8rM9MgjjyTsMVLdqVOnIh8uX1FRUWN9UVGRzEybN2+ud1v79+9XMBhUVlZWjf9gnTx5Urm5uQoGgw2+gAxqOnnypP7yL/9SZqaRI0fq1KlTcX+MHTt2RH5JlYjtQ/r8888jnysb7Un6+TjHmt+5c+ciV3Feu3ZtXLfNOdY09cXUqFGjZGZavnx5jXUzZ86U2dcfTRWrnj171nrRsttvv11mpv/4j/+IeXs+iiWAw79w6ty5c4M/Ki5WJ0+eVKdOnWRmCfsjDBqOAEbaeuutt9SqVSu1aNGiQVe+DF9Q649//GO15StWrNDRo0erLTt9+rQWLVoU+W3t+fdBdfPnz5eZadCgQTp27FhkefiiL+dfROSJJ55Q9+7dNW/evBrbuvPOO2VmGj9+fLWPFwg/2ajtAiKI3dmzZyPvBb3uuutieklmbcfsl7/8ZdSPHdu+fXvkyd7MmTPjtu8++s1vfqN169bVeHn6xx9/rMGDB8vMdPvtt1dbxzmWPN544w2Zmb71rW+pqqqq1ttxjjW/+mIqfFX0nJwc7dy5M7L87bffVigUUrt27WpcePO3v/2tunfvruuvv77G9lauXCkzU9euXav9Auqll16SmemSSy6J+tdh/L/6jln4eUfHjh2rHbO61HbM/vCHP+jVV1+t8eqozz//XGPGjIm8vDrebx1C4xHASFvhi05ccsklKikpiTrRPuIjfEGtjz/+uMbyVq1aqV+/fho3bpxuueWWyJUdW7ZsqZdeeqmZvrPUVVlZqQEDBsjMlJ+fr+Li4sjXOTk5NS5OVl5eLjNTSUlJjW0dOnRIhYWFkZdVT5o0Sb179458fejQoWb6rtLX448/Hjkfxo4dW+t59M1/69qOWXh5QUGBrr/+ek2aNEn9+/dXixYtZPb1Z2nH+z2Pvgl/Vnl+fr6GDRumSZMmafDgwWrZsqXMTL169arx11zOseQR/qi42t53HcY5lnhr1qzRgAEDImP29ee5fnPZmjVrqt0n/L751q1ba/To0Ro1apRatGihYDCo1atX13iM9evXR47X+aqqqiK/fLzwwgs1YcIEDR8+XIFAQC1btuR93FE05Jht3bpVgUBAZqaBAwfW+t+2jRs3VnuM2o5ZeHlOTo4GDx6s4uJiDR8+XG3btpWZ6S/+4i/04YcfNtc/BWJAACNthZ+41zXRnvTVFsBlZWUaMWKEOnXqpFatWqlly5a67LLL9MADD+gPf/hD83xTaeDEiRNauHChCgsLlZWVpby8PJWUlET9eIC6npxL0uHDhzVjxgx16tRJWVlZ6tSpkx566KG4fcSV78L//vXNN8+V2o7Z22+/rWnTpqlPnz7KyclRixYtdNFFF2n48OFauXIln6EdB++//74efPBB9e3bV7m5uWrRooWys7N17bXXatmyZVGvbMo5lhxOnjwZ+Xix+t6jyzmWeOFfJtU1q1atinq/fv36qXXr1srOztbIkSNrRFRYXQEsff0KnGXLlqlXr15q2bKlcnJyNG7cOO3YsSOO32n6aMgxC//bN/QY13bMPv30U82ePVvXXnutOnbsqMzMTLVp00Z9+/ZVeXm5Dh8+3Dz/CIgZAQwAAAAA8AIBDAAAAADwAgEMAAAAAPACAQwAAAAA8AIBDAAAAADwAgEMAAAAAPACAQwAAAAA8AIBDAAAAADwAgEMAAAAAPACAQwAAAAA8AIBDAAAAADwAgEMAAAAAPACAQwAAAAA8AIBDAAAAADwAgEMAAAAAPACAQwAAAAA8AIBDAAAAADwAgEMAAAAAPACAQwAAAAA8AIBDAAAAADwAgEMAAAAAPACAQwAAAAA8AIBDAAAAADwAgEMAAAAAPACAQwAAAAA8AIBDAAAAADwAgEMAAAAAPACAQwAAAAA8ML/AVtoXPeUGlvZAAAAAElFTkSuQmCC\" width=\"640\">"
      ],
      "text/plain": [
       "<IPython.core.display.HTML object>"
      ]
     },
     "metadata": {},
     "output_type": "display_data"
    }
   ],
   "source": [
    "fig, axes = plt.subplots(2, 1, sharex='col')\n",
    "# fig, axes = plt.subplots(2, 1) # alternative identique à la figure d'avant\n",
    "\n",
    "axes[0].hist(a, bins=40, density=False)\n",
    "plt.title('Histogramme (effectifs)')\n",
    "plt.ylabel('Effectifs')\n",
    "\n",
    "\n",
    "axes[1].hist(a + 10, bins=40, density=True)\n",
    "plt.title('Histogramme (densité)')\n",
    "plt.ylabel('Densité')\n",
    "\n",
    "plt.tight_layout()"
   ]
  },
  {
   "cell_type": "markdown",
   "metadata": {},
   "source": [
    "#### `diag`"
   ]
  },
  {
   "cell_type": "code",
   "execution_count": 38,
   "metadata": {
    "collapsed": false
   },
   "outputs": [
    {
     "data": {
      "text/plain": [
       "array([[1, 0, 0],\n",
       "       [0, 2, 0],\n",
       "       [0, 0, 3]])"
      ]
     },
     "execution_count": 38,
     "metadata": {},
     "output_type": "execute_result"
    }
   ],
   "source": [
    "# une matrice diagonale\n",
    "np.diag([1,2,3])"
   ]
  },
  {
   "cell_type": "code",
   "execution_count": 39,
   "metadata": {
    "collapsed": false
   },
   "outputs": [
    {
     "data": {
      "text/plain": [
       "array([[0, 1, 0, 0],\n",
       "       [0, 0, 2, 0],\n",
       "       [0, 0, 0, 3],\n",
       "       [0, 0, 0, 0]])"
      ]
     },
     "execution_count": 39,
     "metadata": {},
     "output_type": "execute_result"
    }
   ],
   "source": [
    "# une matrice diagonale avec décalage par rapport à la diagonale principale\n",
    "np.diag([1,2,3], k=1)"
   ]
  },
  {
   "cell_type": "markdown",
   "metadata": {},
   "source": [
    "#### `zeros`, `ones` et  `full`"
   ]
  },
  {
   "cell_type": "code",
   "execution_count": 40,
   "metadata": {
    "collapsed": false
   },
   "outputs": [
    {
     "data": {
      "text/plain": [
       "array([0, 0, 0])"
      ]
     },
     "execution_count": 40,
     "metadata": {},
     "output_type": "execute_result"
    }
   ],
   "source": [
    "np.zeros((3,), dtype=int)  # attention zeros(3,3) est FAUX"
   ]
  },
  {
   "cell_type": "code",
   "execution_count": 41,
   "metadata": {
    "collapsed": false
   },
   "outputs": [
    {
     "name": "stdout",
     "output_type": "stream",
     "text": [
      "float64\n",
      "int64\n"
     ]
    }
   ],
   "source": [
    "zero_mat_float = np.zeros((3,4))\n",
    "print(zero_mat_float.dtype)\n",
    "print(np.zeros((3,), dtype=int).dtype)"
   ]
  },
  {
   "cell_type": "code",
   "execution_count": 42,
   "metadata": {
    "collapsed": false
   },
   "outputs": [
    {
     "data": {
      "text/plain": [
       "array([[1., 1., 1.],\n",
       "       [1., 1., 1.],\n",
       "       [1., 1., 1.]])"
      ]
     },
     "execution_count": 42,
     "metadata": {},
     "output_type": "execute_result"
    }
   ],
   "source": [
    "np.ones((3,3))"
   ]
  },
  {
   "cell_type": "code",
   "execution_count": 43,
   "metadata": {
    "collapsed": false
   },
   "outputs": [
    {
     "name": "stdout",
     "output_type": "stream",
     "text": [
      "[0 0 0]\n",
      "[[0 0 0]]\n",
      "[[0]\n",
      " [0]\n",
      " [0]]\n"
     ]
    }
   ],
   "source": [
    "print(np.zeros((3,), dtype=int))\n",
    "print(np.zeros((1, 3), dtype=int))\n",
    "print(np.zeros((3, 1), dtype=int))"
   ]
  },
  {
   "cell_type": "code",
   "execution_count": 44,
   "metadata": {
    "collapsed": false
   },
   "outputs": [
    {
     "data": {
      "text/plain": [
       "array([[9, 9, 9, 9],\n",
       "       [9, 9, 9, 9],\n",
       "       [9, 9, 9, 9],\n",
       "       [9, 9, 9, 9],\n",
       "       [9, 9, 9, 9]])"
      ]
     },
     "execution_count": 44,
     "metadata": {},
     "output_type": "execute_result"
    }
   ],
   "source": [
    "np.full((5,4), 9)"
   ]
  },
  {
   "cell_type": "markdown",
   "metadata": {},
   "source": [
    "##  Fichiers d'Entrées/Sorties (E/S)"
   ]
  },
  {
   "cell_type": "markdown",
   "metadata": {},
   "source": [
    "### Fichiers séparés par des virgules (CSV)\n",
    "\n",
    "Un format fichier classique est le format CSV (Comma-Separated Values).\n",
    "Pour lire de tels fichiers on peut utiliser `numpy.genfromtxt`, mais on utilisera surtout le module `pandas` par la suite pour cela."
   ]
  },
  {
   "cell_type": "markdown",
   "metadata": {},
   "source": [
    "A l'aide de `numpy.savetxt` on peut enregistrer un *array* `numpy` dans un fichier txt:"
   ]
  },
  {
   "cell_type": "code",
   "execution_count": 45,
   "metadata": {
    "collapsed": false
   },
   "outputs": [
    {
     "name": "stdout",
     "output_type": "stream",
     "text": [
      "[[0.12843094 0.92549805 0.2476814 ]\n",
      " [0.36774804 0.80627121 0.55177599]\n",
      " [0.78544591 0.93278414 0.93175008]]\n"
     ]
    }
   ],
   "source": [
    "M = random.rand(3,3)\n",
    "print(M)\n",
    "np.savetxt(\"random-matrix.txt\", M)  # regader dans votre dossier, un nouveau fichier est apparu"
   ]
  },
  {
   "cell_type": "code",
   "execution_count": 46,
   "metadata": {
    "collapsed": false
   },
   "outputs": [
    {
     "name": "stdout",
     "output_type": "stream",
     "text": [
      "[[0.12843094 0.92549805 0.2476814 ]\n",
      " [0.36774804 0.80627121 0.55177599]\n",
      " [0.78544591 0.93278414 0.93175008]]\n"
     ]
    }
   ],
   "source": [
    "MM = np.genfromtxt('random-matrix.txt') # on peut alors générer un array depuis un fichier texte\n",
    "print(MM)"
   ]
  },
  {
   "cell_type": "markdown",
   "metadata": {},
   "source": [
    "### Format de fichier `numpy` natif (`.npy`)\n",
    "\n",
    "Pour sauvegarder et recharger des *array* `numpy` : `numpy.save` et `numpy.load` :"
   ]
  },
  {
   "cell_type": "code",
   "execution_count": 47,
   "metadata": {
    "collapsed": false
   },
   "outputs": [
    {
     "name": "stdout",
     "output_type": "stream",
     "text": [
      "�NUMPY\u0001\u0000v\u0000{'descr': '<f8', 'fortran_order': False, 'shape': (3, 3), }                                                          \r\n",
      "�(�lp�?���\u0017���?@��0\u0006��?*\t�\u000f/��?c�\u0010I���?\u000e�Z\u001f&��?�G\u0015x_\"�?ojX\u001f^��?Z�(����?"
     ]
    }
   ],
   "source": [
    "np.save(\"random-matrix.npy\", M)\n",
    "!cat random-matrix.npy"
   ]
  },
  {
   "cell_type": "code",
   "execution_count": 48,
   "metadata": {
    "collapsed": false
   },
   "outputs": [
    {
     "data": {
      "text/plain": [
       "array([[0.12843094, 0.92549805, 0.2476814 ],\n",
       "       [0.36774804, 0.80627121, 0.55177599],\n",
       "       [0.78544591, 0.93278414, 0.93175008]])"
      ]
     },
     "execution_count": 48,
     "metadata": {},
     "output_type": "execute_result"
    }
   ],
   "source": [
    "N = np.load(\"random-matrix.npy\")\n",
    "N"
   ]
  },
  {
   "cell_type": "markdown",
   "metadata": {},
   "source": [
    "## Autres propriétés des *arrays* `numpy`"
   ]
  },
  {
   "cell_type": "code",
   "execution_count": 49,
   "metadata": {
    "collapsed": false
   },
   "outputs": [
    {
     "data": {
      "text/plain": [
       "array([[0.12843094, 0.92549805, 0.2476814 ],\n",
       "       [0.36774804, 0.80627121, 0.55177599],\n",
       "       [0.78544591, 0.93278414, 0.93175008]])"
      ]
     },
     "execution_count": 49,
     "metadata": {},
     "output_type": "execute_result"
    }
   ],
   "source": [
    "M"
   ]
  },
  {
   "cell_type": "code",
   "execution_count": 50,
   "metadata": {
    "collapsed": false
   },
   "outputs": [
    {
     "data": {
      "text/plain": [
       "dtype('float64')"
      ]
     },
     "execution_count": 50,
     "metadata": {},
     "output_type": "execute_result"
    }
   ],
   "source": [
    "M.dtype"
   ]
  },
  {
   "cell_type": "code",
   "execution_count": 51,
   "metadata": {
    "collapsed": false
   },
   "outputs": [
    {
     "data": {
      "text/plain": [
       "8"
      ]
     },
     "execution_count": 51,
     "metadata": {},
     "output_type": "execute_result"
    }
   ],
   "source": [
    "M.itemsize # octets par élément"
   ]
  },
  {
   "cell_type": "code",
   "execution_count": 52,
   "metadata": {
    "collapsed": false
   },
   "outputs": [
    {
     "data": {
      "text/plain": [
       "72"
      ]
     },
     "execution_count": 52,
     "metadata": {},
     "output_type": "execute_result"
    }
   ],
   "source": [
    "M.nbytes # nombre d'octets"
   ]
  },
  {
   "cell_type": "code",
   "execution_count": 53,
   "metadata": {
    "collapsed": false
   },
   "outputs": [
    {
     "data": {
      "text/plain": [
       "8.0"
      ]
     },
     "execution_count": 53,
     "metadata": {},
     "output_type": "execute_result"
    }
   ],
   "source": [
    "M.nbytes / M.size"
   ]
  },
  {
   "cell_type": "code",
   "execution_count": 54,
   "metadata": {
    "collapsed": false
   },
   "outputs": [
    {
     "data": {
      "text/plain": [
       "2"
      ]
     },
     "execution_count": 54,
     "metadata": {},
     "output_type": "execute_result"
    }
   ],
   "source": [
    "M.ndim # nombre de dimensions"
   ]
  },
  {
   "cell_type": "code",
   "execution_count": 55,
   "metadata": {
    "collapsed": false
   },
   "outputs": [
    {
     "name": "stdout",
     "output_type": "stream",
     "text": [
      "1\n",
      "2\n",
      "2\n"
     ]
    }
   ],
   "source": [
    "print(np.zeros((3,), dtype=int).ndim)\n",
    "print(np.zeros((1, 3), dtype=int).ndim)\n",
    "print(np.zeros((3, 1), dtype=int).ndim)"
   ]
  },
  {
   "cell_type": "markdown",
   "metadata": {},
   "source": [
    "## Manipulation d'*arrays*"
   ]
  },
  {
   "cell_type": "markdown",
   "metadata": {},
   "source": [
    "### Indexation"
   ]
  },
  {
   "cell_type": "code",
   "execution_count": 56,
   "metadata": {
    "collapsed": false
   },
   "outputs": [
    {
     "data": {
      "text/plain": [
       "1"
      ]
     },
     "execution_count": 56,
     "metadata": {},
     "output_type": "execute_result"
    }
   ],
   "source": [
    "# v est un vecteur, il n'a qu'une seule dimension -> un seul indice\n",
    "v[0]"
   ]
  },
  {
   "cell_type": "code",
   "execution_count": 57,
   "metadata": {
    "collapsed": false
   },
   "outputs": [
    {
     "data": {
      "text/plain": [
       "0.8062712122968886"
      ]
     },
     "execution_count": 57,
     "metadata": {},
     "output_type": "execute_result"
    }
   ],
   "source": [
    "# M est une matrice, ou un array à 2 dimensions -> deux indices \n",
    "M[1,1]"
   ]
  },
  {
   "cell_type": "markdown",
   "metadata": {},
   "source": [
    "Contenu complet :"
   ]
  },
  {
   "cell_type": "code",
   "execution_count": 58,
   "metadata": {
    "collapsed": false
   },
   "outputs": [
    {
     "data": {
      "text/plain": [
       "array([[0.12843094, 0.92549805, 0.2476814 ],\n",
       "       [0.36774804, 0.80627121, 0.55177599],\n",
       "       [0.78544591, 0.93278414, 0.93175008]])"
      ]
     },
     "execution_count": 58,
     "metadata": {},
     "output_type": "execute_result"
    }
   ],
   "source": [
    "M"
   ]
  },
  {
   "cell_type": "markdown",
   "metadata": {},
   "source": [
    "La deuxième ligne :"
   ]
  },
  {
   "cell_type": "code",
   "execution_count": 59,
   "metadata": {
    "collapsed": false
   },
   "outputs": [
    {
     "data": {
      "text/plain": [
       "array([0.36774804, 0.80627121, 0.55177599])"
      ]
     },
     "execution_count": 59,
     "metadata": {},
     "output_type": "execute_result"
    }
   ],
   "source": [
    "M[1]"
   ]
  },
  {
   "cell_type": "markdown",
   "metadata": {},
   "source": [
    "On peut aussi utiliser `:` "
   ]
  },
  {
   "cell_type": "code",
   "execution_count": 60,
   "metadata": {
    "collapsed": false
   },
   "outputs": [
    {
     "data": {
      "text/plain": [
       "array([0.36774804, 0.80627121, 0.55177599])"
      ]
     },
     "execution_count": 60,
     "metadata": {},
     "output_type": "execute_result"
    }
   ],
   "source": [
    "M[1,:] # 2 ème ligne (indice 1)"
   ]
  },
  {
   "cell_type": "code",
   "execution_count": 61,
   "metadata": {
    "collapsed": false
   },
   "outputs": [
    {
     "data": {
      "text/plain": [
       "array([0.92549805, 0.80627121, 0.93278414])"
      ]
     },
     "execution_count": 61,
     "metadata": {},
     "output_type": "execute_result"
    }
   ],
   "source": [
    "M[:,1] # 2 ème colonne (indice 1)"
   ]
  },
  {
   "cell_type": "code",
   "execution_count": 62,
   "metadata": {
    "collapsed": false
   },
   "outputs": [
    {
     "name": "stdout",
     "output_type": "stream",
     "text": [
      "(3, 3)\n",
      "(3,) (3,)\n"
     ]
    }
   ],
   "source": [
    "print(M.shape)\n",
    "print(M[1,:].shape, M[:,1].shape)"
   ]
  },
  {
   "cell_type": "markdown",
   "metadata": {},
   "source": [
    "On peut assigner des nouvelles valeurs à certaines cellules :"
   ]
  },
  {
   "cell_type": "code",
   "execution_count": 63,
   "metadata": {
    "collapsed": false
   },
   "outputs": [],
   "source": [
    "M[0,0] = 1"
   ]
  },
  {
   "cell_type": "code",
   "execution_count": 64,
   "metadata": {
    "collapsed": false
   },
   "outputs": [
    {
     "data": {
      "text/plain": [
       "array([[1.        , 0.92549805, 0.2476814 ],\n",
       "       [0.36774804, 0.80627121, 0.55177599],\n",
       "       [0.78544591, 0.93278414, 0.93175008]])"
      ]
     },
     "execution_count": 64,
     "metadata": {},
     "output_type": "execute_result"
    }
   ],
   "source": [
    "M"
   ]
  },
  {
   "cell_type": "code",
   "execution_count": 65,
   "metadata": {
    "collapsed": false
   },
   "outputs": [
    {
     "data": {
      "text/plain": [
       "array([[ 1.        ,  0.92549805,  0.2476814 ],\n",
       "       [-1.        , -1.        , -1.        ],\n",
       "       [ 0.78544591,  0.93278414,  0.93175008]])"
      ]
     },
     "execution_count": 65,
     "metadata": {},
     "output_type": "execute_result"
    }
   ],
   "source": [
    "# on peut aussi assigner des lignes ou des colonnes\n",
    "M[1,:] = -1\n",
    "M"
   ]
  },
  {
   "cell_type": "code",
   "execution_count": 66,
   "metadata": {
    "collapsed": false
   },
   "outputs": [
    {
     "data": {
      "text/plain": [
       "array([[1.        , 0.92549805, 0.2476814 ],\n",
       "       [1.        , 2.        , 3.        ],\n",
       "       [0.78544591, 0.93278414, 0.93175008]])"
      ]
     },
     "execution_count": 66,
     "metadata": {},
     "output_type": "execute_result"
    }
   ],
   "source": [
    "M[1,:] = [1, 2, 3]\n",
    "M"
   ]
  },
  {
   "cell_type": "markdown",
   "metadata": {},
   "source": [
    "## *Slicing* ou accès par tranches\n",
    "\n",
    "Le *Slicing* fait référence à la syntaxe `M[start:stop:step]` pour extraire une partie d'un *array* :"
   ]
  },
  {
   "cell_type": "code",
   "execution_count": 67,
   "metadata": {
    "collapsed": false
   },
   "outputs": [
    {
     "data": {
      "text/plain": [
       "array([1, 2, 3, 4, 5])"
      ]
     },
     "execution_count": 67,
     "metadata": {},
     "output_type": "execute_result"
    }
   ],
   "source": [
    "A = np.array([1,2,3,4,5])\n",
    "A"
   ]
  },
  {
   "cell_type": "code",
   "execution_count": 68,
   "metadata": {
    "collapsed": false
   },
   "outputs": [
    {
     "data": {
      "text/plain": [
       "array([2, 3])"
      ]
     },
     "execution_count": 68,
     "metadata": {},
     "output_type": "execute_result"
    }
   ],
   "source": [
    "A[1:3]"
   ]
  },
  {
   "cell_type": "markdown",
   "metadata": {},
   "source": [
    "Les tranches sont modifiables :"
   ]
  },
  {
   "cell_type": "code",
   "execution_count": 69,
   "metadata": {
    "collapsed": false
   },
   "outputs": [
    {
     "data": {
      "text/plain": [
       "array([ 1, -2, -3,  4,  5])"
      ]
     },
     "execution_count": 69,
     "metadata": {},
     "output_type": "execute_result"
    }
   ],
   "source": [
    "A[1:3] = [-2,-3]\n",
    "A"
   ]
  },
  {
   "cell_type": "markdown",
   "metadata": {},
   "source": [
    "On peut omettre n'importe lequel des argument dans `M[start:stop:step]`:"
   ]
  },
  {
   "cell_type": "code",
   "execution_count": 70,
   "metadata": {
    "collapsed": false
   },
   "outputs": [
    {
     "data": {
      "text/plain": [
       "array([ 1, -2, -3,  4,  5])"
      ]
     },
     "execution_count": 70,
     "metadata": {},
     "output_type": "execute_result"
    }
   ],
   "source": [
    "A[::] # indices de début, fin, et pas avec leurs valeurs par défaut"
   ]
  },
  {
   "cell_type": "code",
   "execution_count": 71,
   "metadata": {
    "collapsed": false
   },
   "outputs": [
    {
     "data": {
      "text/plain": [
       "array([ 1, -3,  5])"
      ]
     },
     "execution_count": 71,
     "metadata": {},
     "output_type": "execute_result"
    }
   ],
   "source": [
    "A[::2] # pas = 2, indices de début et de fin par défaut"
   ]
  },
  {
   "cell_type": "code",
   "execution_count": 72,
   "metadata": {
    "collapsed": false
   },
   "outputs": [
    {
     "data": {
      "text/plain": [
       "array([ 1, -2, -3])"
      ]
     },
     "execution_count": 72,
     "metadata": {},
     "output_type": "execute_result"
    }
   ],
   "source": [
    "A[:3] # les trois premiers éléments"
   ]
  },
  {
   "cell_type": "code",
   "execution_count": 73,
   "metadata": {
    "collapsed": false
   },
   "outputs": [
    {
     "data": {
      "text/plain": [
       "array([4, 5])"
      ]
     },
     "execution_count": 73,
     "metadata": {},
     "output_type": "execute_result"
    }
   ],
   "source": [
    "A[3:] # à partir de l'indice 3"
   ]
  },
  {
   "cell_type": "code",
   "execution_count": 74,
   "metadata": {
    "collapsed": false
   },
   "outputs": [
    {
     "name": "stdout",
     "output_type": "stream",
     "text": [
      "[[ 0  1  2]\n",
      " [ 3  4  5]\n",
      " [ 6  7  8]\n",
      " [ 9 10 11]]\n"
     ]
    }
   ],
   "source": [
    "M = np.arange(12).reshape(4, 3)\n",
    "print(M)"
   ]
  },
  {
   "cell_type": "markdown",
   "metadata": {},
   "source": [
    "On peut utiliser des indices négatifs :"
   ]
  },
  {
   "cell_type": "code",
   "execution_count": 75,
   "metadata": {
    "collapsed": false
   },
   "outputs": [],
   "source": [
    "A = np.array([1,2,3,4,5])"
   ]
  },
  {
   "cell_type": "code",
   "execution_count": 76,
   "metadata": {
    "collapsed": false
   },
   "outputs": [
    {
     "data": {
      "text/plain": [
       "5"
      ]
     },
     "execution_count": 76,
     "metadata": {},
     "output_type": "execute_result"
    }
   ],
   "source": [
    "A[-1] # le dernier élément"
   ]
  },
  {
   "cell_type": "code",
   "execution_count": 77,
   "metadata": {
    "collapsed": false
   },
   "outputs": [
    {
     "data": {
      "text/plain": [
       "array([3, 4, 5])"
      ]
     },
     "execution_count": 77,
     "metadata": {},
     "output_type": "execute_result"
    }
   ],
   "source": [
    "A[-3:] # les 3 derniers éléments"
   ]
  },
  {
   "cell_type": "markdown",
   "metadata": {},
   "source": [
    "Le *slicing* fonctionne de façon similaire pour les *array* multi-dimensionnels"
   ]
  },
  {
   "cell_type": "code",
   "execution_count": 78,
   "metadata": {
    "collapsed": false
   },
   "outputs": [
    {
     "data": {
      "text/plain": [
       "array([[ 0,  1,  2,  3,  4],\n",
       "       [10, 11, 12, 13, 14],\n",
       "       [20, 21, 22, 23, 24],\n",
       "       [30, 31, 32, 33, 34],\n",
       "       [40, 41, 42, 43, 44]])"
      ]
     },
     "execution_count": 78,
     "metadata": {},
     "output_type": "execute_result"
    }
   ],
   "source": [
    "A = np.array([[n+m*10 for n in range(5)] for m in range(5)])\n",
    "A"
   ]
  },
  {
   "cell_type": "code",
   "execution_count": 79,
   "metadata": {
    "collapsed": false
   },
   "outputs": [
    {
     "data": {
      "text/plain": [
       "array([[11, 12, 13],\n",
       "       [21, 22, 23],\n",
       "       [31, 32, 33]])"
      ]
     },
     "execution_count": 79,
     "metadata": {},
     "output_type": "execute_result"
    }
   ],
   "source": [
    "A[1:4, 1:4]  # sous-tableau"
   ]
  },
  {
   "cell_type": "code",
   "execution_count": 80,
   "metadata": {
    "collapsed": false
   },
   "outputs": [
    {
     "data": {
      "text/plain": [
       "array([[ 0,  2,  4],\n",
       "       [20, 22, 24],\n",
       "       [40, 42, 44]])"
      ]
     },
     "execution_count": 80,
     "metadata": {},
     "output_type": "execute_result"
    }
   ],
   "source": [
    "# sauts de deux en deux:\n",
    "A[::2, ::2]"
   ]
  },
  {
   "cell_type": "code",
   "execution_count": 81,
   "metadata": {
    "collapsed": false
   },
   "outputs": [
    {
     "data": {
      "text/plain": [
       "array([[ 0,  1,  2,  3,  4],\n",
       "       [10, 11, 12, 13, 14],\n",
       "       [20, 21, 22, 23, 24],\n",
       "       [30, 31, 32, 33, 34],\n",
       "       [40, 41, 42, 43, 44]])"
      ]
     },
     "execution_count": 81,
     "metadata": {},
     "output_type": "execute_result"
    }
   ],
   "source": [
    "A"
   ]
  },
  {
   "cell_type": "code",
   "execution_count": 82,
   "metadata": {
    "collapsed": false
   },
   "outputs": [
    {
     "name": "stdout",
     "output_type": "stream",
     "text": [
      "[[ 0  1  2  3  4]\n",
      " [10 11 12 13 14]\n",
      " [30 31 32 33 34]]\n",
      "[[ 0  1  2  3  4]\n",
      " [10 11 12 13 14]\n",
      " [30 31 32 33 34]]\n",
      "[[ 0  1  3]\n",
      " [10 11 13]\n",
      " [20 21 23]\n",
      " [30 31 33]\n",
      " [40 41 43]]\n"
     ]
    }
   ],
   "source": [
    "print(A[[0, 1, 3]])\n",
    "print(A[[0, 1, 3],:])\n",
    "print(A[:,[0, 1, 3]])\n"
   ]
  },
  {
   "cell_type": "markdown",
   "metadata": {},
   "source": [
    "### Indexation avancée (*fancy indexing*)\n",
    "\n",
    "Lorsque qu'on utilise des listes ou des *array* pour définir des tranches : "
   ]
  },
  {
   "cell_type": "code",
   "execution_count": 83,
   "metadata": {
    "collapsed": false
   },
   "outputs": [
    {
     "name": "stdout",
     "output_type": "stream",
     "text": [
      "[[ 0  1  2  3  4]\n",
      " [10 11 12 13 14]\n",
      " [20 21 22 23 24]\n",
      " [30 31 32 33 34]\n",
      " [40 41 42 43 44]]\n",
      "[[10 11 12 13 14]\n",
      " [20 21 22 23 24]\n",
      " [30 31 32 33 34]]\n",
      "(5, 5)\n"
     ]
    }
   ],
   "source": [
    "row_indices = [1, 2, 3]\n",
    "print(A)\n",
    "print(A[row_indices])\n",
    "print(A.shape)"
   ]
  },
  {
   "cell_type": "code",
   "execution_count": 84,
   "metadata": {
    "collapsed": false
   },
   "outputs": [
    {
     "name": "stdout",
     "output_type": "stream",
     "text": [
      "[13 24]\n"
     ]
    }
   ],
   "source": [
    "print(A[[1, 2], [3, 4]])"
   ]
  },
  {
   "cell_type": "code",
   "execution_count": 85,
   "metadata": {
    "collapsed": false
   },
   "outputs": [
    {
     "name": "stdout",
     "output_type": "stream",
     "text": [
      "[[ 0  1  2  3  4]\n",
      " [10 11 12  0  0]\n",
      " [20 21 22  0  0]\n",
      " [30 31 32 33 34]\n",
      " [40 41 42 43 44]]\n"
     ]
    }
   ],
   "source": [
    "A[np.ix_([1, 2], [3, 4])] = 0\n",
    "print(A)"
   ]
  },
  {
   "cell_type": "markdown",
   "metadata": {},
   "source": [
    "On peut aussi utiliser des masques binaires :"
   ]
  },
  {
   "cell_type": "code",
   "execution_count": 86,
   "metadata": {
    "collapsed": false
   },
   "outputs": [
    {
     "data": {
      "text/plain": [
       "array([0, 1, 2, 3, 4])"
      ]
     },
     "execution_count": 86,
     "metadata": {},
     "output_type": "execute_result"
    }
   ],
   "source": [
    "B = np.arange(5)\n",
    "B"
   ]
  },
  {
   "cell_type": "code",
   "execution_count": 87,
   "metadata": {
    "collapsed": false
   },
   "outputs": [
    {
     "name": "stdout",
     "output_type": "stream",
     "text": [
      "[0 2]\n",
      "[0 2]\n"
     ]
    }
   ],
   "source": [
    "row_mask = np.array([True, False, True, False, False])\n",
    "print(B[row_mask])\n",
    "print(B[[0,2]])"
   ]
  },
  {
   "cell_type": "code",
   "execution_count": 88,
   "metadata": {
    "collapsed": false
   },
   "outputs": [
    {
     "data": {
      "text/plain": [
       "array([0, 2])"
      ]
     },
     "execution_count": 88,
     "metadata": {},
     "output_type": "execute_result"
    }
   ],
   "source": [
    "# ou de façon équivalente\n",
    "row_mask = np.array([1,0,1,0,0], dtype=bool)\n",
    "B[row_mask]"
   ]
  },
  {
   "cell_type": "code",
   "execution_count": 89,
   "metadata": {
    "collapsed": false
   },
   "outputs": [
    {
     "name": "stdout",
     "output_type": "stream",
     "text": [
      "[ True  True False False False]\n",
      "[0 1]\n"
     ]
    }
   ],
   "source": [
    "# ou encore\n",
    "a = np.array([1, 2, 3, 4, 5])\n",
    "print(a < 3)\n",
    "print(B[a < 3])"
   ]
  },
  {
   "cell_type": "code",
   "execution_count": 90,
   "metadata": {
    "collapsed": false
   },
   "outputs": [
    {
     "name": "stdout",
     "output_type": "stream",
     "text": [
      "[[ 0  1  2  3  4]\n",
      " [10 11 12  0  0]\n",
      " [20 21 22  0  0]\n",
      " [30 31 32 33 34]\n",
      " [40 41 42 43 44]]\n",
      "[[ 0  1]\n",
      " [10 11]\n",
      " [20 21]\n",
      " [30 31]\n",
      " [40 41]]\n"
     ]
    }
   ],
   "source": [
    "print(A)\n",
    "print(A[:, a < 3])"
   ]
  },
  {
   "cell_type": "markdown",
   "metadata": {},
   "source": [
    "## Extraction de données à partir d'*arrays* et création d'*arrays*"
   ]
  },
  {
   "cell_type": "markdown",
   "metadata": {},
   "source": [
    "#### `where`\n",
    "\n",
    "Un masque binaire peut être converti en indices de positions avec `where`"
   ]
  },
  {
   "cell_type": "code",
   "execution_count": 91,
   "metadata": {
    "collapsed": false
   },
   "outputs": [
    {
     "name": "stdout",
     "output_type": "stream",
     "text": [
      "[0.  0.5 1.  1.5 2.  2.5 3.  3.5 4.  4.5 5.  5.5 6.  6.5 7.  7.5 8.  8.5\n",
      " 9.  9.5]\n",
      "[False False False False False False False False False False False  True\n",
      "  True  True  True False False False False False]\n"
     ]
    },
    {
     "data": {
      "text/plain": [
       "(array([11, 12, 13, 14]),)"
      ]
     },
     "execution_count": 91,
     "metadata": {},
     "output_type": "execute_result"
    }
   ],
   "source": [
    "x = np.arange(0, 10, 0.5)\n",
    "print(x)\n",
    "mask = (x > 5) * (x < 7.5)\n",
    "print(mask)\n",
    "indices = np.where(mask)\n",
    "indices"
   ]
  },
  {
   "cell_type": "code",
   "execution_count": 92,
   "metadata": {
    "collapsed": false
   },
   "outputs": [
    {
     "name": "stdout",
     "output_type": "stream",
     "text": [
      "[5.5 6.  6.5 7. ]\n",
      "[5.5 6.  6.5 7. ]\n"
     ]
    }
   ],
   "source": [
    "print(x[indices]) # équivalent à x[mask]\n",
    "print(x[mask])"
   ]
  },
  {
   "cell_type": "markdown",
   "metadata": {},
   "source": [
    "#### `diag`\n",
    "\n",
    "Cette fonction permet (aussi!) d'extraire la diagonale ou une sous-diagonale d'un *array* :"
   ]
  },
  {
   "cell_type": "code",
   "execution_count": 93,
   "metadata": {
    "collapsed": false
   },
   "outputs": [
    {
     "name": "stdout",
     "output_type": "stream",
     "text": [
      "[[ 0  1  2  3  4]\n",
      " [10 11 12  0  0]\n",
      " [20 21 22  0  0]\n",
      " [30 31 32 33 34]\n",
      " [40 41 42 43 44]]\n",
      "[ 0 11 22 33 44]\n"
     ]
    }
   ],
   "source": [
    "print(A)\n",
    "print(np.diag(A))"
   ]
  },
  {
   "cell_type": "code",
   "execution_count": 94,
   "metadata": {
    "collapsed": false
   },
   "outputs": [
    {
     "data": {
      "text/plain": [
       "array([10, 21, 32, 43])"
      ]
     },
     "execution_count": 94,
     "metadata": {},
     "output_type": "execute_result"
    }
   ],
   "source": [
    "np.diag(A, -1)"
   ]
  },
  {
   "cell_type": "markdown",
   "metadata": {},
   "source": [
    "## Algèbre linéaire\n",
    "\n",
    "La performance des programmes écrit en `Python/numpy` dépend de la capacité à vectoriser les calculs (les écrire comme des opérations sur des vecteurs/matrices) en évitant au maximum les boucles `for/while`."
   ]
  },
  {
   "cell_type": "markdown",
   "metadata": {},
   "source": [
    "### Opérations scalaires\n",
    "\n",
    "On peut effectuer les opérations arithmétiques habituelles pour multiplier, additionner, soustraire et diviser des *arrays* avec/par des scalaires :"
   ]
  },
  {
   "cell_type": "code",
   "execution_count": 95,
   "metadata": {
    "collapsed": false
   },
   "outputs": [
    {
     "name": "stdout",
     "output_type": "stream",
     "text": [
      "[0 1 2 3 4]\n"
     ]
    }
   ],
   "source": [
    "v1 = np.arange(0, 5)\n",
    "print(v1)"
   ]
  },
  {
   "cell_type": "code",
   "execution_count": 96,
   "metadata": {
    "collapsed": false
   },
   "outputs": [
    {
     "data": {
      "text/plain": [
       "array([0, 2, 4, 6, 8])"
      ]
     },
     "execution_count": 96,
     "metadata": {},
     "output_type": "execute_result"
    }
   ],
   "source": [
    "v1 * 2"
   ]
  },
  {
   "cell_type": "code",
   "execution_count": 97,
   "metadata": {
    "collapsed": false
   },
   "outputs": [
    {
     "data": {
      "text/plain": [
       "array([2, 3, 4, 5, 6])"
      ]
     },
     "execution_count": 97,
     "metadata": {},
     "output_type": "execute_result"
    }
   ],
   "source": [
    "v1 + 2"
   ]
  },
  {
   "cell_type": "code",
   "execution_count": 98,
   "metadata": {
    "collapsed": false
   },
   "outputs": [
    {
     "data": {
      "application/javascript": [
       "/* Put everything inside the global mpl namespace */\n",
       "window.mpl = {};\n",
       "\n",
       "\n",
       "mpl.get_websocket_type = function() {\n",
       "    if (typeof(WebSocket) !== 'undefined') {\n",
       "        return WebSocket;\n",
       "    } else if (typeof(MozWebSocket) !== 'undefined') {\n",
       "        return MozWebSocket;\n",
       "    } else {\n",
       "        alert('Your browser does not have WebSocket support.' +\n",
       "              'Please try Chrome, Safari or Firefox ≥ 6. ' +\n",
       "              'Firefox 4 and 5 are also supported but you ' +\n",
       "              'have to enable WebSockets in about:config.');\n",
       "    };\n",
       "}\n",
       "\n",
       "mpl.figure = function(figure_id, websocket, ondownload, parent_element) {\n",
       "    this.id = figure_id;\n",
       "\n",
       "    this.ws = websocket;\n",
       "\n",
       "    this.supports_binary = (this.ws.binaryType != undefined);\n",
       "\n",
       "    if (!this.supports_binary) {\n",
       "        var warnings = document.getElementById(\"mpl-warnings\");\n",
       "        if (warnings) {\n",
       "            warnings.style.display = 'block';\n",
       "            warnings.textContent = (\n",
       "                \"This browser does not support binary websocket messages. \" +\n",
       "                    \"Performance may be slow.\");\n",
       "        }\n",
       "    }\n",
       "\n",
       "    this.imageObj = new Image();\n",
       "\n",
       "    this.context = undefined;\n",
       "    this.message = undefined;\n",
       "    this.canvas = undefined;\n",
       "    this.rubberband_canvas = undefined;\n",
       "    this.rubberband_context = undefined;\n",
       "    this.format_dropdown = undefined;\n",
       "\n",
       "    this.image_mode = 'full';\n",
       "\n",
       "    this.root = $('<div/>');\n",
       "    this._root_extra_style(this.root)\n",
       "    this.root.attr('style', 'display: inline-block');\n",
       "\n",
       "    $(parent_element).append(this.root);\n",
       "\n",
       "    this._init_header(this);\n",
       "    this._init_canvas(this);\n",
       "    this._init_toolbar(this);\n",
       "\n",
       "    var fig = this;\n",
       "\n",
       "    this.waiting = false;\n",
       "\n",
       "    this.ws.onopen =  function () {\n",
       "            fig.send_message(\"supports_binary\", {value: fig.supports_binary});\n",
       "            fig.send_message(\"send_image_mode\", {});\n",
       "            if (mpl.ratio != 1) {\n",
       "                fig.send_message(\"set_dpi_ratio\", {'dpi_ratio': mpl.ratio});\n",
       "            }\n",
       "            fig.send_message(\"refresh\", {});\n",
       "        }\n",
       "\n",
       "    this.imageObj.onload = function() {\n",
       "            if (fig.image_mode == 'full') {\n",
       "                // Full images could contain transparency (where diff images\n",
       "                // almost always do), so we need to clear the canvas so that\n",
       "                // there is no ghosting.\n",
       "                fig.context.clearRect(0, 0, fig.canvas.width, fig.canvas.height);\n",
       "            }\n",
       "            fig.context.drawImage(fig.imageObj, 0, 0);\n",
       "        };\n",
       "\n",
       "    this.imageObj.onunload = function() {\n",
       "        fig.ws.close();\n",
       "    }\n",
       "\n",
       "    this.ws.onmessage = this._make_on_message_function(this);\n",
       "\n",
       "    this.ondownload = ondownload;\n",
       "}\n",
       "\n",
       "mpl.figure.prototype._init_header = function() {\n",
       "    var titlebar = $(\n",
       "        '<div class=\"ui-dialog-titlebar ui-widget-header ui-corner-all ' +\n",
       "        'ui-helper-clearfix\"/>');\n",
       "    var titletext = $(\n",
       "        '<div class=\"ui-dialog-title\" style=\"width: 100%; ' +\n",
       "        'text-align: center; padding: 3px;\"/>');\n",
       "    titlebar.append(titletext)\n",
       "    this.root.append(titlebar);\n",
       "    this.header = titletext[0];\n",
       "}\n",
       "\n",
       "\n",
       "\n",
       "mpl.figure.prototype._canvas_extra_style = function(canvas_div) {\n",
       "\n",
       "}\n",
       "\n",
       "\n",
       "mpl.figure.prototype._root_extra_style = function(canvas_div) {\n",
       "\n",
       "}\n",
       "\n",
       "mpl.figure.prototype._init_canvas = function() {\n",
       "    var fig = this;\n",
       "\n",
       "    var canvas_div = $('<div/>');\n",
       "\n",
       "    canvas_div.attr('style', 'position: relative; clear: both; outline: 0');\n",
       "\n",
       "    function canvas_keyboard_event(event) {\n",
       "        return fig.key_event(event, event['data']);\n",
       "    }\n",
       "\n",
       "    canvas_div.keydown('key_press', canvas_keyboard_event);\n",
       "    canvas_div.keyup('key_release', canvas_keyboard_event);\n",
       "    this.canvas_div = canvas_div\n",
       "    this._canvas_extra_style(canvas_div)\n",
       "    this.root.append(canvas_div);\n",
       "\n",
       "    var canvas = $('<canvas/>');\n",
       "    canvas.addClass('mpl-canvas');\n",
       "    canvas.attr('style', \"left: 0; top: 0; z-index: 0; outline: 0\")\n",
       "\n",
       "    this.canvas = canvas[0];\n",
       "    this.context = canvas[0].getContext(\"2d\");\n",
       "\n",
       "    var backingStore = this.context.backingStorePixelRatio ||\n",
       "\tthis.context.webkitBackingStorePixelRatio ||\n",
       "\tthis.context.mozBackingStorePixelRatio ||\n",
       "\tthis.context.msBackingStorePixelRatio ||\n",
       "\tthis.context.oBackingStorePixelRatio ||\n",
       "\tthis.context.backingStorePixelRatio || 1;\n",
       "\n",
       "    mpl.ratio = (window.devicePixelRatio || 1) / backingStore;\n",
       "\n",
       "    var rubberband = $('<canvas/>');\n",
       "    rubberband.attr('style', \"position: absolute; left: 0; top: 0; z-index: 1;\")\n",
       "\n",
       "    var pass_mouse_events = true;\n",
       "\n",
       "    canvas_div.resizable({\n",
       "        start: function(event, ui) {\n",
       "            pass_mouse_events = false;\n",
       "        },\n",
       "        resize: function(event, ui) {\n",
       "            fig.request_resize(ui.size.width, ui.size.height);\n",
       "        },\n",
       "        stop: function(event, ui) {\n",
       "            pass_mouse_events = true;\n",
       "            fig.request_resize(ui.size.width, ui.size.height);\n",
       "        },\n",
       "    });\n",
       "\n",
       "    function mouse_event_fn(event) {\n",
       "        if (pass_mouse_events)\n",
       "            return fig.mouse_event(event, event['data']);\n",
       "    }\n",
       "\n",
       "    rubberband.mousedown('button_press', mouse_event_fn);\n",
       "    rubberband.mouseup('button_release', mouse_event_fn);\n",
       "    // Throttle sequential mouse events to 1 every 20ms.\n",
       "    rubberband.mousemove('motion_notify', mouse_event_fn);\n",
       "\n",
       "    rubberband.mouseenter('figure_enter', mouse_event_fn);\n",
       "    rubberband.mouseleave('figure_leave', mouse_event_fn);\n",
       "\n",
       "    canvas_div.on(\"wheel\", function (event) {\n",
       "        event = event.originalEvent;\n",
       "        event['data'] = 'scroll'\n",
       "        if (event.deltaY < 0) {\n",
       "            event.step = 1;\n",
       "        } else {\n",
       "            event.step = -1;\n",
       "        }\n",
       "        mouse_event_fn(event);\n",
       "    });\n",
       "\n",
       "    canvas_div.append(canvas);\n",
       "    canvas_div.append(rubberband);\n",
       "\n",
       "    this.rubberband = rubberband;\n",
       "    this.rubberband_canvas = rubberband[0];\n",
       "    this.rubberband_context = rubberband[0].getContext(\"2d\");\n",
       "    this.rubberband_context.strokeStyle = \"#000000\";\n",
       "\n",
       "    this._resize_canvas = function(width, height) {\n",
       "        // Keep the size of the canvas, canvas container, and rubber band\n",
       "        // canvas in synch.\n",
       "        canvas_div.css('width', width)\n",
       "        canvas_div.css('height', height)\n",
       "\n",
       "        canvas.attr('width', width * mpl.ratio);\n",
       "        canvas.attr('height', height * mpl.ratio);\n",
       "        canvas.attr('style', 'width: ' + width + 'px; height: ' + height + 'px;');\n",
       "\n",
       "        rubberband.attr('width', width);\n",
       "        rubberband.attr('height', height);\n",
       "    }\n",
       "\n",
       "    // Set the figure to an initial 600x600px, this will subsequently be updated\n",
       "    // upon first draw.\n",
       "    this._resize_canvas(600, 600);\n",
       "\n",
       "    // Disable right mouse context menu.\n",
       "    $(this.rubberband_canvas).bind(\"contextmenu\",function(e){\n",
       "        return false;\n",
       "    });\n",
       "\n",
       "    function set_focus () {\n",
       "        canvas.focus();\n",
       "        canvas_div.focus();\n",
       "    }\n",
       "\n",
       "    window.setTimeout(set_focus, 100);\n",
       "}\n",
       "\n",
       "mpl.figure.prototype._init_toolbar = function() {\n",
       "    var fig = this;\n",
       "\n",
       "    var nav_element = $('<div/>')\n",
       "    nav_element.attr('style', 'width: 100%');\n",
       "    this.root.append(nav_element);\n",
       "\n",
       "    // Define a callback function for later on.\n",
       "    function toolbar_event(event) {\n",
       "        return fig.toolbar_button_onclick(event['data']);\n",
       "    }\n",
       "    function toolbar_mouse_event(event) {\n",
       "        return fig.toolbar_button_onmouseover(event['data']);\n",
       "    }\n",
       "\n",
       "    for(var toolbar_ind in mpl.toolbar_items) {\n",
       "        var name = mpl.toolbar_items[toolbar_ind][0];\n",
       "        var tooltip = mpl.toolbar_items[toolbar_ind][1];\n",
       "        var image = mpl.toolbar_items[toolbar_ind][2];\n",
       "        var method_name = mpl.toolbar_items[toolbar_ind][3];\n",
       "\n",
       "        if (!name) {\n",
       "            // put a spacer in here.\n",
       "            continue;\n",
       "        }\n",
       "        var button = $('<button/>');\n",
       "        button.addClass('ui-button ui-widget ui-state-default ui-corner-all ' +\n",
       "                        'ui-button-icon-only');\n",
       "        button.attr('role', 'button');\n",
       "        button.attr('aria-disabled', 'false');\n",
       "        button.click(method_name, toolbar_event);\n",
       "        button.mouseover(tooltip, toolbar_mouse_event);\n",
       "\n",
       "        var icon_img = $('<span/>');\n",
       "        icon_img.addClass('ui-button-icon-primary ui-icon');\n",
       "        icon_img.addClass(image);\n",
       "        icon_img.addClass('ui-corner-all');\n",
       "\n",
       "        var tooltip_span = $('<span/>');\n",
       "        tooltip_span.addClass('ui-button-text');\n",
       "        tooltip_span.html(tooltip);\n",
       "\n",
       "        button.append(icon_img);\n",
       "        button.append(tooltip_span);\n",
       "\n",
       "        nav_element.append(button);\n",
       "    }\n",
       "\n",
       "    var fmt_picker_span = $('<span/>');\n",
       "\n",
       "    var fmt_picker = $('<select/>');\n",
       "    fmt_picker.addClass('mpl-toolbar-option ui-widget ui-widget-content');\n",
       "    fmt_picker_span.append(fmt_picker);\n",
       "    nav_element.append(fmt_picker_span);\n",
       "    this.format_dropdown = fmt_picker[0];\n",
       "\n",
       "    for (var ind in mpl.extensions) {\n",
       "        var fmt = mpl.extensions[ind];\n",
       "        var option = $(\n",
       "            '<option/>', {selected: fmt === mpl.default_extension}).html(fmt);\n",
       "        fmt_picker.append(option)\n",
       "    }\n",
       "\n",
       "    // Add hover states to the ui-buttons\n",
       "    $( \".ui-button\" ).hover(\n",
       "        function() { $(this).addClass(\"ui-state-hover\");},\n",
       "        function() { $(this).removeClass(\"ui-state-hover\");}\n",
       "    );\n",
       "\n",
       "    var status_bar = $('<span class=\"mpl-message\"/>');\n",
       "    nav_element.append(status_bar);\n",
       "    this.message = status_bar[0];\n",
       "}\n",
       "\n",
       "mpl.figure.prototype.request_resize = function(x_pixels, y_pixels) {\n",
       "    // Request matplotlib to resize the figure. Matplotlib will then trigger a resize in the client,\n",
       "    // which will in turn request a refresh of the image.\n",
       "    this.send_message('resize', {'width': x_pixels, 'height': y_pixels});\n",
       "}\n",
       "\n",
       "mpl.figure.prototype.send_message = function(type, properties) {\n",
       "    properties['type'] = type;\n",
       "    properties['figure_id'] = this.id;\n",
       "    this.ws.send(JSON.stringify(properties));\n",
       "}\n",
       "\n",
       "mpl.figure.prototype.send_draw_message = function() {\n",
       "    if (!this.waiting) {\n",
       "        this.waiting = true;\n",
       "        this.ws.send(JSON.stringify({type: \"draw\", figure_id: this.id}));\n",
       "    }\n",
       "}\n",
       "\n",
       "\n",
       "mpl.figure.prototype.handle_save = function(fig, msg) {\n",
       "    var format_dropdown = fig.format_dropdown;\n",
       "    var format = format_dropdown.options[format_dropdown.selectedIndex].value;\n",
       "    fig.ondownload(fig, format);\n",
       "}\n",
       "\n",
       "\n",
       "mpl.figure.prototype.handle_resize = function(fig, msg) {\n",
       "    var size = msg['size'];\n",
       "    if (size[0] != fig.canvas.width || size[1] != fig.canvas.height) {\n",
       "        fig._resize_canvas(size[0], size[1]);\n",
       "        fig.send_message(\"refresh\", {});\n",
       "    };\n",
       "}\n",
       "\n",
       "mpl.figure.prototype.handle_rubberband = function(fig, msg) {\n",
       "    var x0 = msg['x0'] / mpl.ratio;\n",
       "    var y0 = (fig.canvas.height - msg['y0']) / mpl.ratio;\n",
       "    var x1 = msg['x1'] / mpl.ratio;\n",
       "    var y1 = (fig.canvas.height - msg['y1']) / mpl.ratio;\n",
       "    x0 = Math.floor(x0) + 0.5;\n",
       "    y0 = Math.floor(y0) + 0.5;\n",
       "    x1 = Math.floor(x1) + 0.5;\n",
       "    y1 = Math.floor(y1) + 0.5;\n",
       "    var min_x = Math.min(x0, x1);\n",
       "    var min_y = Math.min(y0, y1);\n",
       "    var width = Math.abs(x1 - x0);\n",
       "    var height = Math.abs(y1 - y0);\n",
       "\n",
       "    fig.rubberband_context.clearRect(\n",
       "        0, 0, fig.canvas.width, fig.canvas.height);\n",
       "\n",
       "    fig.rubberband_context.strokeRect(min_x, min_y, width, height);\n",
       "}\n",
       "\n",
       "mpl.figure.prototype.handle_figure_label = function(fig, msg) {\n",
       "    // Updates the figure title.\n",
       "    fig.header.textContent = msg['label'];\n",
       "}\n",
       "\n",
       "mpl.figure.prototype.handle_cursor = function(fig, msg) {\n",
       "    var cursor = msg['cursor'];\n",
       "    switch(cursor)\n",
       "    {\n",
       "    case 0:\n",
       "        cursor = 'pointer';\n",
       "        break;\n",
       "    case 1:\n",
       "        cursor = 'default';\n",
       "        break;\n",
       "    case 2:\n",
       "        cursor = 'crosshair';\n",
       "        break;\n",
       "    case 3:\n",
       "        cursor = 'move';\n",
       "        break;\n",
       "    }\n",
       "    fig.rubberband_canvas.style.cursor = cursor;\n",
       "}\n",
       "\n",
       "mpl.figure.prototype.handle_message = function(fig, msg) {\n",
       "    fig.message.textContent = msg['message'];\n",
       "}\n",
       "\n",
       "mpl.figure.prototype.handle_draw = function(fig, msg) {\n",
       "    // Request the server to send over a new figure.\n",
       "    fig.send_draw_message();\n",
       "}\n",
       "\n",
       "mpl.figure.prototype.handle_image_mode = function(fig, msg) {\n",
       "    fig.image_mode = msg['mode'];\n",
       "}\n",
       "\n",
       "mpl.figure.prototype.updated_canvas_event = function() {\n",
       "    // Called whenever the canvas gets updated.\n",
       "    this.send_message(\"ack\", {});\n",
       "}\n",
       "\n",
       "// A function to construct a web socket function for onmessage handling.\n",
       "// Called in the figure constructor.\n",
       "mpl.figure.prototype._make_on_message_function = function(fig) {\n",
       "    return function socket_on_message(evt) {\n",
       "        if (evt.data instanceof Blob) {\n",
       "            /* FIXME: We get \"Resource interpreted as Image but\n",
       "             * transferred with MIME type text/plain:\" errors on\n",
       "             * Chrome.  But how to set the MIME type?  It doesn't seem\n",
       "             * to be part of the websocket stream */\n",
       "            evt.data.type = \"image/png\";\n",
       "\n",
       "            /* Free the memory for the previous frames */\n",
       "            if (fig.imageObj.src) {\n",
       "                (window.URL || window.webkitURL).revokeObjectURL(\n",
       "                    fig.imageObj.src);\n",
       "            }\n",
       "\n",
       "            fig.imageObj.src = (window.URL || window.webkitURL).createObjectURL(\n",
       "                evt.data);\n",
       "            fig.updated_canvas_event();\n",
       "            fig.waiting = false;\n",
       "            return;\n",
       "        }\n",
       "        else if (typeof evt.data === 'string' && evt.data.slice(0, 21) == \"data:image/png;base64\") {\n",
       "            fig.imageObj.src = evt.data;\n",
       "            fig.updated_canvas_event();\n",
       "            fig.waiting = false;\n",
       "            return;\n",
       "        }\n",
       "\n",
       "        var msg = JSON.parse(evt.data);\n",
       "        var msg_type = msg['type'];\n",
       "\n",
       "        // Call the  \"handle_{type}\" callback, which takes\n",
       "        // the figure and JSON message as its only arguments.\n",
       "        try {\n",
       "            var callback = fig[\"handle_\" + msg_type];\n",
       "        } catch (e) {\n",
       "            console.log(\"No handler for the '\" + msg_type + \"' message type: \", msg);\n",
       "            return;\n",
       "        }\n",
       "\n",
       "        if (callback) {\n",
       "            try {\n",
       "                // console.log(\"Handling '\" + msg_type + \"' message: \", msg);\n",
       "                callback(fig, msg);\n",
       "            } catch (e) {\n",
       "                console.log(\"Exception inside the 'handler_\" + msg_type + \"' callback:\", e, e.stack, msg);\n",
       "            }\n",
       "        }\n",
       "    };\n",
       "}\n",
       "\n",
       "// from http://stackoverflow.com/questions/1114465/getting-mouse-location-in-canvas\n",
       "mpl.findpos = function(e) {\n",
       "    //this section is from http://www.quirksmode.org/js/events_properties.html\n",
       "    var targ;\n",
       "    if (!e)\n",
       "        e = window.event;\n",
       "    if (e.target)\n",
       "        targ = e.target;\n",
       "    else if (e.srcElement)\n",
       "        targ = e.srcElement;\n",
       "    if (targ.nodeType == 3) // defeat Safari bug\n",
       "        targ = targ.parentNode;\n",
       "\n",
       "    // jQuery normalizes the pageX and pageY\n",
       "    // pageX,Y are the mouse positions relative to the document\n",
       "    // offset() returns the position of the element relative to the document\n",
       "    var x = e.pageX - $(targ).offset().left;\n",
       "    var y = e.pageY - $(targ).offset().top;\n",
       "\n",
       "    return {\"x\": x, \"y\": y};\n",
       "};\n",
       "\n",
       "/*\n",
       " * return a copy of an object with only non-object keys\n",
       " * we need this to avoid circular references\n",
       " * http://stackoverflow.com/a/24161582/3208463\n",
       " */\n",
       "function simpleKeys (original) {\n",
       "  return Object.keys(original).reduce(function (obj, key) {\n",
       "    if (typeof original[key] !== 'object')\n",
       "        obj[key] = original[key]\n",
       "    return obj;\n",
       "  }, {});\n",
       "}\n",
       "\n",
       "mpl.figure.prototype.mouse_event = function(event, name) {\n",
       "    var canvas_pos = mpl.findpos(event)\n",
       "\n",
       "    if (name === 'button_press')\n",
       "    {\n",
       "        this.canvas.focus();\n",
       "        this.canvas_div.focus();\n",
       "    }\n",
       "\n",
       "    var x = canvas_pos.x * mpl.ratio;\n",
       "    var y = canvas_pos.y * mpl.ratio;\n",
       "\n",
       "    this.send_message(name, {x: x, y: y, button: event.button,\n",
       "                             step: event.step,\n",
       "                             guiEvent: simpleKeys(event)});\n",
       "\n",
       "    /* This prevents the web browser from automatically changing to\n",
       "     * the text insertion cursor when the button is pressed.  We want\n",
       "     * to control all of the cursor setting manually through the\n",
       "     * 'cursor' event from matplotlib */\n",
       "    event.preventDefault();\n",
       "    return false;\n",
       "}\n",
       "\n",
       "mpl.figure.prototype._key_event_extra = function(event, name) {\n",
       "    // Handle any extra behaviour associated with a key event\n",
       "}\n",
       "\n",
       "mpl.figure.prototype.key_event = function(event, name) {\n",
       "\n",
       "    // Prevent repeat events\n",
       "    if (name == 'key_press')\n",
       "    {\n",
       "        if (event.which === this._key)\n",
       "            return;\n",
       "        else\n",
       "            this._key = event.which;\n",
       "    }\n",
       "    if (name == 'key_release')\n",
       "        this._key = null;\n",
       "\n",
       "    var value = '';\n",
       "    if (event.ctrlKey && event.which != 17)\n",
       "        value += \"ctrl+\";\n",
       "    if (event.altKey && event.which != 18)\n",
       "        value += \"alt+\";\n",
       "    if (event.shiftKey && event.which != 16)\n",
       "        value += \"shift+\";\n",
       "\n",
       "    value += 'k';\n",
       "    value += event.which.toString();\n",
       "\n",
       "    this._key_event_extra(event, name);\n",
       "\n",
       "    this.send_message(name, {key: value,\n",
       "                             guiEvent: simpleKeys(event)});\n",
       "    return false;\n",
       "}\n",
       "\n",
       "mpl.figure.prototype.toolbar_button_onclick = function(name) {\n",
       "    if (name == 'download') {\n",
       "        this.handle_save(this, null);\n",
       "    } else {\n",
       "        this.send_message(\"toolbar_button\", {name: name});\n",
       "    }\n",
       "};\n",
       "\n",
       "mpl.figure.prototype.toolbar_button_onmouseover = function(tooltip) {\n",
       "    this.message.textContent = tooltip;\n",
       "};\n",
       "mpl.toolbar_items = [[\"Home\", \"Reset original view\", \"fa fa-home icon-home\", \"home\"], [\"Back\", \"Back to  previous view\", \"fa fa-arrow-left icon-arrow-left\", \"back\"], [\"Forward\", \"Forward to next view\", \"fa fa-arrow-right icon-arrow-right\", \"forward\"], [\"\", \"\", \"\", \"\"], [\"Pan\", \"Pan axes with left mouse, zoom with right\", \"fa fa-arrows icon-move\", \"pan\"], [\"Zoom\", \"Zoom to rectangle\", \"fa fa-square-o icon-check-empty\", \"zoom\"], [\"\", \"\", \"\", \"\"], [\"Download\", \"Download plot\", \"fa fa-floppy-o icon-save\", \"download\"]];\n",
       "\n",
       "mpl.extensions = [\"eps\", \"jpeg\", \"pdf\", \"png\", \"ps\", \"raw\", \"svg\", \"tif\"];\n",
       "\n",
       "mpl.default_extension = \"png\";var comm_websocket_adapter = function(comm) {\n",
       "    // Create a \"websocket\"-like object which calls the given IPython comm\n",
       "    // object with the appropriate methods. Currently this is a non binary\n",
       "    // socket, so there is still some room for performance tuning.\n",
       "    var ws = {};\n",
       "\n",
       "    ws.close = function() {\n",
       "        comm.close()\n",
       "    };\n",
       "    ws.send = function(m) {\n",
       "        //console.log('sending', m);\n",
       "        comm.send(m);\n",
       "    };\n",
       "    // Register the callback with on_msg.\n",
       "    comm.on_msg(function(msg) {\n",
       "        //console.log('receiving', msg['content']['data'], msg);\n",
       "        // Pass the mpl event to the overridden (by mpl) onmessage function.\n",
       "        ws.onmessage(msg['content']['data'])\n",
       "    });\n",
       "    return ws;\n",
       "}\n",
       "\n",
       "mpl.mpl_figure_comm = function(comm, msg) {\n",
       "    // This is the function which gets called when the mpl process\n",
       "    // starts-up an IPython Comm through the \"matplotlib\" channel.\n",
       "\n",
       "    var id = msg.content.data.id;\n",
       "    // Get hold of the div created by the display call when the Comm\n",
       "    // socket was opened in Python.\n",
       "    var element = $(\"#\" + id);\n",
       "    var ws_proxy = comm_websocket_adapter(comm)\n",
       "\n",
       "    function ondownload(figure, format) {\n",
       "        window.open(figure.imageObj.src);\n",
       "    }\n",
       "\n",
       "    var fig = new mpl.figure(id, ws_proxy,\n",
       "                           ondownload,\n",
       "                           element.get(0));\n",
       "\n",
       "    // Call onopen now - mpl needs it, as it is assuming we've passed it a real\n",
       "    // web socket which is closed, not our websocket->open comm proxy.\n",
       "    ws_proxy.onopen();\n",
       "\n",
       "    fig.parent_element = element.get(0);\n",
       "    fig.cell_info = mpl.find_output_cell(\"<div id='\" + id + \"'></div>\");\n",
       "    if (!fig.cell_info) {\n",
       "        console.error(\"Failed to find cell for figure\", id, fig);\n",
       "        return;\n",
       "    }\n",
       "\n",
       "    var output_index = fig.cell_info[2]\n",
       "    var cell = fig.cell_info[0];\n",
       "\n",
       "};\n",
       "\n",
       "mpl.figure.prototype.handle_close = function(fig, msg) {\n",
       "    var width = fig.canvas.width/mpl.ratio\n",
       "    fig.root.unbind('remove')\n",
       "\n",
       "    // Update the output cell to use the data from the current canvas.\n",
       "    fig.push_to_output();\n",
       "    var dataURL = fig.canvas.toDataURL();\n",
       "    // Re-enable the keyboard manager in IPython - without this line, in FF,\n",
       "    // the notebook keyboard shortcuts fail.\n",
       "    IPython.keyboard_manager.enable()\n",
       "    $(fig.parent_element).html('<img src=\"' + dataURL + '\" width=\"' + width + '\">');\n",
       "    fig.close_ws(fig, msg);\n",
       "}\n",
       "\n",
       "mpl.figure.prototype.close_ws = function(fig, msg){\n",
       "    fig.send_message('closing', msg);\n",
       "    // fig.ws.close()\n",
       "}\n",
       "\n",
       "mpl.figure.prototype.push_to_output = function(remove_interactive) {\n",
       "    // Turn the data on the canvas into data in the output cell.\n",
       "    var width = this.canvas.width/mpl.ratio\n",
       "    var dataURL = this.canvas.toDataURL();\n",
       "    this.cell_info[1]['text/html'] = '<img src=\"' + dataURL + '\" width=\"' + width + '\">';\n",
       "}\n",
       "\n",
       "mpl.figure.prototype.updated_canvas_event = function() {\n",
       "    // Tell IPython that the notebook contents must change.\n",
       "    IPython.notebook.set_dirty(true);\n",
       "    this.send_message(\"ack\", {});\n",
       "    var fig = this;\n",
       "    // Wait a second, then push the new image to the DOM so\n",
       "    // that it is saved nicely (might be nice to debounce this).\n",
       "    setTimeout(function () { fig.push_to_output() }, 1000);\n",
       "}\n",
       "\n",
       "mpl.figure.prototype._init_toolbar = function() {\n",
       "    var fig = this;\n",
       "\n",
       "    var nav_element = $('<div/>')\n",
       "    nav_element.attr('style', 'width: 100%');\n",
       "    this.root.append(nav_element);\n",
       "\n",
       "    // Define a callback function for later on.\n",
       "    function toolbar_event(event) {\n",
       "        return fig.toolbar_button_onclick(event['data']);\n",
       "    }\n",
       "    function toolbar_mouse_event(event) {\n",
       "        return fig.toolbar_button_onmouseover(event['data']);\n",
       "    }\n",
       "\n",
       "    for(var toolbar_ind in mpl.toolbar_items){\n",
       "        var name = mpl.toolbar_items[toolbar_ind][0];\n",
       "        var tooltip = mpl.toolbar_items[toolbar_ind][1];\n",
       "        var image = mpl.toolbar_items[toolbar_ind][2];\n",
       "        var method_name = mpl.toolbar_items[toolbar_ind][3];\n",
       "\n",
       "        if (!name) { continue; };\n",
       "\n",
       "        var button = $('<button class=\"btn btn-default\" href=\"#\" title=\"' + name + '\"><i class=\"fa ' + image + ' fa-lg\"></i></button>');\n",
       "        button.click(method_name, toolbar_event);\n",
       "        button.mouseover(tooltip, toolbar_mouse_event);\n",
       "        nav_element.append(button);\n",
       "    }\n",
       "\n",
       "    // Add the status bar.\n",
       "    var status_bar = $('<span class=\"mpl-message\" style=\"text-align:right; float: right;\"/>');\n",
       "    nav_element.append(status_bar);\n",
       "    this.message = status_bar[0];\n",
       "\n",
       "    // Add the close button to the window.\n",
       "    var buttongrp = $('<div class=\"btn-group inline pull-right\"></div>');\n",
       "    var button = $('<button class=\"btn btn-mini btn-primary\" href=\"#\" title=\"Stop Interaction\"><i class=\"fa fa-power-off icon-remove icon-large\"></i></button>');\n",
       "    button.click(function (evt) { fig.handle_close(fig, {}); } );\n",
       "    button.mouseover('Stop Interaction', toolbar_mouse_event);\n",
       "    buttongrp.append(button);\n",
       "    var titlebar = this.root.find($('.ui-dialog-titlebar'));\n",
       "    titlebar.prepend(buttongrp);\n",
       "}\n",
       "\n",
       "mpl.figure.prototype._root_extra_style = function(el){\n",
       "    var fig = this\n",
       "    el.on(\"remove\", function(){\n",
       "\tfig.close_ws(fig, {});\n",
       "    });\n",
       "}\n",
       "\n",
       "mpl.figure.prototype._canvas_extra_style = function(el){\n",
       "    // this is important to make the div 'focusable\n",
       "    el.attr('tabindex', 0)\n",
       "    // reach out to IPython and tell the keyboard manager to turn it's self\n",
       "    // off when our div gets focus\n",
       "\n",
       "    // location in version 3\n",
       "    if (IPython.notebook.keyboard_manager) {\n",
       "        IPython.notebook.keyboard_manager.register_events(el);\n",
       "    }\n",
       "    else {\n",
       "        // location in version 2\n",
       "        IPython.keyboard_manager.register_events(el);\n",
       "    }\n",
       "\n",
       "}\n",
       "\n",
       "mpl.figure.prototype._key_event_extra = function(event, name) {\n",
       "    var manager = IPython.notebook.keyboard_manager;\n",
       "    if (!manager)\n",
       "        manager = IPython.keyboard_manager;\n",
       "\n",
       "    // Check for shift+enter\n",
       "    if (event.shiftKey && event.which == 13) {\n",
       "        this.canvas_div.blur();\n",
       "        event.shiftKey = false;\n",
       "        // Send a \"J\" for go to next cell\n",
       "        event.which = 74;\n",
       "        event.keyCode = 74;\n",
       "        manager.command_mode();\n",
       "        manager.handle_keydown(event);\n",
       "    }\n",
       "}\n",
       "\n",
       "mpl.figure.prototype.handle_save = function(fig, msg) {\n",
       "    fig.ondownload(fig, null);\n",
       "}\n",
       "\n",
       "\n",
       "mpl.find_output_cell = function(html_output) {\n",
       "    // Return the cell and output element which can be found *uniquely* in the notebook.\n",
       "    // Note - this is a bit hacky, but it is done because the \"notebook_saving.Notebook\"\n",
       "    // IPython event is triggered only after the cells have been serialised, which for\n",
       "    // our purposes (turning an active figure into a static one), is too late.\n",
       "    var cells = IPython.notebook.get_cells();\n",
       "    var ncells = cells.length;\n",
       "    for (var i=0; i<ncells; i++) {\n",
       "        var cell = cells[i];\n",
       "        if (cell.cell_type === 'code'){\n",
       "            for (var j=0; j<cell.output_area.outputs.length; j++) {\n",
       "                var data = cell.output_area.outputs[j];\n",
       "                if (data.data) {\n",
       "                    // IPython >= 3 moved mimebundle to data attribute of output\n",
       "                    data = data.data;\n",
       "                }\n",
       "                if (data['text/html'] == html_output) {\n",
       "                    return [cell, data, j];\n",
       "                }\n",
       "            }\n",
       "        }\n",
       "    }\n",
       "}\n",
       "\n",
       "// Register the function which deals with the matplotlib target/channel.\n",
       "// The kernel may be null if the page has been refreshed.\n",
       "if (IPython.notebook.kernel != null) {\n",
       "    IPython.notebook.kernel.comm_manager.register_target('matplotlib', mpl.mpl_figure_comm);\n",
       "}\n"
      ],
      "text/plain": [
       "<IPython.core.display.Javascript object>"
      ]
     },
     "metadata": {},
     "output_type": "display_data"
    },
    {
     "data": {
      "text/html": [
       "<img src=\"data:image/png;base64,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\" width=\"640\">"
      ],
      "text/plain": [
       "<IPython.core.display.HTML object>"
      ]
     },
     "metadata": {},
     "output_type": "display_data"
    }
   ],
   "source": [
    "plt.figure()\n",
    "plt.subplot(1,2,1)\n",
    "plt.plot(v1 ** 2,'g--', label='$y = x^2$')\n",
    "plt.legend(loc=0)\n",
    "plt.subplot(1,2,2)\n",
    "plt.plot(np.sqrt(v1), 'r*-', label='$y = \\sqrt{x}$')\n",
    "plt.legend(loc=2)\n",
    "plt.show()"
   ]
  },
  {
   "cell_type": "code",
   "execution_count": 99,
   "metadata": {
    "collapsed": false
   },
   "outputs": [
    {
     "name": "stdout",
     "output_type": "stream",
     "text": [
      "[[ 0  1  2  3  4]\n",
      " [10 11 12 13 14]\n",
      " [20 21 22 23 24]\n",
      " [30 31 32 33 34]\n",
      " [40 41 42 43 44]]\n"
     ]
    }
   ],
   "source": [
    "A = np.array([[n+m*10 for n in range(5)] for m in range(5)])\n",
    "print(A)"
   ]
  },
  {
   "cell_type": "code",
   "execution_count": 101,
   "metadata": {
    "collapsed": false
   },
   "outputs": [
    {
     "name": "stdout",
     "output_type": "stream",
     "text": [
      "[[ 0  2  4  6  8]\n",
      " [20 22 24 26 28]\n",
      " [40 42 44 46 48]\n",
      " [60 62 64 66 68]\n",
      " [80 82 84 86 88]]\n"
     ]
    }
   ],
   "source": [
    "print(A * 2)"
   ]
  },
  {
   "cell_type": "code",
   "execution_count": 102,
   "metadata": {
    "collapsed": false
   },
   "outputs": [
    {
     "name": "stdout",
     "output_type": "stream",
     "text": [
      "[[ 2  3  4  5  6]\n",
      " [12 13 14 15 16]\n",
      " [22 23 24 25 26]\n",
      " [32 33 34 35 36]\n",
      " [42 43 44 45 46]]\n"
     ]
    }
   ],
   "source": [
    "print(A + 2)"
   ]
  },
  {
   "cell_type": "markdown",
   "metadata": {},
   "source": [
    "### Visualiser des matrices"
   ]
  },
  {
   "cell_type": "code",
   "execution_count": 103,
   "metadata": {
    "collapsed": false
   },
   "outputs": [
    {
     "data": {
      "application/javascript": [
       "/* Put everything inside the global mpl namespace */\n",
       "window.mpl = {};\n",
       "\n",
       "\n",
       "mpl.get_websocket_type = function() {\n",
       "    if (typeof(WebSocket) !== 'undefined') {\n",
       "        return WebSocket;\n",
       "    } else if (typeof(MozWebSocket) !== 'undefined') {\n",
       "        return MozWebSocket;\n",
       "    } else {\n",
       "        alert('Your browser does not have WebSocket support.' +\n",
       "              'Please try Chrome, Safari or Firefox ≥ 6. ' +\n",
       "              'Firefox 4 and 5 are also supported but you ' +\n",
       "              'have to enable WebSockets in about:config.');\n",
       "    };\n",
       "}\n",
       "\n",
       "mpl.figure = function(figure_id, websocket, ondownload, parent_element) {\n",
       "    this.id = figure_id;\n",
       "\n",
       "    this.ws = websocket;\n",
       "\n",
       "    this.supports_binary = (this.ws.binaryType != undefined);\n",
       "\n",
       "    if (!this.supports_binary) {\n",
       "        var warnings = document.getElementById(\"mpl-warnings\");\n",
       "        if (warnings) {\n",
       "            warnings.style.display = 'block';\n",
       "            warnings.textContent = (\n",
       "                \"This browser does not support binary websocket messages. \" +\n",
       "                    \"Performance may be slow.\");\n",
       "        }\n",
       "    }\n",
       "\n",
       "    this.imageObj = new Image();\n",
       "\n",
       "    this.context = undefined;\n",
       "    this.message = undefined;\n",
       "    this.canvas = undefined;\n",
       "    this.rubberband_canvas = undefined;\n",
       "    this.rubberband_context = undefined;\n",
       "    this.format_dropdown = undefined;\n",
       "\n",
       "    this.image_mode = 'full';\n",
       "\n",
       "    this.root = $('<div/>');\n",
       "    this._root_extra_style(this.root)\n",
       "    this.root.attr('style', 'display: inline-block');\n",
       "\n",
       "    $(parent_element).append(this.root);\n",
       "\n",
       "    this._init_header(this);\n",
       "    this._init_canvas(this);\n",
       "    this._init_toolbar(this);\n",
       "\n",
       "    var fig = this;\n",
       "\n",
       "    this.waiting = false;\n",
       "\n",
       "    this.ws.onopen =  function () {\n",
       "            fig.send_message(\"supports_binary\", {value: fig.supports_binary});\n",
       "            fig.send_message(\"send_image_mode\", {});\n",
       "            if (mpl.ratio != 1) {\n",
       "                fig.send_message(\"set_dpi_ratio\", {'dpi_ratio': mpl.ratio});\n",
       "            }\n",
       "            fig.send_message(\"refresh\", {});\n",
       "        }\n",
       "\n",
       "    this.imageObj.onload = function() {\n",
       "            if (fig.image_mode == 'full') {\n",
       "                // Full images could contain transparency (where diff images\n",
       "                // almost always do), so we need to clear the canvas so that\n",
       "                // there is no ghosting.\n",
       "                fig.context.clearRect(0, 0, fig.canvas.width, fig.canvas.height);\n",
       "            }\n",
       "            fig.context.drawImage(fig.imageObj, 0, 0);\n",
       "        };\n",
       "\n",
       "    this.imageObj.onunload = function() {\n",
       "        fig.ws.close();\n",
       "    }\n",
       "\n",
       "    this.ws.onmessage = this._make_on_message_function(this);\n",
       "\n",
       "    this.ondownload = ondownload;\n",
       "}\n",
       "\n",
       "mpl.figure.prototype._init_header = function() {\n",
       "    var titlebar = $(\n",
       "        '<div class=\"ui-dialog-titlebar ui-widget-header ui-corner-all ' +\n",
       "        'ui-helper-clearfix\"/>');\n",
       "    var titletext = $(\n",
       "        '<div class=\"ui-dialog-title\" style=\"width: 100%; ' +\n",
       "        'text-align: center; padding: 3px;\"/>');\n",
       "    titlebar.append(titletext)\n",
       "    this.root.append(titlebar);\n",
       "    this.header = titletext[0];\n",
       "}\n",
       "\n",
       "\n",
       "\n",
       "mpl.figure.prototype._canvas_extra_style = function(canvas_div) {\n",
       "\n",
       "}\n",
       "\n",
       "\n",
       "mpl.figure.prototype._root_extra_style = function(canvas_div) {\n",
       "\n",
       "}\n",
       "\n",
       "mpl.figure.prototype._init_canvas = function() {\n",
       "    var fig = this;\n",
       "\n",
       "    var canvas_div = $('<div/>');\n",
       "\n",
       "    canvas_div.attr('style', 'position: relative; clear: both; outline: 0');\n",
       "\n",
       "    function canvas_keyboard_event(event) {\n",
       "        return fig.key_event(event, event['data']);\n",
       "    }\n",
       "\n",
       "    canvas_div.keydown('key_press', canvas_keyboard_event);\n",
       "    canvas_div.keyup('key_release', canvas_keyboard_event);\n",
       "    this.canvas_div = canvas_div\n",
       "    this._canvas_extra_style(canvas_div)\n",
       "    this.root.append(canvas_div);\n",
       "\n",
       "    var canvas = $('<canvas/>');\n",
       "    canvas.addClass('mpl-canvas');\n",
       "    canvas.attr('style', \"left: 0; top: 0; z-index: 0; outline: 0\")\n",
       "\n",
       "    this.canvas = canvas[0];\n",
       "    this.context = canvas[0].getContext(\"2d\");\n",
       "\n",
       "    var backingStore = this.context.backingStorePixelRatio ||\n",
       "\tthis.context.webkitBackingStorePixelRatio ||\n",
       "\tthis.context.mozBackingStorePixelRatio ||\n",
       "\tthis.context.msBackingStorePixelRatio ||\n",
       "\tthis.context.oBackingStorePixelRatio ||\n",
       "\tthis.context.backingStorePixelRatio || 1;\n",
       "\n",
       "    mpl.ratio = (window.devicePixelRatio || 1) / backingStore;\n",
       "\n",
       "    var rubberband = $('<canvas/>');\n",
       "    rubberband.attr('style', \"position: absolute; left: 0; top: 0; z-index: 1;\")\n",
       "\n",
       "    var pass_mouse_events = true;\n",
       "\n",
       "    canvas_div.resizable({\n",
       "        start: function(event, ui) {\n",
       "            pass_mouse_events = false;\n",
       "        },\n",
       "        resize: function(event, ui) {\n",
       "            fig.request_resize(ui.size.width, ui.size.height);\n",
       "        },\n",
       "        stop: function(event, ui) {\n",
       "            pass_mouse_events = true;\n",
       "            fig.request_resize(ui.size.width, ui.size.height);\n",
       "        },\n",
       "    });\n",
       "\n",
       "    function mouse_event_fn(event) {\n",
       "        if (pass_mouse_events)\n",
       "            return fig.mouse_event(event, event['data']);\n",
       "    }\n",
       "\n",
       "    rubberband.mousedown('button_press', mouse_event_fn);\n",
       "    rubberband.mouseup('button_release', mouse_event_fn);\n",
       "    // Throttle sequential mouse events to 1 every 20ms.\n",
       "    rubberband.mousemove('motion_notify', mouse_event_fn);\n",
       "\n",
       "    rubberband.mouseenter('figure_enter', mouse_event_fn);\n",
       "    rubberband.mouseleave('figure_leave', mouse_event_fn);\n",
       "\n",
       "    canvas_div.on(\"wheel\", function (event) {\n",
       "        event = event.originalEvent;\n",
       "        event['data'] = 'scroll'\n",
       "        if (event.deltaY < 0) {\n",
       "            event.step = 1;\n",
       "        } else {\n",
       "            event.step = -1;\n",
       "        }\n",
       "        mouse_event_fn(event);\n",
       "    });\n",
       "\n",
       "    canvas_div.append(canvas);\n",
       "    canvas_div.append(rubberband);\n",
       "\n",
       "    this.rubberband = rubberband;\n",
       "    this.rubberband_canvas = rubberband[0];\n",
       "    this.rubberband_context = rubberband[0].getContext(\"2d\");\n",
       "    this.rubberband_context.strokeStyle = \"#000000\";\n",
       "\n",
       "    this._resize_canvas = function(width, height) {\n",
       "        // Keep the size of the canvas, canvas container, and rubber band\n",
       "        // canvas in synch.\n",
       "        canvas_div.css('width', width)\n",
       "        canvas_div.css('height', height)\n",
       "\n",
       "        canvas.attr('width', width * mpl.ratio);\n",
       "        canvas.attr('height', height * mpl.ratio);\n",
       "        canvas.attr('style', 'width: ' + width + 'px; height: ' + height + 'px;');\n",
       "\n",
       "        rubberband.attr('width', width);\n",
       "        rubberband.attr('height', height);\n",
       "    }\n",
       "\n",
       "    // Set the figure to an initial 600x600px, this will subsequently be updated\n",
       "    // upon first draw.\n",
       "    this._resize_canvas(600, 600);\n",
       "\n",
       "    // Disable right mouse context menu.\n",
       "    $(this.rubberband_canvas).bind(\"contextmenu\",function(e){\n",
       "        return false;\n",
       "    });\n",
       "\n",
       "    function set_focus () {\n",
       "        canvas.focus();\n",
       "        canvas_div.focus();\n",
       "    }\n",
       "\n",
       "    window.setTimeout(set_focus, 100);\n",
       "}\n",
       "\n",
       "mpl.figure.prototype._init_toolbar = function() {\n",
       "    var fig = this;\n",
       "\n",
       "    var nav_element = $('<div/>')\n",
       "    nav_element.attr('style', 'width: 100%');\n",
       "    this.root.append(nav_element);\n",
       "\n",
       "    // Define a callback function for later on.\n",
       "    function toolbar_event(event) {\n",
       "        return fig.toolbar_button_onclick(event['data']);\n",
       "    }\n",
       "    function toolbar_mouse_event(event) {\n",
       "        return fig.toolbar_button_onmouseover(event['data']);\n",
       "    }\n",
       "\n",
       "    for(var toolbar_ind in mpl.toolbar_items) {\n",
       "        var name = mpl.toolbar_items[toolbar_ind][0];\n",
       "        var tooltip = mpl.toolbar_items[toolbar_ind][1];\n",
       "        var image = mpl.toolbar_items[toolbar_ind][2];\n",
       "        var method_name = mpl.toolbar_items[toolbar_ind][3];\n",
       "\n",
       "        if (!name) {\n",
       "            // put a spacer in here.\n",
       "            continue;\n",
       "        }\n",
       "        var button = $('<button/>');\n",
       "        button.addClass('ui-button ui-widget ui-state-default ui-corner-all ' +\n",
       "                        'ui-button-icon-only');\n",
       "        button.attr('role', 'button');\n",
       "        button.attr('aria-disabled', 'false');\n",
       "        button.click(method_name, toolbar_event);\n",
       "        button.mouseover(tooltip, toolbar_mouse_event);\n",
       "\n",
       "        var icon_img = $('<span/>');\n",
       "        icon_img.addClass('ui-button-icon-primary ui-icon');\n",
       "        icon_img.addClass(image);\n",
       "        icon_img.addClass('ui-corner-all');\n",
       "\n",
       "        var tooltip_span = $('<span/>');\n",
       "        tooltip_span.addClass('ui-button-text');\n",
       "        tooltip_span.html(tooltip);\n",
       "\n",
       "        button.append(icon_img);\n",
       "        button.append(tooltip_span);\n",
       "\n",
       "        nav_element.append(button);\n",
       "    }\n",
       "\n",
       "    var fmt_picker_span = $('<span/>');\n",
       "\n",
       "    var fmt_picker = $('<select/>');\n",
       "    fmt_picker.addClass('mpl-toolbar-option ui-widget ui-widget-content');\n",
       "    fmt_picker_span.append(fmt_picker);\n",
       "    nav_element.append(fmt_picker_span);\n",
       "    this.format_dropdown = fmt_picker[0];\n",
       "\n",
       "    for (var ind in mpl.extensions) {\n",
       "        var fmt = mpl.extensions[ind];\n",
       "        var option = $(\n",
       "            '<option/>', {selected: fmt === mpl.default_extension}).html(fmt);\n",
       "        fmt_picker.append(option)\n",
       "    }\n",
       "\n",
       "    // Add hover states to the ui-buttons\n",
       "    $( \".ui-button\" ).hover(\n",
       "        function() { $(this).addClass(\"ui-state-hover\");},\n",
       "        function() { $(this).removeClass(\"ui-state-hover\");}\n",
       "    );\n",
       "\n",
       "    var status_bar = $('<span class=\"mpl-message\"/>');\n",
       "    nav_element.append(status_bar);\n",
       "    this.message = status_bar[0];\n",
       "}\n",
       "\n",
       "mpl.figure.prototype.request_resize = function(x_pixels, y_pixels) {\n",
       "    // Request matplotlib to resize the figure. Matplotlib will then trigger a resize in the client,\n",
       "    // which will in turn request a refresh of the image.\n",
       "    this.send_message('resize', {'width': x_pixels, 'height': y_pixels});\n",
       "}\n",
       "\n",
       "mpl.figure.prototype.send_message = function(type, properties) {\n",
       "    properties['type'] = type;\n",
       "    properties['figure_id'] = this.id;\n",
       "    this.ws.send(JSON.stringify(properties));\n",
       "}\n",
       "\n",
       "mpl.figure.prototype.send_draw_message = function() {\n",
       "    if (!this.waiting) {\n",
       "        this.waiting = true;\n",
       "        this.ws.send(JSON.stringify({type: \"draw\", figure_id: this.id}));\n",
       "    }\n",
       "}\n",
       "\n",
       "\n",
       "mpl.figure.prototype.handle_save = function(fig, msg) {\n",
       "    var format_dropdown = fig.format_dropdown;\n",
       "    var format = format_dropdown.options[format_dropdown.selectedIndex].value;\n",
       "    fig.ondownload(fig, format);\n",
       "}\n",
       "\n",
       "\n",
       "mpl.figure.prototype.handle_resize = function(fig, msg) {\n",
       "    var size = msg['size'];\n",
       "    if (size[0] != fig.canvas.width || size[1] != fig.canvas.height) {\n",
       "        fig._resize_canvas(size[0], size[1]);\n",
       "        fig.send_message(\"refresh\", {});\n",
       "    };\n",
       "}\n",
       "\n",
       "mpl.figure.prototype.handle_rubberband = function(fig, msg) {\n",
       "    var x0 = msg['x0'] / mpl.ratio;\n",
       "    var y0 = (fig.canvas.height - msg['y0']) / mpl.ratio;\n",
       "    var x1 = msg['x1'] / mpl.ratio;\n",
       "    var y1 = (fig.canvas.height - msg['y1']) / mpl.ratio;\n",
       "    x0 = Math.floor(x0) + 0.5;\n",
       "    y0 = Math.floor(y0) + 0.5;\n",
       "    x1 = Math.floor(x1) + 0.5;\n",
       "    y1 = Math.floor(y1) + 0.5;\n",
       "    var min_x = Math.min(x0, x1);\n",
       "    var min_y = Math.min(y0, y1);\n",
       "    var width = Math.abs(x1 - x0);\n",
       "    var height = Math.abs(y1 - y0);\n",
       "\n",
       "    fig.rubberband_context.clearRect(\n",
       "        0, 0, fig.canvas.width, fig.canvas.height);\n",
       "\n",
       "    fig.rubberband_context.strokeRect(min_x, min_y, width, height);\n",
       "}\n",
       "\n",
       "mpl.figure.prototype.handle_figure_label = function(fig, msg) {\n",
       "    // Updates the figure title.\n",
       "    fig.header.textContent = msg['label'];\n",
       "}\n",
       "\n",
       "mpl.figure.prototype.handle_cursor = function(fig, msg) {\n",
       "    var cursor = msg['cursor'];\n",
       "    switch(cursor)\n",
       "    {\n",
       "    case 0:\n",
       "        cursor = 'pointer';\n",
       "        break;\n",
       "    case 1:\n",
       "        cursor = 'default';\n",
       "        break;\n",
       "    case 2:\n",
       "        cursor = 'crosshair';\n",
       "        break;\n",
       "    case 3:\n",
       "        cursor = 'move';\n",
       "        break;\n",
       "    }\n",
       "    fig.rubberband_canvas.style.cursor = cursor;\n",
       "}\n",
       "\n",
       "mpl.figure.prototype.handle_message = function(fig, msg) {\n",
       "    fig.message.textContent = msg['message'];\n",
       "}\n",
       "\n",
       "mpl.figure.prototype.handle_draw = function(fig, msg) {\n",
       "    // Request the server to send over a new figure.\n",
       "    fig.send_draw_message();\n",
       "}\n",
       "\n",
       "mpl.figure.prototype.handle_image_mode = function(fig, msg) {\n",
       "    fig.image_mode = msg['mode'];\n",
       "}\n",
       "\n",
       "mpl.figure.prototype.updated_canvas_event = function() {\n",
       "    // Called whenever the canvas gets updated.\n",
       "    this.send_message(\"ack\", {});\n",
       "}\n",
       "\n",
       "// A function to construct a web socket function for onmessage handling.\n",
       "// Called in the figure constructor.\n",
       "mpl.figure.prototype._make_on_message_function = function(fig) {\n",
       "    return function socket_on_message(evt) {\n",
       "        if (evt.data instanceof Blob) {\n",
       "            /* FIXME: We get \"Resource interpreted as Image but\n",
       "             * transferred with MIME type text/plain:\" errors on\n",
       "             * Chrome.  But how to set the MIME type?  It doesn't seem\n",
       "             * to be part of the websocket stream */\n",
       "            evt.data.type = \"image/png\";\n",
       "\n",
       "            /* Free the memory for the previous frames */\n",
       "            if (fig.imageObj.src) {\n",
       "                (window.URL || window.webkitURL).revokeObjectURL(\n",
       "                    fig.imageObj.src);\n",
       "            }\n",
       "\n",
       "            fig.imageObj.src = (window.URL || window.webkitURL).createObjectURL(\n",
       "                evt.data);\n",
       "            fig.updated_canvas_event();\n",
       "            fig.waiting = false;\n",
       "            return;\n",
       "        }\n",
       "        else if (typeof evt.data === 'string' && evt.data.slice(0, 21) == \"data:image/png;base64\") {\n",
       "            fig.imageObj.src = evt.data;\n",
       "            fig.updated_canvas_event();\n",
       "            fig.waiting = false;\n",
       "            return;\n",
       "        }\n",
       "\n",
       "        var msg = JSON.parse(evt.data);\n",
       "        var msg_type = msg['type'];\n",
       "\n",
       "        // Call the  \"handle_{type}\" callback, which takes\n",
       "        // the figure and JSON message as its only arguments.\n",
       "        try {\n",
       "            var callback = fig[\"handle_\" + msg_type];\n",
       "        } catch (e) {\n",
       "            console.log(\"No handler for the '\" + msg_type + \"' message type: \", msg);\n",
       "            return;\n",
       "        }\n",
       "\n",
       "        if (callback) {\n",
       "            try {\n",
       "                // console.log(\"Handling '\" + msg_type + \"' message: \", msg);\n",
       "                callback(fig, msg);\n",
       "            } catch (e) {\n",
       "                console.log(\"Exception inside the 'handler_\" + msg_type + \"' callback:\", e, e.stack, msg);\n",
       "            }\n",
       "        }\n",
       "    };\n",
       "}\n",
       "\n",
       "// from http://stackoverflow.com/questions/1114465/getting-mouse-location-in-canvas\n",
       "mpl.findpos = function(e) {\n",
       "    //this section is from http://www.quirksmode.org/js/events_properties.html\n",
       "    var targ;\n",
       "    if (!e)\n",
       "        e = window.event;\n",
       "    if (e.target)\n",
       "        targ = e.target;\n",
       "    else if (e.srcElement)\n",
       "        targ = e.srcElement;\n",
       "    if (targ.nodeType == 3) // defeat Safari bug\n",
       "        targ = targ.parentNode;\n",
       "\n",
       "    // jQuery normalizes the pageX and pageY\n",
       "    // pageX,Y are the mouse positions relative to the document\n",
       "    // offset() returns the position of the element relative to the document\n",
       "    var x = e.pageX - $(targ).offset().left;\n",
       "    var y = e.pageY - $(targ).offset().top;\n",
       "\n",
       "    return {\"x\": x, \"y\": y};\n",
       "};\n",
       "\n",
       "/*\n",
       " * return a copy of an object with only non-object keys\n",
       " * we need this to avoid circular references\n",
       " * http://stackoverflow.com/a/24161582/3208463\n",
       " */\n",
       "function simpleKeys (original) {\n",
       "  return Object.keys(original).reduce(function (obj, key) {\n",
       "    if (typeof original[key] !== 'object')\n",
       "        obj[key] = original[key]\n",
       "    return obj;\n",
       "  }, {});\n",
       "}\n",
       "\n",
       "mpl.figure.prototype.mouse_event = function(event, name) {\n",
       "    var canvas_pos = mpl.findpos(event)\n",
       "\n",
       "    if (name === 'button_press')\n",
       "    {\n",
       "        this.canvas.focus();\n",
       "        this.canvas_div.focus();\n",
       "    }\n",
       "\n",
       "    var x = canvas_pos.x * mpl.ratio;\n",
       "    var y = canvas_pos.y * mpl.ratio;\n",
       "\n",
       "    this.send_message(name, {x: x, y: y, button: event.button,\n",
       "                             step: event.step,\n",
       "                             guiEvent: simpleKeys(event)});\n",
       "\n",
       "    /* This prevents the web browser from automatically changing to\n",
       "     * the text insertion cursor when the button is pressed.  We want\n",
       "     * to control all of the cursor setting manually through the\n",
       "     * 'cursor' event from matplotlib */\n",
       "    event.preventDefault();\n",
       "    return false;\n",
       "}\n",
       "\n",
       "mpl.figure.prototype._key_event_extra = function(event, name) {\n",
       "    // Handle any extra behaviour associated with a key event\n",
       "}\n",
       "\n",
       "mpl.figure.prototype.key_event = function(event, name) {\n",
       "\n",
       "    // Prevent repeat events\n",
       "    if (name == 'key_press')\n",
       "    {\n",
       "        if (event.which === this._key)\n",
       "            return;\n",
       "        else\n",
       "            this._key = event.which;\n",
       "    }\n",
       "    if (name == 'key_release')\n",
       "        this._key = null;\n",
       "\n",
       "    var value = '';\n",
       "    if (event.ctrlKey && event.which != 17)\n",
       "        value += \"ctrl+\";\n",
       "    if (event.altKey && event.which != 18)\n",
       "        value += \"alt+\";\n",
       "    if (event.shiftKey && event.which != 16)\n",
       "        value += \"shift+\";\n",
       "\n",
       "    value += 'k';\n",
       "    value += event.which.toString();\n",
       "\n",
       "    this._key_event_extra(event, name);\n",
       "\n",
       "    this.send_message(name, {key: value,\n",
       "                             guiEvent: simpleKeys(event)});\n",
       "    return false;\n",
       "}\n",
       "\n",
       "mpl.figure.prototype.toolbar_button_onclick = function(name) {\n",
       "    if (name == 'download') {\n",
       "        this.handle_save(this, null);\n",
       "    } else {\n",
       "        this.send_message(\"toolbar_button\", {name: name});\n",
       "    }\n",
       "};\n",
       "\n",
       "mpl.figure.prototype.toolbar_button_onmouseover = function(tooltip) {\n",
       "    this.message.textContent = tooltip;\n",
       "};\n",
       "mpl.toolbar_items = [[\"Home\", \"Reset original view\", \"fa fa-home icon-home\", \"home\"], [\"Back\", \"Back to  previous view\", \"fa fa-arrow-left icon-arrow-left\", \"back\"], [\"Forward\", \"Forward to next view\", \"fa fa-arrow-right icon-arrow-right\", \"forward\"], [\"\", \"\", \"\", \"\"], [\"Pan\", \"Pan axes with left mouse, zoom with right\", \"fa fa-arrows icon-move\", \"pan\"], [\"Zoom\", \"Zoom to rectangle\", \"fa fa-square-o icon-check-empty\", \"zoom\"], [\"\", \"\", \"\", \"\"], [\"Download\", \"Download plot\", \"fa fa-floppy-o icon-save\", \"download\"]];\n",
       "\n",
       "mpl.extensions = [\"eps\", \"jpeg\", \"pdf\", \"png\", \"ps\", \"raw\", \"svg\", \"tif\"];\n",
       "\n",
       "mpl.default_extension = \"png\";var comm_websocket_adapter = function(comm) {\n",
       "    // Create a \"websocket\"-like object which calls the given IPython comm\n",
       "    // object with the appropriate methods. Currently this is a non binary\n",
       "    // socket, so there is still some room for performance tuning.\n",
       "    var ws = {};\n",
       "\n",
       "    ws.close = function() {\n",
       "        comm.close()\n",
       "    };\n",
       "    ws.send = function(m) {\n",
       "        //console.log('sending', m);\n",
       "        comm.send(m);\n",
       "    };\n",
       "    // Register the callback with on_msg.\n",
       "    comm.on_msg(function(msg) {\n",
       "        //console.log('receiving', msg['content']['data'], msg);\n",
       "        // Pass the mpl event to the overridden (by mpl) onmessage function.\n",
       "        ws.onmessage(msg['content']['data'])\n",
       "    });\n",
       "    return ws;\n",
       "}\n",
       "\n",
       "mpl.mpl_figure_comm = function(comm, msg) {\n",
       "    // This is the function which gets called when the mpl process\n",
       "    // starts-up an IPython Comm through the \"matplotlib\" channel.\n",
       "\n",
       "    var id = msg.content.data.id;\n",
       "    // Get hold of the div created by the display call when the Comm\n",
       "    // socket was opened in Python.\n",
       "    var element = $(\"#\" + id);\n",
       "    var ws_proxy = comm_websocket_adapter(comm)\n",
       "\n",
       "    function ondownload(figure, format) {\n",
       "        window.open(figure.imageObj.src);\n",
       "    }\n",
       "\n",
       "    var fig = new mpl.figure(id, ws_proxy,\n",
       "                           ondownload,\n",
       "                           element.get(0));\n",
       "\n",
       "    // Call onopen now - mpl needs it, as it is assuming we've passed it a real\n",
       "    // web socket which is closed, not our websocket->open comm proxy.\n",
       "    ws_proxy.onopen();\n",
       "\n",
       "    fig.parent_element = element.get(0);\n",
       "    fig.cell_info = mpl.find_output_cell(\"<div id='\" + id + \"'></div>\");\n",
       "    if (!fig.cell_info) {\n",
       "        console.error(\"Failed to find cell for figure\", id, fig);\n",
       "        return;\n",
       "    }\n",
       "\n",
       "    var output_index = fig.cell_info[2]\n",
       "    var cell = fig.cell_info[0];\n",
       "\n",
       "};\n",
       "\n",
       "mpl.figure.prototype.handle_close = function(fig, msg) {\n",
       "    var width = fig.canvas.width/mpl.ratio\n",
       "    fig.root.unbind('remove')\n",
       "\n",
       "    // Update the output cell to use the data from the current canvas.\n",
       "    fig.push_to_output();\n",
       "    var dataURL = fig.canvas.toDataURL();\n",
       "    // Re-enable the keyboard manager in IPython - without this line, in FF,\n",
       "    // the notebook keyboard shortcuts fail.\n",
       "    IPython.keyboard_manager.enable()\n",
       "    $(fig.parent_element).html('<img src=\"' + dataURL + '\" width=\"' + width + '\">');\n",
       "    fig.close_ws(fig, msg);\n",
       "}\n",
       "\n",
       "mpl.figure.prototype.close_ws = function(fig, msg){\n",
       "    fig.send_message('closing', msg);\n",
       "    // fig.ws.close()\n",
       "}\n",
       "\n",
       "mpl.figure.prototype.push_to_output = function(remove_interactive) {\n",
       "    // Turn the data on the canvas into data in the output cell.\n",
       "    var width = this.canvas.width/mpl.ratio\n",
       "    var dataURL = this.canvas.toDataURL();\n",
       "    this.cell_info[1]['text/html'] = '<img src=\"' + dataURL + '\" width=\"' + width + '\">';\n",
       "}\n",
       "\n",
       "mpl.figure.prototype.updated_canvas_event = function() {\n",
       "    // Tell IPython that the notebook contents must change.\n",
       "    IPython.notebook.set_dirty(true);\n",
       "    this.send_message(\"ack\", {});\n",
       "    var fig = this;\n",
       "    // Wait a second, then push the new image to the DOM so\n",
       "    // that it is saved nicely (might be nice to debounce this).\n",
       "    setTimeout(function () { fig.push_to_output() }, 1000);\n",
       "}\n",
       "\n",
       "mpl.figure.prototype._init_toolbar = function() {\n",
       "    var fig = this;\n",
       "\n",
       "    var nav_element = $('<div/>')\n",
       "    nav_element.attr('style', 'width: 100%');\n",
       "    this.root.append(nav_element);\n",
       "\n",
       "    // Define a callback function for later on.\n",
       "    function toolbar_event(event) {\n",
       "        return fig.toolbar_button_onclick(event['data']);\n",
       "    }\n",
       "    function toolbar_mouse_event(event) {\n",
       "        return fig.toolbar_button_onmouseover(event['data']);\n",
       "    }\n",
       "\n",
       "    for(var toolbar_ind in mpl.toolbar_items){\n",
       "        var name = mpl.toolbar_items[toolbar_ind][0];\n",
       "        var tooltip = mpl.toolbar_items[toolbar_ind][1];\n",
       "        var image = mpl.toolbar_items[toolbar_ind][2];\n",
       "        var method_name = mpl.toolbar_items[toolbar_ind][3];\n",
       "\n",
       "        if (!name) { continue; };\n",
       "\n",
       "        var button = $('<button class=\"btn btn-default\" href=\"#\" title=\"' + name + '\"><i class=\"fa ' + image + ' fa-lg\"></i></button>');\n",
       "        button.click(method_name, toolbar_event);\n",
       "        button.mouseover(tooltip, toolbar_mouse_event);\n",
       "        nav_element.append(button);\n",
       "    }\n",
       "\n",
       "    // Add the status bar.\n",
       "    var status_bar = $('<span class=\"mpl-message\" style=\"text-align:right; float: right;\"/>');\n",
       "    nav_element.append(status_bar);\n",
       "    this.message = status_bar[0];\n",
       "\n",
       "    // Add the close button to the window.\n",
       "    var buttongrp = $('<div class=\"btn-group inline pull-right\"></div>');\n",
       "    var button = $('<button class=\"btn btn-mini btn-primary\" href=\"#\" title=\"Stop Interaction\"><i class=\"fa fa-power-off icon-remove icon-large\"></i></button>');\n",
       "    button.click(function (evt) { fig.handle_close(fig, {}); } );\n",
       "    button.mouseover('Stop Interaction', toolbar_mouse_event);\n",
       "    buttongrp.append(button);\n",
       "    var titlebar = this.root.find($('.ui-dialog-titlebar'));\n",
       "    titlebar.prepend(buttongrp);\n",
       "}\n",
       "\n",
       "mpl.figure.prototype._root_extra_style = function(el){\n",
       "    var fig = this\n",
       "    el.on(\"remove\", function(){\n",
       "\tfig.close_ws(fig, {});\n",
       "    });\n",
       "}\n",
       "\n",
       "mpl.figure.prototype._canvas_extra_style = function(el){\n",
       "    // this is important to make the div 'focusable\n",
       "    el.attr('tabindex', 0)\n",
       "    // reach out to IPython and tell the keyboard manager to turn it's self\n",
       "    // off when our div gets focus\n",
       "\n",
       "    // location in version 3\n",
       "    if (IPython.notebook.keyboard_manager) {\n",
       "        IPython.notebook.keyboard_manager.register_events(el);\n",
       "    }\n",
       "    else {\n",
       "        // location in version 2\n",
       "        IPython.keyboard_manager.register_events(el);\n",
       "    }\n",
       "\n",
       "}\n",
       "\n",
       "mpl.figure.prototype._key_event_extra = function(event, name) {\n",
       "    var manager = IPython.notebook.keyboard_manager;\n",
       "    if (!manager)\n",
       "        manager = IPython.keyboard_manager;\n",
       "\n",
       "    // Check for shift+enter\n",
       "    if (event.shiftKey && event.which == 13) {\n",
       "        this.canvas_div.blur();\n",
       "        event.shiftKey = false;\n",
       "        // Send a \"J\" for go to next cell\n",
       "        event.which = 74;\n",
       "        event.keyCode = 74;\n",
       "        manager.command_mode();\n",
       "        manager.handle_keydown(event);\n",
       "    }\n",
       "}\n",
       "\n",
       "mpl.figure.prototype.handle_save = function(fig, msg) {\n",
       "    fig.ondownload(fig, null);\n",
       "}\n",
       "\n",
       "\n",
       "mpl.find_output_cell = function(html_output) {\n",
       "    // Return the cell and output element which can be found *uniquely* in the notebook.\n",
       "    // Note - this is a bit hacky, but it is done because the \"notebook_saving.Notebook\"\n",
       "    // IPython event is triggered only after the cells have been serialised, which for\n",
       "    // our purposes (turning an active figure into a static one), is too late.\n",
       "    var cells = IPython.notebook.get_cells();\n",
       "    var ncells = cells.length;\n",
       "    for (var i=0; i<ncells; i++) {\n",
       "        var cell = cells[i];\n",
       "        if (cell.cell_type === 'code'){\n",
       "            for (var j=0; j<cell.output_area.outputs.length; j++) {\n",
       "                var data = cell.output_area.outputs[j];\n",
       "                if (data.data) {\n",
       "                    // IPython >= 3 moved mimebundle to data attribute of output\n",
       "                    data = data.data;\n",
       "                }\n",
       "                if (data['text/html'] == html_output) {\n",
       "                    return [cell, data, j];\n",
       "                }\n",
       "            }\n",
       "        }\n",
       "    }\n",
       "}\n",
       "\n",
       "// Register the function which deals with the matplotlib target/channel.\n",
       "// The kernel may be null if the page has been refreshed.\n",
       "if (IPython.notebook.kernel != null) {\n",
       "    IPython.notebook.kernel.comm_manager.register_target('matplotlib', mpl.mpl_figure_comm);\n",
       "}\n"
      ],
      "text/plain": [
       "<IPython.core.display.Javascript object>"
      ]
     },
     "metadata": {},
     "output_type": "display_data"
    },
    {
     "data": {
      "text/html": [
       "<img src=\"data:image/png;base64,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\" width=\"640\">"
      ],
      "text/plain": [
       "<IPython.core.display.HTML object>"
      ]
     },
     "metadata": {},
     "output_type": "display_data"
    }
   ],
   "source": [
    "C = random.rand(300,200)\n",
    "plt.figure()\n",
    "plt.imshow(C)\n",
    "plt.colorbar()\n",
    "plt.show()"
   ]
  },
  {
   "cell_type": "markdown",
   "metadata": {},
   "source": [
    "### Opérations terme-à-terme sur les *arrays*\n",
    "\n",
    "Les opérations par défaut sont des opérations **terme-à-terme** (contrairement à Matlab par exemple)."
   ]
  },
  {
   "cell_type": "code",
   "execution_count": 104,
   "metadata": {
    "collapsed": false
   },
   "outputs": [
    {
     "name": "stdout",
     "output_type": "stream",
     "text": [
      "[[ 0  1  2  3  4]\n",
      " [10 11 12 13 14]\n",
      " [20 21 22 23 24]\n",
      " [30 31 32 33 34]\n",
      " [40 41 42 43 44]]\n"
     ]
    }
   ],
   "source": [
    "A = np.array([[n+m*10 for n in range(5)] for m in range(5)])\n",
    "print(A)"
   ]
  },
  {
   "cell_type": "code",
   "execution_count": 105,
   "metadata": {
    "collapsed": false
   },
   "outputs": [
    {
     "data": {
      "text/plain": [
       "array([[   0,    1,    4,    9,   16],\n",
       "       [ 100,  121,  144,  169,  196],\n",
       "       [ 400,  441,  484,  529,  576],\n",
       "       [ 900,  961, 1024, 1089, 1156],\n",
       "       [1600, 1681, 1764, 1849, 1936]])"
      ]
     },
     "execution_count": 105,
     "metadata": {},
     "output_type": "execute_result"
    }
   ],
   "source": [
    "A * A # multiplication terme-à-terme"
   ]
  },
  {
   "cell_type": "code",
   "execution_count": 106,
   "metadata": {
    "collapsed": false
   },
   "outputs": [
    {
     "data": {
      "text/plain": [
       "array([[ 0. ,  5.5, 11. , 16.5, 22. ],\n",
       "       [ 5.5, 11. , 16.5, 22. , 27.5],\n",
       "       [11. , 16.5, 22. , 27.5, 33. ],\n",
       "       [16.5, 22. , 27.5, 33. , 38.5],\n",
       "       [22. , 27.5, 33. , 38.5, 44. ]])"
      ]
     },
     "execution_count": 106,
     "metadata": {},
     "output_type": "execute_result"
    }
   ],
   "source": [
    "(A + A.T) / 2 # la projection de A sur les matrices symétriques"
   ]
  },
  {
   "cell_type": "code",
   "execution_count": 107,
   "metadata": {
    "collapsed": false
   },
   "outputs": [
    {
     "name": "stdout",
     "output_type": "stream",
     "text": [
      "[0 1 2 3 4]\n",
      "[ 0  1  4  9 16]\n"
     ]
    }
   ],
   "source": [
    "print(v1)\n",
    "print(v1 * v1)"
   ]
  },
  {
   "cell_type": "markdown",
   "metadata": {},
   "source": [
    "En multipliant des *arrays* de tailles compatibles, on obtient des multiplications terme-à-terme par ligne :"
   ]
  },
  {
   "cell_type": "code",
   "execution_count": 108,
   "metadata": {
    "collapsed": false
   },
   "outputs": [
    {
     "data": {
      "text/plain": [
       "((5, 5), (5,))"
      ]
     },
     "execution_count": 108,
     "metadata": {},
     "output_type": "execute_result"
    }
   ],
   "source": [
    "A.shape, v1.shape"
   ]
  },
  {
   "cell_type": "code",
   "execution_count": 109,
   "metadata": {
    "collapsed": false
   },
   "outputs": [
    {
     "name": "stdout",
     "output_type": "stream",
     "text": [
      "[[ 0  1  2  3  4]\n",
      " [10 11 12 13 14]\n",
      " [20 21 22 23 24]\n",
      " [30 31 32 33 34]\n",
      " [40 41 42 43 44]]\n",
      "[0 1 2 3 4]\n",
      "[[  0   1   4   9  16]\n",
      " [  0  11  24  39  56]\n",
      " [  0  21  44  69  96]\n",
      " [  0  31  64  99 136]\n",
      " [  0  41  84 129 176]]\n"
     ]
    }
   ],
   "source": [
    "print(A)\n",
    "print(v1)\n",
    "print(A * v1)"
   ]
  },
  {
   "cell_type": "markdown",
   "metadata": {},
   "source": [
    "<font color='red'> EXERCICE : Sans utiliser de boucles (`for/while`), </font>\n",
    "\n",
    "\n",
    " * <font color='red'> Créer une matrice (5x6) aléatoire</font>\n",
    " * <font color='red'> Remplacer une colonne sur deux par sa valeur moins le double de la colonne suivante</font>\n",
    " * <font color='red'> Remplacer les valeurs négatives par 0 en utilisant un masque binaire</font>\n"
   ]
  },
  {
   "cell_type": "code",
   "execution_count": 110,
   "metadata": {
    "collapsed": true
   },
   "outputs": [],
   "source": [
    "# XXX todo"
   ]
  },
  {
   "cell_type": "markdown",
   "metadata": {},
   "source": [
    "### Algèbre matricielle\n",
    "\n",
    "Comment faire des multiplications de matrices ? Deux façons :\n",
    " \n",
    " * en utilisant les fonctions `dot`; \n",
    " * en utilisant le type `@/matmul` (pour les versions récentes de `numpy`).\n"
   ]
  },
  {
   "cell_type": "code",
   "execution_count": 111,
   "metadata": {
    "collapsed": false
   },
   "outputs": [
    {
     "name": "stdout",
     "output_type": "stream",
     "text": [
      "(5, 5)\n",
      "[[ 0  1  2  3  4]\n",
      " [10 11 12 13 14]\n",
      " [20 21 22 23 24]\n",
      " [30 31 32 33 34]\n",
      " [40 41 42 43 44]]\n",
      "<class 'numpy.ndarray'>\n"
     ]
    }
   ],
   "source": [
    "print(A.shape)\n",
    "print(A)\n",
    "print(type(A))"
   ]
  },
  {
   "cell_type": "code",
   "execution_count": 112,
   "metadata": {
    "collapsed": false
   },
   "outputs": [
    {
     "name": "stdout",
     "output_type": "stream",
     "text": [
      "[[ 300  310  320  330  340]\n",
      " [1300 1360 1420 1480 1540]\n",
      " [2300 2410 2520 2630 2740]\n",
      " [3300 3460 3620 3780 3940]\n",
      " [4300 4510 4720 4930 5140]]\n",
      "[[ 300  310  320  330  340]\n",
      " [1300 1360 1420 1480 1540]\n",
      " [2300 2410 2520 2630 2740]\n",
      " [3300 3460 3620 3780 3940]\n",
      " [4300 4510 4720 4930 5140]]\n",
      "[[   0    1    4    9   16]\n",
      " [ 100  121  144  169  196]\n",
      " [ 400  441  484  529  576]\n",
      " [ 900  961 1024 1089 1156]\n",
      " [1600 1681 1764 1849 1936]]\n"
     ]
    }
   ],
   "source": [
    "print(np.dot(A, A))  # multiplication matrice\n",
    "print(A.dot(A))  # multiplication matrice\n",
    "\n",
    "print(A * A)  # multiplication élément par élément"
   ]
  },
  {
   "cell_type": "code",
   "execution_count": 113,
   "metadata": {
    "collapsed": false
   },
   "outputs": [
    {
     "data": {
      "text/plain": [
       "array([ 30, 130, 230, 330, 430])"
      ]
     },
     "execution_count": 113,
     "metadata": {},
     "output_type": "execute_result"
    }
   ],
   "source": [
    "A.dot(v1)"
   ]
  },
  {
   "cell_type": "code",
   "execution_count": 114,
   "metadata": {
    "collapsed": false
   },
   "outputs": [
    {
     "data": {
      "text/plain": [
       "30"
      ]
     },
     "execution_count": 114,
     "metadata": {},
     "output_type": "execute_result"
    }
   ],
   "source": [
    "np.dot(v1, v1)"
   ]
  },
  {
   "cell_type": "markdown",
   "metadata": {},
   "source": [
    "Voir également les fonctions : `inner`, `outer`, `cross`, `kron`, `tensordot`. Utiliser par exemple `help(kron)`."
   ]
  },
  {
   "cell_type": "markdown",
   "metadata": {},
   "source": [
    "### Transformations d'*arrays* ou de matrices"
   ]
  },
  {
   "cell_type": "markdown",
   "metadata": {},
   "source": [
    " * Plus haut `.T` a été utilisé pour transposer `v`\n",
    " * On peut aussi utiliser la fonction `transpose`\n",
    "\n",
    "**Autres transformations :**"
   ]
  },
  {
   "cell_type": "code",
   "execution_count": 115,
   "metadata": {
    "collapsed": false
   },
   "outputs": [
    {
     "data": {
      "text/plain": [
       "array([[0.+1.j, 0.+2.j],\n",
       "       [0.+3.j, 0.+4.j]])"
      ]
     },
     "execution_count": 115,
     "metadata": {},
     "output_type": "execute_result"
    }
   ],
   "source": [
    "C = np.array([[1j, 2j], [3j, 4j]])\n",
    "C"
   ]
  },
  {
   "cell_type": "code",
   "execution_count": 116,
   "metadata": {
    "collapsed": false
   },
   "outputs": [
    {
     "data": {
      "text/plain": [
       "array([[0.-1.j, 0.-2.j],\n",
       "       [0.-3.j, 0.-4.j]])"
      ]
     },
     "execution_count": 116,
     "metadata": {},
     "output_type": "execute_result"
    }
   ],
   "source": [
    "np.conj(C)  # conjuguée complexe"
   ]
  },
  {
   "cell_type": "markdown",
   "metadata": {},
   "source": [
    "Transposée conjuguée :"
   ]
  },
  {
   "cell_type": "code",
   "execution_count": 117,
   "metadata": {
    "collapsed": false
   },
   "outputs": [
    {
     "data": {
      "text/plain": [
       "array([[0.-1.j, 0.-3.j],\n",
       "       [0.-2.j, 0.-4.j]])"
      ]
     },
     "execution_count": 117,
     "metadata": {},
     "output_type": "execute_result"
    }
   ],
   "source": [
    "C.conj().T"
   ]
  },
  {
   "cell_type": "markdown",
   "metadata": {},
   "source": [
    "Parties réelles et imaginaires :"
   ]
  },
  {
   "cell_type": "code",
   "execution_count": 118,
   "metadata": {
    "collapsed": false
   },
   "outputs": [
    {
     "data": {
      "text/plain": [
       "array([[0., 0.],\n",
       "       [0., 0.]])"
      ]
     },
     "execution_count": 118,
     "metadata": {},
     "output_type": "execute_result"
    }
   ],
   "source": [
    "np.real(C) # équivalent à C.real"
   ]
  },
  {
   "cell_type": "code",
   "execution_count": 119,
   "metadata": {
    "collapsed": false
   },
   "outputs": [
    {
     "data": {
      "text/plain": [
       "array([[1., 2.],\n",
       "       [3., 4.]])"
      ]
     },
     "execution_count": 119,
     "metadata": {},
     "output_type": "execute_result"
    }
   ],
   "source": [
    "np.imag(C) # équivalent à C.imag"
   ]
  },
  {
   "cell_type": "markdown",
   "metadata": {},
   "source": [
    "Argument et module :"
   ]
  },
  {
   "cell_type": "code",
   "execution_count": 120,
   "metadata": {
    "collapsed": false
   },
   "outputs": [
    {
     "data": {
      "text/plain": [
       "array([[0.78539816, 1.10714872],\n",
       "       [1.24904577, 1.32581766]])"
      ]
     },
     "execution_count": 120,
     "metadata": {},
     "output_type": "execute_result"
    }
   ],
   "source": [
    "np.angle(C+1) "
   ]
  },
  {
   "cell_type": "code",
   "execution_count": 121,
   "metadata": {
    "collapsed": false
   },
   "outputs": [
    {
     "data": {
      "text/plain": [
       "array([[1., 2.],\n",
       "       [3., 4.]])"
      ]
     },
     "execution_count": 121,
     "metadata": {},
     "output_type": "execute_result"
    }
   ],
   "source": [
    "np.abs(C)"
   ]
  },
  {
   "cell_type": "markdown",
   "metadata": {},
   "source": [
    "### Caclul matriciel"
   ]
  },
  {
   "cell_type": "markdown",
   "metadata": {},
   "source": [
    "#### Analyse de données\n",
    "\n",
    "`numpy` propose des fonctions pour calculer certaines statistiques des données stockées dans des *arrays* :"
   ]
  },
  {
   "cell_type": "code",
   "execution_count": 122,
   "metadata": {
    "collapsed": false
   },
   "outputs": [
    {
     "name": "stdout",
     "output_type": "stream",
     "text": [
      "[[ 1  1  1  1]\n",
      " [ 1  2  4  8]\n",
      " [ 1  3  9 27]\n",
      " [ 1  4 16 64]]\n"
     ]
    }
   ],
   "source": [
    "data = np.vander([1, 2, 3, 4], increasing=True)  # Matrice de Vandermonde\n",
    "print(data)"
   ]
  },
  {
   "cell_type": "markdown",
   "metadata": {},
   "source": [
    "#### `moyenne`"
   ]
  },
  {
   "cell_type": "code",
   "execution_count": 123,
   "metadata": {
    "collapsed": false
   },
   "outputs": [
    {
     "name": "stdout",
     "output_type": "stream",
     "text": [
      "9.0\n",
      "[ 1.   2.5  7.5 25. ]\n",
      "[ 1.    3.75 10.   21.25]\n"
     ]
    }
   ],
   "source": [
    "print(np.mean(data))\n",
    "print(np.mean(data, axis=0))\n",
    "print(np.mean(data, axis=1))"
   ]
  },
  {
   "cell_type": "code",
   "execution_count": 124,
   "metadata": {
    "collapsed": false
   },
   "outputs": [
    {
     "data": {
      "text/plain": [
       "7.5"
      ]
     },
     "execution_count": 124,
     "metadata": {},
     "output_type": "execute_result"
    }
   ],
   "source": [
    "# la moyenne de la troisième colonne\n",
    "np.mean(data[:,2])"
   ]
  },
  {
   "cell_type": "markdown",
   "metadata": {},
   "source": [
    "#### variance et écart type"
   ]
  },
  {
   "cell_type": "code",
   "execution_count": 125,
   "metadata": {
    "collapsed": false
   },
   "outputs": [
    {
     "name": "stdout",
     "output_type": "stream",
     "text": [
      "32.25 5.678908345800274\n"
     ]
    }
   ],
   "source": [
    "print(np.var(data[:, 2]), np.std(data[:, 2]))"
   ]
  },
  {
   "cell_type": "code",
   "execution_count": 126,
   "metadata": {
    "collapsed": false
   },
   "outputs": [
    {
     "name": "stdout",
     "output_type": "stream",
     "text": [
      "43.0 6.557438524302\n"
     ]
    }
   ],
   "source": [
    "# ddof : Delta Degrees of Freedom\n",
    "print(np.var(data[:, 2], ddof=1), np.std(data[:, 2], ddof=1))"
   ]
  },
  {
   "cell_type": "markdown",
   "metadata": {},
   "source": [
    "#### min et max"
   ]
  },
  {
   "cell_type": "code",
   "execution_count": 127,
   "metadata": {
    "collapsed": false
   },
   "outputs": [
    {
     "data": {
      "text/plain": [
       "1"
      ]
     },
     "execution_count": 127,
     "metadata": {},
     "output_type": "execute_result"
    }
   ],
   "source": [
    "data[:,2].min()"
   ]
  },
  {
   "cell_type": "code",
   "execution_count": 128,
   "metadata": {
    "collapsed": false
   },
   "outputs": [
    {
     "data": {
      "text/plain": [
       "16"
      ]
     },
     "execution_count": 128,
     "metadata": {},
     "output_type": "execute_result"
    }
   ],
   "source": [
    "data[:,2].max()"
   ]
  },
  {
   "cell_type": "code",
   "execution_count": 129,
   "metadata": {
    "collapsed": false
   },
   "outputs": [
    {
     "data": {
      "text/plain": [
       "30"
      ]
     },
     "execution_count": 129,
     "metadata": {},
     "output_type": "execute_result"
    }
   ],
   "source": [
    "data[:,2].sum()"
   ]
  },
  {
   "cell_type": "code",
   "execution_count": 130,
   "metadata": {
    "collapsed": false
   },
   "outputs": [
    {
     "data": {
      "text/plain": [
       "576"
      ]
     },
     "execution_count": 130,
     "metadata": {},
     "output_type": "execute_result"
    }
   ],
   "source": [
    "data[:,2].prod()"
   ]
  },
  {
   "cell_type": "markdown",
   "metadata": {},
   "source": [
    "#### `sum`, `prod`, et `trace`"
   ]
  },
  {
   "cell_type": "code",
   "execution_count": 131,
   "metadata": {
    "collapsed": false
   },
   "outputs": [
    {
     "data": {
      "text/plain": [
       "array([0, 1, 2, 3, 4, 5, 6, 7, 8, 9])"
      ]
     },
     "execution_count": 131,
     "metadata": {},
     "output_type": "execute_result"
    }
   ],
   "source": [
    "d = np.arange(0, 10)\n",
    "d"
   ]
  },
  {
   "cell_type": "code",
   "execution_count": 132,
   "metadata": {
    "collapsed": false
   },
   "outputs": [
    {
     "data": {
      "text/plain": [
       "45"
      ]
     },
     "execution_count": 132,
     "metadata": {},
     "output_type": "execute_result"
    }
   ],
   "source": [
    "# somme des éléments\n",
    "np.sum(d)"
   ]
  },
  {
   "cell_type": "markdown",
   "metadata": {},
   "source": [
    "ou encore :"
   ]
  },
  {
   "cell_type": "code",
   "execution_count": 133,
   "metadata": {
    "collapsed": false
   },
   "outputs": [
    {
     "data": {
      "text/plain": [
       "45"
      ]
     },
     "execution_count": 133,
     "metadata": {},
     "output_type": "execute_result"
    }
   ],
   "source": [
    "d.sum()"
   ]
  },
  {
   "cell_type": "code",
   "execution_count": 134,
   "metadata": {
    "collapsed": false
   },
   "outputs": [
    {
     "data": {
      "text/plain": [
       "3628800"
      ]
     },
     "execution_count": 134,
     "metadata": {},
     "output_type": "execute_result"
    }
   ],
   "source": [
    "# produit des éléments\n",
    "np.prod(d+1)"
   ]
  },
  {
   "cell_type": "code",
   "execution_count": 135,
   "metadata": {
    "collapsed": false
   },
   "outputs": [
    {
     "data": {
      "text/plain": [
       "array([ 0,  1,  3,  6, 10, 15, 21, 28, 36, 45])"
      ]
     },
     "execution_count": 135,
     "metadata": {},
     "output_type": "execute_result"
    }
   ],
   "source": [
    "# somme cumulée\n",
    "np.cumsum(d)"
   ]
  },
  {
   "cell_type": "code",
   "execution_count": 136,
   "metadata": {
    "collapsed": false
   },
   "outputs": [
    {
     "data": {
      "text/plain": [
       "array([      1,       2,       6,      24,     120,     720,    5040,\n",
       "         40320,  362880, 3628800])"
      ]
     },
     "execution_count": 136,
     "metadata": {},
     "output_type": "execute_result"
    }
   ],
   "source": [
    "# produit cumulé\n",
    "np.cumprod(d+1)"
   ]
  },
  {
   "cell_type": "code",
   "execution_count": 137,
   "metadata": {
    "collapsed": false
   },
   "outputs": [
    {
     "data": {
      "text/plain": [
       "76"
      ]
     },
     "execution_count": 137,
     "metadata": {},
     "output_type": "execute_result"
    }
   ],
   "source": [
    "# équivalent à diag(A).sum()\n",
    "np.trace(data)"
   ]
  },
  {
   "cell_type": "markdown",
   "metadata": {},
   "source": [
    "### <font color='red'> EXERCICE :  Calculer une approximation de $\\pi$ par la formule de Wallis sans boucle `for`, mais avec `numpy` </font>\n",
    "\n",
    "\\begin{align}\n",
    "    \\text{Formule de Wallis:}\\quad \\pi&= 2 \\cdot \\prod_{n=1}^{\\infty }\\left({\\frac{4 n^{2}}{4 n^{2} - 1}}\\right)\n",
    "\\end{align}"
   ]
  },
  {
   "cell_type": "markdown",
   "metadata": {},
   "source": [
    "### Calculs aves données multi-dimensionnelles\n",
    "\n",
    "Pour appliquer `min`, `max`, etc., par lignes ou colonnes :"
   ]
  },
  {
   "cell_type": "code",
   "execution_count": 138,
   "metadata": {
    "collapsed": false
   },
   "outputs": [
    {
     "data": {
      "text/plain": [
       "array([[0.02134434, 0.13129409, 0.08217084, 0.95342583],\n",
       "       [0.03043018, 0.33813001, 0.49481427, 0.70168882],\n",
       "       [0.81916028, 0.35858829, 0.88776516, 0.92784212]])"
      ]
     },
     "execution_count": 138,
     "metadata": {},
     "output_type": "execute_result"
    }
   ],
   "source": [
    "m = random.rand(3,4)\n",
    "m"
   ]
  },
  {
   "cell_type": "code",
   "execution_count": 139,
   "metadata": {
    "collapsed": false
   },
   "outputs": [
    {
     "data": {
      "text/plain": [
       "0.9534258266471464"
      ]
     },
     "execution_count": 139,
     "metadata": {},
     "output_type": "execute_result"
    }
   ],
   "source": [
    "# max global \n",
    "m.max()"
   ]
  },
  {
   "cell_type": "code",
   "execution_count": 140,
   "metadata": {
    "collapsed": false
   },
   "outputs": [
    {
     "data": {
      "text/plain": [
       "array([0.81916028, 0.35858829, 0.88776516, 0.95342583])"
      ]
     },
     "execution_count": 140,
     "metadata": {},
     "output_type": "execute_result"
    }
   ],
   "source": [
    "# max dans chaque colonne\n",
    "m.max(axis=0)"
   ]
  },
  {
   "cell_type": "code",
   "execution_count": 141,
   "metadata": {
    "collapsed": false
   },
   "outputs": [
    {
     "data": {
      "text/plain": [
       "array([0.95342583, 0.70168882, 0.92784212])"
      ]
     },
     "execution_count": 141,
     "metadata": {},
     "output_type": "execute_result"
    }
   ],
   "source": [
    "# max dans chaque ligne\n",
    "m.max(axis=1)"
   ]
  },
  {
   "cell_type": "markdown",
   "metadata": {},
   "source": [
    "Plusieurs autres méthodes des classes `array` et `matrix` acceptent l'argument (optional) `axis` keyword argument."
   ]
  },
  {
   "cell_type": "markdown",
   "metadata": {},
   "source": [
    "## Copy et \"deep copy\"\n",
    "\n",
    "Pour des raisons de performance `Python` ne copie pas automatiquement les objets (par exemple passage par référence des paramètres de fonctions)."
   ]
  },
  {
   "cell_type": "code",
   "execution_count": 142,
   "metadata": {
    "collapsed": false
   },
   "outputs": [
    {
     "data": {
      "text/plain": [
       "array([[0, 2],\n",
       "       [3, 4]])"
      ]
     },
     "execution_count": 142,
     "metadata": {},
     "output_type": "execute_result"
    }
   ],
   "source": [
    "A = np.array([[0,  2],[ 3,  4]])\n",
    "A"
   ]
  },
  {
   "cell_type": "code",
   "execution_count": 143,
   "metadata": {
    "collapsed": false
   },
   "outputs": [],
   "source": [
    "B = A"
   ]
  },
  {
   "cell_type": "code",
   "execution_count": 144,
   "metadata": {
    "collapsed": false
   },
   "outputs": [
    {
     "data": {
      "text/plain": [
       "array([[10,  2],\n",
       "       [ 3,  4]])"
      ]
     },
     "execution_count": 144,
     "metadata": {},
     "output_type": "execute_result"
    }
   ],
   "source": [
    "# ATTENTION: changer B affecte A\n",
    "B[0,0] = 10\n",
    "B"
   ]
  },
  {
   "cell_type": "code",
   "execution_count": 145,
   "metadata": {
    "collapsed": false
   },
   "outputs": [
    {
     "data": {
      "text/plain": [
       "array([[10,  2],\n",
       "       [ 3,  4]])"
      ]
     },
     "execution_count": 145,
     "metadata": {},
     "output_type": "execute_result"
    }
   ],
   "source": [
    "A"
   ]
  },
  {
   "cell_type": "code",
   "execution_count": 146,
   "metadata": {
    "collapsed": false
   },
   "outputs": [
    {
     "name": "stdout",
     "output_type": "stream",
     "text": [
      "True\n"
     ]
    }
   ],
   "source": [
    "B = A\n",
    "print(B is A)"
   ]
  },
  {
   "cell_type": "markdown",
   "metadata": {},
   "source": [
    "Pour éviter ce comportement, on peut demander une *copie profonde* (en: *deep copy*) de `A` dans `B`"
   ]
  },
  {
   "cell_type": "code",
   "execution_count": 147,
   "metadata": {
    "collapsed": false
   },
   "outputs": [],
   "source": [
    "B = A.copy()  # identique à B = np.copy(A)"
   ]
  },
  {
   "cell_type": "code",
   "execution_count": 148,
   "metadata": {
    "collapsed": false
   },
   "outputs": [
    {
     "data": {
      "text/plain": [
       "array([[-5,  2],\n",
       "       [ 3,  4]])"
      ]
     },
     "execution_count": 148,
     "metadata": {},
     "output_type": "execute_result"
    }
   ],
   "source": [
    "# maintenant en modifiant B, A n'est plus affecté\n",
    "B[0,0] = -5\n",
    "B"
   ]
  },
  {
   "cell_type": "code",
   "execution_count": 149,
   "metadata": {
    "collapsed": false
   },
   "outputs": [
    {
     "data": {
      "text/plain": [
       "array([[10,  2],\n",
       "       [ 3,  4]])"
      ]
     },
     "execution_count": 149,
     "metadata": {},
     "output_type": "execute_result"
    }
   ],
   "source": [
    "A  # A n'est pas modifié cette fois!"
   ]
  },
  {
   "cell_type": "markdown",
   "metadata": {},
   "source": [
    "### <font color='red'> EXERCICE :  interpréter ce qui se passe dans l'exemple ci-dessous </font>\n"
   ]
  },
  {
   "cell_type": "code",
   "execution_count": 150,
   "metadata": {
    "collapsed": false
   },
   "outputs": [
    {
     "name": "stdout",
     "output_type": "stream",
     "text": [
      "[[ 0 -1]\n",
      " [-7  1]]\n",
      "[[ 0 -8]\n",
      " [ 0  1]]\n"
     ]
    }
   ],
   "source": [
    "print(A - A[:,0])  # FAUX\n",
    "print(A - A[:,0].reshape((2, 1)))  # OK"
   ]
  },
  {
   "cell_type": "markdown",
   "metadata": {},
   "source": [
    "## Changement de forme et de taille, et concaténation des *arrays*\n",
    "\n"
   ]
  },
  {
   "cell_type": "code",
   "execution_count": 151,
   "metadata": {
    "collapsed": false
   },
   "outputs": [
    {
     "data": {
      "text/plain": [
       "array([[10,  2],\n",
       "       [ 3,  4]])"
      ]
     },
     "execution_count": 151,
     "metadata": {},
     "output_type": "execute_result"
    }
   ],
   "source": [
    "A"
   ]
  },
  {
   "cell_type": "code",
   "execution_count": 152,
   "metadata": {
    "collapsed": false
   },
   "outputs": [],
   "source": [
    "n, m = A.shape"
   ]
  },
  {
   "cell_type": "code",
   "execution_count": 153,
   "metadata": {
    "collapsed": false
   },
   "outputs": [
    {
     "data": {
      "text/plain": [
       "array([[10,  2,  3,  4]])"
      ]
     },
     "execution_count": 153,
     "metadata": {},
     "output_type": "execute_result"
    }
   ],
   "source": [
    "B = A.reshape((1, n * m))\n",
    "B"
   ]
  },
  {
   "cell_type": "code",
   "execution_count": 154,
   "metadata": {
    "collapsed": false
   },
   "outputs": [
    {
     "data": {
      "text/plain": [
       "array([[5, 5, 5, 5]])"
      ]
     },
     "execution_count": 154,
     "metadata": {},
     "output_type": "execute_result"
    }
   ],
   "source": [
    "B[0, 0:5] = 5  # modifier l'array\n",
    "B"
   ]
  },
  {
   "cell_type": "code",
   "execution_count": 155,
   "metadata": {
    "collapsed": false
   },
   "outputs": [
    {
     "data": {
      "text/plain": [
       "array([[5, 5],\n",
       "       [5, 5]])"
      ]
     },
     "execution_count": 155,
     "metadata": {},
     "output_type": "execute_result"
    }
   ],
   "source": [
    "A"
   ]
  },
  {
   "cell_type": "markdown",
   "metadata": {},
   "source": [
    "### Attention !\n",
    "\n",
    "La variable originale est aussi modifiée ! B n'est qu'une nouvelle *vue* de A."
   ]
  },
  {
   "cell_type": "markdown",
   "metadata": {},
   "source": [
    "Pour transformer un *array* multi-dimmensionel en un vecteur. Mais cette fois-ci, une copie des données est créée :"
   ]
  },
  {
   "cell_type": "code",
   "execution_count": 156,
   "metadata": {
    "collapsed": false
   },
   "outputs": [
    {
     "name": "stdout",
     "output_type": "stream",
     "text": [
      "[[0 2]\n",
      " [3 4]] [0 2 3 4]\n"
     ]
    }
   ],
   "source": [
    "A = np.array([[0,  2],[ 3,  4]])\n",
    "B = A.flatten()\n",
    "print(A,B)"
   ]
  },
  {
   "cell_type": "code",
   "execution_count": 157,
   "metadata": {
    "collapsed": false
   },
   "outputs": [
    {
     "data": {
      "text/plain": [
       "array([10, 10, 10, 10])"
      ]
     },
     "execution_count": 157,
     "metadata": {},
     "output_type": "execute_result"
    }
   ],
   "source": [
    "B[0:5] = 10\n",
    "B"
   ]
  },
  {
   "cell_type": "code",
   "execution_count": 158,
   "metadata": {
    "collapsed": false
   },
   "outputs": [
    {
     "data": {
      "text/plain": [
       "array([[0, 2],\n",
       "       [3, 4]])"
      ]
     },
     "execution_count": 158,
     "metadata": {},
     "output_type": "execute_result"
    }
   ],
   "source": [
    "A # A ne change pas car B est une copie de A"
   ]
  },
  {
   "cell_type": "markdown",
   "metadata": {},
   "source": [
    "### Ajouter une nouvelle dimension avec `newaxis`\n",
    "\n",
    "Par exemple pour convertir un vecteur en une matrice ligne ou colonne :"
   ]
  },
  {
   "cell_type": "code",
   "execution_count": 159,
   "metadata": {
    "collapsed": false
   },
   "outputs": [],
   "source": [
    "v = np.array([1,2,3])"
   ]
  },
  {
   "cell_type": "code",
   "execution_count": 160,
   "metadata": {
    "collapsed": false
   },
   "outputs": [
    {
     "data": {
      "text/plain": [
       "(3,)"
      ]
     },
     "execution_count": 160,
     "metadata": {},
     "output_type": "execute_result"
    }
   ],
   "source": [
    "np.shape(v)"
   ]
  },
  {
   "cell_type": "code",
   "execution_count": 161,
   "metadata": {
    "collapsed": false
   },
   "outputs": [
    {
     "data": {
      "text/plain": [
       "array([[1],\n",
       "       [2],\n",
       "       [3]])"
      ]
     },
     "execution_count": 161,
     "metadata": {},
     "output_type": "execute_result"
    }
   ],
   "source": [
    "# créer une matrice à une colonne à partir du vectuer v\n",
    "v[:, np.newaxis]"
   ]
  },
  {
   "cell_type": "code",
   "execution_count": 162,
   "metadata": {
    "collapsed": false
   },
   "outputs": [
    {
     "data": {
      "text/plain": [
       "(3, 1)"
      ]
     },
     "execution_count": 162,
     "metadata": {},
     "output_type": "execute_result"
    }
   ],
   "source": [
    "v[:,np.newaxis].shape"
   ]
  },
  {
   "cell_type": "code",
   "execution_count": 163,
   "metadata": {
    "collapsed": false
   },
   "outputs": [
    {
     "data": {
      "text/plain": [
       "(1, 3)"
      ]
     },
     "execution_count": 163,
     "metadata": {},
     "output_type": "execute_result"
    }
   ],
   "source": [
    "# créer une matrice à une ligne à partir du vectuer v\n",
    "v[np.newaxis,:].shape"
   ]
  },
  {
   "cell_type": "markdown",
   "metadata": {},
   "source": [
    "### Concaténer, répéter des *arrays*\n",
    "\n",
    "En utilisant les fonctions `repeat`, `tile`, `vstack`, `hstack`, et `concatenate`, on peut créer des vecteurs/matrices plus grandes à partir de vecteurs/matrices plus petites :\n"
   ]
  },
  {
   "cell_type": "markdown",
   "metadata": {},
   "source": [
    "#### `repeat` et `tile`"
   ]
  },
  {
   "cell_type": "code",
   "execution_count": 164,
   "metadata": {
    "collapsed": false
   },
   "outputs": [
    {
     "data": {
      "text/plain": [
       "array([[1, 2],\n",
       "       [3, 4]])"
      ]
     },
     "execution_count": 164,
     "metadata": {},
     "output_type": "execute_result"
    }
   ],
   "source": [
    "a = np.array([[1, 2], [3, 4]])\n",
    "a"
   ]
  },
  {
   "cell_type": "code",
   "execution_count": 165,
   "metadata": {
    "collapsed": false
   },
   "outputs": [
    {
     "data": {
      "text/plain": [
       "array([1, 1, 1, 2, 2, 2, 3, 3, 3, 4, 4, 4])"
      ]
     },
     "execution_count": 165,
     "metadata": {},
     "output_type": "execute_result"
    }
   ],
   "source": [
    "# répéter chaque élément 3 fois\n",
    "np.repeat(a, 3) # résultat 1-d"
   ]
  },
  {
   "cell_type": "code",
   "execution_count": 166,
   "metadata": {
    "collapsed": false
   },
   "outputs": [
    {
     "data": {
      "text/plain": [
       "array([[1, 1, 1, 2, 2, 2],\n",
       "       [3, 3, 3, 4, 4, 4]])"
      ]
     },
     "execution_count": 166,
     "metadata": {},
     "output_type": "execute_result"
    }
   ],
   "source": [
    "# on peut spécifier l'argument axis\n",
    "np.repeat(a, 3, axis=1)"
   ]
  },
  {
   "cell_type": "markdown",
   "metadata": {},
   "source": [
    "Pour répéter la matrice, il faut utiliser `tile`"
   ]
  },
  {
   "cell_type": "code",
   "execution_count": 167,
   "metadata": {
    "collapsed": false
   },
   "outputs": [
    {
     "data": {
      "text/plain": [
       "array([[1, 2, 1, 2, 1, 2],\n",
       "       [3, 4, 3, 4, 3, 4]])"
      ]
     },
     "execution_count": 167,
     "metadata": {},
     "output_type": "execute_result"
    }
   ],
   "source": [
    "# répéter la matrice 3 fois\n",
    "np.tile(a, 3)"
   ]
  },
  {
   "cell_type": "markdown",
   "metadata": {},
   "source": [
    "#### `concatenate`"
   ]
  },
  {
   "cell_type": "code",
   "execution_count": 168,
   "metadata": {
    "collapsed": false
   },
   "outputs": [],
   "source": [
    "b = np.array([[5, 6]])"
   ]
  },
  {
   "cell_type": "code",
   "execution_count": 169,
   "metadata": {
    "collapsed": false
   },
   "outputs": [
    {
     "data": {
      "text/plain": [
       "array([[1, 2],\n",
       "       [3, 4],\n",
       "       [5, 6]])"
      ]
     },
     "execution_count": 169,
     "metadata": {},
     "output_type": "execute_result"
    }
   ],
   "source": [
    "np.concatenate((a, b), axis=0)"
   ]
  },
  {
   "cell_type": "code",
   "execution_count": 170,
   "metadata": {
    "collapsed": false
   },
   "outputs": [
    {
     "data": {
      "text/plain": [
       "array([[1, 2, 5],\n",
       "       [3, 4, 6]])"
      ]
     },
     "execution_count": 170,
     "metadata": {},
     "output_type": "execute_result"
    }
   ],
   "source": [
    "np.concatenate((a, b.T), axis=1)"
   ]
  },
  {
   "cell_type": "markdown",
   "metadata": {},
   "source": [
    "#### `hstack` et `vstack`"
   ]
  },
  {
   "cell_type": "code",
   "execution_count": 171,
   "metadata": {
    "collapsed": false
   },
   "outputs": [
    {
     "data": {
      "text/plain": [
       "array([[1, 2],\n",
       "       [3, 4],\n",
       "       [5, 6]])"
      ]
     },
     "execution_count": 171,
     "metadata": {},
     "output_type": "execute_result"
    }
   ],
   "source": [
    "np.vstack((a,b))"
   ]
  },
  {
   "cell_type": "code",
   "execution_count": 172,
   "metadata": {
    "collapsed": false
   },
   "outputs": [
    {
     "data": {
      "text/plain": [
       "array([[1, 2, 5],\n",
       "       [3, 4, 6]])"
      ]
     },
     "execution_count": 172,
     "metadata": {},
     "output_type": "execute_result"
    }
   ],
   "source": [
    "np.hstack((a,b.T))"
   ]
  },
  {
   "cell_type": "markdown",
   "metadata": {},
   "source": [
    "## Itérer sur les éléments d'un *array*\n",
    "\n",
    " * Dans la mesure du possible, il faut éviter l'itération sur les éléments d'un *array* : c'est beaucoup plus lent que les opérations vectorisées\n",
    " * Mais il arrive que l'on n'ait pas le choix..."
   ]
  },
  {
   "cell_type": "code",
   "execution_count": 173,
   "metadata": {
    "collapsed": false
   },
   "outputs": [
    {
     "name": "stdout",
     "output_type": "stream",
     "text": [
      "1\n",
      "2\n",
      "3\n",
      "4\n"
     ]
    }
   ],
   "source": [
    "v = np.array([1,2,3,4])\n",
    "\n",
    "for element in v:\n",
    "    print(element)"
   ]
  },
  {
   "cell_type": "code",
   "execution_count": 174,
   "metadata": {
    "collapsed": false
   },
   "outputs": [
    {
     "name": "stdout",
     "output_type": "stream",
     "text": [
      "row [1 2]\n",
      "1\n",
      "2\n",
      "row [3 4]\n",
      "3\n",
      "4\n"
     ]
    }
   ],
   "source": [
    "M = np.array([[1, 2], [3, 4]])\n",
    "\n",
    "for row in M:\n",
    "    print(\"row\", row)\n",
    "    for element in row:\n",
    "        print(element)"
   ]
  },
  {
   "cell_type": "markdown",
   "metadata": {},
   "source": [
    "Pour obtenir les indices des éléments sur lesquels on itère (par exemple, pour pouvoir les modifier en même temps) on peut utiliser `enumerate` :"
   ]
  },
  {
   "cell_type": "code",
   "execution_count": 175,
   "metadata": {
    "collapsed": false
   },
   "outputs": [
    {
     "name": "stdout",
     "output_type": "stream",
     "text": [
      "row_idx 0 row [1 2]\n",
      "col_idx 0 element 1\n",
      "col_idx 1 element 2\n",
      "row_idx 1 row [3 4]\n",
      "col_idx 0 element 3\n",
      "col_idx 1 element 4\n"
     ]
    }
   ],
   "source": [
    "for row_idx, row in enumerate(M):\n",
    "    print(\"row_idx\", row_idx, \"row\", row)\n",
    "    \n",
    "    for col_idx, element in enumerate(row):\n",
    "        print(\"col_idx\", col_idx, \"element\", element)\n",
    "       \n",
    "        # update the matrix M: square each element\n",
    "        M[row_idx, col_idx] = element ** 2"
   ]
  },
  {
   "cell_type": "code",
   "execution_count": 176,
   "metadata": {
    "collapsed": false
   },
   "outputs": [
    {
     "data": {
      "text/plain": [
       "array([[ 1,  4],\n",
       "       [ 9, 16]])"
      ]
     },
     "execution_count": 176,
     "metadata": {},
     "output_type": "execute_result"
    }
   ],
   "source": [
    "# chaque élément de M a maintenant été élevé au carré\n",
    "M"
   ]
  },
  {
   "cell_type": "markdown",
   "metadata": {},
   "source": [
    "## Utilisation d'*arrays* dans des conditions\n",
    "\n",
    "Losqu'on s'intéresse à des conditions sur tout on une partie d'un *array*, on peut utiliser `any` ou `all` :"
   ]
  },
  {
   "cell_type": "code",
   "execution_count": 177,
   "metadata": {
    "collapsed": false
   },
   "outputs": [
    {
     "data": {
      "text/plain": [
       "array([[ 1,  4],\n",
       "       [ 9, 16]])"
      ]
     },
     "execution_count": 177,
     "metadata": {},
     "output_type": "execute_result"
    }
   ],
   "source": [
    "M"
   ]
  },
  {
   "cell_type": "code",
   "execution_count": 178,
   "metadata": {
    "collapsed": false
   },
   "outputs": [
    {
     "name": "stdout",
     "output_type": "stream",
     "text": [
      "Au moins un élément de M est plus grand que 5.\n"
     ]
    }
   ],
   "source": [
    "if (M > 5).any():\n",
    "    print(\"Au moins un élément de M est plus grand que 5.\")\n",
    "else:\n",
    "    print(\"Aucun élément de M n'est plus grand que 5.\")"
   ]
  },
  {
   "cell_type": "code",
   "execution_count": 179,
   "metadata": {
    "collapsed": false
   },
   "outputs": [
    {
     "name": "stdout",
     "output_type": "stream",
     "text": [
      "Tous les éléments de M sont plus petits que 5.\n"
     ]
    }
   ],
   "source": [
    "if (M > 5).all():\n",
    "    print(\"Tous les éléments de M sont plus grands que 5.\")\n",
    "else:\n",
    "    print(\"Tous les éléments de M sont plus petits que 5.\")"
   ]
  },
  {
   "cell_type": "markdown",
   "metadata": {},
   "source": [
    "## *Type casting*\n",
    "\n",
    "On peut créer une vue d'un autre type que l'original pour un *array*"
   ]
  },
  {
   "cell_type": "code",
   "execution_count": 180,
   "metadata": {
    "collapsed": false
   },
   "outputs": [
    {
     "data": {
      "text/plain": [
       "dtype('int64')"
      ]
     },
     "execution_count": 180,
     "metadata": {},
     "output_type": "execute_result"
    }
   ],
   "source": [
    "M = np.array([[-1,2], [0,4]])\n",
    "M.dtype"
   ]
  },
  {
   "cell_type": "code",
   "execution_count": 181,
   "metadata": {
    "collapsed": false
   },
   "outputs": [
    {
     "data": {
      "text/plain": [
       "array([[-1.,  2.],\n",
       "       [ 0.,  4.]])"
      ]
     },
     "execution_count": 181,
     "metadata": {},
     "output_type": "execute_result"
    }
   ],
   "source": [
    "M2 = M.astype(float)\n",
    "M2"
   ]
  },
  {
   "cell_type": "code",
   "execution_count": 182,
   "metadata": {
    "collapsed": false
   },
   "outputs": [
    {
     "data": {
      "text/plain": [
       "dtype('float64')"
      ]
     },
     "execution_count": 182,
     "metadata": {},
     "output_type": "execute_result"
    }
   ],
   "source": [
    "M2.dtype"
   ]
  },
  {
   "cell_type": "code",
   "execution_count": 183,
   "metadata": {
    "collapsed": false
   },
   "outputs": [
    {
     "data": {
      "text/plain": [
       "array([[ True,  True],\n",
       "       [False,  True]])"
      ]
     },
     "execution_count": 183,
     "metadata": {},
     "output_type": "execute_result"
    }
   ],
   "source": [
    "M3 = M.astype(bool)\n",
    "M3"
   ]
  },
  {
   "cell_type": "markdown",
   "metadata": {},
   "source": [
    "## Pour aller plus loin\n",
    "\n",
    "* http://numpy.scipy.org\n",
    "* http://scipy.org/Tentative_NumPy_Tutorial\n",
    "* http://scipy-lectures.org/ - une bible pour les sujets avancés (e.g. matrice sparse)\n",
    "* http://scipy.org/NumPy_for_Matlab_Users - Un guide pour les utilisateurs de MATLAB."
   ]
  }
 ],
 "metadata": {
  "kernelspec": {
   "display_name": "Python 3",
   "language": "python",
   "name": "python3"
  },
  "language_info": {
   "codemirror_mode": {
    "name": "ipython",
    "version": 3
   },
   "file_extension": ".py",
   "mimetype": "text/x-python",
   "name": "python",
   "nbconvert_exporter": "python",
   "pygments_lexer": "ipython3",
   "version": "3.6.8"
  }
 },
 "nbformat": 4,
 "nbformat_minor": 0
}
