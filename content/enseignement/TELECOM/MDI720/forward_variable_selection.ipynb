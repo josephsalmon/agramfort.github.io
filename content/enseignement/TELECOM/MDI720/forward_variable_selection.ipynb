{
 "cells": [
  {
   "cell_type": "markdown",
   "metadata": {},
   "source": [
    "Importation des packets."
   ]
  },
  {
   "cell_type": "code",
   "execution_count": 1,
   "metadata": {
    "collapsed": false
   },
   "outputs": [],
   "source": [
    "import numpy as np\n",
    "from scipy.stats import norm\n",
    "from sklearn import datasets\n",
    "%matplotlib inline\n",
    "import matplotlib\n",
    "import matplotlib.pyplot as plt \n",
    "from sklearn import linear_model\n",
    "import os\n",
    "\n",
    "cwd = os.getcwd()\n",
    "\n",
    "dirname = \"../srcimages/\"\n",
    "if not os.path.exists(dirname):\n",
    "    os.mkdir(dirname)\n",
    "imageformat = '.pdf'\n",
    "\n",
    "def my_saving_display(fig, dirname, filename, imageformat):\n",
    "    \"\"\"\"saving faster\"\"\"\n",
    "    dirname + filename + imageformat\n",
    "    image_name = dirname + filename + imageformat\n",
    "    fig.savefig(image_name)"
   ]
  },
  {
   "cell_type": "markdown",
   "metadata": {},
   "source": [
    "Importation de la base de données ''diabetes''."
   ]
  },
  {
   "cell_type": "code",
   "execution_count": 30,
   "metadata": {
    "collapsed": false
   },
   "outputs": [],
   "source": [
    "datasets.load_diabetes()\n",
    "\n",
    "diabetes = datasets.load_diabetes()\n",
    "diabetes_X = diabetes.data\n",
    "diabetes_y = diabetes.target"
   ]
  },
  {
   "cell_type": "markdown",
   "metadata": {},
   "source": [
    "Les variables sont standardisées de la façon suivante:"
   ]
  },
  {
   "cell_type": "code",
   "execution_count": 33,
   "metadata": {
    "collapsed": false
   },
   "outputs": [
    {
     "name": "stdout",
     "output_type": "stream",
     "text": [
      "[ -1.60635394e-13   5.78287418e-14  -3.55604435e-13   5.66491298e-14\n",
      "  -3.90520949e-14   5.86544702e-14  -2.02199368e-13   1.66956726e-13\n",
      "  -1.69323756e-13  -1.50849385e-13]\n",
      "[[ 1.          0.1737371   0.18508467  0.33542671  0.26006082  0.21924314\n",
      "  -0.07518097  0.2038409   0.27077678  0.30173101]\n",
      " [ 0.1737371   1.          0.0881614   0.24101317  0.03527682  0.14263726\n",
      "  -0.37908963  0.33211509  0.14991756  0.20813322]\n",
      " [ 0.18508467  0.0881614   1.          0.39541532  0.24977742  0.26116991\n",
      "  -0.36681098  0.4138066   0.44615865  0.38867999]\n",
      " [ 0.33542671  0.24101317  0.39541532  1.          0.24246971  0.18555783\n",
      "  -0.17876121  0.25765337  0.39347814  0.39042938]\n",
      " [ 0.26006082  0.03527682  0.24977742  0.24246971  1.          0.89666296\n",
      "   0.05151936  0.54220728  0.51550076  0.32571675]\n",
      " [ 0.21924314  0.14263726  0.26116991  0.18555783  0.89666296  1.\n",
      "  -0.19645512  0.65981689  0.3183534   0.29060038]\n",
      " [-0.07518097 -0.37908963 -0.36681098 -0.17876121  0.05151936 -0.19645512\n",
      "   1.         -0.73849273 -0.398577   -0.2736973 ]\n",
      " [ 0.2038409   0.33211509  0.4138066   0.25765337  0.54220728  0.65981689\n",
      "  -0.73849273  1.          0.61785739  0.41721211]\n",
      " [ 0.27077678  0.14991756  0.44615865  0.39347814  0.51550076  0.3183534\n",
      "  -0.398577    0.61785739  1.          0.46467046]\n",
      " [ 0.30173101  0.20813322  0.38867999  0.39042938  0.32571675  0.29060038\n",
      "  -0.2736973   0.41721211  0.46467046  1.        ]]\n"
     ]
    }
   ],
   "source": [
    "print(diabetes_X.sum(axis = 0))\n",
    "print(np.dot(np.transpose(diabetes_X),diabetes_X))"
   ]
  },
  {
   "cell_type": "markdown",
   "metadata": {},
   "source": [
    "Regression avec sk learn"
   ]
  },
  {
   "cell_type": "code",
   "execution_count": 3,
   "metadata": {
    "collapsed": false
   },
   "outputs": [
    {
     "name": "stdout",
     "output_type": "stream",
     "text": [
      "[ -10.01219782 -239.81908937  519.83978679  324.39042769 -792.18416163\n",
      "  476.74583782  101.04457032  177.06417623  751.27932109   67.62538639]\n",
      "152.133484163\n"
     ]
    }
   ],
   "source": [
    "regr = linear_model.LinearRegression()\n",
    "regr.fit(diabetes_X , diabetes_y)\n",
    "\n",
    "print(regr.coef_)\n",
    "print(regr.intercept_)"
   ]
  },
  {
   "cell_type": "markdown",
   "metadata": {},
   "source": [
    "Premier graphe"
   ]
  },
  {
   "cell_type": "code",
   "execution_count": 4,
   "metadata": {
    "collapsed": false
   },
   "outputs": [
    {
     "data": {
      "image/png": "[encoded data removed]",
      "text/plain": [
       "<matplotlib.figure.Figure at 0x10cb142e8>"
      ]
     },
     "metadata": {},
     "output_type": "display_data"
    }
   ],
   "source": [
    "ypred_tmp = np.dot(diabetes_X , regr.coef_ )\n",
    "ypred = ypred_tmp +  regr.intercept_ \n",
    "#ypred = regr.predict(diabetes_X)\n",
    "\n",
    "\n",
    "plt.figure() \n",
    "plt.plot(ypred_tmp , ypred)\n",
    "plt.scatter(ypred_tmp , diabetes_y , s =3 )\n",
    "plt.title(\"y et y_pred vs xbeta\")\n",
    "plt.show()\n"
   ]
  },
  {
   "cell_type": "markdown",
   "metadata": {},
   "source": [
    "Méthode Forward : à chaque boucle sur k, on selectionne la variable avec la plus grande p-valeur"
   ]
  },
  {
   "cell_type": "code",
   "execution_count": 5,
   "metadata": {
    "collapsed": false
   },
   "outputs": [],
   "source": [
    "diabetes_X_aug = np.column_stack( (np.ones( (diabetes_X.shape[0], 1 )), diabetes_X )) \n",
    "\n",
    "p = diabetes_X_aug.shape[1]\n",
    "n = diabetes_X_aug.shape[0]\n",
    "\n",
    "test = np.zeros((p,p))\n",
    "pval_mem = np.zeros(p)\n",
    "pval = np.zeros((p,p))\n",
    "resids = diabetes_y\n",
    "\n",
    "var_sel = []\n",
    "var_remain = list(range(p))\n",
    "in_test = []\n",
    "\n",
    "\n",
    "regr = linear_model.LinearRegression(fit_intercept = False)\n",
    "\n",
    "\n",
    "for k in range(p): \n",
    "    resids_mem = np.zeros((p,n))\n",
    "\n",
    "    for i in var_remain:\n",
    "        xtmp = diabetes_X_aug [:,[i]]\n",
    "        regr.fit(xtmp , resids)\n",
    "        \n",
    "        #calcul de (x'x)\n",
    "        xx = np.sum( diabetes_X_aug [:,[i]] ** 2 )    \n",
    "        resids_mem [i,:] = regr.predict(xtmp) - resids\n",
    "        sigma2_tmp = np.sum (resids_mem [i,:] ** 2) / xx\n",
    "        test[k,i] = np.sqrt(n) * np.abs(regr.coef_) / (np.sqrt( sigma2_tmp )) \n",
    "        pval[k,i] =   2 * (1 - norm.cdf(test[k,i]))\n",
    "\n",
    "    ####separe en deux vecteurs la listes des variables séléctionnées et les autres\n",
    "    best_var = np.argmax(test[k,:])\n",
    "    var_sel.append(best_var)\n",
    "    resids = resids_mem[best_var,:]\n",
    "    pval_mem [k] = pval[k,best_var]\n",
    "    var_remain = np.setdiff1d(var_remain,var_sel)\n",
    "\n"
   ]
  },
  {
   "cell_type": "markdown",
   "metadata": {},
   "source": [
    "Pour les 3 premières étapes de la méthode (k=0,1,2), on trace les valeurs de la statistique de test calculée, enregistrée dans la matrice test."
   ]
  },
  {
   "cell_type": "code",
   "execution_count": 6,
   "metadata": {
    "collapsed": false
   },
   "outputs": [
    {
     "data": {
      "image/png": "[encoded data removed]",
      "text/plain": [
       "<matplotlib.figure.Figure at 0x101b52898>"
      ]
     },
     "metadata": {},
     "output_type": "display_data"
    }
   ],
   "source": [
    "def foo(s1):\n",
    "    return \"step %s\" % s1\n",
    "\n",
    "fig = plt.figure()\n",
    "for k in range(3): \n",
    "    lab_tmp = foo(k)\n",
    "    plt.plot(np.arange(p),test[k,:], '-o',label = lab_tmp)\n",
    "    plt.axis(xmin = -.5,xmax = 9.5,ymin = -1)\n",
    "plt.legend(loc=1)\n",
    "plt.title(\"values of the t-stat at each steps\")\n",
    "plt.xlabel(\"features\")\n",
    "plt.show()\n",
    "\n",
    "filename = 'forw_first_steps'\n",
    "my_saving_display(fig, dirname, filename, imageformat)\n"
   ]
  },
  {
   "cell_type": "markdown",
   "metadata": {
    "collapsed": false
   },
   "source": [
    "On peut maintenant regarder, pour chaque étape, la pvaleurs associée à la variable séléctionnée. On voit que cette pvaleur grandie; et que si l'on se fixe un niveau de 0.1 pour le test, on rejette l'hypothèse nulle (H_0 : beta_k = 0) uniquement pour les 6 premières étapes."
   ]
  },
  {
   "cell_type": "code",
   "execution_count": 7,
   "metadata": {
    "collapsed": false
   },
   "outputs": [
    {
     "data": {
      "image/png": "[encoded data removed]",
      "text/plain": [
       "<matplotlib.figure.Figure at 0x10b57bd30>"
      ]
     },
     "metadata": {},
     "output_type": "display_data"
    }
   ],
   "source": [
    "fig2 = plt.figure() \n",
    "for k in range(3): \n",
    "    plt.plot(np.arange(p),pval_mem, 'o')\n",
    "    plt.plot([-0.5,9.5],[.1,.1],color = \"blue\" )\n",
    "    plt.axis(xmin = -.5,xmax = 9.5,ymin = -.03)\n",
    "plt.title(\"plot of the pvalues\")\n",
    "plt.xlabel(\"steps\")\n",
    "plt.show()\n",
    "\n",
    "filename = 'pvalues'\n",
    "my_saving_display(fig2, dirname, filename, imageformat)"
   ]
  },
  {
   "cell_type": "markdown",
   "metadata": {
    "collapsed": false
   },
   "source": [
    "En pratique cela signifie que notre méthode sélectionne les 7 variables suivantes (0 correspondant à l'intercept):"
   ]
  },
  {
   "cell_type": "code",
   "execution_count": 8,
   "metadata": {
    "collapsed": false
   },
   "outputs": [
    {
     "name": "stdout",
     "output_type": "stream",
     "text": [
      "variables sélectionnées (dans l'ordre):  [0 3 9 5 4 2 7]\n"
     ]
    }
   ],
   "source": [
    "print(\"variables sélectionnées (dans l'ordre): \" , \n",
    "      np.array(var_sel)[pval_mem<.1])"
   ]
  },
  {
   "cell_type": "code",
   "execution_count": 9,
   "metadata": {
    "collapsed": false
   },
   "outputs": [],
   "source": [
    "diabetes_X_aug = np.column_stack( (np.ones( (xtmp.shape[0], 1 )), diabetes_X )) "
   ]
  },
  {
   "cell_type": "code",
   "execution_count": null,
   "metadata": {
    "collapsed": true
   },
   "outputs": [],
   "source": []
  }
 ],
 "metadata": {
  "anaconda-cloud": {},
  "kernelspec": {
   "display_name": "Python [Root]",
   "language": "python",
   "name": "Python [Root]"
  },
  "language_info": {
   "codemirror_mode": {
    "name": "ipython",
    "version": 3
   },
   "file_extension": ".py",
   "mimetype": "text/x-python",
   "name": "python",
   "nbconvert_exporter": "python",
   "pygments_lexer": "ipython3",
   "version": "3.5.2"
  }
 },
 "nbformat": 4,
 "nbformat_minor": 0
}
