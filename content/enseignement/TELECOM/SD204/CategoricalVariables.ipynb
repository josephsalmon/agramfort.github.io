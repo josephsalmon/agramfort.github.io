{
 "cells": [
  {
   "cell_type": "markdown",
   "metadata": {},
   "source": [
    "# MDI 720 : Statistiques\n",
    "## CategoricalVariables\n",
    "### *Joseph Salmon*\n",
    "\n",
    "This notebook reproduces the pictures for the course \"CategoricalVariables_fr\""
   ]
  },
  {
   "cell_type": "code",
   "execution_count": null,
   "metadata": {
    "collapsed": false
   },
   "outputs": [],
   "source": [
    "from os import mkdir, path, getcwd\n",
    "from random import shuffle, seed\n",
    "from urllib.request import urlretrieve\n",
    "from requests import get\n",
    "\n",
    "import numpy as np\n",
    "import pandas as pd\n",
    "import statsmodels.api as sm\n",
    "from statsmodels.nonparametric.kde import KDEUnivariate\n",
    "\n",
    "import matplotlib.pyplot as plt\n",
    "import matplotlib.animation as animation\n",
    "from matplotlib import rc\n",
    "\n",
    "from sklearn import preprocessing\n",
    "from sklearn import linear_model\n",
    "\n",
    "import seaborn as sns\n",
    "%matplotlib notebook\n",
    "from IPython.display import HTML"
   ]
  },
  {
   "cell_type": "markdown",
   "metadata": {},
   "source": [
    "# Plot initialization"
   ]
  },
  {
   "cell_type": "code",
   "execution_count": null,
   "metadata": {
    "collapsed": true
   },
   "outputs": [],
   "source": [
    "dirname = \"../srcimages/\"\n",
    "if not path.exists(dirname):\n",
    "    mkdir(dirname)\n",
    "\n",
    "imageformat = '.pdf'\n",
    "rc('font', **{'family': 'sans-serif', 'sans-serif': ['Computer Modern Roman']})\n",
    "params = {'axes.labelsize': 12,\n",
    "          'font.size': 12,\n",
    "          'legend.fontsize': 12,\n",
    "          'xtick.labelsize': 10,\n",
    "          'ytick.labelsize': 10,\n",
    "          'text.usetex': True,\n",
    "          'figure.figsize': (8, 6)}\n",
    "plt.rcParams.update(params)\n",
    "\n",
    "sns.set_context(\"poster\")\n",
    "sns.set_palette(\"colorblind\")\n",
    "sns.axes_style()\n",
    "sns.set_style({'legend.frameon': True})\n",
    "color_blind_list = sns.color_palette(\"colorblind\", 8)\n",
    "my_orange = color_blind_list[2]\n",
    "my_green = color_blind_list[1]\n",
    "my_blue = color_blind_list[0]\n",
    "\n",
    "plt.close(\"all\")"
   ]
  },
  {
   "cell_type": "markdown",
   "metadata": {},
   "source": [
    "# Data description: cps09mar\n",
    "\n",
    "The Current Population Survey (CPS) is a monthly survey of about 57,000 U.S. households conducted \n",
    "by the Bureau of the Census of the Bureau of Labor Statistics. The CPS is the primary source of \n",
    "information on the labor force characteristics of the U.S. population. The survey covers employment, \n",
    "earnings, educational attainment, income, poverty, health insurance coverage, job experience, voting \n",
    "and registration, computer usage, veteran status, and other variables.\n",
    "\n",
    "Details can be found at  https://www.census.gov/programs-surveys/cps.html and https://dataferrett.census.gov/\n",
    "\n",
    "From the March 2009 survey we extracted the individuals with non-allocated variables who were full-time\n",
    "employed (defined as those who had worked at least 36 hours per week for at least 48 weeks the  past year),\n",
    "and excluded those in the military. This sample has 50,742 individuals. We extracted 12 \n",
    "variables from the CPS on these individuals. \n",
    "\n",
    "1. age: years, capped at 85\n",
    "2. female: 1 Female, 0 otherwise\n",
    "3. hisp:  1 if Spanish, Hispanic, or Latino, 0 otherwise\n",
    "4. education:\n",
    "    - 0 : Less than 1st grade\n",
    "    - 4 : 1st, 2nd, 3rd, or 4th grade\n",
    "    - 6 : 5th or 6 th grade\n",
    "    - 8 : 7th or 8 th grade\n",
    "    - 9 : 9th grade\n",
    "    - 10: 10th grade\n",
    "    - 11: 11th grade or 12th grade with no high school diploma\n",
    "    - 12: High school graduate, high school diploma or equivalent\n",
    "    - 13: Some college but no degree \n",
    "    - 14: Associate degree in college, including occupation/vocation programs\n",
    "    - 16: Bachelor's degree or equivalent (BA, AB, BS)\n",
    "    - 18: Master’s degree (MA, MS, MENG, MED, MSW, MBA)\n",
    "    - 20: Professional degree or Doctorate degree (MD, DDS, DVM, LLB, JD, PHD, EDD)\n",
    "\n",
    "5. earnings: total annual wage and salary earnings\n",
    "6. hours: number of hours worked per week\n",
    "7. week:  number of weeks worked per year\n",
    "8. union: 1 for member of a labor union, 0 otherwise\n",
    "9. uncov: 1 if covered by a union or employee association contract, 0 otherwise\n",
    "10. region:\n",
    "    - 1 : Northeast\n",
    "    - 2 : Midwest\n",
    "    - 3 : South\n",
    "    - 4 : West\n",
    "11. Race:\n",
    "    - 1 : White only\n",
    "    - 2 : Black only\n",
    "    - 3 : American Indian, Alaskan Native (AI) only\n",
    "    - 4 : Asian only\n",
    "    - 5 : Hawaiian/Pacific Islander (HP) only\n",
    "    - 6 : White-Black\n",
    "    - 7 : White-AI   \n",
    "    - 8 : White-Asian\n",
    "    - 9 : White-HP\n",
    "    - 10: Black-AI   \n",
    "    - 11: Black-Asian\n",
    "    - 12: Black-HP\n",
    "    - 13: AI-Asian\n",
    "    - 14: Asian-HP\n",
    "    - 15: White-Black-AI   \n",
    "    - 16: White-Black-Asian\n",
    "    - 17: White-AI-Asian\n",
    "    - 18: White-Asian-HP\n",
    "    - 19: White-Black-AI-Asian\n",
    "    - 20: 2 or 3 races\n",
    "    - 21: 4 or 5 races\n",
    "12. marital:\n",
    "    - 1 : Married - civilian spouse present\n",
    "    - 2 : Married - Armed Forces spouse present\n",
    "    - 3 : Married - spouse absent (except separated)\n",
    "    - 4 : Widowed\n",
    "    - 5 : Divorced\n",
    "    - 6 : Separated\n",
    "    - 7 : Never married"
   ]
  },
  {
   "cell_type": "markdown",
   "metadata": {},
   "source": [
    "# Loading data:\n"
   ]
  },
  {
   "cell_type": "code",
   "execution_count": null,
   "metadata": {
    "collapsed": true
   },
   "outputs": [],
   "source": [
    "# information on dataset:\n",
    "# https://www.ssc.wisc.edu/~bhansen/econometrics/cps09marReadMe.pdf\n",
    "URL = 'https://www.ssc.wisc.edu/~bhansen/econometrics/'\n",
    "\n",
    "\n",
    "def get_cps09mar_data(url=URL, filename='cps09mar.txt'):\n",
    "    URL_full = URL + filename\n",
    "    target_path = getcwd() +'/' + filename  # your local directory\n",
    "    if not path.exists(filename):\n",
    "        response = get(URL_full, stream=True)\n",
    "        handle = open(target_path, \"wb\")\n",
    "        for chunk in response.iter_content(chunk_size=512):\n",
    "            if chunk:  # filter out keep-alive new chunks\n",
    "                handle.write(chunk)      \n",
    "    u_cols = ['age', 'female', 'hisp', 'education', 'earnings', 'hours',\n",
    "              'week', 'union', 'uncov', 'region', 'race', 'marital']\n",
    "    data = pd.read_csv('cps09mar.txt', sep=r\"\\s+\",\n",
    "                       names=u_cols, na_values='NA', dtype=np.float64)\n",
    "    return data\n",
    "\n",
    "\n",
    "data = get_cps09mar_data(url=URL, filename='cps09mar.txt')"
   ]
  },
  {
   "cell_type": "markdown",
   "metadata": {},
   "source": [
    "# Descriptive statistics"
   ]
  },
  {
   "cell_type": "code",
   "execution_count": null,
   "metadata": {
    "collapsed": false
   },
   "outputs": [],
   "source": [
    "# To get correct display format\n",
    "pd.options.display.float_format = '{:,.3f}'.format\n",
    "\n",
    "# for this dataset na_values are marked as NA.\n",
    "n_samples_ini = data.shape[0]\n",
    "print(\"The original dataset has {} samples and {} features\".format(\n",
    "    data.shape[0], data.shape[1]))\n",
    "\n",
    "# Remove NA:\n",
    "data = data.dropna(axis=0, how='any')\n",
    "data.head()"
   ]
  },
  {
   "cell_type": "code",
   "execution_count": null,
   "metadata": {
    "collapsed": true
   },
   "outputs": [],
   "source": [
    "# TODO : XXX Figure 2.1: Wage Distribution and Density. All full-time U.S. workers"
   ]
  },
  {
   "cell_type": "code",
   "execution_count": null,
   "metadata": {
    "collapsed": false
   },
   "outputs": [],
   "source": [
    "# Adding log-hourwage\n",
    "y = np.log(data['earnings'] / (data['hours'] * data['week']))\n",
    "print(y.shape)\n",
    "data['log-hourwage'] = y\n",
    "\n",
    "# If high education needed:\n",
    "# data['high-education'] = (data['education']> 9).astype(float)\n",
    "data.head()"
   ]
  },
  {
   "cell_type": "code",
   "execution_count": null,
   "metadata": {
    "collapsed": false
   },
   "outputs": [],
   "source": [
    "male = data['female'] == 0.\n",
    "female = data['female'] == 1.\n",
    "\n",
    "n_male = np.sum(male)\n",
    "n_female = np.sum(female)\n",
    "print(\"In the dataset, there are: \\n n_male   = {} male \\n n_female = {} female.\".format(\n",
    "    n_male, n_female))"
   ]
  },
  {
   "cell_type": "markdown",
   "metadata": {},
   "source": [
    "Or use groupby:"
   ]
  },
  {
   "cell_type": "code",
   "execution_count": null,
   "metadata": {
    "collapsed": false
   },
   "outputs": [],
   "source": [
    "data.groupby('female').size()"
   ]
  },
  {
   "cell_type": "code",
   "execution_count": null,
   "metadata": {
    "collapsed": false
   },
   "outputs": [],
   "source": [
    "print(data['education'].min())\n",
    "print(data['education'].max())"
   ]
  },
  {
   "cell_type": "markdown",
   "metadata": {},
   "source": [
    "Or use describe method:"
   ]
  },
  {
   "cell_type": "code",
   "execution_count": null,
   "metadata": {
    "collapsed": false
   },
   "outputs": [],
   "source": [
    "data['education'].describe()"
   ]
  },
  {
   "cell_type": "code",
   "execution_count": null,
   "metadata": {
    "collapsed": false
   },
   "outputs": [],
   "source": [
    "xgrid = np.linspace(data['education'].min() * 0.9,\n",
    "                    data['education'].max() * 1.1)\n",
    "\n",
    "fig1 = plt.figure(figsize=(8, 5))\n",
    "kde_male = KDEUnivariate(data['education'][male])\n",
    "kde_male.fit(bw=2, kernel='gau')\n",
    "pdf_est_male = kde_male.evaluate(xgrid)\n",
    "plt.plot(xgrid, pdf_est_male, color=my_blue, label='Male')\n",
    "plt.fill_between(xgrid, 0, pdf_est_male, facecolor=my_blue, alpha=0.5)\n",
    "\n",
    "kde_female = KDEUnivariate(data['education'][female])\n",
    "kde_female.fit(bw=2, kernel='gau')\n",
    "pdf_est_female = kde_female.evaluate(xgrid)\n",
    "plt.plot(xgrid, pdf_est_female, color=my_orange, label='Female',)\n",
    "plt.fill_between(xgrid, 0, pdf_est_female, facecolor=my_orange, alpha=0.5)\n",
    "\n",
    "plt.legend()"
   ]
  },
  {
   "cell_type": "markdown",
   "metadata": {},
   "source": [
    "# 1D regression: log(wage) vs. education\n",
    "Here we apply a simpel 1D OLS method with intercept to the explain the log(wage) w.r.t. eduction (the number of education year."
   ]
  },
  {
   "cell_type": "code",
   "execution_count": null,
   "metadata": {
    "collapsed": false
   },
   "outputs": [],
   "source": [
    "skl_lm = linear_model.LinearRegression(fit_intercept=True)\n",
    "X_uni = data['education'].values.reshape(-1, 1)\n",
    "skl_lm.fit(X_uni, y)\n",
    "plt.figure()\n",
    "plt.plot(xgrid.reshape(-1, 1), skl_lm.predict(xgrid.reshape(-1, 1)))\n",
    "plt.plot(X_uni, y, '.')\n",
    "plt.xlabel('Eduction (years)')\n",
    "plt.ylabel('log(wage)')"
   ]
  },
  {
   "cell_type": "code",
   "execution_count": null,
   "metadata": {
    "collapsed": false
   },
   "outputs": [],
   "source": [
    "# Improved visualisation using jittering:\n",
    "jitter = 0.05  # to avoid overlap\n",
    "plt.figure()\n",
    "plt.plot(xgrid.reshape(-1, 1), skl_lm.predict(xgrid.reshape(-1, 1)))\n",
    "plt.plot(X_uni.squeeze() + jitter * np.random.randn(X_uni.shape[0]), y, '.')\n",
    "plt.xlabel('Eduction (years)')\n",
    "plt.ylabel('log(wage)')\n",
    "plt.title('Raw data: log(wage) prediction according to eduction level')"
   ]
  },
  {
   "cell_type": "markdown",
   "metadata": {},
   "source": [
    "# A simplified visualisation for the same numerical variable:\n",
    "the observation are average (groupby) according to the number of education years. "
   ]
  },
  {
   "cell_type": "code",
   "execution_count": null,
   "metadata": {
    "collapsed": true
   },
   "outputs": [],
   "source": [
    "y_reduced = data['log-hourwage'].groupby(data['education']).mean().values\n",
    "x_reduced = np.sort(data['education'].unique()).reshape(-1, 1)\n",
    "n_education = x_reduced.shape[0]"
   ]
  },
  {
   "cell_type": "code",
   "execution_count": null,
   "metadata": {
    "collapsed": false
   },
   "outputs": [],
   "source": [
    "y_pred_reduced = skl_lm.fit(x_reduced, y_reduced).predict(x_reduced)\n",
    "plt.figure()\n",
    "plt.plot(x_reduced, y_pred_reduced)\n",
    "plt.plot(x_reduced, y_reduced, '.')\n",
    "plt.xlabel('Eduction (years)')\n",
    "plt.ylabel('log(wage)')\n",
    "plt.title('Averaged data: log(wage) prediction according to eduction level')"
   ]
  },
  {
   "cell_type": "markdown",
   "metadata": {},
   "source": [
    "#  OLS: log(wage) vs. genre, 1 categorical variable only"
   ]
  },
  {
   "cell_type": "code",
   "execution_count": null,
   "metadata": {
    "collapsed": false
   },
   "outputs": [],
   "source": [
    "skl_lm = linear_model.LinearRegression(fit_intercept=True)\n",
    "X_uni = data.copy()['female'].values.reshape(-1, 1)\n",
    "print(X_uni.shape)\n",
    "skl_lm.fit(X_uni, y)\n",
    "jitter = 0.01\n",
    "plt.figure()\n",
    "xgrid_bin = np.array([0, 1])\n",
    "plt.plot(xgrid_bin.reshape(-1, 1), skl_lm.predict(xgrid_bin.reshape(-1, 1)), label=\"OLS\")\n",
    "plt.plot(X_uni + jitter * np.random.randn(X_uni.shape[0]).reshape(-1, 1) , y, '.', label=\"data\")\n",
    "plt.xlim(-0.5, 1.5)\n",
    "plt.xticks([0, 1])\n",
    "plt.xlabel('Gender (M=0, F=1)')\n",
    "plt.title(\"log(wage) prediction according to gender\")\n",
    "plt.legend(loc=1)"
   ]
  },
  {
   "cell_type": "code",
   "execution_count": null,
   "metadata": {
    "collapsed": false
   },
   "outputs": [],
   "source": [
    "print(\"Average log(wage):\\\n",
    "      \\n for a male  it is   {:0.4}\\\n",
    "      \\n for a female it is {:0.4}\".format(\n",
    "    skl_lm.predict(xgrid_bin[0])[0], skl_lm.predict(xgrid_bin[1])[0]))"
   ]
  },
  {
   "cell_type": "markdown",
   "metadata": {},
   "source": [
    "#  OLS: log(wage) vs. (education+genre), 1 categorical + 1 numerical  \n",
    "\n",
    "$$ log(wage) \\approx \\theta_0 + \\theta_1 education + \\theta_2 female$$"
   ]
  },
  {
   "cell_type": "code",
   "execution_count": null,
   "metadata": {
    "collapsed": false
   },
   "outputs": [],
   "source": [
    "skl_lm = linear_model.LinearRegression(fit_intercept=True)\n",
    "X_uni = data[['education', 'female']].values\n",
    "skl_lm.fit(X_uni, y)\n",
    "\n",
    "X_to_predic_male = np.concatenate(\n",
    "    [x_reduced, np.zeros([n_education, 1])], axis=1)\n",
    "X_to_predic_female = np.concatenate(\n",
    "    [x_reduced, np.ones([n_education, 1])], axis=1)\n",
    "\n",
    "\n",
    "plt.figure(figsize=(6, 6))\n",
    "ylims = [-2., 6.]\n",
    "plt.plot(x_reduced, skl_lm.predict(X_to_predic_male), label='male', c=my_blue)\n",
    "plt.plot(x_reduced, skl_lm.predict(\n",
    "    X_to_predic_female), label='female', c=my_orange)\n",
    "\n",
    "jitter = 0.1  # to avoid overlap\n",
    "plt.plot(data['education'][male] + jitter *\n",
    "         np.random.randn(n_male), y[male], '.', c=my_blue, ms=2, alpha=0.5)\n",
    "plt.plot(data['education'][female] + jitter *\n",
    "         np.random.randn(n_female), y[female], '.', c=my_orange, ms=2, alpha=0.5)\n",
    "\n",
    "x1, x2, y1, y2 = plt.axis()\n",
    "plt.axis((x1, x2, ylims[0], ylims[1]))\n",
    "\n",
    "# checking the lines equations are correct:\n",
    "plt.plot(x_reduced, skl_lm.intercept_ + x_reduced * skl_lm.coef_[0], c=my_blue)\n",
    "plt.plot(x_reduced, skl_lm.intercept_ +\n",
    "         skl_lm.coef_[1] + x_reduced * skl_lm.coef_[0], c=my_orange)\n",
    "\n",
    "plt.xlabel('Year of education')\n",
    "plt.ylabel('log(hourly wage)')\n",
    "plt.legend()"
   ]
  },
  {
   "cell_type": "markdown",
   "metadata": {},
   "source": [
    "***Conclusion***: adding a categorical variable \"female\" allows to have a different intercept for the two population (Male and Female). Note that we made the choice to use only \"female\" for that. This is checked as the lines displayed:\n",
    "\n",
    "- Male line  : $ log(wage) \\approx \\theta_0 + \\theta_1 education $\n",
    "- Female line: $ log(wage) \\approx \\theta_0 + \\theta_2 + \\theta_1 education $\n",
    "\n",
    "are identical to the prediction given by the model. We can check that in the US population male are expected to have a higher wage."
   ]
  },
  {
   "cell_type": "markdown",
   "metadata": {},
   "source": [
    "#  OLS: log(wage) vs. (education+genre), 2 categorical + 1 numerical  \n",
    "$$ log(wage) \\approx \\theta_0 + \\theta_1 education + \\theta_2 female + \\theta_3 married$$"
   ]
  },
  {
   "cell_type": "code",
   "execution_count": null,
   "metadata": {
    "collapsed": false
   },
   "outputs": [],
   "source": [
    "skl_lm = linear_model.LinearRegression(fit_intercept=True)\n",
    "X_uni = data.copy()[['education', 'female', 'marital']]\n",
    "married = X_uni['marital'] == 1\n",
    "n_married = np.sum(married)\n",
    "skl_lm.fit(X_uni, y)\n",
    "\n",
    "X_to_predic_male_married = np.concatenate(\n",
    "    [x_reduced, np.zeros([n_education, 1]), np.ones([n_education, 1])], axis=1)\n",
    "X_to_predic_male_nonmarried = np.concatenate(\n",
    "    [x_reduced, np.zeros([n_education, 1]), np.zeros([n_education, 1])], axis=1)\n",
    "X_to_predic_female_married = np.concatenate(\n",
    "    [x_reduced, np.ones([n_education, 1]), np.ones([n_education, 1])], axis=1)\n",
    "X_to_predic_female_nonmarried = np.concatenate(\n",
    "    [x_reduced, np.ones([n_education, 1]), np.zeros([n_education, 1])], axis=1)\n",
    "\n",
    "plt.figure(figsize=(6, 6))\n",
    "plt.plot(x_reduced, skl_lm.predict(X_to_predic_male_married),\n",
    "         '-', lw=1, label='male-married', c=my_blue)\n",
    "plt.plot(x_reduced, skl_lm.predict(X_to_predic_male_nonmarried),\n",
    "         '--', lw=1, label='male-nonmarried', c=my_blue)\n",
    "plt.plot(x_reduced, skl_lm.predict(X_to_predic_female_married),\n",
    "         '-', lw=1, label='female-married', c=my_orange)\n",
    "plt.plot(x_reduced, skl_lm.predict(X_to_predic_female_nonmarried),\n",
    "         '--', lw=1, label='female-nonmarried', c=my_orange)\n",
    "\n",
    "x1, x2, y1, y2 = plt.axis()\n",
    "plt.axis((x1, x2, ylims[0], ylims[1]))\n",
    "\n",
    "jitter = 0.1  # to avoid overlap\n",
    "plt.plot(data['education'][male] + jitter *\n",
    "         np.random.randn(n_male), y[male], '.', c=my_blue, ms=2, alpha=0.5)\n",
    "plt.plot(data['education'][female] + jitter *\n",
    "         np.random.randn(n_female), y[female], '.', c=my_orange, ms=2, alpha=0.5)\n",
    "\n",
    "plt.xlabel('Year of education')\n",
    "plt.ylabel('log(hourly wage)')\n",
    "plt.legend()\n",
    "\n",
    "print(skl_lm.coef_)"
   ]
  },
  {
   "cell_type": "markdown",
   "metadata": {},
   "source": [
    "This is equivalent to:\n",
    "\n",
    "$$ log(wage) \\approx \\mu_{0,0} + \\theta_1 education + \\mu_{1,0} married \\cdot male + \\mu_{1,1} married \\cdot female$$\n",
    "\n",
    "with:\n",
    "\n",
    "- $\\mu_{0,0}$ represents non-married male\n",
    "- $\\mu_{0,1}$ represents married male\n",
    "- $\\mu_{1,0}$ represents non-married female\n",
    "- $\\mu_{1,1}$ represents married female\n",
    "\n",
    "and the linkes:\n",
    "\n",
    "- $\\mu_{0,0} = \\theta_0 $\n",
    "- $\\mu_{0,1} = \\theta_0 + \\theta_3 $\n",
    "- $\\mu_{1,0} = \\theta_0 + \\theta_2 $\n",
    "- $\\mu_{1,1} = \\theta_0 + \\theta_2 + \\theta_3 $"
   ]
  },
  {
   "cell_type": "code",
   "execution_count": null,
   "metadata": {
    "collapsed": false
   },
   "outputs": [],
   "source": [
    "theta0 = skl_lm.intercept_\n",
    "theta1 = skl_lm.coef_[0]\n",
    "theta2 = skl_lm.coef_[1]\n",
    "theta3 = skl_lm.coef_[2]\n",
    "print(' theta0 = {:.4}\\n theta1 = {:.4}\\n theta2 = {:.4}\\n theta3 = {:.4}'.format(\n",
    "    theta0, theta1, theta2, theta3))"
   ]
  },
  {
   "cell_type": "code",
   "execution_count": null,
   "metadata": {
    "collapsed": true
   },
   "outputs": [],
   "source": [
    "mu00 = theta0\n",
    "mu01 = theta0 + theta3\n",
    "mu10 = theta0 + theta2\n",
    "mu11 = theta0 + theta2 + theta3"
   ]
  },
  {
   "cell_type": "code",
   "execution_count": null,
   "metadata": {
    "collapsed": false
   },
   "outputs": [],
   "source": [
    "print(' mu00 = {:.4} (non-married male)\\\n",
    "     \\n mu01 = {:.4} (married male)\\\n",
    "     \\n mu10 = {:.4} (non-married female)\\\n",
    "     \\n mu11 = {:.4} (married female)'.format(\n",
    "    mu00, mu01, mu10, mu11))"
   ]
  },
  {
   "cell_type": "markdown",
   "metadata": {},
   "source": [
    "***Conclusion***: we can check that the influence of being married is correlated with a lower salary (XXX: more is needed to understand this point here...)"
   ]
  },
  {
   "cell_type": "markdown",
   "metadata": {},
   "source": [
    "# Adding one feature: create a categorical variable \"the education level is smaller than 9 years\" (low_edu) and see its influence on eduction.\n",
    "$$ log(wage) \\approx \\theta_0 + \\theta_1 education + \\theta_2 eduction * \\cdot lowedu$$"
   ]
  },
  {
   "cell_type": "code",
   "execution_count": null,
   "metadata": {
    "collapsed": false
   },
   "outputs": [],
   "source": [
    "x_low_edu = (x_reduced < 9).astype(float)\n",
    "X = np.concatenate([x_reduced, (x_reduced - 9) * (x_low_edu)], axis=1)\n",
    "skl_lm = linear_model.LinearRegression(fit_intercept=True)\n",
    "skl_lm.fit(X, y_reduced)"
   ]
  },
  {
   "cell_type": "code",
   "execution_count": null,
   "metadata": {
    "collapsed": false
   },
   "outputs": [],
   "source": [
    "plt.figure()\n",
    "plt.plot(x_reduced, skl_lm.predict(X), label=\"global OLS\")\n",
    "plt.plot(x_reduced, y_reduced, '.')\n",
    "plt.plot(x_reduced, y_pred_reduced, '--', label=\"OLS with threshold level\")\n",
    "plt.xlabel('Eduction (years)')\n",
    "plt.ylabel('log(wage)')\n",
    "plt.title('Averaged data: log(wage) prediction according to eduction level')\n",
    "plt.legend()"
   ]
  },
  {
   "cell_type": "code",
   "execution_count": null,
   "metadata": {
    "collapsed": false
   },
   "outputs": [],
   "source": [
    "skl_lm = linear_model.LinearRegression(fit_intercept=True)\n",
    "scores = np.zeros(n_education)\n",
    "for i, val in enumerate(x_reduced.squeeze()):\n",
    "    x_low_edu_loop = (x_reduced < val).astype(float)\n",
    "    X = np.concatenate([x_reduced, (x_reduced - val)\n",
    "                        * (x_low_edu_loop)], axis=1)\n",
    "    skl_lm.fit(X, y_reduced)\n",
    "    scores[i] = skl_lm.score(X, y_reduced)\n",
    "print('Best choice (for R^2 score) on training part was to choose a kink at {}.'.format(\n",
    "    x_reduced[scores.argmax()][0]))"
   ]
  },
  {
   "cell_type": "markdown",
   "metadata": {},
   "source": [
    "# Adding one feature: use eduction, lowedu and female.\n",
    "$$ log(wage) \\approx \\theta_0 + \\theta_1 education + \\theta_2 eduction * \\cdot lowedu + \\theta_3 female$$"
   ]
  },
  {
   "cell_type": "code",
   "execution_count": null,
   "metadata": {
    "collapsed": false
   },
   "outputs": [],
   "source": [
    "# some help for groupby: http://wesmckinney.com/blog/groupby-fu-improvements-in-grouping-and-aggregating-data-in-pandas/\n",
    "tab = data['log-hourwage'].groupby([data['education'], data['female']]).mean()\n",
    "y_reduced_female = tab.values[1::2]\n",
    "y_reduced_male = tab.values[::2]\n",
    "\n",
    "X = np.concatenate([x_reduced, (x_reduced - 9) * (x_low_edu)], axis=1)\n",
    "skl_lm_female = linear_model.LinearRegression(fit_intercept=True)\n",
    "skl_lm_female.fit(X, y_reduced_female)\n",
    "\n",
    "skl_lm_male = linear_model.LinearRegression(fit_intercept=True)\n",
    "skl_lm_male.fit(X, y_reduced_male)"
   ]
  },
  {
   "cell_type": "code",
   "execution_count": null,
   "metadata": {
    "collapsed": false
   },
   "outputs": [],
   "source": [
    "plt.figure()\n",
    "plt.plot(x_reduced, skl_lm_female.predict(X), label=\"female OLS w/o lowedu\", c=my_orange)\n",
    "plt.plot(x_reduced, skl_lm_male.predict(X), label=\"male OLS w/o lowedu\", c=my_blue)\n",
    "plt.plot(x_reduced, y_reduced_female, '.', c=my_orange, alpha=0.5)\n",
    "plt.plot(x_reduced, y_reduced_male, '.', c=my_blue, alpha=0.5)\n",
    "\n",
    "# plt.plot(x_reduced, y_pred_reduced,'--',label=\"OLS with threshold level\")\n",
    "plt.xlabel('Eduction (years)')\n",
    "plt.ylabel('log(wage)')\n",
    "plt.title('Averaged data: log(wage) prediction according to eduction level')\n",
    "plt.legend()"
   ]
  }
 ],
 "metadata": {
  "kernelspec": {
   "display_name": "Python 3",
   "language": "python",
   "name": "python3"
  },
  "language_info": {
   "codemirror_mode": {
    "name": "ipython",
    "version": 3
   },
   "file_extension": ".py",
   "mimetype": "text/x-python",
   "name": "python",
   "nbconvert_exporter": "python",
   "pygments_lexer": "ipython3",
   "version": "3.6.0"
  }
 },
 "nbformat": 4,
 "nbformat_minor": 2
}
