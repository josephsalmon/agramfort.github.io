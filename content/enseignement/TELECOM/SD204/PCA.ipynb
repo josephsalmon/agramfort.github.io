{
 "cells": [
  {
   "cell_type": "code",
   "execution_count": null,
   "metadata": {
    "collapsed": false
   },
   "outputs": [],
   "source": [
    "from os import mkdir, path\n",
    "from math import cos, sin, pi, acos\n",
    "import time\n",
    "\n",
    "import numpy as np\n",
    "import pandas as pd\n",
    "import matplotlib.pyplot as plt\n",
    "from matplotlib import rc\n",
    "import seaborn as sns\n",
    "\n",
    "from sklearn.datasets import make_blobs\n",
    "from sklearn.preprocessing import StandardScaler\n",
    "from sklearn.decomposition import PCA\n",
    "from sklearn import metrics\n",
    "from sklearn.datasets import load_digits\n",
    "from sklearn import preprocessing\n",
    "%matplotlib inline"
   ]
  },
  {
   "cell_type": "code",
   "execution_count": null,
   "metadata": {
    "collapsed": true
   },
   "outputs": [],
   "source": [
    "###############################################################################\n",
    "# Plot initialization\n",
    "\n",
    "dirname = \"../prebuiltimages/\"\n",
    "if not path.exists(dirname):\n",
    "    mkdir(dirname)\n",
    "\n",
    "imageformat = '.pdf'\n",
    "rc('font', **{'family': 'sans-serif', 'sans-serif': ['Computer Modern Roman']})\n",
    "params = {'axes.labelsize': 16,\n",
    "          'font.size': 23,\n",
    "          'legend.fontsize': 12,\n",
    "          'xtick.labelsize': 10,\n",
    "          'ytick.labelsize': 10,\n",
    "          'text.usetex': True\n",
    "          }\n",
    "plt.rcParams.update(params)\n",
    "plt.close(\"all\")\n"
   ]
  },
  {
   "cell_type": "code",
   "execution_count": null,
   "metadata": {
    "collapsed": true
   },
   "outputs": [],
   "source": [
    "###############################################################################\n",
    "# display function:\n",
    "\n",
    "saving = False\n",
    "\n",
    "\n",
    "def my_saving_display(fig, dirname, filename, imageformat, bbox_inches='tight'):\n",
    "    \"\"\"\"Saving with personal function.\"\"\"\n",
    "    filename = filename.replace('.', 'pt')  # remove \".\" to avoid floats issues\n",
    "    if saving is True:\n",
    "        dirname + filename + imageformat\n",
    "        image_name = dirname + filename + imageformat\n",
    "        # BEWARE: bbox_inches='tight' helps for legend outside of bbox\n",
    "        fig.savefig(image_name, bbox_inches='tight')"
   ]
  },
  {
   "cell_type": "code",
   "execution_count": null,
   "metadata": {
    "collapsed": true
   },
   "outputs": [],
   "source": [
    "###############################################################################\n",
    "# PCA interpretation\n",
    "\n",
    "color_blind_list = sns.color_palette(\"colorblind\", 8)\n",
    "\n",
    "centers = [(-5, -5), (0, 0), (5, 5)]\n",
    "n_samples = 50\n",
    "n_features = 2\n",
    "Z, _ = make_blobs(n_samples=n_samples, n_features=n_features, cluster_std=4.0,\n",
    "                  centers=centers, shuffle=False, random_state=42)\n",
    "\n",
    "scaler = StandardScaler(with_mean=True, with_std=True).fit(Z)\n",
    "X = scaler.transform(Z)\n",
    "\n",
    "\n",
    "my_orange = color_blind_list[2]\n",
    "\n",
    "sns.set_context(\"poster\")\n",
    "sns.set_palette(\"colorblind\")\n",
    "sns.axes_style()\n",
    "sns.set_style(\"white\")\n",
    "\n",
    "s_large = 200\n",
    "s_small = 50"
   ]
  },
  {
   "cell_type": "code",
   "execution_count": null,
   "metadata": {
    "collapsed": false
   },
   "outputs": [],
   "source": [
    "# Data scatterplot\n",
    "fig = plt.figure(00, figsize=(10, 5))\n",
    "sub1 = fig.add_subplot(121)\n",
    "sub1.scatter(X[:, 0], X[:, 1], s=s_small, alpha=1, c=my_orange,\n",
    "             edgecolors='k', zorder=1)\n",
    "sub1.get_yaxis().set_ticks([])\n",
    "sub1.get_xaxis().set_ticks([])\n",
    "sub1.set_ylim([-3., 3.])\n",
    "sub1.set_xlim([-3., 3.])\n",
    "sub1.set_aspect('equal')\n",
    "sub1.set_xlabel(u'Data')\n",
    "\n",
    "sub2 = fig.add_subplot(122)\n",
    "# sub2.plot(theta_grid, var_grid, c='k', linewidth=3, zorder=1)\n",
    "sub2.set_aspect('equal')\n",
    "sub2.set_ylim([0, 2.])\n",
    "sub2.set_xlim([- pi / 2 - 0.2, pi / 2 + 0.2])\n",
    "sub2.set_xlabel('')\n",
    "sub2.set_ylabel('')\n",
    "sub2.get_yaxis().set_ticks([])\n",
    "sub2.get_xaxis().set_ticks([])\n",
    "plt.show()\n",
    "\n",
    "filename = 'fig_pca_axis_raw'\n",
    "my_saving_display(fig, dirname, filename, imageformat)"
   ]
  },
  {
   "cell_type": "code",
   "execution_count": null,
   "metadata": {
    "collapsed": false
   },
   "outputs": [],
   "source": [
    "# with mean\n",
    "fig = plt.figure(00, figsize=(10, 5))\n",
    "sub1 = fig.add_subplot(121)\n",
    "sub1.scatter(X[:, 0], X[:, 1], s=s_small, alpha=1, c=my_orange,\n",
    "             edgecolors='k', zorder=1)\n",
    "sub1.get_yaxis().set_ticks([])\n",
    "sub1.get_xaxis().set_ticks([])\n",
    "sub1.set_ylim([-3., 3.])\n",
    "sub1.set_xlim([-3., 3.])\n",
    "sub1.set_aspect('equal')\n",
    "sub1.set_xlabel(u'Data')\n",
    "sub1.scatter(0, 0, s=s_large, alpha=1, c='r', zorder=2, edgecolors='k')\n",
    "\n",
    "sub2 = fig.add_subplot(122)\n",
    "# sub2.plot(theta_grid, var_grid, c='k', linewidth=3, zorder=1)\n",
    "sub2.set_aspect('equal')\n",
    "sub2.set_ylim([0, 2.])\n",
    "sub2.set_xlim([- pi / 2 - 0.2, pi / 2 + 0.2])\n",
    "sub2.set_xlabel('')\n",
    "sub2.set_ylabel('')\n",
    "sub2.get_yaxis().set_ticks([])\n",
    "sub2.get_xaxis().set_ticks([])\n",
    "plt.show()\n",
    "plt.show()\n",
    "sub1.set_aspect('equal')\n",
    "sub1.set_xlabel(u'Data and mean')\n",
    "filename = 'fig_pca_axis_raw_mean'\n",
    "my_saving_display(fig, dirname, filename, imageformat)\n",
    "plt.show()"
   ]
  },
  {
   "cell_type": "code",
   "execution_count": null,
   "metadata": {
    "collapsed": false
   },
   "outputs": [],
   "source": [
    "x_range = np.linspace(-2, 2, num=100)\n",
    "X_mean = X.mean(axis=0)\n",
    "\n",
    "thetas = np.linspace(- pi / 2, pi / 2, num=10)\n",
    "theta_grid = np.linspace(- pi / 2 - 0.2, pi / 2 + 0.2, num=200)\n",
    "var_grid = np.zeros(theta_grid.shape)\n",
    "\n",
    "\n",
    "f, (sub1, sub2) = plt.subplots(1, 2,figsize=(10, 5))\n",
    "sub1.scatter(X[:, 0], X[:, 1], s=s_small, alpha=1, c=my_orange,\n",
    "             edgecolors='k', zorder=1)\n",
    "sub1.get_yaxis().set_ticks([])\n",
    "sub1.get_xaxis().set_ticks([])\n",
    "sub1.set_ylim([-3., 3.])\n",
    "sub1.set_xlim([-3., 3.])\n",
    "sub1.set_aspect('equal')\n",
    "sub1.set_xlabel(u'Data')\n",
    "filename = 'fig_pca_axis_raw'\n",
    "my_saving_display(fig, dirname, filename, imageformat)\n",
    "\n",
    "# with mean\n",
    "sub1.scatter(0, 0, s=s_large, alpha=1, c='r', zorder=2, edgecolors='k')\n",
    "sub1.set_aspect('equal')\n",
    "sub1.set_xlabel(u'Data and mean')\n",
    "filename = 'fig_pca_axis_raw_mean'\n",
    "my_saving_display(fig, dirname, filename, imageformat)\n",
    "\n",
    "sub2.plot(theta_grid, var_grid, c='k', linewidth=3, zorder=1)\n",
    "sub2.set_aspect('equal')\n",
    "sub2.set_ylim([0, 2.])\n",
    "sub2.set_xlim([- pi / 2 - 0.2, pi / 2 + 0.2])\n",
    "sub2.set_xlabel('Angle')\n",
    "sub2.set_ylabel('Variance')\n",
    "sub2.get_yaxis().set_ticks([])\n",
    "sub2.get_xaxis().set_ticks([])\n",
    "plt.show()\n",
    "\n",
    "\n",
    "for image_nb, theta in enumerate(theta_grid):\n",
    "    rotation = np.asarray([cos(theta), sin(theta)])\n",
    "    var_grid[image_nb] = np.var(X.dot(rotation))\n",
    "\n",
    "for image_nb, theta in enumerate(thetas):\n",
    "    fig = plt.figure(image_nb, figsize=(10, 5))\n",
    "    sub1 = fig.add_subplot(121)\n",
    "    sub1.set_aspect('equal')\n",
    "    sub1.set_ylim([-3., 3.])\n",
    "    sub1.set_xlim([-3., 3.])\n",
    "    cos_var = np.asarray([cos(theta), -cos(theta)])\n",
    "    sin_var = np.asarray([sin(theta), -sin(theta)])\n",
    "    rotation = np.asarray([cos(theta), sin(theta)])\n",
    "    points_projected = np.outer(X.dot(rotation), rotation)\n",
    "\n",
    "    for i in range(X.shape[0]):\n",
    "        point_projected = points_projected[i]\n",
    "        point_ini = X[i, :]\n",
    "        sub1.plot([point_ini[0], point_projected[0]],\n",
    "                  [point_ini[1], point_projected[1]],\n",
    "                  '--k', linewidth=1, zorder=1)\n",
    "        sub1.scatter(point_projected[0], point_projected[1],\n",
    "                     s=s_small, alpha=1, c='k', zorder=2)\n",
    "        amplitude = 4\n",
    "        sub1.plot(amplitude * cos_var, amplitude * sin_var, 'k', linewidth=1,\n",
    "                  zorder=2)\n",
    "\n",
    "    sub1.scatter(X[:, 0], X[:, 1], s=s_small, alpha=1, c=my_orange, zorder=3,\n",
    "                 edgecolors='k')\n",
    "    sub1.scatter(0, 0, s=s_large, alpha=1, c='r', zorder=4, edgecolors='k')\n",
    "    sub1.get_yaxis().set_ticks([])\n",
    "    sub1.get_xaxis().set_ticks([])\n",
    "    sub1.set_xlabel(u'Data, mean and projection')\n",
    "\n",
    "    var = np.var(X.dot(rotation))\n",
    "\n",
    "    sub2 = fig.add_subplot(122)\n",
    "    sub2.plot(theta_grid, var_grid, c='k', linewidth=3, zorder=1)\n",
    "    sub2.set_aspect('equal')\n",
    "    sub2.set_ylim([0, 2.])\n",
    "    sub2.set_xlim([- pi / 2 - 0.2, pi / 2 + 0.2])\n",
    "    sub2.scatter(theta, var, c=my_orange, s=s_large, zorder=2, edgecolors='k')\n",
    "    sub2.set_xlabel('Angle')\n",
    "    sub2.set_ylabel('Variance')\n",
    "    sub2.get_yaxis().set_ticks([])\n",
    "    sub2.get_xaxis().set_ticks([])\n",
    "    plt.show()\n",
    "    filename = 'fig_pca_axis' + str(image_nb)\n",
    "    my_saving_display(fig, dirname, filename, imageformat)\n",
    "\n",
    "\n",
    "# PCA itself\n",
    "\n",
    "pca = PCA(n_components=2)\n",
    "pca.fit(X)\n",
    "rotation = np.asarray([pca.components_[0][0], pca.components_[0][0]])\n",
    "X_new = np.outer(X.dot(rotation), rotation)\n",
    "theta_opt = acos(pca.components_[0][0])"
   ]
  },
  {
   "cell_type": "code",
   "execution_count": null,
   "metadata": {
    "collapsed": false
   },
   "outputs": [],
   "source": [
    "fig = plt.figure(30, figsize=(10, 5))\n",
    "sub1 = fig.add_subplot(121)\n",
    "sub1.scatter(X[:, 0], X[:, 1], s=s_small, alpha=1, c=my_orange, zorder=3,\n",
    "             edgecolors='k')\n",
    "sub1.get_yaxis().set_ticks([])\n",
    "sub1.get_xaxis().set_ticks([])\n",
    "sub1.set_ylim([-3., 3.])\n",
    "sub1.set_xlim([-3., 3.])\n",
    "sub1.set_xlabel(u'Principal direction (main axis)')\n",
    "sub1.set_aspect('equal')\n",
    "\n",
    "for i in range(X.shape[0]):\n",
    "    point_projected = X_new[i]\n",
    "    point_ini = X[i, :]\n",
    "    sub1.plot([point_ini[0], point_projected[0]],\n",
    "              [point_ini[1], point_projected[1]],\n",
    "              '--k', linewidth=1, zorder=2)\n",
    "    sub1.scatter(point_projected[0], point_projected[1],\n",
    "                 s=s_small, alpha=1, c='k', zorder=3)\n",
    "    amplitude = 4\n",
    "    cos_var = np.asarray([pca.components_[0][0], -pca.components_[0][0]])\n",
    "    sin_var = np.asarray([pca.components_[0][1], -pca.components_[0][0]])\n",
    "    sub1.plot(amplitude * cos_var, amplitude * sin_var, 'k', linewidth=1,\n",
    "              zorder=2)\n",
    "\n",
    "\n",
    "sub1.scatter(0, 0, s=s_large, alpha=1, c='r', zorder=3, edgecolors='k')\n",
    "\n",
    "# BEWARE: normalisation is by 1 / (n_samples - 1) in sklearn:\n",
    "var_opt = pca.explained_variance_[0] * (n_samples - 1) / (n_samples)\n",
    "\n",
    "sub2 = fig.add_subplot(122)\n",
    "sub2.plot(theta_grid, var_grid, c='k', linewidth=3, zorder=1)\n",
    "sub2.set_aspect('equal')\n",
    "sub2.set_ylim([0, 2.])\n",
    "sub2.set_xlim([- pi / 2 - 0.2, pi / 2 + 0.2])\n",
    "sub2.scatter(theta_opt, var_opt, c=my_orange, s=s_large, zorder=2,\n",
    "             edgecolors='k')\n",
    "sub2.set_xlabel('Angle')\n",
    "sub2.set_ylabel('Variance')\n",
    "sub2.get_yaxis().set_ticks([])\n",
    "sub2.get_xaxis().set_ticks([])\n",
    "filename = 'fig_pca_axis_opt'\n",
    "my_saving_display(fig, dirname, filename, imageformat)\n",
    "plt.show()"
   ]
  },
  {
   "cell_type": "markdown",
   "metadata": {},
   "source": [
    "# Exploration avec la PCA de la base de données *Digits*"
   ]
  },
  {
   "cell_type": "code",
   "execution_count": null,
   "metadata": {
    "collapsed": false
   },
   "outputs": [],
   "source": [
    "digits = load_digits()\n",
    "X = digits.data\n",
    "y = digits.target\n",
    "\n",
    "n_samples, n_features = X.shape\n",
    "n_digits = len(np.unique(y))\n",
    "\n",
    "print(\"n_digits: %d, \\t n_samples %d, \\t n_features %d\"\n",
    "      % (n_digits, n_samples, n_features))\n",
    "sns.set(style=\"white\")"
   ]
  },
  {
   "cell_type": "markdown",
   "metadata": {},
   "source": [
    "# Visualisation d'un element de la base sous forme d'image:"
   ]
  },
  {
   "cell_type": "code",
   "execution_count": null,
   "metadata": {
    "collapsed": false
   },
   "outputs": [],
   "source": [
    "fig = plt.figure(figsize=(8, 3))\n",
    "for i in range(10):\n",
    "    ax = fig.add_subplot(2,5,i + 1)\n",
    "    digit = X[i]\n",
    "    ax.imshow(digit.reshape(8, 8), cmap=plt.cm.gray, interpolation=\"nearest\")\n",
    "    ax.axis('off')\n",
    "\n",
    "filename = 'fig_digits'\n",
    "my_saving_display(fig, dirname, filename, imageformat)    \n",
    "    \n",
    "transfo = PCA(n_components=2)\n",
    "X_2d = transfo.fit_transform(X)\n",
    "X_2d.shape"
   ]
  },
  {
   "cell_type": "markdown",
   "metadata": {},
   "source": [
    "# Visualisation en 2D des données (projection sur les deux axes principaux)"
   ]
  },
  {
   "cell_type": "code",
   "execution_count": null,
   "metadata": {
    "collapsed": false
   },
   "outputs": [],
   "source": [
    "sns.set_context(\"poster\")\n",
    "sns.set_palette(\"Paired\", n_colors=10)\n",
    "color_paired_list = sns.set_palette(\"Paired\", n_colors=10)\n",
    "fig = plt.figure(figsize=(10, 8))\n",
    "plt.plot(X_2d[:, 0], X_2d[:, 1], 'k.', markersize=8)\n",
    "filename = 'fig_pca_digits_wo_classes'\n",
    "my_saving_display(fig, dirname, filename, imageformat)"
   ]
  },
  {
   "cell_type": "markdown",
   "metadata": {},
   "source": [
    "# Visualisation en 2D des données (projection sur les deux axes principaux) + coleur correspondant aux diverses classse"
   ]
  },
  {
   "cell_type": "code",
   "execution_count": null,
   "metadata": {
    "collapsed": false
   },
   "outputs": [],
   "source": [
    "fig = plt.figure(figsize=(10, 8))\n",
    "for k in range(10):\n",
    "    Xk_2d = X_2d[y == k]\n",
    "    plt.plot(Xk_2d[:, 0], Xk_2d[:, 1], '.', markersize=8, label=k)\n",
    "    plt.legend(numpoints=1, loc=1, bbox_to_anchor=(1.2, 0.7), markerscale=3)\n",
    "plt.tight_layout()\n",
    "plt.show()\n",
    "filename = 'fig_pca_digits_w_classes'\n",
    "my_saving_display(fig, dirname, filename, imageformat)"
   ]
  },
  {
   "cell_type": "markdown",
   "metadata": {},
   "source": [
    "# Une alternative non linéaire:  t-distributed Stochastic Neighbor Embedding (t-SNE)"
   ]
  },
  {
   "cell_type": "code",
   "execution_count": null,
   "metadata": {
    "collapsed": false
   },
   "outputs": [],
   "source": [
    "from sklearn import (manifold, datasets, decomposition, ensemble,\n",
    "                     discriminant_analysis, random_projection)\n",
    "tsne = manifold.TSNE(n_components=2, init='pca', random_state=0)\n",
    "X_tsne = tsne.fit_transform(X)"
   ]
  },
  {
   "cell_type": "code",
   "execution_count": null,
   "metadata": {
    "collapsed": false
   },
   "outputs": [],
   "source": [
    "fig = plt.figure(figsize=(10, 8))\n",
    "for k in range(10):\n",
    "    X_tsne_int = X_tsne[y == k]\n",
    "    plt.plot(X_tsne_int[:, 0], X_tsne_int[:, 1], '.', markersize=8, label=k)\n",
    "    plt.legend(numpoints=1,loc=1, bbox_to_anchor=(1.2, 0.7), markerscale=3)\n",
    "plt.tight_layout()\n",
    "plt.show()\n",
    "filename = 'fig_tsne_digits_w_classes'\n",
    "my_saving_display(fig, dirname, filename, imageformat)"
   ]
  },
  {
   "cell_type": "code",
   "execution_count": null,
   "metadata": {
    "collapsed": false
   },
   "outputs": [],
   "source": [
    "from PIL import Image\n",
    "\n",
    "data = np.random.random((100,100))\n",
    "\n",
    "#Rescale to 0-255 and convert to uint8\n",
    "\n",
    "\n",
    "fig = plt.figure(figsize=(8, 3))\n",
    "for i in range(X.shape[0]):\n",
    "    digit = X[i]    \n",
    "    rescaled = (255.0 / digit.max() * (digit - digit.min())).astype(np.uint8)\n",
    "    rescaled = rescaled.reshape(8, 8)\n",
    "    new_p = Image.fromarray(np.asarray(rescaled,dtype='uint8'),mode='L')\n",
    "    new_p.save(\"images/digit\"+str(i)+\".png\")\n",
    "    "
   ]
  },
  {
   "cell_type": "code",
   "execution_count": null,
   "metadata": {
    "collapsed": false
   },
   "outputs": [],
   "source": [
    "imgs_names = []\n",
    "for i in range(X.shape[0]):\n",
    "    imgs_names.append('images/digit'+str(i)+\".png\")\n",
    "print(imgs_names[0])"
   ]
  },
  {
   "cell_type": "code",
   "execution_count": null,
   "metadata": {
    "collapsed": false
   },
   "outputs": [],
   "source": [
    "import warnings\n",
    "warnings.filterwarnings('ignore')\n",
    "\n",
    "from bokeh.plotting import figure, output_file, show, ColumnDataSource\n",
    "from bokeh.models import HoverTool\n",
    "from bokeh.io import output_notebook\n",
    "\n",
    "output_notebook()"
   ]
  },
  {
   "cell_type": "code",
   "execution_count": null,
   "metadata": {
    "collapsed": false
   },
   "outputs": [],
   "source": [
    "color_paired_list = sns.color_palette(\"Paired\", 10).as_hex()\n",
    "colors = {i : color_paired_list[i] for i in range(10) }\n",
    "df = pd.DataFrame(dict(y=y))\n",
    "df['colors'] = df['y'].apply(lambda x: colors[x])"
   ]
  },
  {
   "cell_type": "code",
   "execution_count": null,
   "metadata": {
    "collapsed": false
   },
   "outputs": [],
   "source": [
    "source = ColumnDataSource(\n",
    "        data=dict(\n",
    "            x=X_tsne[:, 0],\n",
    "            y=X_tsne[:, 1],\n",
    "            imgs=imgs_names,\n",
    "            desc=y,\n",
    "            color =df['colors']\n",
    "        )\n",
    "    )\n",
    "hover = HoverTool(\n",
    "        tooltips=\"\"\"\n",
    "        <div>\n",
    "            <div>\n",
    "                <img\n",
    "                    src=\"@imgs\" height=\"80\" alt=\"@imgs\" width=\"80\"\n",
    "                    style=\"float: left; margin: 0px 15px 15px 0px;\"\n",
    "                    border=\"2\"\n",
    "                ></img>\n",
    "            </div>\n",
    "            <div>\n",
    "                <span style=\"font-size: 17px; font-weight: bold;\">@desc</span>\n",
    "                <span style=\"font-size: 15px; color: #966;\">[$index]</span>\n",
    "            </div>\n",
    "        </div>\n",
    "        \"\"\"\n",
    "    )\n",
    "\n",
    "p = figure(plot_width=400, plot_height=400, tools=[hover,'wheel_zoom, box_zoom'],\n",
    "           title=\"Mouse over the dots to see the digits\",)\n",
    "\n",
    "\n",
    "p.circle('x', 'y', size=5, source=source, color='color')\n",
    "\n",
    "show(p)"
   ]
  },
  {
   "cell_type": "markdown",
   "metadata": {},
   "source": [
    "# Timing comparisons for various SVD solvers"
   ]
  },
  {
   "cell_type": "markdown",
   "metadata": {},
   "source": [
    "Adapted from http://blog.explainmydata.com/2016/01/how-much-faster-is-truncated-svd.html"
   ]
  },
  {
   "cell_type": "code",
   "execution_count": null,
   "metadata": {
    "collapsed": true
   },
   "outputs": [],
   "source": [
    "RANK = 99\n",
    "N_COLS = 2000\n",
    "min_rows = 100\n",
    "max_rows = 2000"
   ]
  },
  {
   "cell_type": "markdown",
   "metadata": {},
   "source": [
    "# Define useful functions for SVD solvers comparisons"
   ]
  },
  {
   "cell_type": "code",
   "execution_count": null,
   "metadata": {
    "collapsed": true
   },
   "outputs": [],
   "source": [
    "def evaluate_svd(svd_fn, reconstruct_fn, min_rows=100, max_rows=1000,\n",
    "                 n_samples=10, n_cols=N_COLS, rank=RANK, random_seed=0):\n",
    "    \"\"\" SVD evaluation:\n",
    "    Return n_rows, time_elimes, errors\n",
    "    \"\"\"\n",
    "    np.random.seed(random_seed)\n",
    "    time_elimes = []\n",
    "    errors = []\n",
    "    n_rows_array = (np.linspace(min_rows, max_rows, num=n_samples)).astype(int)\n",
    "\n",
    "    for n_rows in n_rows_array:\n",
    "        # construct a low-rank matrix\n",
    "        left = np.random.randn(n_rows, rank)\n",
    "        right = np.random.randn(rank, n_cols)\n",
    "        full = np.dot(left, right)\n",
    "\n",
    "        # how long does it take to perform the SVD?\n",
    "        start_t = time.time()\n",
    "        svd_outputs = svd_fn(full)\n",
    "        end_t = time.time()\n",
    "        time_el = end_t - start_t\n",
    "        time_elimes.append(time_el)\n",
    "\n",
    "        # compute mean absolte error of reconstruction\n",
    "        reconstructed = reconstruct_fn(svd_outputs)\n",
    "        diff = full - reconstructed\n",
    "        mae = np.mean(np.abs(diff))\n",
    "        errors.append(mae)\n",
    "        #print(\"n_rows=%d , time = %0.4f, MAE = %0.8f\" % (n_rows, time_el, mae))\n",
    "        print(\"n_rows=%d , time = %0.4f\" % (n_rows, time_el))\n",
    "    max_error = np.max(errors)\n",
    "    print(\"Max Error=%f\" % max_error)\n",
    "    assert max_error < 0.0000001\n",
    "    return n_rows_array, time_elimes, errors\n",
    "\n",
    "\n",
    "# Full SVD with NumPy\n",
    "def np_svd(X):\n",
    "    \"\"\"\n",
    "    Compute SVD with numpy method\n",
    "    \"\"\"\n",
    "    return np.linalg.svd(X, full_matrices=False, compute_uv=True)\n",
    "\n",
    "\n",
    "def np_inv_svd(svd_outputs):\n",
    "    \"\"\"\n",
    "    Compute reconstruction from SVD with numpy method\n",
    "    \"\"\"\n",
    "    U, s, V = svd_outputs\n",
    "    return np.dot(U, np.dot(np.diag(s), V))\n",
    "\n",
    "\n",
    "# Truncated SVD with scikit-learn\n",
    "def skl_svd(X, rank=RANK):\n",
    "    \"\"\"\n",
    "    Compute SVD with skl method\n",
    "    \"\"\"\n",
    "    tsvd = decomposition.TruncatedSVD(rank)\n",
    "    X_reduced = tsvd.fit_transform(X)\n",
    "    return (tsvd, X_reduced)\n",
    "\n",
    "\n",
    "def skl_inv_svd(svd_outputs):\n",
    "    \"\"\"\n",
    "    Compute reconstruction from SVD with skl method\n",
    "    \"\"\"\n",
    "    tsvd, X_reduced = svd_outputs\n",
    "    return tsvd.inverse_transform(X_reduced)\n",
    "\n",
    "\n",
    "def skl_rand_svd(X, rank=RANK):\n",
    "    \"\"\"\n",
    "    Compute approximated SVD with skl method (randomized algorithm)\n",
    "    \"\"\"\n",
    "    tsvd = decomposition.TruncatedSVD(rank, algorithm=\"randomized\",\n",
    "                                      n_iter=1)\n",
    "    X_reduced = tsvd.fit_transform(X)\n",
    "    return (tsvd, X_reduced)\n",
    "\n",
    "\n",
    "def skl_arpack_svd(X, rank=RANK):\n",
    "    \"\"\"\n",
    "    Compute approximated SVD with skl method (Arpack algorithm)\n",
    "    \"\"\"\n",
    "    tsvd = decomposition.TruncatedSVD(rank, algorithm=\"arpack\")\n",
    "    X_reduced = tsvd.fit_transform(X)\n",
    "    return (tsvd, X_reduced)"
   ]
  },
  {
   "cell_type": "markdown",
   "metadata": {},
   "source": [
    "# Perform timings:"
   ]
  },
  {
   "cell_type": "code",
   "execution_count": null,
   "metadata": {
    "collapsed": false
   },
   "outputs": [],
   "source": [
    "n_rows, np_times, np_errors = evaluate_svd(np_svd, np_inv_svd,\n",
    "                                           min_rows=min_rows, max_rows=max_rows,\n",
    "                                           n_samples=10, n_cols=N_COLS, rank=RANK)"
   ]
  },
  {
   "cell_type": "code",
   "execution_count": null,
   "metadata": {
    "collapsed": false
   },
   "outputs": [],
   "source": [
    "n_rows, skl_rand_times, skl_rand_err = evaluate_svd(skl_rand_svd, skl_inv_svd,\n",
    "                                           min_rows=min_rows, max_rows=max_rows,\n",
    "                                           n_samples=10, n_cols=N_COLS, rank=RANK)"
   ]
  },
  {
   "cell_type": "code",
   "execution_count": null,
   "metadata": {
    "collapsed": false
   },
   "outputs": [],
   "source": [
    "n_rows, skl_arpack_times, skl_arpack_err = evaluate_svd(skl_arpack_svd, skl_inv_svd,\n",
    "                                           min_rows=min_rows, max_rows=max_rows,\n",
    "                                           n_samples=10, n_cols=N_COLS, rank=RANK)"
   ]
  },
  {
   "cell_type": "markdown",
   "metadata": {},
   "source": [
    "# Display"
   ]
  },
  {
   "cell_type": "code",
   "execution_count": null,
   "metadata": {
    "collapsed": false
   },
   "outputs": [],
   "source": [
    "sns.set_palette(\"colorblind\")\n",
    "sns.axes_style()\n",
    "sns.set_style({'legend.frameon': True})\n",
    "\n",
    "fig = plt.figure(figsize=(10, 10))\n",
    "plt.xlim(min_rows, max_rows)\n",
    "plt.ylim(0, np.max([np_times, skl_rand_times, skl_arpack_times]))\n",
    "\n",
    "x_axis = pd.Series(n_rows, name=\"$n$: number of rows\")\n",
    "\n",
    "sns.regplot(x=x_axis, y=pd.Series(np_times, name=\"elapsed time (s)\"))\n",
    "sns.regplot(x=x_axis, y=pd.Series(skl_rand_times, name=\"elapsed time (s)\"))\n",
    "sns.regplot(x=x_axis, y=pd.Series(skl_arpack_times, name=\"elapsed time (s)\"))\n",
    "\n",
    "\n",
    "plt.legend((\"numpy.linalg.svd\", \"TruncatedSVD (rand)\",\n",
    "            \"TruncatedSVD (arpack)\"), loc='upper left')\n",
    "plt.title(\"Time to perform SVD:\" +\n",
    "          \" rank = {0} with $p=${1} columns\".format(RANK, N_COLS))\n",
    "plt.show()\n",
    "filename = 'timinng_svd'\n",
    "my_saving_display(fig, dirname, filename, imageformat)"
   ]
  }
 ],
 "metadata": {
  "kernelspec": {
   "display_name": "Python 3",
   "language": "python",
   "name": "python3"
  },
  "language_info": {
   "codemirror_mode": {
    "name": "ipython",
    "version": 3
   },
   "file_extension": ".py",
   "mimetype": "text/x-python",
   "name": "python",
   "nbconvert_exporter": "python",
   "pygments_lexer": "ipython3",
   "version": "3.6.0"
  }
 },
 "nbformat": 4,
 "nbformat_minor": 2
}
