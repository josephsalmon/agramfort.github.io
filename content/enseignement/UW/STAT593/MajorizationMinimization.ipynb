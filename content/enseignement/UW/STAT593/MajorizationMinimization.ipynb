{
 "cells": [
  {
   "cell_type": "code",
   "execution_count": null,
   "metadata": {
    "collapsed": true
   },
   "outputs": [],
   "source": [
    "# Author: Joseph Salmon <joseph.salmon@telecom-paristech.fr>\n",
    "#         Mathurin Massias <mathurin.massias@gmail.com>\n",
    "\n",
    "import numpy as np\n",
    "import seaborn as sns\n",
    "import matplotlib.pyplot as plt\n",
    "\n",
    "from sklearn.utils import check_random_state\n",
    "# dirty local imports:\n",
    "import sys\n",
    "sys.path.append(\"./../../../\")\n",
    "from share_code.utils import my_saving_display, make_huber, make_abs, make_median, make_bisquare\n",
    "\n",
    "sns.set_palette(\"colorblind\")\n",
    "%matplotlib notebook "
   ]
  },
  {
   "cell_type": "code",
   "execution_count": null,
   "metadata": {
    "collapsed": true
   },
   "outputs": [],
   "source": [
    "dirname = \"../prebuiltimages/\"\n",
    "imageformat = \".pdf\"  # should be .pdf or .png    \n",
    "# some colors I'll use\n",
    "brown = (0.64, 0.16, 0.16)\n",
    "purple = (148. / 255, 0, 211. / 255)\n",
    "plt.close(\"all\")\n",
    "saving = False  # True"
   ]
  },
  {
   "cell_type": "code",
   "execution_count": null,
   "metadata": {
    "collapsed": true
   },
   "outputs": [],
   "source": [
    "color_blind_list = sns.color_palette(\"GnBu_d\", 8)\n",
    "c1 = color_blind_list[0]\n",
    "c2 = color_blind_list[1]\n",
    "c3 = color_blind_list[2]"
   ]
  },
  {
   "cell_type": "code",
   "execution_count": null,
   "metadata": {
    "collapsed": true
   },
   "outputs": [],
   "source": [
    "def gradient_descent(func, func_prime, steps, theta_init, n_iter=10):\n",
    "    if not isinstance(steps, np.ndarray):\n",
    "        steps = np.repeat(steps, n_iter)\n",
    "\n",
    "    theta_init = np.atleast_1d(theta_init).astype(np.float64)\n",
    "    all_thetas = np.zeros([n_iter, theta_init.shape[0]])\n",
    "\n",
    "    all_objs = np.zeros([n_iter])\n",
    "\n",
    "    theta = theta_init.copy()\n",
    "\n",
    "    for it in range(n_iter):\n",
    "        theta -= steps[it] * func_prime(theta)\n",
    "        all_thetas[it] = theta\n",
    "        all_objs[it] = func(theta)\n",
    "    return all_thetas, all_objs\n",
    "\n",
    "\n",
    "def weiszfeld(X, theta_init=3., n_iter=10):\n",
    "    \"\"\"\n",
    "    Compute the median of points in X with Weiszfeld algorithm.\n",
    "\n",
    "    X : array, shape (n_samples, n_features)\n",
    "        Array of points of which the median must be computed\n",
    "    \"\"\"\n",
    "    if X.ndim == 1:  # hopefully it's not a single data point being passed\n",
    "        X = X[:, None]\n",
    "\n",
    "    theta_init = np.atleast_1d(theta_init).astype(np.float64)\n",
    "    if theta_init.shape[0] != X.shape[1]:\n",
    "        raise ValueError(\"theta_init has shape %s, expected %s\" %\n",
    "                         (theta_init.shape[0], X.shape[1]))\n",
    "    theta = theta_init.copy()\n",
    "\n",
    "    all_thetas = np.zeros([n_iter, theta_init.shape[0]])\n",
    "    all_thetas[0] = theta_init\n",
    "\n",
    "    all_objs = np.zeros([n_iter])\n",
    "    all_objs[0] = np.linalg.norm(X - theta[None, :], axis=1).sum()\n",
    "\n",
    "    for it in range(1, n_iter):\n",
    "        w = 1. / (np.linalg.norm(X - theta[None, :], axis=1) + 1e-16)\n",
    "        theta = np.sum(X * w[:, None], axis=0) / np.sum(w)\n",
    "        all_thetas[it] = theta\n",
    "        all_objs[it] = np.linalg.norm(X - theta[None, :], axis=1).sum()\n",
    "\n",
    "    return all_thetas, all_objs\n",
    "\n",
    "\n",
    "def mm_visu(func, func_prime, theta, x, step):\n",
    "    nabla = func_prime(theta)\n",
    "    z = 1. / (2. * step) * (theta - step * nabla - x) ** 2 + \\\n",
    "        func(theta) - 1. / 2. * step * nabla ** 2\n",
    "    return z\n",
    "\n",
    "\n",
    "def min_gd(func, func_prime, theta, x, step):\n",
    "    nabla = func_prime(theta)\n",
    "    z = func(theta) - 1. / 2. * step * nabla ** 2\n",
    "    return z"
   ]
  },
  {
   "cell_type": "code",
   "execution_count": null,
   "metadata": {
    "collapsed": true
   },
   "outputs": [],
   "source": [
    "def my_plot(func, func_prime, x, theta_init, n_iter, step, saving):\n",
    "\n",
    "    iterates_list,_ = gradient_descent(\n",
    "        func, func_prime, step, theta_init=theta_init, n_iter=n_iter)\n",
    "    ylims = [-2, 5]\n",
    "    xlims = [-5, 5]\n",
    "    mm = False,\n",
    "    name = r'$|\\cdot|$,'\n",
    "    figname = \"abs_step{:.1f}\".format(step).replace(\".\", \"pt\")\n",
    "\n",
    "    fig1, ax = plt.subplots(figsize=(7, 7))\n",
    "    ax.set_xlim(*xlims)\n",
    "    ax.set_ylim(*ylims)\n",
    "    ax.plot(x, func(x), c=c3, lw=1.7, label=name)\n",
    "    ax.set_title(r\"Gradient descent for $|\\cdot|$ function; stepsize: $\\alpha={:.1f}$\".format(step))\n",
    "    my_saving_display(fig1, dirname, figname, imageformat, saving)\n",
    "\n",
    "    plt.legend(loc='lower left')\n",
    "\n",
    "    myarray = np.asarray(iterates_list[:0 + 1])\n",
    "    ax.plot(myarray, func(myarray), 'o')\n",
    "\n",
    "    my_saving_display(fig1, dirname, figname + \"_with_init\", imageformat, saving)\n",
    "\n",
    "    plt.legend(loc='lower left')\n",
    "\n",
    "    for index_to_plot in range(n_iter - 1):\n",
    "        fig1, ax = plt.subplots(figsize=(7, 7))\n",
    "        ax.set_title(r\"Gradient descent for $|\\cdot|$ function; stepsize: $\\alpha={:.1f}$\".format(step))\n",
    "        ax.set_xlim(*xlims)\n",
    "        ax.set_ylim(*ylims)\n",
    "        if mm:\n",
    "            z = mm_visu(func, func_prime,\n",
    "                        iterates_list[index_to_plot], x, step=step)\n",
    "            ax.plot(x, z, c='purple', lw=1.1,\n",
    "                    label=r\"$g(\\theta^{:1}, \\cdot)$\".format(index_to_plot))\n",
    "            minima = min_gd(func, func_prime,\n",
    "                            iterates_list[index_to_plot], x, step=step)\n",
    "            ax.plot(iterates_list[index_to_plot + 1], minima, 'o', c='purple')\n",
    "\n",
    "        ax.plot(x, func(x), c=c3, lw=1.7, label=name)\n",
    "        myarray = np.asarray(iterates_list[:index_to_plot + 1])\n",
    "        ax.plot(myarray, func(myarray), 'o')\n",
    "\n",
    "        plt.legend(loc='lower left')\n",
    "        my_saving_display(fig1, dirname, figname + str(index_to_plot), imageformat, saving)"
   ]
  },
  {
   "cell_type": "markdown",
   "metadata": {},
   "source": [
    "# Geometric Median case"
   ]
  },
  {
   "cell_type": "code",
   "execution_count": null,
   "metadata": {
    "collapsed": false
   },
   "outputs": [],
   "source": [
    "saving = True  # True\n",
    "x = np.linspace(-5, 5, 501)\n",
    "\n",
    "theta_init = 3\n",
    "n_iter = 5\n",
    "step = 1.5\n",
    "func, func_prime = make_abs()\n",
    "\n",
    "\n",
    "my_plot(func, func_prime, x, theta_init, n_iter, step, saving)"
   ]
  },
  {
   "cell_type": "code",
   "execution_count": null,
   "metadata": {
    "collapsed": false
   },
   "outputs": [],
   "source": [
    "rng = check_random_state(24)\n",
    "n_samples, n_features = 21, 2\n",
    "\n",
    "X = rng.normal(0, 1, size=(n_samples, n_features))\n",
    "n_iter = 50\n",
    "theta_init = np.mean(X, axis=0)"
   ]
  },
  {
   "cell_type": "code",
   "execution_count": null,
   "metadata": {
    "collapsed": false
   },
   "outputs": [],
   "source": [
    "if X.shape[1] == 2:\n",
    "    plt.scatter(X[:, 0], X[:, 1])"
   ]
  },
  {
   "cell_type": "code",
   "execution_count": null,
   "metadata": {
    "collapsed": false
   },
   "outputs": [],
   "source": [
    "from scipy.optimize import minimize\n",
    "\n",
    "\n",
    "def cost_median(theta, X):\n",
    "    return np.linalg.norm(X - theta[None, :], axis=1).sum()\n",
    "\n",
    "# numerical minimization of the cost function, starting with the mean of the dataset:\n",
    "opt_result = minimize(lambda theta: cost_median(theta, X), x0=theta_init, method='BFGS')\n",
    "true_median = opt_result[\"x\"]\n",
    "cost_min = cost_median(true_median, X)\n",
    "print(\"scipy's solution: \", true_median)\n",
    "print(\"scipy's ojective: \", cost_min)\n"
   ]
  },
  {
   "cell_type": "code",
   "execution_count": null,
   "metadata": {
    "collapsed": false
   },
   "outputs": [],
   "source": [
    "\n",
    "weiszfeld_iterates, weiszfeld_objs = weiszfeld(X, theta_init=theta_init, n_iter=n_iter)\n",
    "print(\"our solution: \", weiszfeld_iterates[-1])\n",
    "print(\"last objective: \", weiszfeld_objs[-1])"
   ]
  },
  {
   "cell_type": "code",
   "execution_count": null,
   "metadata": {
    "collapsed": false
   },
   "outputs": [],
   "source": [
    "n_iter = 100\n",
    "sqrt_decay_step = 0.5  / np.sqrt(np.arange(n_iter) + 1)\n",
    "\n",
    "func, func_prime = make_median(X)\n",
    "\n",
    "_, list_gd_val10pt0_decay = gradient_descent(\n",
    "    func, func_prime, 10./ X.shape[0] * sqrt_decay_step, \n",
    "    theta_init=theta_init, n_iter=n_iter)\n",
    "\n",
    "_, list_gd_val0pt01 = gradient_descent(\n",
    "    func, func_prime, 0.5 / X.shape[0], \n",
    "    theta_init=theta_init, n_iter=n_iter)\n",
    "\n",
    "list_gd_val10pt0_decay[-10:]"
   ]
  },
  {
   "cell_type": "code",
   "execution_count": null,
   "metadata": {
    "collapsed": false
   },
   "outputs": [],
   "source": [
    "fig1=plt.figure(figsize=(7,7))\n",
    "\n",
    "plt.semilogy(list_gd_val10pt0_decay - cost_min,\n",
    "             label=r\"GD $\\alpha=\\frac{1}{\\sqrt{t}}$\")\n",
    "plt.semilogy(list_gd_val0pt01 - cost_min,\n",
    "             label=r\"GD $\\alpha=cst$\")\n",
    "plt.semilogy(weiszfeld_objs - cost_min, label=\"Weiszfeld\")\n",
    "plt.xlabel(\"Number of epochs\")\n",
    "plt.ylabel(r\"$f(\\theta) -f(\\theta^{\\star})$\")\n",
    "plt.legend()\n",
    "\n",
    "\n",
    "figname = \"WeiszfeldVsGD\"\n",
    "my_saving_display(fig1, dirname, figname, imageformat, saving)"
   ]
  },
  {
   "cell_type": "markdown",
   "metadata": {},
   "source": [
    "# Biweight case"
   ]
  },
  {
   "cell_type": "code",
   "execution_count": null,
   "metadata": {
    "collapsed": true
   },
   "outputs": [],
   "source": [
    "def cost_bisquare(theta, X, threshold):\n",
    "    z = 1 - (1 -  (np.linalg.norm(X - theta[None, :],axis=1) / threshold)**2)**3\n",
    "    z = np.minimum(1, z)\n",
    "    return np.sum(z)"
   ]
  },
  {
   "cell_type": "code",
   "execution_count": null,
   "metadata": {
    "collapsed": false
   },
   "outputs": [],
   "source": [
    "rng = check_random_state(24)\n",
    "n_samples, n_features = 10, 1\n",
    "X = rng.normal(0, 1, size=(n_samples, n_features))\n",
    "n_iter = 100\n",
    "threshold = 0.505"
   ]
  },
  {
   "cell_type": "code",
   "execution_count": null,
   "metadata": {
    "collapsed": false
   },
   "outputs": [],
   "source": [
    "# theta_init = np.mean(X, axis=0)\n",
    "theta_init = -0.2*np.ones(X.shape[1])\n",
    "\n",
    "print(\"Initial solution: \", theta_init)\n",
    "print(\"Initial objective:\",  cost_bisquare(theta_init, X, threshold))"
   ]
  },
  {
   "cell_type": "code",
   "execution_count": null,
   "metadata": {
    "collapsed": false
   },
   "outputs": [],
   "source": [
    "# numerical minimization of the cost function, starting with the mean of the dataset:\n",
    "opt_result = minimize(lambda theta: cost_bisquare(theta, X,threshold), x0=theta_init, method='BFGS')\n",
    "scipy_sol = opt_result[\"x\"]\n",
    "cost_min = cost_bisquare(scipy_sol, X, threshold)\n",
    "print(\"scipy's solution: \", scipy_sol)\n",
    "print(\"scipy's ojective: \", cost_min)"
   ]
  },
  {
   "cell_type": "code",
   "execution_count": null,
   "metadata": {
    "collapsed": false
   },
   "outputs": [],
   "source": [
    "func, func_prime, func_weight = make_bisquare(X, threshold)\n",
    "# In 1D the lipschitz constant is 6 as the $\\rho''(x)\n",
    "\n",
    "list_gd_iterate, list_gd_val = gradient_descent(\n",
    "    func, func_prime, 1 / (6 * X.shape[0]),\n",
    "    theta_init=theta_init, n_iter=n_iter)\n",
    "\n",
    "print(\"GD's solution: \", list_gd_iterate[-1])\n",
    "print(\"GD's objective: \", list_gd_val[-1])"
   ]
  },
  {
   "cell_type": "code",
   "execution_count": null,
   "metadata": {
    "collapsed": false
   },
   "outputs": [],
   "source": [
    "def mm_bisquare(X, func_weight, theta_init, n_iter=10):\n",
    "    \"\"\"\n",
    "    Compute the M-estimator (biweights) of points in X with MM algorithm.\n",
    "\n",
    "    X : array, shape (n_samples, n_features)\n",
    "        Array of points of which the median must be computed\n",
    "    \"\"\"\n",
    "    if X.ndim == 1:  # hopefully it's not a single data point being passed\n",
    "        X = X[:, None]\n",
    "\n",
    "    theta_init = np.atleast_1d(theta_init).astype(np.float64)\n",
    "    if theta_init.shape[0] != X.shape[1]:\n",
    "        raise ValueError(\"theta_init has shape %s, expected %s\" %\n",
    "                         (theta_init.shape[0], X.shape[1]))\n",
    "    theta = theta_init.copy()\n",
    "\n",
    "    all_thetas = np.zeros([n_iter, theta_init.shape[0]])\n",
    "    all_thetas[0] = theta_init\n",
    "\n",
    "    all_objs = np.zeros([n_iter])\n",
    "    all_objs[0] = cost_bisquare(theta, X, threshold)\n",
    "\n",
    "    for it in range(1, n_iter):\n",
    "        w = func_weight(theta)\n",
    "        if np.linalg.norm(w)>1e-12:\n",
    "            theta = np.sum(X * w[:, None], axis=0) / np.sum(w)\n",
    "        else:\n",
    "            theta = np.zeros(theta_init.shape)\n",
    "        all_thetas[it] = theta\n",
    "        all_objs[it] = cost_bisquare(theta, X, threshold)\n",
    "\n",
    "    return all_thetas, all_objs"
   ]
  },
  {
   "cell_type": "code",
   "execution_count": null,
   "metadata": {
    "collapsed": false
   },
   "outputs": [],
   "source": [
    "mm_iterates, mm_objs = mm_bisquare(X, func_weight, theta_init=theta_init, n_iter=n_iter)\n",
    "print(\"our solution: \", mm_iterates[-1])\n",
    "print(\"last objective: \", mm_objs[-1])"
   ]
  },
  {
   "cell_type": "code",
   "execution_count": null,
   "metadata": {
    "collapsed": false
   },
   "outputs": [],
   "source": [
    "fig1=plt.figure(figsize=(7,7))\n",
    "\n",
    "plt.semilogy(list_gd_val - cost_min,\n",
    "             label=r\"GD $\\alpha=cst$\")\n",
    "plt.semilogy(mm_objs - cost_min, label=\"MM\")\n",
    "plt.xlabel(\"Number of epochs\")\n",
    "plt.ylabel(r\"$f(\\theta) -f(\\theta^{\\star})$\")\n",
    "plt.legend()\n",
    "\n",
    "figname = \"MMalgVsGD\"\n",
    "my_saving_display(fig1, dirname, figname, imageformat, saving)"
   ]
  },
  {
   "cell_type": "code",
   "execution_count": null,
   "metadata": {
    "collapsed": false
   },
   "outputs": [],
   "source": [
    "cost_x = np.zeros(x.shape)\n",
    "if n_features == 1:\n",
    "    for i, valx in enumerate(x):\n",
    "        theta1 = np.array([valx])\n",
    "        cost_x[i] = cost_bisquare(theta1, X, threshold)\n",
    "    fig1 = plt.figure()\n",
    "    plt.title(\"Objective function\")\n",
    "    plt.plot(x, cost_x, lw=1.1)\n",
    "    plt.scatter(theta_init, cost_bisquare(\n",
    "        theta_init, X, threshold), s=21, label='init')\n",
    "    plt.scatter(mm_iterates[-1], cost_bisquare(\n",
    "        mm_iterates[-1], X, threshold), s=41, label='MM', marker='d')\n",
    "    plt.scatter(scipy_sol, cost_bisquare(\n",
    "        scipy_sol, X, threshold), s=21, label='BFGS', marker='x')\n",
    "    plt.scatter(list_gd_iterate[-1], cost_bisquare(\n",
    "        list_gd_iterate[-1], X, threshold), s=41, label='GD', marker='+')\n",
    "\n",
    "    plt.legend()\n",
    "    figname = \"Bisquare1DLandscape\"\n",
    "    my_saving_display(fig1, dirname, figname, imageformat, saving)"
   ]
  },
  {
   "cell_type": "code",
   "execution_count": null,
   "metadata": {
    "collapsed": false
   },
   "outputs": [],
   "source": [
    "plt.figure()\n",
    "plt.title(\"Concavity of $f$ for the bi-square case\")\n",
    "y = 1 - (1 - np.abs(x / threshold))**3\n",
    "y[np.abs(x) > threshold] = 1\n",
    "plt.plot(x, y)"
   ]
  },
  {
   "cell_type": "code",
   "execution_count": null,
   "metadata": {
    "collapsed": true
   },
   "outputs": [],
   "source": [
    "# TODO movie for evolution of the objective function w.r.t. to threshold parameter\n",
    "# (to show interest of homotopy methods)"
   ]
  },
  {
   "cell_type": "code",
   "execution_count": null,
   "metadata": {
    "collapsed": true
   },
   "outputs": [],
   "source": []
  }
 ],
 "metadata": {
  "anaconda-cloud": {},
  "kernelspec": {
   "display_name": "Python 3",
   "language": "python",
   "name": "python3"
  },
  "language_info": {
   "codemirror_mode": {
    "name": "ipython",
    "version": 3
   },
   "file_extension": ".py",
   "mimetype": "text/x-python",
   "name": "python",
   "nbconvert_exporter": "python",
   "pygments_lexer": "ipython3",
   "version": "3.6.0"
  }
 },
 "nbformat": 4,
 "nbformat_minor": 2
}
