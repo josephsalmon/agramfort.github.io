{
 "cells": [
  {
   "cell_type": "code",
   "execution_count": null,
   "metadata": {
    "collapsed": false
   },
   "outputs": [],
   "source": [
    "# Author: Joseph Salmon <joseph.salmon@telecom-paristech.fr>\n",
    "#         Mathurin Massias <mathurin.massias@gmail.com>\n",
    "\n",
    "import numpy as np\n",
    "import seaborn as sns\n",
    "import matplotlib.pyplot as plt\n",
    "\n",
    "from sklearn.utils import check_random_state\n",
    "# make sure the share_code package has been installed \n",
    "# with `pip install -e .` at the root of the repo\n",
    "from share_code.utils import make_huber, my_saving_display\n",
    "\n",
    "sns.set_palette(\"colorblind\")\n",
    "%matplotlib inline "
   ]
  },
  {
   "cell_type": "code",
   "execution_count": null,
   "metadata": {
    "collapsed": true
   },
   "outputs": [],
   "source": [
    "dirname = \"../prebuiltimages/\"\n",
    "imageformat = \".pdf\"  # should be .pdf or .png    \n",
    "# some colors I'll use\n",
    "brown = (0.64, 0.16, 0.16)\n",
    "purple = (148. / 255, 0, 211. / 255)\n",
    "plt.close(\"all\")\n",
    "saving = False  # True"
   ]
  },
  {
   "cell_type": "code",
   "execution_count": null,
   "metadata": {
    "collapsed": true
   },
   "outputs": [],
   "source": [
    "color_blind_list = sns.color_palette(\"GnBu_d\", 8)\n",
    "c1 = color_blind_list[0]\n",
    "c2 = color_blind_list[1]\n",
    "c3 = color_blind_list[2]"
   ]
  },
  {
   "cell_type": "code",
   "execution_count": null,
   "metadata": {
    "collapsed": true
   },
   "outputs": [],
   "source": [
    "def gradient_descent(func, func_prime, steps, theta_init, n_iter=10):\n",
    "    if not isinstance(steps, np.ndarray):\n",
    "        steps = np.repeat(steps, n_iter)\n",
    "\n",
    "    theta_init = np.atleast_1d(theta_init).astype(np.float64)\n",
    "    all_thetas = np.zeros([n_iter, theta_init.shape[0]])\n",
    "\n",
    "    all_objs = np.zeros([n_iter])\n",
    "\n",
    "    theta = theta_init.copy()\n",
    "\n",
    "    for it in range(n_iter):\n",
    "        theta -= steps[it] * func_prime(theta)\n",
    "        all_thetas[it] = theta\n",
    "        all_objs[it] = func(theta)\n",
    "    return all_thetas, all_objs"
   ]
  },
  {
   "cell_type": "markdown",
   "metadata": {},
   "source": [
    "# Geometric Median case"
   ]
  },
  {
   "cell_type": "code",
   "execution_count": null,
   "metadata": {
    "collapsed": true
   },
   "outputs": [],
   "source": [
    "rng = check_random_state(24)\n",
    "n_samples, n_features = 5, 1\n",
    "\n",
    "X = rng.normal(0, 1, size=(n_samples, n_features))\n",
    "n_iter = 50\n",
    "theta_init = np.mean(X, axis=0)"
   ]
  },
  {
   "cell_type": "code",
   "execution_count": null,
   "metadata": {
    "collapsed": true
   },
   "outputs": [],
   "source": [
    "# thresh = 0.1\n",
    "thresh = 0.3\n",
    "\n",
    "huber, huber_prime = make_huber(thresh)\n",
    "\n",
    "def cost_median(theta):\n",
    "    return np.linalg.norm(X - theta[None, :], axis=1).sum()\n",
    "\n",
    "\n",
    "def cost_huber(theta):\n",
    "    cost = huber(X[:, 0] - theta).sum()\n",
    "    return cost\n",
    "\n",
    "\n",
    "def cost_huber_prime(theta):\n",
    "    return - huber_prime(X[:, 0] - theta).sum(axis=0)"
   ]
  },
  {
   "cell_type": "code",
   "execution_count": null,
   "metadata": {
    "collapsed": false
   },
   "outputs": [],
   "source": [
    "if n_features == 1:\n",
    "    fig1 = plt.figure(figsize=(15, 5))\n",
    "    plt.ioff()\n",
    "    x_plot = np.linspace(X.min() - 0.5, X.max() + 0.5, 1000)\n",
    "    plt.plot(x_plot, [cost_median(theta) for theta in x_plot[:, None]])\n",
    "    plt.plot(x_plot, [cost_huber(theta) for theta in x_plot[:, None]])\n",
    "    plt.xlabel(r\"$\\theta$\")\n",
    "    plt.ylabel(r\"$f(\\theta)$\")\n",
    "    ymin = plt.ylim()[0]\n",
    "    for x in X:\n",
    "        plt.vlines(x, ymin=ymin, ymax=cost_median(x), linestyle='--', linewidth=1)\n",
    "    #plt.scatter(X[:, 0], [cost_median(x, X) for x in X], marker='x')\n",
    "    plt.show()\n",
    "\n",
    "figname = \"Smoothing4Median_visu\"\n",
    "my_saving_display(fig1, dirname, figname, imageformat, saving)"
   ]
  },
  {
   "cell_type": "code",
   "execution_count": null,
   "metadata": {
    "collapsed": true
   },
   "outputs": [],
   "source": [
    "theta = np.array([1.])\n",
    "# return huber_prime(norm_X_m_theta).sum(axis=0)"
   ]
  },
  {
   "cell_type": "code",
   "execution_count": null,
   "metadata": {
    "collapsed": false
   },
   "outputs": [],
   "source": [
    "from scipy.optimize import minimize\n",
    "\n",
    "# numerical minimization of the cost function, starting with the mean of the dataset:\n",
    "opt_result = minimize(cost_median, x0=theta_init, method='BFGS')\n",
    "true_median = opt_result[\"x\"]\n",
    "cost_min = cost_median(true_median)\n",
    "print(\"scipy's solution: \", true_median)\n",
    "print(\"scipy's objective: \", cost_min)\n"
   ]
  },
  {
   "cell_type": "code",
   "execution_count": null,
   "metadata": {
    "collapsed": false
   },
   "outputs": [],
   "source": [
    "L_const = 1. / thresh * n_samples\n",
    "print(\"Rough Lipschitz constant: %.3f\" % L_const)\n",
    "\n",
    "list_gd_smooth, _ = gradient_descent(cost_huber, cost_huber_prime, steps=1. / L_const, theta_init=theta_init, n_iter=100)"
   ]
  },
  {
   "cell_type": "code",
   "execution_count": null,
   "metadata": {
    "collapsed": false
   },
   "outputs": [],
   "source": [
    "list_gd_smooth_obj=[cost_median(iterate) for iterate in list_gd_smooth]\n",
    "\n",
    "\n",
    "fig1=plt.figure(figsize=(7,7))\n",
    "\n",
    "plt.semilogy(list_gd_smooth_obj - cost_median(np.array([np.median(X)])),\n",
    "             label=r\"GD $\\alpha={:.2f}$\".format(thresh))\n",
    "plt.xlabel(\"Number of epochs\")\n",
    "plt.ylabel(r\"$f(\\theta) -f(\\theta^{\\star})$\")\n",
    "plt.legend()\n",
    "\n",
    "figname = \"Smoothing4Median\"\n",
    "my_saving_display(fig1, dirname, figname, imageformat, saving)"
   ]
  },
  {
   "cell_type": "code",
   "execution_count": null,
   "metadata": {
    "collapsed": false
   },
   "outputs": [],
   "source": [
    "print(\"%.15f\" % cost_min)"
   ]
  },
  {
   "cell_type": "code",
   "execution_count": null,
   "metadata": {
    "collapsed": false
   },
   "outputs": [],
   "source": [
    "print(\"%.15f\" % cost_median(np.array([np.median(X)])))"
   ]
  }
 ],
 "metadata": {
  "anaconda-cloud": {},
  "kernelspec": {
   "display_name": "Python 3",
   "language": "python",
   "name": "python3"
  },
  "language_info": {
   "codemirror_mode": {
    "name": "ipython",
    "version": 3
   },
   "file_extension": ".py",
   "mimetype": "text/x-python",
   "name": "python",
   "nbconvert_exporter": "python",
   "pygments_lexer": "ipython3",
   "version": "3.6.0"
  }
 },
 "nbformat": 4,
 "nbformat_minor": 2
}
